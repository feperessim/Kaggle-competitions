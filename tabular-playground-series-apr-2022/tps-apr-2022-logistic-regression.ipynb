{
 "cells": [
  {
   "cell_type": "code",
   "execution_count": 1,
   "id": "947696c8",
   "metadata": {
    "_cell_guid": "b1076dfc-b9ad-4769-8c92-a6c4dae69d19",
    "_uuid": "8f2839f25d086af736a60e9eeb907d3b93b6e0e5",
    "execution": {
     "iopub.execute_input": "2022-04-26T01:22:33.749898Z",
     "iopub.status.busy": "2022-04-26T01:22:33.749362Z",
     "iopub.status.idle": "2022-04-26T01:22:35.040461Z",
     "shell.execute_reply": "2022-04-26T01:22:35.039420Z"
    },
    "papermill": {
     "duration": 1.311562,
     "end_time": "2022-04-26T01:22:35.043711",
     "exception": false,
     "start_time": "2022-04-26T01:22:33.732149",
     "status": "completed"
    },
    "tags": []
   },
   "outputs": [
    {
     "name": "stdout",
     "output_type": "stream",
     "text": [
      "/kaggle/input/tabular-playground-series-apr-2022/sample_submission.csv\n",
      "/kaggle/input/tabular-playground-series-apr-2022/train_labels.csv\n",
      "/kaggle/input/tabular-playground-series-apr-2022/train.csv\n",
      "/kaggle/input/tabular-playground-series-apr-2022/test.csv\n"
     ]
    }
   ],
   "source": [
    "import numpy as np\n",
    "import pandas as pd\n",
    "\n",
    "from sklearn.model_selection import train_test_split\n",
    "from sklearn.preprocessing import StandardScaler\n",
    "from sklearn.linear_model import LogisticRegression\n",
    "from sklearn.metrics import roc_auc_score\n",
    "\n",
    "import os\n",
    "for dirname, _, filenames in os.walk('/kaggle/input'):\n",
    "    for filename in filenames:\n",
    "        print(os.path.join(dirname, filename))\n",
    "        \n",
    "seed = 47       "
   ]
  },
  {
   "cell_type": "code",
   "execution_count": 2,
   "id": "35dab944",
   "metadata": {
    "execution": {
     "iopub.execute_input": "2022-04-26T01:22:35.075597Z",
     "iopub.status.busy": "2022-04-26T01:22:35.075293Z",
     "iopub.status.idle": "2022-04-26T01:22:35.079984Z",
     "shell.execute_reply": "2022-04-26T01:22:35.079161Z"
    },
    "papermill": {
     "duration": 0.02221,
     "end_time": "2022-04-26T01:22:35.081764",
     "exception": false,
     "start_time": "2022-04-26T01:22:35.059554",
     "status": "completed"
    },
    "tags": []
   },
   "outputs": [],
   "source": [
    "def evaluate_model(model, x, y):\n",
    "    y_pred_prob = model.predict_proba(x)[:, 1]\n",
    "    auc_roc = roc_auc_score(y, y_pred_prob)\n",
    "    return {'auc_roc_curve' : auc_roc}"
   ]
  },
  {
   "cell_type": "markdown",
   "id": "d1cb5ab8",
   "metadata": {
    "papermill": {
     "duration": 0.013442,
     "end_time": "2022-04-26T01:22:35.109090",
     "exception": false,
     "start_time": "2022-04-26T01:22:35.095648",
     "status": "completed"
    },
    "tags": []
   },
   "source": [
    "# Tabular Playground Series - Apr 2022 - Logistic Regression"
   ]
  },
  {
   "cell_type": "code",
   "execution_count": 3,
   "id": "1ab3278c",
   "metadata": {
    "execution": {
     "iopub.execute_input": "2022-04-26T01:22:35.138789Z",
     "iopub.status.busy": "2022-04-26T01:22:35.137831Z",
     "iopub.status.idle": "2022-04-26T01:22:44.440823Z",
     "shell.execute_reply": "2022-04-26T01:22:44.439929Z"
    },
    "papermill": {
     "duration": 9.32105,
     "end_time": "2022-04-26T01:22:44.443865",
     "exception": false,
     "start_time": "2022-04-26T01:22:35.122815",
     "status": "completed"
    },
    "tags": []
   },
   "outputs": [],
   "source": [
    "train_df =  pd.read_csv('/kaggle/input/tabular-playground-series-apr-2022/train.csv')\n",
    "labels_df = pd.read_csv('/kaggle/input/tabular-playground-series-apr-2022/train_labels.csv')"
   ]
  },
  {
   "cell_type": "code",
   "execution_count": 4,
   "id": "95e60827",
   "metadata": {
    "execution": {
     "iopub.execute_input": "2022-04-26T01:22:44.473696Z",
     "iopub.status.busy": "2022-04-26T01:22:44.473358Z",
     "iopub.status.idle": "2022-04-26T01:22:44.787547Z",
     "shell.execute_reply": "2022-04-26T01:22:44.786310Z"
    },
    "papermill": {
     "duration": 0.332415,
     "end_time": "2022-04-26T01:22:44.790439",
     "exception": false,
     "start_time": "2022-04-26T01:22:44.458024",
     "status": "completed"
    },
    "tags": []
   },
   "outputs": [],
   "source": [
    "train_df.drop(['subject', 'step'], axis=1, inplace=True)\n",
    "train_df = train_df.groupby(['sequence']).mean()\n",
    "train_df = train_df.join(labels_df.set_index('sequence'), on='sequence')\n",
    "y_train = train_df.pop('state').values\n",
    "x_train = train_df.values"
   ]
  },
  {
   "cell_type": "code",
   "execution_count": 5,
   "id": "c717d5f5",
   "metadata": {
    "execution": {
     "iopub.execute_input": "2022-04-26T01:22:44.821154Z",
     "iopub.status.busy": "2022-04-26T01:22:44.820809Z",
     "iopub.status.idle": "2022-04-26T01:22:44.828028Z",
     "shell.execute_reply": "2022-04-26T01:22:44.827081Z"
    },
    "papermill": {
     "duration": 0.025157,
     "end_time": "2022-04-26T01:22:44.830324",
     "exception": false,
     "start_time": "2022-04-26T01:22:44.805167",
     "status": "completed"
    },
    "tags": []
   },
   "outputs": [],
   "source": [
    "x_train, x_test, y_train, y_test = train_test_split(x_train, y_train, test_size=0.2, random_state=seed, shuffle=False)"
   ]
  },
  {
   "cell_type": "code",
   "execution_count": 6,
   "id": "7eafd90d",
   "metadata": {
    "execution": {
     "iopub.execute_input": "2022-04-26T01:22:44.860337Z",
     "iopub.status.busy": "2022-04-26T01:22:44.859472Z",
     "iopub.status.idle": "2022-04-26T01:22:44.871630Z",
     "shell.execute_reply": "2022-04-26T01:22:44.870877Z"
    },
    "papermill": {
     "duration": 0.029859,
     "end_time": "2022-04-26T01:22:44.874092",
     "exception": false,
     "start_time": "2022-04-26T01:22:44.844233",
     "status": "completed"
    },
    "tags": []
   },
   "outputs": [],
   "source": [
    "sc = StandardScaler()\n",
    "\n",
    "x_train = sc.fit_transform(x_train)\n",
    "x_test = sc.transform(x_test)"
   ]
  },
  {
   "cell_type": "code",
   "execution_count": 7,
   "id": "0177797d",
   "metadata": {
    "execution": {
     "iopub.execute_input": "2022-04-26T01:22:44.903719Z",
     "iopub.status.busy": "2022-04-26T01:22:44.903263Z",
     "iopub.status.idle": "2022-04-26T01:22:44.963934Z",
     "shell.execute_reply": "2022-04-26T01:22:44.963041Z"
    },
    "papermill": {
     "duration": 0.079466,
     "end_time": "2022-04-26T01:22:44.967478",
     "exception": false,
     "start_time": "2022-04-26T01:22:44.888012",
     "status": "completed"
    },
    "tags": []
   },
   "outputs": [
    {
     "name": "stdout",
     "output_type": "stream",
     "text": [
      "Fitting a simple Logistic Regression model\n",
      "{'auc_roc_curve': 0.5791193319775774}\n"
     ]
    }
   ],
   "source": [
    "print(\"Fitting a simple Logistic Regression model\")\n",
    "model = LogisticRegression(random_state=seed, solver='liblinear')\n",
    "model.fit(x_train, y_train)\n",
    "model.score(x_test, y_test)\n",
    "results = evaluate_model(model, x_test, y_test)\n",
    "print(results)"
   ]
  },
  {
   "cell_type": "markdown",
   "id": "80e81f76",
   "metadata": {
    "papermill": {
     "duration": 0.025488,
     "end_time": "2022-04-26T01:22:45.018793",
     "exception": false,
     "start_time": "2022-04-26T01:22:44.993305",
     "status": "completed"
    },
    "tags": []
   },
   "source": [
    "<h3>Submission</h3>\n"
   ]
  },
  {
   "cell_type": "code",
   "execution_count": 8,
   "id": "2665316f",
   "metadata": {
    "execution": {
     "iopub.execute_input": "2022-04-26T01:22:45.075156Z",
     "iopub.status.busy": "2022-04-26T01:22:45.074613Z",
     "iopub.status.idle": "2022-04-26T01:22:49.693649Z",
     "shell.execute_reply": "2022-04-26T01:22:49.692912Z"
    },
    "papermill": {
     "duration": 4.649265,
     "end_time": "2022-04-26T01:22:49.696074",
     "exception": false,
     "start_time": "2022-04-26T01:22:45.046809",
     "status": "completed"
    },
    "tags": []
   },
   "outputs": [],
   "source": [
    "test_df =  pd.read_csv('/kaggle/input/tabular-playground-series-apr-2022/test.csv')\n",
    "test_df.drop(['subject', 'step'], axis=1, inplace=True)\n",
    "test_df = test_df.groupby(['sequence']).mean()\n",
    "x_test = sc.transform(test_df.values)"
   ]
  },
  {
   "cell_type": "code",
   "execution_count": 9,
   "id": "da797ef7",
   "metadata": {
    "execution": {
     "iopub.execute_input": "2022-04-26T01:22:49.726348Z",
     "iopub.status.busy": "2022-04-26T01:22:49.725808Z",
     "iopub.status.idle": "2022-04-26T01:22:49.770489Z",
     "shell.execute_reply": "2022-04-26T01:22:49.769598Z"
    },
    "papermill": {
     "duration": 0.064849,
     "end_time": "2022-04-26T01:22:49.775017",
     "exception": false,
     "start_time": "2022-04-26T01:22:49.710168",
     "status": "completed"
    },
    "tags": []
   },
   "outputs": [
    {
     "data": {
      "text/html": [
       "<div>\n",
       "<style scoped>\n",
       "    .dataframe tbody tr th:only-of-type {\n",
       "        vertical-align: middle;\n",
       "    }\n",
       "\n",
       "    .dataframe tbody tr th {\n",
       "        vertical-align: top;\n",
       "    }\n",
       "\n",
       "    .dataframe thead th {\n",
       "        text-align: right;\n",
       "    }\n",
       "</style>\n",
       "<table border=\"1\" class=\"dataframe\">\n",
       "  <thead>\n",
       "    <tr style=\"text-align: right;\">\n",
       "      <th></th>\n",
       "      <th>sequence</th>\n",
       "      <th>state</th>\n",
       "    </tr>\n",
       "    <tr>\n",
       "      <th>sequence</th>\n",
       "      <th></th>\n",
       "      <th></th>\n",
       "    </tr>\n",
       "  </thead>\n",
       "  <tbody>\n",
       "    <tr>\n",
       "      <th>25968</th>\n",
       "      <td>25968</td>\n",
       "      <td>0.572531</td>\n",
       "    </tr>\n",
       "    <tr>\n",
       "      <th>25969</th>\n",
       "      <td>25969</td>\n",
       "      <td>0.528035</td>\n",
       "    </tr>\n",
       "    <tr>\n",
       "      <th>25970</th>\n",
       "      <td>25970</td>\n",
       "      <td>0.483990</td>\n",
       "    </tr>\n",
       "    <tr>\n",
       "      <th>25971</th>\n",
       "      <td>25971</td>\n",
       "      <td>0.498171</td>\n",
       "    </tr>\n",
       "    <tr>\n",
       "      <th>25972</th>\n",
       "      <td>25972</td>\n",
       "      <td>0.601836</td>\n",
       "    </tr>\n",
       "  </tbody>\n",
       "</table>\n",
       "</div>"
      ],
      "text/plain": [
       "          sequence     state\n",
       "sequence                    \n",
       "25968        25968  0.572531\n",
       "25969        25969  0.528035\n",
       "25970        25970  0.483990\n",
       "25971        25971  0.498171\n",
       "25972        25972  0.601836"
      ]
     },
     "execution_count": 9,
     "metadata": {},
     "output_type": "execute_result"
    }
   ],
   "source": [
    "submission_df = pd.read_csv('/kaggle/input/tabular-playground-series-apr-2022/sample_submission.csv')\n",
    "state = model.predict_proba(x_test)[:, 1]\n",
    "sequence = submission_df['sequence'].values.squeeze()\n",
    "submission_df = pd.DataFrame({'sequence': sequence,'state': state}, index=test_df.index)\n",
    "submission_df.head()"
   ]
  },
  {
   "cell_type": "code",
   "execution_count": 10,
   "id": "9e1ad4f4",
   "metadata": {
    "execution": {
     "iopub.execute_input": "2022-04-26T01:22:49.831645Z",
     "iopub.status.busy": "2022-04-26T01:22:49.831178Z",
     "iopub.status.idle": "2022-04-26T01:22:49.894828Z",
     "shell.execute_reply": "2022-04-26T01:22:49.893732Z"
    },
    "papermill": {
     "duration": 0.095804,
     "end_time": "2022-04-26T01:22:49.897438",
     "exception": false,
     "start_time": "2022-04-26T01:22:49.801634",
     "status": "completed"
    },
    "tags": []
   },
   "outputs": [],
   "source": [
    "submission_df.to_csv('submission.csv', index=False)"
   ]
  },
  {
   "cell_type": "code",
   "execution_count": null,
   "id": "f6c03a3b",
   "metadata": {
    "papermill": {
     "duration": 0.014219,
     "end_time": "2022-04-26T01:22:49.926350",
     "exception": false,
     "start_time": "2022-04-26T01:22:49.912131",
     "status": "completed"
    },
    "tags": []
   },
   "outputs": [],
   "source": []
  }
 ],
 "metadata": {
  "kernelspec": {
   "display_name": "Python 3",
   "language": "python",
   "name": "python3"
  },
  "language_info": {
   "codemirror_mode": {
    "name": "ipython",
    "version": 3
   },
   "file_extension": ".py",
   "mimetype": "text/x-python",
   "name": "python",
   "nbconvert_exporter": "python",
   "pygments_lexer": "ipython3",
   "version": "3.7.12"
  },
  "papermill": {
   "default_parameters": {},
   "duration": 27.642425,
   "end_time": "2022-04-26T01:22:50.964428",
   "environment_variables": {},
   "exception": null,
   "input_path": "__notebook__.ipynb",
   "output_path": "__notebook__.ipynb",
   "parameters": {},
   "start_time": "2022-04-26T01:22:23.322003",
   "version": "2.3.4"
  }
 },
 "nbformat": 4,
 "nbformat_minor": 5
}
