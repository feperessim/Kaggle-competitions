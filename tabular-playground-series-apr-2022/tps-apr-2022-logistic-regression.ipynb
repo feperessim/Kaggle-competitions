{
 "cells": [
  {
   "cell_type": "code",
   "execution_count": 1,
   "id": "9aed5b76",
   "metadata": {
    "_cell_guid": "b1076dfc-b9ad-4769-8c92-a6c4dae69d19",
    "_uuid": "8f2839f25d086af736a60e9eeb907d3b93b6e0e5",
    "execution": {
     "iopub.execute_input": "2022-04-25T21:09:07.160667Z",
     "iopub.status.busy": "2022-04-25T21:09:07.159740Z",
     "iopub.status.idle": "2022-04-25T21:09:08.407377Z",
     "shell.execute_reply": "2022-04-25T21:09:08.406088Z"
    },
    "papermill": {
     "duration": 1.272175,
     "end_time": "2022-04-25T21:09:08.410077",
     "exception": false,
     "start_time": "2022-04-25T21:09:07.137902",
     "status": "completed"
    },
    "tags": []
   },
   "outputs": [
    {
     "name": "stdout",
     "output_type": "stream",
     "text": [
      "/kaggle/input/tabular-playground-series-apr-2022/sample_submission.csv\n",
      "/kaggle/input/tabular-playground-series-apr-2022/train_labels.csv\n",
      "/kaggle/input/tabular-playground-series-apr-2022/train.csv\n",
      "/kaggle/input/tabular-playground-series-apr-2022/test.csv\n"
     ]
    }
   ],
   "source": [
    "import numpy as np\n",
    "import pandas as pd\n",
    "\n",
    "from sklearn.model_selection import train_test_split\n",
    "from sklearn.preprocessing import StandardScaler\n",
    "from sklearn.linear_model import LogisticRegression\n",
    "from sklearn.metrics import roc_auc_score\n",
    "\n",
    "import os\n",
    "for dirname, _, filenames in os.walk('/kaggle/input'):\n",
    "    for filename in filenames:\n",
    "        print(os.path.join(dirname, filename))\n",
    "        \n",
    "seed = 47       "
   ]
  },
  {
   "cell_type": "code",
   "execution_count": 2,
   "id": "42860c70",
   "metadata": {
    "execution": {
     "iopub.execute_input": "2022-04-25T21:09:08.452842Z",
     "iopub.status.busy": "2022-04-25T21:09:08.452243Z",
     "iopub.status.idle": "2022-04-25T21:09:08.456669Z",
     "shell.execute_reply": "2022-04-25T21:09:08.456208Z"
    },
    "papermill": {
     "duration": 0.027683,
     "end_time": "2022-04-25T21:09:08.458647",
     "exception": false,
     "start_time": "2022-04-25T21:09:08.430964",
     "status": "completed"
    },
    "tags": []
   },
   "outputs": [],
   "source": [
    "def evaluate_model(model, x, y):\n",
    "    y_pred_prob = model.predict_proba(x)[:, 1]\n",
    "    auc_roc = roc_auc_score(y, y_pred_prob)\n",
    "    return {'auc_roc_curve' : auc_roc}"
   ]
  },
  {
   "cell_type": "markdown",
   "id": "5e70c72e",
   "metadata": {
    "papermill": {
     "duration": 0.019744,
     "end_time": "2022-04-25T21:09:08.498547",
     "exception": false,
     "start_time": "2022-04-25T21:09:08.478803",
     "status": "completed"
    },
    "tags": []
   },
   "source": [
    "# Tabular Playground Series - Apr 2022 - Logistic Regression"
   ]
  },
  {
   "cell_type": "code",
   "execution_count": 3,
   "id": "99da7ab6",
   "metadata": {
    "execution": {
     "iopub.execute_input": "2022-04-25T21:09:08.540858Z",
     "iopub.status.busy": "2022-04-25T21:09:08.540213Z",
     "iopub.status.idle": "2022-04-25T21:09:18.970036Z",
     "shell.execute_reply": "2022-04-25T21:09:18.969242Z"
    },
    "papermill": {
     "duration": 10.453076,
     "end_time": "2022-04-25T21:09:18.972180",
     "exception": false,
     "start_time": "2022-04-25T21:09:08.519104",
     "status": "completed"
    },
    "tags": []
   },
   "outputs": [],
   "source": [
    "train_df =  pd.read_csv('/kaggle/input/tabular-playground-series-apr-2022/train.csv')\n",
    "labels_df = pd.read_csv('/kaggle/input/tabular-playground-series-apr-2022/train_labels.csv')"
   ]
  },
  {
   "cell_type": "code",
   "execution_count": 4,
   "id": "806faa3d",
   "metadata": {
    "execution": {
     "iopub.execute_input": "2022-04-25T21:09:19.013874Z",
     "iopub.status.busy": "2022-04-25T21:09:19.013488Z",
     "iopub.status.idle": "2022-04-25T21:09:19.165304Z",
     "shell.execute_reply": "2022-04-25T21:09:19.164376Z"
    },
    "papermill": {
     "duration": 0.174871,
     "end_time": "2022-04-25T21:09:19.167364",
     "exception": false,
     "start_time": "2022-04-25T21:09:18.992493",
     "status": "completed"
    },
    "tags": []
   },
   "outputs": [],
   "source": [
    "train_df.drop(['subject', 'step'], axis=1, inplace=True)\n",
    "train_df = train_df.groupby(['sequence']).mean()\n",
    "train_df = train_df.join(labels_df.set_index('sequence'), on='sequence')"
   ]
  },
  {
   "cell_type": "code",
   "execution_count": 5,
   "id": "0c58fa81",
   "metadata": {
    "execution": {
     "iopub.execute_input": "2022-04-25T21:09:19.195633Z",
     "iopub.status.busy": "2022-04-25T21:09:19.195365Z",
     "iopub.status.idle": "2022-04-25T21:09:19.201633Z",
     "shell.execute_reply": "2022-04-25T21:09:19.200389Z"
    },
    "papermill": {
     "duration": 0.023605,
     "end_time": "2022-04-25T21:09:19.204430",
     "exception": false,
     "start_time": "2022-04-25T21:09:19.180825",
     "status": "completed"
    },
    "tags": []
   },
   "outputs": [],
   "source": [
    "y_train = train_df.pop('state').values\n",
    "x_train = train_df.values"
   ]
  },
  {
   "cell_type": "code",
   "execution_count": 6,
   "id": "a5eb8cd8",
   "metadata": {
    "execution": {
     "iopub.execute_input": "2022-04-25T21:09:19.245879Z",
     "iopub.status.busy": "2022-04-25T21:09:19.245602Z",
     "iopub.status.idle": "2022-04-25T21:09:19.252105Z",
     "shell.execute_reply": "2022-04-25T21:09:19.251085Z"
    },
    "papermill": {
     "duration": 0.03053,
     "end_time": "2022-04-25T21:09:19.254689",
     "exception": false,
     "start_time": "2022-04-25T21:09:19.224159",
     "status": "completed"
    },
    "tags": []
   },
   "outputs": [],
   "source": [
    "x_train, x_test, y_train, y_test = train_test_split(x_train, y_train, test_size=0.2, random_state=seed, shuffle=False)"
   ]
  },
  {
   "cell_type": "code",
   "execution_count": 7,
   "id": "cee08208",
   "metadata": {
    "execution": {
     "iopub.execute_input": "2022-04-25T21:09:19.297052Z",
     "iopub.status.busy": "2022-04-25T21:09:19.296768Z",
     "iopub.status.idle": "2022-04-25T21:09:19.308937Z",
     "shell.execute_reply": "2022-04-25T21:09:19.307808Z"
    },
    "papermill": {
     "duration": 0.036302,
     "end_time": "2022-04-25T21:09:19.311436",
     "exception": false,
     "start_time": "2022-04-25T21:09:19.275134",
     "status": "completed"
    },
    "tags": []
   },
   "outputs": [],
   "source": [
    "sc = StandardScaler()\n",
    "\n",
    "x_train = sc.fit_transform(x_train)\n",
    "x_test = sc.transform(x_test)"
   ]
  },
  {
   "cell_type": "code",
   "execution_count": 8,
   "id": "e30c2aa9",
   "metadata": {
    "execution": {
     "iopub.execute_input": "2022-04-25T21:09:19.352769Z",
     "iopub.status.busy": "2022-04-25T21:09:19.352289Z",
     "iopub.status.idle": "2022-04-25T21:09:19.413303Z",
     "shell.execute_reply": "2022-04-25T21:09:19.411975Z"
    },
    "papermill": {
     "duration": 0.084516,
     "end_time": "2022-04-25T21:09:19.415761",
     "exception": false,
     "start_time": "2022-04-25T21:09:19.331245",
     "status": "completed"
    },
    "tags": []
   },
   "outputs": [
    {
     "name": "stdout",
     "output_type": "stream",
     "text": [
      "Fitting a simple Logistic Regression model\n",
      "{'auc_roc_curve': 0.5791193319775774}\n"
     ]
    }
   ],
   "source": [
    "print(\"Fitting a simple Logistic Regression model\")\n",
    "model = LogisticRegression(random_state=seed, solver='liblinear')\n",
    "model.fit(x_train, y_train)\n",
    "model.score(x_test, y_test)\n",
    "results = evaluate_model(model, x_test, y_test)\n",
    "print(results)"
   ]
  },
  {
   "cell_type": "markdown",
   "id": "7e87e564",
   "metadata": {
    "papermill": {
     "duration": 0.023374,
     "end_time": "2022-04-25T21:09:19.462544",
     "exception": false,
     "start_time": "2022-04-25T21:09:19.439170",
     "status": "completed"
    },
    "tags": []
   },
   "source": [
    "<h3>Submission</h3>\n"
   ]
  },
  {
   "cell_type": "code",
   "execution_count": 9,
   "id": "2d7d7c4b",
   "metadata": {
    "execution": {
     "iopub.execute_input": "2022-04-25T21:09:19.511150Z",
     "iopub.status.busy": "2022-04-25T21:09:19.510889Z",
     "iopub.status.idle": "2022-04-25T21:09:24.022148Z",
     "shell.execute_reply": "2022-04-25T21:09:24.021604Z"
    },
    "papermill": {
     "duration": 4.538213,
     "end_time": "2022-04-25T21:09:24.024443",
     "exception": false,
     "start_time": "2022-04-25T21:09:19.486230",
     "status": "completed"
    },
    "tags": []
   },
   "outputs": [],
   "source": [
    "test_df =  pd.read_csv('/kaggle/input/tabular-playground-series-apr-2022/test.csv')\n",
    "test_df.drop(['subject', 'step'], axis=1, inplace=True)\n",
    "test_df = test_df.groupby(['sequence']).mean()\n",
    "x_test = sc.transform(test_df.values)"
   ]
  },
  {
   "cell_type": "code",
   "execution_count": 10,
   "id": "05814502",
   "metadata": {
    "execution": {
     "iopub.execute_input": "2022-04-25T21:09:24.059338Z",
     "iopub.status.busy": "2022-04-25T21:09:24.059059Z",
     "iopub.status.idle": "2022-04-25T21:09:24.169214Z",
     "shell.execute_reply": "2022-04-25T21:09:24.167837Z"
    },
    "papermill": {
     "duration": 0.125778,
     "end_time": "2022-04-25T21:09:24.170658",
     "exception": true,
     "start_time": "2022-04-25T21:09:24.044880",
     "status": "failed"
    },
    "tags": []
   },
   "outputs": [
    {
     "ename": "NameError",
     "evalue": "name 'result_df' is not defined",
     "output_type": "error",
     "traceback": [
      "\u001b[0;31m---------------------------------------------------------------------------\u001b[0m",
      "\u001b[0;31mNameError\u001b[0m                                 Traceback (most recent call last)",
      "\u001b[0;32m/tmp/ipykernel_19/3542151632.py\u001b[0m in \u001b[0;36m<module>\u001b[0;34m\u001b[0m\n\u001b[0;32m----> 1\u001b[0;31m \u001b[0mresult_df\u001b[0m\u001b[0;34m\u001b[0m\u001b[0;34m\u001b[0m\u001b[0m\n\u001b[0m",
      "\u001b[0;31mNameError\u001b[0m: name 'result_df' is not defined"
     ]
    }
   ],
   "source": [
    "result_df"
   ]
  },
  {
   "cell_type": "code",
   "execution_count": null,
   "id": "3b57b92c",
   "metadata": {
    "execution": {
     "iopub.execute_input": "2022-04-25T20:57:42.962230Z",
     "iopub.status.busy": "2022-04-25T20:57:42.961254Z",
     "iopub.status.idle": "2022-04-25T20:57:42.974266Z",
     "shell.execute_reply": "2022-04-25T20:57:42.973193Z",
     "shell.execute_reply.started": "2022-04-25T20:57:42.962185Z"
    },
    "papermill": {
     "duration": null,
     "end_time": null,
     "exception": null,
     "start_time": null,
     "status": "pending"
    },
    "tags": []
   },
   "outputs": [],
   "source": [
    "submission_df"
   ]
  },
  {
   "cell_type": "code",
   "execution_count": null,
   "id": "cfc752f4",
   "metadata": {
    "execution": {
     "iopub.execute_input": "2022-04-25T21:05:44.727911Z",
     "iopub.status.busy": "2022-04-25T21:05:44.727610Z",
     "iopub.status.idle": "2022-04-25T21:05:44.755618Z",
     "shell.execute_reply": "2022-04-25T21:05:44.754756Z",
     "shell.execute_reply.started": "2022-04-25T21:05:44.727880Z"
    },
    "papermill": {
     "duration": null,
     "end_time": null,
     "exception": null,
     "start_time": null,
     "status": "pending"
    },
    "tags": []
   },
   "outputs": [],
   "source": [
    "submission_df = pd.read_csv('/kaggle/input/tabular-playground-series-apr-2022/sample_submission.csv')\n",
    "target = model.predict_proba(x_test)[:, 1]\n",
    "\n",
    "sequence = submission_df['sequence'].values.squeeze()\n",
    "state = result_df.loc[submission_df['sequence']].values.squeeze()\n",
    "submission_df = pd.DataFrame({'sequence': sequence,'state': state}, index=test_df.index)\n",
    "submission_df.head()"
   ]
  },
  {
   "cell_type": "code",
   "execution_count": null,
   "id": "5018eea0",
   "metadata": {
    "execution": {
     "iopub.execute_input": "2022-04-25T21:07:07.456718Z",
     "iopub.status.busy": "2022-04-25T21:07:07.456068Z",
     "iopub.status.idle": "2022-04-25T21:07:07.505045Z",
     "shell.execute_reply": "2022-04-25T21:07:07.504113Z",
     "shell.execute_reply.started": "2022-04-25T21:07:07.456682Z"
    },
    "papermill": {
     "duration": null,
     "end_time": null,
     "exception": null,
     "start_time": null,
     "status": "pending"
    },
    "tags": []
   },
   "outputs": [],
   "source": [
    "submission_df.to_csv('submission.csv', index=False)"
   ]
  },
  {
   "cell_type": "code",
   "execution_count": null,
   "id": "ff8d1ae4",
   "metadata": {
    "papermill": {
     "duration": null,
     "end_time": null,
     "exception": null,
     "start_time": null,
     "status": "pending"
    },
    "tags": []
   },
   "outputs": [],
   "source": []
  }
 ],
 "metadata": {
  "kernelspec": {
   "display_name": "Python 3",
   "language": "python",
   "name": "python3"
  },
  "language_info": {
   "codemirror_mode": {
    "name": "ipython",
    "version": 3
   },
   "file_extension": ".py",
   "mimetype": "text/x-python",
   "name": "python",
   "nbconvert_exporter": "python",
   "pygments_lexer": "ipython3",
   "version": "3.7.12"
  },
  "papermill": {
   "default_parameters": {},
   "duration": 28.975218,
   "end_time": "2022-04-25T21:09:25.106184",
   "environment_variables": {},
   "exception": true,
   "input_path": "__notebook__.ipynb",
   "output_path": "__notebook__.ipynb",
   "parameters": {},
   "start_time": "2022-04-25T21:08:56.130966",
   "version": "2.3.4"
  }
 },
 "nbformat": 4,
 "nbformat_minor": 5
}
