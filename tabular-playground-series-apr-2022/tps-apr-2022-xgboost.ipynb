{
 "cells": [
  {
   "cell_type": "code",
   "execution_count": 1,
   "id": "ddba381c",
   "metadata": {
    "_cell_guid": "b1076dfc-b9ad-4769-8c92-a6c4dae69d19",
    "_uuid": "8f2839f25d086af736a60e9eeb907d3b93b6e0e5",
    "execution": {
     "iopub.execute_input": "2022-04-26T02:10:38.225417Z",
     "iopub.status.busy": "2022-04-26T02:10:38.224988Z",
     "iopub.status.idle": "2022-04-26T02:10:39.238856Z",
     "shell.execute_reply": "2022-04-26T02:10:39.236979Z"
    },
    "papermill": {
     "duration": 1.036826,
     "end_time": "2022-04-26T02:10:39.241332",
     "exception": false,
     "start_time": "2022-04-26T02:10:38.204506",
     "status": "completed"
    },
    "tags": []
   },
   "outputs": [
    {
     "name": "stdout",
     "output_type": "stream",
     "text": [
      "/kaggle/input/tabular-playground-series-apr-2022/sample_submission.csv\n",
      "/kaggle/input/tabular-playground-series-apr-2022/train_labels.csv\n",
      "/kaggle/input/tabular-playground-series-apr-2022/train.csv\n",
      "/kaggle/input/tabular-playground-series-apr-2022/test.csv\n"
     ]
    }
   ],
   "source": [
    "import numpy as np\n",
    "import pandas as pd\n",
    "\n",
    "from sklearn.model_selection import train_test_split\n",
    "from sklearn.preprocessing import StandardScaler\n",
    "from sklearn.metrics import roc_auc_score\n",
    "\n",
    "from xgboost import XGBClassifier\n",
    "\n",
    "import os\n",
    "for dirname, _, filenames in os.walk('/kaggle/input'):\n",
    "    for filename in filenames:\n",
    "        print(os.path.join(dirname, filename))\n",
    "        \n",
    "seed = 47"
   ]
  },
  {
   "cell_type": "code",
   "execution_count": 2,
   "id": "afb8b6ba",
   "metadata": {
    "execution": {
     "iopub.execute_input": "2022-04-26T02:10:39.266311Z",
     "iopub.status.busy": "2022-04-26T02:10:39.266117Z",
     "iopub.status.idle": "2022-04-26T02:10:39.270149Z",
     "shell.execute_reply": "2022-04-26T02:10:39.269370Z"
    },
    "papermill": {
     "duration": 0.018075,
     "end_time": "2022-04-26T02:10:39.272051",
     "exception": false,
     "start_time": "2022-04-26T02:10:39.253976",
     "status": "completed"
    },
    "tags": []
   },
   "outputs": [],
   "source": [
    "def evaluate_model(model, x, y):\n",
    "    y_pred_prob = model.predict_proba(x)[:, 1]\n",
    "    auc_roc = roc_auc_score(y, y_pred_prob)\n",
    "    return {'auc_roc_curve' : auc_roc}"
   ]
  },
  {
   "cell_type": "markdown",
   "id": "18e57489",
   "metadata": {
    "papermill": {
     "duration": 0.011202,
     "end_time": "2022-04-26T02:10:39.294638",
     "exception": false,
     "start_time": "2022-04-26T02:10:39.283436",
     "status": "completed"
    },
    "tags": []
   },
   "source": [
    "# Tabular Playground Series - Apr 2022 - Logistic Regression"
   ]
  },
  {
   "cell_type": "code",
   "execution_count": 3,
   "id": "3aed91ac",
   "metadata": {
    "execution": {
     "iopub.execute_input": "2022-04-26T02:10:39.318594Z",
     "iopub.status.busy": "2022-04-26T02:10:39.318384Z",
     "iopub.status.idle": "2022-04-26T02:10:46.736936Z",
     "shell.execute_reply": "2022-04-26T02:10:46.736215Z"
    },
    "papermill": {
     "duration": 7.432671,
     "end_time": "2022-04-26T02:10:46.738948",
     "exception": false,
     "start_time": "2022-04-26T02:10:39.306277",
     "status": "completed"
    },
    "tags": []
   },
   "outputs": [],
   "source": [
    "train_df =  pd.read_csv('/kaggle/input/tabular-playground-series-apr-2022/train.csv')\n",
    "labels_df = pd.read_csv('/kaggle/input/tabular-playground-series-apr-2022/train_labels.csv')"
   ]
  },
  {
   "cell_type": "code",
   "execution_count": 4,
   "id": "668187e9",
   "metadata": {
    "execution": {
     "iopub.execute_input": "2022-04-26T02:10:46.763157Z",
     "iopub.status.busy": "2022-04-26T02:10:46.762930Z",
     "iopub.status.idle": "2022-04-26T02:10:46.974715Z",
     "shell.execute_reply": "2022-04-26T02:10:46.973877Z"
    },
    "papermill": {
     "duration": 0.226051,
     "end_time": "2022-04-26T02:10:46.976771",
     "exception": false,
     "start_time": "2022-04-26T02:10:46.750720",
     "status": "completed"
    },
    "tags": []
   },
   "outputs": [],
   "source": [
    "train_df.drop(['subject', 'step'], axis=1, inplace=True)\n",
    "train_df = train_df.groupby(['sequence']).mean()\n",
    "train_df = train_df.join(labels_df.set_index('sequence'), on='sequence')\n",
    "y_train = train_df.pop('state').values\n",
    "x_train = train_df.values"
   ]
  },
  {
   "cell_type": "code",
   "execution_count": 5,
   "id": "90e5db4a",
   "metadata": {
    "execution": {
     "iopub.execute_input": "2022-04-26T02:10:47.001340Z",
     "iopub.status.busy": "2022-04-26T02:10:47.001131Z",
     "iopub.status.idle": "2022-04-26T02:10:47.006891Z",
     "shell.execute_reply": "2022-04-26T02:10:47.006287Z"
    },
    "papermill": {
     "duration": 0.01984,
     "end_time": "2022-04-26T02:10:47.008525",
     "exception": false,
     "start_time": "2022-04-26T02:10:46.988685",
     "status": "completed"
    },
    "tags": []
   },
   "outputs": [],
   "source": [
    "x_train, x_test, y_train, y_test = train_test_split(x_train, y_train, test_size=0.2, random_state=seed, shuffle=False)"
   ]
  },
  {
   "cell_type": "code",
   "execution_count": 6,
   "id": "ac3edd32",
   "metadata": {
    "execution": {
     "iopub.execute_input": "2022-04-26T02:10:47.032330Z",
     "iopub.status.busy": "2022-04-26T02:10:47.032122Z",
     "iopub.status.idle": "2022-04-26T02:11:04.938696Z",
     "shell.execute_reply": "2022-04-26T02:11:04.937953Z"
    },
    "papermill": {
     "duration": 17.921659,
     "end_time": "2022-04-26T02:11:04.941451",
     "exception": false,
     "start_time": "2022-04-26T02:10:47.019792",
     "status": "completed"
    },
    "tags": []
   },
   "outputs": [
    {
     "name": "stdout",
     "output_type": "stream",
     "text": [
      "{'auc_roc_curve': 0.7764327555183542}\n"
     ]
    }
   ],
   "source": [
    "params = {'n_estimators': 100, \n",
    "          'max_depth': 24, \n",
    "          'subsample': 1.0,\n",
    "          'eta': 0.2,\n",
    "          'colsample_bytree': 1.0,\n",
    "          'gamma': 0.0, \n",
    "          'min_child_weight': 1,\n",
    "          'reg_alpha': 1}\n",
    "\n",
    "\n",
    "model =  XGBClassifier(**params,\n",
    "                         objective='binary:logistic',\n",
    "                         random_state=seed, \n",
    "                         tree_method='gpu_hist', \n",
    "                         predictor='gpu_predictor',\n",
    "                         early_stopping_rounds=200,\n",
    "                         use_label_encoder=False,\n",
    "                         verbosity=0)\n",
    "model.fit(x_train, y_train, verbose=True)\n",
    "score = evaluate_model(model, x_test, y_test)\n",
    "print(score)"
   ]
  },
  {
   "cell_type": "markdown",
   "id": "b84d8fd8",
   "metadata": {
    "papermill": {
     "duration": 0.011539,
     "end_time": "2022-04-26T02:11:04.967740",
     "exception": false,
     "start_time": "2022-04-26T02:11:04.956201",
     "status": "completed"
    },
    "tags": []
   },
   "source": [
    "# Submission"
   ]
  },
  {
   "cell_type": "code",
   "execution_count": 7,
   "id": "0584fbc1",
   "metadata": {
    "execution": {
     "iopub.execute_input": "2022-04-26T02:11:04.992330Z",
     "iopub.status.busy": "2022-04-26T02:11:04.992107Z",
     "iopub.status.idle": "2022-04-26T02:11:08.583057Z",
     "shell.execute_reply": "2022-04-26T02:11:08.582232Z"
    },
    "papermill": {
     "duration": 3.605778,
     "end_time": "2022-04-26T02:11:08.585356",
     "exception": false,
     "start_time": "2022-04-26T02:11:04.979578",
     "status": "completed"
    },
    "tags": []
   },
   "outputs": [],
   "source": [
    "test_df =  pd.read_csv('/kaggle/input/tabular-playground-series-apr-2022/test.csv')\n",
    "test_df.drop(['subject', 'step'], axis=1, inplace=True)\n",
    "test_df = test_df.groupby(['sequence']).mean()\n",
    "x_test = test_df.values"
   ]
  },
  {
   "cell_type": "code",
   "execution_count": 8,
   "id": "48bda32c",
   "metadata": {
    "execution": {
     "iopub.execute_input": "2022-04-26T02:11:08.612883Z",
     "iopub.status.busy": "2022-04-26T02:11:08.612337Z",
     "iopub.status.idle": "2022-04-26T02:11:08.648830Z",
     "shell.execute_reply": "2022-04-26T02:11:08.648218Z"
    },
    "papermill": {
     "duration": 0.05204,
     "end_time": "2022-04-26T02:11:08.650543",
     "exception": false,
     "start_time": "2022-04-26T02:11:08.598503",
     "status": "completed"
    },
    "tags": []
   },
   "outputs": [
    {
     "data": {
      "text/html": [
       "<div>\n",
       "<style scoped>\n",
       "    .dataframe tbody tr th:only-of-type {\n",
       "        vertical-align: middle;\n",
       "    }\n",
       "\n",
       "    .dataframe tbody tr th {\n",
       "        vertical-align: top;\n",
       "    }\n",
       "\n",
       "    .dataframe thead th {\n",
       "        text-align: right;\n",
       "    }\n",
       "</style>\n",
       "<table border=\"1\" class=\"dataframe\">\n",
       "  <thead>\n",
       "    <tr style=\"text-align: right;\">\n",
       "      <th></th>\n",
       "      <th>sequence</th>\n",
       "      <th>state</th>\n",
       "    </tr>\n",
       "    <tr>\n",
       "      <th>sequence</th>\n",
       "      <th></th>\n",
       "      <th></th>\n",
       "    </tr>\n",
       "  </thead>\n",
       "  <tbody>\n",
       "    <tr>\n",
       "      <th>25968</th>\n",
       "      <td>25968</td>\n",
       "      <td>0.889715</td>\n",
       "    </tr>\n",
       "    <tr>\n",
       "      <th>25969</th>\n",
       "      <td>25969</td>\n",
       "      <td>0.586699</td>\n",
       "    </tr>\n",
       "    <tr>\n",
       "      <th>25970</th>\n",
       "      <td>25970</td>\n",
       "      <td>0.640355</td>\n",
       "    </tr>\n",
       "    <tr>\n",
       "      <th>25971</th>\n",
       "      <td>25971</td>\n",
       "      <td>0.454876</td>\n",
       "    </tr>\n",
       "    <tr>\n",
       "      <th>25972</th>\n",
       "      <td>25972</td>\n",
       "      <td>0.953395</td>\n",
       "    </tr>\n",
       "  </tbody>\n",
       "</table>\n",
       "</div>"
      ],
      "text/plain": [
       "          sequence     state\n",
       "sequence                    \n",
       "25968        25968  0.889715\n",
       "25969        25969  0.586699\n",
       "25970        25970  0.640355\n",
       "25971        25971  0.454876\n",
       "25972        25972  0.953395"
      ]
     },
     "execution_count": 8,
     "metadata": {},
     "output_type": "execute_result"
    }
   ],
   "source": [
    "submission_df = pd.read_csv('/kaggle/input/tabular-playground-series-apr-2022/sample_submission.csv')\n",
    "state = model.predict_proba(x_test)[:, 1]\n",
    "sequence = submission_df['sequence'].values.squeeze()\n",
    "submission_df = pd.DataFrame({'sequence': sequence,'state': state}, index=test_df.index)\n",
    "submission_df.head()"
   ]
  },
  {
   "cell_type": "code",
   "execution_count": 9,
   "id": "2af252a8",
   "metadata": {
    "execution": {
     "iopub.execute_input": "2022-04-26T02:11:08.677818Z",
     "iopub.status.busy": "2022-04-26T02:11:08.676739Z",
     "iopub.status.idle": "2022-04-26T02:11:08.694737Z",
     "shell.execute_reply": "2022-04-26T02:11:08.694151Z"
    },
    "papermill": {
     "duration": 0.033013,
     "end_time": "2022-04-26T02:11:08.696542",
     "exception": false,
     "start_time": "2022-04-26T02:11:08.663529",
     "status": "completed"
    },
    "tags": []
   },
   "outputs": [],
   "source": [
    "submission_df = pd.read_csv('/kaggle/input/tabular-playground-series-apr-2022/sample_submission.csv')\n",
    "state = model.predict_proba(x_test)"
   ]
  },
  {
   "cell_type": "code",
   "execution_count": 10,
   "id": "f1c8721a",
   "metadata": {
    "execution": {
     "iopub.execute_input": "2022-04-26T02:11:08.722860Z",
     "iopub.status.busy": "2022-04-26T02:11:08.722672Z",
     "iopub.status.idle": "2022-04-26T02:11:08.744583Z",
     "shell.execute_reply": "2022-04-26T02:11:08.743853Z"
    },
    "papermill": {
     "duration": 0.036665,
     "end_time": "2022-04-26T02:11:08.746480",
     "exception": false,
     "start_time": "2022-04-26T02:11:08.709815",
     "status": "completed"
    },
    "tags": []
   },
   "outputs": [],
   "source": [
    "submission_df.to_csv('submission.csv', index=False)"
   ]
  },
  {
   "cell_type": "code",
   "execution_count": null,
   "id": "f5bddb3c",
   "metadata": {
    "papermill": {
     "duration": 0.01177,
     "end_time": "2022-04-26T02:11:08.770296",
     "exception": false,
     "start_time": "2022-04-26T02:11:08.758526",
     "status": "completed"
    },
    "tags": []
   },
   "outputs": [],
   "source": []
  }
 ],
 "metadata": {
  "kernelspec": {
   "display_name": "Python 3",
   "language": "python",
   "name": "python3"
  },
  "language_info": {
   "codemirror_mode": {
    "name": "ipython",
    "version": 3
   },
   "file_extension": ".py",
   "mimetype": "text/x-python",
   "name": "python",
   "nbconvert_exporter": "python",
   "pygments_lexer": "ipython3",
   "version": "3.7.12"
  },
  "papermill": {
   "default_parameters": {},
   "duration": 39.822614,
   "end_time": "2022-04-26T02:11:09.905068",
   "environment_variables": {},
   "exception": null,
   "input_path": "__notebook__.ipynb",
   "output_path": "__notebook__.ipynb",
   "parameters": {},
   "start_time": "2022-04-26T02:10:30.082454",
   "version": "2.3.4"
  }
 },
 "nbformat": 4,
 "nbformat_minor": 5
}
