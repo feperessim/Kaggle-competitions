{
 "cells": [
  {
   "cell_type": "code",
   "execution_count": 1,
   "id": "18d35070",
   "metadata": {
    "_cell_guid": "b1076dfc-b9ad-4769-8c92-a6c4dae69d19",
    "_uuid": "8f2839f25d086af736a60e9eeb907d3b93b6e0e5",
    "execution": {
     "iopub.execute_input": "2022-02-20T15:55:05.893411Z",
     "iopub.status.busy": "2022-02-20T15:55:05.890966Z",
     "iopub.status.idle": "2022-02-20T15:55:05.907373Z",
     "shell.execute_reply": "2022-02-20T15:55:05.907972Z",
     "shell.execute_reply.started": "2022-02-20T15:38:56.205237Z"
    },
    "papermill": {
     "duration": 0.064412,
     "end_time": "2022-02-20T15:55:05.908264",
     "exception": false,
     "start_time": "2022-02-20T15:55:05.843852",
     "status": "completed"
    },
    "tags": []
   },
   "outputs": [
    {
     "name": "stdout",
     "output_type": "stream",
     "text": [
      "/kaggle/input/tabular-playground-series-feb-2022/sample_submission.csv\n",
      "/kaggle/input/tabular-playground-series-feb-2022/train.csv\n",
      "/kaggle/input/tabular-playground-series-feb-2022/test.csv\n"
     ]
    }
   ],
   "source": [
    "# This Python 3 environment comes with many helpful analytics libraries installed\n",
    "# It is defined by the kaggle/python Docker image: https://github.com/kaggle/docker-python\n",
    "# For example, here's several helpful packages to load\n",
    "\n",
    "import numpy as np # linear algebra\n",
    "import pandas as pd # data processing, CSV file I/O (e.g. pd.read_csv)\n",
    "\n",
    "# Input data files are available in the read-only \"../input/\" directory\n",
    "# For example, running this (by clicking run or pressing Shift+Enter) will list all files under the input directory\n",
    "\n",
    "import os\n",
    "for dirname, _, filenames in os.walk('/kaggle/input'):\n",
    "    for filename in filenames:\n",
    "        print(os.path.join(dirname, filename))\n",
    "\n",
    "# You can write up to 20GB to the current directory (/kaggle/working/) that gets preserved as output when you create a version using \"Save & Run All\" \n",
    "# You can also write temporary files to /kaggle/temp/, but they won't be saved outside of the current session"
   ]
  },
  {
   "cell_type": "code",
   "execution_count": 2,
   "id": "3fd7b454",
   "metadata": {
    "execution": {
     "iopub.execute_input": "2022-02-20T15:55:06.036542Z",
     "iopub.status.busy": "2022-02-20T15:55:06.034697Z",
     "iopub.status.idle": "2022-02-20T15:55:07.191800Z",
     "shell.execute_reply": "2022-02-20T15:55:07.191158Z",
     "shell.execute_reply.started": "2022-02-20T15:38:56.231843Z"
    },
    "papermill": {
     "duration": 1.240943,
     "end_time": "2022-02-20T15:55:07.191954",
     "exception": false,
     "start_time": "2022-02-20T15:55:05.951011",
     "status": "completed"
    },
    "tags": []
   },
   "outputs": [],
   "source": [
    "import warnings\n",
    "import gc\n",
    "\n",
    "from sklearn.preprocessing import LabelEncoder\n",
    "from sklearn.model_selection import train_test_split\n",
    "from sklearn.metrics import accuracy_score\n",
    "\n",
    "from xgboost import XGBClassifier\n",
    "\n",
    "warnings.filterwarnings('ignore')"
   ]
  },
  {
   "cell_type": "code",
   "execution_count": 3,
   "id": "b1e45e23",
   "metadata": {
    "execution": {
     "iopub.execute_input": "2022-02-20T15:55:07.281820Z",
     "iopub.status.busy": "2022-02-20T15:55:07.280705Z",
     "iopub.status.idle": "2022-02-20T15:55:07.284044Z",
     "shell.execute_reply": "2022-02-20T15:55:07.283464Z",
     "shell.execute_reply.started": "2022-02-20T15:38:57.182720Z"
    },
    "papermill": {
     "duration": 0.050221,
     "end_time": "2022-02-20T15:55:07.284181",
     "exception": false,
     "start_time": "2022-02-20T15:55:07.233960",
     "status": "completed"
    },
    "tags": []
   },
   "outputs": [],
   "source": [
    "def evaluate_model(model, x, y):\n",
    "    y_pred = model.predict(x)\n",
    "    acc = accuracy_score(y, y_pred)\n",
    "    return {'accuracy' : acc}"
   ]
  },
  {
   "cell_type": "code",
   "execution_count": 4,
   "id": "66a42759",
   "metadata": {
    "execution": {
     "iopub.execute_input": "2022-02-20T15:55:07.374313Z",
     "iopub.status.busy": "2022-02-20T15:55:07.373018Z",
     "iopub.status.idle": "2022-02-20T15:55:07.375457Z",
     "shell.execute_reply": "2022-02-20T15:55:07.376109Z",
     "shell.execute_reply.started": "2022-02-20T15:38:57.190696Z"
    },
    "papermill": {
     "duration": 0.049662,
     "end_time": "2022-02-20T15:55:07.376269",
     "exception": false,
     "start_time": "2022-02-20T15:55:07.326607",
     "status": "completed"
    },
    "tags": []
   },
   "outputs": [],
   "source": [
    "seed = 47"
   ]
  },
  {
   "cell_type": "code",
   "execution_count": 5,
   "id": "57eaa549",
   "metadata": {
    "execution": {
     "iopub.execute_input": "2022-02-20T15:55:07.463273Z",
     "iopub.status.busy": "2022-02-20T15:55:07.462501Z",
     "iopub.status.idle": "2022-02-20T15:55:33.995439Z",
     "shell.execute_reply": "2022-02-20T15:55:33.994862Z",
     "shell.execute_reply.started": "2022-02-20T15:38:57.201263Z"
    },
    "papermill": {
     "duration": 26.578158,
     "end_time": "2022-02-20T15:55:33.995673",
     "exception": false,
     "start_time": "2022-02-20T15:55:07.417515",
     "status": "completed"
    },
    "tags": []
   },
   "outputs": [],
   "source": [
    "train_df = pd.read_csv('/kaggle/input/tabular-playground-series-feb-2022/train.csv')"
   ]
  },
  {
   "cell_type": "code",
   "execution_count": 6,
   "id": "fe5f58ca",
   "metadata": {
    "execution": {
     "iopub.execute_input": "2022-02-20T15:55:34.088068Z",
     "iopub.status.busy": "2022-02-20T15:55:34.087170Z",
     "iopub.status.idle": "2022-02-20T15:55:34.267858Z",
     "shell.execute_reply": "2022-02-20T15:55:34.267236Z",
     "shell.execute_reply.started": "2022-02-20T15:39:21.054246Z"
    },
    "papermill": {
     "duration": 0.23035,
     "end_time": "2022-02-20T15:55:34.268018",
     "exception": false,
     "start_time": "2022-02-20T15:55:34.037668",
     "status": "completed"
    },
    "tags": []
   },
   "outputs": [],
   "source": [
    "train_df.drop(['row_id'], axis=1, inplace=True)\n",
    "target = train_df.pop('target')"
   ]
  },
  {
   "cell_type": "code",
   "execution_count": 7,
   "id": "ec3e7f06",
   "metadata": {
    "execution": {
     "iopub.execute_input": "2022-02-20T15:55:34.412321Z",
     "iopub.status.busy": "2022-02-20T15:55:34.369655Z",
     "iopub.status.idle": "2022-02-20T15:55:34.415661Z",
     "shell.execute_reply": "2022-02-20T15:55:34.415085Z",
     "shell.execute_reply.started": "2022-02-20T15:39:21.207847Z"
    },
    "papermill": {
     "duration": 0.107112,
     "end_time": "2022-02-20T15:55:34.415813",
     "exception": false,
     "start_time": "2022-02-20T15:55:34.308701",
     "status": "completed"
    },
    "tags": []
   },
   "outputs": [],
   "source": [
    "le = LabelEncoder()\n",
    "target = le.fit_transform(target)"
   ]
  },
  {
   "cell_type": "code",
   "execution_count": 8,
   "id": "778ac6ab",
   "metadata": {
    "execution": {
     "iopub.execute_input": "2022-02-20T15:55:34.504081Z",
     "iopub.status.busy": "2022-02-20T15:55:34.503102Z",
     "iopub.status.idle": "2022-02-20T15:55:34.970764Z",
     "shell.execute_reply": "2022-02-20T15:55:34.970134Z",
     "shell.execute_reply.started": "2022-02-20T15:41:19.596118Z"
    },
    "papermill": {
     "duration": 0.514036,
     "end_time": "2022-02-20T15:55:34.970928",
     "exception": false,
     "start_time": "2022-02-20T15:55:34.456892",
     "status": "completed"
    },
    "tags": []
   },
   "outputs": [],
   "source": [
    "x_train, x_test, y_train, y_test = train_test_split(train_df, target, test_size=0.2, random_state=seed)"
   ]
  },
  {
   "cell_type": "markdown",
   "id": "a1bdf6ea",
   "metadata": {
    "papermill": {
     "duration": 0.0403,
     "end_time": "2022-02-20T15:55:35.052960",
     "exception": false,
     "start_time": "2022-02-20T15:55:35.012660",
     "status": "completed"
    },
    "tags": []
   },
   "source": [
    "# XGBoost Baseline"
   ]
  },
  {
   "cell_type": "code",
   "execution_count": 9,
   "id": "6ae8f611",
   "metadata": {
    "execution": {
     "iopub.execute_input": "2022-02-20T15:55:35.140472Z",
     "iopub.status.busy": "2022-02-20T15:55:35.139494Z",
     "iopub.status.idle": "2022-02-20T15:55:35.142633Z",
     "shell.execute_reply": "2022-02-20T15:55:35.143164Z",
     "shell.execute_reply.started": "2022-02-20T15:39:21.265653Z"
    },
    "papermill": {
     "duration": 0.049713,
     "end_time": "2022-02-20T15:55:35.143334",
     "exception": false,
     "start_time": "2022-02-20T15:55:35.093621",
     "status": "completed"
    },
    "tags": []
   },
   "outputs": [],
   "source": [
    "def get_xgb_baseline(params={}):\n",
    "    return XGBClassifier(**params,\n",
    "                         random_state=seed,\n",
    "                         tree_method='gpu_hist',\n",
    "                         predictor='gpu_predictor',\n",
    "                         eval_metric='auc',\n",
    "                         objective='multi:softprob')"
   ]
  },
  {
   "cell_type": "code",
   "execution_count": 10,
   "id": "bda7367e",
   "metadata": {
    "execution": {
     "iopub.execute_input": "2022-02-20T15:55:35.230897Z",
     "iopub.status.busy": "2022-02-20T15:55:35.230003Z",
     "iopub.status.idle": "2022-02-20T15:55:54.467901Z",
     "shell.execute_reply": "2022-02-20T15:55:54.468452Z",
     "shell.execute_reply.started": "2022-02-19T19:37:41.071692Z"
    },
    "papermill": {
     "duration": 19.28464,
     "end_time": "2022-02-20T15:55:54.468656",
     "exception": false,
     "start_time": "2022-02-20T15:55:35.184016",
     "status": "completed"
    },
    "tags": []
   },
   "outputs": [
    {
     "name": "stdout",
     "output_type": "stream",
     "text": [
      "{'accuracy': 0.983425}\n"
     ]
    }
   ],
   "source": [
    "model = get_xgb_baseline()\n",
    "model.fit(x_train, y_train)\n",
    "results = evaluate_model(model, x_test, y_test)\n",
    "print(results)"
   ]
  },
  {
   "cell_type": "markdown",
   "id": "21eaf812",
   "metadata": {
    "papermill": {
     "duration": 0.04006,
     "end_time": "2022-02-20T15:55:54.550320",
     "exception": false,
     "start_time": "2022-02-20T15:55:54.510260",
     "status": "completed"
    },
    "tags": []
   },
   "source": [
    "# Feature Engineering\n",
    "\n",
    "Here wee will experiment creating synthetic features using central tendency statistics.\n"
   ]
  },
  {
   "cell_type": "code",
   "execution_count": 11,
   "id": "4b596936",
   "metadata": {
    "execution": {
     "iopub.execute_input": "2022-02-20T15:55:54.639593Z",
     "iopub.status.busy": "2022-02-20T15:55:54.638435Z",
     "iopub.status.idle": "2022-02-20T15:55:54.641012Z",
     "shell.execute_reply": "2022-02-20T15:55:54.641693Z",
     "shell.execute_reply.started": "2022-02-19T19:37:55.583591Z"
    },
    "papermill": {
     "duration": 0.051093,
     "end_time": "2022-02-20T15:55:54.641858",
     "exception": false,
     "start_time": "2022-02-20T15:55:54.590765",
     "status": "completed"
    },
    "tags": []
   },
   "outputs": [],
   "source": [
    "geomean = lambda x, axis : np.exp(np.mean(np.log(x), axis=axis))\n",
    "harmonic_mean = lambda x, axis : len(x) / np.sum(1.0/x, axis=axis) \n",
    "\n",
    "funcs = {'mean' : np.mean, \n",
    "         'std' : np.std, \n",
    "         'var' : np.var, \n",
    "         'geo_mean' : geomean, \n",
    "         'harmonic_mean' : harmonic_mean, \n",
    "         'median' : np.median,\n",
    "         'none': None}"
   ]
  },
  {
   "cell_type": "code",
   "execution_count": 12,
   "id": "5a65ff5d",
   "metadata": {
    "execution": {
     "iopub.execute_input": "2022-02-20T15:55:54.737965Z",
     "iopub.status.busy": "2022-02-20T15:55:54.736483Z",
     "iopub.status.idle": "2022-02-20T15:57:51.947136Z",
     "shell.execute_reply": "2022-02-20T15:57:51.947781Z",
     "shell.execute_reply.started": "2022-02-19T19:37:55.593592Z"
    },
    "papermill": {
     "duration": 117.263911,
     "end_time": "2022-02-20T15:57:51.947987",
     "exception": false,
     "start_time": "2022-02-20T15:55:54.684076",
     "status": "completed"
    },
    "tags": []
   },
   "outputs": [
    {
     "name": "stdout",
     "output_type": "stream",
     "text": [
      ">mean: 0.984450\n",
      ">std: 0.984950\n",
      ">var: 0.984950\n",
      ">geo_mean: 0.984850\n",
      ">harmonic_mean: 0.984600\n",
      ">median: 0.984325\n",
      ">none: 0.983425\n",
      "Best result is of: mean with score: 0.98445\n"
     ]
    }
   ],
   "source": [
    "results, names = list(), list()\n",
    "\n",
    "for key in funcs.keys():\n",
    "    x_train = train_df.copy()\n",
    "    if funcs[key] is not None:\n",
    "        x_train[key] = funcs[key](x_train, axis=1)\n",
    "    x_train, x_test, y_train, y_test = train_test_split(x_train, target, test_size=0.2, random_state=seed)       \n",
    "    model = get_xgb_baseline()\n",
    "\n",
    "    model.fit(x_train, y_train)\n",
    "    result = evaluate_model(model, x_test, y_test)\n",
    "    names.append(key)\n",
    "    results.append(result['accuracy'])\n",
    "    \n",
    "for name, score in zip(names, results):\n",
    "    print('>%s: %f' % (name, score))\n",
    "\n",
    "index_best = np.argmax(score)\n",
    "print('Best result is of:', names[index_best], 'with score:', results[index_best])"
   ]
  },
  {
   "cell_type": "markdown",
   "id": "8691b01c",
   "metadata": {
    "papermill": {
     "duration": 0.041119,
     "end_time": "2022-02-20T15:57:52.031102",
     "exception": false,
     "start_time": "2022-02-20T15:57:51.989983",
     "status": "completed"
    },
    "tags": []
   },
   "source": [
    "# Individual parameter Search"
   ]
  },
  {
   "cell_type": "code",
   "execution_count": 13,
   "id": "0c870df5",
   "metadata": {
    "execution": {
     "iopub.execute_input": "2022-02-20T15:57:52.123311Z",
     "iopub.status.busy": "2022-02-20T15:57:52.121862Z",
     "iopub.status.idle": "2022-02-20T15:57:53.274821Z",
     "shell.execute_reply": "2022-02-20T15:57:53.274119Z",
     "shell.execute_reply.started": "2022-02-20T01:29:03.453578Z"
    },
    "papermill": {
     "duration": 1.201724,
     "end_time": "2022-02-20T15:57:53.274978",
     "exception": false,
     "start_time": "2022-02-20T15:57:52.073254",
     "status": "completed"
    },
    "tags": []
   },
   "outputs": [],
   "source": [
    "x_train = train_df.copy()\n",
    "x_train['mean'] = np.mean(x_train, axis=1)\n",
    "x_train, x_test, y_train, y_test = train_test_split(x_train, target, test_size=0.2, random_state=seed)"
   ]
  },
  {
   "cell_type": "code",
   "execution_count": 14,
   "id": "a5647478",
   "metadata": {
    "execution": {
     "iopub.execute_input": "2022-02-20T15:57:53.363707Z",
     "iopub.status.busy": "2022-02-20T15:57:53.363020Z",
     "iopub.status.idle": "2022-02-20T15:57:53.367697Z",
     "shell.execute_reply": "2022-02-20T15:57:53.367083Z",
     "shell.execute_reply.started": "2022-02-19T19:39:47.0001Z"
    },
    "papermill": {
     "duration": 0.051069,
     "end_time": "2022-02-20T15:57:53.367903",
     "exception": false,
     "start_time": "2022-02-20T15:57:53.316834",
     "status": "completed"
    },
    "tags": []
   },
   "outputs": [],
   "source": [
    "params = {}"
   ]
  },
  {
   "cell_type": "markdown",
   "id": "03d6b5eb",
   "metadata": {
    "papermill": {
     "duration": 0.04168,
     "end_time": "2022-02-20T15:57:53.451094",
     "exception": false,
     "start_time": "2022-02-20T15:57:53.409414",
     "status": "completed"
    },
    "tags": []
   },
   "source": [
    "<h2>1 - Testing different number of estimators</h2>\n"
   ]
  },
  {
   "cell_type": "code",
   "execution_count": 15,
   "id": "36f9853b",
   "metadata": {
    "execution": {
     "iopub.execute_input": "2022-02-20T15:57:53.545284Z",
     "iopub.status.busy": "2022-02-20T15:57:53.544120Z",
     "iopub.status.idle": "2022-02-20T17:04:29.578923Z",
     "shell.execute_reply": "2022-02-20T17:04:29.579501Z",
     "shell.execute_reply.started": "2022-02-19T19:39:47.006049Z"
    },
    "papermill": {
     "duration": 3996.086645,
     "end_time": "2022-02-20T17:04:29.579732",
     "exception": false,
     "start_time": "2022-02-20T15:57:53.493087",
     "status": "completed"
    },
    "tags": []
   },
   "outputs": [
    {
     "name": "stdout",
     "output_type": "stream",
     "text": [
      "n_estimators: 50 accuracy: 0.966325\n",
      "n_estimators: 100 accuracy: 0.98445\n",
      "n_estimators: 150 accuracy: 0.990275\n",
      "n_estimators: 200 accuracy: 0.993025\n",
      "n_estimators: 250 accuracy: 0.99405\n",
      "n_estimators: 300 accuracy: 0.994575\n",
      "n_estimators: 350 accuracy: 0.994775\n",
      "n_estimators: 400 accuracy: 0.995125\n",
      "n_estimators: 450 accuracy: 0.995175\n",
      "n_estimators: 500 accuracy: 0.9951\n",
      "n_estimators: 600 accuracy: 0.995175\n",
      "n_estimators: 700 accuracy: 0.99515\n",
      "n_estimators: 800 accuracy: 0.99515\n",
      "n_estimators: 900 accuracy: 0.995025\n",
      "n_estimators: 950 accuracy: 0.995\n",
      "n_estimators: 975 accuracy: 0.995\n",
      "n_estimators: 1000 accuracy: 0.994975\n",
      "n_estimators: 1025 accuracy: 0.995025\n",
      "n_estimators: 1050 accuracy: 0.994975\n",
      "n_estimators: 1100 accuracy: 0.995025\n",
      "n_estimators: 1150 accuracy: 0.995\n",
      "n_estimators: 1290 accuracy: 0.995075\n",
      "n_estimators: 1295 accuracy: 0.99495\n",
      "n_estimators: 1300 accuracy: 0.995025\n",
      "n_estimators: 1305 accuracy: 0.995125\n",
      "n_estimators: 1310 accuracy: 0.995025\n",
      "n_estimators: 1315 accuracy: 0.99505\n",
      "n_estimators: 1325 accuracy: 0.9951\n",
      "n_estimators: 2000 accuracy: 0.9954\n",
      "n_estimators: 3000 accuracy: 0.995325\n",
      "n_estimators: 4000 accuracy: 0.99535\n",
      "n_estimators: 5000 accuracy: 0.9954\n",
      "n_estimators: 10000 accuracy: 0.9954\n",
      "\n",
      "Best n_estimators: 2000 Accuracy score: 0.9954\n"
     ]
    }
   ],
   "source": [
    "results_trees = {}\n",
    "trees = [50, 100, 150, 200, 250, 300, 350, 400, 450, 500, 600, 700, 800, 900, 950, 975, 1000, 1025, 1050, 1100, 1150, 1290, 1295, 1300, 1305, 1310, 1315, 1325, 2000, 3000, 4000, 5000, 10000]\n",
    "\n",
    "for n in trees:\n",
    "    params['n_estimators'] = n\n",
    "    model = get_xgb_baseline(params)\n",
    "    model.fit(x_train, y_train)\n",
    "    result = evaluate_model(model, x_test, y_test)\n",
    "    results_trees[n] = result['accuracy']\n",
    "    print('n_estimators:', n, 'accuracy:', results_trees[n])\n",
    "\n",
    "best_nestimator = max(results_trees, key=results_trees.get)\n",
    "print('\\nBest n_estimators:', best_nestimator, 'Accuracy score:', results_trees[best_nestimator])"
   ]
  },
  {
   "cell_type": "markdown",
   "id": "40e0c8b5",
   "metadata": {
    "papermill": {
     "duration": 0.056038,
     "end_time": "2022-02-20T17:04:29.692077",
     "exception": false,
     "start_time": "2022-02-20T17:04:29.636039",
     "status": "completed"
    },
    "tags": []
   },
   "source": [
    "<h2>2 - Testing different max_depth</h2>"
   ]
  },
  {
   "cell_type": "code",
   "execution_count": 16,
   "id": "d1d27be6",
   "metadata": {
    "execution": {
     "iopub.execute_input": "2022-02-20T17:04:29.812046Z",
     "iopub.status.busy": "2022-02-20T17:04:29.811096Z",
     "iopub.status.idle": "2022-02-20T17:26:46.376170Z",
     "shell.execute_reply": "2022-02-20T17:26:46.377107Z",
     "shell.execute_reply.started": "2022-02-19T20:44:14.707954Z"
    },
    "papermill": {
     "duration": 1336.629296,
     "end_time": "2022-02-20T17:26:46.377399",
     "exception": false,
     "start_time": "2022-02-20T17:04:29.748103",
     "status": "completed"
    },
    "tags": []
   },
   "outputs": [
    {
     "name": "stdout",
     "output_type": "stream",
     "text": [
      "max_depth: 1 accuracy: 0.9179\n",
      "max_depth: 2 accuracy: 0.9846\n",
      "max_depth: 3 accuracy: 0.9947\n",
      "max_depth: 4 accuracy: 0.9952\n",
      "max_depth: 5 accuracy: 0.995375\n",
      "max_depth: 6 accuracy: 0.9954\n",
      "max_depth: 7 accuracy: 0.9952\n",
      "max_depth: 8 accuracy: 0.995425\n",
      "max_depth: 9 accuracy: 0.995275\n",
      "\n",
      "Best max_depth: 8 Accuracy score: 0.995425\n"
     ]
    }
   ],
   "source": [
    "results_max_depths = {}\n",
    "params['n_estimators'] = best_nestimator\n",
    "max_depths = [i for i in range(1,10)]\n",
    "\n",
    "for max_depth in max_depths:\n",
    "    params['max_depth'] = max_depth\n",
    "    model = get_xgb_baseline(params)\n",
    "    model.fit(x_train, y_train)\n",
    "    result = evaluate_model(model, x_test, y_test)\n",
    "    results_max_depths[max_depth] = result['accuracy']\n",
    "    print('max_depth:', max_depth, 'accuracy:', results_max_depths[max_depth])\n",
    "\n",
    "best_max_depth = max(results_max_depths, key=results_max_depths.get)\n",
    "print('\\nBest max_depth:', best_max_depth, 'Accuracy score:', results_max_depths[best_max_depth])"
   ]
  },
  {
   "cell_type": "markdown",
   "id": "39ac4f58",
   "metadata": {
    "papermill": {
     "duration": 0.106261,
     "end_time": "2022-02-20T17:26:46.589390",
     "exception": false,
     "start_time": "2022-02-20T17:26:46.483129",
     "status": "completed"
    },
    "tags": []
   },
   "source": [
    "<h2>3 - Testing different subsamples</h2>\n"
   ]
  },
  {
   "cell_type": "code",
   "execution_count": 17,
   "id": "bf4c22d3",
   "metadata": {
    "execution": {
     "iopub.execute_input": "2022-02-20T17:26:46.783549Z",
     "iopub.status.busy": "2022-02-20T17:26:46.782634Z",
     "iopub.status.idle": "2022-02-20T18:00:36.693768Z",
     "shell.execute_reply": "2022-02-20T18:00:36.694362Z",
     "shell.execute_reply.started": "2022-02-19T21:05:56.690805Z"
    },
    "papermill": {
     "duration": 2029.989204,
     "end_time": "2022-02-20T18:00:36.694619",
     "exception": false,
     "start_time": "2022-02-20T17:26:46.705415",
     "status": "completed"
    },
    "tags": []
   },
   "outputs": [
    {
     "name": "stdout",
     "output_type": "stream",
     "text": [
      "subsample: 0.1 accuracy: 0.994325\n",
      "subsample: 0.2 accuracy: 0.9945\n",
      "subsample: 0.30000000000000004 accuracy: 0.99445\n",
      "subsample: 0.4 accuracy: 0.99505\n",
      "subsample: 0.5 accuracy: 0.9951\n",
      "subsample: 0.6 accuracy: 0.995275\n",
      "subsample: 0.7000000000000001 accuracy: 0.995525\n",
      "subsample: 0.8 accuracy: 0.9951\n",
      "subsample: 0.9 accuracy: 0.995425\n",
      "subsample: 1.0 accuracy: 0.995425\n",
      "\n",
      "Best subsample: 0.7000000000000001 Accuracy score: 0.995525\n"
     ]
    }
   ],
   "source": [
    "results_subsamples = {}\n",
    "params['max_depth'] = best_max_depth\n",
    "subsamples = [i for i in np.arange(0.1, 1.1, 0.1)]\n",
    "\n",
    "for subsample in subsamples:\n",
    "    params['subsample'] = subsample\n",
    "    model = model = get_xgb_baseline(params)\n",
    "    model.fit(x_train, y_train)\n",
    "    result = evaluate_model(model, x_test, y_test)\n",
    "    results_subsamples[subsample] = result['accuracy']\n",
    "    print('subsample:', subsample, 'accuracy:', results_subsamples[subsample])\n",
    "\n",
    "best_subsample = max(results_subsamples, key=results_subsamples.get)\n",
    "print('\\nBest subsample:', best_subsample, 'Accuracy score:', results_subsamples[best_subsample])"
   ]
  },
  {
   "cell_type": "markdown",
   "id": "3ad5bb8d",
   "metadata": {
    "papermill": {
     "duration": 0.063008,
     "end_time": "2022-02-20T18:00:36.820815",
     "exception": false,
     "start_time": "2022-02-20T18:00:36.757807",
     "status": "completed"
    },
    "tags": []
   },
   "source": [
    "<h2>4 - Testing different learning rates</h2>"
   ]
  },
  {
   "cell_type": "code",
   "execution_count": 18,
   "id": "bc3ec538",
   "metadata": {
    "execution": {
     "iopub.execute_input": "2022-02-20T18:00:36.954056Z",
     "iopub.status.busy": "2022-02-20T18:00:36.949655Z",
     "iopub.status.idle": "2022-02-20T19:26:30.309023Z",
     "shell.execute_reply": "2022-02-20T19:26:30.309646Z",
     "shell.execute_reply.started": "2022-02-19T21:38:59.280709Z"
    },
    "papermill": {
     "duration": 5153.426134,
     "end_time": "2022-02-20T19:26:30.309877",
     "exception": false,
     "start_time": "2022-02-20T18:00:36.883743",
     "status": "completed"
    },
    "tags": []
   },
   "outputs": [
    {
     "name": "stdout",
     "output_type": "stream",
     "text": [
      "eta: 0.0001 accuracy: 0.87385\n",
      "eta: 0.001 accuracy: 0.938775\n",
      "eta: 0.003 accuracy: 0.96735\n",
      "eta: 0.005 accuracy: 0.980775\n",
      "eta: 0.01 accuracy: 0.991925\n",
      "eta: 0.03 accuracy: 0.99575\n",
      "eta: 0.05 accuracy: 0.995725\n",
      "eta: 0.1 accuracy: 0.9958\n",
      "eta: 0.12 accuracy: 0.995725\n",
      "eta: 0.13 accuracy: 0.995725\n",
      "eta: 0.3 accuracy: 0.995525\n",
      "eta: 0.5 accuracy: 0.99485\n",
      "eta: 1.0 accuracy: 0.99405\n",
      "\n",
      "Best eta: 0.1 Accuracy score: 0.9958\n"
     ]
    }
   ],
   "source": [
    "results_etas = {}\n",
    "params['subsample'] = best_subsample\n",
    "etas = [0.0001, 0.001, 0.003, 0.005, 0.01, 0.03, 0.05, 0.1, 0.12, 0.13, 0.3, 0.5, 1.0]\n",
    "\n",
    "for eta in etas:\n",
    "    params['eta'] = eta\n",
    "    model = get_xgb_baseline(params)\n",
    "    model.fit(x_train, y_train)\n",
    "    result = evaluate_model(model, x_test, y_test)\n",
    "    results_etas[eta] = result['accuracy']\n",
    "    print('eta:', eta, 'accuracy:', results_etas[eta])\n",
    "\n",
    "best_eta = max(results_etas, key=results_etas.get)\n",
    "print('\\nBest eta:', best_eta, 'Accuracy score:', results_etas[best_eta])"
   ]
  },
  {
   "cell_type": "markdown",
   "id": "a4394b8f",
   "metadata": {
    "papermill": {
     "duration": 0.070506,
     "end_time": "2022-02-20T19:26:30.450799",
     "exception": false,
     "start_time": "2022-02-20T19:26:30.380293",
     "status": "completed"
    },
    "tags": []
   },
   "source": [
    "<h2>5 - Testing different number of features</h2>"
   ]
  },
  {
   "cell_type": "code",
   "execution_count": 19,
   "id": "d6c5902b",
   "metadata": {
    "execution": {
     "iopub.execute_input": "2022-02-20T19:26:30.597305Z",
     "iopub.status.busy": "2022-02-20T19:26:30.596175Z",
     "iopub.status.idle": "2022-02-20T20:09:29.624690Z",
     "shell.execute_reply": "2022-02-20T20:09:29.625281Z",
     "shell.execute_reply.started": "2022-02-19T23:02:42.602958Z"
    },
    "papermill": {
     "duration": 2579.105017,
     "end_time": "2022-02-20T20:09:29.625472",
     "exception": false,
     "start_time": "2022-02-20T19:26:30.520455",
     "status": "completed"
    },
    "tags": []
   },
   "outputs": [
    {
     "name": "stdout",
     "output_type": "stream",
     "text": [
      "colsample_bytree: 0.1 : 0.99545\n",
      "colsample_bytree: 0.2 : 0.995475\n",
      "colsample_bytree: 0.30000000000000004 : 0.995625\n",
      "colsample_bytree: 0.4 : 0.995475\n",
      "colsample_bytree: 0.5 : 0.99565\n",
      "colsample_bytree: 0.6 : 0.995725\n",
      "colsample_bytree: 0.7000000000000001 : 0.995675\n",
      "colsample_bytree: 0.8 : 0.9956\n",
      "colsample_bytree: 0.9 : 0.995375\n",
      "colsample_bytree: 1.0 : 0.9958\n",
      "\n",
      "Best colsample_bytree: 1.0 Accuracy score: 0.9958\n"
     ]
    }
   ],
   "source": [
    "results_colsample_bytrees = {}\n",
    "params['eta'] = best_eta\n",
    "colsample_bytrees = [i for i in np.arange(0.1, 1.1, 0.1)]\n",
    "\n",
    "for colsample_bytree in colsample_bytrees:\n",
    "    params['colsample_bytree'] = colsample_bytree\n",
    "    model = get_xgb_baseline(params)\n",
    "    model.fit(x_train, y_train)\n",
    "    result = evaluate_model(model, x_test, y_test)\n",
    "    results_colsample_bytrees[colsample_bytree] = result['accuracy']\n",
    "    print('colsample_bytree:', colsample_bytree, ':', results_colsample_bytrees[colsample_bytree])\n",
    "\n",
    "best_colsample_bytree = max(results_colsample_bytrees, key=results_colsample_bytrees.get)\n",
    "print('\\nBest colsample_bytree:', best_colsample_bytree, 'Accuracy score:', results_colsample_bytrees[best_colsample_bytree])"
   ]
  },
  {
   "cell_type": "markdown",
   "id": "b54ef70f",
   "metadata": {
    "papermill": {
     "duration": 0.071944,
     "end_time": "2022-02-20T20:09:29.769983",
     "exception": false,
     "start_time": "2022-02-20T20:09:29.698039",
     "status": "completed"
    },
    "tags": []
   },
   "source": [
    "<h2>6 - Testing different values for min_child_weight</h2>"
   ]
  },
  {
   "cell_type": "code",
   "execution_count": 20,
   "id": "7bbbbd31",
   "metadata": {
    "execution": {
     "iopub.execute_input": "2022-02-20T20:09:29.923058Z",
     "iopub.status.busy": "2022-02-20T20:09:29.922036Z",
     "iopub.status.idle": "2022-02-20T20:46:18.093605Z",
     "shell.execute_reply": "2022-02-20T20:46:18.094157Z",
     "shell.execute_reply.started": "2022-02-19T23:44:29.998534Z"
    },
    "papermill": {
     "duration": 2208.252096,
     "end_time": "2022-02-20T20:46:18.094362",
     "exception": false,
     "start_time": "2022-02-20T20:09:29.842266",
     "status": "completed"
    },
    "tags": []
   },
   "outputs": [
    {
     "name": "stdout",
     "output_type": "stream",
     "text": [
      "min_child_weight: 1 accuracy: 0.9958\n",
      "min_child_weight: 2 accuracy: 0.99535\n",
      "min_child_weight: 3 accuracy: 0.99545\n",
      "min_child_weight: 4 accuracy: 0.995425\n",
      "min_child_weight: 5 accuracy: 0.995375\n",
      "min_child_weight: 6 accuracy: 0.995175\n",
      "min_child_weight: 7 accuracy: 0.99535\n",
      "min_child_weight: 8 accuracy: 0.995375\n",
      "min_child_weight: 9 accuracy: 0.995175\n",
      "\n",
      "Best min_child_weight: 1 Accuracy score: 0.9958\n"
     ]
    }
   ],
   "source": [
    "results_min_child_weight = {}\n",
    "params['colsample_bytree'] = best_colsample_bytree\n",
    "min_child_weights = [i for i in range(1,10)]\n",
    "\n",
    "for min_child_weight in min_child_weights:\n",
    "    params['min_child_weight'] = min_child_weight\n",
    "    model = get_xgb_baseline(params)\n",
    "    model.fit(x_train, y_train)\n",
    "    result = evaluate_model(model, x_test, y_test)\n",
    "    results_min_child_weight[min_child_weight] = result['accuracy']\n",
    "    print('min_child_weight:', min_child_weight, 'accuracy:', results_min_child_weight[min_child_weight])\n",
    "\n",
    "best_min_child_weight = max(results_min_child_weight, key=results_min_child_weight.get)\n",
    "print('\\nBest min_child_weight:', best_min_child_weight, 'Accuracy score:', results_min_child_weight[best_min_child_weight])"
   ]
  },
  {
   "cell_type": "markdown",
   "id": "64fd4b1e",
   "metadata": {
    "papermill": {
     "duration": 0.079722,
     "end_time": "2022-02-20T20:46:18.251035",
     "exception": false,
     "start_time": "2022-02-20T20:46:18.171313",
     "status": "completed"
    },
    "tags": []
   },
   "source": [
    "<h2>7 - Testing different values for gamma</h2>"
   ]
  },
  {
   "cell_type": "code",
   "execution_count": 21,
   "id": "ef92d30a",
   "metadata": {
    "execution": {
     "iopub.execute_input": "2022-02-20T20:46:18.416887Z",
     "iopub.status.busy": "2022-02-20T20:46:18.415946Z",
     "iopub.status.idle": "2022-02-20T21:16:47.559341Z",
     "shell.execute_reply": "2022-02-20T21:16:47.559948Z",
     "shell.execute_reply.started": "2022-02-20T00:20:24.831643Z"
    },
    "papermill": {
     "duration": 1829.229585,
     "end_time": "2022-02-20T21:16:47.560142",
     "exception": false,
     "start_time": "2022-02-20T20:46:18.330557",
     "status": "completed"
    },
    "tags": []
   },
   "outputs": [
    {
     "name": "stdout",
     "output_type": "stream",
     "text": [
      "gamma: 0.01 accuracy: 0.995375\n",
      "gamma: 0.02 accuracy: 0.9954\n",
      "gamma: 0.03 accuracy: 0.99535\n",
      "gamma: 0.1 accuracy: 0.99545\n",
      "gamma: 0.3 accuracy: 0.994875\n",
      "gamma: 0.5 accuracy: 0.994175\n",
      "gamma: 1 accuracy: 0.9921\n",
      "gamma: 1.1 accuracy: 0.991275\n",
      "gamma: 1.5 accuracy: 0.989175\n",
      "gamma: 2 accuracy: 0.9867\n",
      "gamma: 5 accuracy: 0.97315\n",
      "gamma: 7 accuracy: 0.966125\n",
      "gamma: 9 accuracy: 0.960375\n",
      "gamma: 10 accuracy: 0.957125\n",
      "\n",
      "Best gamma: 0.1 Accuracy score: 0.99545\n"
     ]
    }
   ],
   "source": [
    "results_gamma = {}\n",
    "params['min_child_weight'] = best_min_child_weight\n",
    "gammas = [0.01, 0.02, 0.03, 0.1, 0.3, 0.5, 1, 1.1, 1.5, 2, 5, 7, 9, 10]\n",
    "\n",
    "for gamma in gammas:\n",
    "    params['gamma'] = gamma\n",
    "    model = get_xgb_baseline(params)\n",
    "    model.fit(x_train, y_train)\n",
    "    result = evaluate_model(model, x_test, y_test)\n",
    "    results_gamma[gamma] = result['accuracy']\n",
    "    print('gamma:', gamma, 'accuracy:', results_gamma[gamma])\n",
    "\n",
    "best_gamma = max(results_gamma, key=results_gamma.get)\n",
    "print('\\nBest gamma:', best_gamma, 'Accuracy score:', results_gamma[best_gamma])"
   ]
  },
  {
   "cell_type": "code",
   "execution_count": 22,
   "id": "e763aa99",
   "metadata": {
    "execution": {
     "iopub.execute_input": "2022-02-20T21:16:47.730057Z",
     "iopub.status.busy": "2022-02-20T21:16:47.729341Z",
     "iopub.status.idle": "2022-02-20T21:16:47.733260Z",
     "shell.execute_reply": "2022-02-20T21:16:47.733862Z",
     "shell.execute_reply.started": "2022-02-20T00:49:57.588421Z"
    },
    "papermill": {
     "duration": 0.093647,
     "end_time": "2022-02-20T21:16:47.734036",
     "exception": false,
     "start_time": "2022-02-20T21:16:47.640389",
     "status": "completed"
    },
    "tags": []
   },
   "outputs": [
    {
     "name": "stdout",
     "output_type": "stream",
     "text": [
      "Best Hyperparameters: {'n_estimators': 2000, 'max_depth': 8, 'subsample': 0.7000000000000001, 'eta': 0.1, 'colsample_bytree': 1.0, 'min_child_weight': 1, 'gamma': 0.1}\n"
     ]
    }
   ],
   "source": [
    "params['gamma'] = best_gamma\n",
    "print('Best Hyperparameters:', params)"
   ]
  },
  {
   "cell_type": "code",
   "execution_count": 23,
   "id": "caf23581",
   "metadata": {
    "execution": {
     "iopub.execute_input": "2022-02-20T21:16:47.905311Z",
     "iopub.status.busy": "2022-02-20T21:16:47.904391Z",
     "iopub.status.idle": "2022-02-20T21:16:47.908617Z",
     "shell.execute_reply": "2022-02-20T21:16:47.909139Z",
     "shell.execute_reply.started": "2022-02-20T01:45:50.942779Z"
    },
    "papermill": {
     "duration": 0.092219,
     "end_time": "2022-02-20T21:16:47.909312",
     "exception": false,
     "start_time": "2022-02-20T21:16:47.817093",
     "status": "completed"
    },
    "tags": []
   },
   "outputs": [
    {
     "data": {
      "text/plain": [
       "0.1"
      ]
     },
     "execution_count": 23,
     "metadata": {},
     "output_type": "execute_result"
    }
   ],
   "source": [
    "params.pop('gamma')"
   ]
  },
  {
   "cell_type": "markdown",
   "id": "ee327172",
   "metadata": {
    "papermill": {
     "duration": 0.080526,
     "end_time": "2022-02-20T21:16:48.070208",
     "exception": false,
     "start_time": "2022-02-20T21:16:47.989682",
     "status": "completed"
    },
    "tags": []
   },
   "source": [
    "# Submission"
   ]
  },
  {
   "cell_type": "code",
   "execution_count": 24,
   "id": "0c71f92d",
   "metadata": {
    "execution": {
     "iopub.execute_input": "2022-02-20T21:16:48.239876Z",
     "iopub.status.busy": "2022-02-20T21:16:48.238847Z",
     "iopub.status.idle": "2022-02-20T21:21:29.962436Z",
     "shell.execute_reply": "2022-02-20T21:21:29.963005Z",
     "shell.execute_reply.started": "2022-02-20T15:41:26.635966Z"
    },
    "papermill": {
     "duration": 281.811984,
     "end_time": "2022-02-20T21:21:29.963203",
     "exception": false,
     "start_time": "2022-02-20T21:16:48.151219",
     "status": "completed"
    },
    "tags": []
   },
   "outputs": [
    {
     "name": "stdout",
     "output_type": "stream",
     "text": [
      "{'accuracy': 0.9958}\n"
     ]
    }
   ],
   "source": [
    "model = get_xgb_baseline(params)\n",
    "model.fit(x_train, y_train)\n",
    "result = evaluate_model(model, x_test, y_test)\n",
    "print(result)"
   ]
  },
  {
   "cell_type": "code",
   "execution_count": 25,
   "id": "3763ee11",
   "metadata": {
    "execution": {
     "iopub.execute_input": "2022-02-20T21:21:30.290521Z",
     "iopub.status.busy": "2022-02-20T21:21:30.289464Z",
     "iopub.status.idle": "2022-02-20T21:21:30.293275Z",
     "shell.execute_reply": "2022-02-20T21:21:30.293834Z",
     "shell.execute_reply.started": "2022-02-20T15:50:57.119994Z"
    },
    "papermill": {
     "duration": 0.249253,
     "end_time": "2022-02-20T21:21:30.294012",
     "exception": false,
     "start_time": "2022-02-20T21:21:30.044759",
     "status": "completed"
    },
    "tags": []
   },
   "outputs": [
    {
     "data": {
      "text/plain": [
       "475"
      ]
     },
     "execution_count": 25,
     "metadata": {},
     "output_type": "execute_result"
    }
   ],
   "source": [
    "del x_train, x_test, y_train, y_test, train_df\n",
    "gc.collect()"
   ]
  },
  {
   "cell_type": "code",
   "execution_count": 26,
   "id": "d01d5c60",
   "metadata": {
    "execution": {
     "iopub.execute_input": "2022-02-20T21:21:30.470050Z",
     "iopub.status.busy": "2022-02-20T21:21:30.469344Z",
     "iopub.status.idle": "2022-02-20T21:21:43.433074Z",
     "shell.execute_reply": "2022-02-20T21:21:43.432403Z",
     "shell.execute_reply.started": "2022-02-20T15:52:55.200997Z"
    },
    "papermill": {
     "duration": 13.053453,
     "end_time": "2022-02-20T21:21:43.433245",
     "exception": false,
     "start_time": "2022-02-20T21:21:30.379792",
     "status": "completed"
    },
    "tags": []
   },
   "outputs": [],
   "source": [
    "test_df = pd.read_csv('/kaggle/input/tabular-playground-series-feb-2022/test.csv')"
   ]
  },
  {
   "cell_type": "code",
   "execution_count": 27,
   "id": "e4872f62",
   "metadata": {
    "execution": {
     "iopub.execute_input": "2022-02-20T21:21:43.609779Z",
     "iopub.status.busy": "2022-02-20T21:21:43.608645Z",
     "iopub.status.idle": "2022-02-20T21:21:48.061598Z",
     "shell.execute_reply": "2022-02-20T21:21:48.063031Z",
     "shell.execute_reply.started": "2022-02-20T15:53:01.916686Z"
    },
    "papermill": {
     "duration": 4.547208,
     "end_time": "2022-02-20T21:21:48.063414",
     "exception": false,
     "start_time": "2022-02-20T21:21:43.516206",
     "status": "completed"
    },
    "tags": []
   },
   "outputs": [],
   "source": [
    "ids = test_df.pop('row_id').values\n",
    "test_df['mean'] = np.mean(test_df, axis=1)\n",
    "target = le.inverse_transform(model.predict(test_df))\n",
    "submission = pd.DataFrame({'row_id' : ids, 'target' : target})"
   ]
  },
  {
   "cell_type": "code",
   "execution_count": 28,
   "id": "341c6aed",
   "metadata": {
    "execution": {
     "iopub.execute_input": "2022-02-20T21:21:48.380259Z",
     "iopub.status.busy": "2022-02-20T21:21:48.379222Z",
     "iopub.status.idle": "2022-02-20T21:21:48.397415Z",
     "shell.execute_reply": "2022-02-20T21:21:48.398803Z",
     "shell.execute_reply.started": "2022-02-20T15:53:07.460488Z"
    },
    "papermill": {
     "duration": 0.171049,
     "end_time": "2022-02-20T21:21:48.399044",
     "exception": false,
     "start_time": "2022-02-20T21:21:48.227995",
     "status": "completed"
    },
    "tags": []
   },
   "outputs": [
    {
     "data": {
      "text/html": [
       "<div>\n",
       "<style scoped>\n",
       "    .dataframe tbody tr th:only-of-type {\n",
       "        vertical-align: middle;\n",
       "    }\n",
       "\n",
       "    .dataframe tbody tr th {\n",
       "        vertical-align: top;\n",
       "    }\n",
       "\n",
       "    .dataframe thead th {\n",
       "        text-align: right;\n",
       "    }\n",
       "</style>\n",
       "<table border=\"1\" class=\"dataframe\">\n",
       "  <thead>\n",
       "    <tr style=\"text-align: right;\">\n",
       "      <th></th>\n",
       "      <th>row_id</th>\n",
       "      <th>target</th>\n",
       "    </tr>\n",
       "  </thead>\n",
       "  <tbody>\n",
       "    <tr>\n",
       "      <th>0</th>\n",
       "      <td>200000</td>\n",
       "      <td>Escherichia_fergusonii</td>\n",
       "    </tr>\n",
       "    <tr>\n",
       "      <th>1</th>\n",
       "      <td>200001</td>\n",
       "      <td>Salmonella_enterica</td>\n",
       "    </tr>\n",
       "    <tr>\n",
       "      <th>2</th>\n",
       "      <td>200002</td>\n",
       "      <td>Enterococcus_hirae</td>\n",
       "    </tr>\n",
       "    <tr>\n",
       "      <th>3</th>\n",
       "      <td>200003</td>\n",
       "      <td>Salmonella_enterica</td>\n",
       "    </tr>\n",
       "    <tr>\n",
       "      <th>4</th>\n",
       "      <td>200004</td>\n",
       "      <td>Staphylococcus_aureus</td>\n",
       "    </tr>\n",
       "  </tbody>\n",
       "</table>\n",
       "</div>"
      ],
      "text/plain": [
       "   row_id                  target\n",
       "0  200000  Escherichia_fergusonii\n",
       "1  200001     Salmonella_enterica\n",
       "2  200002      Enterococcus_hirae\n",
       "3  200003     Salmonella_enterica\n",
       "4  200004   Staphylococcus_aureus"
      ]
     },
     "execution_count": 28,
     "metadata": {},
     "output_type": "execute_result"
    }
   ],
   "source": [
    "submission.head()"
   ]
  },
  {
   "cell_type": "code",
   "execution_count": 29,
   "id": "cf8d917b",
   "metadata": {
    "execution": {
     "iopub.execute_input": "2022-02-20T21:21:48.689254Z",
     "iopub.status.busy": "2022-02-20T21:21:48.688194Z",
     "iopub.status.idle": "2022-02-20T21:21:48.933155Z",
     "shell.execute_reply": "2022-02-20T21:21:48.933750Z",
     "shell.execute_reply.started": "2022-02-20T15:53:07.475410Z"
    },
    "papermill": {
     "duration": 0.377676,
     "end_time": "2022-02-20T21:21:48.933950",
     "exception": false,
     "start_time": "2022-02-20T21:21:48.556274",
     "status": "completed"
    },
    "tags": []
   },
   "outputs": [],
   "source": [
    "submission.to_csv('submission.csv', index=False)"
   ]
  },
  {
   "cell_type": "code",
   "execution_count": null,
   "id": "152205d2",
   "metadata": {
    "papermill": {
     "duration": 0.085938,
     "end_time": "2022-02-20T21:21:49.105760",
     "exception": false,
     "start_time": "2022-02-20T21:21:49.019822",
     "status": "completed"
    },
    "tags": []
   },
   "outputs": [],
   "source": []
  }
 ],
 "metadata": {
  "kernelspec": {
   "display_name": "Python 3",
   "language": "python",
   "name": "python3"
  },
  "language_info": {
   "codemirror_mode": {
    "name": "ipython",
    "version": 3
   },
   "file_extension": ".py",
   "mimetype": "text/x-python",
   "name": "python",
   "nbconvert_exporter": "python",
   "pygments_lexer": "ipython3",
   "version": "3.7.12"
  },
  "papermill": {
   "default_parameters": {},
   "duration": 19614.822063,
   "end_time": "2022-02-20T21:21:50.844065",
   "environment_variables": {},
   "exception": null,
   "input_path": "__notebook__.ipynb",
   "output_path": "__notebook__.ipynb",
   "parameters": {},
   "start_time": "2022-02-20T15:54:56.022002",
   "version": "2.3.3"
  }
 },
 "nbformat": 4,
 "nbformat_minor": 5
}
