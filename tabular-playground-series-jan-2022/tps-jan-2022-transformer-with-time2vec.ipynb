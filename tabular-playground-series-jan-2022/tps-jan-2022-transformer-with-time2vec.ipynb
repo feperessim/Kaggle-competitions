{
 "cells": [
  {
   "cell_type": "code",
   "execution_count": 1,
   "id": "9d153fb6",
   "metadata": {
    "_cell_guid": "b1076dfc-b9ad-4769-8c92-a6c4dae69d19",
    "_uuid": "8f2839f25d086af736a60e9eeb907d3b93b6e0e5",
    "execution": {
     "iopub.execute_input": "2022-01-21T16:53:12.693005Z",
     "iopub.status.busy": "2022-01-21T16:53:12.691898Z",
     "iopub.status.idle": "2022-01-21T16:53:12.708346Z",
     "shell.execute_reply": "2022-01-21T16:53:12.707525Z",
     "shell.execute_reply.started": "2022-01-21T16:40:00.050422Z"
    },
    "papermill": {
     "duration": 0.037533,
     "end_time": "2022-01-21T16:53:12.708531",
     "exception": false,
     "start_time": "2022-01-21T16:53:12.670998",
     "status": "completed"
    },
    "tags": []
   },
   "outputs": [
    {
     "name": "stdout",
     "output_type": "stream",
     "text": [
      "/kaggle/input/tabular-playground-series-jan-2022/sample_submission.csv\n",
      "/kaggle/input/tabular-playground-series-jan-2022/train.csv\n",
      "/kaggle/input/tabular-playground-series-jan-2022/test.csv\n"
     ]
    }
   ],
   "source": [
    "# This Python 3 environment comes with many helpful analytics libraries installed\n",
    "# It is defined by the kaggle/python Docker image: https://github.com/kaggle/docker-python\n",
    "# For example, here's several helpful packages to load\n",
    "\n",
    "import numpy as np # linear algebra\n",
    "import pandas as pd # data processing, CSV file I/O (e.g. pd.read_csv)\n",
    "\n",
    "# Input data files are available in the read-only \"../input/\" directory\n",
    "# For example, running this (by clicking run or pressing Shift+Enter) will list all files under the input directory\n",
    "\n",
    "import os\n",
    "for dirname, _, filenames in os.walk('/kaggle/input'):\n",
    "    for filename in filenames:\n",
    "        print(os.path.join(dirname, filename))\n",
    "\n",
    "# You can write up to 20GB to the current directory (/kaggle/working/) that gets preserved as output when you create a version using \"Save & Run All\" \n",
    "# You can also write temporary files to /kaggle/temp/, but they won't be saved outside of the current session"
   ]
  },
  {
   "cell_type": "code",
   "execution_count": 2,
   "id": "3b752f9e",
   "metadata": {
    "execution": {
     "iopub.execute_input": "2022-01-21T16:53:12.746931Z",
     "iopub.status.busy": "2022-01-21T16:53:12.746073Z",
     "iopub.status.idle": "2022-01-21T16:53:20.399701Z",
     "shell.execute_reply": "2022-01-21T16:53:20.400175Z",
     "shell.execute_reply.started": "2022-01-21T16:40:00.280788Z"
    },
    "papermill": {
     "duration": 7.67511,
     "end_time": "2022-01-21T16:53:20.400391",
     "exception": false,
     "start_time": "2022-01-21T16:53:12.725281",
     "status": "completed"
    },
    "tags": []
   },
   "outputs": [],
   "source": [
    "import warnings\n",
    "import gc\n",
    "import tensorflow as tf\n",
    "\n",
    "from tensorflow.keras import layers\n",
    "from tensorflow import keras\n",
    "from sklearn.preprocessing import StandardScaler\n",
    "from sklearn.preprocessing import OneHotEncoder\n",
    "from sklearn.model_selection import train_test_split\n",
    "\n",
    "warnings.filterwarnings(\"ignore\")"
   ]
  },
  {
   "cell_type": "markdown",
   "id": "0786325a",
   "metadata": {
    "papermill": {
     "duration": 0.014713,
     "end_time": "2022-01-21T16:53:20.430211",
     "exception": false,
     "start_time": "2022-01-21T16:53:20.415498",
     "status": "completed"
    },
    "tags": []
   },
   "source": [
    "# Transformer with TIME2VEC - ONGOING WORK\n",
    "\n",
    "Here I tried a transformer model with almost nothing of preprocessing on the data. The results aren't that good yet, so next time\n",
    "I am going do some feature engineering, like adding information extracted from the dates, like holidays, weekends and month of the year for instance."
   ]
  },
  {
   "cell_type": "code",
   "execution_count": 3,
   "id": "0ca245e0",
   "metadata": {
    "execution": {
     "iopub.execute_input": "2022-01-21T16:53:20.464307Z",
     "iopub.status.busy": "2022-01-21T16:53:20.463698Z",
     "iopub.status.idle": "2022-01-21T16:53:20.468682Z",
     "shell.execute_reply": "2022-01-21T16:53:20.469280Z",
     "shell.execute_reply.started": "2022-01-21T16:40:02.559470Z"
    },
    "papermill": {
     "duration": 0.024041,
     "end_time": "2022-01-21T16:53:20.469449",
     "exception": false,
     "start_time": "2022-01-21T16:53:20.445408",
     "status": "completed"
    },
    "tags": []
   },
   "outputs": [],
   "source": [
    "def smape(y_true, y_pred):\n",
    "    y_true = tf.cast(y_true, tf.float32)\n",
    "    y_pred = tf.cast(y_pred, tf.float32)\n",
    "    num = tf.math.abs(tf.math.subtract(y_true, y_pred))\n",
    "    denom = tf.math.add(tf.math.abs(y_true), tf.math.abs(y_pred))\n",
    "    denom = tf.math.divide(denom,200.0)\n",
    "    \n",
    "    val = tf.math.divide(num,denom)\n",
    "    val = tf.where(denom == 0.0, 0.0, val) \n",
    "    return tf.reduce_mean(val)"
   ]
  },
  {
   "cell_type": "code",
   "execution_count": 4,
   "id": "e2f78125",
   "metadata": {
    "execution": {
     "iopub.execute_input": "2022-01-21T16:53:20.506020Z",
     "iopub.status.busy": "2022-01-21T16:53:20.505313Z",
     "iopub.status.idle": "2022-01-21T16:53:20.508031Z",
     "shell.execute_reply": "2022-01-21T16:53:20.507357Z",
     "shell.execute_reply.started": "2022-01-21T16:40:02.567494Z"
    },
    "papermill": {
     "duration": 0.023728,
     "end_time": "2022-01-21T16:53:20.508171",
     "exception": false,
     "start_time": "2022-01-21T16:53:20.484443",
     "status": "completed"
    },
    "tags": []
   },
   "outputs": [],
   "source": [
    "def split_sequences(sequences, n_steps):\n",
    "\tX, y = list(), list()\n",
    "\tfor i in range(len(sequences)):\n",
    "\t\t# find the end of this pattern\n",
    "\t\tend_ix = i + n_steps\n",
    "\t\t# check if we are beyond the dataset\n",
    "\t\tif end_ix > len(sequences):\n",
    "\t\t\tbreak\n",
    "\t\t# gather input and output parts of the pattern\n",
    "\t\tseq_x, seq_y = sequences[i:end_ix, :-1], sequences[end_ix-1, -1]\n",
    "\t\tX.append(seq_x)\n",
    "\t\ty.append(seq_y)\n",
    "\treturn np.array(X), np.array(y)"
   ]
  },
  {
   "cell_type": "code",
   "execution_count": 5,
   "id": "10ddf378",
   "metadata": {
    "execution": {
     "iopub.execute_input": "2022-01-21T16:53:20.550090Z",
     "iopub.status.busy": "2022-01-21T16:53:20.541608Z",
     "iopub.status.idle": "2022-01-21T16:53:20.552548Z",
     "shell.execute_reply": "2022-01-21T16:53:20.552011Z",
     "shell.execute_reply.started": "2022-01-21T16:40:02.586158Z"
    },
    "papermill": {
     "duration": 0.029387,
     "end_time": "2022-01-21T16:53:20.552681",
     "exception": false,
     "start_time": "2022-01-21T16:53:20.523294",
     "status": "completed"
    },
    "tags": []
   },
   "outputs": [],
   "source": [
    "class Time2Vector(tf.keras.layers.Layer):\n",
    "    def __init__(self, seq_len, **kwargs):\n",
    "        super(Time2Vector, self).__init__()\n",
    "        self.seq_len = seq_len\n",
    "\n",
    "    def build(self, input_shape):\n",
    "        self.weights_linear = self.add_weight(name='weight_linear',\n",
    "                                    shape=(int(self.seq_len),),\n",
    "                                    initializer='uniform',\n",
    "                                    trainable=True)\n",
    "\n",
    "        self.bias_linear = self.add_weight(name='bias_linear',\n",
    "                                    shape=(int(self.seq_len),),\n",
    "                                    initializer='uniform',\n",
    "                                    trainable=True)\n",
    "\n",
    "        self.weights_periodic = self.add_weight(name='weight_periodic',\n",
    "                                    shape=(int(self.seq_len),),\n",
    "                                    initializer='uniform',\n",
    "                                    trainable=True)\n",
    "\n",
    "        self.bias_periodic = self.add_weight(name='bias_periodic',\n",
    "                                    shape=(int(self.seq_len),),\n",
    "                                    initializer='uniform',\n",
    "                                    trainable=True)\n",
    "\n",
    "    def call(self, x):\n",
    "        x = tf.math.reduce_mean(x[:,:,:], axis=-1) # Convert (batch, seq_len, 5) to (batch, seq_len)\n",
    "        time_linear = self.weights_linear * x + self.bias_linear\n",
    "        time_linear = tf.expand_dims(time_linear, axis=-1) # (batch, seq_len, 1)\n",
    "        time_periodic = tf.math.sin(tf.multiply(x, self.weights_periodic) + self.bias_periodic)\n",
    "        time_periodic = tf.expand_dims(time_periodic, axis=-1) # (batch, seq_len, 1)\n",
    "        return tf.concat([time_linear, time_periodic], axis=-1) # (batch, seq_len, 2"
   ]
  },
  {
   "cell_type": "code",
   "execution_count": 6,
   "id": "7e1590a5",
   "metadata": {
    "execution": {
     "iopub.execute_input": "2022-01-21T16:53:20.598389Z",
     "iopub.status.busy": "2022-01-21T16:53:20.597665Z",
     "iopub.status.idle": "2022-01-21T16:53:20.599427Z",
     "shell.execute_reply": "2022-01-21T16:53:20.599918Z",
     "shell.execute_reply.started": "2022-01-21T16:40:02.603707Z"
    },
    "papermill": {
     "duration": 0.031624,
     "end_time": "2022-01-21T16:53:20.600092",
     "exception": false,
     "start_time": "2022-01-21T16:53:20.568468",
     "status": "completed"
    },
    "tags": []
   },
   "outputs": [],
   "source": [
    "class TransformerEncoder(layers.Layer):\n",
    "    def __init__(self, embed_dim, num_heads, feed_forward_dim, rate=0.1):\n",
    "        super().__init__()\n",
    "        self.attn = layers.MultiHeadAttention(num_heads=num_heads, key_dim=embed_dim)\n",
    "        self.ffn = keras.Sequential(\n",
    "            [\n",
    "                layers.Dense(feed_forward_dim, activation=\"relu\"),\n",
    "                layers.Dense(embed_dim),\n",
    "            ]\n",
    "        )\n",
    "        self.layernorm1 = layers.LayerNormalization(epsilon=1e-6)\n",
    "        self.layernorm2 = layers.LayerNormalization(epsilon=1e-6)\n",
    "        self.dropout1 = layers.Dropout(rate)\n",
    "        self.dropout2 = layers.Dropout(rate)\n",
    "\n",
    "    def call(self, inputs, training):\n",
    "        attn_output = self.attn(inputs, inputs)\n",
    "        attn_output = self.dropout1(attn_output, training=training)\n",
    "        out1 = self.layernorm1(inputs + attn_output)\n",
    "        ffn_output = self.ffn(out1)\n",
    "        ffn_output = self.dropout2(ffn_output, training=training)\n",
    "        return self.layernorm2(out1 + ffn_output)\n",
    "\n",
    "\n",
    "class Transformer(keras.Model):\n",
    "    def __init__(\n",
    "            self,\n",
    "            num_hid=64, # embed_dim - num of features\n",
    "            time_steps=7,\n",
    "            num_head = 2,\n",
    "            num_feed_forward=128, # pointwise dim\n",
    "            num_layers_enc = 4,\n",
    "            time_embedding = False,\n",
    "    ):\n",
    "        super().__init__()\n",
    "        self.num_hid = num_hid\n",
    "        if time_embedding:\n",
    "            self.num_hid += 2\n",
    "            self.tv = Time2Vector(time_steps)\n",
    "        else:\n",
    "            self.tv = None\n",
    "        self.numlayers_enc = num_layers_enc\n",
    "        self.enc_input = layers.Input((time_steps, self.num_hid))\n",
    "        self.encoder = keras.Sequential(\n",
    "            [self.enc_input]\n",
    "            + [\n",
    "                TransformerEncoder(self.num_hid, num_head, num_feed_forward)\n",
    "                for _ in range(num_layers_enc)\n",
    "            ]\n",
    "        )\n",
    "        self.GlobalAveragePooling1D = layers.GlobalAveragePooling1D(data_format='channels_last')\n",
    "        self.out = layers.Dense(units=1, activation='linear')        \n",
    "        self.concat = tf.keras.layers.Concatenate(axis=-1)\n",
    "        \n",
    "    def call(self, inputs):\n",
    "        if self.tv:\n",
    "            x = self.tv(inputs)\n",
    "            x = self.concat([inputs, x])\n",
    "            x = self.encoder(x)\n",
    "        else:\n",
    "            x = self.encoder(inputs)\n",
    "        x = self.GlobalAveragePooling1D(x)\n",
    "        y = self.out(x)\n",
    "        return y"
   ]
  },
  {
   "cell_type": "code",
   "execution_count": 7,
   "id": "b8bb8ac9",
   "metadata": {
    "execution": {
     "iopub.execute_input": "2022-01-21T16:53:20.638951Z",
     "iopub.status.busy": "2022-01-21T16:53:20.638216Z",
     "iopub.status.idle": "2022-01-21T16:53:20.640040Z",
     "shell.execute_reply": "2022-01-21T16:53:20.640584Z",
     "shell.execute_reply.started": "2022-01-21T16:40:02.623906Z"
    },
    "papermill": {
     "duration": 0.024558,
     "end_time": "2022-01-21T16:53:20.640899",
     "exception": false,
     "start_time": "2022-01-21T16:53:20.616341",
     "status": "completed"
    },
    "tags": []
   },
   "outputs": [],
   "source": [
    "# https://pandas.pydata.org/pandas-docs/stable/user_guide/timeseries.html\n",
    "def preprocess(df):\n",
    "    df = df.copy()\n",
    "    df['date'] = pd.to_datetime(df['date'])\n",
    "    df['day_of_week'] = df['date'].dt.day_of_week\n",
    "    df['weekday'] = df['date'].dt.weekday\n",
    "    df['week'] = df['date'].dt.week\n",
    "    df['quarter'] = df['date'].dt.quarter\n",
    "    df['day_of_year'] = df['date'].dt.day_of_year\n",
    "    df['weekofyear'] = df['date'].dt.weekofyear\n",
    "    return df"
   ]
  },
  {
   "cell_type": "code",
   "execution_count": 8,
   "id": "5761ecb8",
   "metadata": {
    "execution": {
     "iopub.execute_input": "2022-01-21T16:53:20.677062Z",
     "iopub.status.busy": "2022-01-21T16:53:20.676308Z",
     "iopub.status.idle": "2022-01-21T16:53:20.678571Z",
     "shell.execute_reply": "2022-01-21T16:53:20.679077Z",
     "shell.execute_reply.started": "2022-01-21T16:40:02.836438Z"
    },
    "papermill": {
     "duration": 0.022578,
     "end_time": "2022-01-21T16:53:20.679269",
     "exception": false,
     "start_time": "2022-01-21T16:53:20.656691",
     "status": "completed"
    },
    "tags": []
   },
   "outputs": [],
   "source": [
    "seed = 47\n",
    "TIMESTEPS = 1"
   ]
  },
  {
   "cell_type": "markdown",
   "id": "6b3075f8",
   "metadata": {
    "papermill": {
     "duration": 0.014801,
     "end_time": "2022-01-21T16:53:20.710607",
     "exception": false,
     "start_time": "2022-01-21T16:53:20.695806",
     "status": "completed"
    },
    "tags": []
   },
   "source": [
    "# Reading the dataset"
   ]
  },
  {
   "cell_type": "code",
   "execution_count": 9,
   "id": "321a7290",
   "metadata": {
    "execution": {
     "iopub.execute_input": "2022-01-21T16:53:20.746300Z",
     "iopub.status.busy": "2022-01-21T16:53:20.745649Z",
     "iopub.status.idle": "2022-01-21T16:53:20.795834Z",
     "shell.execute_reply": "2022-01-21T16:53:20.796324Z",
     "shell.execute_reply.started": "2022-01-21T16:40:04.437631Z"
    },
    "papermill": {
     "duration": 0.070754,
     "end_time": "2022-01-21T16:53:20.796503",
     "exception": false,
     "start_time": "2022-01-21T16:53:20.725749",
     "status": "completed"
    },
    "tags": []
   },
   "outputs": [],
   "source": [
    "train_df = pd.read_csv(\"/kaggle/input/tabular-playground-series-jan-2022/train.csv\", sep=',')"
   ]
  },
  {
   "cell_type": "code",
   "execution_count": 10,
   "id": "d73a1acf",
   "metadata": {
    "execution": {
     "iopub.execute_input": "2022-01-21T16:53:20.835163Z",
     "iopub.status.busy": "2022-01-21T16:53:20.834326Z",
     "iopub.status.idle": "2022-01-21T16:53:20.907512Z",
     "shell.execute_reply": "2022-01-21T16:53:20.906801Z",
     "shell.execute_reply.started": "2022-01-21T16:40:05.177881Z"
    },
    "papermill": {
     "duration": 0.09412,
     "end_time": "2022-01-21T16:53:20.907660",
     "exception": false,
     "start_time": "2022-01-21T16:53:20.813540",
     "status": "completed"
    },
    "tags": []
   },
   "outputs": [],
   "source": [
    "train_df = preprocess(train_df)\n",
    "x_train = train_df.drop(['row_id', 'date', 'num_sold'], axis=1)\n",
    "y_train = train_df['num_sold']\n",
    "x_train, x_test, y_train, y_test = train_test_split(x_train, y_train, test_size=0.2, random_state=seed, shuffle=False)"
   ]
  },
  {
   "cell_type": "markdown",
   "id": "13cc448d",
   "metadata": {
    "papermill": {
     "duration": 0.015843,
     "end_time": "2022-01-21T16:53:20.940612",
     "exception": false,
     "start_time": "2022-01-21T16:53:20.924769",
     "status": "completed"
    },
    "tags": []
   },
   "source": [
    "# Preprocessing"
   ]
  },
  {
   "cell_type": "markdown",
   "id": "26c119c0",
   "metadata": {
    "papermill": {
     "duration": 0.016971,
     "end_time": "2022-01-21T16:53:20.975233",
     "exception": false,
     "start_time": "2022-01-21T16:53:20.958262",
     "status": "completed"
    },
    "tags": []
   },
   "source": [
    "<h3>Convert the categorical variables to one-hot</h3>"
   ]
  },
  {
   "cell_type": "code",
   "execution_count": 11,
   "id": "ce9da1f1",
   "metadata": {
    "execution": {
     "iopub.execute_input": "2022-01-21T16:53:21.011993Z",
     "iopub.status.busy": "2022-01-21T16:53:21.011379Z",
     "iopub.status.idle": "2022-01-21T16:53:21.203716Z",
     "shell.execute_reply": "2022-01-21T16:53:21.204241Z",
     "shell.execute_reply.started": "2022-01-21T16:40:06.835171Z"
    },
    "papermill": {
     "duration": 0.213289,
     "end_time": "2022-01-21T16:53:21.204419",
     "exception": false,
     "start_time": "2022-01-21T16:53:20.991130",
     "status": "completed"
    },
    "tags": []
   },
   "outputs": [],
   "source": [
    "onehotencoder = OneHotEncoder()\n",
    "\n",
    "x_train = onehotencoder.fit_transform(x_train).toarray()\n",
    "x_test = onehotencoder.transform(x_test).toarray()"
   ]
  },
  {
   "cell_type": "markdown",
   "id": "caf026dc",
   "metadata": {
    "papermill": {
     "duration": 0.014738,
     "end_time": "2022-01-21T16:53:21.234399",
     "exception": false,
     "start_time": "2022-01-21T16:53:21.219661",
     "status": "completed"
    },
    "tags": []
   },
   "source": [
    "<h3>Converte the data to 3D array shape</h3>"
   ]
  },
  {
   "cell_type": "code",
   "execution_count": 12,
   "id": "27a638cc",
   "metadata": {
    "execution": {
     "iopub.execute_input": "2022-01-21T16:53:21.272104Z",
     "iopub.status.busy": "2022-01-21T16:53:21.270919Z",
     "iopub.status.idle": "2022-01-21T16:53:21.418153Z",
     "shell.execute_reply": "2022-01-21T16:53:21.416992Z",
     "shell.execute_reply.started": "2022-01-21T16:40:09.714838Z"
    },
    "papermill": {
     "duration": 0.166815,
     "end_time": "2022-01-21T16:53:21.418361",
     "exception": false,
     "start_time": "2022-01-21T16:53:21.251546",
     "status": "completed"
    },
    "tags": []
   },
   "outputs": [],
   "source": [
    "x_train = np.append(x_train, y_train.values.reshape(-1, 1), axis=1)\n",
    "x_test = np.append(x_test, y_test.values.reshape(-1, 1), axis=1)\n",
    "x_train, y_train = split_sequences(x_train, TIMESTEPS)\n",
    "x_test, y_test = split_sequences(x_test, TIMESTEPS)"
   ]
  },
  {
   "cell_type": "code",
   "execution_count": 13,
   "id": "1cee8ed1",
   "metadata": {
    "execution": {
     "iopub.execute_input": "2022-01-21T16:53:21.457027Z",
     "iopub.status.busy": "2022-01-21T16:53:21.456351Z",
     "iopub.status.idle": "2022-01-21T17:09:57.858128Z",
     "shell.execute_reply": "2022-01-21T17:09:57.858799Z",
     "shell.execute_reply.started": "2022-01-21T16:40:10.115221Z"
    },
    "papermill": {
     "duration": 996.425059,
     "end_time": "2022-01-21T17:09:57.859238",
     "exception": false,
     "start_time": "2022-01-21T16:53:21.434179",
     "status": "completed"
    },
    "tags": []
   },
   "outputs": [
    {
     "name": "stderr",
     "output_type": "stream",
     "text": [
      "\n",
      "User settings:\n",
      "\n",
      "   KMP_AFFINITY=granularity=fine,verbose,compact,1,0\n",
      "   KMP_BLOCKTIME=0\n",
      "   KMP_DUPLICATE_LIB_OK=True\n",
      "   KMP_INIT_AT_FORK=FALSE\n",
      "   KMP_SETTINGS=1\n",
      "   KMP_WARNINGS=0\n",
      "\n",
      "Effective settings:\n",
      "\n",
      "   KMP_ABORT_DELAY=0\n",
      "   KMP_ADAPTIVE_LOCK_PROPS='1,1024'\n",
      "   KMP_ALIGN_ALLOC=64\n",
      "   KMP_ALL_THREADPRIVATE=128\n",
      "   KMP_ATOMIC_MODE=2\n",
      "   KMP_BLOCKTIME=0\n",
      "   KMP_CPUINFO_FILE: value is not defined\n",
      "   KMP_DETERMINISTIC_REDUCTION=false\n",
      "   KMP_DEVICE_THREAD_LIMIT=2147483647\n",
      "   KMP_DISP_NUM_BUFFERS=7\n",
      "   KMP_DUPLICATE_LIB_OK=true\n",
      "   KMP_ENABLE_TASK_THROTTLING=true\n",
      "   KMP_FORCE_REDUCTION: value is not defined\n",
      "   KMP_FOREIGN_THREADS_THREADPRIVATE=true\n",
      "   KMP_FORKJOIN_BARRIER='2,2'\n",
      "   KMP_FORKJOIN_BARRIER_PATTERN='hyper,hyper'\n",
      "   KMP_GTID_MODE=3\n",
      "   KMP_HANDLE_SIGNALS=false\n",
      "   KMP_HOT_TEAMS_MAX_LEVEL=1\n",
      "   KMP_HOT_TEAMS_MODE=0\n",
      "   KMP_INIT_AT_FORK=true\n",
      "   KMP_LIBRARY=throughput\n",
      "   KMP_LOCK_KIND=queuing\n",
      "   KMP_MALLOC_POOL_INCR=1M\n",
      "   KMP_NUM_LOCKS_IN_BLOCK=1\n",
      "   KMP_PLAIN_BARRIER='2,2'\n",
      "   KMP_PLAIN_BARRIER_PATTERN='hyper,hyper'\n",
      "   KMP_REDUCTION_BARRIER='1,1'\n",
      "   KMP_REDUCTION_BARRIER_PATTERN='hyper,hyper'\n",
      "   KMP_SCHEDULE='static,balanced;guided,iterative'\n",
      "   KMP_SETTINGS=true\n",
      "   KMP_SPIN_BACKOFF_PARAMS='4096,100'\n",
      "   KMP_STACKOFFSET=64\n",
      "   KMP_STACKPAD=0\n",
      "   KMP_STACKSIZE=8M\n",
      "   KMP_STORAGE_MAP=false\n",
      "   KMP_TASKING=2\n",
      "   KMP_TASKLOOP_MIN_TASKS=0\n",
      "   KMP_TASK_STEALING_CONSTRAINT=1\n",
      "   KMP_TEAMS_THREAD_LIMIT=4\n",
      "   KMP_TOPOLOGY_METHOD=all\n",
      "   KMP_USE_YIELD=1\n",
      "   KMP_VERSION=false\n",
      "   KMP_WARNINGS=false\n",
      "   OMP_AFFINITY_FORMAT='OMP: pid %P tid %i thread %n bound to OS proc set {%A}'\n",
      "   OMP_ALLOCATOR=omp_default_mem_alloc\n",
      "   OMP_CANCELLATION=false\n",
      "   OMP_DEFAULT_DEVICE=0\n",
      "   OMP_DISPLAY_AFFINITY=false\n",
      "   OMP_DISPLAY_ENV=false\n",
      "   OMP_DYNAMIC=false\n",
      "   OMP_MAX_ACTIVE_LEVELS=1\n",
      "   OMP_MAX_TASK_PRIORITY=0\n",
      "   OMP_NESTED: deprecated; max-active-levels-var=1\n",
      "   OMP_NUM_THREADS: value is not defined\n",
      "   OMP_PLACES: value is not defined\n",
      "   OMP_PROC_BIND='intel'\n",
      "   OMP_SCHEDULE='static'\n",
      "   OMP_STACKSIZE=8M\n",
      "   OMP_TARGET_OFFLOAD=DEFAULT\n",
      "   OMP_THREAD_LIMIT=2147483647\n",
      "   OMP_WAIT_POLICY=PASSIVE\n",
      "   KMP_AFFINITY='verbose,warnings,respect,granularity=fine,compact,1,0'\n",
      "\n",
      "2022-01-21 16:53:21.488686: I tensorflow/core/common_runtime/process_util.cc:146] Creating new thread pool with default inter op setting: 2. Tune using inter_op_parallelism_threads for best performance.\n",
      "2022-01-21 16:53:22.106503: I tensorflow/compiler/mlir/mlir_graph_optimization_pass.cc:185] None of the MLIR Optimization Passes are enabled (registered 2)\n"
     ]
    },
    {
     "name": "stdout",
     "output_type": "stream",
     "text": [
      "\n",
      "165/165 [==============================] - 2s 9ms/step - loss: 13.1079\n",
      "13.107850074768066\n"
     ]
    }
   ],
   "source": [
    "num_heads=2\n",
    "num_layers_enc=2\n",
    "num_feed_forward=128\n",
    "num_features = x_train.shape[-1]\n",
    "time_steps = TIMESTEPS\n",
    "epochs = 100\n",
    "batch_size = 128\n",
    "\n",
    "model = Transformer(num_hid=num_features,\n",
    "                        time_steps=time_steps,\n",
    "                        time_embedding=True,\n",
    "                        num_head=num_heads,\n",
    "                        num_layers_enc=num_layers_enc,\n",
    "                        num_feed_forward=num_feed_forward)\n",
    "\n",
    "opt = tf.keras.optimizers.Adam()\n",
    "loss = tf.keras.losses.mse\n",
    "model.compile(optimizer=opt, loss=smape)\n",
    "model.fit(x_train, y_train, epochs=epochs, batch_size=batch_size, verbose=0)\n",
    "print()\n",
    "results = model.evaluate(x_test, y_test)\n",
    "print(results)"
   ]
  },
  {
   "cell_type": "markdown",
   "id": "bbad9349",
   "metadata": {
    "papermill": {
     "duration": 0.023115,
     "end_time": "2022-01-21T17:09:57.906009",
     "exception": false,
     "start_time": "2022-01-21T17:09:57.882894",
     "status": "completed"
    },
    "tags": []
   },
   "source": [
    "# Submission"
   ]
  },
  {
   "cell_type": "code",
   "execution_count": 14,
   "id": "34d06d41",
   "metadata": {
    "execution": {
     "iopub.execute_input": "2022-01-21T17:09:57.957327Z",
     "iopub.status.busy": "2022-01-21T17:09:57.956661Z",
     "iopub.status.idle": "2022-01-21T17:09:58.306035Z",
     "shell.execute_reply": "2022-01-21T17:09:58.306547Z",
     "shell.execute_reply.started": "2022-01-16T19:28:17.365584Z"
    },
    "papermill": {
     "duration": 0.377445,
     "end_time": "2022-01-21T17:09:58.306724",
     "exception": false,
     "start_time": "2022-01-21T17:09:57.929279",
     "status": "completed"
    },
    "tags": []
   },
   "outputs": [
    {
     "data": {
      "text/plain": [
       "2702"
      ]
     },
     "execution_count": 14,
     "metadata": {},
     "output_type": "execute_result"
    }
   ],
   "source": [
    "del train_df, x_train, y_train, x_test, y_test\n",
    "gc.collect()"
   ]
  },
  {
   "cell_type": "code",
   "execution_count": 15,
   "id": "c10aa4b4",
   "metadata": {
    "execution": {
     "iopub.execute_input": "2022-01-21T17:09:58.357568Z",
     "iopub.status.busy": "2022-01-21T17:09:58.356972Z",
     "iopub.status.idle": "2022-01-21T17:09:58.377527Z",
     "shell.execute_reply": "2022-01-21T17:09:58.377979Z",
     "shell.execute_reply.started": "2022-01-21T14:53:27.754894Z"
    },
    "papermill": {
     "duration": 0.048702,
     "end_time": "2022-01-21T17:09:58.378163",
     "exception": false,
     "start_time": "2022-01-21T17:09:58.329461",
     "status": "completed"
    },
    "tags": []
   },
   "outputs": [],
   "source": [
    "test_df = pd.read_csv(\"/kaggle/input/tabular-playground-series-jan-2022/test.csv\", sep=',')"
   ]
  },
  {
   "cell_type": "code",
   "execution_count": 16,
   "id": "7cd46842",
   "metadata": {
    "execution": {
     "iopub.execute_input": "2022-01-21T17:09:58.428469Z",
     "iopub.status.busy": "2022-01-21T17:09:58.427541Z",
     "iopub.status.idle": "2022-01-21T17:09:58.553766Z",
     "shell.execute_reply": "2022-01-21T17:09:58.555256Z",
     "shell.execute_reply.started": "2022-01-21T14:53:41.748205Z"
    },
    "papermill": {
     "duration": 0.153673,
     "end_time": "2022-01-21T17:09:58.555431",
     "exception": false,
     "start_time": "2022-01-21T17:09:58.401758",
     "status": "completed"
    },
    "tags": []
   },
   "outputs": [],
   "source": [
    "test_df = preprocess(test_df)\n",
    "x_test = test_df.drop(['row_id', 'date'], axis=1)\n",
    "x_test = onehotencoder.transform(x_test).toarray()\n",
    "x_test = np.append(x_test, np.ones((x_test.shape[0], 1)), axis=1)\n",
    "x_test, _ = split_sequences(x_test, TIMESTEPS)"
   ]
  },
  {
   "cell_type": "code",
   "execution_count": 17,
   "id": "bce7877f",
   "metadata": {
    "execution": {
     "iopub.execute_input": "2022-01-21T17:09:58.606225Z",
     "iopub.status.busy": "2022-01-21T17:09:58.605569Z",
     "iopub.status.idle": "2022-01-21T17:10:01.062586Z",
     "shell.execute_reply": "2022-01-21T17:10:01.063083Z",
     "shell.execute_reply.started": "2022-01-21T14:53:43.755781Z"
    },
    "papermill": {
     "duration": 2.485085,
     "end_time": "2022-01-21T17:10:01.063270",
     "exception": false,
     "start_time": "2022-01-21T17:09:58.578185",
     "status": "completed"
    },
    "tags": []
   },
   "outputs": [],
   "source": [
    "target = model.predict(x_test).squeeze()\n",
    "row_id =  test_df['row_id'].values\n",
    "submission = pd.DataFrame({'row_id' : row_id, 'num_sold' : target})\n"
   ]
  },
  {
   "cell_type": "code",
   "execution_count": 18,
   "id": "5461ed8e",
   "metadata": {
    "execution": {
     "iopub.execute_input": "2022-01-21T17:10:01.115971Z",
     "iopub.status.busy": "2022-01-21T17:10:01.115067Z",
     "iopub.status.idle": "2022-01-21T17:10:01.129333Z",
     "shell.execute_reply": "2022-01-21T17:10:01.128849Z",
     "shell.execute_reply.started": "2022-01-21T14:53:46.939398Z"
    },
    "papermill": {
     "duration": 0.040414,
     "end_time": "2022-01-21T17:10:01.129466",
     "exception": false,
     "start_time": "2022-01-21T17:10:01.089052",
     "status": "completed"
    },
    "tags": []
   },
   "outputs": [
    {
     "data": {
      "text/html": [
       "<div>\n",
       "<style scoped>\n",
       "    .dataframe tbody tr th:only-of-type {\n",
       "        vertical-align: middle;\n",
       "    }\n",
       "\n",
       "    .dataframe tbody tr th {\n",
       "        vertical-align: top;\n",
       "    }\n",
       "\n",
       "    .dataframe thead th {\n",
       "        text-align: right;\n",
       "    }\n",
       "</style>\n",
       "<table border=\"1\" class=\"dataframe\">\n",
       "  <thead>\n",
       "    <tr style=\"text-align: right;\">\n",
       "      <th></th>\n",
       "      <th>row_id</th>\n",
       "      <th>num_sold</th>\n",
       "    </tr>\n",
       "  </thead>\n",
       "  <tbody>\n",
       "    <tr>\n",
       "      <th>0</th>\n",
       "      <td>26298</td>\n",
       "      <td>372.807556</td>\n",
       "    </tr>\n",
       "    <tr>\n",
       "      <th>1</th>\n",
       "      <td>26299</td>\n",
       "      <td>551.581055</td>\n",
       "    </tr>\n",
       "    <tr>\n",
       "      <th>2</th>\n",
       "      <td>26300</td>\n",
       "      <td>147.936752</td>\n",
       "    </tr>\n",
       "    <tr>\n",
       "      <th>3</th>\n",
       "      <td>26301</td>\n",
       "      <td>636.416016</td>\n",
       "    </tr>\n",
       "    <tr>\n",
       "      <th>4</th>\n",
       "      <td>26302</td>\n",
       "      <td>1005.511719</td>\n",
       "    </tr>\n",
       "  </tbody>\n",
       "</table>\n",
       "</div>"
      ],
      "text/plain": [
       "   row_id     num_sold\n",
       "0   26298   372.807556\n",
       "1   26299   551.581055\n",
       "2   26300   147.936752\n",
       "3   26301   636.416016\n",
       "4   26302  1005.511719"
      ]
     },
     "execution_count": 18,
     "metadata": {},
     "output_type": "execute_result"
    }
   ],
   "source": [
    "submission.head()"
   ]
  },
  {
   "cell_type": "code",
   "execution_count": 19,
   "id": "3b3898c4",
   "metadata": {
    "execution": {
     "iopub.execute_input": "2022-01-21T17:10:01.181287Z",
     "iopub.status.busy": "2022-01-21T17:10:01.180332Z",
     "iopub.status.idle": "2022-01-21T17:10:01.201962Z",
     "shell.execute_reply": "2022-01-21T17:10:01.202485Z",
     "shell.execute_reply.started": "2022-01-21T14:53:47.891016Z"
    },
    "papermill": {
     "duration": 0.049502,
     "end_time": "2022-01-21T17:10:01.202660",
     "exception": false,
     "start_time": "2022-01-21T17:10:01.153158",
     "status": "completed"
    },
    "tags": []
   },
   "outputs": [],
   "source": [
    "submission.to_csv('submission.csv', index=False)"
   ]
  },
  {
   "cell_type": "code",
   "execution_count": null,
   "id": "bcd8fe33",
   "metadata": {
    "papermill": {
     "duration": 0.022704,
     "end_time": "2022-01-21T17:10:01.249443",
     "exception": false,
     "start_time": "2022-01-21T17:10:01.226739",
     "status": "completed"
    },
    "tags": []
   },
   "outputs": [],
   "source": []
  }
 ],
 "metadata": {
  "kernelspec": {
   "display_name": "Python 3",
   "language": "python",
   "name": "python3"
  },
  "language_info": {
   "codemirror_mode": {
    "name": "ipython",
    "version": 3
   },
   "file_extension": ".py",
   "mimetype": "text/x-python",
   "name": "python",
   "nbconvert_exporter": "python",
   "pygments_lexer": "ipython3",
   "version": "3.7.12"
  },
  "papermill": {
   "default_parameters": {},
   "duration": 1022.327191,
   "end_time": "2022-01-21T17:10:04.652225",
   "environment_variables": {},
   "exception": null,
   "input_path": "__notebook__.ipynb",
   "output_path": "__notebook__.ipynb",
   "parameters": {},
   "start_time": "2022-01-21T16:53:02.325034",
   "version": "2.3.3"
  }
 },
 "nbformat": 4,
 "nbformat_minor": 5
}
