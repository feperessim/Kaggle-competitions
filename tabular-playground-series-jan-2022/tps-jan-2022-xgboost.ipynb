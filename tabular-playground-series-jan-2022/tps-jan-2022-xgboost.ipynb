{
 "cells": [
  {
   "cell_type": "code",
   "execution_count": 1,
   "id": "281bf465",
   "metadata": {
    "_cell_guid": "b1076dfc-b9ad-4769-8c92-a6c4dae69d19",
    "_uuid": "8f2839f25d086af736a60e9eeb907d3b93b6e0e5",
    "execution": {
     "iopub.execute_input": "2022-01-21T15:46:49.797198Z",
     "iopub.status.busy": "2022-01-21T15:46:49.795164Z",
     "iopub.status.idle": "2022-01-21T15:46:49.813103Z",
     "shell.execute_reply": "2022-01-21T15:46:49.812315Z",
     "shell.execute_reply.started": "2022-01-21T15:24:37.766927Z"
    },
    "papermill": {
     "duration": 0.038359,
     "end_time": "2022-01-21T15:46:49.813315",
     "exception": false,
     "start_time": "2022-01-21T15:46:49.774956",
     "status": "completed"
    },
    "tags": []
   },
   "outputs": [
    {
     "name": "stdout",
     "output_type": "stream",
     "text": [
      "/kaggle/input/tabular-playground-series-jan-2022/sample_submission.csv\n",
      "/kaggle/input/tabular-playground-series-jan-2022/train.csv\n",
      "/kaggle/input/tabular-playground-series-jan-2022/test.csv\n"
     ]
    }
   ],
   "source": [
    "# This Python 3 environment comes with many helpful analytics libraries installed\n",
    "# It is defined by the kaggle/python Docker image: https://github.com/kaggle/docker-python\n",
    "# For example, here's several helpful packages to load\n",
    "\n",
    "import numpy as np # linear algebra\n",
    "import pandas as pd # data processing, CSV file I/O (e.g. pd.read_csv)\n",
    "\n",
    "# Input data files are available in the read-only \"../input/\" directory\n",
    "# For example, running this (by clicking run or pressing Shift+Enter) will list all files under the input directory\n",
    "\n",
    "import os\n",
    "for dirname, _, filenames in os.walk('/kaggle/input'):\n",
    "    for filename in filenames:\n",
    "        print(os.path.join(dirname, filename))\n",
    "\n",
    "# You can write up to 20GB to the current directory (/kaggle/working/) that gets preserved as output when you create a version using \"Save & Run All\" \n",
    "# You can also write temporary files to /kaggle/temp/, but they won't be saved outside of the current session"
   ]
  },
  {
   "cell_type": "code",
   "execution_count": 2,
   "id": "b60124ff",
   "metadata": {
    "execution": {
     "iopub.execute_input": "2022-01-21T15:46:49.850203Z",
     "iopub.status.busy": "2022-01-21T15:46:49.849499Z",
     "iopub.status.idle": "2022-01-21T15:46:55.750175Z",
     "shell.execute_reply": "2022-01-21T15:46:55.749497Z",
     "shell.execute_reply.started": "2022-01-21T15:24:37.778265Z"
    },
    "papermill": {
     "duration": 5.920844,
     "end_time": "2022-01-21T15:46:55.750327",
     "exception": false,
     "start_time": "2022-01-21T15:46:49.829483",
     "status": "completed"
    },
    "tags": []
   },
   "outputs": [],
   "source": [
    "import warnings\n",
    "import gc\n",
    "import tensorflow as tf\n",
    "\n",
    "from sklearn.preprocessing import StandardScaler\n",
    "from sklearn.preprocessing import OneHotEncoder\n",
    "from sklearn.model_selection import train_test_split\n",
    "\n",
    "from xgboost import XGBRegressor\n",
    "\n",
    "\n",
    "warnings.filterwarnings(\"ignore\")"
   ]
  },
  {
   "cell_type": "code",
   "execution_count": 3,
   "id": "129c3d77",
   "metadata": {
    "execution": {
     "iopub.execute_input": "2022-01-21T15:46:55.785902Z",
     "iopub.status.busy": "2022-01-21T15:46:55.785154Z",
     "iopub.status.idle": "2022-01-21T15:46:55.791566Z",
     "shell.execute_reply": "2022-01-21T15:46:55.792131Z",
     "shell.execute_reply.started": "2022-01-21T15:24:44.434185Z"
    },
    "papermill": {
     "duration": 0.025977,
     "end_time": "2022-01-21T15:46:55.792319",
     "exception": false,
     "start_time": "2022-01-21T15:46:55.766342",
     "status": "completed"
    },
    "tags": []
   },
   "outputs": [],
   "source": [
    "def smape(y_true, y_pred):\n",
    "    y_true = tf.cast(y_true, tf.float32)\n",
    "    y_pred = tf.cast(y_pred, tf.float32)\n",
    "    num = tf.math.abs(tf.math.subtract(y_true, y_pred))\n",
    "    denom = tf.math.add(tf.math.abs(y_true), tf.math.abs(y_pred))\n",
    "    denom = tf.math.divide(denom,200.0)\n",
    "    \n",
    "    val = tf.math.divide(num,denom)\n",
    "    val = tf.where(denom == 0.0, 0.0, val) \n",
    "    return tf.reduce_mean(val)"
   ]
  },
  {
   "cell_type": "code",
   "execution_count": 4,
   "id": "fc50b9a6",
   "metadata": {
    "execution": {
     "iopub.execute_input": "2022-01-21T15:46:55.827683Z",
     "iopub.status.busy": "2022-01-21T15:46:55.827040Z",
     "iopub.status.idle": "2022-01-21T15:46:55.830602Z",
     "shell.execute_reply": "2022-01-21T15:46:55.831189Z",
     "shell.execute_reply.started": "2022-01-21T15:24:44.446311Z"
    },
    "papermill": {
     "duration": 0.022822,
     "end_time": "2022-01-21T15:46:55.831373",
     "exception": false,
     "start_time": "2022-01-21T15:46:55.808551",
     "status": "completed"
    },
    "tags": []
   },
   "outputs": [],
   "source": [
    "def evaluate_model(model, x, y):\n",
    "    y_pred = model.predict(x)\n",
    "    result = smape(y, y_pred)\n",
    "    return result"
   ]
  },
  {
   "cell_type": "code",
   "execution_count": 5,
   "id": "67934be2",
   "metadata": {
    "execution": {
     "iopub.execute_input": "2022-01-21T15:46:55.871901Z",
     "iopub.status.busy": "2022-01-21T15:46:55.871216Z",
     "iopub.status.idle": "2022-01-21T15:46:55.872797Z",
     "shell.execute_reply": "2022-01-21T15:46:55.873385Z",
     "shell.execute_reply.started": "2022-01-21T15:24:44.461797Z"
    },
    "papermill": {
     "duration": 0.026012,
     "end_time": "2022-01-21T15:46:55.873557",
     "exception": false,
     "start_time": "2022-01-21T15:46:55.847545",
     "status": "completed"
    },
    "tags": []
   },
   "outputs": [],
   "source": [
    "# https://pandas.pydata.org/pandas-docs/stable/user_guide/timeseries.html\n",
    "def preprocess(df):\n",
    "    df = df.copy()\n",
    "    df['date'] = pd.to_datetime(df['date'])\n",
    "    df['day_of_week'] = df['date'].dt.day_of_week\n",
    "    df['weekday'] = df['date'].dt.weekday\n",
    "    df['week'] = df['date'].dt.week\n",
    "    df['quarter'] = df['date'].dt.quarter\n",
    "    df['day_of_year'] = df['date'].dt.day_of_year\n",
    "    df['weekofyear'] = df['date'].dt.weekofyear\n",
    "    return df"
   ]
  },
  {
   "cell_type": "code",
   "execution_count": 6,
   "id": "72084426",
   "metadata": {
    "execution": {
     "iopub.execute_input": "2022-01-21T15:46:55.906458Z",
     "iopub.status.busy": "2022-01-21T15:46:55.905820Z",
     "iopub.status.idle": "2022-01-21T15:46:55.908819Z",
     "shell.execute_reply": "2022-01-21T15:46:55.909259Z",
     "shell.execute_reply.started": "2022-01-21T15:24:44.477482Z"
    },
    "papermill": {
     "duration": 0.020967,
     "end_time": "2022-01-21T15:46:55.909418",
     "exception": false,
     "start_time": "2022-01-21T15:46:55.888451",
     "status": "completed"
    },
    "tags": []
   },
   "outputs": [],
   "source": [
    "seed = 47"
   ]
  },
  {
   "cell_type": "markdown",
   "id": "f70445ef",
   "metadata": {
    "papermill": {
     "duration": 0.014411,
     "end_time": "2022-01-21T15:46:55.938541",
     "exception": false,
     "start_time": "2022-01-21T15:46:55.924130",
     "status": "completed"
    },
    "tags": []
   },
   "source": [
    "# XGBOOST -  ONGOING WORK"
   ]
  },
  {
   "cell_type": "markdown",
   "id": "9548d059",
   "metadata": {
    "papermill": {
     "duration": 0.014319,
     "end_time": "2022-01-21T15:46:55.967589",
     "exception": false,
     "start_time": "2022-01-21T15:46:55.953270",
     "status": "completed"
    },
    "tags": []
   },
   "source": [
    "# Reading the dataset and preprocessing the dataset"
   ]
  },
  {
   "cell_type": "code",
   "execution_count": 7,
   "id": "9178a632",
   "metadata": {
    "execution": {
     "iopub.execute_input": "2022-01-21T15:46:56.000159Z",
     "iopub.status.busy": "2022-01-21T15:46:55.999490Z",
     "iopub.status.idle": "2022-01-21T15:46:56.198523Z",
     "shell.execute_reply": "2022-01-21T15:46:56.197938Z",
     "shell.execute_reply.started": "2022-01-21T15:29:12.735528Z"
    },
    "papermill": {
     "duration": 0.216459,
     "end_time": "2022-01-21T15:46:56.198664",
     "exception": false,
     "start_time": "2022-01-21T15:46:55.982205",
     "status": "completed"
    },
    "tags": []
   },
   "outputs": [],
   "source": [
    "train_df = pd.read_csv(\"/kaggle/input/tabular-playground-series-jan-2022/train.csv\", sep=',')\n",
    "\n",
    "country = {c : i for i, c in enumerate(train_df['country'].unique())}\n",
    "store = {s : i for i, s in enumerate(train_df['store'].unique())}\n",
    "product = {p : i for i, p in enumerate(train_df['product'].unique())}\n",
    "\n",
    "train_df['country'] = train_df['country'].replace(country)\n",
    "train_df['store'] = train_df['store'].replace(store)\n",
    "train_df['product'] = train_df['product'].replace(product)\n",
    "\n",
    "train_df = preprocess(train_df)\n",
    "x_train = train_df.drop(['row_id', 'date', 'num_sold'], axis=1)\n",
    "y_train = train_df['num_sold']\n",
    "x_train, x_test, y_train, y_test = train_test_split(x_train, y_train, test_size=0.2, random_state=seed, shuffle=False)"
   ]
  },
  {
   "cell_type": "code",
   "execution_count": 8,
   "id": "f7813f01",
   "metadata": {
    "execution": {
     "iopub.execute_input": "2022-01-21T15:46:56.234165Z",
     "iopub.status.busy": "2022-01-21T15:46:56.233163Z",
     "iopub.status.idle": "2022-01-21T15:47:05.863900Z",
     "shell.execute_reply": "2022-01-21T15:47:05.864393Z",
     "shell.execute_reply.started": "2022-01-21T15:38:04.536958Z"
    },
    "papermill": {
     "duration": 9.650778,
     "end_time": "2022-01-21T15:47:05.864557",
     "exception": false,
     "start_time": "2022-01-21T15:46:56.213779",
     "status": "completed"
    },
    "tags": []
   },
   "outputs": [
    {
     "name": "stdout",
     "output_type": "stream",
     "text": [
      "tf.Tensor(9.654826, shape=(), dtype=float32)\n"
     ]
    },
    {
     "name": "stderr",
     "output_type": "stream",
     "text": [
      "\n",
      "User settings:\n",
      "\n",
      "   KMP_AFFINITY=granularity=fine,verbose,compact,1,0\n",
      "   KMP_BLOCKTIME=0\n",
      "   KMP_DUPLICATE_LIB_OK=True\n",
      "   KMP_INIT_AT_FORK=FALSE\n",
      "   KMP_SETTINGS=1\n",
      "   KMP_WARNINGS=0\n",
      "\n",
      "Effective settings:\n",
      "\n",
      "   KMP_ABORT_DELAY=0\n",
      "   KMP_ADAPTIVE_LOCK_PROPS='1,1024'\n",
      "   KMP_ALIGN_ALLOC=64\n",
      "   KMP_ALL_THREADPRIVATE=128\n",
      "   KMP_ATOMIC_MODE=2\n",
      "   KMP_BLOCKTIME=0\n",
      "   KMP_CPUINFO_FILE: value is not defined\n",
      "   KMP_DETERMINISTIC_REDUCTION=false\n",
      "   KMP_DEVICE_THREAD_LIMIT=2147483647\n",
      "   KMP_DISP_NUM_BUFFERS=7\n",
      "   KMP_DUPLICATE_LIB_OK=true\n",
      "   KMP_ENABLE_TASK_THROTTLING=true\n",
      "   KMP_FORCE_REDUCTION: value is not defined\n",
      "   KMP_FOREIGN_THREADS_THREADPRIVATE=true\n",
      "   KMP_FORKJOIN_BARRIER='2,2'\n",
      "   KMP_FORKJOIN_BARRIER_PATTERN='hyper,hyper'\n",
      "   KMP_GTID_MODE=3\n",
      "   KMP_HANDLE_SIGNALS=false\n",
      "   KMP_HOT_TEAMS_MAX_LEVEL=1\n",
      "   KMP_HOT_TEAMS_MODE=0\n",
      "   KMP_INIT_AT_FORK=true\n",
      "   KMP_LIBRARY=throughput\n",
      "   KMP_LOCK_KIND=queuing\n",
      "   KMP_MALLOC_POOL_INCR=1M\n",
      "   KMP_NUM_LOCKS_IN_BLOCK=1\n",
      "   KMP_PLAIN_BARRIER='2,2'\n",
      "   KMP_PLAIN_BARRIER_PATTERN='hyper,hyper'\n",
      "   KMP_REDUCTION_BARRIER='1,1'\n",
      "   KMP_REDUCTION_BARRIER_PATTERN='hyper,hyper'\n",
      "   KMP_SCHEDULE='static,balanced;guided,iterative'\n",
      "   KMP_SETTINGS=true\n",
      "   KMP_SPIN_BACKOFF_PARAMS='4096,100'\n",
      "   KMP_STACKOFFSET=64\n",
      "   KMP_STACKPAD=0\n",
      "   KMP_STACKSIZE=8M\n",
      "   KMP_STORAGE_MAP=false\n",
      "   KMP_TASKING=2\n",
      "   KMP_TASKLOOP_MIN_TASKS=0\n",
      "   KMP_TASK_STEALING_CONSTRAINT=1\n",
      "   KMP_TEAMS_THREAD_LIMIT=4\n",
      "   KMP_TOPOLOGY_METHOD=all\n",
      "   KMP_USE_YIELD=1\n",
      "   KMP_VERSION=false\n",
      "   KMP_WARNINGS=false\n",
      "   OMP_AFFINITY_FORMAT='OMP: pid %P tid %i thread %n bound to OS proc set {%A}'\n",
      "   OMP_ALLOCATOR=omp_default_mem_alloc\n",
      "   OMP_CANCELLATION=false\n",
      "   OMP_DEFAULT_DEVICE=0\n",
      "   OMP_DISPLAY_AFFINITY=false\n",
      "   OMP_DISPLAY_ENV=false\n",
      "   OMP_DYNAMIC=false\n",
      "   OMP_MAX_ACTIVE_LEVELS=1\n",
      "   OMP_MAX_TASK_PRIORITY=0\n",
      "   OMP_NESTED: deprecated; max-active-levels-var=1\n",
      "   OMP_NUM_THREADS: value is not defined\n",
      "   OMP_PLACES: value is not defined\n",
      "   OMP_PROC_BIND='intel'\n",
      "   OMP_SCHEDULE='static'\n",
      "   OMP_STACKSIZE=8M\n",
      "   OMP_TARGET_OFFLOAD=DEFAULT\n",
      "   OMP_THREAD_LIMIT=2147483647\n",
      "   OMP_WAIT_POLICY=PASSIVE\n",
      "   KMP_AFFINITY='verbose,warnings,respect,granularity=fine,compact,1,0'\n",
      "\n",
      "2022-01-21 15:47:05.785366: I tensorflow/core/common_runtime/process_util.cc:146] Creating new thread pool with default inter op setting: 2. Tune using inter_op_parallelism_threads for best performance.\n"
     ]
    }
   ],
   "source": [
    "params = {'n_estimators': 200, \n",
    "          'max_depth': 23, \n",
    "          'subsample': 1.0,\n",
    "          'eta': 0.3,\n",
    "          'colsample_bytree': 1.0,\n",
    "          'gamma': 0.0, \n",
    "          'min_child_weight': 1,\n",
    "          'reg_alpha': 1\n",
    "         }\n",
    "\n",
    "model =  XGBRegressor(**params,\n",
    "                      objective='reg:linear',\n",
    "                      random_state=seed,\n",
    "                      early_stopping_rounds=200,\n",
    "                      verbosity=0)\n",
    "model.fit(x_train, y_train, verbose=True)\n",
    "score = evaluate_model(model, x_test, y_test)\n",
    "print(score)"
   ]
  },
  {
   "cell_type": "code",
   "execution_count": 9,
   "id": "a78de922",
   "metadata": {
    "execution": {
     "iopub.execute_input": "2022-01-21T15:47:05.899631Z",
     "iopub.status.busy": "2022-01-21T15:47:05.898648Z",
     "iopub.status.idle": "2022-01-21T15:47:06.207917Z",
     "shell.execute_reply": "2022-01-21T15:47:06.207369Z",
     "shell.execute_reply.started": "2022-01-21T15:45:59.183619Z"
    },
    "papermill": {
     "duration": 0.327889,
     "end_time": "2022-01-21T15:47:06.208065",
     "exception": false,
     "start_time": "2022-01-21T15:47:05.880176",
     "status": "completed"
    },
    "tags": []
   },
   "outputs": [
    {
     "data": {
      "text/plain": [
       "<AxesSubplot:title={'center':'Feature importance'}, xlabel='F score', ylabel='Features'>"
      ]
     },
     "execution_count": 9,
     "metadata": {},
     "output_type": "execute_result"
    },
    {
     "data": {
      "image/png": "[encoded data removed]",
      "text/plain": [
       "<Figure size 432x288 with 1 Axes>"
      ]
     },
     "metadata": {
      "needs_background": "light"
     },
     "output_type": "display_data"
    }
   ],
   "source": [
    "from xgboost import plot_importance\n",
    "\n",
    "plot_importance(model)"
   ]
  },
  {
   "cell_type": "markdown",
   "id": "4f86626e",
   "metadata": {
    "papermill": {
     "duration": 0.016628,
     "end_time": "2022-01-21T15:47:06.241490",
     "exception": false,
     "start_time": "2022-01-21T15:47:06.224862",
     "status": "completed"
    },
    "tags": []
   },
   "source": [
    "# Submission"
   ]
  },
  {
   "cell_type": "code",
   "execution_count": 10,
   "id": "23f18cab",
   "metadata": {
    "execution": {
     "iopub.execute_input": "2022-01-21T15:47:06.280373Z",
     "iopub.status.busy": "2022-01-21T15:47:06.279346Z",
     "iopub.status.idle": "2022-01-21T15:47:06.455311Z",
     "shell.execute_reply": "2022-01-21T15:47:06.454719Z",
     "shell.execute_reply.started": "2022-01-21T15:24:54.448530Z"
    },
    "papermill": {
     "duration": 0.19724,
     "end_time": "2022-01-21T15:47:06.455458",
     "exception": false,
     "start_time": "2022-01-21T15:47:06.258218",
     "status": "completed"
    },
    "tags": []
   },
   "outputs": [
    {
     "data": {
      "text/plain": [
       "26"
      ]
     },
     "execution_count": 10,
     "metadata": {},
     "output_type": "execute_result"
    }
   ],
   "source": [
    "del train_df, x_train, y_train, x_test, y_test\n",
    "gc.collect()"
   ]
  },
  {
   "cell_type": "code",
   "execution_count": 11,
   "id": "b7176e26",
   "metadata": {
    "execution": {
     "iopub.execute_input": "2022-01-21T15:47:06.497531Z",
     "iopub.status.busy": "2022-01-21T15:47:06.496879Z",
     "iopub.status.idle": "2022-01-21T15:47:06.552901Z",
     "shell.execute_reply": "2022-01-21T15:47:06.553406Z",
     "shell.execute_reply.started": "2022-01-21T15:27:25.610618Z"
    },
    "papermill": {
     "duration": 0.080873,
     "end_time": "2022-01-21T15:47:06.553596",
     "exception": false,
     "start_time": "2022-01-21T15:47:06.472723",
     "status": "completed"
    },
    "tags": []
   },
   "outputs": [],
   "source": [
    "test_df = pd.read_csv(\"/kaggle/input/tabular-playground-series-jan-2022/test.csv\", sep=',')\n",
    "test_df['country'] = test_df['country'].replace(country)\n",
    "test_df['store'] = test_df['store'].replace(store)\n",
    "test_df['product'] = test_df['product'].replace(product)\n",
    "test_df = preprocess(test_df)\n",
    "x_test = test_df.drop(['row_id', 'date'], axis=1)"
   ]
  },
  {
   "cell_type": "code",
   "execution_count": 12,
   "id": "efcc0345",
   "metadata": {
    "execution": {
     "iopub.execute_input": "2022-01-21T15:47:06.594149Z",
     "iopub.status.busy": "2022-01-21T15:47:06.593144Z",
     "iopub.status.idle": "2022-01-21T15:47:06.667615Z",
     "shell.execute_reply": "2022-01-21T15:47:06.668222Z",
     "shell.execute_reply.started": "2022-01-21T15:27:26.423895Z"
    },
    "papermill": {
     "duration": 0.097422,
     "end_time": "2022-01-21T15:47:06.668415",
     "exception": false,
     "start_time": "2022-01-21T15:47:06.570993",
     "status": "completed"
    },
    "tags": []
   },
   "outputs": [],
   "source": [
    "target = model.predict(x_test).squeeze()\n",
    "row_id =  test_df['row_id'].values\n",
    "submission = pd.DataFrame({'row_id' : row_id, 'num_sold' : target})"
   ]
  },
  {
   "cell_type": "code",
   "execution_count": 13,
   "id": "280adffd",
   "metadata": {
    "execution": {
     "iopub.execute_input": "2022-01-21T15:47:06.711002Z",
     "iopub.status.busy": "2022-01-21T15:47:06.710337Z",
     "iopub.status.idle": "2022-01-21T15:47:06.721336Z",
     "shell.execute_reply": "2022-01-21T15:47:06.721950Z",
     "shell.execute_reply.started": "2022-01-21T15:27:27.552132Z"
    },
    "papermill": {
     "duration": 0.033909,
     "end_time": "2022-01-21T15:47:06.722130",
     "exception": false,
     "start_time": "2022-01-21T15:47:06.688221",
     "status": "completed"
    },
    "tags": []
   },
   "outputs": [
    {
     "data": {
      "text/html": [
       "<div>\n",
       "<style scoped>\n",
       "    .dataframe tbody tr th:only-of-type {\n",
       "        vertical-align: middle;\n",
       "    }\n",
       "\n",
       "    .dataframe tbody tr th {\n",
       "        vertical-align: top;\n",
       "    }\n",
       "\n",
       "    .dataframe thead th {\n",
       "        text-align: right;\n",
       "    }\n",
       "</style>\n",
       "<table border=\"1\" class=\"dataframe\">\n",
       "  <thead>\n",
       "    <tr style=\"text-align: right;\">\n",
       "      <th></th>\n",
       "      <th>row_id</th>\n",
       "      <th>num_sold</th>\n",
       "    </tr>\n",
       "  </thead>\n",
       "  <tbody>\n",
       "    <tr>\n",
       "      <th>0</th>\n",
       "      <td>26298</td>\n",
       "      <td>405.840576</td>\n",
       "    </tr>\n",
       "    <tr>\n",
       "      <th>1</th>\n",
       "      <td>26299</td>\n",
       "      <td>618.817078</td>\n",
       "    </tr>\n",
       "    <tr>\n",
       "      <th>2</th>\n",
       "      <td>26300</td>\n",
       "      <td>175.985733</td>\n",
       "    </tr>\n",
       "    <tr>\n",
       "      <th>3</th>\n",
       "      <td>26301</td>\n",
       "      <td>666.977905</td>\n",
       "    </tr>\n",
       "    <tr>\n",
       "      <th>4</th>\n",
       "      <td>26302</td>\n",
       "      <td>1039.609863</td>\n",
       "    </tr>\n",
       "  </tbody>\n",
       "</table>\n",
       "</div>"
      ],
      "text/plain": [
       "   row_id     num_sold\n",
       "0   26298   405.840576\n",
       "1   26299   618.817078\n",
       "2   26300   175.985733\n",
       "3   26301   666.977905\n",
       "4   26302  1039.609863"
      ]
     },
     "execution_count": 13,
     "metadata": {},
     "output_type": "execute_result"
    }
   ],
   "source": [
    "submission.head()"
   ]
  },
  {
   "cell_type": "code",
   "execution_count": 14,
   "id": "3c005e6d",
   "metadata": {
    "execution": {
     "iopub.execute_input": "2022-01-21T15:47:06.761425Z",
     "iopub.status.busy": "2022-01-21T15:47:06.760428Z",
     "iopub.status.idle": "2022-01-21T15:47:06.786815Z",
     "shell.execute_reply": "2022-01-21T15:47:06.787356Z",
     "shell.execute_reply.started": "2022-01-21T15:27:46.162307Z"
    },
    "papermill": {
     "duration": 0.047691,
     "end_time": "2022-01-21T15:47:06.787531",
     "exception": false,
     "start_time": "2022-01-21T15:47:06.739840",
     "status": "completed"
    },
    "tags": []
   },
   "outputs": [],
   "source": [
    "submission.to_csv('submission.csv', index=False)"
   ]
  },
  {
   "cell_type": "code",
   "execution_count": null,
   "id": "460469fc",
   "metadata": {
    "papermill": {
     "duration": 0.01741,
     "end_time": "2022-01-21T15:47:06.822544",
     "exception": false,
     "start_time": "2022-01-21T15:47:06.805134",
     "status": "completed"
    },
    "tags": []
   },
   "outputs": [],
   "source": []
  }
 ],
 "metadata": {
  "kernelspec": {
   "display_name": "Python 3",
   "language": "python",
   "name": "python3"
  },
  "language_info": {
   "codemirror_mode": {
    "name": "ipython",
    "version": 3
   },
   "file_extension": ".py",
   "mimetype": "text/x-python",
   "name": "python",
   "nbconvert_exporter": "python",
   "pygments_lexer": "ipython3",
   "version": "3.7.12"
  },
  "papermill": {
   "default_parameters": {},
   "duration": 29.587822,
   "end_time": "2022-01-21T15:47:09.503207",
   "environment_variables": {},
   "exception": null,
   "input_path": "__notebook__.ipynb",
   "output_path": "__notebook__.ipynb",
   "parameters": {},
   "start_time": "2022-01-21T15:46:39.915385",
   "version": "2.3.3"
  }
 },
 "nbformat": 4,
 "nbformat_minor": 5
}
