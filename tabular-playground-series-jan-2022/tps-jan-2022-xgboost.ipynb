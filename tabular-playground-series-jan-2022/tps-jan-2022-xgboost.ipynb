{
 "cells": [
  {
   "cell_type": "code",
   "execution_count": 1,
   "id": "6f64091a",
   "metadata": {
    "_cell_guid": "b1076dfc-b9ad-4769-8c92-a6c4dae69d19",
    "_uuid": "8f2839f25d086af736a60e9eeb907d3b93b6e0e5",
    "execution": {
     "iopub.execute_input": "2022-01-24T02:42:33.822661Z",
     "iopub.status.busy": "2022-01-24T02:42:33.821985Z",
     "iopub.status.idle": "2022-01-24T02:42:33.832096Z",
     "shell.execute_reply": "2022-01-24T02:42:33.831423Z",
     "shell.execute_reply.started": "2022-01-24T01:58:57.687042Z"
    },
    "papermill": {
     "duration": 0.041268,
     "end_time": "2022-01-24T02:42:33.832260",
     "exception": false,
     "start_time": "2022-01-24T02:42:33.790992",
     "status": "completed"
    },
    "tags": []
   },
   "outputs": [
    {
     "name": "stdout",
     "output_type": "stream",
     "text": [
      "/kaggle/input/tabular-playground-series-jan-2022/sample_submission.csv\n",
      "/kaggle/input/tabular-playground-series-jan-2022/train.csv\n",
      "/kaggle/input/tabular-playground-series-jan-2022/test.csv\n"
     ]
    }
   ],
   "source": [
    "# This Python 3 environment comes with many helpful analytics libraries installed\n",
    "# It is defined by the kaggle/python Docker image: https://github.com/kaggle/docker-python\n",
    "# For example, here's several helpful packages to load\n",
    "\n",
    "import numpy as np # linear algebra\n",
    "import pandas as pd # data processing, CSV file I/O (e.g. pd.read_csv)\n",
    "\n",
    "# Input data files are available in the read-only \"../input/\" directory\n",
    "# For example, running this (by clicking run or pressing Shift+Enter) will list all files under the input directory\n",
    "\n",
    "import os\n",
    "for dirname, _, filenames in os.walk('/kaggle/input'):\n",
    "    for filename in filenames:\n",
    "        print(os.path.join(dirname, filename))\n",
    "\n",
    "# You can write up to 20GB to the current directory (/kaggle/working/) that gets preserved as output when you create a version using \"Save & Run All\" \n",
    "# You can also write temporary files to /kaggle/temp/, but they won't be saved outside of the current session"
   ]
  },
  {
   "cell_type": "code",
   "execution_count": 2,
   "id": "c0faff43",
   "metadata": {
    "execution": {
     "iopub.execute_input": "2022-01-24T02:42:33.872830Z",
     "iopub.status.busy": "2022-01-24T02:42:33.872108Z",
     "iopub.status.idle": "2022-01-24T02:42:40.118161Z",
     "shell.execute_reply": "2022-01-24T02:42:40.117571Z",
     "shell.execute_reply.started": "2022-01-24T01:58:57.718162Z"
    },
    "papermill": {
     "duration": 6.268275,
     "end_time": "2022-01-24T02:42:40.118325",
     "exception": false,
     "start_time": "2022-01-24T02:42:33.850050",
     "status": "completed"
    },
    "tags": []
   },
   "outputs": [],
   "source": [
    "import warnings\n",
    "import gc\n",
    "import tensorflow as tf\n",
    "import holidays\n",
    "\n",
    "from sklearn.model_selection import train_test_split\n",
    "\n",
    "from xgboost import XGBRegressor\n",
    "from xgboost import plot_importance\n"
   ]
  },
  {
   "cell_type": "code",
   "execution_count": 3,
   "id": "0ef89d7d",
   "metadata": {
    "execution": {
     "iopub.execute_input": "2022-01-24T02:42:40.158923Z",
     "iopub.status.busy": "2022-01-24T02:42:40.157909Z",
     "iopub.status.idle": "2022-01-24T02:42:40.159996Z",
     "shell.execute_reply": "2022-01-24T02:42:40.160552Z",
     "shell.execute_reply.started": "2022-01-24T01:59:03.645167Z"
    },
    "papermill": {
     "duration": 0.025104,
     "end_time": "2022-01-24T02:42:40.160721",
     "exception": false,
     "start_time": "2022-01-24T02:42:40.135617",
     "status": "completed"
    },
    "tags": []
   },
   "outputs": [],
   "source": [
    "def smape(y_true, y_pred):\n",
    "    return np.mean(np.abs(y_true - y_pred) / (y_true + np.abs(y_pred)) * 200)"
   ]
  },
  {
   "cell_type": "code",
   "execution_count": 4,
   "id": "55b4e1a4",
   "metadata": {
    "execution": {
     "iopub.execute_input": "2022-01-24T02:42:40.198317Z",
     "iopub.status.busy": "2022-01-24T02:42:40.197606Z",
     "iopub.status.idle": "2022-01-24T02:42:40.201257Z",
     "shell.execute_reply": "2022-01-24T02:42:40.201743Z",
     "shell.execute_reply.started": "2022-01-24T01:59:03.653554Z"
    },
    "papermill": {
     "duration": 0.024079,
     "end_time": "2022-01-24T02:42:40.201918",
     "exception": false,
     "start_time": "2022-01-24T02:42:40.177839",
     "status": "completed"
    },
    "tags": []
   },
   "outputs": [],
   "source": [
    "def evaluate_model(model, x, y):\n",
    "    y_pred = model.predict(x)\n",
    "    result = smape(y, y_pred)\n",
    "    return result"
   ]
  },
  {
   "cell_type": "code",
   "execution_count": 5,
   "id": "e5b75a1f",
   "metadata": {
    "execution": {
     "iopub.execute_input": "2022-01-24T02:42:40.239572Z",
     "iopub.status.busy": "2022-01-24T02:42:40.238875Z",
     "iopub.status.idle": "2022-01-24T02:42:40.245386Z",
     "shell.execute_reply": "2022-01-24T02:42:40.245908Z",
     "shell.execute_reply.started": "2022-01-24T02:15:18.867161Z"
    },
    "papermill": {
     "duration": 0.02708,
     "end_time": "2022-01-24T02:42:40.246102",
     "exception": false,
     "start_time": "2022-01-24T02:42:40.219022",
     "status": "completed"
    },
    "tags": []
   },
   "outputs": [],
   "source": [
    "def label_encoder(df):\n",
    "    country = {c : i for i, c in enumerate(df['country'].unique())}\n",
    "    store = {s : i for i, s in enumerate(df['store'].unique())}\n",
    "    product = {p : i for i, p in enumerate(df['product'].unique())}\n",
    "    df = df.copy()\n",
    "    df['country'] = df['country'].replace(country)\n",
    "    df['store'] = df['store'].replace(store)\n",
    "    df['product'] = df['product'].replace(product)\n",
    "    return df"
   ]
  },
  {
   "cell_type": "code",
   "execution_count": 6,
   "id": "e014b232",
   "metadata": {
    "execution": {
     "iopub.execute_input": "2022-01-24T02:42:40.284150Z",
     "iopub.status.busy": "2022-01-24T02:42:40.283431Z",
     "iopub.status.idle": "2022-01-24T02:42:40.289612Z",
     "shell.execute_reply": "2022-01-24T02:42:40.290212Z",
     "shell.execute_reply.started": "2022-01-24T02:37:14.392749Z"
    },
    "papermill": {
     "duration": 0.027128,
     "end_time": "2022-01-24T02:42:40.290418",
     "exception": false,
     "start_time": "2022-01-24T02:42:40.263290",
     "status": "completed"
    },
    "tags": []
   },
   "outputs": [],
   "source": [
    "# https://pandas.pydata.org/pandas-docs/stable/user_guide/timeseries.html\n",
    "def preprocess_dates(df):\n",
    "    df = df.copy()\n",
    "    df['date'] = pd.to_datetime(df['date'])\n",
    "    df['weekday'] = df['date'].dt.weekday\n",
    "    df['quarter'] = df['date'].dt.quarter\n",
    "    df['day_of_year'] = df['date'].dt.day_of_year\n",
    "    df['is_month_start'] = df['date'].dt.is_month_start\n",
    "    df['is_month_end'] = df['date'].dt.is_month_end\n",
    "    df['month'] = df['date'].dt.month\n",
    "    return df"
   ]
  },
  {
   "cell_type": "code",
   "execution_count": 7,
   "id": "6cc46a0c",
   "metadata": {
    "execution": {
     "iopub.execute_input": "2022-01-24T02:42:40.328590Z",
     "iopub.status.busy": "2022-01-24T02:42:40.327873Z",
     "iopub.status.idle": "2022-01-24T02:42:40.335226Z",
     "shell.execute_reply": "2022-01-24T02:42:40.335765Z",
     "shell.execute_reply.started": "2022-01-24T02:37:14.750191Z"
    },
    "papermill": {
     "duration": 0.028228,
     "end_time": "2022-01-24T02:42:40.335957",
     "exception": false,
     "start_time": "2022-01-24T02:42:40.307729",
     "status": "completed"
    },
    "tags": []
   },
   "outputs": [],
   "source": [
    "def preprocess_holidays(df):\n",
    "    holiday_finland = holidays.CountryHoliday(country='FI', years=[2015, 2016, 2017, 2018, 2019])\n",
    "    holiday_norway = holidays.CountryHoliday(country='NO', years=[2015, 2016, 2017, 2018, 2019])\n",
    "    holiday_sweden = holidays.CountryHoliday(country='SE', years=[2015, 2016, 2017, 2018, 2019])\n",
    "    holidays_fin_nor_swe = holiday_finland.copy()\n",
    "    holidays_fin_nor_swe.update(holiday_norway)\n",
    "    holidays_fin_nor_swe.update(holiday_sweden)\n",
    "    dates = list(holidays_fin_nor_swe.keys())\n",
    "    dates = sorted(pd.to_datetime(dates))\n",
    "    df = df.copy()\n",
    "    df['is_holiday'] = df['date'].apply(lambda x : 1 if x in dates else 0)\n",
    "    return df"
   ]
  },
  {
   "cell_type": "code",
   "execution_count": 8,
   "id": "ba7c298c",
   "metadata": {
    "execution": {
     "iopub.execute_input": "2022-01-24T02:42:40.373377Z",
     "iopub.status.busy": "2022-01-24T02:42:40.372680Z",
     "iopub.status.idle": "2022-01-24T02:42:40.376822Z",
     "shell.execute_reply": "2022-01-24T02:42:40.377426Z",
     "shell.execute_reply.started": "2022-01-24T02:37:14.946609Z"
    },
    "papermill": {
     "duration": 0.024522,
     "end_time": "2022-01-24T02:42:40.377604",
     "exception": false,
     "start_time": "2022-01-24T02:42:40.353082",
     "status": "completed"
    },
    "tags": []
   },
   "outputs": [],
   "source": [
    "def preprocess_timeseries(df):\n",
    "    df = df.copy()\n",
    "    df['sin_day_of_year'] = np.sin(df['day_of_year'])\n",
    "    df['sin_month'] = np.sin(df['month'])\n",
    "    return df"
   ]
  },
  {
   "cell_type": "code",
   "execution_count": 9,
   "id": "0eda2e3c",
   "metadata": {
    "execution": {
     "iopub.execute_input": "2022-01-24T02:42:40.415894Z",
     "iopub.status.busy": "2022-01-24T02:42:40.415183Z",
     "iopub.status.idle": "2022-01-24T02:42:40.418575Z",
     "shell.execute_reply": "2022-01-24T02:42:40.419115Z",
     "shell.execute_reply.started": "2022-01-24T02:37:15.123175Z"
    },
    "papermill": {
     "duration": 0.023842,
     "end_time": "2022-01-24T02:42:40.419306",
     "exception": false,
     "start_time": "2022-01-24T02:42:40.395464",
     "status": "completed"
    },
    "tags": []
   },
   "outputs": [],
   "source": [
    "seed = 47\n",
    "warnings.filterwarnings(\"ignore\")"
   ]
  },
  {
   "cell_type": "markdown",
   "id": "619dad13",
   "metadata": {
    "papermill": {
     "duration": 0.017062,
     "end_time": "2022-01-24T02:42:40.454078",
     "exception": false,
     "start_time": "2022-01-24T02:42:40.437016",
     "status": "completed"
    },
    "tags": []
   },
   "source": [
    "# XGBoost"
   ]
  },
  {
   "cell_type": "markdown",
   "id": "3a0488b8",
   "metadata": {
    "papermill": {
     "duration": 0.018074,
     "end_time": "2022-01-24T02:42:40.490352",
     "exception": false,
     "start_time": "2022-01-24T02:42:40.472278",
     "status": "completed"
    },
    "tags": []
   },
   "source": [
    "# Reading the dataset and preprocessing the dataset"
   ]
  },
  {
   "cell_type": "code",
   "execution_count": 10,
   "id": "4be8a9f5",
   "metadata": {
    "execution": {
     "iopub.execute_input": "2022-01-24T02:42:40.530093Z",
     "iopub.status.busy": "2022-01-24T02:42:40.529052Z",
     "iopub.status.idle": "2022-01-24T02:42:41.895221Z",
     "shell.execute_reply": "2022-01-24T02:42:41.894647Z",
     "shell.execute_reply.started": "2022-01-24T02:37:16.125471Z"
    },
    "papermill": {
     "duration": 1.387742,
     "end_time": "2022-01-24T02:42:41.895378",
     "exception": false,
     "start_time": "2022-01-24T02:42:40.507636",
     "status": "completed"
    },
    "tags": []
   },
   "outputs": [],
   "source": [
    "train_df = pd.read_csv(\"/kaggle/input/tabular-playground-series-jan-2022/train.csv\", sep=',')\n",
    "train_df = label_encoder(train_df)\n",
    "train_df = preprocess_dates(train_df)\n",
    "train_df = preprocess_holidays(train_df)\n",
    "train_df = preprocess_timeseries(train_df)\n",
    "x_train = train_df.drop(['row_id', 'date', 'num_sold'], axis=1)\n",
    "y_train = train_df['num_sold']\n",
    "x_train, x_test, y_train, y_test = train_test_split(x_train, y_train, test_size=0.1, random_state=seed, shuffle=False)"
   ]
  },
  {
   "cell_type": "code",
   "execution_count": 11,
   "id": "3978b121",
   "metadata": {
    "execution": {
     "iopub.execute_input": "2022-01-24T02:42:41.939290Z",
     "iopub.status.busy": "2022-01-24T02:42:41.936980Z",
     "iopub.status.idle": "2022-01-24T02:42:54.602759Z",
     "shell.execute_reply": "2022-01-24T02:42:54.605968Z",
     "shell.execute_reply.started": "2022-01-24T02:37:17.574802Z"
    },
    "papermill": {
     "duration": 12.693861,
     "end_time": "2022-01-24T02:42:54.606213",
     "exception": false,
     "start_time": "2022-01-24T02:42:41.912352",
     "status": "completed"
    },
    "tags": []
   },
   "outputs": [
    {
     "name": "stdout",
     "output_type": "stream",
     "text": [
      "8.814708291003793\n"
     ]
    }
   ],
   "source": [
    "params = {'n_estimators': 200, \n",
    "          'max_depth': 23, \n",
    "          'subsample': 1.0,\n",
    "          'eta': 0.3,\n",
    "          'colsample_bytree': 1.0,\n",
    "          'gamma': 0.0, \n",
    "          'min_child_weight': 1,\n",
    "          'reg_alpha': 1\n",
    "         }\n",
    "\n",
    "model =  XGBRegressor(**params,\n",
    "                      objective='reg:linear',\n",
    "                      random_state=seed,\n",
    "                      early_stopping_rounds=200,\n",
    "                      verbosity=0)\n",
    "model.fit(x_train, y_train, verbose=True)\n",
    "score = evaluate_model(model, x_test, y_test)\n",
    "print(score)"
   ]
  },
  {
   "cell_type": "code",
   "execution_count": 12,
   "id": "01f7c4a0",
   "metadata": {
    "execution": {
     "iopub.execute_input": "2022-01-24T02:42:54.659591Z",
     "iopub.status.busy": "2022-01-24T02:42:54.658817Z",
     "iopub.status.idle": "2022-01-24T02:42:55.040278Z",
     "shell.execute_reply": "2022-01-24T02:42:55.040959Z",
     "shell.execute_reply.started": "2022-01-24T02:37:34.869226Z"
    },
    "papermill": {
     "duration": 0.407799,
     "end_time": "2022-01-24T02:42:55.041146",
     "exception": false,
     "start_time": "2022-01-24T02:42:54.633347",
     "status": "completed"
    },
    "tags": []
   },
   "outputs": [
    {
     "data": {
      "text/plain": [
       "<AxesSubplot:title={'center':'Feature importance'}, xlabel='F score', ylabel='Features'>"
      ]
     },
     "execution_count": 12,
     "metadata": {},
     "output_type": "execute_result"
    },
    {
     "data": {
      "image/png": "[encoded data removed]",
      "text/plain": [
       "<Figure size 432x288 with 1 Axes>"
      ]
     },
     "metadata": {
      "needs_background": "light"
     },
     "output_type": "display_data"
    }
   ],
   "source": [
    "plot_importance(model)"
   ]
  },
  {
   "cell_type": "markdown",
   "id": "728796fe",
   "metadata": {
    "papermill": {
     "duration": 0.020017,
     "end_time": "2022-01-24T02:42:55.083529",
     "exception": false,
     "start_time": "2022-01-24T02:42:55.063512",
     "status": "completed"
    },
    "tags": []
   },
   "source": [
    "# Submission"
   ]
  },
  {
   "cell_type": "code",
   "execution_count": 13,
   "id": "812d99b5",
   "metadata": {
    "execution": {
     "iopub.execute_input": "2022-01-24T02:42:55.129429Z",
     "iopub.status.busy": "2022-01-24T02:42:55.128255Z",
     "iopub.status.idle": "2022-01-24T02:42:55.312792Z",
     "shell.execute_reply": "2022-01-24T02:42:55.311977Z",
     "shell.execute_reply.started": "2022-01-24T02:38:02.466601Z"
    },
    "papermill": {
     "duration": 0.209361,
     "end_time": "2022-01-24T02:42:55.312983",
     "exception": false,
     "start_time": "2022-01-24T02:42:55.103622",
     "status": "completed"
    },
    "tags": []
   },
   "outputs": [
    {
     "data": {
      "text/plain": [
       "21"
      ]
     },
     "execution_count": 13,
     "metadata": {},
     "output_type": "execute_result"
    }
   ],
   "source": [
    "del train_df, x_train, y_train, x_test, y_test\n",
    "gc.collect()"
   ]
  },
  {
   "cell_type": "code",
   "execution_count": 14,
   "id": "d9173468",
   "metadata": {
    "execution": {
     "iopub.execute_input": "2022-01-24T02:42:55.359614Z",
     "iopub.status.busy": "2022-01-24T02:42:55.358899Z",
     "iopub.status.idle": "2022-01-24T02:42:55.729559Z",
     "shell.execute_reply": "2022-01-24T02:42:55.728876Z",
     "shell.execute_reply.started": "2022-01-24T02:38:03.183302Z"
    },
    "papermill": {
     "duration": 0.396473,
     "end_time": "2022-01-24T02:42:55.729705",
     "exception": false,
     "start_time": "2022-01-24T02:42:55.333232",
     "status": "completed"
    },
    "tags": []
   },
   "outputs": [],
   "source": [
    "test_df = pd.read_csv(\"/kaggle/input/tabular-playground-series-jan-2022/test.csv\", sep=',')\n",
    "test_df = label_encoder(test_df)\n",
    "test_df = preprocess_dates(test_df)\n",
    "test_df = preprocess_holidays(test_df)\n",
    "test_df = preprocess_timeseries(test_df)\n",
    "x_test = test_df.drop(['row_id', 'date'], axis=1)"
   ]
  },
  {
   "cell_type": "code",
   "execution_count": 15,
   "id": "a67c4dbe",
   "metadata": {
    "execution": {
     "iopub.execute_input": "2022-01-24T02:42:55.774830Z",
     "iopub.status.busy": "2022-01-24T02:42:55.774148Z",
     "iopub.status.idle": "2022-01-24T02:42:55.883247Z",
     "shell.execute_reply": "2022-01-24T02:42:55.883921Z",
     "shell.execute_reply.started": "2022-01-24T02:38:03.839186Z"
    },
    "papermill": {
     "duration": 0.134826,
     "end_time": "2022-01-24T02:42:55.884197",
     "exception": false,
     "start_time": "2022-01-24T02:42:55.749371",
     "status": "completed"
    },
    "tags": []
   },
   "outputs": [],
   "source": [
    "target = model.predict(x_test).squeeze()\n",
    "row_id =  test_df['row_id'].values\n",
    "submission = pd.DataFrame({'row_id' : row_id, 'num_sold' : target})"
   ]
  },
  {
   "cell_type": "code",
   "execution_count": 16,
   "id": "ba3e19b4",
   "metadata": {
    "execution": {
     "iopub.execute_input": "2022-01-24T02:42:55.931520Z",
     "iopub.status.busy": "2022-01-24T02:42:55.930848Z",
     "iopub.status.idle": "2022-01-24T02:42:55.940622Z",
     "shell.execute_reply": "2022-01-24T02:42:55.941165Z",
     "shell.execute_reply.started": "2022-01-24T02:38:04.506827Z"
    },
    "papermill": {
     "duration": 0.035615,
     "end_time": "2022-01-24T02:42:55.941340",
     "exception": false,
     "start_time": "2022-01-24T02:42:55.905725",
     "status": "completed"
    },
    "tags": []
   },
   "outputs": [
    {
     "data": {
      "text/html": [
       "<div>\n",
       "<style scoped>\n",
       "    .dataframe tbody tr th:only-of-type {\n",
       "        vertical-align: middle;\n",
       "    }\n",
       "\n",
       "    .dataframe tbody tr th {\n",
       "        vertical-align: top;\n",
       "    }\n",
       "\n",
       "    .dataframe thead th {\n",
       "        text-align: right;\n",
       "    }\n",
       "</style>\n",
       "<table border=\"1\" class=\"dataframe\">\n",
       "  <thead>\n",
       "    <tr style=\"text-align: right;\">\n",
       "      <th></th>\n",
       "      <th>row_id</th>\n",
       "      <th>num_sold</th>\n",
       "    </tr>\n",
       "  </thead>\n",
       "  <tbody>\n",
       "    <tr>\n",
       "      <th>0</th>\n",
       "      <td>26298</td>\n",
       "      <td>405.198303</td>\n",
       "    </tr>\n",
       "    <tr>\n",
       "      <th>1</th>\n",
       "      <td>26299</td>\n",
       "      <td>620.650269</td>\n",
       "    </tr>\n",
       "    <tr>\n",
       "      <th>2</th>\n",
       "      <td>26300</td>\n",
       "      <td>176.226227</td>\n",
       "    </tr>\n",
       "    <tr>\n",
       "      <th>3</th>\n",
       "      <td>26301</td>\n",
       "      <td>680.844849</td>\n",
       "    </tr>\n",
       "    <tr>\n",
       "      <th>4</th>\n",
       "      <td>26302</td>\n",
       "      <td>1032.877441</td>\n",
       "    </tr>\n",
       "  </tbody>\n",
       "</table>\n",
       "</div>"
      ],
      "text/plain": [
       "   row_id     num_sold\n",
       "0   26298   405.198303\n",
       "1   26299   620.650269\n",
       "2   26300   176.226227\n",
       "3   26301   680.844849\n",
       "4   26302  1032.877441"
      ]
     },
     "execution_count": 16,
     "metadata": {},
     "output_type": "execute_result"
    }
   ],
   "source": [
    "submission.head()"
   ]
  },
  {
   "cell_type": "code",
   "execution_count": 17,
   "id": "fb5499f7",
   "metadata": {
    "execution": {
     "iopub.execute_input": "2022-01-24T02:42:55.986514Z",
     "iopub.status.busy": "2022-01-24T02:42:55.985763Z",
     "iopub.status.idle": "2022-01-24T02:42:56.014054Z",
     "shell.execute_reply": "2022-01-24T02:42:56.014600Z",
     "shell.execute_reply.started": "2022-01-24T02:38:04.882934Z"
    },
    "papermill": {
     "duration": 0.052506,
     "end_time": "2022-01-24T02:42:56.014791",
     "exception": false,
     "start_time": "2022-01-24T02:42:55.962285",
     "status": "completed"
    },
    "tags": []
   },
   "outputs": [],
   "source": [
    "submission.to_csv('submission.csv', index=False)"
   ]
  },
  {
   "cell_type": "code",
   "execution_count": null,
   "id": "cd3b72d8",
   "metadata": {
    "papermill": {
     "duration": 0.020196,
     "end_time": "2022-01-24T02:42:56.055242",
     "exception": false,
     "start_time": "2022-01-24T02:42:56.035046",
     "status": "completed"
    },
    "tags": []
   },
   "outputs": [],
   "source": []
  }
 ],
 "metadata": {
  "kernelspec": {
   "display_name": "Python 3",
   "language": "python",
   "name": "python3"
  },
  "language_info": {
   "codemirror_mode": {
    "name": "ipython",
    "version": 3
   },
   "file_extension": ".py",
   "mimetype": "text/x-python",
   "name": "python",
   "nbconvert_exporter": "python",
   "pygments_lexer": "ipython3",
   "version": "3.7.12"
  },
  "papermill": {
   "default_parameters": {},
   "duration": 35.71842,
   "end_time": "2022-01-24T02:42:59.243871",
   "environment_variables": {},
   "exception": null,
   "input_path": "__notebook__.ipynb",
   "output_path": "__notebook__.ipynb",
   "parameters": {},
   "start_time": "2022-01-24T02:42:23.525451",
   "version": "2.3.3"
  }
 },
 "nbformat": 4,
 "nbformat_minor": 5
}
