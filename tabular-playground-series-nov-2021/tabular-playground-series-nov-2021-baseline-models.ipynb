{
 "cells": [
  {
   "cell_type": "code",
   "execution_count": 1,
   "id": "452e2f06",
   "metadata": {
    "_cell_guid": "b1076dfc-b9ad-4769-8c92-a6c4dae69d19",
    "_uuid": "8f2839f25d086af736a60e9eeb907d3b93b6e0e5",
    "execution": {
     "iopub.execute_input": "2021-11-23T13:21:28.044264Z",
     "iopub.status.busy": "2021-11-23T13:21:28.042741Z",
     "iopub.status.idle": "2021-11-23T13:21:28.054421Z",
     "shell.execute_reply": "2021-11-23T13:21:28.054963Z",
     "shell.execute_reply.started": "2021-11-19T16:50:01.637465Z"
    },
    "papermill": {
     "duration": 0.044357,
     "end_time": "2021-11-23T13:21:28.055178",
     "exception": false,
     "start_time": "2021-11-23T13:21:28.010821",
     "status": "completed"
    },
    "tags": []
   },
   "outputs": [
    {
     "name": "stdout",
     "output_type": "stream",
     "text": [
      "/kaggle/input/tabular-playground-series-nov-2021/sample_submission.csv\n",
      "/kaggle/input/tabular-playground-series-nov-2021/train.csv\n",
      "/kaggle/input/tabular-playground-series-nov-2021/test.csv\n"
     ]
    }
   ],
   "source": [
    "# This Python 3 environment comes with many helpful analytics libraries installed\n",
    "# It is defined by the kaggle/python Docker image: https://github.com/kaggle/docker-python\n",
    "# For example, here's several helpful packages to load\n",
    "\n",
    "import numpy as np # linear algebra\n",
    "import pandas as pd # data processing, CSV file I/O (e.g. pd.read_csv)\n",
    "\n",
    "# Input data files are available in the read-only \"../input/\" directory\n",
    "# For example, running this (by clicking run or pressing Shift+Enter) will list all files under the input directory\n",
    "\n",
    "import os\n",
    "for dirname, _, filenames in os.walk('/kaggle/input'):\n",
    "    for filename in filenames:\n",
    "        print(os.path.join(dirname, filename))\n",
    "\n",
    "# You can write up to 20GB to the current directory (/kaggle/working/) that gets preserved as output when you create a version using \"Save & Run All\" \n",
    "# You can also write temporary files to /kaggle/temp/, but they won't be saved outside of the current session"
   ]
  },
  {
   "cell_type": "code",
   "execution_count": 2,
   "id": "b00b1230",
   "metadata": {
    "execution": {
     "iopub.execute_input": "2021-11-23T13:21:28.118076Z",
     "iopub.status.busy": "2021-11-23T13:21:28.117430Z",
     "iopub.status.idle": "2021-11-23T13:21:32.861562Z",
     "shell.execute_reply": "2021-11-23T13:21:32.862055Z",
     "shell.execute_reply.started": "2021-11-19T16:50:01.670793Z"
    },
    "papermill": {
     "duration": 4.77754,
     "end_time": "2021-11-23T13:21:32.862247",
     "exception": false,
     "start_time": "2021-11-23T13:21:28.084707",
     "status": "completed"
    },
    "tags": []
   },
   "outputs": [],
   "source": [
    "import matplotlib.pyplot as plt\n",
    "import seaborn as sns\n",
    "import warnings\n",
    "import gc\n",
    "import tensorflow as tf\n",
    "\n",
    "from sklearn.preprocessing import StandardScaler\n",
    "from sklearn.preprocessing import MinMaxScaler\n",
    "from sklearn.preprocessing import QuantileTransformer\n",
    "from sklearn.preprocessing import PowerTransformer\n",
    "from sklearn.model_selection import RepeatedStratifiedKFold\n",
    "from sklearn.model_selection import cross_val_score\n",
    "from sklearn.model_selection import GridSearchCV\n",
    "from sklearn.model_selection import train_test_split\n",
    "from sklearn.decomposition import PCA\n",
    "from sklearn.decomposition import TruncatedSVD\n",
    "from sklearn.metrics import roc_auc_score\n",
    "from sklearn.pipeline import Pipeline\n",
    "from sklearn.linear_model import LogisticRegression\n",
    "\n",
    "from xgboost import XGBClassifier\n",
    "\n",
    "warnings.filterwarnings(\"ignore\")"
   ]
  },
  {
   "cell_type": "code",
   "execution_count": 3,
   "id": "a40aa728",
   "metadata": {
    "execution": {
     "iopub.execute_input": "2021-11-23T13:21:32.923250Z",
     "iopub.status.busy": "2021-11-23T13:21:32.922529Z",
     "iopub.status.idle": "2021-11-23T13:21:32.924797Z",
     "shell.execute_reply": "2021-11-23T13:21:32.925232Z",
     "shell.execute_reply.started": "2021-11-19T16:50:20.189351Z"
    },
    "papermill": {
     "duration": 0.034604,
     "end_time": "2021-11-23T13:21:32.925357",
     "exception": false,
     "start_time": "2021-11-23T13:21:32.890753",
     "status": "completed"
    },
    "tags": []
   },
   "outputs": [],
   "source": [
    "def evaluate_model(model, x, y):\n",
    "    y_pred_prob = model.predict_proba(x)[:, 1]\n",
    "    auc_roc = roc_auc_score(y, y_pred_prob)\n",
    "    return {'auc_roc_curve' : auc_roc}"
   ]
  },
  {
   "cell_type": "code",
   "execution_count": 4,
   "id": "838455b8",
   "metadata": {
    "execution": {
     "iopub.execute_input": "2021-11-23T13:21:32.985610Z",
     "iopub.status.busy": "2021-11-23T13:21:32.984069Z",
     "iopub.status.idle": "2021-11-23T13:21:32.986254Z",
     "shell.execute_reply": "2021-11-23T13:21:32.986655Z",
     "shell.execute_reply.started": "2021-11-19T16:50:20.198309Z"
    },
    "papermill": {
     "duration": 0.033867,
     "end_time": "2021-11-23T13:21:32.986801",
     "exception": false,
     "start_time": "2021-11-23T13:21:32.952934",
     "status": "completed"
    },
    "tags": []
   },
   "outputs": [],
   "source": [
    "seed = 47"
   ]
  },
  {
   "cell_type": "code",
   "execution_count": 5,
   "id": "c836221a",
   "metadata": {
    "execution": {
     "iopub.execute_input": "2021-11-23T13:21:33.046994Z",
     "iopub.status.busy": "2021-11-23T13:21:33.046437Z",
     "iopub.status.idle": "2021-11-23T13:21:47.882404Z",
     "shell.execute_reply": "2021-11-23T13:21:47.881906Z",
     "shell.execute_reply.started": "2021-11-19T16:50:20.215602Z"
    },
    "papermill": {
     "duration": 14.867469,
     "end_time": "2021-11-23T13:21:47.882544",
     "exception": false,
     "start_time": "2021-11-23T13:21:33.015075",
     "status": "completed"
    },
    "tags": []
   },
   "outputs": [],
   "source": [
    "train_df = pd.read_csv('/kaggle/input/tabular-playground-series-nov-2021/train.csv', sep=',')"
   ]
  },
  {
   "cell_type": "markdown",
   "id": "9974be52",
   "metadata": {
    "papermill": {
     "duration": 0.027849,
     "end_time": "2021-11-23T13:21:47.940050",
     "exception": false,
     "start_time": "2021-11-23T13:21:47.912201",
     "status": "completed"
    },
    "tags": []
   },
   "source": [
    "# XGBoost Baseline"
   ]
  },
  {
   "cell_type": "code",
   "execution_count": 6,
   "id": "e78a995b",
   "metadata": {
    "execution": {
     "iopub.execute_input": "2021-11-23T13:21:48.148651Z",
     "iopub.status.busy": "2021-11-23T13:21:48.147857Z",
     "iopub.status.idle": "2021-11-23T13:21:48.886250Z",
     "shell.execute_reply": "2021-11-23T13:21:48.886689Z",
     "shell.execute_reply.started": "2021-11-14T16:27:30.521207Z"
    },
    "papermill": {
     "duration": 0.918028,
     "end_time": "2021-11-23T13:21:48.886894",
     "exception": false,
     "start_time": "2021-11-23T13:21:47.968866",
     "status": "completed"
    },
    "tags": []
   },
   "outputs": [],
   "source": [
    "x_train = train_df.drop(['id', 'target'], axis=1).values\n",
    "y_train = train_df['target'].values \n",
    "x_train, x_test, y_train, y_test = train_test_split(x_train, y_train, test_size = 0.2, random_state = seed)"
   ]
  },
  {
   "cell_type": "code",
   "execution_count": 7,
   "id": "c35b1e32",
   "metadata": {
    "execution": {
     "iopub.execute_input": "2021-11-23T13:21:48.950881Z",
     "iopub.status.busy": "2021-11-23T13:21:48.950170Z",
     "iopub.status.idle": "2021-11-23T13:22:30.027317Z",
     "shell.execute_reply": "2021-11-23T13:22:30.027779Z",
     "shell.execute_reply.started": "2021-11-14T16:27:31.610284Z"
    },
    "papermill": {
     "duration": 41.112109,
     "end_time": "2021-11-23T13:22:30.027928",
     "exception": false,
     "start_time": "2021-11-23T13:21:48.915819",
     "status": "completed"
    },
    "tags": []
   },
   "outputs": [
    {
     "name": "stdout",
     "output_type": "stream",
     "text": [
      "{'auc_roc_curve': 0.7463180392129056}\n"
     ]
    }
   ],
   "source": [
    "params = {'colsample_bytree': 0.1,\n",
    "          'eta': 0.12,\n",
    "          'gamma': 5, \n",
    "          'max_depth': 2,\n",
    "          'min_child_weight': 9,\n",
    "          'n_estimators': 11000, \n",
    "          'subsample': 0.9}\n",
    "\n",
    "model = XGBClassifier(**params, \n",
    "                      random_state=seed, \n",
    "                      tree_method='gpu_hist', \n",
    "                      predictor='gpu_predictor',\n",
    "                      use_label_encoder=False, \n",
    "                      verbosity=0)\n",
    "\n",
    "model.fit(x_train, y_train)\n",
    "results = evaluate_model(model, x_test, y_test)\n",
    "print(results)"
   ]
  },
  {
   "cell_type": "markdown",
   "id": "5e90a05e",
   "metadata": {
    "papermill": {
     "duration": 0.028398,
     "end_time": "2021-11-23T13:22:30.092534",
     "exception": false,
     "start_time": "2021-11-23T13:22:30.064136",
     "status": "completed"
    },
    "tags": []
   },
   "source": [
    "# Logistic Regression Baseline"
   ]
  },
  {
   "cell_type": "code",
   "execution_count": 8,
   "id": "6a692bcd",
   "metadata": {
    "execution": {
     "iopub.execute_input": "2021-11-23T13:22:30.153284Z",
     "iopub.status.busy": "2021-11-23T13:22:30.152525Z",
     "iopub.status.idle": "2021-11-23T13:23:43.292640Z",
     "shell.execute_reply": "2021-11-23T13:23:43.293413Z",
     "shell.execute_reply.started": "2021-11-14T16:28:13.814204Z"
    },
    "papermill": {
     "duration": 73.173088,
     "end_time": "2021-11-23T13:23:43.293654",
     "exception": false,
     "start_time": "2021-11-23T13:22:30.120566",
     "status": "completed"
    },
    "tags": []
   },
   "outputs": [
    {
     "name": "stdout",
     "output_type": "stream",
     "text": [
      "{'auc_roc_curve': 0.7482452812440868}\n"
     ]
    }
   ],
   "source": [
    "model = LogisticRegression(random_state=seed, solver='liblinear')\n",
    "model.fit(x_train, y_train)\n",
    "results = evaluate_model(model, x_test, y_test)\n",
    "print(results)"
   ]
  },
  {
   "cell_type": "markdown",
   "id": "5fa350a8",
   "metadata": {
    "papermill": {
     "duration": 0.027846,
     "end_time": "2021-11-23T13:23:43.354376",
     "exception": false,
     "start_time": "2021-11-23T13:23:43.326530",
     "status": "completed"
    },
    "tags": []
   },
   "source": [
    "# Feature Engineering\n",
    "\n",
    "Here wee will experiment creating synthetic features using central tendency statistics."
   ]
  },
  {
   "cell_type": "code",
   "execution_count": 9,
   "id": "f7cef6c1",
   "metadata": {
    "execution": {
     "iopub.execute_input": "2021-11-23T13:23:43.415864Z",
     "iopub.status.busy": "2021-11-23T13:23:43.415133Z",
     "iopub.status.idle": "2021-11-23T13:23:43.417297Z",
     "shell.execute_reply": "2021-11-23T13:23:43.417663Z",
     "shell.execute_reply.started": "2021-11-14T16:34:19.788867Z"
    },
    "papermill": {
     "duration": 0.035533,
     "end_time": "2021-11-23T13:23:43.417811",
     "exception": false,
     "start_time": "2021-11-23T13:23:43.382278",
     "status": "completed"
    },
    "tags": []
   },
   "outputs": [],
   "source": [
    "geomean = lambda x, axis : np.exp(np.mean(np.log(x), axis=axis))\n",
    "harmonic_mean = lambda x, axis : len(x) / np.sum(1.0/x, axis=axis) \n",
    "\n",
    "funcs = {'mean' : np.mean, \n",
    "         'std' : np.std, \n",
    "         'var' : np.var, \n",
    "         'geo_mean' : geomean, \n",
    "         'harmonic_mean' : harmonic_mean, \n",
    "         'median' : np.median}"
   ]
  },
  {
   "cell_type": "markdown",
   "id": "c0cdb8f1",
   "metadata": {
    "papermill": {
     "duration": 0.027925,
     "end_time": "2021-11-23T13:23:43.473600",
     "exception": false,
     "start_time": "2021-11-23T13:23:43.445675",
     "status": "completed"
    },
    "tags": []
   },
   "source": [
    "<h3>Feature Engineering - XGBoost</h3>"
   ]
  },
  {
   "cell_type": "code",
   "execution_count": 10,
   "id": "721a1209",
   "metadata": {
    "execution": {
     "iopub.execute_input": "2021-11-23T13:23:43.672950Z",
     "iopub.status.busy": "2021-11-23T13:23:43.670554Z",
     "iopub.status.idle": "2021-11-23T13:27:58.667295Z",
     "shell.execute_reply": "2021-11-23T13:27:58.667764Z",
     "shell.execute_reply.started": "2021-11-14T16:34:22.845885Z"
    },
    "papermill": {
     "duration": 255.166247,
     "end_time": "2021-11-23T13:27:58.667903",
     "exception": false,
     "start_time": "2021-11-23T13:23:43.501656",
     "status": "completed"
    },
    "tags": []
   },
   "outputs": [
    {
     "name": "stdout",
     "output_type": "stream",
     "text": [
      ">mean: 0.746157\n",
      ">std: 0.746071\n",
      ">var: 0.746071\n",
      ">geo_mean: 0.746189\n",
      ">harmonic_mean: 0.746146\n",
      ">median: 0.746140\n"
     ]
    }
   ],
   "source": [
    "results, names = list(), list()\n",
    "\n",
    "params = {'colsample_bytree': 0.1,\n",
    "          'eta': 0.12,\n",
    "          'gamma': 5, \n",
    "          'max_depth': 2,\n",
    "          'min_child_weight': 9,\n",
    "          'n_estimators': 11000, \n",
    "          'subsample': 0.9}\n",
    "\n",
    "for key in funcs.keys():\n",
    "    x_train = train_df.drop(['id', 'target'], axis=1)\n",
    "    x_train[key] = funcs[key](x_train, axis=1)\n",
    "    y_train = train_df['target']\n",
    "    x_train, x_test, y_train, y_test = train_test_split(x_train, y_train, test_size = 0.2, random_state = seed)       \n",
    "    model = XGBClassifier(**params, \n",
    "                      random_state=seed, \n",
    "                      tree_method='gpu_hist', \n",
    "                      predictor='gpu_predictor',\n",
    "                      use_label_encoder=False, \n",
    "                      verbosity=0)\n",
    "\n",
    "    model.fit(x_train, y_train)\n",
    "    result = evaluate_model(model, x_test, y_test)\n",
    "    names.append(key)\n",
    "    results.append(result['auc_roc_curve'])\n",
    "    \n",
    "for name, score in zip(names, results):\n",
    "    print('>%s: %f' % (name, score))"
   ]
  },
  {
   "cell_type": "markdown",
   "id": "7c65e0ad",
   "metadata": {
    "papermill": {
     "duration": 0.028115,
     "end_time": "2021-11-23T13:27:58.724312",
     "exception": false,
     "start_time": "2021-11-23T13:27:58.696197",
     "status": "completed"
    },
    "tags": []
   },
   "source": [
    "<h3>Feature Engineering - Logistic Regression</h3>"
   ]
  },
  {
   "cell_type": "code",
   "execution_count": 11,
   "id": "903d3842",
   "metadata": {
    "execution": {
     "iopub.execute_input": "2021-11-23T13:27:58.927564Z",
     "iopub.status.busy": "2021-11-23T13:27:58.926666Z",
     "iopub.status.idle": "2021-11-23T13:35:19.089816Z",
     "shell.execute_reply": "2021-11-23T13:35:19.090547Z",
     "shell.execute_reply.started": "2021-11-14T16:39:01.41923Z"
    },
    "papermill": {
     "duration": 440.338411,
     "end_time": "2021-11-23T13:35:19.090823",
     "exception": false,
     "start_time": "2021-11-23T13:27:58.752412",
     "status": "completed"
    },
    "tags": []
   },
   "outputs": [
    {
     "name": "stdout",
     "output_type": "stream",
     "text": [
      ">mean: 0.748249\n",
      ">std: 0.748224\n",
      ">var: 0.746519\n",
      ">geo_mean: 0.748245\n",
      ">harmonic_mean: 0.721463\n",
      ">median: 0.748217\n"
     ]
    }
   ],
   "source": [
    "results, names = list(), list()\n",
    "\n",
    "for key in funcs.keys():\n",
    "    x_train = train_df.drop(['id', 'target'], axis=1)\n",
    "    x_train[key] = funcs[key](x_train, axis=1)\n",
    "    y_train = train_df['target']\n",
    "    x_train, x_test, y_train, y_test = train_test_split(x_train, y_train, test_size = 0.2, random_state = seed)       \n",
    "    model = LogisticRegression(random_state=seed, solver='liblinear')\n",
    "    \n",
    "    model.fit(x_train, y_train)\n",
    "    result = evaluate_model(model, x_test, y_test)\n",
    "    names.append(key)\n",
    "    results.append(result['auc_roc_curve'])\n",
    "\n",
    "for name, score in zip(names, results):\n",
    "    print('>%s: %f' % (name, score))"
   ]
  },
  {
   "cell_type": "markdown",
   "id": "27d3c7d7",
   "metadata": {
    "papermill": {
     "duration": 0.028771,
     "end_time": "2021-11-23T13:35:19.151467",
     "exception": false,
     "start_time": "2021-11-23T13:35:19.122696",
     "status": "completed"
    },
    "tags": []
   },
   "source": [
    "# Grid Search Hyperparameters"
   ]
  },
  {
   "cell_type": "code",
   "execution_count": 12,
   "id": "b9512d17",
   "metadata": {
    "execution": {
     "iopub.execute_input": "2021-11-23T13:35:19.354307Z",
     "iopub.status.busy": "2021-11-23T13:35:19.353279Z",
     "iopub.status.idle": "2021-11-23T13:35:19.355586Z",
     "shell.execute_reply": "2021-11-23T13:35:19.356006Z",
     "shell.execute_reply.started": "2021-11-16T23:05:07.632408Z"
    },
    "papermill": {
     "duration": 0.175659,
     "end_time": "2021-11-23T13:35:19.356174",
     "exception": false,
     "start_time": "2021-11-23T13:35:19.180515",
     "status": "completed"
    },
    "tags": []
   },
   "outputs": [],
   "source": [
    "x_train = train_df.drop(['id', 'target'], axis=1).values\n",
    "y_train = train_df['target'].values"
   ]
  },
  {
   "cell_type": "markdown",
   "id": "24ac4a57",
   "metadata": {
    "papermill": {
     "duration": 0.029002,
     "end_time": "2021-11-23T13:35:19.415532",
     "exception": false,
     "start_time": "2021-11-23T13:35:19.386530",
     "status": "completed"
    },
    "tags": []
   },
   "source": [
    "<h3>Grid Search Hyperparameters - XGBoost<h3>"
   ]
  },
  {
   "cell_type": "code",
   "execution_count": 13,
   "id": "56a9d8ec",
   "metadata": {
    "execution": {
     "iopub.execute_input": "2021-11-23T13:35:19.480047Z",
     "iopub.status.busy": "2021-11-23T13:35:19.479329Z",
     "iopub.status.idle": "2021-11-23T13:35:19.482032Z",
     "shell.execute_reply": "2021-11-23T13:35:19.481540Z",
     "shell.execute_reply.started": "2021-11-16T15:44:57.569328Z"
    },
    "papermill": {
     "duration": 0.037644,
     "end_time": "2021-11-23T13:35:19.482144",
     "exception": false,
     "start_time": "2021-11-23T13:35:19.444500",
     "status": "completed"
    },
    "tags": []
   },
   "outputs": [],
   "source": [
    "params = {'n_estimators' : [10000, 11000],\n",
    "          'max_depth' : [2, 3],\n",
    "          'subsample' : [0.8, 0.9, 1.0],\n",
    "          'eta' : [0.11, 0.12],\n",
    "          'colsample_bytree' : [0.3, 0.4],\n",
    "          'min_child_weight': [5],\n",
    "          'gamma': [5]\n",
    "         }\n",
    "\n",
    "model = XGBClassifier(random_state=seed, tree_method='gpu_hist', predictor='gpu_predictor', use_label_encoder=False, verbosity=0)\n",
    "cv = RepeatedStratifiedKFold(n_splits=5, n_repeats=1, random_state=1)\n",
    "search = GridSearchCV(model, param_grid=params, scoring='roc_auc', refit='roc_auc', n_jobs=-1, cv=cv)"
   ]
  },
  {
   "cell_type": "code",
   "execution_count": 14,
   "id": "6b0f909e",
   "metadata": {
    "execution": {
     "iopub.execute_input": "2021-11-23T13:35:19.544494Z",
     "iopub.status.busy": "2021-11-23T13:35:19.543965Z",
     "iopub.status.idle": "2021-11-23T16:21:25.058538Z",
     "shell.execute_reply": "2021-11-23T16:21:25.059023Z",
     "shell.execute_reply.started": "2021-11-16T15:45:10.703324Z"
    },
    "papermill": {
     "duration": 9965.54811,
     "end_time": "2021-11-23T16:21:25.059197",
     "exception": false,
     "start_time": "2021-11-23T13:35:19.511087",
     "status": "completed"
    },
    "tags": []
   },
   "outputs": [
    {
     "name": "stdout",
     "output_type": "stream",
     "text": [
      "Best Score: 0.7466454334143676\n",
      "Best Hyperparameters: {'colsample_bytree': 0.3, 'eta': 0.11, 'gamma': 5, 'max_depth': 2, 'min_child_weight': 5, 'n_estimators': 11000, 'subsample': 0.9}\n"
     ]
    }
   ],
   "source": [
    "result = search.fit(x_train, y_train)\n",
    "print('Best Score: %s' % result.best_score_)\n",
    "print('Best Hyperparameters: %s' % result.best_params_)"
   ]
  },
  {
   "cell_type": "markdown",
   "id": "81443332",
   "metadata": {
    "papermill": {
     "duration": 0.028791,
     "end_time": "2021-11-23T16:21:25.117119",
     "exception": false,
     "start_time": "2021-11-23T16:21:25.088328",
     "status": "completed"
    },
    "tags": []
   },
   "source": [
    "# Ensemble Models"
   ]
  },
  {
   "cell_type": "code",
   "execution_count": 15,
   "id": "639b1381",
   "metadata": {
    "execution": {
     "iopub.execute_input": "2021-11-23T16:21:25.321767Z",
     "iopub.status.busy": "2021-11-23T16:21:25.320681Z",
     "iopub.status.idle": "2021-11-23T16:21:26.056198Z",
     "shell.execute_reply": "2021-11-23T16:21:26.055707Z",
     "shell.execute_reply.started": "2021-11-17T18:37:38.818318Z"
    },
    "papermill": {
     "duration": 0.910399,
     "end_time": "2021-11-23T16:21:26.056326",
     "exception": false,
     "start_time": "2021-11-23T16:21:25.145927",
     "status": "completed"
    },
    "tags": []
   },
   "outputs": [],
   "source": [
    "x_train = train_df.drop(['id', 'target'], axis=1).values\n",
    "y_train = train_df['target'].values \n",
    "x_train, x_test, y_train, y_test = train_test_split(x_train, y_train, test_size = 0.2, random_state = seed)"
   ]
  },
  {
   "cell_type": "markdown",
   "id": "3e98d337",
   "metadata": {
    "papermill": {
     "duration": 0.029128,
     "end_time": "2021-11-23T16:21:26.117785",
     "exception": false,
     "start_time": "2021-11-23T16:21:26.088657",
     "status": "completed"
    },
    "tags": []
   },
   "source": [
    "<h4>Fitting XGBoost</h4>"
   ]
  },
  {
   "cell_type": "code",
   "execution_count": 16,
   "id": "7eff6ee7",
   "metadata": {
    "execution": {
     "iopub.execute_input": "2021-11-23T16:21:26.181502Z",
     "iopub.status.busy": "2021-11-23T16:21:26.178545Z",
     "iopub.status.idle": "2021-11-23T16:22:04.222339Z",
     "shell.execute_reply": "2021-11-23T16:22:04.222885Z",
     "shell.execute_reply.started": "2021-11-17T18:37:39.703006Z"
    },
    "papermill": {
     "duration": 38.076374,
     "end_time": "2021-11-23T16:22:04.223045",
     "exception": false,
     "start_time": "2021-11-23T16:21:26.146671",
     "status": "completed"
    },
    "tags": []
   },
   "outputs": [
    {
     "name": "stdout",
     "output_type": "stream",
     "text": [
      "{'auc_roc_curve': 0.7463180392129056}\n"
     ]
    }
   ],
   "source": [
    "params = {'colsample_bytree': 0.1,\n",
    "          'eta': 0.12,\n",
    "          'gamma': 5, \n",
    "          'max_depth': 2,\n",
    "          'min_child_weight': 9,\n",
    "          'n_estimators': 11000, \n",
    "          'subsample': 0.9}\n",
    "\n",
    "xgboost_model = XGBClassifier(**params, \n",
    "                      random_state=seed, \n",
    "                      tree_method='gpu_hist', \n",
    "                      predictor='gpu_predictor',\n",
    "                      use_label_encoder=False, \n",
    "                      verbosity=0)\n",
    "\n",
    "xgboost_model.fit(x_train, y_train)\n",
    "results = evaluate_model(xgboost_model, x_test, y_test)\n",
    "print(results)"
   ]
  },
  {
   "cell_type": "markdown",
   "id": "1a3bb472",
   "metadata": {
    "papermill": {
     "duration": 0.028794,
     "end_time": "2021-11-23T16:22:04.281134",
     "exception": false,
     "start_time": "2021-11-23T16:22:04.252340",
     "status": "completed"
    },
    "tags": []
   },
   "source": [
    "<h4>Fitting Logistic Regression</h4>"
   ]
  },
  {
   "cell_type": "code",
   "execution_count": 17,
   "id": "9a81f319",
   "metadata": {
    "execution": {
     "iopub.execute_input": "2021-11-23T16:22:04.344574Z",
     "iopub.status.busy": "2021-11-23T16:22:04.343675Z",
     "iopub.status.idle": "2021-11-23T16:23:17.546190Z",
     "shell.execute_reply": "2021-11-23T16:23:17.546913Z",
     "shell.execute_reply.started": "2021-11-17T18:38:37.964867Z"
    },
    "papermill": {
     "duration": 73.236763,
     "end_time": "2021-11-23T16:23:17.547146",
     "exception": false,
     "start_time": "2021-11-23T16:22:04.310383",
     "status": "completed"
    },
    "tags": []
   },
   "outputs": [
    {
     "name": "stdout",
     "output_type": "stream",
     "text": [
      "{'auc_roc_curve': 0.7482452812440868}\n"
     ]
    }
   ],
   "source": [
    "logistic_reg_model = LogisticRegression(random_state=seed, solver='liblinear')\n",
    "logistic_reg_model.fit(x_train, y_train)\n",
    "results = evaluate_model(logistic_reg_model, x_test, y_test)\n",
    "print(results)"
   ]
  },
  {
   "cell_type": "markdown",
   "id": "d07c4646",
   "metadata": {
    "papermill": {
     "duration": 0.029681,
     "end_time": "2021-11-23T16:23:17.609590",
     "exception": false,
     "start_time": "2021-11-23T16:23:17.579909",
     "status": "completed"
    },
    "tags": []
   },
   "source": [
    "<h4>Ensembling both models</h4>"
   ]
  },
  {
   "cell_type": "code",
   "execution_count": 18,
   "id": "d2fe2115",
   "metadata": {
    "execution": {
     "iopub.execute_input": "2021-11-23T16:23:17.679654Z",
     "iopub.status.busy": "2021-11-23T16:23:17.678917Z",
     "iopub.status.idle": "2021-11-23T16:23:18.181695Z",
     "shell.execute_reply": "2021-11-23T16:23:18.182386Z",
     "shell.execute_reply.started": "2021-11-17T18:44:29.082795Z"
    },
    "papermill": {
     "duration": 0.54366,
     "end_time": "2021-11-23T16:23:18.182630",
     "exception": false,
     "start_time": "2021-11-23T16:23:17.638970",
     "status": "completed"
    },
    "tags": []
   },
   "outputs": [
    {
     "name": "stdout",
     "output_type": "stream",
     "text": [
      "{'auc_roc_curve': 0.7485878280531844}\n"
     ]
    }
   ],
   "source": [
    "y_pred_prob_xgboost = xgboost_model.predict_proba(x_test)[:, 1]\n",
    "y_pred_prob_logistic_reg = logistic_reg_model.predict_proba(x_test)[:, 1]\n",
    "y_pred_prob = np.mean([y_pred_prob_xgboost, y_pred_prob_logistic_reg], axis=0)\n",
    "auc_roc = roc_auc_score(y_test, y_pred_prob)\n",
    "print({'auc_roc_curve' : auc_roc})"
   ]
  },
  {
   "cell_type": "markdown",
   "id": "bb077ca9",
   "metadata": {
    "papermill": {
     "duration": 0.032794,
     "end_time": "2021-11-23T16:23:18.271249",
     "exception": false,
     "start_time": "2021-11-23T16:23:18.238455",
     "status": "completed"
    },
    "tags": []
   },
   "source": [
    "# Neural Nets"
   ]
  },
  {
   "cell_type": "code",
   "execution_count": 19,
   "id": "1e9baae7",
   "metadata": {
    "execution": {
     "iopub.execute_input": "2021-11-23T16:23:18.472602Z",
     "iopub.status.busy": "2021-11-23T16:23:18.471851Z",
     "iopub.status.idle": "2021-11-23T16:23:19.202488Z",
     "shell.execute_reply": "2021-11-23T16:23:19.201998Z",
     "shell.execute_reply.started": "2021-11-19T22:56:11.596298Z"
    },
    "papermill": {
     "duration": 0.901522,
     "end_time": "2021-11-23T16:23:19.202631",
     "exception": false,
     "start_time": "2021-11-23T16:23:18.301109",
     "status": "completed"
    },
    "tags": []
   },
   "outputs": [],
   "source": [
    "x_train = train_df.drop(['id', 'target'], axis=1).values\n",
    "y_train = train_df['target'].values \n",
    "x_train, x_test, y_train, y_test = train_test_split(x_train, y_train, test_size = 0.2, random_state = seed)"
   ]
  },
  {
   "cell_type": "code",
   "execution_count": 20,
   "id": "1603cdd7",
   "metadata": {
    "execution": {
     "iopub.execute_input": "2021-11-23T16:23:19.269881Z",
     "iopub.status.busy": "2021-11-23T16:23:19.269202Z",
     "iopub.status.idle": "2021-11-23T16:28:15.030130Z",
     "shell.execute_reply": "2021-11-23T16:28:15.029603Z",
     "shell.execute_reply.started": "2021-11-18T20:55:12.61476Z"
    },
    "papermill": {
     "duration": 295.797302,
     "end_time": "2021-11-23T16:28:15.030272",
     "exception": false,
     "start_time": "2021-11-23T16:23:19.232970",
     "status": "completed"
    },
    "tags": []
   },
   "outputs": [
    {
     "name": "stderr",
     "output_type": "stream",
     "text": [
      "2021-11-23 16:23:20.342950: I tensorflow/stream_executor/cuda/cuda_gpu_executor.cc:937] successful NUMA node read from SysFS had negative value (-1), but there must be at least one NUMA node, so returning NUMA node zero\n",
      "2021-11-23 16:23:20.344150: I tensorflow/stream_executor/cuda/cuda_gpu_executor.cc:937] successful NUMA node read from SysFS had negative value (-1), but there must be at least one NUMA node, so returning NUMA node zero\n",
      "2021-11-23 16:23:20.344800: I tensorflow/stream_executor/cuda/cuda_gpu_executor.cc:937] successful NUMA node read from SysFS had negative value (-1), but there must be at least one NUMA node, so returning NUMA node zero\n",
      "2021-11-23 16:23:20.345582: I tensorflow/core/platform/cpu_feature_guard.cc:142] This TensorFlow binary is optimized with oneAPI Deep Neural Network Library (oneDNN) to use the following CPU instructions in performance-critical operations:  AVX2 AVX512F FMA\n",
      "To enable them in other operations, rebuild TensorFlow with the appropriate compiler flags.\n",
      "2021-11-23 16:23:20.346717: I tensorflow/stream_executor/cuda/cuda_gpu_executor.cc:937] successful NUMA node read from SysFS had negative value (-1), but there must be at least one NUMA node, so returning NUMA node zero\n",
      "2021-11-23 16:23:20.347390: I tensorflow/stream_executor/cuda/cuda_gpu_executor.cc:937] successful NUMA node read from SysFS had negative value (-1), but there must be at least one NUMA node, so returning NUMA node zero\n",
      "2021-11-23 16:23:20.348039: I tensorflow/stream_executor/cuda/cuda_gpu_executor.cc:937] successful NUMA node read from SysFS had negative value (-1), but there must be at least one NUMA node, so returning NUMA node zero\n",
      "2021-11-23 16:23:23.686879: I tensorflow/stream_executor/cuda/cuda_gpu_executor.cc:937] successful NUMA node read from SysFS had negative value (-1), but there must be at least one NUMA node, so returning NUMA node zero\n",
      "2021-11-23 16:23:23.687659: I tensorflow/stream_executor/cuda/cuda_gpu_executor.cc:937] successful NUMA node read from SysFS had negative value (-1), but there must be at least one NUMA node, so returning NUMA node zero\n",
      "2021-11-23 16:23:23.688321: I tensorflow/stream_executor/cuda/cuda_gpu_executor.cc:937] successful NUMA node read from SysFS had negative value (-1), but there must be at least one NUMA node, so returning NUMA node zero\n",
      "2021-11-23 16:23:23.688955: I tensorflow/core/common_runtime/gpu/gpu_device.cc:1510] Created device /job:localhost/replica:0/task:0/device:GPU:0 with 12959 MB memory:  -> device: 0, name: Tesla P100-PCIE-16GB, pci bus id: 0000:00:04.0, compute capability: 6.0\n",
      "2021-11-23 16:23:24.576886: I tensorflow/compiler/mlir/mlir_graph_optimization_pass.cc:185] None of the MLIR Optimization Passes are enabled (registered 2)\n"
     ]
    },
    {
     "name": "stdout",
     "output_type": "stream",
     "text": [
      "Epoch 1/25\n",
      "3750/3750 [==============================] - 13s 3ms/step - loss: 0.6628 - auc: 0.6747\n",
      "Epoch 2/25\n",
      "3750/3750 [==============================] - 11s 3ms/step - loss: 0.5902 - auc: 0.7410\n",
      "Epoch 3/25\n",
      "3750/3750 [==============================] - 11s 3ms/step - loss: 0.5854 - auc: 0.7426\n",
      "Epoch 4/25\n",
      "3750/3750 [==============================] - 12s 3ms/step - loss: 0.5824 - auc: 0.7444\n",
      "Epoch 5/25\n",
      "3750/3750 [==============================] - 11s 3ms/step - loss: 0.5807 - auc: 0.7460\n",
      "Epoch 6/25\n",
      "3750/3750 [==============================] - 12s 3ms/step - loss: 0.5808 - auc: 0.7453\n",
      "Epoch 7/25\n",
      "3750/3750 [==============================] - 11s 3ms/step - loss: 0.5797 - auc: 0.7464\n",
      "Epoch 8/25\n",
      "3750/3750 [==============================] - 12s 3ms/step - loss: 0.5788 - auc: 0.7469\n",
      "Epoch 9/25\n",
      "3750/3750 [==============================] - 12s 3ms/step - loss: 0.5785 - auc: 0.7469\n",
      "Epoch 10/25\n",
      "3750/3750 [==============================] - 11s 3ms/step - loss: 0.5780 - auc: 0.7469\n",
      "Epoch 11/25\n",
      "3750/3750 [==============================] - 11s 3ms/step - loss: 0.5776 - auc: 0.7470\n",
      "Epoch 12/25\n",
      "3750/3750 [==============================] - 12s 3ms/step - loss: 0.5774 - auc: 0.7474\n",
      "Epoch 13/25\n",
      "3750/3750 [==============================] - 12s 3ms/step - loss: 0.5775 - auc: 0.7479\n",
      "Epoch 14/25\n",
      "3750/3750 [==============================] - 11s 3ms/step - loss: 0.5761 - auc: 0.7488\n",
      "Epoch 15/25\n",
      "3750/3750 [==============================] - 12s 3ms/step - loss: 0.5760 - auc: 0.7491\n",
      "Epoch 16/25\n",
      "3750/3750 [==============================] - 12s 3ms/step - loss: 0.5765 - auc: 0.7487\n",
      "Epoch 17/25\n",
      "3750/3750 [==============================] - 12s 3ms/step - loss: 0.5762 - auc: 0.7496\n",
      "Epoch 18/25\n",
      "3750/3750 [==============================] - 12s 3ms/step - loss: 0.5758 - auc: 0.7495\n",
      "Epoch 19/25\n",
      "3750/3750 [==============================] - 12s 3ms/step - loss: 0.5761 - auc: 0.7491\n",
      "Epoch 20/25\n",
      "3750/3750 [==============================] - 11s 3ms/step - loss: 0.5760 - auc: 0.7496\n",
      "Epoch 21/25\n",
      "3750/3750 [==============================] - 12s 3ms/step - loss: 0.5751 - auc: 0.7501\n",
      "Epoch 22/25\n",
      "3750/3750 [==============================] - 12s 3ms/step - loss: 0.5750 - auc: 0.7496\n",
      "Epoch 23/25\n",
      "3750/3750 [==============================] - 11s 3ms/step - loss: 0.5747 - auc: 0.7505\n",
      "Epoch 24/25\n",
      "3750/3750 [==============================] - 12s 3ms/step - loss: 0.5761 - auc: 0.7498\n",
      "Epoch 25/25\n",
      "3750/3750 [==============================] - 11s 3ms/step - loss: 0.5744 - auc: 0.7507\n"
     ]
    },
    {
     "data": {
      "text/plain": [
       "<keras.callbacks.History at 0x7f61122c0cd0>"
      ]
     },
     "execution_count": 20,
     "metadata": {},
     "output_type": "execute_result"
    }
   ],
   "source": [
    "model = tf.keras.Sequential()\n",
    "model.add(tf.keras.layers.Dense(256, activation='swish'))\n",
    "model.add(tf.keras.layers.Dropout(0.1))\n",
    "model.add(tf.keras.layers.Dense(128, activation='swish'))\n",
    "model.add(tf.keras.layers.Dropout(0.1))\n",
    "model.add(tf.keras.layers.Dense(64, activation='swish'))\n",
    "model.add(tf.keras.layers.Dropout(0.1))\n",
    "model.add(tf.keras.layers.Dense(1, activation='sigmoid'))\n",
    "model.compile(optimizer='adam', loss=tf.keras.losses.BinaryCrossentropy(from_logits=True), metrics=[tf.keras.metrics.AUC(from_logits=True)])\n",
    "model.fit(x_train, y_train, batch_size=128, epochs=25)"
   ]
  },
  {
   "cell_type": "code",
   "execution_count": 21,
   "id": "6284cd0e",
   "metadata": {
    "execution": {
     "iopub.execute_input": "2021-11-23T16:28:17.988070Z",
     "iopub.status.busy": "2021-11-23T16:28:17.987005Z",
     "iopub.status.idle": "2021-11-23T16:28:28.581815Z",
     "shell.execute_reply": "2021-11-23T16:28:28.581258Z",
     "shell.execute_reply.started": "2021-11-18T21:02:23.008801Z"
    },
    "papermill": {
     "duration": 12.087621,
     "end_time": "2021-11-23T16:28:28.581956",
     "exception": false,
     "start_time": "2021-11-23T16:28:16.494335",
     "status": "completed"
    },
    "tags": []
   },
   "outputs": [
    {
     "name": "stdout",
     "output_type": "stream",
     "text": [
      "3750/3750 [==============================] - 9s 2ms/step - loss: 0.5714 - auc: 0.7508\n",
      "0.7508249282836914\n"
     ]
    }
   ],
   "source": [
    "results = model.evaluate(x_test, y_test)[1]\n",
    "print(results)"
   ]
  },
  {
   "cell_type": "code",
   "execution_count": 22,
   "id": "65c8a452",
   "metadata": {
    "execution": {
     "iopub.execute_input": "2021-11-23T16:28:31.737500Z",
     "iopub.status.busy": "2021-11-23T16:28:31.736468Z",
     "iopub.status.idle": "2021-11-23T16:36:18.860433Z",
     "shell.execute_reply": "2021-11-23T16:36:18.859921Z",
     "shell.execute_reply.started": "2021-11-19T17:35:05.088906Z"
    },
    "papermill": {
     "duration": 468.657438,
     "end_time": "2021-11-23T16:36:18.860561",
     "exception": false,
     "start_time": "2021-11-23T16:28:30.203123",
     "status": "completed"
    },
    "tags": []
   },
   "outputs": [
    {
     "name": "stdout",
     "output_type": "stream",
     "text": [
      "Epoch 1/35\n",
      "3750/3750 [==============================] - 13s 3ms/step - loss: 0.8525 - auc_1: 0.5303\n",
      "Epoch 2/35\n",
      "3750/3750 [==============================] - 12s 3ms/step - loss: 0.6631 - auc_1: 0.6417\n",
      "Epoch 3/35\n",
      "3750/3750 [==============================] - 14s 4ms/step - loss: 0.6361 - auc_1: 0.6979\n",
      "Epoch 4/35\n",
      "3750/3750 [==============================] - 13s 3ms/step - loss: 0.6178 - auc_1: 0.7212\n",
      "Epoch 5/35\n",
      "3750/3750 [==============================] - 14s 4ms/step - loss: 0.6044 - auc_1: 0.7335\n",
      "Epoch 6/35\n",
      "3750/3750 [==============================] - 13s 4ms/step - loss: 0.5959 - auc_1: 0.7393\n",
      "Epoch 7/35\n",
      "3750/3750 [==============================] - 13s 3ms/step - loss: 0.5903 - auc_1: 0.7429\n",
      "Epoch 8/35\n",
      "3750/3750 [==============================] - 14s 4ms/step - loss: 0.5859 - auc_1: 0.7452\n",
      "Epoch 9/35\n",
      "3750/3750 [==============================] - 13s 3ms/step - loss: 0.5831 - auc_1: 0.7466\n",
      "Epoch 10/35\n",
      "3750/3750 [==============================] - 14s 4ms/step - loss: 0.5811 - auc_1: 0.7474\n",
      "Epoch 11/35\n",
      "3750/3750 [==============================] - 14s 4ms/step - loss: 0.5794 - auc_1: 0.7481\n",
      "Epoch 12/35\n",
      "3750/3750 [==============================] - 13s 3ms/step - loss: 0.5783 - auc_1: 0.7489\n",
      "Epoch 13/35\n",
      "3750/3750 [==============================] - 14s 4ms/step - loss: 0.5772 - auc_1: 0.7500\n",
      "Epoch 14/35\n",
      "3750/3750 [==============================] - 12s 3ms/step - loss: 0.5765 - auc_1: 0.7501\n",
      "Epoch 15/35\n",
      "3750/3750 [==============================] - 13s 4ms/step - loss: 0.5760 - auc_1: 0.7506\n",
      "Epoch 16/35\n",
      "3750/3750 [==============================] - 14s 4ms/step - loss: 0.5754 - auc_1: 0.7510\n",
      "Epoch 17/35\n",
      "3750/3750 [==============================] - 13s 3ms/step - loss: 0.5749 - auc_1: 0.7514\n",
      "Epoch 18/35\n",
      "3750/3750 [==============================] - 13s 3ms/step - loss: 0.5745 - auc_1: 0.7514\n",
      "Epoch 19/35\n",
      "3750/3750 [==============================] - 14s 4ms/step - loss: 0.5740 - auc_1: 0.7524\n",
      "Epoch 20/35\n",
      "3750/3750 [==============================] - 13s 4ms/step - loss: 0.5738 - auc_1: 0.7526\n",
      "Epoch 21/35\n",
      "3750/3750 [==============================] - 14s 4ms/step - loss: 0.5733 - auc_1: 0.7530\n",
      "Epoch 22/35\n",
      "3750/3750 [==============================] - 13s 3ms/step - loss: 0.5731 - auc_1: 0.7532\n",
      "Epoch 23/35\n",
      "3750/3750 [==============================] - 12s 3ms/step - loss: 0.5729 - auc_1: 0.7535\n",
      "Epoch 24/35\n",
      "3750/3750 [==============================] - 14s 4ms/step - loss: 0.5726 - auc_1: 0.7537\n",
      "Epoch 25/35\n",
      "3750/3750 [==============================] - 13s 3ms/step - loss: 0.5722 - auc_1: 0.7538\n",
      "Epoch 26/35\n",
      "3750/3750 [==============================] - 12s 3ms/step - loss: 0.5722 - auc_1: 0.7542\n",
      "Epoch 27/35\n",
      "3750/3750 [==============================] - 15s 4ms/step - loss: 0.5718 - auc_1: 0.7546\n",
      "Epoch 28/35\n",
      "3750/3750 [==============================] - 13s 3ms/step - loss: 0.5715 - auc_1: 0.7550\n",
      "Epoch 29/35\n",
      "3750/3750 [==============================] - 14s 4ms/step - loss: 0.5714 - auc_1: 0.7553\n",
      "Epoch 30/35\n",
      "3750/3750 [==============================] - 14s 4ms/step - loss: 0.5713 - auc_1: 0.7558\n",
      "Epoch 31/35\n",
      "3750/3750 [==============================] - 13s 3ms/step - loss: 0.5709 - auc_1: 0.7560\n",
      "Epoch 32/35\n",
      "3750/3750 [==============================] - 13s 4ms/step - loss: 0.5708 - auc_1: 0.7559\n",
      "Epoch 33/35\n",
      "3750/3750 [==============================] - 13s 3ms/step - loss: 0.5709 - auc_1: 0.7563\n",
      "Epoch 34/35\n",
      "3750/3750 [==============================] - 13s 3ms/step - loss: 0.5706 - auc_1: 0.7568\n",
      "Epoch 35/35\n",
      "3750/3750 [==============================] - 15s 4ms/step - loss: 0.5705 - auc_1: 0.7568\n"
     ]
    },
    {
     "data": {
      "text/plain": [
       "<keras.callbacks.History at 0x7f60bc30fa50>"
      ]
     },
     "execution_count": 22,
     "metadata": {},
     "output_type": "execute_result"
    }
   ],
   "source": [
    "model = tf.keras.Sequential()\n",
    "model.add(tf.keras.layers.Dense(256, activation='swish'))\n",
    "model.add(tf.keras.layers.Dropout(0.1))\n",
    "model.add(tf.keras.layers.Dense(128, activation='swish'))\n",
    "model.add(tf.keras.layers.Dropout(0.1))\n",
    "model.add(tf.keras.layers.Dense(64, activation='swish'))\n",
    "model.add(tf.keras.layers.Dropout(0.1))\n",
    "model.add(tf.keras.layers.Dense(1, activation='sigmoid'))\n",
    "model.compile(optimizer=tf.keras.optimizers.RMSprop(learning_rate=1e-4), \n",
    "              loss=tf.keras.losses.BinaryCrossentropy(from_logits=True), \n",
    "              metrics=[tf.keras.metrics.AUC(from_logits=True)])\n",
    "model.fit(x_train, y_train, batch_size=128, epochs=35)"
   ]
  },
  {
   "cell_type": "code",
   "execution_count": 23,
   "id": "4f8887b8",
   "metadata": {
    "execution": {
     "iopub.execute_input": "2021-11-23T16:36:26.815768Z",
     "iopub.status.busy": "2021-11-23T16:36:26.814785Z",
     "iopub.status.idle": "2021-11-23T16:36:35.194406Z",
     "shell.execute_reply": "2021-11-23T16:36:35.195087Z",
     "shell.execute_reply.started": "2021-11-19T17:45:44.687728Z"
    },
    "papermill": {
     "duration": 12.48495,
     "end_time": "2021-11-23T16:36:35.195234",
     "exception": false,
     "start_time": "2021-11-23T16:36:22.710284",
     "status": "completed"
    },
    "tags": []
   },
   "outputs": [
    {
     "name": "stdout",
     "output_type": "stream",
     "text": [
      "3750/3750 [==============================] - 8s 2ms/step - loss: 0.5712 - auc_1: 0.7511\n",
      "0.7510676383972168\n"
     ]
    }
   ],
   "source": [
    "results = model.evaluate(x_test, y_test)[1]\n",
    "print(results)"
   ]
  },
  {
   "cell_type": "code",
   "execution_count": 24,
   "id": "5494903e",
   "metadata": {
    "execution": {
     "iopub.execute_input": "2021-11-23T16:36:43.734493Z",
     "iopub.status.busy": "2021-11-23T16:36:43.733932Z",
     "iopub.status.idle": "2021-11-23T16:37:59.166391Z",
     "shell.execute_reply": "2021-11-23T16:37:59.166873Z",
     "shell.execute_reply.started": "2021-11-19T18:09:40.194248Z"
    },
    "papermill": {
     "duration": 79.57533,
     "end_time": "2021-11-23T16:37:59.167031",
     "exception": false,
     "start_time": "2021-11-23T16:36:39.591701",
     "status": "completed"
    },
    "tags": []
   },
   "outputs": [
    {
     "name": "stdout",
     "output_type": "stream",
     "text": [
      "Epoch 1/40\n",
      "469/469 [==============================] - 2s 4ms/step - loss: 1.4060 - auc_2: 0.5054\n",
      "Epoch 2/40\n",
      "469/469 [==============================] - 2s 4ms/step - loss: 0.7119 - auc_2: 0.5088\n",
      "Epoch 3/40\n",
      "469/469 [==============================] - 2s 4ms/step - loss: 0.6957 - auc_2: 0.5135\n",
      "Epoch 4/40\n",
      "469/469 [==============================] - 2s 4ms/step - loss: 0.6914 - auc_2: 0.5273\n",
      "Epoch 5/40\n",
      "469/469 [==============================] - 2s 4ms/step - loss: 0.6861 - auc_2: 0.5491\n",
      "Epoch 6/40\n",
      "469/469 [==============================] - 2s 4ms/step - loss: 0.6778 - auc_2: 0.5906\n",
      "Epoch 7/40\n",
      "469/469 [==============================] - 2s 4ms/step - loss: 0.6636 - auc_2: 0.6403\n",
      "Epoch 8/40\n",
      "469/469 [==============================] - 2s 4ms/step - loss: 0.6497 - auc_2: 0.6730\n",
      "Epoch 9/40\n",
      "469/469 [==============================] - 2s 4ms/step - loss: 0.6406 - auc_2: 0.6904\n",
      "Epoch 10/40\n",
      "469/469 [==============================] - 2s 4ms/step - loss: 0.6331 - auc_2: 0.7025\n",
      "Epoch 11/40\n",
      "469/469 [==============================] - 2s 4ms/step - loss: 0.6272 - auc_2: 0.7111\n",
      "Epoch 12/40\n",
      "469/469 [==============================] - 2s 4ms/step - loss: 0.6210 - auc_2: 0.7184\n",
      "Epoch 13/40\n",
      "469/469 [==============================] - 2s 4ms/step - loss: 0.6160 - auc_2: 0.7239\n",
      "Epoch 14/40\n",
      "469/469 [==============================] - 2s 4ms/step - loss: 0.6117 - auc_2: 0.7278\n",
      "Epoch 15/40\n",
      "469/469 [==============================] - 2s 5ms/step - loss: 0.6082 - auc_2: 0.7306\n",
      "Epoch 16/40\n",
      "469/469 [==============================] - 2s 5ms/step - loss: 0.6043 - auc_2: 0.7340\n",
      "Epoch 17/40\n",
      "469/469 [==============================] - 2s 4ms/step - loss: 0.6021 - auc_2: 0.7354\n",
      "Epoch 18/40\n",
      "469/469 [==============================] - 2s 4ms/step - loss: 0.5990 - auc_2: 0.7378\n",
      "Epoch 19/40\n",
      "469/469 [==============================] - 2s 4ms/step - loss: 0.5974 - auc_2: 0.7387\n",
      "Epoch 20/40\n",
      "469/469 [==============================] - 2s 4ms/step - loss: 0.5953 - auc_2: 0.7400\n",
      "Epoch 21/40\n",
      "469/469 [==============================] - 2s 4ms/step - loss: 0.5938 - auc_2: 0.7407\n",
      "Epoch 22/40\n",
      "469/469 [==============================] - 2s 4ms/step - loss: 0.5919 - auc_2: 0.7424\n",
      "Epoch 23/40\n",
      "469/469 [==============================] - 2s 4ms/step - loss: 0.5903 - auc_2: 0.7431\n",
      "Epoch 24/40\n",
      "469/469 [==============================] - 2s 4ms/step - loss: 0.5889 - auc_2: 0.7436\n",
      "Epoch 25/40\n",
      "469/469 [==============================] - 2s 4ms/step - loss: 0.5879 - auc_2: 0.7438\n",
      "Epoch 26/40\n",
      "469/469 [==============================] - 2s 4ms/step - loss: 0.5866 - auc_2: 0.7449\n",
      "Epoch 27/40\n",
      "469/469 [==============================] - 2s 4ms/step - loss: 0.5854 - auc_2: 0.7453\n",
      "Epoch 28/40\n",
      "469/469 [==============================] - 2s 4ms/step - loss: 0.5843 - auc_2: 0.7461\n",
      "Epoch 29/40\n",
      "469/469 [==============================] - 2s 4ms/step - loss: 0.5835 - auc_2: 0.7466\n",
      "Epoch 30/40\n",
      "469/469 [==============================] - 2s 4ms/step - loss: 0.5826 - auc_2: 0.7469\n",
      "Epoch 31/40\n",
      "469/469 [==============================] - 2s 4ms/step - loss: 0.5817 - auc_2: 0.7473\n",
      "Epoch 32/40\n",
      "469/469 [==============================] - 2s 4ms/step - loss: 0.5807 - auc_2: 0.7477\n",
      "Epoch 33/40\n",
      "469/469 [==============================] - 2s 4ms/step - loss: 0.5798 - auc_2: 0.7483\n",
      "Epoch 34/40\n",
      "469/469 [==============================] - 3s 6ms/step - loss: 0.5793 - auc_2: 0.7485\n",
      "Epoch 35/40\n",
      "469/469 [==============================] - 2s 5ms/step - loss: 0.5786 - auc_2: 0.7491\n",
      "Epoch 36/40\n",
      "469/469 [==============================] - 2s 5ms/step - loss: 0.5779 - auc_2: 0.7495\n",
      "Epoch 37/40\n",
      "469/469 [==============================] - 2s 5ms/step - loss: 0.5774 - auc_2: 0.7496\n",
      "Epoch 38/40\n",
      "469/469 [==============================] - 2s 4ms/step - loss: 0.5768 - auc_2: 0.7501\n",
      "Epoch 39/40\n",
      "469/469 [==============================] - 2s 4ms/step - loss: 0.5760 - auc_2: 0.7509\n",
      "Epoch 40/40\n",
      "469/469 [==============================] - 2s 4ms/step - loss: 0.5757 - auc_2: 0.7504\n"
     ]
    },
    {
     "data": {
      "text/plain": [
       "<keras.callbacks.History at 0x7f60b5795850>"
      ]
     },
     "execution_count": 24,
     "metadata": {},
     "output_type": "execute_result"
    }
   ],
   "source": [
    "model = tf.keras.Sequential()\n",
    "model.add(tf.keras.layers.Dense(256, activation='swish'))\n",
    "model.add(tf.keras.layers.Dropout(0.1))\n",
    "model.add(tf.keras.layers.Dense(128, activation='swish'))\n",
    "model.add(tf.keras.layers.Dropout(0.1))\n",
    "model.add(tf.keras.layers.Dense(64, activation='swish'))\n",
    "model.add(tf.keras.layers.Dropout(0.1))\n",
    "model.add(tf.keras.layers.Dense(1, activation='sigmoid'))\n",
    "model.compile(optimizer=tf.keras.optimizers.Adam(learning_rate=1e-4), \n",
    "              loss=tf.keras.losses.BinaryCrossentropy(from_logits=True), \n",
    "              metrics=[tf.keras.metrics.AUC(from_logits=True)])\n",
    "model.fit(x_train, y_train, batch_size=1024, epochs=40)"
   ]
  },
  {
   "cell_type": "code",
   "execution_count": 25,
   "id": "759c0724",
   "metadata": {
    "execution": {
     "iopub.execute_input": "2021-11-23T16:38:08.060015Z",
     "iopub.status.busy": "2021-11-23T16:38:08.058977Z",
     "iopub.status.idle": "2021-11-23T16:38:16.730321Z",
     "shell.execute_reply": "2021-11-23T16:38:16.729719Z",
     "shell.execute_reply.started": "2021-11-19T18:14:38.418644Z"
    },
    "papermill": {
     "duration": 13.30602,
     "end_time": "2021-11-23T16:38:16.730451",
     "exception": false,
     "start_time": "2021-11-23T16:38:03.424431",
     "status": "completed"
    },
    "tags": []
   },
   "outputs": [
    {
     "name": "stdout",
     "output_type": "stream",
     "text": [
      "3750/3750 [==============================] - 9s 2ms/step - loss: 0.5745 - auc_2: 0.7482\n",
      "0.7482479810714722\n"
     ]
    }
   ],
   "source": [
    "results = model.evaluate(x_test, y_test)[1]\n",
    "print(results)"
   ]
  },
  {
   "cell_type": "code",
   "execution_count": 26,
   "id": "31132b21",
   "metadata": {
    "execution": {
     "iopub.execute_input": "2021-11-23T16:38:25.863465Z",
     "iopub.status.busy": "2021-11-23T16:38:25.862589Z",
     "iopub.status.idle": "2021-11-23T16:45:48.958480Z",
     "shell.execute_reply": "2021-11-23T16:45:48.958978Z",
     "shell.execute_reply.started": "2021-11-18T21:41:34.519163Z"
    },
    "papermill": {
     "duration": 447.476187,
     "end_time": "2021-11-23T16:45:48.959168",
     "exception": false,
     "start_time": "2021-11-23T16:38:21.482981",
     "status": "completed"
    },
    "tags": []
   },
   "outputs": [
    {
     "name": "stdout",
     "output_type": "stream",
     "text": [
      "Epoch 1/35\n",
      "3750/3750 [==============================] - 12s 3ms/step - loss: 1.0391 - auc_3: 0.5143\n",
      "Epoch 2/35\n",
      "3750/3750 [==============================] - 12s 3ms/step - loss: 0.6746 - auc_3: 0.6082\n",
      "Epoch 3/35\n",
      "3750/3750 [==============================] - 11s 3ms/step - loss: 0.6408 - auc_3: 0.6889\n",
      "Epoch 4/35\n",
      "3750/3750 [==============================] - 11s 3ms/step - loss: 0.6189 - auc_3: 0.7193\n",
      "Epoch 5/35\n",
      "3750/3750 [==============================] - 12s 3ms/step - loss: 0.6046 - auc_3: 0.7329\n",
      "Epoch 6/35\n",
      "3750/3750 [==============================] - 14s 4ms/step - loss: 0.5957 - auc_3: 0.7396\n",
      "Epoch 7/35\n",
      "3750/3750 [==============================] - 11s 3ms/step - loss: 0.5902 - auc_3: 0.7429\n",
      "Epoch 8/35\n",
      "3750/3750 [==============================] - 12s 3ms/step - loss: 0.5860 - auc_3: 0.7453\n",
      "Epoch 9/35\n",
      "3750/3750 [==============================] - 11s 3ms/step - loss: 0.5831 - auc_3: 0.7465\n",
      "Epoch 10/35\n",
      "3750/3750 [==============================] - 11s 3ms/step - loss: 0.5813 - auc_3: 0.7471\n",
      "Epoch 11/35\n",
      "3750/3750 [==============================] - 12s 3ms/step - loss: 0.5795 - auc_3: 0.7485\n",
      "Epoch 12/35\n",
      "3750/3750 [==============================] - 14s 4ms/step - loss: 0.5780 - auc_3: 0.7494\n",
      "Epoch 13/35\n",
      "3750/3750 [==============================] - 12s 3ms/step - loss: 0.5770 - auc_3: 0.7505\n",
      "Epoch 14/35\n",
      "3750/3750 [==============================] - 11s 3ms/step - loss: 0.5762 - auc_3: 0.7506\n",
      "Epoch 15/35\n",
      "3750/3750 [==============================] - 11s 3ms/step - loss: 0.5754 - auc_3: 0.7510\n",
      "Epoch 16/35\n",
      "3750/3750 [==============================] - 11s 3ms/step - loss: 0.5750 - auc_3: 0.7518\n",
      "Epoch 17/35\n",
      "3750/3750 [==============================] - 11s 3ms/step - loss: 0.5743 - auc_3: 0.7523\n",
      "Epoch 18/35\n",
      "3750/3750 [==============================] - 14s 4ms/step - loss: 0.5735 - auc_3: 0.7529\n",
      "Epoch 19/35\n",
      "3750/3750 [==============================] - 11s 3ms/step - loss: 0.5732 - auc_3: 0.7534\n",
      "Epoch 20/35\n",
      "3750/3750 [==============================] - 11s 3ms/step - loss: 0.5725 - auc_3: 0.7547\n",
      "Epoch 21/35\n",
      "3750/3750 [==============================] - 11s 3ms/step - loss: 0.5720 - auc_3: 0.7552\n",
      "Epoch 22/35\n",
      "3750/3750 [==============================] - 12s 3ms/step - loss: 0.5713 - auc_3: 0.7559\n",
      "Epoch 23/35\n",
      "3750/3750 [==============================] - 11s 3ms/step - loss: 0.5712 - auc_3: 0.7562\n",
      "Epoch 24/35\n",
      "3750/3750 [==============================] - 14s 4ms/step - loss: 0.5707 - auc_3: 0.7571\n",
      "Epoch 25/35\n",
      "3750/3750 [==============================] - 12s 3ms/step - loss: 0.5708 - auc_3: 0.7570\n",
      "Epoch 26/35\n",
      "3750/3750 [==============================] - 11s 3ms/step - loss: 0.5701 - auc_3: 0.7576\n",
      "Epoch 27/35\n",
      "3750/3750 [==============================] - 11s 3ms/step - loss: 0.5700 - auc_3: 0.7580\n",
      "Epoch 28/35\n",
      "3750/3750 [==============================] - 11s 3ms/step - loss: 0.5694 - auc_3: 0.7586\n",
      "Epoch 29/35\n",
      "3750/3750 [==============================] - 11s 3ms/step - loss: 0.5688 - auc_3: 0.7597\n",
      "Epoch 30/35\n",
      "3750/3750 [==============================] - 15s 4ms/step - loss: 0.5687 - auc_3: 0.7600\n",
      "Epoch 31/35\n",
      "3750/3750 [==============================] - 11s 3ms/step - loss: 0.5682 - auc_3: 0.7608\n",
      "Epoch 32/35\n",
      "3750/3750 [==============================] - 11s 3ms/step - loss: 0.5679 - auc_3: 0.7612\n",
      "Epoch 33/35\n",
      "3750/3750 [==============================] - 12s 3ms/step - loss: 0.5678 - auc_3: 0.7617\n",
      "Epoch 34/35\n",
      "3750/3750 [==============================] - 11s 3ms/step - loss: 0.5675 - auc_3: 0.7621\n",
      "Epoch 35/35\n",
      "3750/3750 [==============================] - 12s 3ms/step - loss: 0.5672 - auc_3: 0.7624\n"
     ]
    }
   ],
   "source": [
    "model = tf.keras.Sequential()\n",
    "model.add(tf.keras.layers.Dense(256, activation='swish'))\n",
    "model.add(tf.keras.layers.Dropout(0.1))\n",
    "model.add(tf.keras.layers.Dense(128, activation='swish'))\n",
    "model.add(tf.keras.layers.Dropout(0.1))\n",
    "model.add(tf.keras.layers.Dense(64, activation='swish'))\n",
    "model.add(tf.keras.layers.Dropout(0.1))\n",
    "model.add(tf.keras.layers.Dense(1, activation='sigmoid'))\n",
    "model.compile(optimizer=tf.keras.optimizers.Adam(learning_rate=1e-4), \n",
    "              loss=tf.keras.losses.BinaryCrossentropy(from_logits=True), \n",
    "              metrics=[tf.keras.metrics.AUC(from_logits=True)])\n",
    "history = model.fit(x_train, y_train, batch_size=128, epochs=35)"
   ]
  },
  {
   "cell_type": "code",
   "execution_count": 27,
   "id": "afb86bda",
   "metadata": {
    "execution": {
     "iopub.execute_input": "2021-11-23T16:46:02.593973Z",
     "iopub.status.busy": "2021-11-23T16:46:02.592945Z",
     "iopub.status.idle": "2021-11-23T16:46:13.157055Z",
     "shell.execute_reply": "2021-11-23T16:46:13.156428Z",
     "shell.execute_reply.started": "2021-11-18T21:51:50.361083Z"
    },
    "papermill": {
     "duration": 17.704122,
     "end_time": "2021-11-23T16:46:13.157225",
     "exception": false,
     "start_time": "2021-11-23T16:45:55.453103",
     "status": "completed"
    },
    "tags": []
   },
   "outputs": [
    {
     "name": "stdout",
     "output_type": "stream",
     "text": [
      "3750/3750 [==============================] - 9s 2ms/step - loss: 0.5718 - auc_3: 0.7510\n",
      "0.7510152459144592\n"
     ]
    }
   ],
   "source": [
    "results = model.evaluate(x_test, y_test)[1]\n",
    "print(results)"
   ]
  },
  {
   "cell_type": "code",
   "execution_count": 28,
   "id": "f240fff9",
   "metadata": {
    "execution": {
     "iopub.execute_input": "2021-11-23T16:46:26.505306Z",
     "iopub.status.busy": "2021-11-23T16:46:26.504495Z",
     "iopub.status.idle": "2021-11-23T16:52:49.242847Z",
     "shell.execute_reply": "2021-11-23T16:52:49.243322Z",
     "shell.execute_reply.started": "2021-11-19T22:56:21.530814Z"
    },
    "papermill": {
     "duration": 389.271456,
     "end_time": "2021-11-23T16:52:49.243524",
     "exception": false,
     "start_time": "2021-11-23T16:46:19.972068",
     "status": "completed"
    },
    "tags": []
   },
   "outputs": [
    {
     "name": "stdout",
     "output_type": "stream",
     "text": [
      "Epoch 1/35\n",
      "3750/3750 [==============================] - 11s 3ms/step - loss: 0.6742 - auc_4: 0.6942\n",
      "Epoch 2/35\n",
      "3750/3750 [==============================] - 10s 3ms/step - loss: 0.5976 - auc_4: 0.7372\n",
      "Epoch 3/35\n",
      "3750/3750 [==============================] - 10s 3ms/step - loss: 0.5880 - auc_4: 0.7428\n",
      "Epoch 4/35\n",
      "3750/3750 [==============================] - 10s 3ms/step - loss: 0.5831 - auc_4: 0.7448\n",
      "Epoch 5/35\n",
      "3750/3750 [==============================] - 11s 3ms/step - loss: 0.5803 - auc_4: 0.7458\n",
      "Epoch 6/35\n",
      "3750/3750 [==============================] - 11s 3ms/step - loss: 0.5785 - auc_4: 0.7472\n",
      "Epoch 7/35\n",
      "3750/3750 [==============================] - 13s 4ms/step - loss: 0.5780 - auc_4: 0.7473\n",
      "Epoch 8/35\n",
      "3750/3750 [==============================] - 10s 3ms/step - loss: 0.5779 - auc_4: 0.7468\n",
      "Epoch 9/35\n",
      "3750/3750 [==============================] - 10s 3ms/step - loss: 0.5768 - auc_4: 0.7481\n",
      "Epoch 10/35\n",
      "3750/3750 [==============================] - 10s 3ms/step - loss: 0.5757 - auc_4: 0.7484\n",
      "Epoch 11/35\n",
      "3750/3750 [==============================] - 11s 3ms/step - loss: 0.5766 - auc_4: 0.7487\n",
      "Epoch 12/35\n",
      "3750/3750 [==============================] - 10s 3ms/step - loss: 0.5760 - auc_4: 0.7485\n",
      "Epoch 13/35\n",
      "3750/3750 [==============================] - 11s 3ms/step - loss: 0.5754 - auc_4: 0.7493\n",
      "Epoch 14/35\n",
      "3750/3750 [==============================] - 14s 4ms/step - loss: 0.5745 - auc_4: 0.7500\n",
      "Epoch 15/35\n",
      "3750/3750 [==============================] - 10s 3ms/step - loss: 0.5741 - auc_4: 0.7505\n",
      "Epoch 16/35\n",
      "3750/3750 [==============================] - 10s 3ms/step - loss: 0.5744 - auc_4: 0.7504\n",
      "Epoch 17/35\n",
      "3750/3750 [==============================] - 10s 3ms/step - loss: 0.5738 - auc_4: 0.7508\n",
      "Epoch 18/35\n",
      "3750/3750 [==============================] - 10s 3ms/step - loss: 0.5737 - auc_4: 0.7511\n",
      "Epoch 19/35\n",
      "3750/3750 [==============================] - 10s 3ms/step - loss: 0.5737 - auc_4: 0.7512\n",
      "Epoch 20/35\n",
      "3750/3750 [==============================] - 10s 3ms/step - loss: 0.5731 - auc_4: 0.7514\n",
      "Epoch 21/35\n",
      "3750/3750 [==============================] - 10s 3ms/step - loss: 0.5731 - auc_4: 0.7517\n",
      "Epoch 22/35\n",
      "3750/3750 [==============================] - 10s 3ms/step - loss: 0.5734 - auc_4: 0.7516\n",
      "Epoch 23/35\n",
      "3750/3750 [==============================] - 11s 3ms/step - loss: 0.5721 - auc_4: 0.7522\n",
      "Epoch 24/35\n",
      "3750/3750 [==============================] - 10s 3ms/step - loss: 0.5722 - auc_4: 0.7530\n",
      "Epoch 25/35\n",
      "3750/3750 [==============================] - 10s 3ms/step - loss: 0.5721 - auc_4: 0.7531\n",
      "Epoch 26/35\n",
      "3750/3750 [==============================] - 12s 3ms/step - loss: 0.5714 - auc_4: 0.7538\n",
      "Epoch 27/35\n",
      "3750/3750 [==============================] - 14s 4ms/step - loss: 0.5715 - auc_4: 0.7537\n",
      "Epoch 28/35\n",
      "3750/3750 [==============================] - 10s 3ms/step - loss: 0.5713 - auc_4: 0.7539\n",
      "Epoch 29/35\n",
      "3750/3750 [==============================] - 10s 3ms/step - loss: 0.5712 - auc_4: 0.7543\n",
      "Epoch 30/35\n",
      "3750/3750 [==============================] - 10s 3ms/step - loss: 0.5709 - auc_4: 0.7551\n",
      "Epoch 31/35\n",
      "3750/3750 [==============================] - 10s 3ms/step - loss: 0.5703 - auc_4: 0.7555\n",
      "Epoch 32/35\n",
      "3750/3750 [==============================] - 10s 3ms/step - loss: 0.5706 - auc_4: 0.7556\n",
      "Epoch 33/35\n",
      "3750/3750 [==============================] - 11s 3ms/step - loss: 0.5698 - auc_4: 0.7560\n",
      "Epoch 34/35\n",
      "3750/3750 [==============================] - 10s 3ms/step - loss: 0.5701 - auc_4: 0.7566\n",
      "Epoch 35/35\n",
      "3750/3750 [==============================] - 10s 3ms/step - loss: 0.5702 - auc_4: 0.7567\n",
      "3750/3750 [==============================] - 9s 2ms/step - loss: 0.5784 - auc_4: 0.7491\n",
      "0.7490680813789368\n"
     ]
    }
   ],
   "source": [
    "model = tf.keras.Sequential()\n",
    "model.add(tf.keras.layers.Dense(256, activation='selu'))\n",
    "model.add(tf.keras.layers.Dense(128, activation='selu'))\n",
    "model.add(tf.keras.layers.Dense(64, activation='selu'))\n",
    "model.add(tf.keras.layers.Dense(1, activation='sigmoid'))\n",
    "model.compile(optimizer=tf.keras.optimizers.Adam(learning_rate=0.001), \n",
    "              loss=tf.keras.losses.BinaryCrossentropy(from_logits=True), \n",
    "              metrics=[tf.keras.metrics.AUC(from_logits=True)])\n",
    "history = model.fit(x_train, y_train, batch_size=128, epochs=35)\n",
    "results = model.evaluate(x_test, y_test)[1]\n",
    "print(results)"
   ]
  },
  {
   "cell_type": "markdown",
   "id": "24e4f027",
   "metadata": {
    "papermill": {
     "duration": 8.643337,
     "end_time": "2021-11-23T16:53:06.656666",
     "exception": false,
     "start_time": "2021-11-23T16:52:58.013329",
     "status": "completed"
    },
    "tags": []
   },
   "source": [
    "# Submission"
   ]
  },
  {
   "cell_type": "code",
   "execution_count": 29,
   "id": "514a6797",
   "metadata": {
    "execution": {
     "iopub.execute_input": "2021-11-23T16:53:24.475518Z",
     "iopub.status.busy": "2021-11-23T16:53:24.474575Z",
     "iopub.status.idle": "2021-11-23T16:53:24.476411Z",
     "shell.execute_reply": "2021-11-23T16:53:24.476802Z",
     "shell.execute_reply.started": "2021-11-18T21:57:45.519229Z"
    },
    "papermill": {
     "duration": 9.373216,
     "end_time": "2021-11-23T16:53:24.476955",
     "exception": false,
     "start_time": "2021-11-23T16:53:15.103739",
     "status": "completed"
    },
    "tags": []
   },
   "outputs": [],
   "source": [
    "x_train = train_df.drop(['id', 'target'], axis=1)\n",
    "y_train = train_df['target']"
   ]
  },
  {
   "cell_type": "code",
   "execution_count": 30,
   "id": "0336b6c2",
   "metadata": {
    "execution": {
     "iopub.execute_input": "2021-11-23T16:53:41.819674Z",
     "iopub.status.busy": "2021-11-23T16:53:41.818792Z",
     "iopub.status.idle": "2021-11-23T17:01:08.396900Z",
     "shell.execute_reply": "2021-11-23T17:01:08.396345Z",
     "shell.execute_reply.started": "2021-11-18T21:57:45.806249Z"
    },
    "papermill": {
     "duration": 455.238337,
     "end_time": "2021-11-23T17:01:08.397038",
     "exception": false,
     "start_time": "2021-11-23T16:53:33.158701",
     "status": "completed"
    },
    "tags": []
   },
   "outputs": [
    {
     "name": "stdout",
     "output_type": "stream",
     "text": [
      "Epoch 1/25\n",
      "4688/4688 [==============================] - 18s 4ms/step - loss: 0.8636 - auc_5: 0.5303\n",
      "Epoch 2/25\n",
      "4688/4688 [==============================] - 17s 4ms/step - loss: 0.6552 - auc_5: 0.6599\n",
      "Epoch 3/25\n",
      "4688/4688 [==============================] - 17s 4ms/step - loss: 0.6234 - auc_5: 0.7141\n",
      "Epoch 4/25\n",
      "4688/4688 [==============================] - 17s 4ms/step - loss: 0.6049 - auc_5: 0.7324\n",
      "Epoch 5/25\n",
      "4688/4688 [==============================] - 17s 4ms/step - loss: 0.5939 - auc_5: 0.7405\n",
      "Epoch 6/25\n",
      "4688/4688 [==============================] - 16s 3ms/step - loss: 0.5873 - auc_5: 0.7443\n",
      "Epoch 7/25\n",
      "4688/4688 [==============================] - 18s 4ms/step - loss: 0.5833 - auc_5: 0.7460\n",
      "Epoch 8/25\n",
      "4688/4688 [==============================] - 23s 5ms/step - loss: 0.5804 - auc_5: 0.7475\n",
      "Epoch 9/25\n",
      "4688/4688 [==============================] - 17s 4ms/step - loss: 0.5787 - auc_5: 0.7479\n",
      "Epoch 10/25\n",
      "4688/4688 [==============================] - 17s 4ms/step - loss: 0.5771 - auc_5: 0.7496\n",
      "Epoch 11/25\n",
      "4688/4688 [==============================] - 17s 4ms/step - loss: 0.5764 - auc_5: 0.7500\n",
      "Epoch 12/25\n",
      "4688/4688 [==============================] - 18s 4ms/step - loss: 0.5755 - auc_5: 0.7502\n",
      "Epoch 13/25\n",
      "4688/4688 [==============================] - 17s 4ms/step - loss: 0.5749 - auc_5: 0.7510\n",
      "Epoch 14/25\n",
      "4688/4688 [==============================] - 17s 4ms/step - loss: 0.5741 - auc_5: 0.7519\n",
      "Epoch 15/25\n",
      "4688/4688 [==============================] - 18s 4ms/step - loss: 0.5736 - auc_5: 0.7523\n",
      "Epoch 16/25\n",
      "4688/4688 [==============================] - 23s 5ms/step - loss: 0.5731 - auc_5: 0.7527\n",
      "Epoch 17/25\n",
      "4688/4688 [==============================] - 17s 4ms/step - loss: 0.5729 - auc_5: 0.7530\n",
      "Epoch 18/25\n",
      "4688/4688 [==============================] - 17s 4ms/step - loss: 0.5722 - auc_5: 0.7543\n",
      "Epoch 19/25\n",
      "4688/4688 [==============================] - 17s 4ms/step - loss: 0.5717 - auc_5: 0.7549\n",
      "Epoch 20/25\n",
      "4688/4688 [==============================] - 17s 4ms/step - loss: 0.5714 - auc_5: 0.7552\n",
      "Epoch 21/25\n",
      "4688/4688 [==============================] - 17s 4ms/step - loss: 0.5711 - auc_5: 0.7556\n",
      "Epoch 22/25\n",
      "4688/4688 [==============================] - 17s 4ms/step - loss: 0.5707 - auc_5: 0.7560\n",
      "Epoch 23/25\n",
      "4688/4688 [==============================] - 19s 4ms/step - loss: 0.5707 - auc_5: 0.7564\n",
      "Epoch 24/25\n",
      "4688/4688 [==============================] - 22s 5ms/step - loss: 0.5702 - auc_5: 0.7567\n",
      "Epoch 25/25\n",
      "4688/4688 [==============================] - 17s 4ms/step - loss: 0.5696 - auc_5: 0.7574\n"
     ]
    }
   ],
   "source": [
    "model = tf.keras.Sequential()\n",
    "model.add(tf.keras.layers.Dense(256, activation='swish'))\n",
    "model.add(tf.keras.layers.Dropout(0.1))\n",
    "model.add(tf.keras.layers.Dense(128, activation='swish'))\n",
    "model.add(tf.keras.layers.Dropout(0.1))\n",
    "model.add(tf.keras.layers.Dense(64, activation='swish'))\n",
    "model.add(tf.keras.layers.Dropout(0.1))\n",
    "model.add(tf.keras.layers.Dense(1, activation='sigmoid'))\n",
    "model.compile(optimizer=tf.keras.optimizers.Adam(learning_rate=1e-4), \n",
    "              loss=tf.keras.losses.BinaryCrossentropy(from_logits=True), \n",
    "              metrics=[tf.keras.metrics.AUC(from_logits=True)])\n",
    "history = model.fit(x_train, y_train, batch_size=128, epochs=25)"
   ]
  },
  {
   "cell_type": "code",
   "execution_count": 31,
   "id": "38cdafe0",
   "metadata": {
    "execution": {
     "iopub.execute_input": "2021-11-23T17:01:31.054417Z",
     "iopub.status.busy": "2021-11-23T17:01:31.053804Z",
     "iopub.status.idle": "2021-11-23T17:02:05.522499Z",
     "shell.execute_reply": "2021-11-23T17:02:05.521552Z",
     "shell.execute_reply.started": "2021-11-19T15:10:46.356815Z"
    },
    "papermill": {
     "duration": 46.070636,
     "end_time": "2021-11-23T17:02:05.522653",
     "exception": false,
     "start_time": "2021-11-23T17:01:19.452017",
     "status": "completed"
    },
    "tags": []
   },
   "outputs": [],
   "source": [
    "test_df = pd.read_csv('/kaggle/input/tabular-playground-series-nov-2021/test.csv', sep=',')\n",
    "x_test = test_df.drop(['id'], axis=1)\n",
    "target = model.predict(x_test).squeeze()\n",
    "ids = test_df['id'].values\n",
    "submission = pd.DataFrame({'id' : ids, 'target' : target})"
   ]
  },
  {
   "cell_type": "code",
   "execution_count": 32,
   "id": "e18ca78f",
   "metadata": {
    "execution": {
     "iopub.execute_input": "2021-11-23T17:02:27.702922Z",
     "iopub.status.busy": "2021-11-23T17:02:27.702086Z",
     "iopub.status.idle": "2021-11-23T17:02:27.743196Z",
     "shell.execute_reply": "2021-11-23T17:02:27.743825Z",
     "shell.execute_reply.started": "2021-11-19T15:11:29.162593Z"
    },
    "papermill": {
     "duration": 11.577673,
     "end_time": "2021-11-23T17:02:27.744016",
     "exception": false,
     "start_time": "2021-11-23T17:02:16.166343",
     "status": "completed"
    },
    "tags": []
   },
   "outputs": [
    {
     "data": {
      "text/html": [
       "<div>\n",
       "<style scoped>\n",
       "    .dataframe tbody tr th:only-of-type {\n",
       "        vertical-align: middle;\n",
       "    }\n",
       "\n",
       "    .dataframe tbody tr th {\n",
       "        vertical-align: top;\n",
       "    }\n",
       "\n",
       "    .dataframe thead th {\n",
       "        text-align: right;\n",
       "    }\n",
       "</style>\n",
       "<table border=\"1\" class=\"dataframe\">\n",
       "  <thead>\n",
       "    <tr style=\"text-align: right;\">\n",
       "      <th></th>\n",
       "      <th>id</th>\n",
       "      <th>target</th>\n",
       "    </tr>\n",
       "  </thead>\n",
       "  <tbody>\n",
       "    <tr>\n",
       "      <th>0</th>\n",
       "      <td>600000</td>\n",
       "      <td>0.747956</td>\n",
       "    </tr>\n",
       "    <tr>\n",
       "      <th>1</th>\n",
       "      <td>600001</td>\n",
       "      <td>0.799313</td>\n",
       "    </tr>\n",
       "    <tr>\n",
       "      <th>2</th>\n",
       "      <td>600002</td>\n",
       "      <td>0.798621</td>\n",
       "    </tr>\n",
       "    <tr>\n",
       "      <th>3</th>\n",
       "      <td>600003</td>\n",
       "      <td>0.247537</td>\n",
       "    </tr>\n",
       "    <tr>\n",
       "      <th>4</th>\n",
       "      <td>600004</td>\n",
       "      <td>0.784533</td>\n",
       "    </tr>\n",
       "  </tbody>\n",
       "</table>\n",
       "</div>"
      ],
      "text/plain": [
       "       id    target\n",
       "0  600000  0.747956\n",
       "1  600001  0.799313\n",
       "2  600002  0.798621\n",
       "3  600003  0.247537\n",
       "4  600004  0.784533"
      ]
     },
     "execution_count": 32,
     "metadata": {},
     "output_type": "execute_result"
    }
   ],
   "source": [
    "submission.head()"
   ]
  },
  {
   "cell_type": "code",
   "execution_count": 33,
   "id": "32e11f25",
   "metadata": {
    "execution": {
     "iopub.execute_input": "2021-11-23T17:02:49.801512Z",
     "iopub.status.busy": "2021-11-23T17:02:49.800430Z",
     "iopub.status.idle": "2021-11-23T17:02:51.146636Z",
     "shell.execute_reply": "2021-11-23T17:02:51.146118Z",
     "shell.execute_reply.started": "2021-11-19T15:11:29.1788Z"
    },
    "papermill": {
     "duration": 12.345132,
     "end_time": "2021-11-23T17:02:51.146790",
     "exception": false,
     "start_time": "2021-11-23T17:02:38.801658",
     "status": "completed"
    },
    "tags": []
   },
   "outputs": [],
   "source": [
    "submission.to_csv('submission.csv', index=False)"
   ]
  }
 ],
 "metadata": {
  "kernelspec": {
   "display_name": "Python 3",
   "language": "python",
   "name": "python3"
  },
  "language_info": {
   "codemirror_mode": {
    "name": "ipython",
    "version": 3
   },
   "file_extension": ".py",
   "mimetype": "text/x-python",
   "name": "python",
   "nbconvert_exporter": "python",
   "pygments_lexer": "ipython3",
   "version": "3.7.10"
  },
  "papermill": {
   "default_parameters": {},
   "duration": 13305.650533,
   "end_time": "2021-11-23T17:03:06.089143",
   "environment_variables": {},
   "exception": null,
   "input_path": "__notebook__.ipynb",
   "output_path": "__notebook__.ipynb",
   "parameters": {},
   "start_time": "2021-11-23T13:21:20.438610",
   "version": "2.3.3"
  }
 },
 "nbformat": 4,
 "nbformat_minor": 5
}
