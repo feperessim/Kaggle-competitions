{
 "cells": [
  {
   "cell_type": "code",
   "execution_count": 1,
   "id": "3ca1d17a",
   "metadata": {
    "_cell_guid": "b1076dfc-b9ad-4769-8c92-a6c4dae69d19",
    "_uuid": "8f2839f25d086af736a60e9eeb907d3b93b6e0e5",
    "execution": {
     "iopub.execute_input": "2021-12-13T03:55:25.523336Z",
     "iopub.status.busy": "2021-12-13T03:55:25.521784Z",
     "iopub.status.idle": "2021-12-13T03:55:25.534673Z",
     "shell.execute_reply": "2021-12-13T03:55:25.535196Z",
     "shell.execute_reply.started": "2021-12-12T02:01:21.023939Z"
    },
    "papermill": {
     "duration": 0.070057,
     "end_time": "2021-12-13T03:55:25.535433",
     "exception": false,
     "start_time": "2021-12-13T03:55:25.465376",
     "status": "completed"
    },
    "tags": []
   },
   "outputs": [
    {
     "name": "stdout",
     "output_type": "stream",
     "text": [
      "/kaggle/input/tabular-playground-series-dec-2021/sample_submission.csv\n",
      "/kaggle/input/tabular-playground-series-dec-2021/train.csv\n",
      "/kaggle/input/tabular-playground-series-dec-2021/test.csv\n"
     ]
    }
   ],
   "source": [
    "# This Python 3 environment comes with many helpful analytics libraries installed\n",
    "# It is defined by the kaggle/python Docker image: https://github.com/kaggle/docker-python\n",
    "# For example, here's several helpful packages to load\n",
    "\n",
    "import numpy as np # linear algebra\n",
    "import pandas as pd # data processing, CSV file I/O (e.g. pd.read_csv)\n",
    "\n",
    "# Input data files are available in the read-only \"../input/\" directory\n",
    "# For example, running this (by clicking run or pressing Shift+Enter) will list all files under the input directory\n",
    "\n",
    "import os\n",
    "for dirname, _, filenames in os.walk('/kaggle/input'):\n",
    "    for filename in filenames:\n",
    "        print(os.path.join(dirname, filename))\n",
    "\n",
    "# You can write up to 20GB to the current directory (/kaggle/working/) that gets preserved as output when you create a version using \"Save & Run All\" \n",
    "# You can also write temporary files to /kaggle/temp/, but they won't be saved outside of the current session"
   ]
  },
  {
   "cell_type": "code",
   "execution_count": 2,
   "id": "21b50a50",
   "metadata": {
    "execution": {
     "iopub.execute_input": "2021-12-13T03:55:25.648577Z",
     "iopub.status.busy": "2021-12-13T03:55:25.648011Z",
     "iopub.status.idle": "2021-12-13T03:55:30.610510Z",
     "shell.execute_reply": "2021-12-13T03:55:30.609986Z",
     "shell.execute_reply.started": "2021-12-12T02:01:21.049854Z"
    },
    "papermill": {
     "duration": 5.019664,
     "end_time": "2021-12-13T03:55:30.610648",
     "exception": false,
     "start_time": "2021-12-13T03:55:25.590984",
     "status": "completed"
    },
    "tags": []
   },
   "outputs": [],
   "source": [
    "import random\n",
    "import warnings\n",
    "import gc\n",
    "import tensorflow as tf\n",
    "\n",
    "from sklearn.preprocessing import LabelEncoder\n",
    "from sklearn.preprocessing import StandardScaler\n",
    "from sklearn.preprocessing import MinMaxScaler\n",
    "from sklearn.preprocessing import QuantileTransformer\n",
    "from sklearn.preprocessing import PowerTransformer\n",
    "from sklearn.model_selection import RepeatedStratifiedKFold\n",
    "from sklearn.model_selection import cross_val_score\n",
    "from sklearn.model_selection import GridSearchCV\n",
    "from sklearn.model_selection import train_test_split\n",
    "from sklearn.decomposition import PCA\n",
    "from sklearn.decomposition import TruncatedSVD\n",
    "from sklearn.metrics import accuracy_score\n",
    "from sklearn.pipeline import Pipeline\n",
    "\n",
    "from xgboost import XGBClassifier\n",
    "\n",
    "warnings.filterwarnings(\"ignore\")"
   ]
  },
  {
   "cell_type": "code",
   "execution_count": 3,
   "id": "2ac26a25",
   "metadata": {
    "execution": {
     "iopub.execute_input": "2021-12-13T03:55:30.722300Z",
     "iopub.status.busy": "2021-12-13T03:55:30.721536Z",
     "iopub.status.idle": "2021-12-13T03:55:30.723759Z",
     "shell.execute_reply": "2021-12-13T03:55:30.724210Z",
     "shell.execute_reply.started": "2021-12-12T02:01:26.131046Z"
    },
    "papermill": {
     "duration": 0.059787,
     "end_time": "2021-12-13T03:55:30.724377",
     "exception": false,
     "start_time": "2021-12-13T03:55:30.664590",
     "status": "completed"
    },
    "tags": []
   },
   "outputs": [],
   "source": [
    "seed = 47"
   ]
  },
  {
   "cell_type": "code",
   "execution_count": 4,
   "id": "95cd9f6d",
   "metadata": {
    "execution": {
     "iopub.execute_input": "2021-12-13T03:55:30.833749Z",
     "iopub.status.busy": "2021-12-13T03:55:30.832828Z",
     "iopub.status.idle": "2021-12-13T03:55:30.834681Z",
     "shell.execute_reply": "2021-12-13T03:55:30.835148Z",
     "shell.execute_reply.started": "2021-12-12T02:03:10.811029Z"
    },
    "papermill": {
     "duration": 0.057615,
     "end_time": "2021-12-13T03:55:30.835302",
     "exception": false,
     "start_time": "2021-12-13T03:55:30.777687",
     "status": "completed"
    },
    "tags": []
   },
   "outputs": [],
   "source": [
    "def evaluate_model(model, x, y):\n",
    "    y_pred_prob = model.predict(x)\n",
    "    acc = accuracy_score(y, y_pred_prob)\n",
    "    return {'accuracy' : acc}"
   ]
  },
  {
   "cell_type": "code",
   "execution_count": 5,
   "id": "85227f5d",
   "metadata": {
    "execution": {
     "iopub.execute_input": "2021-12-13T03:55:30.947156Z",
     "iopub.status.busy": "2021-12-13T03:55:30.946474Z",
     "iopub.status.idle": "2021-12-13T03:55:30.948639Z",
     "shell.execute_reply": "2021-12-13T03:55:30.949152Z",
     "shell.execute_reply.started": "2021-12-12T02:03:11.603507Z"
    },
    "papermill": {
     "duration": 0.061132,
     "end_time": "2021-12-13T03:55:30.949298",
     "exception": false,
     "start_time": "2021-12-13T03:55:30.888166",
     "status": "completed"
    },
    "tags": []
   },
   "outputs": [],
   "source": [
    "def get_xgboost_model(params=None):\n",
    "    if params is None:\n",
    "        params = {'colsample_bytree': 0.1,\n",
    "                  'eta': 0.12,\n",
    "                  'gamma': 5, \n",
    "                  'max_depth': 2,\n",
    "                  'min_child_weight': 9,\n",
    "                  'n_estimators': 1000, \n",
    "                  'subsample': 0.9}          \n",
    "\n",
    "    return XGBClassifier(**params,\n",
    "                         objective='multi:softmax',\n",
    "                         random_state=seed, \n",
    "                         tree_method='gpu_hist', \n",
    "                         predictor='gpu_predictor',\n",
    "                         early_stopping_rounds=200,\n",
    "                         verbosity=0)"
   ]
  },
  {
   "cell_type": "code",
   "execution_count": 6,
   "id": "1bb684e2",
   "metadata": {
    "execution": {
     "iopub.execute_input": "2021-12-13T03:55:31.063408Z",
     "iopub.status.busy": "2021-12-13T03:55:31.062732Z",
     "iopub.status.idle": "2021-12-13T03:55:31.065208Z",
     "shell.execute_reply": "2021-12-13T03:55:31.064779Z",
     "shell.execute_reply.started": "2021-12-12T02:03:12.250531Z"
    },
    "papermill": {
     "duration": 0.058735,
     "end_time": "2021-12-13T03:55:31.065342",
     "exception": false,
     "start_time": "2021-12-13T03:55:31.006607",
     "status": "completed"
    },
    "tags": []
   },
   "outputs": [],
   "source": [
    "def get_nn_model(n_layers=None, n_units=32, activation='swish'):\n",
    "    model = tf.keras.Sequential()\n",
    "    \n",
    "    if n_layers is not None and n_layers > 0:\n",
    "        for _ in range(n_layers):\n",
    "            model.add(tf.keras.layers.Dense(units=n_units, activation=activation))\n",
    "    model.add(tf.keras.layers.Dense(units=7, activation='softmax'))\n",
    "    model.compile(optimizer=tf.keras.optimizers.Adam(),\n",
    "                  loss=tf.losses.SparseCategoricalCrossentropy(from_logits=True),\n",
    "                  metrics=[tf.metrics.SparseCategoricalAccuracy()])\n",
    "\n",
    "    return model"
   ]
  },
  {
   "cell_type": "code",
   "execution_count": 7,
   "id": "ed3456fb",
   "metadata": {
    "execution": {
     "iopub.execute_input": "2021-12-13T03:55:31.175051Z",
     "iopub.status.busy": "2021-12-13T03:55:31.173412Z",
     "iopub.status.idle": "2021-12-13T03:55:31.177456Z",
     "shell.execute_reply": "2021-12-13T03:55:31.176961Z",
     "shell.execute_reply.started": "2021-12-07T01:55:53.312706Z"
    },
    "papermill": {
     "duration": 0.06175,
     "end_time": "2021-12-13T03:55:31.177573",
     "exception": false,
     "start_time": "2021-12-13T03:55:31.115823",
     "status": "completed"
    },
    "tags": []
   },
   "outputs": [],
   "source": [
    "def get_pipelines(model):\n",
    "    pipelines = list()\n",
    "    # normalize\n",
    "    p = Pipeline([('s',MinMaxScaler()), ('m',model)])\n",
    "    pipelines.append(('norm', p))\n",
    "    # standardize\n",
    "    p = Pipeline([('s',StandardScaler()), ('m',model)])\n",
    "    pipelines.append(('std', p))\n",
    "    # quantile\n",
    "    p = Pipeline([('s',QuantileTransformer(n_quantiles=100, output_distribution='normal')), ('m',model)])\n",
    "    pipelines.append(('quan', p))\n",
    "    # pca\n",
    "    p = Pipeline([('s',PCA()), ('m',model)])\n",
    "    pipelines.append(('pca', p))\n",
    "    # svd\n",
    "    p = Pipeline([('s',TruncatedSVD()), ('m',model)])\n",
    "    pipelines.append(('svd', p))\n",
    "    \n",
    "    p = Pipeline([('s',StandardScaler()), ('p', PowerTransformer()), ('m',model)])\n",
    "    pipelines.append(('std-power', p))\n",
    "    # scale and power\n",
    "    p = Pipeline([('s',MinMaxScaler()), ('p', PowerTransformer()), ('m',model)])\n",
    "    pipelines.append(('min-max-power', p))\n",
    "    \n",
    "    p = Pipeline([('p', PowerTransformer()), ('m',model)])\n",
    "    pipelines.append(('power', p))\n",
    "    \n",
    "    return pipelines"
   ]
  },
  {
   "cell_type": "code",
   "execution_count": 8,
   "id": "86ed798a",
   "metadata": {
    "execution": {
     "iopub.execute_input": "2021-12-13T03:55:31.282713Z",
     "iopub.status.busy": "2021-12-13T03:55:31.281888Z",
     "iopub.status.idle": "2021-12-13T03:55:31.283893Z",
     "shell.execute_reply": "2021-12-13T03:55:31.284326Z",
     "shell.execute_reply.started": "2021-12-07T01:55:53.328822Z"
    },
    "papermill": {
     "duration": 0.056701,
     "end_time": "2021-12-13T03:55:31.284450",
     "exception": false,
     "start_time": "2021-12-13T03:55:31.227749",
     "status": "completed"
    },
    "tags": []
   },
   "outputs": [],
   "source": [
    "def score_model(x, y, model):\n",
    "    # define the cross-validation procedure\n",
    "    cv = RepeatedStratifiedKFold(n_splits=10, n_repeats=3, random_state=seed)\n",
    "    # evaluate model\n",
    "    scores = cross_val_score(model, x, y, scoring='accuracy', cv=cv, n_jobs=-1)\n",
    "    return scores"
   ]
  },
  {
   "cell_type": "code",
   "execution_count": 9,
   "id": "7f59495f",
   "metadata": {
    "execution": {
     "iopub.execute_input": "2021-12-13T03:55:31.390353Z",
     "iopub.status.busy": "2021-12-13T03:55:31.389585Z",
     "iopub.status.idle": "2021-12-13T03:55:31.392001Z",
     "shell.execute_reply": "2021-12-13T03:55:31.391575Z",
     "shell.execute_reply.started": "2021-12-07T01:55:53.339043Z"
    },
    "papermill": {
     "duration": 0.057493,
     "end_time": "2021-12-13T03:55:31.392102",
     "exception": false,
     "start_time": "2021-12-13T03:55:31.334609",
     "status": "completed"
    },
    "tags": []
   },
   "outputs": [],
   "source": [
    "geomean = lambda x, axis : np.exp(np.mean(np.log(x), axis=axis))\n",
    "harmonic_mean = lambda x, axis : len(x) / np.sum(1.0/x, axis=axis) \n",
    "\n",
    "funcs = {'mean' : np.mean, \n",
    "         'std' : np.std, \n",
    "         'var' : np.var, \n",
    "         'geo_mean' : geomean, \n",
    "         'harmonic_mean' : harmonic_mean, \n",
    "         'median' : np.median,\n",
    "         'None_feature_engineering' : None}"
   ]
  },
  {
   "cell_type": "code",
   "execution_count": 10,
   "id": "21450cac",
   "metadata": {
    "execution": {
     "iopub.execute_input": "2021-12-13T03:55:31.659256Z",
     "iopub.status.busy": "2021-12-13T03:55:31.648939Z",
     "iopub.status.idle": "2021-12-13T03:55:47.400670Z",
     "shell.execute_reply": "2021-12-13T03:55:47.399757Z",
     "shell.execute_reply.started": "2021-12-12T02:03:26.662503Z"
    },
    "papermill": {
     "duration": 15.958049,
     "end_time": "2021-12-13T03:55:47.400822",
     "exception": false,
     "start_time": "2021-12-13T03:55:31.442773",
     "status": "completed"
    },
    "tags": []
   },
   "outputs": [],
   "source": [
    "# train_df = pd.read_csv('/kaggle/input/tabular-playground-series-dec-2021/train.csv', sep=',')\n",
    "random.seed(seed)\n",
    "n = 4000000\n",
    "s = 400000\n",
    "skip = sorted(random.sample(range(1, n),n-s))\n",
    "\n",
    "train_df = pd.read_csv('/kaggle/input/tabular-playground-series-dec-2021/train.csv', sep=',', skiprows=skip)"
   ]
  },
  {
   "cell_type": "markdown",
   "id": "e71dfb3a",
   "metadata": {
    "papermill": {
     "duration": 0.05223,
     "end_time": "2021-12-13T03:55:47.504381",
     "exception": false,
     "start_time": "2021-12-13T03:55:47.452151",
     "status": "completed"
    },
    "tags": []
   },
   "source": [
    "# XGBoost Baseline"
   ]
  },
  {
   "cell_type": "code",
   "execution_count": 11,
   "id": "5f5bb688",
   "metadata": {
    "execution": {
     "iopub.execute_input": "2021-12-13T03:55:47.685918Z",
     "iopub.status.busy": "2021-12-13T03:55:47.681783Z",
     "iopub.status.idle": "2021-12-13T03:55:47.955820Z",
     "shell.execute_reply": "2021-12-13T03:55:47.955326Z",
     "shell.execute_reply.started": "2021-12-06T18:38:12.602556Z"
    },
    "papermill": {
     "duration": 0.394098,
     "end_time": "2021-12-13T03:55:47.955955",
     "exception": false,
     "start_time": "2021-12-13T03:55:47.561857",
     "status": "completed"
    },
    "tags": []
   },
   "outputs": [],
   "source": [
    "x_train = train_df.drop(['Id', 'Soil_Type7','Soil_Type15', 'Cover_Type'], axis=1).values\n",
    "y_train = train_df['Cover_Type'].values \n",
    "x_train, x_test, y_train, y_test = train_test_split(x_train, y_train, test_size=0.2, random_state=seed, shuffle=True)"
   ]
  },
  {
   "cell_type": "code",
   "execution_count": 12,
   "id": "986a9a53",
   "metadata": {
    "execution": {
     "iopub.execute_input": "2021-12-13T03:55:48.097691Z",
     "iopub.status.busy": "2021-12-13T03:55:48.097006Z",
     "iopub.status.idle": "2021-12-13T03:56:02.172098Z",
     "shell.execute_reply": "2021-12-13T03:56:02.171680Z"
    },
    "papermill": {
     "duration": 14.164699,
     "end_time": "2021-12-13T03:56:02.172240",
     "exception": false,
     "start_time": "2021-12-13T03:55:48.007541",
     "status": "completed"
    },
    "tags": []
   },
   "outputs": [
    {
     "name": "stdout",
     "output_type": "stream",
     "text": [
      "{'accuracy': 0.9377375}\n"
     ]
    }
   ],
   "source": [
    "params = {'colsample_bytree': 0.1,\n",
    "          'eta': 0.12,\n",
    "          'gamma': 5, \n",
    "          'max_depth': 2,\n",
    "          'min_child_weight': 9,\n",
    "          'n_estimators': 1000, \n",
    "          'subsample': 0.9}          \n",
    "\n",
    "model = XGBClassifier(**params, \n",
    "                      objective='multi:softmax',\n",
    "                      random_state=seed, \n",
    "                      tree_method='gpu_hist', \n",
    "                      predictor='gpu_predictor',\n",
    "                      early_stopping_rounds=200,\n",
    "                      verbosity=0)\n",
    "\n",
    "model.fit(x_train, y_train)\n",
    "results = evaluate_model(model, x_test, y_test)\n",
    "print(results)"
   ]
  },
  {
   "cell_type": "markdown",
   "id": "0849e5b9",
   "metadata": {
    "papermill": {
     "duration": 0.050589,
     "end_time": "2021-12-13T03:56:02.274614",
     "exception": false,
     "start_time": "2021-12-13T03:56:02.224025",
     "status": "completed"
    },
    "tags": []
   },
   "source": [
    "# Feature Engineering\n",
    "\n",
    "Here wee will experiment creating synthetic features using central tendency statistics."
   ]
  },
  {
   "cell_type": "markdown",
   "id": "8dc31cd3",
   "metadata": {
    "papermill": {
     "duration": 0.051385,
     "end_time": "2021-12-13T03:56:02.377066",
     "exception": false,
     "start_time": "2021-12-13T03:56:02.325681",
     "status": "completed"
    },
    "tags": []
   },
   "source": [
    "<h3>Feature Engineering XGBoost</h3>\n"
   ]
  },
  {
   "cell_type": "code",
   "execution_count": 13,
   "id": "0c1400b5",
   "metadata": {
    "execution": {
     "iopub.execute_input": "2021-12-13T03:56:02.536299Z",
     "iopub.status.busy": "2021-12-13T03:56:02.535390Z",
     "iopub.status.idle": "2021-12-13T03:57:23.298637Z",
     "shell.execute_reply": "2021-12-13T03:57:23.299084Z"
    },
    "papermill": {
     "duration": 80.871318,
     "end_time": "2021-12-13T03:57:23.299257",
     "exception": false,
     "start_time": "2021-12-13T03:56:02.427939",
     "status": "completed"
    },
    "tags": []
   },
   "outputs": [
    {
     "name": "stdout",
     "output_type": "stream",
     "text": [
      ">mean: 0.940462\n",
      ">std: 0.939725\n",
      ">var: 0.939725\n",
      ">geo_mean: 0.937475\n",
      ">harmonic_mean: 0.937475\n",
      ">median: 0.937475\n",
      ">None_feature_engineering: 0.937738\n",
      "Best Result:  mean 0.9404625\n"
     ]
    }
   ],
   "source": [
    "results, names = list(), list()\n",
    "\n",
    "for key in funcs.keys():\n",
    "    x_train = train_df.drop(['Id', 'Soil_Type7','Soil_Type15', 'Cover_Type'], axis=1)\n",
    "    if funcs[key] is not None:\n",
    "        x_train[key] = funcs[key](x_train, axis=1)\n",
    "    y_train = train_df['Cover_Type']\n",
    "    x_train, x_test, y_train, y_test = train_test_split(x_train, y_train, test_size = 0.2, random_state = seed, shuffle=True)\n",
    "    model = get_xgboost_model()\n",
    "    model.fit(x_train, y_train)\n",
    "    result = evaluate_model(model, x_test, y_test)\n",
    "    names.append(key)\n",
    "    results.append(result['accuracy'])\n",
    "    \n",
    "for name, score in zip(names, results):\n",
    "    print('>%s: %f' % (name, score))\n",
    "\n",
    "index = np.argmax(results)\n",
    "print(\"Best Result: \", names[index], results[index])"
   ]
  },
  {
   "cell_type": "markdown",
   "id": "56f5961a",
   "metadata": {
    "papermill": {
     "duration": 0.052819,
     "end_time": "2021-12-13T03:57:23.403793",
     "exception": false,
     "start_time": "2021-12-13T03:57:23.350974",
     "status": "completed"
    },
    "tags": []
   },
   "source": [
    "# XGBoost - Testing different configurations"
   ]
  },
  {
   "cell_type": "code",
   "execution_count": 14,
   "id": "8778d016",
   "metadata": {
    "execution": {
     "iopub.execute_input": "2021-12-13T03:57:23.559285Z",
     "iopub.status.busy": "2021-12-13T03:57:23.558386Z",
     "iopub.status.idle": "2021-12-13T03:57:23.799811Z",
     "shell.execute_reply": "2021-12-13T03:57:23.799281Z"
    },
    "papermill": {
     "duration": 0.343899,
     "end_time": "2021-12-13T03:57:23.799932",
     "exception": false,
     "start_time": "2021-12-13T03:57:23.456033",
     "status": "completed"
    },
    "tags": []
   },
   "outputs": [],
   "source": [
    "x_train = train_df.drop(['Id', 'Soil_Type7','Soil_Type15', 'Cover_Type'], axis=1)\n",
    "y_train = train_df['Cover_Type']\n",
    "x_train['mean'] = np.mean(x_train, axis=1)\n",
    "x_train, x_test, y_train, y_test = train_test_split(x_train, y_train, test_size=0.2, random_state=seed, shuffle=True)"
   ]
  },
  {
   "cell_type": "markdown",
   "id": "c790fe3e",
   "metadata": {
    "papermill": {
     "duration": 0.051738,
     "end_time": "2021-12-13T03:57:23.904259",
     "exception": false,
     "start_time": "2021-12-13T03:57:23.852521",
     "status": "completed"
    },
    "tags": []
   },
   "source": [
    "# 1 - Testing different number of estimators"
   ]
  },
  {
   "cell_type": "code",
   "execution_count": 15,
   "id": "1f6de9d3",
   "metadata": {
    "execution": {
     "iopub.execute_input": "2021-12-13T03:57:24.012835Z",
     "iopub.status.busy": "2021-12-13T03:57:24.012026Z",
     "iopub.status.idle": "2021-12-13T03:57:24.014475Z",
     "shell.execute_reply": "2021-12-13T03:57:24.014009Z"
    },
    "papermill": {
     "duration": 0.058887,
     "end_time": "2021-12-13T03:57:24.014587",
     "exception": false,
     "start_time": "2021-12-13T03:57:23.955700",
     "status": "completed"
    },
    "tags": []
   },
   "outputs": [],
   "source": [
    "def get_models_n_estimators():\n",
    "    models = dict()\n",
    "    trees = [10, 50, 100, 150, 200, 250, 300, 350, 400, 450, 500, 1000, 2000, 3000, 4000, 5000, 6000, 7000, 8000, 9000, 10000]\n",
    "    for n in trees:\n",
    "        params = {'n_estimators' : n}\n",
    "        models[str(n)] = get_xgboost_model(params)\n",
    "    return models"
   ]
  },
  {
   "cell_type": "code",
   "execution_count": 16,
   "id": "eb826fce",
   "metadata": {
    "execution": {
     "iopub.execute_input": "2021-12-13T03:57:24.123363Z",
     "iopub.status.busy": "2021-12-13T03:57:24.122618Z",
     "iopub.status.idle": "2021-12-13T04:18:13.320168Z",
     "shell.execute_reply": "2021-12-13T04:18:13.320679Z"
    },
    "papermill": {
     "duration": 1249.254975,
     "end_time": "2021-12-13T04:18:13.320834",
     "exception": false,
     "start_time": "2021-12-13T03:57:24.065859",
     "status": "completed"
    },
    "tags": []
   },
   "outputs": [
    {
     "name": "stdout",
     "output_type": "stream",
     "text": [
      "10 accuracy: 0.938\n",
      "50 accuracy: 0.956\n",
      "100 accuracy: 0.959\n",
      "150 accuracy: 0.959\n",
      "200 accuracy: 0.959\n",
      "250 accuracy: 0.959\n",
      "300 accuracy: 0.959\n",
      "350 accuracy: 0.959\n",
      "400 accuracy: 0.959\n",
      "450 accuracy: 0.959\n",
      "500 accuracy: 0.959\n",
      "1000 accuracy: 0.959\n",
      "2000 accuracy: 0.959\n",
      "3000 accuracy: 0.958\n",
      "4000 accuracy: 0.959\n",
      "5000 accuracy: 0.959\n",
      "6000 accuracy: 0.958\n",
      "7000 accuracy: 0.958\n",
      "8000 accuracy: 0.958\n",
      "9000 accuracy: 0.958\n",
      "10000 accuracy: 0.958\n",
      "Best number of estimators 300\n"
     ]
    }
   ],
   "source": [
    "models = get_models_n_estimators()\n",
    "results, names = list(), list()\n",
    "\n",
    "for i, (name, model) in enumerate(models.items()):\n",
    "    model.fit(x_train, y_train, verbose=True)\n",
    "    score = evaluate_model(model, x_test, y_test)\n",
    "    results.append(score['accuracy'])\n",
    "    names.append(name)\n",
    "    print(name, 'accuracy: %.3f' % (results[i]))\n",
    "\n",
    "index = np.argmax(results)\n",
    "n_estimators = int(names[index])\n",
    "print(\"Best number of estimators\", n_estimators)"
   ]
  },
  {
   "cell_type": "markdown",
   "id": "7dae2544",
   "metadata": {
    "papermill": {
     "duration": 0.060794,
     "end_time": "2021-12-13T04:18:13.439437",
     "exception": false,
     "start_time": "2021-12-13T04:18:13.378643",
     "status": "completed"
    },
    "tags": []
   },
   "source": [
    "# 2 - Testing different max_depth"
   ]
  },
  {
   "cell_type": "code",
   "execution_count": 17,
   "id": "0bd3a0fb",
   "metadata": {
    "execution": {
     "iopub.execute_input": "2021-12-13T04:18:13.567876Z",
     "iopub.status.busy": "2021-12-13T04:18:13.566201Z",
     "iopub.status.idle": "2021-12-13T04:18:13.568508Z",
     "shell.execute_reply": "2021-12-13T04:18:13.568948Z"
    },
    "papermill": {
     "duration": 0.070444,
     "end_time": "2021-12-13T04:18:13.569089",
     "exception": false,
     "start_time": "2021-12-13T04:18:13.498645",
     "status": "completed"
    },
    "tags": []
   },
   "outputs": [],
   "source": [
    "def get_models_n_depths():\n",
    "    models = dict()\n",
    "    for depth in range(1,20):\n",
    "        params = {'n_estimators' : n_estimators, 'max_depth' : depth}\n",
    "        models[str(depth)] = get_xgboost_model(params)\n",
    "    return models"
   ]
  },
  {
   "cell_type": "code",
   "execution_count": 18,
   "id": "84df1883",
   "metadata": {
    "execution": {
     "iopub.execute_input": "2021-12-13T04:18:13.703890Z",
     "iopub.status.busy": "2021-12-13T04:18:13.703060Z",
     "iopub.status.idle": "2021-12-13T04:26:02.623461Z",
     "shell.execute_reply": "2021-12-13T04:26:02.623924Z"
    },
    "papermill": {
     "duration": 468.989673,
     "end_time": "2021-12-13T04:26:02.624078",
     "exception": false,
     "start_time": "2021-12-13T04:18:13.634405",
     "status": "completed"
    },
    "tags": []
   },
   "outputs": [
    {
     "name": "stdout",
     "output_type": "stream",
     "text": [
      "1 accuracy: 0.930\n",
      "2 accuracy: 0.950\n",
      "3 accuracy: 0.957\n",
      "4 accuracy: 0.959\n",
      "5 accuracy: 0.959\n",
      "6 accuracy: 0.959\n",
      "7 accuracy: 0.959\n",
      "8 accuracy: 0.959\n",
      "9 accuracy: 0.959\n",
      "10 accuracy: 0.959\n",
      "11 accuracy: 0.959\n",
      "12 accuracy: 0.959\n",
      "13 accuracy: 0.959\n",
      "14 accuracy: 0.959\n",
      "15 accuracy: 0.959\n",
      "16 accuracy: 0.959\n",
      "17 accuracy: 0.959\n",
      "18 accuracy: 0.960\n",
      "19 accuracy: 0.959\n",
      "Best max depth 18\n"
     ]
    }
   ],
   "source": [
    "models = get_models_n_depths()\n",
    "results, names = list(), list()\n",
    "\n",
    "for i, (name, model) in enumerate(models.items()):\n",
    "    model.fit(x_train, y_train, verbose=True)\n",
    "    score = evaluate_model(model, x_test, y_test)\n",
    "    results.append(score['accuracy'])\n",
    "    names.append(name)\n",
    "    print(name, 'accuracy: %.3f' % (results[i]))\n",
    "\n",
    "index = np.argmax(results)\n",
    "max_depth = int(names[index])\n",
    "print(\"Best max depth\", max_depth)"
   ]
  },
  {
   "cell_type": "markdown",
   "id": "c7f60165",
   "metadata": {
    "papermill": {
     "duration": 0.06607,
     "end_time": "2021-12-13T04:26:02.756448",
     "exception": false,
     "start_time": "2021-12-13T04:26:02.690378",
     "status": "completed"
    },
    "tags": []
   },
   "source": [
    "# 3 - Testing different subsamples\n"
   ]
  },
  {
   "cell_type": "code",
   "execution_count": 19,
   "id": "46805a5b",
   "metadata": {
    "execution": {
     "iopub.execute_input": "2021-12-13T04:26:02.888112Z",
     "iopub.status.busy": "2021-12-13T04:26:02.887326Z",
     "iopub.status.idle": "2021-12-13T04:26:02.893020Z",
     "shell.execute_reply": "2021-12-13T04:26:02.892583Z"
    },
    "papermill": {
     "duration": 0.071894,
     "end_time": "2021-12-13T04:26:02.893135",
     "exception": false,
     "start_time": "2021-12-13T04:26:02.821241",
     "status": "completed"
    },
    "tags": []
   },
   "outputs": [],
   "source": [
    "def get_models_subsamples():\n",
    "    models = dict()\n",
    "    for subsample in np.arange(0.1, 1.1, 0.1):\n",
    "        params = {'n_estimators' : n_estimators, 'max_depth' : max_depth, 'subsample' : subsample}\n",
    "        key = '%.1f' % subsample\n",
    "        models[key] = get_xgboost_model(params)\n",
    "    return models"
   ]
  },
  {
   "cell_type": "code",
   "execution_count": 20,
   "id": "342adee6",
   "metadata": {
    "execution": {
     "iopub.execute_input": "2021-12-13T04:26:03.027335Z",
     "iopub.status.busy": "2021-12-13T04:26:03.026561Z",
     "iopub.status.idle": "2021-12-13T04:33:41.729635Z",
     "shell.execute_reply": "2021-12-13T04:33:41.730075Z"
    },
    "papermill": {
     "duration": 458.771624,
     "end_time": "2021-12-13T04:33:41.730253",
     "exception": false,
     "start_time": "2021-12-13T04:26:02.958629",
     "status": "completed"
    },
    "tags": []
   },
   "outputs": [
    {
     "name": "stdout",
     "output_type": "stream",
     "text": [
      "0.1 accuracy: 0.948\n",
      "0.2 accuracy: 0.954\n",
      "0.3 accuracy: 0.956\n",
      "0.4 accuracy: 0.958\n",
      "0.5 accuracy: 0.958\n",
      "0.6 accuracy: 0.958\n",
      "0.7 accuracy: 0.958\n",
      "0.8 accuracy: 0.959\n",
      "0.9 accuracy: 0.960\n",
      "1.0 accuracy: 0.960\n",
      "Best subsample 1.0\n"
     ]
    }
   ],
   "source": [
    "models = get_models_subsamples()\n",
    "results, names = list(), list()\n",
    "\n",
    "for i, (name, model) in enumerate(models.items()):\n",
    "    model.fit(x_train, y_train, verbose=True)\n",
    "    score = evaluate_model(model, x_test, y_test)\n",
    "    results.append(score['accuracy'])\n",
    "    names.append(name)\n",
    "    print(name, 'accuracy: %.3f' % (results[i]))\n",
    "\n",
    "index = np.argmax(results)\n",
    "subsample = float(names[index])\n",
    "print(\"Best subsample\", subsample)"
   ]
  },
  {
   "cell_type": "markdown",
   "id": "7fb44933",
   "metadata": {
    "papermill": {
     "duration": 0.065454,
     "end_time": "2021-12-13T04:33:41.863069",
     "exception": false,
     "start_time": "2021-12-13T04:33:41.797615",
     "status": "completed"
    },
    "tags": []
   },
   "source": [
    "# 4 - Testing different learning rates"
   ]
  },
  {
   "cell_type": "code",
   "execution_count": 21,
   "id": "611ea646",
   "metadata": {
    "execution": {
     "iopub.execute_input": "2021-12-13T04:33:41.999249Z",
     "iopub.status.busy": "2021-12-13T04:33:41.998537Z",
     "iopub.status.idle": "2021-12-13T04:33:42.001010Z",
     "shell.execute_reply": "2021-12-13T04:33:42.000613Z"
    },
    "papermill": {
     "duration": 0.072951,
     "end_time": "2021-12-13T04:33:42.001124",
     "exception": false,
     "start_time": "2021-12-13T04:33:41.928173",
     "status": "completed"
    },
    "tags": []
   },
   "outputs": [],
   "source": [
    "def get_models_lr():\n",
    "    models = dict()\n",
    "    rates = [0.0001, 0.001, 0.003, 0.005, 0.01, 0.03, 0.05, 0.1, 0.12, 0.13, 0.3, 0.5, 1.0]\n",
    "    for r in rates:\n",
    "        params = {'n_estimators' : n_estimators, 'max_depth' : max_depth, 'subsample' : subsample, 'eta' : r}\n",
    "        key = '%.4f' % r\n",
    "        models[key] = get_xgboost_model(params)\n",
    "    return models"
   ]
  },
  {
   "cell_type": "code",
   "execution_count": 22,
   "id": "02be5678",
   "metadata": {
    "execution": {
     "iopub.execute_input": "2021-12-13T04:33:42.139176Z",
     "iopub.status.busy": "2021-12-13T04:33:42.138513Z",
     "iopub.status.idle": "2021-12-13T05:08:05.744460Z",
     "shell.execute_reply": "2021-12-13T05:08:05.745155Z"
    },
    "papermill": {
     "duration": 2063.677625,
     "end_time": "2021-12-13T05:08:05.745335",
     "exception": false,
     "start_time": "2021-12-13T04:33:42.067710",
     "status": "completed"
    },
    "tags": []
   },
   "outputs": [
    {
     "name": "stdout",
     "output_type": "stream",
     "text": [
      "0.0001 accuracy: 0.944\n",
      "0.0010 accuracy: 0.948\n",
      "0.0030 accuracy: 0.951\n",
      "0.0050 accuracy: 0.953\n",
      "0.0100 accuracy: 0.956\n",
      "0.0300 accuracy: 0.958\n",
      "0.0500 accuracy: 0.958\n",
      "0.1000 accuracy: 0.959\n",
      "0.1200 accuracy: 0.959\n",
      "0.1300 accuracy: 0.959\n",
      "0.3000 accuracy: 0.960\n",
      "0.5000 accuracy: 0.959\n",
      "1.0000 accuracy: 0.958\n",
      "Best learning rate 0.3\n"
     ]
    }
   ],
   "source": [
    "models = get_models_lr()\n",
    "results, names = list(), list()\n",
    "\n",
    "for i, (name, model) in enumerate(models.items()):\n",
    "    model.fit(x_train, y_train, verbose=True)\n",
    "    score = evaluate_model(model, x_test, y_test)\n",
    "    results.append(score['accuracy'])\n",
    "    names.append(name)\n",
    "    print(name, 'accuracy: %.3f' % (results[i]))\n",
    "\n",
    "index = np.argmax(results)\n",
    "eta = float(names[index])\n",
    "print(\"Best learning rate\", eta)"
   ]
  },
  {
   "cell_type": "markdown",
   "id": "66a6a60e",
   "metadata": {
    "papermill": {
     "duration": 0.068303,
     "end_time": "2021-12-13T05:08:05.882181",
     "exception": false,
     "start_time": "2021-12-13T05:08:05.813878",
     "status": "completed"
    },
    "tags": []
   },
   "source": [
    "# 5 - Testing different number of features"
   ]
  },
  {
   "cell_type": "code",
   "execution_count": 23,
   "id": "7c6f6757",
   "metadata": {
    "execution": {
     "iopub.execute_input": "2021-12-13T05:08:06.029205Z",
     "iopub.status.busy": "2021-12-13T05:08:06.028354Z",
     "iopub.status.idle": "2021-12-13T05:08:06.030168Z",
     "shell.execute_reply": "2021-12-13T05:08:06.030623Z"
    },
    "papermill": {
     "duration": 0.07898,
     "end_time": "2021-12-13T05:08:06.030759",
     "exception": false,
     "start_time": "2021-12-13T05:08:05.951779",
     "status": "completed"
    },
    "tags": []
   },
   "outputs": [],
   "source": [
    "def get_models_nfeatures():\n",
    "    models = dict()\n",
    "    for i in np.arange(0.1, 1.1, 0.1):\n",
    "        params = {'n_estimators' : n_estimators, 'max_depth' : max_depth, 'subsample' : subsample, 'eta' : eta, 'colsample_bytree' : i}\n",
    "        key = '%.1f' % i\n",
    "        models[key] = get_xgboost_model(params)\n",
    "    return models"
   ]
  },
  {
   "cell_type": "code",
   "execution_count": 24,
   "id": "54f883f4",
   "metadata": {
    "execution": {
     "iopub.execute_input": "2021-12-13T05:08:06.175025Z",
     "iopub.status.busy": "2021-12-13T05:08:06.172091Z",
     "iopub.status.idle": "2021-12-13T05:19:34.773031Z",
     "shell.execute_reply": "2021-12-13T05:19:34.773576Z"
    },
    "papermill": {
     "duration": 688.673552,
     "end_time": "2021-12-13T05:19:34.773756",
     "exception": false,
     "start_time": "2021-12-13T05:08:06.100204",
     "status": "completed"
    },
    "tags": []
   },
   "outputs": [
    {
     "name": "stdout",
     "output_type": "stream",
     "text": [
      "0.1 accuracy: 0.928\n",
      "0.2 accuracy: 0.946\n",
      "0.3 accuracy: 0.953\n",
      "0.4 accuracy: 0.957\n",
      "0.5 accuracy: 0.958\n",
      "0.6 accuracy: 0.958\n",
      "0.7 accuracy: 0.959\n",
      "0.8 accuracy: 0.959\n",
      "0.9 accuracy: 0.959\n",
      "1.0 accuracy: 0.960\n",
      "Best colsample_bytree 1.0\n"
     ]
    }
   ],
   "source": [
    "models = get_models_nfeatures()\n",
    "results, names = list(), list()\n",
    "\n",
    "for i, (name, model) in enumerate(models.items()):\n",
    "    model.fit(x_train, y_train, verbose=True)\n",
    "    score = evaluate_model(model, x_test, y_test)\n",
    "    results.append(score['accuracy'])\n",
    "    names.append(name)\n",
    "    print(name, 'accuracy: %.3f' % (results[i]))\n",
    "\n",
    "index = np.argmax(results)\n",
    "colsample_bytree = float(names[index])\n",
    "print(\"Best colsample_bytree\", colsample_bytree)"
   ]
  },
  {
   "cell_type": "markdown",
   "id": "40075edc",
   "metadata": {
    "papermill": {
     "duration": 0.082694,
     "end_time": "2021-12-13T05:19:34.934620",
     "exception": false,
     "start_time": "2021-12-13T05:19:34.851926",
     "status": "completed"
    },
    "tags": []
   },
   "source": [
    "# 6 - Testing different number of gamma"
   ]
  },
  {
   "cell_type": "code",
   "execution_count": 25,
   "id": "53e5a0ed",
   "metadata": {
    "execution": {
     "iopub.execute_input": "2021-12-13T05:19:35.085833Z",
     "iopub.status.busy": "2021-12-13T05:19:35.084990Z",
     "iopub.status.idle": "2021-12-13T05:19:35.086795Z",
     "shell.execute_reply": "2021-12-13T05:19:35.087203Z"
    },
    "papermill": {
     "duration": 0.078896,
     "end_time": "2021-12-13T05:19:35.087358",
     "exception": false,
     "start_time": "2021-12-13T05:19:35.008462",
     "status": "completed"
    },
    "tags": []
   },
   "outputs": [],
   "source": [
    "def get_models_n_gamma():\n",
    "    models = dict()\n",
    "    # for gamma in range(1,20):\n",
    "    for gamma in np.arange(0.0, 1.1, 0.1):\n",
    "        params = {'n_estimators' : n_estimators, \n",
    "                  'max_depth' : max_depth,\n",
    "                  'subsample' : subsample,\n",
    "                  'eta' : eta, \n",
    "                  'colsample_bytree' : colsample_bytree,\n",
    "                  'gamma' : gamma}\n",
    "        models[str(gamma)] = get_xgboost_model(params)\n",
    "    return models"
   ]
  },
  {
   "cell_type": "code",
   "execution_count": 26,
   "id": "2a268f4a",
   "metadata": {
    "execution": {
     "iopub.execute_input": "2021-12-13T05:19:35.234001Z",
     "iopub.status.busy": "2021-12-13T05:19:35.233245Z",
     "iopub.status.idle": "2021-12-13T05:23:08.795350Z",
     "shell.execute_reply": "2021-12-13T05:23:08.795771Z"
    },
    "papermill": {
     "duration": 213.636257,
     "end_time": "2021-12-13T05:23:08.795945",
     "exception": false,
     "start_time": "2021-12-13T05:19:35.159688",
     "status": "completed"
    },
    "tags": []
   },
   "outputs": [
    {
     "name": "stdout",
     "output_type": "stream",
     "text": [
      "0.0 accuracy: 0.960\n",
      "0.1 accuracy: 0.959\n",
      "0.2 accuracy: 0.958\n",
      "0.30000000000000004 accuracy: 0.958\n",
      "0.4 accuracy: 0.959\n",
      "0.5 accuracy: 0.959\n",
      "0.6000000000000001 accuracy: 0.958\n",
      "0.7000000000000001 accuracy: 0.958\n",
      "0.8 accuracy: 0.959\n",
      "0.9 accuracy: 0.959\n",
      "1.0 accuracy: 0.959\n",
      "Best gamma 0.0\n"
     ]
    }
   ],
   "source": [
    "models = get_models_n_gamma()\n",
    "results, names = list(), list()\n",
    "\n",
    "for i, (name, model) in enumerate(models.items()):\n",
    "    model.fit(x_train, y_train, verbose=True)\n",
    "    score = evaluate_model(model, x_test, y_test)\n",
    "    results.append(score['accuracy'])\n",
    "    names.append(name)\n",
    "    print(name, 'accuracy: %.3f' % (results[i]))\n",
    "\n",
    "index = np.argmax(results)\n",
    "gamma = float(names[index])\n",
    "print(\"Best gamma\", gamma)"
   ]
  },
  {
   "cell_type": "markdown",
   "id": "3137d733",
   "metadata": {
    "papermill": {
     "duration": 0.075939,
     "end_time": "2021-12-13T05:23:08.951174",
     "exception": false,
     "start_time": "2021-12-13T05:23:08.875235",
     "status": "completed"
    },
    "tags": []
   },
   "source": [
    "# 7 - Testing different number of min_child_weight"
   ]
  },
  {
   "cell_type": "code",
   "execution_count": 27,
   "id": "090b6a08",
   "metadata": {
    "execution": {
     "iopub.execute_input": "2021-12-13T05:23:09.107466Z",
     "iopub.status.busy": "2021-12-13T05:23:09.106690Z",
     "iopub.status.idle": "2021-12-13T05:23:09.109190Z",
     "shell.execute_reply": "2021-12-13T05:23:09.108774Z"
    },
    "papermill": {
     "duration": 0.083268,
     "end_time": "2021-12-13T05:23:09.109362",
     "exception": false,
     "start_time": "2021-12-13T05:23:09.026094",
     "status": "completed"
    },
    "tags": []
   },
   "outputs": [],
   "source": [
    "def get_models_n_min_child_weight():\n",
    "    models = dict()\n",
    "    for min_child_weight in range(1,20):\n",
    "        params = {'n_estimators' : n_estimators, \n",
    "                  'max_depth' : max_depth,\n",
    "                  'subsample' : subsample,\n",
    "                  'eta' : eta, \n",
    "                  'colsample_bytree' : colsample_bytree,\n",
    "                  'gamma' : gamma,\n",
    "                  'min_child_weight' : min_child_weight}\n",
    "        models[str(min_child_weight)] = get_xgboost_model(params)\n",
    "    return models"
   ]
  },
  {
   "cell_type": "code",
   "execution_count": 28,
   "id": "1f1ba7b8",
   "metadata": {
    "execution": {
     "iopub.execute_input": "2021-12-13T05:23:09.266416Z",
     "iopub.status.busy": "2021-12-13T05:23:09.265663Z",
     "iopub.status.idle": "2021-12-13T05:32:40.613954Z",
     "shell.execute_reply": "2021-12-13T05:32:40.614389Z"
    },
    "papermill": {
     "duration": 571.430456,
     "end_time": "2021-12-13T05:32:40.614550",
     "exception": false,
     "start_time": "2021-12-13T05:23:09.184094",
     "status": "completed"
    },
    "tags": []
   },
   "outputs": [
    {
     "name": "stdout",
     "output_type": "stream",
     "text": [
      "1 accuracy: 0.960\n",
      "2 accuracy: 0.959\n",
      "3 accuracy: 0.959\n",
      "4 accuracy: 0.960\n",
      "5 accuracy: 0.959\n",
      "6 accuracy: 0.959\n",
      "7 accuracy: 0.959\n",
      "8 accuracy: 0.959\n",
      "9 accuracy: 0.959\n",
      "10 accuracy: 0.959\n",
      "11 accuracy: 0.959\n",
      "12 accuracy: 0.959\n",
      "13 accuracy: 0.959\n",
      "14 accuracy: 0.959\n",
      "15 accuracy: 0.959\n",
      "16 accuracy: 0.959\n",
      "17 accuracy: 0.959\n",
      "18 accuracy: 0.959\n",
      "19 accuracy: 0.959\n",
      "Best min_child_weight 1\n"
     ]
    }
   ],
   "source": [
    "models = get_models_n_min_child_weight()\n",
    "results, names = list(), list()\n",
    "\n",
    "for i, (name, model) in enumerate(models.items()):\n",
    "    model.fit(x_train, y_train, verbose=True)\n",
    "    score = evaluate_model(model, x_test, y_test)\n",
    "    results.append(score['accuracy'])\n",
    "    names.append(name)\n",
    "    print(name, 'accuracy: %.3f' % (results[i]))\n",
    "\n",
    "index = np.argmax(results)\n",
    "min_child_weight = int(names[index])\n",
    "print(\"Best min_child_weight\", min_child_weight)"
   ]
  },
  {
   "cell_type": "markdown",
   "id": "df90ad9a",
   "metadata": {
    "papermill": {
     "duration": 0.086892,
     "end_time": "2021-12-13T05:32:40.783735",
     "exception": false,
     "start_time": "2021-12-13T05:32:40.696843",
     "status": "completed"
    },
    "tags": []
   },
   "source": [
    "# 8 - Testing different number of reg_alpha"
   ]
  },
  {
   "cell_type": "code",
   "execution_count": 29,
   "id": "11f7cf7c",
   "metadata": {
    "execution": {
     "iopub.execute_input": "2021-12-13T05:32:40.954873Z",
     "iopub.status.busy": "2021-12-13T05:32:40.953321Z",
     "iopub.status.idle": "2021-12-13T05:32:40.955457Z",
     "shell.execute_reply": "2021-12-13T05:32:40.955872Z"
    },
    "papermill": {
     "duration": 0.087355,
     "end_time": "2021-12-13T05:32:40.955999",
     "exception": false,
     "start_time": "2021-12-13T05:32:40.868644",
     "status": "completed"
    },
    "tags": []
   },
   "outputs": [],
   "source": [
    "def get_models_n_reg_alpha():\n",
    "    models = dict()\n",
    "    for reg_alpha in [0, 1e-5, 1e-2, 0.1, 0.01, 0.001, 0.003, 1, 10, 100]:\n",
    "        params = {'n_estimators' : n_estimators, \n",
    "                  'max_depth' : max_depth,\n",
    "                  'subsample' : subsample,\n",
    "                  'eta' : eta, \n",
    "                  'colsample_bytree' : colsample_bytree,\n",
    "                  'gamma' : gamma,\n",
    "                  'min_child_weight' : min_child_weight,\n",
    "                  'reg_alpha': reg_alpha}\n",
    "        models[str(reg_alpha)] = get_xgboost_model(params)\n",
    "    return models"
   ]
  },
  {
   "cell_type": "code",
   "execution_count": 30,
   "id": "2a5986fd",
   "metadata": {
    "execution": {
     "iopub.execute_input": "2021-12-13T05:32:41.121682Z",
     "iopub.status.busy": "2021-12-13T05:32:41.120892Z",
     "iopub.status.idle": "2021-12-13T05:42:11.268666Z",
     "shell.execute_reply": "2021-12-13T05:42:11.269104Z"
    },
    "papermill": {
     "duration": 570.233135,
     "end_time": "2021-12-13T05:42:11.269283",
     "exception": false,
     "start_time": "2021-12-13T05:32:41.036148",
     "status": "completed"
    },
    "tags": []
   },
   "outputs": [
    {
     "name": "stdout",
     "output_type": "stream",
     "text": [
      "1 accuracy: 0.960\n",
      "2 accuracy: 0.959\n",
      "3 accuracy: 0.959\n",
      "4 accuracy: 0.960\n",
      "5 accuracy: 0.959\n",
      "6 accuracy: 0.959\n",
      "7 accuracy: 0.959\n",
      "8 accuracy: 0.959\n",
      "9 accuracy: 0.959\n",
      "10 accuracy: 0.959\n",
      "11 accuracy: 0.959\n",
      "12 accuracy: 0.959\n",
      "13 accuracy: 0.959\n",
      "14 accuracy: 0.959\n",
      "15 accuracy: 0.959\n",
      "16 accuracy: 0.959\n",
      "17 accuracy: 0.959\n",
      "18 accuracy: 0.959\n",
      "19 accuracy: 0.959\n",
      "reg_alpha 1\n"
     ]
    }
   ],
   "source": [
    "models = get_models_n_min_child_weight()\n",
    "results, names = list(), list()\n",
    "\n",
    "for i, (name, model) in enumerate(models.items()):\n",
    "    model.fit(x_train, y_train, verbose=True)\n",
    "    score = evaluate_model(model, x_test, y_test)\n",
    "    results.append(score['accuracy'])\n",
    "    names.append(name)\n",
    "    print(name, 'accuracy: %.3f' % (results[i]))\n",
    "\n",
    "index = np.argmax(results)\n",
    "reg_alpha = int(names[index])\n",
    "print(\"reg_alpha\", reg_alpha)"
   ]
  },
  {
   "cell_type": "code",
   "execution_count": 31,
   "id": "e531f6aa",
   "metadata": {
    "execution": {
     "iopub.execute_input": "2021-12-13T05:42:11.447073Z",
     "iopub.status.busy": "2021-12-13T05:42:11.446137Z",
     "iopub.status.idle": "2021-12-13T05:42:11.450063Z",
     "shell.execute_reply": "2021-12-13T05:42:11.449628Z"
    },
    "papermill": {
     "duration": 0.095534,
     "end_time": "2021-12-13T05:42:11.450172",
     "exception": false,
     "start_time": "2021-12-13T05:42:11.354638",
     "status": "completed"
    },
    "tags": []
   },
   "outputs": [
    {
     "name": "stdout",
     "output_type": "stream",
     "text": [
      "Best Params:  {'n_estimators': 300, 'max_depth': 18, 'subsample': 1.0, 'eta': 0.3, 'colsample_bytree': 1.0, 'gamma': 0.0, 'min_child_weight': 1, 'reg_alpha': 1}\n"
     ]
    }
   ],
   "source": [
    "params = {'n_estimators' : n_estimators,\n",
    "          'max_depth' : max_depth,\n",
    "          'subsample' : subsample,\n",
    "          'eta' : eta, \n",
    "          'colsample_bytree' : colsample_bytree,\n",
    "          'gamma' : gamma,\n",
    "          'min_child_weight' : min_child_weight,\n",
    "          'reg_alpha' : reg_alpha}\n",
    "         \n",
    "print('Best Params: ', params)"
   ]
  },
  {
   "cell_type": "code",
   "execution_count": 32,
   "id": "1470b2b2",
   "metadata": {
    "execution": {
     "iopub.execute_input": "2021-12-13T05:42:11.632080Z",
     "iopub.status.busy": "2021-12-13T05:42:11.631275Z",
     "iopub.status.idle": "2021-12-13T05:43:02.677942Z",
     "shell.execute_reply": "2021-12-13T05:43:02.678371Z"
    },
    "papermill": {
     "duration": 51.140796,
     "end_time": "2021-12-13T05:43:02.678518",
     "exception": false,
     "start_time": "2021-12-13T05:42:11.537722",
     "status": "completed"
    },
    "tags": []
   },
   "outputs": [
    {
     "name": "stdout",
     "output_type": "stream",
     "text": [
      "{'accuracy': 0.959275}\n"
     ]
    }
   ],
   "source": [
    "model = get_xgboost_model(params)\n",
    "model.fit(x_train, y_train, verbose=True)\n",
    "score = evaluate_model(model, x_test, y_test)\n",
    "print(score)"
   ]
  },
  {
   "cell_type": "code",
   "execution_count": 33,
   "id": "24c90014",
   "metadata": {
    "execution": {
     "iopub.execute_input": "2021-12-13T05:43:02.853356Z",
     "iopub.status.busy": "2021-12-13T05:43:02.852625Z",
     "iopub.status.idle": "2021-12-13T05:43:54.292123Z",
     "shell.execute_reply": "2021-12-13T05:43:54.292553Z"
    },
    "papermill": {
     "duration": 51.529626,
     "end_time": "2021-12-13T05:43:54.292698",
     "exception": false,
     "start_time": "2021-12-13T05:43:02.763072",
     "status": "completed"
    },
    "tags": []
   },
   "outputs": [
    {
     "name": "stdout",
     "output_type": "stream",
     "text": [
      "{'accuracy': 0.959275}\n"
     ]
    }
   ],
   "source": [
    "params = {'n_estimators' : n_estimators,\n",
    "          'max_depth' : max_depth,\n",
    "          'subsample' : subsample,\n",
    "          'eta' : eta, \n",
    "          'colsample_bytree' : colsample_bytree,\n",
    "          'gamma' : gamma,\n",
    "          'min_child_weight' : min_child_weight,\n",
    "          'reg_alpha' : reg_alpha}\n",
    "model = get_xgboost_model(params)\n",
    "model.fit(x_train, y_train, verbose=True)\n",
    "score = evaluate_model(model, x_test, y_test)\n",
    "print(score)"
   ]
  },
  {
   "cell_type": "markdown",
   "id": "8fa5d9d3",
   "metadata": {
    "papermill": {
     "duration": 0.086732,
     "end_time": "2021-12-13T05:43:54.467281",
     "exception": false,
     "start_time": "2021-12-13T05:43:54.380549",
     "status": "completed"
    },
    "tags": []
   },
   "source": [
    "# Submission"
   ]
  },
  {
   "cell_type": "code",
   "execution_count": 34,
   "id": "53ed6c04",
   "metadata": {
    "execution": {
     "iopub.execute_input": "2021-12-13T05:43:54.656434Z",
     "iopub.status.busy": "2021-12-13T05:43:54.655805Z",
     "iopub.status.idle": "2021-12-13T05:44:09.516861Z",
     "shell.execute_reply": "2021-12-13T05:44:09.518002Z"
    },
    "papermill": {
     "duration": 14.961334,
     "end_time": "2021-12-13T05:44:09.518233",
     "exception": false,
     "start_time": "2021-12-13T05:43:54.556899",
     "status": "completed"
    },
    "tags": []
   },
   "outputs": [],
   "source": [
    "train_df = pd.read_csv('/kaggle/input/tabular-playground-series-dec-2021/train.csv', sep=',')\n",
    "x_train = train_df.drop(['Id', 'Soil_Type7','Soil_Type15', 'Cover_Type'], axis=1)\n",
    "y_train = train_df['Cover_Type']\n",
    "x_train['mean'] = np.mean(x_train, axis=1)\n",
    "x_train, x_test, y_train, y_test = train_test_split(x_train, y_train, test_size=0.2, random_state=seed, shuffle=True)"
   ]
  },
  {
   "cell_type": "code",
   "execution_count": 35,
   "id": "6e559b78",
   "metadata": {
    "execution": {
     "iopub.execute_input": "2021-12-13T05:44:09.806320Z",
     "iopub.status.busy": "2021-12-13T05:44:09.805523Z",
     "iopub.status.idle": "2021-12-13T05:49:45.799530Z",
     "shell.execute_reply": "2021-12-13T05:49:45.799990Z"
    },
    "papermill": {
     "duration": 336.148181,
     "end_time": "2021-12-13T05:49:45.800267",
     "exception": false,
     "start_time": "2021-12-13T05:44:09.652086",
     "status": "completed"
    },
    "tags": []
   },
   "outputs": [
    {
     "name": "stdout",
     "output_type": "stream",
     "text": [
      "{'accuracy': 0.96060375}\n"
     ]
    }
   ],
   "source": [
    "params = {'n_estimators' : n_estimators,\n",
    "          'max_depth' : max_depth,\n",
    "          'subsample' : subsample,\n",
    "          'eta' : eta, \n",
    "          'colsample_bytree' : colsample_bytree,\n",
    "          'gamma' : gamma,\n",
    "          'min_child_weight' : min_child_weight,\n",
    "          'reg_alpha' : reg_alpha}\n",
    "        \n",
    "model = get_xgboost_model(params)\n",
    "model.fit(x_train, y_train, verbose=True)\n",
    "score = evaluate_model(model, x_test, y_test)\n",
    "print(score)"
   ]
  },
  {
   "cell_type": "code",
   "execution_count": 36,
   "id": "ff5656f6",
   "metadata": {
    "execution": {
     "iopub.execute_input": "2021-12-13T05:49:46.204627Z",
     "iopub.status.busy": "2021-12-13T05:49:46.201738Z",
     "iopub.status.idle": "2021-12-13T05:49:46.208932Z",
     "shell.execute_reply": "2021-12-13T05:49:46.209338Z"
    },
    "papermill": {
     "duration": 0.315867,
     "end_time": "2021-12-13T05:49:46.209495",
     "exception": false,
     "start_time": "2021-12-13T05:49:45.893628",
     "status": "completed"
    },
    "tags": []
   },
   "outputs": [
    {
     "data": {
      "text/plain": [
       "292"
      ]
     },
     "execution_count": 36,
     "metadata": {},
     "output_type": "execute_result"
    }
   ],
   "source": [
    "del train_df, x_train, y_train, x_test, y_test\n",
    "gc.collect()"
   ]
  },
  {
   "cell_type": "code",
   "execution_count": 37,
   "id": "df0db068",
   "metadata": {
    "execution": {
     "iopub.execute_input": "2021-12-13T05:49:46.386878Z",
     "iopub.status.busy": "2021-12-13T05:49:46.386250Z",
     "iopub.status.idle": "2021-12-13T05:49:50.497169Z",
     "shell.execute_reply": "2021-12-13T05:49:50.496690Z"
    },
    "papermill": {
     "duration": 4.201468,
     "end_time": "2021-12-13T05:49:50.497333",
     "exception": false,
     "start_time": "2021-12-13T05:49:46.295865",
     "status": "completed"
    },
    "tags": []
   },
   "outputs": [],
   "source": [
    "test_df = pd.read_csv('/kaggle/input/tabular-playground-series-dec-2021/test.csv', sep=',')\n",
    "x_test = test_df.drop(['Id', 'Soil_Type7','Soil_Type15'], axis=1)\n",
    "x_test['mean'] = np.mean(x_test, axis=1)"
   ]
  },
  {
   "cell_type": "code",
   "execution_count": 38,
   "id": "1b4f05bd",
   "metadata": {
    "execution": {
     "iopub.execute_input": "2021-12-13T05:49:50.724155Z",
     "iopub.status.busy": "2021-12-13T05:49:50.723377Z",
     "iopub.status.idle": "2021-12-13T05:49:54.892501Z",
     "shell.execute_reply": "2021-12-13T05:49:54.891547Z"
    },
    "papermill": {
     "duration": 4.306994,
     "end_time": "2021-12-13T05:49:54.892651",
     "exception": false,
     "start_time": "2021-12-13T05:49:50.585657",
     "status": "completed"
    },
    "tags": []
   },
   "outputs": [],
   "source": [
    "target = model.predict(x_test).squeeze()\n",
    "ids = test_df['Id'].values\n",
    "submission_xgboost = pd.DataFrame({'Id' : ids, 'Cover_Type' : target})"
   ]
  },
  {
   "cell_type": "code",
   "execution_count": 39,
   "id": "ab0c4488",
   "metadata": {
    "execution": {
     "iopub.execute_input": "2021-12-13T05:49:55.078112Z",
     "iopub.status.busy": "2021-12-13T05:49:55.077254Z",
     "iopub.status.idle": "2021-12-13T05:49:55.089330Z",
     "shell.execute_reply": "2021-12-13T05:49:55.088886Z"
    },
    "papermill": {
     "duration": 0.102342,
     "end_time": "2021-12-13T05:49:55.089452",
     "exception": false,
     "start_time": "2021-12-13T05:49:54.987110",
     "status": "completed"
    },
    "tags": []
   },
   "outputs": [
    {
     "data": {
      "text/html": [
       "<div>\n",
       "<style scoped>\n",
       "    .dataframe tbody tr th:only-of-type {\n",
       "        vertical-align: middle;\n",
       "    }\n",
       "\n",
       "    .dataframe tbody tr th {\n",
       "        vertical-align: top;\n",
       "    }\n",
       "\n",
       "    .dataframe thead th {\n",
       "        text-align: right;\n",
       "    }\n",
       "</style>\n",
       "<table border=\"1\" class=\"dataframe\">\n",
       "  <thead>\n",
       "    <tr style=\"text-align: right;\">\n",
       "      <th></th>\n",
       "      <th>Id</th>\n",
       "      <th>Cover_Type</th>\n",
       "    </tr>\n",
       "  </thead>\n",
       "  <tbody>\n",
       "    <tr>\n",
       "      <th>0</th>\n",
       "      <td>4000000</td>\n",
       "      <td>2</td>\n",
       "    </tr>\n",
       "    <tr>\n",
       "      <th>1</th>\n",
       "      <td>4000001</td>\n",
       "      <td>2</td>\n",
       "    </tr>\n",
       "    <tr>\n",
       "      <th>2</th>\n",
       "      <td>4000002</td>\n",
       "      <td>2</td>\n",
       "    </tr>\n",
       "    <tr>\n",
       "      <th>3</th>\n",
       "      <td>4000003</td>\n",
       "      <td>2</td>\n",
       "    </tr>\n",
       "    <tr>\n",
       "      <th>4</th>\n",
       "      <td>4000004</td>\n",
       "      <td>2</td>\n",
       "    </tr>\n",
       "  </tbody>\n",
       "</table>\n",
       "</div>"
      ],
      "text/plain": [
       "        Id  Cover_Type\n",
       "0  4000000           2\n",
       "1  4000001           2\n",
       "2  4000002           2\n",
       "3  4000003           2\n",
       "4  4000004           2"
      ]
     },
     "execution_count": 39,
     "metadata": {},
     "output_type": "execute_result"
    }
   ],
   "source": [
    "submission_xgboost.head()"
   ]
  },
  {
   "cell_type": "code",
   "execution_count": 40,
   "id": "bbd7ea91",
   "metadata": {
    "execution": {
     "iopub.execute_input": "2021-12-13T05:49:55.266584Z",
     "iopub.status.busy": "2021-12-13T05:49:55.265942Z",
     "iopub.status.idle": "2021-12-13T05:49:56.906310Z",
     "shell.execute_reply": "2021-12-13T05:49:56.905374Z"
    },
    "papermill": {
     "duration": 1.729888,
     "end_time": "2021-12-13T05:49:56.906467",
     "exception": false,
     "start_time": "2021-12-13T05:49:55.176579",
     "status": "completed"
    },
    "tags": []
   },
   "outputs": [],
   "source": [
    "submission_xgboost.to_csv('submission_xgboost.csv', index=False) # score 0.95378"
   ]
  },
  {
   "cell_type": "code",
   "execution_count": 41,
   "id": "fae82667",
   "metadata": {
    "execution": {
     "iopub.execute_input": "2021-12-13T05:49:57.302874Z",
     "iopub.status.busy": "2021-12-13T05:49:57.302275Z",
     "iopub.status.idle": "2021-12-13T05:49:57.307591Z",
     "shell.execute_reply": "2021-12-13T05:49:57.307078Z"
    },
    "papermill": {
     "duration": 0.313054,
     "end_time": "2021-12-13T05:49:57.307716",
     "exception": false,
     "start_time": "2021-12-13T05:49:56.994662",
     "status": "completed"
    },
    "tags": []
   },
   "outputs": [
    {
     "data": {
      "text/plain": [
       "42"
      ]
     },
     "execution_count": 41,
     "metadata": {},
     "output_type": "execute_result"
    }
   ],
   "source": [
    "del test_df, x_test\n",
    "gc.collect()"
   ]
  },
  {
   "cell_type": "markdown",
   "id": "6d182558",
   "metadata": {
    "papermill": {
     "duration": 0.08852,
     "end_time": "2021-12-13T05:49:57.486159",
     "exception": false,
     "start_time": "2021-12-13T05:49:57.397639",
     "status": "completed"
    },
    "tags": []
   },
   "source": [
    "# Neural Network Baseline"
   ]
  },
  {
   "cell_type": "code",
   "execution_count": 42,
   "id": "98a2a655",
   "metadata": {
    "execution": {
     "iopub.execute_input": "2021-12-13T05:49:57.666181Z",
     "iopub.status.busy": "2021-12-13T05:49:57.665650Z",
     "iopub.status.idle": "2021-12-13T05:50:02.686886Z",
     "shell.execute_reply": "2021-12-13T05:50:02.685984Z",
     "shell.execute_reply.started": "2021-12-06T23:13:12.354708Z"
    },
    "papermill": {
     "duration": 5.113296,
     "end_time": "2021-12-13T05:50:02.687022",
     "exception": false,
     "start_time": "2021-12-13T05:49:57.573726",
     "status": "completed"
    },
    "tags": []
   },
   "outputs": [],
   "source": [
    "train_df = pd.read_csv('/kaggle/input/tabular-playground-series-dec-2021/train.csv', sep=',', skiprows=skip)"
   ]
  },
  {
   "cell_type": "code",
   "execution_count": 43,
   "id": "b82b6e88",
   "metadata": {
    "execution": {
     "iopub.execute_input": "2021-12-13T05:50:02.907903Z",
     "iopub.status.busy": "2021-12-13T05:50:02.906954Z",
     "iopub.status.idle": "2021-12-13T05:50:03.473888Z",
     "shell.execute_reply": "2021-12-13T05:50:03.474989Z",
     "shell.execute_reply.started": "2021-12-12T02:04:09.724185Z"
    },
    "papermill": {
     "duration": 0.698454,
     "end_time": "2021-12-13T05:50:03.475230",
     "exception": false,
     "start_time": "2021-12-13T05:50:02.776776",
     "status": "completed"
    },
    "tags": []
   },
   "outputs": [],
   "source": [
    "scaler = StandardScaler()\n",
    "le = LabelEncoder()\n",
    "\n",
    "x_train = train_df.drop(['Id', 'Soil_Type7','Soil_Type15', 'Cover_Type'], axis=1)\n",
    "\n",
    "y_train = train_df['Cover_Type'].values \n",
    "y_train = le.fit_transform(y_train)\n",
    "x_train, x_test, y_train, y_test = train_test_split(x_train, y_train, test_size=0.2, random_state=seed, shuffle=True)\n",
    "x_train = scaler.fit_transform(x_train)\n",
    "x_test = scaler.transform(x_test)"
   ]
  },
  {
   "cell_type": "code",
   "execution_count": 44,
   "id": "4c79b716",
   "metadata": {
    "execution": {
     "iopub.execute_input": "2021-12-13T05:50:03.781170Z",
     "iopub.status.busy": "2021-12-13T05:50:03.780323Z",
     "iopub.status.idle": "2021-12-13T05:55:34.662870Z",
     "shell.execute_reply": "2021-12-13T05:55:34.663271Z",
     "shell.execute_reply.started": "2021-12-12T02:04:12.589874Z"
    },
    "papermill": {
     "duration": 331.043445,
     "end_time": "2021-12-13T05:55:34.663455",
     "exception": false,
     "start_time": "2021-12-13T05:50:03.620010",
     "status": "completed"
    },
    "tags": []
   },
   "outputs": [
    {
     "name": "stderr",
     "output_type": "stream",
     "text": [
      "2021-12-13 05:50:04.800350: I tensorflow/stream_executor/cuda/cuda_gpu_executor.cc:937] successful NUMA node read from SysFS had negative value (-1), but there must be at least one NUMA node, so returning NUMA node zero\n",
      "2021-12-13 05:50:04.801514: I tensorflow/stream_executor/cuda/cuda_gpu_executor.cc:937] successful NUMA node read from SysFS had negative value (-1), but there must be at least one NUMA node, so returning NUMA node zero\n",
      "2021-12-13 05:50:04.802150: I tensorflow/stream_executor/cuda/cuda_gpu_executor.cc:937] successful NUMA node read from SysFS had negative value (-1), but there must be at least one NUMA node, so returning NUMA node zero\n",
      "2021-12-13 05:50:04.803801: I tensorflow/core/platform/cpu_feature_guard.cc:142] This TensorFlow binary is optimized with oneAPI Deep Neural Network Library (oneDNN) to use the following CPU instructions in performance-critical operations:  AVX2 AVX512F FMA\n",
      "To enable them in other operations, rebuild TensorFlow with the appropriate compiler flags.\n",
      "2021-12-13 05:50:04.805027: I tensorflow/stream_executor/cuda/cuda_gpu_executor.cc:937] successful NUMA node read from SysFS had negative value (-1), but there must be at least one NUMA node, so returning NUMA node zero\n",
      "2021-12-13 05:50:04.805755: I tensorflow/stream_executor/cuda/cuda_gpu_executor.cc:937] successful NUMA node read from SysFS had negative value (-1), but there must be at least one NUMA node, so returning NUMA node zero\n",
      "2021-12-13 05:50:04.806388: I tensorflow/stream_executor/cuda/cuda_gpu_executor.cc:937] successful NUMA node read from SysFS had negative value (-1), but there must be at least one NUMA node, so returning NUMA node zero\n",
      "2021-12-13 05:50:08.224792: I tensorflow/stream_executor/cuda/cuda_gpu_executor.cc:937] successful NUMA node read from SysFS had negative value (-1), but there must be at least one NUMA node, so returning NUMA node zero\n",
      "2021-12-13 05:50:08.225599: I tensorflow/stream_executor/cuda/cuda_gpu_executor.cc:937] successful NUMA node read from SysFS had negative value (-1), but there must be at least one NUMA node, so returning NUMA node zero\n",
      "2021-12-13 05:50:08.226245: I tensorflow/stream_executor/cuda/cuda_gpu_executor.cc:937] successful NUMA node read from SysFS had negative value (-1), but there must be at least one NUMA node, so returning NUMA node zero\n",
      "2021-12-13 05:50:08.226842: I tensorflow/core/common_runtime/gpu/gpu_device.cc:1510] Created device /job:localhost/replica:0/task:0/device:GPU:0 with 14501 MB memory:  -> device: 0, name: Tesla P100-PCIE-16GB, pci bus id: 0000:00:04.0, compute capability: 6.0\n",
      "2021-12-13 05:50:08.720291: I tensorflow/compiler/mlir/mlir_graph_optimization_pass.cc:185] None of the MLIR Optimization Passes are enabled (registered 2)\n"
     ]
    },
    {
     "name": "stdout",
     "output_type": "stream",
     "text": [
      "Epoch 1/20\n",
      "10000/10000 [==============================] - 16s 2ms/step - loss: 0.4644 - sparse_categorical_accuracy: 0.8672\n",
      "Epoch 2/20\n",
      "10000/10000 [==============================] - 15s 2ms/step - loss: 0.2601 - sparse_categorical_accuracy: 0.9071\n",
      "Epoch 3/20\n",
      "10000/10000 [==============================] - 15s 1ms/step - loss: 0.2451 - sparse_categorical_accuracy: 0.9125\n",
      "Epoch 4/20\n",
      "10000/10000 [==============================] - 16s 2ms/step - loss: 0.2395 - sparse_categorical_accuracy: 0.9143\n",
      "Epoch 5/20\n",
      "10000/10000 [==============================] - 15s 1ms/step - loss: 0.2366 - sparse_categorical_accuracy: 0.9150\n",
      "Epoch 6/20\n",
      "10000/10000 [==============================] - 16s 2ms/step - loss: 0.2350 - sparse_categorical_accuracy: 0.9152\n",
      "Epoch 7/20\n",
      "10000/10000 [==============================] - 15s 2ms/step - loss: 0.2338 - sparse_categorical_accuracy: 0.9157\n",
      "Epoch 8/20\n",
      "10000/10000 [==============================] - 16s 2ms/step - loss: 0.2332 - sparse_categorical_accuracy: 0.9158\n",
      "Epoch 9/20\n",
      "10000/10000 [==============================] - 15s 2ms/step - loss: 0.2326 - sparse_categorical_accuracy: 0.9159\n",
      "Epoch 10/20\n",
      "10000/10000 [==============================] - 16s 2ms/step - loss: 0.2321 - sparse_categorical_accuracy: 0.9161\n",
      "Epoch 11/20\n",
      "10000/10000 [==============================] - 16s 2ms/step - loss: 0.2319 - sparse_categorical_accuracy: 0.9160\n",
      "Epoch 12/20\n",
      "10000/10000 [==============================] - 16s 2ms/step - loss: 0.2315 - sparse_categorical_accuracy: 0.9160\n",
      "Epoch 13/20\n",
      "10000/10000 [==============================] - 15s 2ms/step - loss: 0.2313 - sparse_categorical_accuracy: 0.9162\n",
      "Epoch 14/20\n",
      "10000/10000 [==============================] - 16s 2ms/step - loss: 0.2311 - sparse_categorical_accuracy: 0.9162\n",
      "Epoch 15/20\n",
      "10000/10000 [==============================] - 16s 2ms/step - loss: 0.2310 - sparse_categorical_accuracy: 0.9163\n",
      "Epoch 16/20\n",
      "10000/10000 [==============================] - 16s 2ms/step - loss: 0.2307 - sparse_categorical_accuracy: 0.9161\n",
      "Epoch 17/20\n",
      "10000/10000 [==============================] - 15s 2ms/step - loss: 0.2307 - sparse_categorical_accuracy: 0.9163\n",
      "Epoch 18/20\n",
      "10000/10000 [==============================] - 16s 2ms/step - loss: 0.2306 - sparse_categorical_accuracy: 0.9164\n",
      "Epoch 19/20\n",
      "10000/10000 [==============================] - 16s 2ms/step - loss: 0.2304 - sparse_categorical_accuracy: 0.9162\n",
      "Epoch 20/20\n",
      "10000/10000 [==============================] - 16s 2ms/step - loss: 0.2305 - sparse_categorical_accuracy: 0.9164\n",
      "2500/2500 [==============================] - 4s 1ms/step - loss: 0.2257 - sparse_categorical_accuracy: 0.9180\n"
     ]
    },
    {
     "data": {
      "text/plain": [
       "[0.22573627531528473, 0.918037474155426]"
      ]
     },
     "execution_count": 44,
     "metadata": {},
     "output_type": "execute_result"
    }
   ],
   "source": [
    "model = tf.keras.Sequential()\n",
    "model.add(tf.keras.layers.Dense(units=7, activation='softmax'))\n",
    "model.compile(\"adam\", \"sparse_categorical_crossentropy\", metrics=[\"accuracy\"])\n",
    "\n",
    "model.compile(optimizer=tf.keras.optimizers.Adam(), \n",
    "               loss=tf.losses.SparseCategoricalCrossentropy(from_logits=True),\n",
    "                metrics=[tf.metrics.SparseCategoricalAccuracy()])\n",
    "\n",
    "model.fit(x_train, y_train, batch_size=32, epochs=20)\n",
    "model.evaluate(x_test, y_test)"
   ]
  },
  {
   "cell_type": "markdown",
   "id": "c00d2faa",
   "metadata": {
    "papermill": {
     "duration": 1.696332,
     "end_time": "2021-12-13T05:55:38.068127",
     "exception": false,
     "start_time": "2021-12-13T05:55:36.371795",
     "status": "completed"
    },
    "tags": []
   },
   "source": [
    "<h3>Feature Engineering Neural Network Model</h3>"
   ]
  },
  {
   "cell_type": "code",
   "execution_count": 45,
   "id": "26e05f95",
   "metadata": {
    "execution": {
     "iopub.execute_input": "2021-12-13T05:55:41.564512Z",
     "iopub.status.busy": "2021-12-13T05:55:41.563537Z",
     "iopub.status.idle": "2021-12-13T06:19:09.895142Z",
     "shell.execute_reply": "2021-12-13T06:19:09.895632Z",
     "shell.execute_reply.started": "2021-12-06T20:44:00.924872Z"
    },
    "papermill": {
     "duration": 1410.129796,
     "end_time": "2021-12-13T06:19:09.895788",
     "exception": false,
     "start_time": "2021-12-13T05:55:39.765992",
     "status": "completed"
    },
    "tags": []
   },
   "outputs": [
    {
     "name": "stdout",
     "output_type": "stream",
     "text": [
      ">mean: 0.917763\n",
      ">std: 0.920187\n",
      ">var: 0.919288\n",
      ">geo_mean: 0.917925\n",
      ">harmonic_mean: 0.919088\n",
      ">median: 0.917938\n",
      ">None_feature_engineering: 0.917512\n",
      "Best Result:  std 0.9201874732971191\n"
     ]
    }
   ],
   "source": [
    "scaler = StandardScaler()\n",
    "le = LabelEncoder()\n",
    "\n",
    "results, names = list(), list()\n",
    "\n",
    "for key in funcs.keys():\n",
    "    x_train = train_df.drop(['Id', 'Soil_Type7','Soil_Type15', 'Cover_Type'], axis=1)\n",
    "    if funcs[key] is not None:\n",
    "        x_train[key] = funcs[key](x_train, axis=1)\n",
    "    y_train = train_df['Cover_Type'].values\n",
    "    y_train = le.fit_transform(y_train)\n",
    "    x_train, x_test, y_train, y_test = train_test_split(x_train, y_train, test_size = 0.2, random_state = seed, shuffle=True)\n",
    "    x_train = scaler.fit_transform(x_train.values)\n",
    "    x_test = scaler.transform(x_test)    \n",
    "    model = get_nn_model()\n",
    "    model.fit(x_train, y_train, batch_size=32, epochs=15, verbose=0)\n",
    "    result = model.evaluate(x_test, y_test, verbose=0)[1]\n",
    "    names.append(key)\n",
    "    results.append(result)\n",
    "    \n",
    "for name, score in zip(names, results):\n",
    "    print('>%s: %f' % (name, score))\n",
    "\n",
    "index = np.argmax(results)\n",
    "print(\"Best Result: \", names[index], results[index])"
   ]
  },
  {
   "cell_type": "markdown",
   "id": "4e6e834a",
   "metadata": {
    "papermill": {
     "duration": 1.911152,
     "end_time": "2021-12-13T06:19:13.807200",
     "exception": false,
     "start_time": "2021-12-13T06:19:11.896048",
     "status": "completed"
    },
    "tags": []
   },
   "source": [
    "<h3>Neural Network Pipelines</h3>"
   ]
  },
  {
   "cell_type": "code",
   "execution_count": 46,
   "id": "d4f550c7",
   "metadata": {
    "execution": {
     "iopub.execute_input": "2021-12-13T06:19:17.331234Z",
     "iopub.status.busy": "2021-12-13T06:19:17.330391Z",
     "iopub.status.idle": "2021-12-13T06:19:17.332691Z",
     "shell.execute_reply": "2021-12-13T06:19:17.332283Z",
     "shell.execute_reply.started": "2021-12-06T23:29:16.125011Z"
    },
    "papermill": {
     "duration": 1.745169,
     "end_time": "2021-12-13T06:19:17.332820",
     "exception": false,
     "start_time": "2021-12-13T06:19:15.587651",
     "status": "completed"
    },
    "tags": []
   },
   "outputs": [],
   "source": [
    "transformers = {'Min-Max-Scaler': MinMaxScaler(), \n",
    "                'Standard-Scaler': StandardScaler(),\n",
    "                'QuantileTransformer': QuantileTransformer(n_quantiles=100, output_distribution='normal'),\n",
    "                'PCA': PCA(),\n",
    "                'TruncatedSVD': TruncatedSVD(),\n",
    "                'PowerTransformer': PowerTransformer(),\n",
    "                'No-transformer': None}"
   ]
  },
  {
   "cell_type": "code",
   "execution_count": 47,
   "id": "2cab71a6",
   "metadata": {
    "execution": {
     "iopub.execute_input": "2021-12-13T06:19:20.820796Z",
     "iopub.status.busy": "2021-12-13T06:19:20.819578Z",
     "iopub.status.idle": "2021-12-13T06:40:11.288201Z",
     "shell.execute_reply": "2021-12-13T06:40:11.288714Z",
     "shell.execute_reply.started": "2021-12-06T23:31:15.513863Z"
    },
    "papermill": {
     "duration": 1252.237991,
     "end_time": "2021-12-13T06:40:11.288872",
     "exception": false,
     "start_time": "2021-12-13T06:19:19.050881",
     "status": "completed"
    },
    "tags": []
   },
   "outputs": [
    {
     "name": "stdout",
     "output_type": "stream",
     "text": [
      ">Min-Max-Scaler: 0.904275\n",
      ">Standard-Scaler: 0.918650\n",
      ">QuantileTransformer: 0.902375\n",
      ">PCA: 0.883762\n",
      ">TruncatedSVD: 0.559200\n",
      ">PowerTransformer: 0.915987\n",
      ">No-transformer: 0.813275\n",
      "Best Result:  Standard-Scaler 0.9186499714851379\n"
     ]
    }
   ],
   "source": [
    "results, names = list(), list()\n",
    "\n",
    "for key in transformers.keys():\n",
    "    x_train = train_df.drop(['Id', 'Soil_Type7','Soil_Type15', 'Cover_Type'], axis=1)\n",
    "    y_train = train_df['Cover_Type'].values\n",
    "    y_train = le.fit_transform(y_train)\n",
    "    x_train, x_test, y_train, y_test = train_test_split(x_train, y_train, test_size=0.2, random_state=seed, shuffle=True)\n",
    "    \n",
    "    if transformers[key] is not None:\n",
    "        x_train = transformers[key].fit_transform(x_train.values)\n",
    "        x_test = transformers[key].transform(x_test)    \n",
    "    \n",
    "    model = get_nn_model()\n",
    "    model.fit(x_train, y_train, batch_size=32, epochs=15, verbose=0)\n",
    "    result = model.evaluate(x_test, y_test, verbose=0)[1]\n",
    "    names.append(key)\n",
    "    results.append(result)\n",
    "    \n",
    "for name, score in zip(names, results):\n",
    "    print('>%s: %f' % (name, score))\n",
    "\n",
    "index = np.argmax(results)\n",
    "print(\"Best Result: \", names[index], results[index])"
   ]
  },
  {
   "cell_type": "markdown",
   "id": "4ca49c9f",
   "metadata": {
    "papermill": {
     "duration": 1.740533,
     "end_time": "2021-12-13T06:40:14.767087",
     "exception": false,
     "start_time": "2021-12-13T06:40:13.026554",
     "status": "completed"
    },
    "tags": []
   },
   "source": [
    "# Neural Network - Testing different configurations"
   ]
  },
  {
   "cell_type": "code",
   "execution_count": 48,
   "id": "e74bfeb1",
   "metadata": {
    "execution": {
     "iopub.execute_input": "2021-12-13T06:40:18.572209Z",
     "iopub.status.busy": "2021-12-13T06:40:18.571399Z",
     "iopub.status.idle": "2021-12-13T06:40:19.179538Z",
     "shell.execute_reply": "2021-12-13T06:40:19.177806Z",
     "shell.execute_reply.started": "2021-12-12T02:09:59.168784Z"
    },
    "papermill": {
     "duration": 2.390793,
     "end_time": "2021-12-13T06:40:19.179745",
     "exception": false,
     "start_time": "2021-12-13T06:40:16.788952",
     "status": "completed"
    },
    "tags": []
   },
   "outputs": [],
   "source": [
    "scaler = StandardScaler()\n",
    "le = LabelEncoder()\n",
    "x_train = train_df.drop(['Id', 'Soil_Type7','Soil_Type15', 'Cover_Type'], axis=1)\n",
    "y_train = train_df['Cover_Type'].values \n",
    "x_train['std'] = np.std(x_train, axis=1)\n",
    "y_train = le.fit_transform(y_train)\n",
    "x_train, x_test, y_train, y_test = train_test_split(x_train, y_train, test_size=0.2, random_state=seed, shuffle=True)\n",
    "x_train = scaler.fit_transform(x_train)\n",
    "x_test = scaler.transform(x_test)"
   ]
  },
  {
   "cell_type": "markdown",
   "id": "7c0ac0c0",
   "metadata": {
    "papermill": {
     "duration": 1.70979,
     "end_time": "2021-12-13T06:40:23.112601",
     "exception": false,
     "start_time": "2021-12-13T06:40:21.402811",
     "status": "completed"
    },
    "tags": []
   },
   "source": [
    "# 1 - Testing different number o layers"
   ]
  },
  {
   "cell_type": "code",
   "execution_count": 49,
   "id": "072b288b",
   "metadata": {
    "execution": {
     "iopub.execute_input": "2021-12-13T06:40:26.535756Z",
     "iopub.status.busy": "2021-12-13T06:40:26.534848Z",
     "iopub.status.idle": "2021-12-13T06:40:26.536495Z",
     "shell.execute_reply": "2021-12-13T06:40:26.536935Z",
     "shell.execute_reply.started": "2021-12-12T02:10:00.464325Z"
    },
    "papermill": {
     "duration": 1.714518,
     "end_time": "2021-12-13T06:40:26.537069",
     "exception": false,
     "start_time": "2021-12-13T06:40:24.822551",
     "status": "completed"
    },
    "tags": []
   },
   "outputs": [],
   "source": [
    "def get_models_n_layers():\n",
    "    models = dict()\n",
    "    for n_layers in [0, 1, 2, 3, 4, 5, 6, 7, 8 ,9, 10]:\n",
    "        models[n_layers] = get_nn_model(n_layers=n_layers)\n",
    "    return models"
   ]
  },
  {
   "cell_type": "code",
   "execution_count": 50,
   "id": "3eeb8750",
   "metadata": {
    "execution": {
     "iopub.execute_input": "2021-12-13T06:40:30.276070Z",
     "iopub.status.busy": "2021-12-13T06:40:30.275159Z",
     "iopub.status.idle": "2021-12-13T07:32:04.832051Z",
     "shell.execute_reply": "2021-12-13T07:32:04.832593Z",
     "shell.execute_reply.started": "2021-12-12T02:10:02.213514Z"
    },
    "papermill": {
     "duration": 3096.333816,
     "end_time": "2021-12-13T07:32:04.832750",
     "exception": false,
     "start_time": "2021-12-13T06:40:28.498934",
     "status": "completed"
    },
    "tags": []
   },
   "outputs": [
    {
     "name": "stdout",
     "output_type": "stream",
     "text": [
      "0 accuracy: 0.921\n",
      "1 accuracy: 0.948\n",
      "2 accuracy: 0.954\n",
      "3 accuracy: 0.956\n",
      "4 accuracy: 0.955\n",
      "5 accuracy: 0.955\n",
      "6 accuracy: 0.954\n",
      "7 accuracy: 0.955\n",
      "8 accuracy: 0.953\n",
      "9 accuracy: 0.955\n",
      "10 accuracy: 0.952\n",
      "Best number of layers 3\n"
     ]
    }
   ],
   "source": [
    "models =  get_models_n_layers()\n",
    "results, names = list(), list()\n",
    "\n",
    "for i, (name, model) in enumerate(models.items()):\n",
    "    model.fit(x_train, y_train, batch_size=32, epochs=15, verbose=0)\n",
    "    result = model.evaluate(x_test, y_test, verbose=0)[1]\n",
    "    results.append(result)\n",
    "    names.append(name)\n",
    "    print(name, 'accuracy: %.3f' % (results[i]))\n",
    "\n",
    "index = np.argmax(results)\n",
    "n_layers = int(names[index])\n",
    "print(\"Best number of layers\", n_layers)"
   ]
  },
  {
   "cell_type": "markdown",
   "id": "41842b44",
   "metadata": {
    "papermill": {
     "duration": 1.748325,
     "end_time": "2021-12-13T07:32:08.308885",
     "exception": false,
     "start_time": "2021-12-13T07:32:06.560560",
     "status": "completed"
    },
    "tags": []
   },
   "source": [
    "# 2 - Testing different number of units"
   ]
  },
  {
   "cell_type": "code",
   "execution_count": 51,
   "id": "10c71d4a",
   "metadata": {
    "execution": {
     "iopub.execute_input": "2021-12-13T07:32:12.068414Z",
     "iopub.status.busy": "2021-12-13T07:32:12.067500Z",
     "iopub.status.idle": "2021-12-13T07:32:12.069243Z",
     "shell.execute_reply": "2021-12-13T07:32:12.069661Z",
     "shell.execute_reply.started": "2021-12-12T03:03:19.623899Z"
    },
    "papermill": {
     "duration": 1.738999,
     "end_time": "2021-12-13T07:32:12.069798",
     "exception": false,
     "start_time": "2021-12-13T07:32:10.330799",
     "status": "completed"
    },
    "tags": []
   },
   "outputs": [],
   "source": [
    "def get_models_n_units():\n",
    "    models = dict()\n",
    "    for n_units in [8, 16, 32, 64, 128, 256, 512, 1024, 2048]:\n",
    "        models[n_units] = get_nn_model(n_layers=n_layers, n_units=n_units)\n",
    "    return models"
   ]
  },
  {
   "cell_type": "code",
   "execution_count": 52,
   "id": "d6ef3e5b",
   "metadata": {
    "execution": {
     "iopub.execute_input": "2021-12-13T07:32:15.632885Z",
     "iopub.status.busy": "2021-12-13T07:32:15.631900Z",
     "iopub.status.idle": "2021-12-13T08:10:41.373882Z",
     "shell.execute_reply": "2021-12-13T08:10:41.374373Z",
     "shell.execute_reply.started": "2021-12-12T03:28:55.904371Z"
    },
    "papermill": {
     "duration": 2307.578112,
     "end_time": "2021-12-13T08:10:41.374530",
     "exception": false,
     "start_time": "2021-12-13T07:32:13.796418",
     "status": "completed"
    },
    "tags": []
   },
   "outputs": [
    {
     "name": "stdout",
     "output_type": "stream",
     "text": [
      "8 accuracy: 0.947\n",
      "16 accuracy: 0.951\n",
      "32 accuracy: 0.956\n",
      "64 accuracy: 0.956\n",
      "128 accuracy: 0.953\n",
      "256 accuracy: 0.954\n",
      "512 accuracy: 0.954\n",
      "1024 accuracy: 0.954\n",
      "2048 accuracy: 0.954\n",
      "Best number of units 64\n"
     ]
    }
   ],
   "source": [
    "models =  get_models_n_units()\n",
    "results, names = list(), list()\n",
    "\n",
    "for i, (name, model) in enumerate(models.items()):\n",
    "    model.fit(x_train, y_train, batch_size=32, epochs=15, verbose=0)\n",
    "    result = model.evaluate(x_test, y_test, verbose=0)[1]\n",
    "    results.append(result)\n",
    "    names.append(name)\n",
    "    print(name, 'accuracy: %.3f' % (results[i]))\n",
    "\n",
    "index = np.argmax(results)\n",
    "n_units = int(names[index])\n",
    "print(\"Best number of units\", n_units)"
   ]
  },
  {
   "cell_type": "markdown",
   "id": "4f9f7da7",
   "metadata": {
    "papermill": {
     "duration": 1.693528,
     "end_time": "2021-12-13T08:10:44.834180",
     "exception": false,
     "start_time": "2021-12-13T08:10:43.140652",
     "status": "completed"
    },
    "tags": []
   },
   "source": [
    "# 3 - Testing different activation functions"
   ]
  },
  {
   "cell_type": "code",
   "execution_count": 53,
   "id": "9d646437",
   "metadata": {
    "execution": {
     "iopub.execute_input": "2021-12-13T08:10:48.269497Z",
     "iopub.status.busy": "2021-12-13T08:10:48.267855Z",
     "iopub.status.idle": "2021-12-13T08:10:48.270099Z",
     "shell.execute_reply": "2021-12-13T08:10:48.270541Z",
     "shell.execute_reply.started": "2021-12-12T04:09:17.981969Z"
    },
    "papermill": {
     "duration": 1.722596,
     "end_time": "2021-12-13T08:10:48.270684",
     "exception": false,
     "start_time": "2021-12-13T08:10:46.548088",
     "status": "completed"
    },
    "tags": []
   },
   "outputs": [],
   "source": [
    "def get_models_n_activations():\n",
    "    models = dict()\n",
    "    for activation in [\"swish\", \"relu\", \"selu\", \"softplus\", \"elu\"]:\n",
    "        models[activation] = get_nn_model(n_layers=n_layers, n_units=n_units, activation=activation)\n",
    "    return models"
   ]
  },
  {
   "cell_type": "code",
   "execution_count": 54,
   "id": "5cfddfd5",
   "metadata": {
    "execution": {
     "iopub.execute_input": "2021-12-13T08:10:51.943967Z",
     "iopub.status.busy": "2021-12-13T08:10:51.943061Z",
     "iopub.status.idle": "2021-12-13T08:33:04.739395Z",
     "shell.execute_reply": "2021-12-13T08:33:04.739853Z",
     "shell.execute_reply.started": "2021-12-12T04:09:18.362279Z"
    },
    "papermill": {
     "duration": 1334.695636,
     "end_time": "2021-12-13T08:33:04.740001",
     "exception": false,
     "start_time": "2021-12-13T08:10:50.044365",
     "status": "completed"
    },
    "tags": []
   },
   "outputs": [
    {
     "name": "stdout",
     "output_type": "stream",
     "text": [
      "swish accuracy: 0.953\n",
      "relu accuracy: 0.955\n",
      "selu accuracy: 0.953\n",
      "softplus accuracy: 0.956\n",
      "elu accuracy: 0.954\n",
      "Best activation function softplus\n"
     ]
    }
   ],
   "source": [
    "models = get_models_n_activations()\n",
    "results, names = list(), list()\n",
    "\n",
    "for i, (name, model) in enumerate(models.items()):\n",
    "    model.fit(x_train, y_train, batch_size=32, epochs=15, verbose=0)\n",
    "    result = model.evaluate(x_test, y_test, verbose=0)[1]\n",
    "    results.append(result)\n",
    "    names.append(name)\n",
    "    print(name, 'accuracy: %.3f' % (results[i]))\n",
    "\n",
    "index = np.argmax(results)\n",
    "activation = names[index]\n",
    "print(\"Best activation function\", activation)"
   ]
  },
  {
   "cell_type": "markdown",
   "id": "f55d5a41",
   "metadata": {
    "papermill": {
     "duration": 1.727486,
     "end_time": "2021-12-13T08:33:08.240901",
     "exception": false,
     "start_time": "2021-12-13T08:33:06.513415",
     "status": "completed"
    },
    "tags": []
   },
   "source": [
    "# 4 testing different number of batch"
   ]
  },
  {
   "cell_type": "code",
   "execution_count": 55,
   "id": "00e1f1e4",
   "metadata": {
    "execution": {
     "iopub.execute_input": "2021-12-13T08:33:11.733378Z",
     "iopub.status.busy": "2021-12-13T08:33:11.732441Z",
     "iopub.status.idle": "2021-12-13T09:11:43.144091Z",
     "shell.execute_reply": "2021-12-13T09:11:43.144602Z",
     "shell.execute_reply.started": "2021-12-12T04:37:06.545911Z"
    },
    "papermill": {
     "duration": 2313.1611,
     "end_time": "2021-12-13T09:11:43.144760",
     "exception": false,
     "start_time": "2021-12-13T08:33:09.983660",
     "status": "completed"
    },
    "tags": []
   },
   "outputs": [
    {
     "name": "stdout",
     "output_type": "stream",
     "text": [
      "8 accuracy: 0.954\n",
      "16 accuracy: 0.955\n",
      "32 accuracy: 0.955\n",
      "64 accuracy: 0.955\n",
      "128 accuracy: 0.956\n",
      "256 accuracy: 0.955\n",
      "512 accuracy: 0.955\n",
      "Best batch_size 128\n"
     ]
    }
   ],
   "source": [
    "results, names = list(), list()\n",
    "batches = [8, 16, 32, 64, 128, 256, 512]\n",
    "\n",
    "for i, (name, batch_size) in enumerate(zip(batches, batches)):\n",
    "    get_nn_model(n_layers=n_layers, n_units=n_units, activation=activation)\n",
    "    model.fit(x_train, y_train, batch_size=batch_size, epochs=15, verbose=0)\n",
    "    result = model.evaluate(x_test, y_test, verbose=0)[1]\n",
    "    results.append(result)\n",
    "    names.append(name)\n",
    "    print(name, 'accuracy: %.3f' % (results[i]))\n",
    "\n",
    "index = np.argmax(results)\n",
    "batch_size = int(names[index])\n",
    "print(\"Best batch_size\", batch_size)"
   ]
  },
  {
   "cell_type": "code",
   "execution_count": 56,
   "id": "5228d712",
   "metadata": {
    "execution": {
     "iopub.execute_input": "2021-12-13T09:11:46.686955Z",
     "iopub.status.busy": "2021-12-13T09:11:46.686160Z",
     "iopub.status.idle": "2021-12-13T09:11:46.689387Z",
     "shell.execute_reply": "2021-12-13T09:11:46.689783Z",
     "shell.execute_reply.started": "2021-12-12T05:39:01.274886Z"
    },
    "papermill": {
     "duration": 1.762971,
     "end_time": "2021-12-13T09:11:46.689936",
     "exception": false,
     "start_time": "2021-12-13T09:11:44.926965",
     "status": "completed"
    },
    "tags": []
   },
   "outputs": [
    {
     "name": "stdout",
     "output_type": "stream",
     "text": [
      "Best parameters\n",
      "n_layers: 3\n",
      "n_units: 64\n",
      "activation: softplus\n",
      "batch_size: 128\n"
     ]
    }
   ],
   "source": [
    "print(\"Best parameters\")\n",
    "print(\"n_layers:\", n_layers)\n",
    "print(\"n_units:\", n_units)\n",
    "print(\"activation:\", activation)\n",
    "print(\"batch_size:\", batch_size)"
   ]
  },
  {
   "cell_type": "markdown",
   "id": "9603ec7c",
   "metadata": {
    "papermill": {
     "duration": 1.78305,
     "end_time": "2021-12-13T09:11:50.282264",
     "exception": false,
     "start_time": "2021-12-13T09:11:48.499214",
     "status": "completed"
    },
    "tags": []
   },
   "source": [
    "# Submission"
   ]
  },
  {
   "cell_type": "code",
   "execution_count": 57,
   "id": "f5bf9fd4",
   "metadata": {
    "execution": {
     "iopub.execute_input": "2021-12-13T09:11:54.049143Z",
     "iopub.status.busy": "2021-12-13T09:11:54.048488Z",
     "iopub.status.idle": "2021-12-13T09:11:59.581702Z",
     "shell.execute_reply": "2021-12-13T09:11:59.580738Z",
     "shell.execute_reply.started": "2021-12-12T05:18:36.90864Z"
    },
    "papermill": {
     "duration": 7.545033,
     "end_time": "2021-12-13T09:11:59.581866",
     "exception": false,
     "start_time": "2021-12-13T09:11:52.036833",
     "status": "completed"
    },
    "tags": []
   },
   "outputs": [],
   "source": [
    "train_df = pd.read_csv('/kaggle/input/tabular-playground-series-dec-2021/train.csv', sep=',', skiprows=skip)\n",
    "scaler = StandardScaler()\n",
    "le = LabelEncoder()\n",
    "x_train = train_df.drop(['Id', 'Soil_Type7','Soil_Type15', 'Cover_Type'], axis=1)\n",
    "y_train = train_df['Cover_Type'].values \n",
    "x_train['std'] = np.std(x_train, axis=1)\n",
    "y_train = le.fit_transform(y_train)\n",
    "x_train, x_test, y_train, y_test = train_test_split(x_train, y_train, test_size=0.2, random_state=seed, shuffle=True)\n",
    "x_train = scaler.fit_transform(x_train)\n",
    "x_test = scaler.transform(x_test)"
   ]
  },
  {
   "cell_type": "code",
   "execution_count": 58,
   "id": "1a870cea",
   "metadata": {
    "execution": {
     "iopub.execute_input": "2021-12-13T09:12:03.077552Z",
     "iopub.status.busy": "2021-12-13T09:12:03.076564Z",
     "iopub.status.idle": "2021-12-13T09:13:28.133037Z",
     "shell.execute_reply": "2021-12-13T09:13:28.133496Z",
     "shell.execute_reply.started": "2021-12-12T05:18:43.33998Z"
    },
    "papermill": {
     "duration": 86.815834,
     "end_time": "2021-12-13T09:13:28.133661",
     "exception": false,
     "start_time": "2021-12-13T09:12:01.317827",
     "status": "completed"
    },
    "tags": []
   },
   "outputs": [
    {
     "name": "stdout",
     "output_type": "stream",
     "text": [
      "Epoch 1/15\n",
      "2500/2500 [==============================] - 5s 2ms/step - loss: 0.2387 - sparse_categorical_accuracy: 0.9097\n",
      "Epoch 2/15\n",
      "2500/2500 [==============================] - 5s 2ms/step - loss: 0.1604 - sparse_categorical_accuracy: 0.9357\n",
      "Epoch 3/15\n",
      "2500/2500 [==============================] - 5s 2ms/step - loss: 0.1398 - sparse_categorical_accuracy: 0.9432\n",
      "Epoch 4/15\n",
      "2500/2500 [==============================] - 5s 2ms/step - loss: 0.1301 - sparse_categorical_accuracy: 0.9466\n",
      "Epoch 5/15\n",
      "2500/2500 [==============================] - 5s 2ms/step - loss: 0.1245 - sparse_categorical_accuracy: 0.9485\n",
      "Epoch 6/15\n",
      "2500/2500 [==============================] - 5s 2ms/step - loss: 0.1200 - sparse_categorical_accuracy: 0.9498\n",
      "Epoch 7/15\n",
      "2500/2500 [==============================] - 6s 2ms/step - loss: 0.1165 - sparse_categorical_accuracy: 0.9508\n",
      "Epoch 8/15\n",
      "2500/2500 [==============================] - 5s 2ms/step - loss: 0.1127 - sparse_categorical_accuracy: 0.9525\n",
      "Epoch 9/15\n",
      "2500/2500 [==============================] - 5s 2ms/step - loss: 0.1104 - sparse_categorical_accuracy: 0.9531\n",
      "Epoch 10/15\n",
      "2500/2500 [==============================] - 5s 2ms/step - loss: 0.1082 - sparse_categorical_accuracy: 0.9540\n",
      "Epoch 11/15\n",
      "2500/2500 [==============================] - 5s 2ms/step - loss: 0.1057 - sparse_categorical_accuracy: 0.9548\n",
      "Epoch 12/15\n",
      "2500/2500 [==============================] - 5s 2ms/step - loss: 0.1041 - sparse_categorical_accuracy: 0.9550\n",
      "Epoch 13/15\n",
      "2500/2500 [==============================] - 5s 2ms/step - loss: 0.1021 - sparse_categorical_accuracy: 0.9559\n",
      "Epoch 14/15\n",
      "2500/2500 [==============================] - 6s 2ms/step - loss: 0.1009 - sparse_categorical_accuracy: 0.9566\n",
      "Epoch 15/15\n",
      "2500/2500 [==============================] - 5s 2ms/step - loss: 0.0994 - sparse_categorical_accuracy: 0.9570\n",
      "0.9544000029563904\n"
     ]
    }
   ],
   "source": [
    "model = get_nn_model(n_layers=n_layers, n_units=n_units, activation=activation)\n",
    "model.fit(x_train, y_train, batch_size=batch_size, epochs=15)\n",
    "score = model.evaluate(x_test, y_test, verbose=0)[1]\n",
    "print(score)"
   ]
  },
  {
   "cell_type": "code",
   "execution_count": 59,
   "id": "b5b0af6e",
   "metadata": {
    "execution": {
     "iopub.execute_input": "2021-12-13T09:13:32.895887Z",
     "iopub.status.busy": "2021-12-13T09:13:32.895013Z",
     "iopub.status.idle": "2021-12-13T09:13:33.032780Z",
     "shell.execute_reply": "2021-12-13T09:13:33.033207Z",
     "shell.execute_reply.started": "2021-12-12T05:21:19.405997Z"
    },
    "papermill": {
     "duration": 2.780938,
     "end_time": "2021-12-13T09:13:33.033387",
     "exception": false,
     "start_time": "2021-12-13T09:13:30.252449",
     "status": "completed"
    },
    "tags": []
   },
   "outputs": [
    {
     "data": {
      "text/plain": [
       "26462"
      ]
     },
     "execution_count": 59,
     "metadata": {},
     "output_type": "execute_result"
    }
   ],
   "source": [
    "del train_df, x_train, y_train, x_test, y_test\n",
    "gc.collect()"
   ]
  },
  {
   "cell_type": "code",
   "execution_count": 60,
   "id": "820549f6",
   "metadata": {
    "execution": {
     "iopub.execute_input": "2021-12-13T09:13:37.289650Z",
     "iopub.status.busy": "2021-12-13T09:13:37.289105Z",
     "iopub.status.idle": "2021-12-13T09:13:40.469066Z",
     "shell.execute_reply": "2021-12-13T09:13:40.468608Z",
     "shell.execute_reply.started": "2021-12-12T05:21:29.30677Z"
    },
    "papermill": {
     "duration": 5.300703,
     "end_time": "2021-12-13T09:13:40.469193",
     "exception": false,
     "start_time": "2021-12-13T09:13:35.168490",
     "status": "completed"
    },
    "tags": []
   },
   "outputs": [],
   "source": [
    "test_df = pd.read_csv('/kaggle/input/tabular-playground-series-dec-2021/test.csv', sep=',')\n",
    "x_test = test_df.drop(['Id', 'Soil_Type7','Soil_Type15'], axis=1)\n",
    "x_test['std'] = np.std(x_test, axis=1)\n",
    "x_test = scaler.transform(x_test)"
   ]
  },
  {
   "cell_type": "code",
   "execution_count": 61,
   "id": "06c490cd",
   "metadata": {
    "execution": {
     "iopub.execute_input": "2021-12-13T09:13:45.115558Z",
     "iopub.status.busy": "2021-12-13T09:13:45.114676Z",
     "iopub.status.idle": "2021-12-13T09:14:11.288776Z",
     "shell.execute_reply": "2021-12-13T09:14:11.288265Z",
     "shell.execute_reply.started": "2021-12-12T05:50:02.455701Z"
    },
    "papermill": {
     "duration": 28.598578,
     "end_time": "2021-12-13T09:14:11.288932",
     "exception": false,
     "start_time": "2021-12-13T09:13:42.690354",
     "status": "completed"
    },
    "tags": []
   },
   "outputs": [],
   "source": [
    "preds = model.predict(x_test)\n",
    "target = np.argmax(preds, axis=-1)\n",
    "ids = test_df['Id'].values\n",
    "submission_nn = pd.DataFrame({'Id' : ids, 'Cover_Type' : target + 1})"
   ]
  },
  {
   "cell_type": "code",
   "execution_count": 62,
   "id": "5476605e",
   "metadata": {
    "execution": {
     "iopub.execute_input": "2021-12-13T09:14:15.575196Z",
     "iopub.status.busy": "2021-12-13T09:14:15.573384Z",
     "iopub.status.idle": "2021-12-13T09:14:15.580876Z",
     "shell.execute_reply": "2021-12-13T09:14:15.580386Z",
     "shell.execute_reply.started": "2021-12-12T05:54:35.822866Z"
    },
    "papermill": {
     "duration": 2.156907,
     "end_time": "2021-12-13T09:14:15.581007",
     "exception": false,
     "start_time": "2021-12-13T09:14:13.424100",
     "status": "completed"
    },
    "tags": []
   },
   "outputs": [],
   "source": [
    "submission_nn = pd.DataFrame({'Id' : ids, 'Cover_Type' : target + 1})"
   ]
  },
  {
   "cell_type": "code",
   "execution_count": 63,
   "id": "de4afbbb",
   "metadata": {
    "execution": {
     "iopub.execute_input": "2021-12-13T09:14:20.205073Z",
     "iopub.status.busy": "2021-12-13T09:14:20.204109Z",
     "iopub.status.idle": "2021-12-13T09:14:20.208336Z",
     "shell.execute_reply": "2021-12-13T09:14:20.207899Z",
     "shell.execute_reply.started": "2021-12-12T05:54:41.183892Z"
    },
    "papermill": {
     "duration": 2.198864,
     "end_time": "2021-12-13T09:14:20.208460",
     "exception": false,
     "start_time": "2021-12-13T09:14:18.009596",
     "status": "completed"
    },
    "tags": []
   },
   "outputs": [
    {
     "data": {
      "text/html": [
       "<div>\n",
       "<style scoped>\n",
       "    .dataframe tbody tr th:only-of-type {\n",
       "        vertical-align: middle;\n",
       "    }\n",
       "\n",
       "    .dataframe tbody tr th {\n",
       "        vertical-align: top;\n",
       "    }\n",
       "\n",
       "    .dataframe thead th {\n",
       "        text-align: right;\n",
       "    }\n",
       "</style>\n",
       "<table border=\"1\" class=\"dataframe\">\n",
       "  <thead>\n",
       "    <tr style=\"text-align: right;\">\n",
       "      <th></th>\n",
       "      <th>Id</th>\n",
       "      <th>Cover_Type</th>\n",
       "    </tr>\n",
       "  </thead>\n",
       "  <tbody>\n",
       "    <tr>\n",
       "      <th>0</th>\n",
       "      <td>4000000</td>\n",
       "      <td>2</td>\n",
       "    </tr>\n",
       "    <tr>\n",
       "      <th>1</th>\n",
       "      <td>4000001</td>\n",
       "      <td>2</td>\n",
       "    </tr>\n",
       "    <tr>\n",
       "      <th>2</th>\n",
       "      <td>4000002</td>\n",
       "      <td>2</td>\n",
       "    </tr>\n",
       "    <tr>\n",
       "      <th>3</th>\n",
       "      <td>4000003</td>\n",
       "      <td>2</td>\n",
       "    </tr>\n",
       "    <tr>\n",
       "      <th>4</th>\n",
       "      <td>4000004</td>\n",
       "      <td>2</td>\n",
       "    </tr>\n",
       "  </tbody>\n",
       "</table>\n",
       "</div>"
      ],
      "text/plain": [
       "        Id  Cover_Type\n",
       "0  4000000           2\n",
       "1  4000001           2\n",
       "2  4000002           2\n",
       "3  4000003           2\n",
       "4  4000004           2"
      ]
     },
     "execution_count": 63,
     "metadata": {},
     "output_type": "execute_result"
    }
   ],
   "source": [
    "submission_nn.head()"
   ]
  },
  {
   "cell_type": "code",
   "execution_count": 64,
   "id": "d484aea6",
   "metadata": {
    "execution": {
     "iopub.execute_input": "2021-12-13T09:14:25.002852Z",
     "iopub.status.busy": "2021-12-13T09:14:25.002105Z",
     "iopub.status.idle": "2021-12-13T09:14:26.711576Z",
     "shell.execute_reply": "2021-12-13T09:14:26.711024Z",
     "shell.execute_reply.started": "2021-12-12T05:54:42.771377Z"
    },
    "papermill": {
     "duration": 3.837964,
     "end_time": "2021-12-13T09:14:26.711723",
     "exception": false,
     "start_time": "2021-12-13T09:14:22.873759",
     "status": "completed"
    },
    "tags": []
   },
   "outputs": [],
   "source": [
    "submission_nn.to_csv('submission_nn.csv', index=False) # score 0.93079"
   ]
  },
  {
   "cell_type": "code",
   "execution_count": 65,
   "id": "ca91c55d",
   "metadata": {
    "execution": {
     "iopub.execute_input": "2021-12-13T09:14:31.517997Z",
     "iopub.status.busy": "2021-12-13T09:14:31.517105Z",
     "iopub.status.idle": "2021-12-13T09:14:31.522835Z",
     "shell.execute_reply": "2021-12-13T09:14:31.523385Z",
     "shell.execute_reply.started": "2021-12-12T05:51:13.359932Z"
    },
    "papermill": {
     "duration": 2.37359,
     "end_time": "2021-12-13T09:14:31.523545",
     "exception": false,
     "start_time": "2021-12-13T09:14:29.149955",
     "status": "completed"
    },
    "tags": []
   },
   "outputs": [
    {
     "data": {
      "text/plain": [
       "799"
      ]
     },
     "execution_count": 65,
     "metadata": {},
     "output_type": "execute_result"
    }
   ],
   "source": [
    "del test_df, x_test\n",
    "gc.collect()"
   ]
  },
  {
   "cell_type": "markdown",
   "id": "fd6c75fc",
   "metadata": {
    "papermill": {
     "duration": 2.225878,
     "end_time": "2021-12-13T09:14:35.862622",
     "exception": false,
     "start_time": "2021-12-13T09:14:33.636744",
     "status": "completed"
    },
    "tags": []
   },
   "source": [
    "# Ensemble XGBoost and Neural Network"
   ]
  },
  {
   "cell_type": "code",
   "execution_count": 66,
   "id": "c58841ba",
   "metadata": {
    "execution": {
     "iopub.execute_input": "2021-12-13T09:14:40.506190Z",
     "iopub.status.busy": "2021-12-13T09:14:40.505038Z",
     "iopub.status.idle": "2021-12-13T09:14:40.820979Z",
     "shell.execute_reply": "2021-12-13T09:14:40.820424Z",
     "shell.execute_reply.started": "2021-12-12T05:54:19.164348Z"
    },
    "papermill": {
     "duration": 2.784463,
     "end_time": "2021-12-13T09:14:40.821120",
     "exception": false,
     "start_time": "2021-12-13T09:14:38.036657",
     "status": "completed"
    },
    "tags": []
   },
   "outputs": [],
   "source": [
    "df_submission_xgboost = pd.read_csv('submission_xgboost.csv')\n",
    "df_submission_nn = pd.read_csv('submission_nn.csv')\n",
    "ids = df_submission_xgboost['Id'].values\n",
    "submission_ensemble = pd.DataFrame({'Id' : ids,\n",
    "                           'Cover_Type' : np.array(df_submission_xgboost['Cover_Type'].values + df_submission_nn['Cover_Type'].values)//2})\n"
   ]
  },
  {
   "cell_type": "code",
   "execution_count": 67,
   "id": "3039816b",
   "metadata": {
    "execution": {
     "iopub.execute_input": "2021-12-13T09:14:45.102446Z",
     "iopub.status.busy": "2021-12-13T09:14:45.101284Z",
     "iopub.status.idle": "2021-12-13T09:14:45.105044Z",
     "shell.execute_reply": "2021-12-13T09:14:45.104552Z"
    },
    "papermill": {
     "duration": 2.192348,
     "end_time": "2021-12-13T09:14:45.105174",
     "exception": false,
     "start_time": "2021-12-13T09:14:42.912826",
     "status": "completed"
    },
    "tags": []
   },
   "outputs": [
    {
     "data": {
      "text/html": [
       "<div>\n",
       "<style scoped>\n",
       "    .dataframe tbody tr th:only-of-type {\n",
       "        vertical-align: middle;\n",
       "    }\n",
       "\n",
       "    .dataframe tbody tr th {\n",
       "        vertical-align: top;\n",
       "    }\n",
       "\n",
       "    .dataframe thead th {\n",
       "        text-align: right;\n",
       "    }\n",
       "</style>\n",
       "<table border=\"1\" class=\"dataframe\">\n",
       "  <thead>\n",
       "    <tr style=\"text-align: right;\">\n",
       "      <th></th>\n",
       "      <th>Id</th>\n",
       "      <th>Cover_Type</th>\n",
       "    </tr>\n",
       "  </thead>\n",
       "  <tbody>\n",
       "    <tr>\n",
       "      <th>0</th>\n",
       "      <td>4000000</td>\n",
       "      <td>2</td>\n",
       "    </tr>\n",
       "    <tr>\n",
       "      <th>1</th>\n",
       "      <td>4000001</td>\n",
       "      <td>2</td>\n",
       "    </tr>\n",
       "    <tr>\n",
       "      <th>2</th>\n",
       "      <td>4000002</td>\n",
       "      <td>2</td>\n",
       "    </tr>\n",
       "    <tr>\n",
       "      <th>3</th>\n",
       "      <td>4000003</td>\n",
       "      <td>2</td>\n",
       "    </tr>\n",
       "    <tr>\n",
       "      <th>4</th>\n",
       "      <td>4000004</td>\n",
       "      <td>2</td>\n",
       "    </tr>\n",
       "  </tbody>\n",
       "</table>\n",
       "</div>"
      ],
      "text/plain": [
       "        Id  Cover_Type\n",
       "0  4000000           2\n",
       "1  4000001           2\n",
       "2  4000002           2\n",
       "3  4000003           2\n",
       "4  4000004           2"
      ]
     },
     "execution_count": 67,
     "metadata": {},
     "output_type": "execute_result"
    }
   ],
   "source": [
    "submission_ensemble .head()"
   ]
  },
  {
   "cell_type": "code",
   "execution_count": 68,
   "id": "5b833cac",
   "metadata": {
    "execution": {
     "iopub.execute_input": "2021-12-13T09:14:49.681501Z",
     "iopub.status.busy": "2021-12-13T09:14:49.680256Z",
     "iopub.status.idle": "2021-12-13T09:14:51.375430Z",
     "shell.execute_reply": "2021-12-13T09:14:51.374937Z"
    },
    "papermill": {
     "duration": 4.164611,
     "end_time": "2021-12-13T09:14:51.375568",
     "exception": false,
     "start_time": "2021-12-13T09:14:47.210957",
     "status": "completed"
    },
    "tags": []
   },
   "outputs": [],
   "source": [
    "submission_ensemble.to_csv('submission_ensemble.csv', index=False) # 0.93155"
   ]
  },
  {
   "cell_type": "markdown",
   "id": "ac5f4311",
   "metadata": {
    "papermill": {
     "duration": 2.673002,
     "end_time": "2021-12-13T09:14:56.171780",
     "exception": false,
     "start_time": "2021-12-13T09:14:53.498778",
     "status": "completed"
    },
    "tags": []
   },
   "source": [
    "# Submission Best Model - XGboost"
   ]
  },
  {
   "cell_type": "code",
   "execution_count": 69,
   "id": "9b9af617",
   "metadata": {
    "execution": {
     "iopub.execute_input": "2021-12-13T09:15:00.668902Z",
     "iopub.status.busy": "2021-12-13T09:15:00.668122Z",
     "iopub.status.idle": "2021-12-13T09:15:02.364943Z",
     "shell.execute_reply": "2021-12-13T09:15:02.364067Z"
    },
    "papermill": {
     "duration": 4.074222,
     "end_time": "2021-12-13T09:15:02.365079",
     "exception": false,
     "start_time": "2021-12-13T09:14:58.290857",
     "status": "completed"
    },
    "tags": []
   },
   "outputs": [],
   "source": [
    "submission_xgboost.to_csv('submission.csv', index=False)"
   ]
  }
 ],
 "metadata": {
  "kernelspec": {
   "display_name": "Python 3",
   "language": "python",
   "name": "python3"
  },
  "language_info": {
   "codemirror_mode": {
    "name": "ipython",
    "version": 3
   },
   "file_extension": ".py",
   "mimetype": "text/x-python",
   "name": "python",
   "nbconvert_exporter": "python",
   "pygments_lexer": "ipython3",
   "version": "3.7.12"
  },
  "papermill": {
   "default_parameters": {},
   "duration": 19190.651241,
   "end_time": "2021-12-13T09:15:07.888197",
   "environment_variables": {},
   "exception": null,
   "input_path": "__notebook__.ipynb",
   "output_path": "__notebook__.ipynb",
   "parameters": {},
   "start_time": "2021-12-13T03:55:17.236956",
   "version": "2.3.3"
  }
 },
 "nbformat": 4,
 "nbformat_minor": 5
}
