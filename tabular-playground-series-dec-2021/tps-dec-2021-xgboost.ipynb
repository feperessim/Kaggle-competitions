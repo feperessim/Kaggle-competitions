{
 "cells": [
  {
   "cell_type": "code",
   "execution_count": 1,
   "id": "06a0580a",
   "metadata": {
    "_cell_guid": "b1076dfc-b9ad-4769-8c92-a6c4dae69d19",
    "_uuid": "8f2839f25d086af736a60e9eeb907d3b93b6e0e5",
    "execution": {
     "iopub.execute_input": "2021-12-14T04:33:06.683635Z",
     "iopub.status.busy": "2021-12-14T04:33:06.682150Z",
     "iopub.status.idle": "2021-12-14T04:33:06.696008Z",
     "shell.execute_reply": "2021-12-14T04:33:06.695316Z",
     "shell.execute_reply.started": "2021-12-14T03:49:45.512916Z"
    },
    "papermill": {
     "duration": 0.029414,
     "end_time": "2021-12-14T04:33:06.696195",
     "exception": false,
     "start_time": "2021-12-14T04:33:06.666781",
     "status": "completed"
    },
    "tags": []
   },
   "outputs": [
    {
     "name": "stdout",
     "output_type": "stream",
     "text": [
      "/kaggle/input/tabular-playground-series-dec-2021/sample_submission.csv\n",
      "/kaggle/input/tabular-playground-series-dec-2021/train.csv\n",
      "/kaggle/input/tabular-playground-series-dec-2021/test.csv\n"
     ]
    }
   ],
   "source": [
    "# This Python 3 environment comes with many helpful analytics libraries installed\n",
    "# It is defined by the kaggle/python Docker image: https://github.com/kaggle/docker-python\n",
    "# For example, here's several helpful packages to load\n",
    "\n",
    "import numpy as np # linear algebra\n",
    "import pandas as pd # data processing, CSV file I/O (e.g. pd.read_csv)\n",
    "\n",
    "# Input data files are available in the read-only \"../input/\" directory\n",
    "# For example, running this (by clicking run or pressing Shift+Enter) will list all files under the input directory\n",
    "\n",
    "import os\n",
    "for dirname, _, filenames in os.walk('/kaggle/input'):\n",
    "    for filename in filenames:\n",
    "        print(os.path.join(dirname, filename))\n",
    "\n",
    "# You can write up to 20GB to the current directory (/kaggle/working/) that gets preserved as output when you create a version using \"Save & Run All\" \n",
    "# You can also write temporary files to /kaggle/temp/, but they won't be saved outside of the current session"
   ]
  },
  {
   "cell_type": "code",
   "execution_count": 2,
   "id": "93bc97ea",
   "metadata": {
    "execution": {
     "iopub.execute_input": "2021-12-14T04:33:06.722967Z",
     "iopub.status.busy": "2021-12-14T04:33:06.722314Z",
     "iopub.status.idle": "2021-12-14T04:33:07.699832Z",
     "shell.execute_reply": "2021-12-14T04:33:07.698906Z",
     "shell.execute_reply.started": "2021-12-14T04:01:22.720537Z"
    },
    "papermill": {
     "duration": 0.992238,
     "end_time": "2021-12-14T04:33:07.699976",
     "exception": false,
     "start_time": "2021-12-14T04:33:06.707738",
     "status": "completed"
    },
    "tags": []
   },
   "outputs": [],
   "source": [
    "import random\n",
    "import warnings\n",
    "import gc\n",
    "\n",
    "from sklearn.preprocessing import LabelEncoder\n",
    "from sklearn.preprocessing import StandardScaler\n",
    "from sklearn.model_selection import train_test_split\n",
    "from sklearn.metrics import accuracy_score\n",
    "\n",
    "from xgboost import XGBClassifier\n",
    "\n",
    "warnings.filterwarnings(\"ignore\")"
   ]
  },
  {
   "cell_type": "code",
   "execution_count": 3,
   "id": "ec14e930",
   "metadata": {
    "execution": {
     "iopub.execute_input": "2021-12-14T04:33:07.726303Z",
     "iopub.status.busy": "2021-12-14T04:33:07.724554Z",
     "iopub.status.idle": "2021-12-14T04:33:07.726897Z",
     "shell.execute_reply": "2021-12-14T04:33:07.727334Z",
     "shell.execute_reply.started": "2021-12-14T03:49:52.140747Z"
    },
    "papermill": {
     "duration": 0.016879,
     "end_time": "2021-12-14T04:33:07.727475",
     "exception": false,
     "start_time": "2021-12-14T04:33:07.710596",
     "status": "completed"
    },
    "tags": []
   },
   "outputs": [],
   "source": [
    "seed=47"
   ]
  },
  {
   "cell_type": "code",
   "execution_count": 4,
   "id": "32d8eabf",
   "metadata": {
    "execution": {
     "iopub.execute_input": "2021-12-14T04:33:07.753582Z",
     "iopub.status.busy": "2021-12-14T04:33:07.752758Z",
     "iopub.status.idle": "2021-12-14T04:33:07.754617Z",
     "shell.execute_reply": "2021-12-14T04:33:07.755018Z",
     "shell.execute_reply.started": "2021-12-14T04:00:56.228916Z"
    },
    "papermill": {
     "duration": 0.01699,
     "end_time": "2021-12-14T04:33:07.755169",
     "exception": false,
     "start_time": "2021-12-14T04:33:07.738179",
     "status": "completed"
    },
    "tags": []
   },
   "outputs": [],
   "source": [
    "def evaluate_model(model, x, y):\n",
    "    y_pred_prob = model.predict(x)\n",
    "    acc = accuracy_score(y, y_pred_prob)\n",
    "    return {'accuracy' : acc}"
   ]
  },
  {
   "cell_type": "code",
   "execution_count": 5,
   "id": "95ad1e1c",
   "metadata": {
    "execution": {
     "iopub.execute_input": "2021-12-14T04:33:07.780483Z",
     "iopub.status.busy": "2021-12-14T04:33:07.779929Z",
     "iopub.status.idle": "2021-12-14T04:33:25.112234Z",
     "shell.execute_reply": "2021-12-14T04:33:25.111708Z",
     "shell.execute_reply.started": "2021-12-14T04:21:22.488863Z"
    },
    "papermill": {
     "duration": 17.346668,
     "end_time": "2021-12-14T04:33:25.112389",
     "exception": false,
     "start_time": "2021-12-14T04:33:07.765721",
     "status": "completed"
    },
    "tags": []
   },
   "outputs": [],
   "source": [
    "train_df = pd.read_csv('/kaggle/input/tabular-playground-series-dec-2021/train.csv', sep=',')"
   ]
  },
  {
   "cell_type": "code",
   "execution_count": 6,
   "id": "bdf5c763",
   "metadata": {
    "execution": {
     "iopub.execute_input": "2021-12-14T04:33:25.755679Z",
     "iopub.status.busy": "2021-12-14T04:33:25.754749Z",
     "iopub.status.idle": "2021-12-14T04:33:29.310602Z",
     "shell.execute_reply": "2021-12-14T04:33:29.310065Z",
     "shell.execute_reply.started": "2021-12-14T04:21:33.561333Z"
    },
    "papermill": {
     "duration": 4.187348,
     "end_time": "2021-12-14T04:33:29.310740",
     "exception": false,
     "start_time": "2021-12-14T04:33:25.123392",
     "status": "completed"
    },
    "tags": []
   },
   "outputs": [],
   "source": [
    "x_train = train_df.drop(['Id', 'Soil_Type7','Soil_Type15', 'Cover_Type'], axis=1)\n",
    "y_train = train_df['Cover_Type']\n",
    "x_train['mean'] = np.mean(x_train, axis=1)\n",
    "x_train, x_test, y_train, y_test = train_test_split(x_train, y_train, test_size=0.2, random_state=seed, shuffle=True)"
   ]
  },
  {
   "cell_type": "code",
   "execution_count": 7,
   "id": "3e21f48f",
   "metadata": {
    "execution": {
     "iopub.execute_input": "2021-12-14T04:33:29.356398Z",
     "iopub.status.busy": "2021-12-14T04:33:29.354674Z",
     "iopub.status.idle": "2021-12-14T04:33:36.175844Z",
     "shell.execute_reply": "2021-12-14T04:33:36.175344Z",
     "shell.execute_reply.started": "2021-12-14T04:21:37.775586Z"
    },
    "papermill": {
     "duration": 6.85445,
     "end_time": "2021-12-14T04:33:36.175986",
     "exception": false,
     "start_time": "2021-12-14T04:33:29.321536",
     "status": "completed"
    },
    "tags": []
   },
   "outputs": [],
   "source": [
    "# https://www.kaggle.com/c/tabular-playground-series-dec-2021/discussion/293612\n",
    "\n",
    "def r(x):\n",
    "    if x+180>360:\n",
    "        return x-180\n",
    "    else:\n",
    "        return x+180\n",
    "\n",
    "def fe(df):\n",
    "    df['EHiElv'] = df['Horizontal_Distance_To_Roadways'] * df['Elevation']\n",
    "    df['EViElv'] = df['Vertical_Distance_To_Hydrology'] * df['Elevation']\n",
    "    df['Aspect2'] = df.Aspect.map(r)\n",
    "    ### source: https://www.kaggle.com/c/tabular-playground-series-dec-2021/discussion/293373\n",
    "    df[\"Aspect\"][df[\"Aspect\"] < 0] += 360\n",
    "    df[\"Aspect\"][df[\"Aspect\"] > 359] -= 360\n",
    "    df.loc[df[\"Hillshade_9am\"] < 0, \"Hillshade_9am\"] = 0\n",
    "    df.loc[df[\"Hillshade_Noon\"] < 0, \"Hillshade_Noon\"] = 0\n",
    "    df.loc[df[\"Hillshade_3pm\"] < 0, \"Hillshade_3pm\"] = 0\n",
    "    df.loc[df[\"Hillshade_9am\"] > 255, \"Hillshade_9am\"] = 255\n",
    "    df.loc[df[\"Hillshade_Noon\"] > 255, \"Hillshade_Noon\"] = 255\n",
    "    df.loc[df[\"Hillshade_3pm\"] > 255, \"Hillshade_3pm\"] = 255\n",
    "    ########\n",
    "    df['Highwater'] = (df.Vertical_Distance_To_Hydrology < 0).astype(int)\n",
    "    df['EVDtH'] = df.Elevation - df.Vertical_Distance_To_Hydrology\n",
    "    df['EHDtH'] = df.Elevation - df.Horizontal_Distance_To_Hydrology * 0.2\n",
    "    df['Euclidean_Distance_to_Hydrolody'] = (df['Horizontal_Distance_To_Hydrology']**2 + df['Vertical_Distance_To_Hydrology']**2)**0.5\n",
    "    df['Manhattan_Distance_to_Hydrolody'] = df['Horizontal_Distance_To_Hydrology'] + df['Vertical_Distance_To_Hydrology']\n",
    "    df['Hydro_Fire_1'] = df['Horizontal_Distance_To_Hydrology'] + df['Horizontal_Distance_To_Fire_Points']\n",
    "    df['Hydro_Fire_2'] = abs(df['Horizontal_Distance_To_Hydrology'] - df['Horizontal_Distance_To_Fire_Points'])\n",
    "    df['Hydro_Road_1'] = abs(df['Horizontal_Distance_To_Hydrology'] + df['Horizontal_Distance_To_Roadways'])\n",
    "    df['Hydro_Road_2'] = abs(df['Horizontal_Distance_To_Hydrology'] - df['Horizontal_Distance_To_Roadways'])\n",
    "    df['Fire_Road_1'] = abs(df['Horizontal_Distance_To_Fire_Points'] + df['Horizontal_Distance_To_Roadways'])\n",
    "    df['Fire_Road_2'] = abs(df['Horizontal_Distance_To_Fire_Points'] - df['Horizontal_Distance_To_Roadways'])\n",
    "    df['Hillshade_3pm_is_zero'] = (df.Hillshade_3pm == 0).astype(int)\n",
    "    return df\n",
    "\n",
    "x_train = fe(x_train)\n",
    "x_test = fe(x_test)\n",
    "\n",
    "# Summed features pointed out by @craigmthomas (https://www.kaggle.com/c/tabular-playground-series-dec-2021/discussion/292823)\n",
    "soil_features = [x for x in x_train.columns if x.startswith(\"Soil_Type\")]\n",
    "wilderness_features = [x for x in x_train.columns if x.startswith(\"Wilderness_Area\")]\n",
    "\n",
    "x_train[\"soil_type_count\"] = x_train[soil_features].sum(axis=1)\n",
    "x_test[\"soil_type_count\"] = x_test[soil_features].sum(axis=1)\n",
    "\n",
    "x_train[\"wilderness_area_count\"] = x_train[wilderness_features].sum(axis=1)\n",
    "x_test[\"wilderness_area_count\"] = x_test[wilderness_features].sum(axis=1)"
   ]
  },
  {
   "cell_type": "code",
   "execution_count": 8,
   "id": "a519862a",
   "metadata": {
    "execution": {
     "iopub.execute_input": "2021-12-14T04:33:36.204158Z",
     "iopub.status.busy": "2021-12-14T04:33:36.203422Z",
     "iopub.status.idle": "2021-12-14T04:40:49.840421Z",
     "shell.execute_reply": "2021-12-14T04:40:49.840863Z",
     "shell.execute_reply.started": "2021-12-14T04:22:21.038705Z"
    },
    "papermill": {
     "duration": 433.654234,
     "end_time": "2021-12-14T04:40:49.841026",
     "exception": false,
     "start_time": "2021-12-14T04:33:36.186792",
     "status": "completed"
    },
    "tags": []
   },
   "outputs": [
    {
     "name": "stdout",
     "output_type": "stream",
     "text": [
      "{'accuracy': 0.9612575}\n"
     ]
    }
   ],
   "source": [
    "params = {'n_estimators': 300, \n",
    "          'max_depth': 18, \n",
    "          'subsample': 1.0,\n",
    "          'eta': 0.3,\n",
    "          'colsample_bytree': 1.0,\n",
    "          'gamma': 0.0, \n",
    "          'min_child_weight': 1,\n",
    "          'reg_alpha': 1}\n",
    "\n",
    "\n",
    "model =  XGBClassifier(**params,\n",
    "                         objective='multi:softmax',\n",
    "                         random_state=seed, \n",
    "                         tree_method='gpu_hist', \n",
    "                         predictor='gpu_predictor',\n",
    "                         early_stopping_rounds=200,\n",
    "                         verbosity=0)\n",
    "model.fit(x_train, y_train, verbose=True)\n",
    "score = evaluate_model(model, x_test, y_test)\n",
    "print(score)"
   ]
  },
  {
   "cell_type": "code",
   "execution_count": 9,
   "id": "cfd0e5ec",
   "metadata": {
    "execution": {
     "iopub.execute_input": "2021-12-14T04:40:50.012047Z",
     "iopub.status.busy": "2021-12-14T04:40:50.011310Z",
     "iopub.status.idle": "2021-12-14T04:40:50.014589Z",
     "shell.execute_reply": "2021-12-14T04:40:50.014987Z",
     "shell.execute_reply.started": "2021-12-14T04:30:27.394701Z"
    },
    "papermill": {
     "duration": 0.163327,
     "end_time": "2021-12-14T04:40:50.015146",
     "exception": false,
     "start_time": "2021-12-14T04:40:49.851819",
     "status": "completed"
    },
    "tags": []
   },
   "outputs": [
    {
     "data": {
      "text/plain": [
       "88"
      ]
     },
     "execution_count": 9,
     "metadata": {},
     "output_type": "execute_result"
    }
   ],
   "source": [
    "del train_df, x_train, y_train, x_test, y_test\n",
    "gc.collect()"
   ]
  },
  {
   "cell_type": "code",
   "execution_count": 10,
   "id": "641e372d",
   "metadata": {
    "execution": {
     "iopub.execute_input": "2021-12-14T04:40:50.042763Z",
     "iopub.status.busy": "2021-12-14T04:40:50.042163Z",
     "iopub.status.idle": "2021-12-14T04:40:56.082619Z",
     "shell.execute_reply": "2021-12-14T04:40:56.082111Z",
     "shell.execute_reply.started": "2021-12-14T04:30:27.599831Z"
    },
    "papermill": {
     "duration": 6.056436,
     "end_time": "2021-12-14T04:40:56.082755",
     "exception": false,
     "start_time": "2021-12-14T04:40:50.026319",
     "status": "completed"
    },
    "tags": []
   },
   "outputs": [],
   "source": [
    "test_df = pd.read_csv('/kaggle/input/tabular-playground-series-dec-2021/test.csv', sep=',')\n",
    "x_test = test_df.drop(['Id', 'Soil_Type7','Soil_Type15'], axis=1)\n",
    "x_test['mean'] = np.mean(x_test, axis=1)\n",
    "\n",
    "x_test = fe(x_test)\n",
    "x_test[\"soil_type_count\"] = x_test[soil_features].sum(axis=1)\n",
    "x_test[\"wilderness_area_count\"] = x_test[wilderness_features].sum(axis=1)"
   ]
  },
  {
   "cell_type": "code",
   "execution_count": 11,
   "id": "07006026",
   "metadata": {
    "execution": {
     "iopub.execute_input": "2021-12-14T04:40:56.110791Z",
     "iopub.status.busy": "2021-12-14T04:40:56.110015Z",
     "iopub.status.idle": "2021-12-14T04:41:02.201168Z",
     "shell.execute_reply": "2021-12-14T04:41:02.202399Z",
     "shell.execute_reply.started": "2021-12-14T04:30:32.207699Z"
    },
    "papermill": {
     "duration": 6.108598,
     "end_time": "2021-12-14T04:41:02.202610",
     "exception": false,
     "start_time": "2021-12-14T04:40:56.094012",
     "status": "completed"
    },
    "tags": []
   },
   "outputs": [],
   "source": [
    "target = model.predict(x_test).squeeze()\n",
    "ids = test_df['Id'].values\n",
    "submission_xgboost = pd.DataFrame({'Id' : ids, 'Cover_Type' : target})"
   ]
  },
  {
   "cell_type": "code",
   "execution_count": 12,
   "id": "8680f408",
   "metadata": {
    "execution": {
     "iopub.execute_input": "2021-12-14T04:41:02.250240Z",
     "iopub.status.busy": "2021-12-14T04:41:02.249435Z",
     "iopub.status.idle": "2021-12-14T04:41:02.259423Z",
     "shell.execute_reply": "2021-12-14T04:41:02.260467Z",
     "shell.execute_reply.started": "2021-12-14T04:30:38.604977Z"
    },
    "papermill": {
     "duration": 0.035082,
     "end_time": "2021-12-14T04:41:02.260782",
     "exception": false,
     "start_time": "2021-12-14T04:41:02.225700",
     "status": "completed"
    },
    "tags": []
   },
   "outputs": [
    {
     "data": {
      "text/html": [
       "<div>\n",
       "<style scoped>\n",
       "    .dataframe tbody tr th:only-of-type {\n",
       "        vertical-align: middle;\n",
       "    }\n",
       "\n",
       "    .dataframe tbody tr th {\n",
       "        vertical-align: top;\n",
       "    }\n",
       "\n",
       "    .dataframe thead th {\n",
       "        text-align: right;\n",
       "    }\n",
       "</style>\n",
       "<table border=\"1\" class=\"dataframe\">\n",
       "  <thead>\n",
       "    <tr style=\"text-align: right;\">\n",
       "      <th></th>\n",
       "      <th>Id</th>\n",
       "      <th>Cover_Type</th>\n",
       "    </tr>\n",
       "  </thead>\n",
       "  <tbody>\n",
       "    <tr>\n",
       "      <th>0</th>\n",
       "      <td>4000000</td>\n",
       "      <td>2</td>\n",
       "    </tr>\n",
       "    <tr>\n",
       "      <th>1</th>\n",
       "      <td>4000001</td>\n",
       "      <td>2</td>\n",
       "    </tr>\n",
       "    <tr>\n",
       "      <th>2</th>\n",
       "      <td>4000002</td>\n",
       "      <td>2</td>\n",
       "    </tr>\n",
       "    <tr>\n",
       "      <th>3</th>\n",
       "      <td>4000003</td>\n",
       "      <td>2</td>\n",
       "    </tr>\n",
       "    <tr>\n",
       "      <th>4</th>\n",
       "      <td>4000004</td>\n",
       "      <td>2</td>\n",
       "    </tr>\n",
       "  </tbody>\n",
       "</table>\n",
       "</div>"
      ],
      "text/plain": [
       "        Id  Cover_Type\n",
       "0  4000000           2\n",
       "1  4000001           2\n",
       "2  4000002           2\n",
       "3  4000003           2\n",
       "4  4000004           2"
      ]
     },
     "execution_count": 12,
     "metadata": {},
     "output_type": "execute_result"
    }
   ],
   "source": [
    "submission_xgboost.head()"
   ]
  },
  {
   "cell_type": "code",
   "execution_count": 13,
   "id": "ba23a814",
   "metadata": {
    "execution": {
     "iopub.execute_input": "2021-12-14T04:41:02.311038Z",
     "iopub.status.busy": "2021-12-14T04:41:02.310238Z",
     "iopub.status.idle": "2021-12-14T04:41:03.996842Z",
     "shell.execute_reply": "2021-12-14T04:41:03.995854Z",
     "shell.execute_reply.started": "2021-12-14T04:30:38.625385Z"
    },
    "papermill": {
     "duration": 1.71659,
     "end_time": "2021-12-14T04:41:03.996991",
     "exception": false,
     "start_time": "2021-12-14T04:41:02.280401",
     "status": "completed"
    },
    "tags": []
   },
   "outputs": [],
   "source": [
    "submission_xgboost.to_csv('submission.csv', index=False)"
   ]
  },
  {
   "cell_type": "code",
   "execution_count": null,
   "id": "9a0f1a4b",
   "metadata": {
    "papermill": {
     "duration": 0.01158,
     "end_time": "2021-12-14T04:41:04.020261",
     "exception": false,
     "start_time": "2021-12-14T04:41:04.008681",
     "status": "completed"
    },
    "tags": []
   },
   "outputs": [],
   "source": []
  }
 ],
 "metadata": {
  "kernelspec": {
   "display_name": "Python 3",
   "language": "python",
   "name": "python3"
  },
  "language_info": {
   "codemirror_mode": {
    "name": "ipython",
    "version": 3
   },
   "file_extension": ".py",
   "mimetype": "text/x-python",
   "name": "python",
   "nbconvert_exporter": "python",
   "pygments_lexer": "ipython3",
   "version": "3.7.12"
  },
  "papermill": {
   "default_parameters": {},
   "duration": 486.762567,
   "end_time": "2021-12-14T04:41:05.342733",
   "environment_variables": {},
   "exception": null,
   "input_path": "__notebook__.ipynb",
   "output_path": "__notebook__.ipynb",
   "parameters": {},
   "start_time": "2021-12-14T04:32:58.580166",
   "version": "2.3.3"
  }
 },
 "nbformat": 4,
 "nbformat_minor": 5
}
