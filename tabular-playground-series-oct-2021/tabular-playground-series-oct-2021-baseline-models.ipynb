{
 "cells": [
  {
   "cell_type": "code",
   "execution_count": 1,
   "id": "d50a836b",
   "metadata": {
    "_cell_guid": "b1076dfc-b9ad-4769-8c92-a6c4dae69d19",
    "_uuid": "8f2839f25d086af736a60e9eeb907d3b93b6e0e5",
    "execution": {
     "iopub.execute_input": "2021-10-18T02:57:18.421314Z",
     "iopub.status.busy": "2021-10-18T02:57:18.419020Z",
     "iopub.status.idle": "2021-10-18T02:57:18.424634Z",
     "shell.execute_reply": "2021-10-18T02:57:18.425207Z",
     "shell.execute_reply.started": "2021-10-16T22:46:08.303268Z"
    },
    "papermill": {
     "duration": 0.132072,
     "end_time": "2021-10-18T02:57:18.425527",
     "exception": false,
     "start_time": "2021-10-18T02:57:18.293455",
     "status": "completed"
    },
    "tags": []
   },
   "outputs": [
    {
     "name": "stdout",
     "output_type": "stream",
     "text": [
      "/kaggle/input/tabular-playground-series-oct-2021/sample_submission.csv\n",
      "/kaggle/input/tabular-playground-series-oct-2021/train.csv\n",
      "/kaggle/input/tabular-playground-series-oct-2021/test.csv\n"
     ]
    }
   ],
   "source": [
    "# This Python 3 environment comes with many helpful analytics libraries installed\n",
    "# It is defined by the kaggle/python Docker image: https://github.com/kaggle/docker-python\n",
    "# For example, here's several helpful packages to load\n",
    "\n",
    "import numpy as np # linear algebra\n",
    "import pandas as pd # data processing, CSV file I/O (e.g. pd.read_csv)\n",
    "\n",
    "# Input data files are available in the read-only \"../input/\" directory\n",
    "# For example, running this (by clicking run or pressing Shift+Enter) will list all files under the input directory\n",
    "\n",
    "import os\n",
    "for dirname, _, filenames in os.walk('/kaggle/input'):\n",
    "    for filename in filenames:\n",
    "        print(os.path.join(dirname, filename))\n",
    "\n",
    "# You can write up to 20GB to the current directory (/kaggle/working/) that gets preserved as output when you create a version using \"Save & Run All\" \n",
    "# You can also write temporary files to /kaggle/temp/, but they won't be saved outside of the current session"
   ]
  },
  {
   "cell_type": "code",
   "execution_count": 2,
   "id": "fa27ef7d",
   "metadata": {
    "execution": {
     "iopub.execute_input": "2021-10-18T02:57:18.523782Z",
     "iopub.status.busy": "2021-10-18T02:57:18.522227Z",
     "iopub.status.idle": "2021-10-18T02:57:18.524445Z",
     "shell.execute_reply": "2021-10-18T02:57:18.524844Z",
     "shell.execute_reply.started": "2021-10-16T22:46:08.552507Z"
    },
    "papermill": {
     "duration": 0.051121,
     "end_time": "2021-10-18T02:57:18.524968",
     "exception": false,
     "start_time": "2021-10-18T02:57:18.473847",
     "status": "completed"
    },
    "tags": []
   },
   "outputs": [],
   "source": [
    "import warnings\n",
    "warnings.filterwarnings(\"ignore\")"
   ]
  },
  {
   "cell_type": "code",
   "execution_count": 3,
   "id": "2cf4c726",
   "metadata": {
    "execution": {
     "iopub.execute_input": "2021-10-18T02:57:18.619552Z",
     "iopub.status.busy": "2021-10-18T02:57:18.618802Z",
     "iopub.status.idle": "2021-10-18T02:57:32.435974Z",
     "shell.execute_reply": "2021-10-18T02:57:32.435031Z",
     "shell.execute_reply.started": "2021-10-16T22:46:16.405208Z"
    },
    "papermill": {
     "duration": 13.866468,
     "end_time": "2021-10-18T02:57:32.436161",
     "exception": false,
     "start_time": "2021-10-18T02:57:18.569693",
     "status": "completed"
    },
    "tags": []
   },
   "outputs": [
    {
     "name": "stdout",
     "output_type": "stream",
     "text": [
      "Requirement already satisfied: scikit-learn in /opt/conda/lib/python3.7/site-packages (0.23.2)\r\n",
      "Collecting scikit-learn\r\n",
      "  Downloading scikit_learn-1.0-cp37-cp37m-manylinux_2_12_x86_64.manylinux2010_x86_64.whl (23.1 MB)\r\n",
      "\u001b[K     |████████████████████████████████| 23.1 MB 826 kB/s \r\n",
      "\u001b[?25hRequirement already satisfied: threadpoolctl>=2.0.0 in /opt/conda/lib/python3.7/site-packages (from scikit-learn) (2.2.0)\r\n",
      "Requirement already satisfied: joblib>=0.11 in /opt/conda/lib/python3.7/site-packages (from scikit-learn) (1.0.1)\r\n",
      "Requirement already satisfied: numpy>=1.14.6 in /opt/conda/lib/python3.7/site-packages (from scikit-learn) (1.19.5)\r\n",
      "Requirement already satisfied: scipy>=1.1.0 in /opt/conda/lib/python3.7/site-packages (from scikit-learn) (1.7.1)\r\n",
      "Installing collected packages: scikit-learn\r\n",
      "  Attempting uninstall: scikit-learn\r\n",
      "    Found existing installation: scikit-learn 0.23.2\r\n",
      "    Uninstalling scikit-learn-0.23.2:\r\n",
      "      Successfully uninstalled scikit-learn-0.23.2\r\n",
      "\u001b[31mERROR: pip's dependency resolver does not currently take into account all the packages that are installed. This behaviour is the source of the following dependency conflicts.\r\n",
      "pdpbox 0.2.1 requires matplotlib==3.1.1, but you have matplotlib 3.4.3 which is incompatible.\r\n",
      "hypertools 0.7.0 requires scikit-learn!=0.22,<0.24,>=0.19.1, but you have scikit-learn 1.0 which is incompatible.\u001b[0m\r\n",
      "Successfully installed scikit-learn-1.0\r\n",
      "\u001b[33mWARNING: Running pip as the 'root' user can result in broken permissions and conflicting behaviour with the system package manager. It is recommended to use a virtual environment instead: https://pip.pypa.io/warnings/venv\u001b[0m\r\n"
     ]
    }
   ],
   "source": [
    "!pip install scikit-learn  -U"
   ]
  },
  {
   "cell_type": "code",
   "execution_count": 4,
   "id": "05b66dc7",
   "metadata": {
    "execution": {
     "iopub.execute_input": "2021-10-18T02:57:32.642308Z",
     "iopub.status.busy": "2021-10-18T02:57:32.641557Z",
     "iopub.status.idle": "2021-10-18T02:57:37.577523Z",
     "shell.execute_reply": "2021-10-18T02:57:37.577003Z",
     "shell.execute_reply.started": "2021-10-16T22:46:23.566453Z"
    },
    "papermill": {
     "duration": 5.042914,
     "end_time": "2021-10-18T02:57:37.577674",
     "exception": false,
     "start_time": "2021-10-18T02:57:32.534760",
     "status": "completed"
    },
    "tags": []
   },
   "outputs": [
    {
     "name": "stderr",
     "output_type": "stream",
     "text": [
      "2021-10-18 02:57:33.857482: I tensorflow/stream_executor/platform/default/dso_loader.cc:49] Successfully opened dynamic library libcudart.so.11.0\n"
     ]
    }
   ],
   "source": [
    "import random\n",
    "import matplotlib.pyplot as plt\n",
    "import seaborn as sns\n",
    "import tensorflow as tf\n",
    "import sklearn\n",
    "import gc\n",
    "\n",
    "from sklearn.linear_model import LogisticRegression\n",
    "from sklearn.model_selection import train_test_split\n",
    "from sklearn.model_selection import RepeatedStratifiedKFold\n",
    "from sklearn.model_selection import cross_val_score\n",
    "from sklearn.model_selection import GridSearchCV\n",
    "from sklearn.metrics import roc_auc_score\n",
    "from sklearn.preprocessing import StandardScaler\n",
    "from sklearn.preprocessing import MinMaxScaler\n",
    "from sklearn.preprocessing import QuantileTransformer\n",
    "from sklearn.preprocessing import PowerTransformer\n",
    "from sklearn.decomposition import PCA\n",
    "from sklearn.decomposition import TruncatedSVD\n",
    "from sklearn.feature_selection import RFE\n",
    "from sklearn.pipeline import Pipeline\n",
    "\n",
    "from xgboost import XGBClassifier"
   ]
  },
  {
   "cell_type": "code",
   "execution_count": 5,
   "id": "d041e0cc",
   "metadata": {
    "execution": {
     "iopub.execute_input": "2021-10-18T02:57:37.696360Z",
     "iopub.status.busy": "2021-10-18T02:57:37.695292Z",
     "iopub.status.idle": "2021-10-18T02:57:37.697280Z",
     "shell.execute_reply": "2021-10-18T02:57:37.697787Z",
     "shell.execute_reply.started": "2021-10-16T22:46:26.836798Z"
    },
    "papermill": {
     "duration": 0.063436,
     "end_time": "2021-10-18T02:57:37.697916",
     "exception": false,
     "start_time": "2021-10-18T02:57:37.634480",
     "status": "completed"
    },
    "tags": []
   },
   "outputs": [],
   "source": [
    "seed = 47"
   ]
  },
  {
   "cell_type": "markdown",
   "id": "2ea35198",
   "metadata": {
    "papermill": {
     "duration": 0.058907,
     "end_time": "2021-10-18T02:57:37.812453",
     "exception": false,
     "start_time": "2021-10-18T02:57:37.753546",
     "status": "completed"
    },
    "tags": []
   },
   "source": [
    "# Tabular Playground Series - Oct 2021\n",
    "\n",
    "The tabular series on kaggle are meant to help novices in data science field like me get acquainted with kaggle competitions.\n",
    "\n",
    "The dataset created for this competition is synthetic, but based on a real dataset and generated using a CTGAN. The original dataset deals with predicting the biological response of molecules given various chemical properties.\n",
    "\n",
    "The first step in almost every data science project is to perfom some exploratory data analysis, which is already done in a previous notebook [1]. Here we will try to use some assumption based on that analysis to\n",
    "verify whether we can obtaion better performance. To begin with, we will use only 100k samples of the original data. Here we try some baseline models and also do some grid search on some data transformation methods.\n",
    "\n",
    "[1] https://www.kaggle.com/peressim/tabular-playground-series-oct-2021-eda"
   ]
  },
  {
   "cell_type": "code",
   "execution_count": 6,
   "id": "1b846667",
   "metadata": {
    "execution": {
     "iopub.execute_input": "2021-10-18T02:57:37.930414Z",
     "iopub.status.busy": "2021-10-18T02:57:37.929556Z",
     "iopub.status.idle": "2021-10-18T02:57:37.931755Z",
     "shell.execute_reply": "2021-10-18T02:57:37.932169Z",
     "shell.execute_reply.started": "2021-10-16T22:46:26.844797Z"
    },
    "papermill": {
     "duration": 0.063816,
     "end_time": "2021-10-18T02:57:37.932311",
     "exception": false,
     "start_time": "2021-10-18T02:57:37.868495",
     "status": "completed"
    },
    "tags": []
   },
   "outputs": [],
   "source": [
    "def evaluate_model(model, x, y):\n",
    "    y_pred = model.predict(x)\n",
    "    y_pred_prob = model.predict_proba(x)[:, 1]\n",
    "    auc_roc = roc_auc_score(y, y_pred_prob)\n",
    "    return {'auc_roc_curve' : auc_roc}"
   ]
  },
  {
   "cell_type": "code",
   "execution_count": 7,
   "id": "0bee5a8d",
   "metadata": {
    "execution": {
     "iopub.execute_input": "2021-10-18T02:57:38.117573Z",
     "iopub.status.busy": "2021-10-18T02:57:38.051734Z",
     "iopub.status.idle": "2021-10-18T02:58:12.282360Z",
     "shell.execute_reply": "2021-10-18T02:58:12.281439Z",
     "shell.execute_reply.started": "2021-10-16T22:46:26.85316Z"
    },
    "papermill": {
     "duration": 34.29438,
     "end_time": "2021-10-18T02:58:12.282558",
     "exception": false,
     "start_time": "2021-10-18T02:57:37.988178",
     "status": "completed"
    },
    "tags": []
   },
   "outputs": [],
   "source": [
    "random.seed(seed)\n",
    "n = 1000000\n",
    "s = 100000\n",
    "skip = sorted(random.sample(range(n),n-s))\n",
    "\n",
    "train_df = pd.read_csv('/kaggle/input/tabular-playground-series-oct-2021/train.csv', sep=',', skiprows=skip)"
   ]
  },
  {
   "cell_type": "code",
   "execution_count": 8,
   "id": "a88b842e",
   "metadata": {
    "execution": {
     "iopub.execute_input": "2021-10-18T02:58:12.408663Z",
     "iopub.status.busy": "2021-10-18T02:58:12.407924Z",
     "iopub.status.idle": "2021-10-18T02:58:12.430186Z",
     "shell.execute_reply": "2021-10-18T02:58:12.430646Z",
     "shell.execute_reply.started": "2021-10-16T22:47:01.484539Z"
    },
    "papermill": {
     "duration": 0.091646,
     "end_time": "2021-10-18T02:58:12.430798",
     "exception": false,
     "start_time": "2021-10-18T02:58:12.339152",
     "status": "completed"
    },
    "tags": []
   },
   "outputs": [
    {
     "data": {
      "text/html": [
       "<div>\n",
       "<style scoped>\n",
       "    .dataframe tbody tr th:only-of-type {\n",
       "        vertical-align: middle;\n",
       "    }\n",
       "\n",
       "    .dataframe tbody tr th {\n",
       "        vertical-align: top;\n",
       "    }\n",
       "\n",
       "    .dataframe thead th {\n",
       "        text-align: right;\n",
       "    }\n",
       "</style>\n",
       "<table border=\"1\" class=\"dataframe\">\n",
       "  <thead>\n",
       "    <tr style=\"text-align: right;\">\n",
       "      <th></th>\n",
       "      <th>id</th>\n",
       "      <th>f0</th>\n",
       "      <th>f1</th>\n",
       "      <th>f2</th>\n",
       "      <th>f3</th>\n",
       "      <th>f4</th>\n",
       "      <th>f5</th>\n",
       "      <th>f6</th>\n",
       "      <th>f7</th>\n",
       "      <th>f8</th>\n",
       "      <th>...</th>\n",
       "      <th>f276</th>\n",
       "      <th>f277</th>\n",
       "      <th>f278</th>\n",
       "      <th>f279</th>\n",
       "      <th>f280</th>\n",
       "      <th>f281</th>\n",
       "      <th>f282</th>\n",
       "      <th>f283</th>\n",
       "      <th>f284</th>\n",
       "      <th>target</th>\n",
       "    </tr>\n",
       "  </thead>\n",
       "  <tbody>\n",
       "    <tr>\n",
       "      <th>0</th>\n",
       "      <td>5</td>\n",
       "      <td>0.255237</td>\n",
       "      <td>0.345842</td>\n",
       "      <td>0.021549</td>\n",
       "      <td>0.220755</td>\n",
       "      <td>0.524854</td>\n",
       "      <td>0.423693</td>\n",
       "      <td>0.533150</td>\n",
       "      <td>0.628484</td>\n",
       "      <td>0.340781</td>\n",
       "      <td>...</td>\n",
       "      <td>0</td>\n",
       "      <td>0</td>\n",
       "      <td>1</td>\n",
       "      <td>0</td>\n",
       "      <td>1</td>\n",
       "      <td>0</td>\n",
       "      <td>0</td>\n",
       "      <td>0</td>\n",
       "      <td>0</td>\n",
       "      <td>0</td>\n",
       "    </tr>\n",
       "    <tr>\n",
       "      <th>1</th>\n",
       "      <td>9</td>\n",
       "      <td>0.180916</td>\n",
       "      <td>0.450976</td>\n",
       "      <td>0.170291</td>\n",
       "      <td>0.356205</td>\n",
       "      <td>0.924490</td>\n",
       "      <td>0.491684</td>\n",
       "      <td>0.465108</td>\n",
       "      <td>0.652863</td>\n",
       "      <td>0.294830</td>\n",
       "      <td>...</td>\n",
       "      <td>0</td>\n",
       "      <td>0</td>\n",
       "      <td>0</td>\n",
       "      <td>0</td>\n",
       "      <td>0</td>\n",
       "      <td>0</td>\n",
       "      <td>0</td>\n",
       "      <td>0</td>\n",
       "      <td>0</td>\n",
       "      <td>0</td>\n",
       "    </tr>\n",
       "    <tr>\n",
       "      <th>2</th>\n",
       "      <td>10</td>\n",
       "      <td>0.183644</td>\n",
       "      <td>0.374077</td>\n",
       "      <td>0.178906</td>\n",
       "      <td>0.244896</td>\n",
       "      <td>0.576364</td>\n",
       "      <td>0.495866</td>\n",
       "      <td>0.510860</td>\n",
       "      <td>0.610363</td>\n",
       "      <td>0.387875</td>\n",
       "      <td>...</td>\n",
       "      <td>0</td>\n",
       "      <td>0</td>\n",
       "      <td>0</td>\n",
       "      <td>0</td>\n",
       "      <td>0</td>\n",
       "      <td>0</td>\n",
       "      <td>0</td>\n",
       "      <td>1</td>\n",
       "      <td>0</td>\n",
       "      <td>0</td>\n",
       "    </tr>\n",
       "    <tr>\n",
       "      <th>3</th>\n",
       "      <td>24</td>\n",
       "      <td>0.161543</td>\n",
       "      <td>0.520489</td>\n",
       "      <td>0.093829</td>\n",
       "      <td>0.254242</td>\n",
       "      <td>0.662581</td>\n",
       "      <td>0.470565</td>\n",
       "      <td>0.488163</td>\n",
       "      <td>0.599764</td>\n",
       "      <td>0.520008</td>\n",
       "      <td>...</td>\n",
       "      <td>0</td>\n",
       "      <td>0</td>\n",
       "      <td>0</td>\n",
       "      <td>0</td>\n",
       "      <td>0</td>\n",
       "      <td>1</td>\n",
       "      <td>0</td>\n",
       "      <td>1</td>\n",
       "      <td>0</td>\n",
       "      <td>0</td>\n",
       "    </tr>\n",
       "    <tr>\n",
       "      <th>4</th>\n",
       "      <td>25</td>\n",
       "      <td>0.224420</td>\n",
       "      <td>0.407032</td>\n",
       "      <td>0.163269</td>\n",
       "      <td>0.331523</td>\n",
       "      <td>0.771134</td>\n",
       "      <td>0.341357</td>\n",
       "      <td>0.363220</td>\n",
       "      <td>0.599637</td>\n",
       "      <td>0.468193</td>\n",
       "      <td>...</td>\n",
       "      <td>0</td>\n",
       "      <td>0</td>\n",
       "      <td>0</td>\n",
       "      <td>0</td>\n",
       "      <td>0</td>\n",
       "      <td>0</td>\n",
       "      <td>0</td>\n",
       "      <td>1</td>\n",
       "      <td>0</td>\n",
       "      <td>1</td>\n",
       "    </tr>\n",
       "  </tbody>\n",
       "</table>\n",
       "<p>5 rows × 287 columns</p>\n",
       "</div>"
      ],
      "text/plain": [
       "   id        f0        f1        f2        f3        f4        f5        f6  \\\n",
       "0   5  0.255237  0.345842  0.021549  0.220755  0.524854  0.423693  0.533150   \n",
       "1   9  0.180916  0.450976  0.170291  0.356205  0.924490  0.491684  0.465108   \n",
       "2  10  0.183644  0.374077  0.178906  0.244896  0.576364  0.495866  0.510860   \n",
       "3  24  0.161543  0.520489  0.093829  0.254242  0.662581  0.470565  0.488163   \n",
       "4  25  0.224420  0.407032  0.163269  0.331523  0.771134  0.341357  0.363220   \n",
       "\n",
       "         f7        f8  ...  f276  f277  f278  f279  f280  f281  f282  f283  \\\n",
       "0  0.628484  0.340781  ...     0     0     1     0     1     0     0     0   \n",
       "1  0.652863  0.294830  ...     0     0     0     0     0     0     0     0   \n",
       "2  0.610363  0.387875  ...     0     0     0     0     0     0     0     1   \n",
       "3  0.599764  0.520008  ...     0     0     0     0     0     1     0     1   \n",
       "4  0.599637  0.468193  ...     0     0     0     0     0     0     0     1   \n",
       "\n",
       "   f284  target  \n",
       "0     0       0  \n",
       "1     0       0  \n",
       "2     0       0  \n",
       "3     0       0  \n",
       "4     0       1  \n",
       "\n",
       "[5 rows x 287 columns]"
      ]
     },
     "execution_count": 8,
     "metadata": {},
     "output_type": "execute_result"
    }
   ],
   "source": [
    "train_df.head()"
   ]
  },
  {
   "cell_type": "code",
   "execution_count": 9,
   "id": "ec43f7dd",
   "metadata": {
    "execution": {
     "iopub.execute_input": "2021-10-18T02:58:12.547665Z",
     "iopub.status.busy": "2021-10-18T02:58:12.547104Z",
     "iopub.status.idle": "2021-10-18T02:58:12.549931Z",
     "shell.execute_reply": "2021-10-18T02:58:12.550517Z",
     "shell.execute_reply.started": "2021-10-16T22:47:01.548887Z"
    },
    "papermill": {
     "duration": 0.063238,
     "end_time": "2021-10-18T02:58:12.550688",
     "exception": false,
     "start_time": "2021-10-18T02:58:12.487450",
     "status": "completed"
    },
    "tags": []
   },
   "outputs": [
    {
     "name": "stdout",
     "output_type": "stream",
     "text": [
      "Dataset shape:  (100000, 287)\n"
     ]
    }
   ],
   "source": [
    "print('Dataset shape: ', train_df.shape )"
   ]
  },
  {
   "cell_type": "code",
   "execution_count": 10,
   "id": "0d3fb739",
   "metadata": {
    "execution": {
     "iopub.execute_input": "2021-10-18T02:58:12.697500Z",
     "iopub.status.busy": "2021-10-18T02:58:12.693944Z",
     "iopub.status.idle": "2021-10-18T02:58:12.701477Z",
     "shell.execute_reply": "2021-10-18T02:58:12.702055Z",
     "shell.execute_reply.started": "2021-10-16T22:47:01.563664Z"
    },
    "papermill": {
     "duration": 0.094584,
     "end_time": "2021-10-18T02:58:12.702262",
     "exception": false,
     "start_time": "2021-10-18T02:58:12.607678",
     "status": "completed"
    },
    "tags": []
   },
   "outputs": [
    {
     "name": "stdout",
     "output_type": "stream",
     "text": [
      "<class 'pandas.core.frame.DataFrame'>\n",
      "RangeIndex: 100000 entries, 0 to 99999\n",
      "Columns: 287 entries, id to target\n",
      "dtypes: float64(240), int64(47)\n",
      "memory usage: 219.0 MB\n"
     ]
    }
   ],
   "source": [
    "train_df.info()"
   ]
  },
  {
   "cell_type": "code",
   "execution_count": 11,
   "id": "dbeb8a33",
   "metadata": {
    "execution": {
     "iopub.execute_input": "2021-10-18T02:58:12.824229Z",
     "iopub.status.busy": "2021-10-18T02:58:12.823235Z",
     "iopub.status.idle": "2021-10-18T02:58:13.031072Z",
     "shell.execute_reply": "2021-10-18T02:58:13.030607Z",
     "shell.execute_reply.started": "2021-10-16T22:47:01.604804Z"
    },
    "papermill": {
     "duration": 0.270456,
     "end_time": "2021-10-18T02:58:13.031195",
     "exception": false,
     "start_time": "2021-10-18T02:58:12.760739",
     "status": "completed"
    },
    "tags": []
   },
   "outputs": [
    {
     "data": {
      "text/plain": [
       "Text(0, 0.5, 'Count')"
      ]
     },
     "execution_count": 11,
     "metadata": {},
     "output_type": "execute_result"
    },
    {
     "data": {
      "image/png": "[encoded data removed]",
      "text/plain": [
       "<Figure size 432x288 with 1 Axes>"
      ]
     },
     "metadata": {
      "needs_background": "light"
     },
     "output_type": "display_data"
    }
   ],
   "source": [
    "# Sanity check for balanced number of classes in the target variable\n",
    "\n",
    "sns.countplot(train_df['target'])\n",
    "plt.title('Distribution of classes in target variable (target) \\n')\n",
    "plt.xlabel('Target')\n",
    "plt.ylabel('Count')"
   ]
  },
  {
   "cell_type": "markdown",
   "id": "4c0f1868",
   "metadata": {
    "papermill": {
     "duration": 0.057352,
     "end_time": "2021-10-18T02:58:13.146460",
     "exception": false,
     "start_time": "2021-10-18T02:58:13.089108",
     "status": "completed"
    },
    "tags": []
   },
   "source": [
    "# Data splitting\n",
    "\n",
    "Here we split the data into train and test sets"
   ]
  },
  {
   "cell_type": "code",
   "execution_count": 12,
   "id": "eb136a6a",
   "metadata": {
    "execution": {
     "iopub.execute_input": "2021-10-18T02:58:13.270754Z",
     "iopub.status.busy": "2021-10-18T02:58:13.270064Z",
     "iopub.status.idle": "2021-10-18T02:58:13.273146Z",
     "shell.execute_reply": "2021-10-18T02:58:13.273581Z",
     "shell.execute_reply.started": "2021-10-16T22:47:01.931251Z"
    },
    "papermill": {
     "duration": 0.068528,
     "end_time": "2021-10-18T02:58:13.273711",
     "exception": false,
     "start_time": "2021-10-18T02:58:13.205183",
     "status": "completed"
    },
    "tags": []
   },
   "outputs": [],
   "source": [
    "def get_train_test_split(test_size=0.2):\n",
    "    x_train = train_df.drop(['id', 'target'], axis=1).values\n",
    "    y_train = train_df['target'].values \n",
    "    x_train, x_test, y_train, y_test = train_test_split(x_train, y_train, test_size = test_size, random_state = seed)\n",
    "\n",
    "    print('x_train', x_train.shape, 'y_train', y_train.shape)\n",
    "    print('x_test', x_test.shape, 'y_test', y_test.shape)\n",
    "    return x_train, x_test, y_train, y_test"
   ]
  },
  {
   "cell_type": "code",
   "execution_count": 13,
   "id": "4ce98d95",
   "metadata": {
    "execution": {
     "iopub.execute_input": "2021-10-18T02:58:13.466615Z",
     "iopub.status.busy": "2021-10-18T02:58:13.465198Z",
     "iopub.status.idle": "2021-10-18T02:58:13.856696Z",
     "shell.execute_reply": "2021-10-18T02:58:13.857374Z",
     "shell.execute_reply.started": "2021-10-16T22:47:01.9683Z"
    },
    "papermill": {
     "duration": 0.525818,
     "end_time": "2021-10-18T02:58:13.857623",
     "exception": false,
     "start_time": "2021-10-18T02:58:13.331805",
     "status": "completed"
    },
    "tags": []
   },
   "outputs": [
    {
     "name": "stdout",
     "output_type": "stream",
     "text": [
      "x_train (80000, 285) y_train (80000,)\n",
      "x_test (20000, 285) y_test (20000,)\n"
     ]
    }
   ],
   "source": [
    "x_train, x_test, y_train, y_test = get_train_test_split()"
   ]
  },
  {
   "cell_type": "markdown",
   "id": "84955edc",
   "metadata": {
    "papermill": {
     "duration": 0.05713,
     "end_time": "2021-10-18T02:58:13.974456",
     "exception": false,
     "start_time": "2021-10-18T02:58:13.917326",
     "status": "completed"
    },
    "tags": []
   },
   "source": [
    "# Baseline\n",
    "\n",
    "Baseline models to choose the methods that will allow the model to achieve a good performance.\n",
    "\n",
    "1 - Logistic Regression\n",
    "\n",
    "2 - XGBoost\n",
    "\n",
    "All the tests will be based on a fraction of 10% of all available data"
   ]
  },
  {
   "cell_type": "markdown",
   "id": "1bbb75c0",
   "metadata": {
    "papermill": {
     "duration": 0.057222,
     "end_time": "2021-10-18T02:58:14.089764",
     "exception": false,
     "start_time": "2021-10-18T02:58:14.032542",
     "status": "completed"
    },
    "tags": []
   },
   "source": [
    "# Experiment - 1\n",
    "\n",
    "Here we just test the performance of logistic regression and an xgboost without in the dataset as it is. No preprocessing in the data is performed."
   ]
  },
  {
   "cell_type": "code",
   "execution_count": 14,
   "id": "a0d256ec",
   "metadata": {
    "execution": {
     "iopub.execute_input": "2021-10-18T02:58:14.212084Z",
     "iopub.status.busy": "2021-10-18T02:58:14.211067Z",
     "iopub.status.idle": "2021-10-18T02:58:24.935530Z",
     "shell.execute_reply": "2021-10-18T02:58:24.934534Z",
     "shell.execute_reply.started": "2021-10-09T16:08:22.781373Z"
    },
    "papermill": {
     "duration": 10.788445,
     "end_time": "2021-10-18T02:58:24.935728",
     "exception": false,
     "start_time": "2021-10-18T02:58:14.147283",
     "status": "completed"
    },
    "tags": []
   },
   "outputs": [
    {
     "name": "stdout",
     "output_type": "stream",
     "text": [
      "Fitting a simple Logistic Regression model\n",
      "{'auc_roc_curve': 0.8402874041382506}\n"
     ]
    }
   ],
   "source": [
    "print(\"Fitting a simple Logistic Regression model\")\n",
    "model = LogisticRegression(random_state=seed, solver='liblinear')\n",
    "model.fit(x_train, y_train)\n",
    "model.score(x_test, y_test)\n",
    "results = evaluate_model(model, x_test, y_test)\n",
    "print(results)"
   ]
  },
  {
   "cell_type": "code",
   "execution_count": 15,
   "id": "8446bf60",
   "metadata": {
    "execution": {
     "iopub.execute_input": "2021-10-18T02:58:25.180333Z",
     "iopub.status.busy": "2021-10-18T02:58:25.179502Z",
     "iopub.status.idle": "2021-10-18T02:58:30.754968Z",
     "shell.execute_reply": "2021-10-18T02:58:30.755758Z",
     "shell.execute_reply.started": "2021-10-09T16:08:34.518777Z"
    },
    "papermill": {
     "duration": 5.677862,
     "end_time": "2021-10-18T02:58:30.755986",
     "exception": false,
     "start_time": "2021-10-18T02:58:25.078124",
     "status": "completed"
    },
    "tags": []
   },
   "outputs": [
    {
     "name": "stdout",
     "output_type": "stream",
     "text": [
      "Fitting XGBoost Classifier\n",
      "{'auc_roc_curve': 0.8378130936450079}\n"
     ]
    }
   ],
   "source": [
    "print(\"Fitting XGBoost Classifier\")\n",
    "model = XGBClassifier(random_state=0, tree_method='gpu_hist', predictor='gpu_predictor', use_label_encoder=False, verbosity=0)\n",
    "model.fit(x_train, y_train)\n",
    "results = evaluate_model(model, x_test, y_test)\n",
    "print(results)"
   ]
  },
  {
   "cell_type": "markdown",
   "id": "4fd29349",
   "metadata": {
    "papermill": {
     "duration": 0.060407,
     "end_time": "2021-10-18T02:58:30.877596",
     "exception": false,
     "start_time": "2021-10-18T02:58:30.817189",
     "status": "completed"
    },
    "tags": []
   },
   "source": [
    "# GridCV on Data Preparation\n",
    "\n",
    "Before doing anything else with the baseline models, we will perform a grid search on data preprocessing techniques.\n",
    "\n",
    "References:\n",
    "\n",
    "    [1]  https://machinelearningmastery.com/grid-search-data-preparation-techniques/"
   ]
  },
  {
   "cell_type": "code",
   "execution_count": 16,
   "id": "e59e64a2",
   "metadata": {
    "execution": {
     "iopub.execute_input": "2021-10-18T02:58:31.005371Z",
     "iopub.status.busy": "2021-10-18T02:58:31.004769Z",
     "iopub.status.idle": "2021-10-18T02:58:31.008108Z",
     "shell.execute_reply": "2021-10-18T02:58:31.008597Z",
     "shell.execute_reply.started": "2021-10-11T17:10:21.824693Z"
    },
    "papermill": {
     "duration": 0.071681,
     "end_time": "2021-10-18T02:58:31.008756",
     "exception": false,
     "start_time": "2021-10-18T02:58:30.937075",
     "status": "completed"
    },
    "tags": []
   },
   "outputs": [],
   "source": [
    "# get modeling pipelines to evaluate\n",
    "def get_pipelines(model):\n",
    "    pipelines = list()\n",
    "    # normalize\n",
    "    p = Pipeline([('s',MinMaxScaler()), ('m',model)])\n",
    "    pipelines.append(('norm', p))\n",
    "    # standardize\n",
    "    p = Pipeline([('s',StandardScaler()), ('m',model)])\n",
    "    pipelines.append(('std', p))\n",
    "    # quantile\n",
    "    p = Pipeline([('s',QuantileTransformer(n_quantiles=100, output_distribution='normal')), ('m',model)])\n",
    "    pipelines.append(('quan', p))\n",
    "    # pca\n",
    "    p = Pipeline([('s',PCA()), ('m',model)])\n",
    "    pipelines.append(('pca', p))\n",
    "    # svd\n",
    "    p = Pipeline([('s',TruncatedSVD()), ('m',model)])\n",
    "    pipelines.append(('svd', p))\n",
    "    \n",
    "    p = Pipeline([('s',StandardScaler()), ('p', PowerTransformer()), ('m',model)])\n",
    "    pipelines.append(('std-power', p))\n",
    "    # scale and power\n",
    "    p = Pipeline([('s',MinMaxScaler()), ('p', PowerTransformer()), ('m',model)])\n",
    "    pipelines.append(('min-max-power', p))\n",
    "    \n",
    "    p = Pipeline([('p', PowerTransformer()), ('m',model)])\n",
    "    pipelines.append(('power', p))\n",
    "    \n",
    "    return pipelines"
   ]
  },
  {
   "cell_type": "code",
   "execution_count": 17,
   "id": "89c4bdb9",
   "metadata": {
    "execution": {
     "iopub.execute_input": "2021-10-18T02:58:31.132069Z",
     "iopub.status.busy": "2021-10-18T02:58:31.131400Z",
     "iopub.status.idle": "2021-10-18T02:58:31.133991Z",
     "shell.execute_reply": "2021-10-18T02:58:31.133599Z",
     "shell.execute_reply.started": "2021-10-11T17:10:23.503825Z"
    },
    "papermill": {
     "duration": 0.065584,
     "end_time": "2021-10-18T02:58:31.134097",
     "exception": false,
     "start_time": "2021-10-18T02:58:31.068513",
     "status": "completed"
    },
    "tags": []
   },
   "outputs": [],
   "source": [
    "def score_model(x, y, model):\n",
    "    # define the cross-validation procedure\n",
    "    cv = RepeatedStratifiedKFold(n_splits=10, n_repeats=3, random_state=1)\n",
    "    # evaluate model\n",
    "    scores = cross_val_score(model, x, y, scoring='roc_auc', cv=cv, n_jobs=-1)\n",
    "    return scores"
   ]
  },
  {
   "cell_type": "markdown",
   "id": "fede6cc5",
   "metadata": {
    "papermill": {
     "duration": 0.057677,
     "end_time": "2021-10-18T02:58:31.250204",
     "exception": false,
     "start_time": "2021-10-18T02:58:31.192527",
     "status": "completed"
    },
    "tags": []
   },
   "source": [
    "# Logistic Regression - Pipelines"
   ]
  },
  {
   "cell_type": "code",
   "execution_count": 18,
   "id": "16913654",
   "metadata": {
    "execution": {
     "iopub.execute_input": "2021-10-18T02:58:31.370254Z",
     "iopub.status.busy": "2021-10-18T02:58:31.369515Z",
     "iopub.status.idle": "2021-10-18T04:09:48.661528Z",
     "shell.execute_reply": "2021-10-18T04:09:48.661974Z",
     "shell.execute_reply.started": "2021-10-09T16:15:31.88891Z"
    },
    "papermill": {
     "duration": 4277.353305,
     "end_time": "2021-10-18T04:09:48.662125",
     "exception": false,
     "start_time": "2021-10-18T02:58:31.308820",
     "status": "completed"
    },
    "tags": []
   },
   "outputs": [
    {
     "name": "stdout",
     "output_type": "stream",
     "text": [
      ">norm: 0.839 (0.004)\n",
      ">std: 0.839 (0.004)\n",
      ">quan: 0.834 (0.005)\n",
      ">pca: 0.839 (0.004)\n",
      ">svd: 0.613 (0.032)\n",
      ">std-power: 0.846 (0.004)\n",
      ">min-max-power: 0.847 (0.004)\n",
      ">power: 0.847 (0.004)\n",
      ">No-transform: 0.839 (0.004)\n"
     ]
    }
   ],
   "source": [
    "model = LogisticRegression(random_state=seed, solver='liblinear')\n",
    "pipelines = get_pipelines(model)\n",
    "x_train = train_df.drop(['id', 'target'], axis=1).values\n",
    "y_train = train_df['target'].values \n",
    "\n",
    "# evaluate each pipeline\n",
    "results, names = list(), list()\n",
    "for name, pipeline in pipelines:\n",
    "\t# evaluate\n",
    "\tscores = score_model(x_train, y_train, pipeline)\n",
    "\t# summarize\n",
    "\tprint('>%s: %.3f (%.3f)' % (name, np.mean(scores), np.std(scores)))\n",
    "\t# store\n",
    "\tresults.append(scores)\n",
    "\tnames.append(name)\n",
    "\n",
    "# No Transform\n",
    "scores = score_model(x_train, y_train, model)\n",
    "print('>%s: %.3f (%.3f)' % ('No-transform', np.mean(scores), np.std(scores)))\n",
    "results.append(scores)\n",
    "names.append('No-transform')"
   ]
  },
  {
   "cell_type": "code",
   "execution_count": 19,
   "id": "f8e32a4b",
   "metadata": {
    "execution": {
     "iopub.execute_input": "2021-10-18T04:09:48.808992Z",
     "iopub.status.busy": "2021-10-18T04:09:48.804570Z",
     "iopub.status.idle": "2021-10-18T04:09:49.082664Z",
     "shell.execute_reply": "2021-10-18T04:09:49.083445Z",
     "shell.execute_reply.started": "2021-10-09T17:33:49.467621Z"
    },
    "papermill": {
     "duration": 0.360179,
     "end_time": "2021-10-18T04:09:49.083628",
     "exception": false,
     "start_time": "2021-10-18T04:09:48.723449",
     "status": "completed"
    },
    "tags": []
   },
   "outputs": [
    {
     "data": {
      "image/png": "[encoded data removed]",
      "text/plain": [
       "<Figure size 1080x576 with 1 Axes>"
      ]
     },
     "metadata": {
      "needs_background": "light"
     },
     "output_type": "display_data"
    }
   ],
   "source": [
    "plt.figure(figsize=(15,8))\n",
    "plt.boxplot(results, labels=names, showmeans=True)\n",
    "plt.show()"
   ]
  },
  {
   "cell_type": "markdown",
   "id": "ea714069",
   "metadata": {
    "papermill": {
     "duration": 0.061561,
     "end_time": "2021-10-18T04:09:49.219235",
     "exception": false,
     "start_time": "2021-10-18T04:09:49.157674",
     "status": "completed"
    },
    "tags": []
   },
   "source": [
    "# XGBoost - Pipelines"
   ]
  },
  {
   "cell_type": "code",
   "execution_count": 20,
   "id": "13853b5e",
   "metadata": {
    "execution": {
     "iopub.execute_input": "2021-10-18T04:09:49.420138Z",
     "iopub.status.busy": "2021-10-18T04:09:49.418708Z",
     "iopub.status.idle": "2021-10-18T05:14:19.905088Z",
     "shell.execute_reply": "2021-10-18T05:14:19.905546Z",
     "shell.execute_reply.started": "2021-10-11T17:10:37.10265Z"
    },
    "papermill": {
     "duration": 3870.625189,
     "end_time": "2021-10-18T05:14:19.905706",
     "exception": false,
     "start_time": "2021-10-18T04:09:49.280517",
     "status": "completed"
    },
    "tags": []
   },
   "outputs": [
    {
     "name": "stdout",
     "output_type": "stream",
     "text": [
      ">norm: 0.838 (0.004)\n",
      ">std: 0.838 (0.004)\n",
      ">quan: 0.838 (0.004)\n",
      ">pca: 0.822 (0.004)\n",
      ">svd: 0.593 (0.037)\n",
      ">std-power: 0.838 (0.004)\n",
      ">min-max-power: 0.838 (0.004)\n",
      ">power: 0.838 (0.004)\n",
      ">No-transform: 0.838 (0.004)\n"
     ]
    }
   ],
   "source": [
    "# model = XGBClassifier(random_state=seed, verbosity=0)\n",
    "model = XGBClassifier(random_state=seed, tree_method='gpu_hist', predictor='gpu_predictor', use_label_encoder=False, verbosity=0)\n",
    "pipelines = get_pipelines(model)\n",
    "x_train = train_df.drop(['id', 'target'], axis=1).values\n",
    "y_train = train_df['target'].values \n",
    "\n",
    "# evaluate each pipeline\n",
    "results, names = list(), list()\n",
    "for name, pipeline in pipelines:\n",
    "\t# evaluate\n",
    "\tscores = score_model(x_train, y_train, pipeline)\n",
    "\t# summarize\n",
    "\tprint('>%s: %.3f (%.3f)' % (name, np.mean(scores), np.std(scores)))\n",
    "\t# store\n",
    "\tresults.append(scores)\n",
    "\tnames.append(name)\n",
    "\n",
    "# No Transform\n",
    "scores = score_model(x_train, y_train, model)\n",
    "print('>%s: %.3f (%.3f)' % ('No-transform', np.mean(scores), np.std(scores)))\n",
    "results.append(scores)\n",
    "names.append('No-transform')"
   ]
  },
  {
   "cell_type": "code",
   "execution_count": 21,
   "id": "6c30fc11",
   "metadata": {
    "execution": {
     "iopub.execute_input": "2021-10-18T05:14:20.037204Z",
     "iopub.status.busy": "2021-10-18T05:14:20.036417Z",
     "iopub.status.idle": "2021-10-18T05:14:20.045219Z",
     "shell.execute_reply": "2021-10-18T05:14:20.045691Z",
     "shell.execute_reply.started": "2021-10-11T18:35:22.794196Z"
    },
    "papermill": {
     "duration": 0.076281,
     "end_time": "2021-10-18T05:14:20.045831",
     "exception": false,
     "start_time": "2021-10-18T05:14:19.969550",
     "status": "completed"
    },
    "tags": []
   },
   "outputs": [
    {
     "name": "stdout",
     "output_type": "stream",
     "text": [
      "min-max-power 0.8381329887769137\n"
     ]
    },
    {
     "data": {
      "text/plain": [
       "{'norm': 0.8377206101805252,\n",
       " 'std': 0.8377206101805252,\n",
       " 'quan': 0.8377944452054013,\n",
       " 'pca': 0.8215059923012358,\n",
       " 'svd': 0.5931877592874406,\n",
       " 'std-power': 0.8375887583128379,\n",
       " 'min-max-power': 0.8381329887769137,\n",
       " 'power': 0.8381110540864248,\n",
       " 'No-transform': 0.8377206101805252}"
      ]
     },
     "execution_count": 21,
     "metadata": {},
     "output_type": "execute_result"
    }
   ],
   "source": [
    "r = dict(zip(names, np.mean(results, axis=1).tolist()))\n",
    "n = max(r, key=r.get)\n",
    "print(n, r[n])\n",
    "dict(zip(names, np.mean(results, axis=1).tolist()))"
   ]
  },
  {
   "cell_type": "code",
   "execution_count": 22,
   "id": "cb81aec2",
   "metadata": {
    "execution": {
     "iopub.execute_input": "2021-10-18T05:14:20.194628Z",
     "iopub.status.busy": "2021-10-18T05:14:20.193628Z",
     "iopub.status.idle": "2021-10-18T05:14:20.464572Z",
     "shell.execute_reply": "2021-10-18T05:14:20.464955Z",
     "shell.execute_reply.started": "2021-10-11T18:27:51.967213Z"
    },
    "papermill": {
     "duration": 0.354144,
     "end_time": "2021-10-18T05:14:20.465100",
     "exception": false,
     "start_time": "2021-10-18T05:14:20.110956",
     "status": "completed"
    },
    "tags": []
   },
   "outputs": [
    {
     "data": {
      "image/png": "[encoded data removed]",
      "text/plain": [
       "<Figure size 1080x576 with 1 Axes>"
      ]
     },
     "metadata": {
      "needs_background": "light"
     },
     "output_type": "display_data"
    }
   ],
   "source": [
    "plt.figure(figsize=(15,8))\n",
    "plt.boxplot(results, labels=names, showmeans=True)\n",
    "plt.show()"
   ]
  },
  {
   "cell_type": "markdown",
   "id": "c2e0f210",
   "metadata": {
    "papermill": {
     "duration": 0.064818,
     "end_time": "2021-10-18T05:14:20.595253",
     "exception": false,
     "start_time": "2021-10-18T05:14:20.530435",
     "status": "completed"
    },
    "tags": []
   },
   "source": [
    "# Results\n",
    "\n",
    "<h3>Best results</h3>\n",
    "\n",
    "Logistic Regression when used with PowerTransformer overcome all the XGBoost.\n",
    "XGBoost - No transform (any other transformation gives the same result, except when it is used with svd)\n"
   ]
  },
  {
   "cell_type": "markdown",
   "id": "9972c1d3",
   "metadata": {
    "papermill": {
     "duration": 0.064507,
     "end_time": "2021-10-18T05:14:20.725245",
     "exception": false,
     "start_time": "2021-10-18T05:14:20.660738",
     "status": "completed"
    },
    "tags": []
   },
   "source": [
    "# Feature engineering - Creating some synthetic features"
   ]
  },
  {
   "cell_type": "markdown",
   "id": "736c4d9d",
   "metadata": {
    "papermill": {
     "duration": 0.064659,
     "end_time": "2021-10-18T05:14:20.855092",
     "exception": false,
     "start_time": "2021-10-18T05:14:20.790433",
     "status": "completed"
    },
    "tags": []
   },
   "source": [
    "# Logistic regression\n",
    "\n",
    "We create synthetic features and use power transform as well"
   ]
  },
  {
   "cell_type": "code",
   "execution_count": 23,
   "id": "27cd4e3b",
   "metadata": {
    "execution": {
     "iopub.execute_input": "2021-10-18T05:14:20.991200Z",
     "iopub.status.busy": "2021-10-18T05:14:20.990426Z",
     "iopub.status.idle": "2021-10-18T05:14:20.992856Z",
     "shell.execute_reply": "2021-10-18T05:14:20.992461Z",
     "shell.execute_reply.started": "2021-10-10T03:15:32.389325Z"
    },
    "papermill": {
     "duration": 0.072662,
     "end_time": "2021-10-18T05:14:20.992962",
     "exception": false,
     "start_time": "2021-10-18T05:14:20.920300",
     "status": "completed"
    },
    "tags": []
   },
   "outputs": [],
   "source": [
    "geomean = lambda x, axis : np.exp(np.mean(np.log(x), axis=axis))\n",
    "harmonic_mean = lambda x, axis : len(x) / np.sum(1.0/x, axis=axis) \n",
    "\n",
    "funcs = {'mean' : np.mean, \n",
    "         'std' : np.std, \n",
    "         'var' : np.var, \n",
    "         'geo_mean' : geomean, \n",
    "         'harmonic_mean' : harmonic_mean, \n",
    "         'median' : np.median}"
   ]
  },
  {
   "cell_type": "code",
   "execution_count": 24,
   "id": "15f53ecf",
   "metadata": {
    "execution": {
     "iopub.execute_input": "2021-10-18T05:14:21.185642Z",
     "iopub.status.busy": "2021-10-18T05:14:21.184479Z",
     "iopub.status.idle": "2021-10-18T05:18:15.410661Z",
     "shell.execute_reply": "2021-10-18T05:18:15.411110Z",
     "shell.execute_reply.started": "2021-10-10T03:16:39.037901Z"
    },
    "papermill": {
     "duration": 234.353908,
     "end_time": "2021-10-18T05:18:15.411260",
     "exception": false,
     "start_time": "2021-10-18T05:14:21.057352",
     "status": "completed"
    },
    "tags": []
   },
   "outputs": [
    {
     "name": "stdout",
     "output_type": "stream",
     "text": [
      ">mean: 0.848562\n",
      ">std: 0.848603\n",
      ">var: 0.848603\n",
      ">geo_mean: 0.848507\n",
      ">harmonic_mean: 0.848507\n",
      ">median: 0.848406\n"
     ]
    }
   ],
   "source": [
    "results, names = list(), list()\n",
    "p = PowerTransformer()\n",
    "\n",
    "for key in funcs.keys():\n",
    "    x = train_df.drop(['id', 'target'], axis=1)\n",
    "    x[key] = funcs[key](x, axis=1)\n",
    "    y = train_df['target']\n",
    "    x_train, x_test, y_train, y_test = train_test_split(x, y, test_size = 0.2, random_state = seed)\n",
    "    x_train = p.fit_transform(x_train)\n",
    "    x_test = p.transform(x_test)\n",
    "    model = LogisticRegression(random_state=seed, solver='liblinear')\n",
    "    \n",
    "    model.fit(x_train, y_train)\n",
    "    model.score(x_test, y_test)\n",
    "    result = evaluate_model(model, x_test, y_test)\n",
    "    names.append(key)\n",
    "    results.append(result['auc_roc_curve'])\n",
    "\n",
    "for name, score in zip(names, results):\n",
    "    print('>%s: %f' % (name, score))"
   ]
  },
  {
   "cell_type": "markdown",
   "id": "4eed78a2",
   "metadata": {
    "papermill": {
     "duration": 0.06592,
     "end_time": "2021-10-18T05:18:15.542622",
     "exception": false,
     "start_time": "2021-10-18T05:18:15.476702",
     "status": "completed"
    },
    "tags": []
   },
   "source": [
    "# XGBoost Classifier"
   ]
  },
  {
   "cell_type": "code",
   "execution_count": 25,
   "id": "e39f90aa",
   "metadata": {
    "execution": {
     "iopub.execute_input": "2021-10-18T05:18:15.750118Z",
     "iopub.status.busy": "2021-10-18T05:18:15.748807Z",
     "iopub.status.idle": "2021-10-18T05:18:35.157361Z",
     "shell.execute_reply": "2021-10-18T05:18:35.158048Z",
     "shell.execute_reply.started": "2021-10-10T03:23:37.194037Z"
    },
    "papermill": {
     "duration": 19.550669,
     "end_time": "2021-10-18T05:18:35.158200",
     "exception": false,
     "start_time": "2021-10-18T05:18:15.607531",
     "status": "completed"
    },
    "tags": []
   },
   "outputs": [
    {
     "name": "stdout",
     "output_type": "stream",
     "text": [
      ">mean: 0.837101\n",
      ">std: 0.837891\n",
      ">var: 0.838206\n",
      ">geo_mean: 0.837813\n",
      ">harmonic_mean: 0.837813\n",
      ">median: 0.837247\n"
     ]
    }
   ],
   "source": [
    "results, names = list(), list()\n",
    "\n",
    "for key in funcs.keys():\n",
    "    x = train_df.drop(['id', 'target'], axis=1)\n",
    "    x[key] = funcs[key](x, axis=1)\n",
    "    y = train_df['target']\n",
    "    x_train, x_test, y_train, y_test = train_test_split(x, y, test_size = 0.2, random_state = seed)\n",
    "    model = XGBClassifier(random_state=0, tree_method='gpu_hist', predictor='gpu_predictor', use_label_encoder=False, verbosity=0)\n",
    "    \n",
    "    model.fit(x_train, y_train)\n",
    "    result = evaluate_model(model, x_test, y_test)\n",
    "    names.append(key)\n",
    "    results.append(result['auc_roc_curve'])\n",
    "\n",
    "for name, score in zip(names, results):\n",
    "    print('>%s: %f' % (name, score))"
   ]
  },
  {
   "cell_type": "markdown",
   "id": "ee61430e",
   "metadata": {
    "papermill": {
     "duration": 0.065526,
     "end_time": "2021-10-18T05:18:35.289626",
     "exception": false,
     "start_time": "2021-10-18T05:18:35.224100",
     "status": "completed"
    },
    "tags": []
   },
   "source": [
    "Logistic regression showed the best results. It seems to work well with mean or std, however std was almost identical it was a little better than the mean. XGboost present the best result with the var as synthetic feature. \n",
    "\n",
    "Logistic - std\n",
    "\n",
    "XGboost - var"
   ]
  },
  {
   "cell_type": "code",
   "execution_count": 26,
   "id": "8eb97178",
   "metadata": {
    "execution": {
     "iopub.execute_input": "2021-10-18T05:18:35.663785Z",
     "iopub.status.busy": "2021-10-18T05:18:35.662813Z",
     "iopub.status.idle": "2021-10-18T05:18:35.666672Z",
     "shell.execute_reply": "2021-10-18T05:18:35.666249Z"
    },
    "papermill": {
     "duration": 0.310782,
     "end_time": "2021-10-18T05:18:35.666792",
     "exception": false,
     "start_time": "2021-10-18T05:18:35.356010",
     "status": "completed"
    },
    "tags": []
   },
   "outputs": [
    {
     "data": {
      "text/plain": [
       "18772"
      ]
     },
     "execution_count": 26,
     "metadata": {},
     "output_type": "execute_result"
    }
   ],
   "source": [
    "del x, y\n",
    "gc.collect()"
   ]
  },
  {
   "cell_type": "markdown",
   "id": "967f7315",
   "metadata": {
    "papermill": {
     "duration": 0.066117,
     "end_time": "2021-10-18T05:18:35.799408",
     "exception": false,
     "start_time": "2021-10-18T05:18:35.733291",
     "status": "completed"
    },
    "tags": []
   },
   "source": [
    "# Grid Search\n",
    "\n",
    "References:\n",
    "\n",
    "    [1] https://machinelearningmastery.com/hyperparameter-optimization-with-random-search-and-grid-search/"
   ]
  },
  {
   "cell_type": "markdown",
   "id": "08c59ba2",
   "metadata": {
    "papermill": {
     "duration": 0.065248,
     "end_time": "2021-10-18T05:18:35.930363",
     "exception": false,
     "start_time": "2021-10-18T05:18:35.865115",
     "status": "completed"
    },
    "tags": []
   },
   "source": [
    "# Logistic Regression"
   ]
  },
  {
   "cell_type": "code",
   "execution_count": 27,
   "id": "a7dc13fd",
   "metadata": {
    "execution": {
     "iopub.execute_input": "2021-10-18T05:18:36.136892Z",
     "iopub.status.busy": "2021-10-18T05:18:36.122031Z",
     "iopub.status.idle": "2021-10-18T05:19:20.445593Z",
     "shell.execute_reply": "2021-10-18T05:19:20.446509Z",
     "shell.execute_reply.started": "2021-10-11T16:09:50.779795Z"
    },
    "papermill": {
     "duration": 44.450182,
     "end_time": "2021-10-18T05:19:20.446721",
     "exception": false,
     "start_time": "2021-10-18T05:18:35.996539",
     "status": "completed"
    },
    "tags": []
   },
   "outputs": [],
   "source": [
    "p = PowerTransformer()\n",
    "x_train = train_df.drop(['id', 'target'], axis=1)\n",
    "x_train['std'] = np.std(x_train, axis=1)\n",
    "y_train = train_df['target']\n",
    "x_train = p.fit_transform(x_train)"
   ]
  },
  {
   "cell_type": "code",
   "execution_count": 28,
   "id": "e9a10c56",
   "metadata": {
    "execution": {
     "iopub.execute_input": "2021-10-18T05:19:20.666737Z",
     "iopub.status.busy": "2021-10-18T05:19:20.665872Z",
     "iopub.status.idle": "2021-10-18T05:19:20.668692Z",
     "shell.execute_reply": "2021-10-18T05:19:20.669646Z",
     "shell.execute_reply.started": "2021-10-11T16:21:54.28712Z"
    },
    "papermill": {
     "duration": 0.116681,
     "end_time": "2021-10-18T05:19:20.669837",
     "exception": false,
     "start_time": "2021-10-18T05:19:20.553156",
     "status": "completed"
    },
    "tags": []
   },
   "outputs": [],
   "source": [
    "space = dict()\n",
    "space['solver'] = ['liblinear', 'newton-cg', 'lbfgs']\n",
    "space['penalty'] = ['none', 'l1', 'l2', 'elasticnet']\n",
    "space['C'] = [1e-5, 1e-4, 1e-3, 1e-2, 1e-1, 1, 10, 100]\n",
    "model = LogisticRegression(random_state=seed, verbose=0)\n",
    "cv = RepeatedStratifiedKFold(n_splits=5, n_repeats=1, random_state=1)\n",
    "search = GridSearchCV(model, space, scoring='roc_auc', n_jobs=-1, cv=cv)"
   ]
  },
  {
   "cell_type": "code",
   "execution_count": 29,
   "id": "a05a9277",
   "metadata": {
    "execution": {
     "iopub.execute_input": "2021-10-18T05:19:20.844967Z",
     "iopub.status.busy": "2021-10-18T05:19:20.844003Z",
     "iopub.status.idle": "2021-10-18T05:31:25.935360Z",
     "shell.execute_reply": "2021-10-18T05:31:25.935836Z",
     "shell.execute_reply.started": "2021-10-11T16:21:58.157552Z"
    },
    "papermill": {
     "duration": 725.162216,
     "end_time": "2021-10-18T05:31:25.935991",
     "exception": false,
     "start_time": "2021-10-18T05:19:20.773775",
     "status": "completed"
    },
    "tags": []
   },
   "outputs": [
    {
     "name": "stderr",
     "output_type": "stream",
     "text": [
      "/opt/conda/lib/python3.7/site-packages/sklearn/linear_model/_logistic.py:1484: UserWarning: Setting penalty='none' will ignore the C and l1_ratio parameters\n",
      "  \"Setting penalty='none' will ignore the C and l1_ratio parameters\"\n",
      "/opt/conda/lib/python3.7/site-packages/sklearn/linear_model/_logistic.py:1484: UserWarning: Setting penalty='none' will ignore the C and l1_ratio parameters\n",
      "  \"Setting penalty='none' will ignore the C and l1_ratio parameters\"\n",
      "/opt/conda/lib/python3.7/site-packages/sklearn/linear_model/_logistic.py:1484: UserWarning: Setting penalty='none' will ignore the C and l1_ratio parameters\n",
      "  \"Setting penalty='none' will ignore the C and l1_ratio parameters\"\n",
      "/opt/conda/lib/python3.7/site-packages/sklearn/linear_model/_logistic.py:1484: UserWarning: Setting penalty='none' will ignore the C and l1_ratio parameters\n",
      "  \"Setting penalty='none' will ignore the C and l1_ratio parameters\"\n",
      "/opt/conda/lib/python3.7/site-packages/sklearn/linear_model/_logistic.py:1484: UserWarning: Setting penalty='none' will ignore the C and l1_ratio parameters\n",
      "  \"Setting penalty='none' will ignore the C and l1_ratio parameters\"\n",
      "/opt/conda/lib/python3.7/site-packages/sklearn/linear_model/_logistic.py:1484: UserWarning: Setting penalty='none' will ignore the C and l1_ratio parameters\n",
      "  \"Setting penalty='none' will ignore the C and l1_ratio parameters\"\n",
      "/opt/conda/lib/python3.7/site-packages/scipy/optimize/linesearch.py:327: LineSearchWarning: The line search algorithm did not converge\n",
      "  warn('The line search algorithm did not converge', LineSearchWarning)\n",
      "/opt/conda/lib/python3.7/site-packages/sklearn/utils/optimize.py:203: UserWarning: Line Search failed\n",
      "  warnings.warn(\"Line Search failed\")\n",
      "/opt/conda/lib/python3.7/site-packages/sklearn/linear_model/_logistic.py:1484: UserWarning: Setting penalty='none' will ignore the C and l1_ratio parameters\n",
      "  \"Setting penalty='none' will ignore the C and l1_ratio parameters\"\n",
      "/opt/conda/lib/python3.7/site-packages/sklearn/linear_model/_logistic.py:1484: UserWarning: Setting penalty='none' will ignore the C and l1_ratio parameters\n",
      "  \"Setting penalty='none' will ignore the C and l1_ratio parameters\"\n",
      "/opt/conda/lib/python3.7/site-packages/sklearn/linear_model/_logistic.py:1484: UserWarning: Setting penalty='none' will ignore the C and l1_ratio parameters\n",
      "  \"Setting penalty='none' will ignore the C and l1_ratio parameters\"\n",
      "/opt/conda/lib/python3.7/site-packages/sklearn/linear_model/_logistic.py:1484: UserWarning: Setting penalty='none' will ignore the C and l1_ratio parameters\n",
      "  \"Setting penalty='none' will ignore the C and l1_ratio parameters\"\n",
      "/opt/conda/lib/python3.7/site-packages/sklearn/linear_model/_logistic.py:1484: UserWarning: Setting penalty='none' will ignore the C and l1_ratio parameters\n",
      "  \"Setting penalty='none' will ignore the C and l1_ratio parameters\"\n",
      "/opt/conda/lib/python3.7/site-packages/sklearn/linear_model/_logistic.py:1484: UserWarning: Setting penalty='none' will ignore the C and l1_ratio parameters\n",
      "  \"Setting penalty='none' will ignore the C and l1_ratio parameters\"\n",
      "/opt/conda/lib/python3.7/site-packages/sklearn/linear_model/_logistic.py:1484: UserWarning: Setting penalty='none' will ignore the C and l1_ratio parameters\n",
      "  \"Setting penalty='none' will ignore the C and l1_ratio parameters\"\n",
      "/opt/conda/lib/python3.7/site-packages/sklearn/linear_model/_logistic.py:1484: UserWarning: Setting penalty='none' will ignore the C and l1_ratio parameters\n",
      "  \"Setting penalty='none' will ignore the C and l1_ratio parameters\"\n",
      "/opt/conda/lib/python3.7/site-packages/sklearn/linear_model/_logistic.py:1484: UserWarning: Setting penalty='none' will ignore the C and l1_ratio parameters\n",
      "  \"Setting penalty='none' will ignore the C and l1_ratio parameters\"\n",
      "/opt/conda/lib/python3.7/site-packages/sklearn/linear_model/_logistic.py:1484: UserWarning: Setting penalty='none' will ignore the C and l1_ratio parameters\n",
      "  \"Setting penalty='none' will ignore the C and l1_ratio parameters\"\n",
      "/opt/conda/lib/python3.7/site-packages/sklearn/linear_model/_logistic.py:1484: UserWarning: Setting penalty='none' will ignore the C and l1_ratio parameters\n",
      "  \"Setting penalty='none' will ignore the C and l1_ratio parameters\"\n",
      "/opt/conda/lib/python3.7/site-packages/sklearn/linear_model/_logistic.py:1484: UserWarning: Setting penalty='none' will ignore the C and l1_ratio parameters\n",
      "  \"Setting penalty='none' will ignore the C and l1_ratio parameters\"\n",
      "/opt/conda/lib/python3.7/site-packages/sklearn/linear_model/_logistic.py:1484: UserWarning: Setting penalty='none' will ignore the C and l1_ratio parameters\n",
      "  \"Setting penalty='none' will ignore the C and l1_ratio parameters\"\n",
      "/opt/conda/lib/python3.7/site-packages/sklearn/linear_model/_logistic.py:1484: UserWarning: Setting penalty='none' will ignore the C and l1_ratio parameters\n",
      "  \"Setting penalty='none' will ignore the C and l1_ratio parameters\"\n",
      "/opt/conda/lib/python3.7/site-packages/sklearn/linear_model/_logistic.py:1484: UserWarning: Setting penalty='none' will ignore the C and l1_ratio parameters\n",
      "  \"Setting penalty='none' will ignore the C and l1_ratio parameters\"\n",
      "/opt/conda/lib/python3.7/site-packages/sklearn/linear_model/_logistic.py:1484: UserWarning: Setting penalty='none' will ignore the C and l1_ratio parameters\n",
      "  \"Setting penalty='none' will ignore the C and l1_ratio parameters\"\n",
      "/opt/conda/lib/python3.7/site-packages/sklearn/linear_model/_logistic.py:1484: UserWarning: Setting penalty='none' will ignore the C and l1_ratio parameters\n",
      "  \"Setting penalty='none' will ignore the C and l1_ratio parameters\"\n",
      "/opt/conda/lib/python3.7/site-packages/sklearn/linear_model/_logistic.py:1484: UserWarning: Setting penalty='none' will ignore the C and l1_ratio parameters\n",
      "  \"Setting penalty='none' will ignore the C and l1_ratio parameters\"\n",
      "/opt/conda/lib/python3.7/site-packages/sklearn/linear_model/_logistic.py:1484: UserWarning: Setting penalty='none' will ignore the C and l1_ratio parameters\n",
      "  \"Setting penalty='none' will ignore the C and l1_ratio parameters\"\n",
      "/opt/conda/lib/python3.7/site-packages/sklearn/linear_model/_logistic.py:1484: UserWarning: Setting penalty='none' will ignore the C and l1_ratio parameters\n",
      "  \"Setting penalty='none' will ignore the C and l1_ratio parameters\"\n",
      "/opt/conda/lib/python3.7/site-packages/sklearn/linear_model/_logistic.py:1484: UserWarning: Setting penalty='none' will ignore the C and l1_ratio parameters\n",
      "  \"Setting penalty='none' will ignore the C and l1_ratio parameters\"\n",
      "/opt/conda/lib/python3.7/site-packages/sklearn/linear_model/_logistic.py:1484: UserWarning: Setting penalty='none' will ignore the C and l1_ratio parameters\n",
      "  \"Setting penalty='none' will ignore the C and l1_ratio parameters\"\n",
      "/opt/conda/lib/python3.7/site-packages/sklearn/linear_model/_logistic.py:1484: UserWarning: Setting penalty='none' will ignore the C and l1_ratio parameters\n",
      "  \"Setting penalty='none' will ignore the C and l1_ratio parameters\"\n",
      "/opt/conda/lib/python3.7/site-packages/sklearn/linear_model/_logistic.py:1484: UserWarning: Setting penalty='none' will ignore the C and l1_ratio parameters\n",
      "  \"Setting penalty='none' will ignore the C and l1_ratio parameters\"\n",
      "/opt/conda/lib/python3.7/site-packages/sklearn/linear_model/_logistic.py:1484: UserWarning: Setting penalty='none' will ignore the C and l1_ratio parameters\n",
      "  \"Setting penalty='none' will ignore the C and l1_ratio parameters\"\n",
      "/opt/conda/lib/python3.7/site-packages/sklearn/linear_model/_logistic.py:1484: UserWarning: Setting penalty='none' will ignore the C and l1_ratio parameters\n",
      "  \"Setting penalty='none' will ignore the C and l1_ratio parameters\"\n",
      "/opt/conda/lib/python3.7/site-packages/sklearn/linear_model/_logistic.py:1484: UserWarning: Setting penalty='none' will ignore the C and l1_ratio parameters\n",
      "  \"Setting penalty='none' will ignore the C and l1_ratio parameters\"\n",
      "/opt/conda/lib/python3.7/site-packages/sklearn/linear_model/_logistic.py:1484: UserWarning: Setting penalty='none' will ignore the C and l1_ratio parameters\n",
      "  \"Setting penalty='none' will ignore the C and l1_ratio parameters\"\n",
      "/opt/conda/lib/python3.7/site-packages/sklearn/linear_model/_logistic.py:1484: UserWarning: Setting penalty='none' will ignore the C and l1_ratio parameters\n",
      "  \"Setting penalty='none' will ignore the C and l1_ratio parameters\"\n"
     ]
    },
    {
     "name": "stdout",
     "output_type": "stream",
     "text": [
      "Best Score: 0.8470041623921155\n",
      "Best Hyperparameters: {'C': 0.01, 'penalty': 'l1', 'solver': 'liblinear'}\n"
     ]
    }
   ],
   "source": [
    "result = search.fit(x_train, y_train)\n",
    "# summarize result\n",
    "print('Best Score: %s' % result.best_score_)\n",
    "print('Best Hyperparameters: %s' % result.best_params_)"
   ]
  },
  {
   "cell_type": "code",
   "execution_count": 30,
   "id": "63407f4f",
   "metadata": {
    "execution": {
     "iopub.execute_input": "2021-10-18T05:31:26.075262Z",
     "iopub.status.busy": "2021-10-18T05:31:26.074326Z",
     "iopub.status.idle": "2021-10-18T05:31:26.078363Z",
     "shell.execute_reply": "2021-10-18T05:31:26.077946Z",
     "shell.execute_reply.started": "2021-10-11T16:41:24.608945Z"
    },
    "papermill": {
     "duration": 0.07618,
     "end_time": "2021-10-18T05:31:26.078484",
     "exception": false,
     "start_time": "2021-10-18T05:31:26.002304",
     "status": "completed"
    },
    "tags": []
   },
   "outputs": [
    {
     "data": {
      "text/plain": [
       "LogisticRegression(C=0.01, penalty='l1', random_state=47, solver='liblinear')"
      ]
     },
     "execution_count": 30,
     "metadata": {},
     "output_type": "execute_result"
    }
   ],
   "source": [
    "result.best_estimator_"
   ]
  },
  {
   "cell_type": "markdown",
   "id": "9d97a92d",
   "metadata": {
    "papermill": {
     "duration": 0.066673,
     "end_time": "2021-10-18T05:31:26.211924",
     "exception": false,
     "start_time": "2021-10-18T05:31:26.145251",
     "status": "completed"
    },
    "tags": []
   },
   "source": [
    "# XGBoost Classifier"
   ]
  },
  {
   "cell_type": "code",
   "execution_count": 31,
   "id": "8784e1b9",
   "metadata": {
    "execution": {
     "iopub.execute_input": "2021-10-18T05:31:26.418326Z",
     "iopub.status.busy": "2021-10-18T05:31:26.417276Z",
     "iopub.status.idle": "2021-10-18T05:32:10.343644Z",
     "shell.execute_reply": "2021-10-18T05:32:10.343115Z",
     "shell.execute_reply.started": "2021-10-16T22:47:02.76412Z"
    },
    "papermill": {
     "duration": 44.065268,
     "end_time": "2021-10-18T05:32:10.343788",
     "exception": false,
     "start_time": "2021-10-18T05:31:26.278520",
     "status": "completed"
    },
    "tags": []
   },
   "outputs": [],
   "source": [
    "p = PowerTransformer()\n",
    "x_train = train_df.drop(['id', 'target'], axis=1)\n",
    "x_train['var'] = np.var(x_train, axis=1)\n",
    "y_train = train_df['target']\n",
    "x_train = p.fit_transform(x_train)"
   ]
  },
  {
   "cell_type": "code",
   "execution_count": 32,
   "id": "40abeaf1",
   "metadata": {
    "execution": {
     "iopub.execute_input": "2021-10-18T05:32:10.481357Z",
     "iopub.status.busy": "2021-10-18T05:32:10.480598Z",
     "iopub.status.idle": "2021-10-18T05:32:10.487607Z",
     "shell.execute_reply": "2021-10-18T05:32:10.487170Z",
     "shell.execute_reply.started": "2021-10-16T22:47:47.022865Z"
    },
    "papermill": {
     "duration": 0.07658,
     "end_time": "2021-10-18T05:32:10.487715",
     "exception": false,
     "start_time": "2021-10-18T05:32:10.411135",
     "status": "completed"
    },
    "tags": []
   },
   "outputs": [],
   "source": [
    "params = {'n_estimators' : [1000, 1290, 1295, 1300, 1305, 1310, 1315, 1325],\n",
    "          'max_depth' : [3, 4],\n",
    "          'subsample' : [0.8, 0.9, 1.0],\n",
    "          'eta' : [0.12],\n",
    "          'colsample_bytree' : [0.3, 0.4],\n",
    "          'min_child_weight': [5],\n",
    "          'gamma': [5],\n",
    "         }\n",
    "\n",
    "model = XGBClassifier(random_state=seed, tree_method='gpu_hist', predictor='gpu_predictor', use_label_encoder=False, verbosity=0)\n",
    "cv = RepeatedStratifiedKFold(n_splits=10, n_repeats=1, random_state=1)\n",
    "search = GridSearchCV(model, param_grid=params, scoring='roc_auc', refit='roc_auc', n_jobs=-1, cv=cv)"
   ]
  },
  {
   "cell_type": "code",
   "execution_count": 33,
   "id": "285fa2ed",
   "metadata": {
    "execution": {
     "iopub.execute_input": "2021-10-18T05:32:10.626859Z",
     "iopub.status.busy": "2021-10-18T05:32:10.626113Z",
     "iopub.status.idle": "2021-10-18T07:18:54.785808Z",
     "shell.execute_reply": "2021-10-18T07:18:54.786242Z",
     "shell.execute_reply.started": "2021-10-16T22:47:47.030999Z"
    },
    "papermill": {
     "duration": 6404.232108,
     "end_time": "2021-10-18T07:18:54.786429",
     "exception": false,
     "start_time": "2021-10-18T05:32:10.554321",
     "status": "completed"
    },
    "tags": []
   },
   "outputs": [
    {
     "name": "stderr",
     "output_type": "stream",
     "text": [
      "/opt/conda/lib/python3.7/site-packages/sklearn/linear_model/_logistic.py:1484: UserWarning: Setting penalty='none' will ignore the C and l1_ratio parameters\n",
      "  \"Setting penalty='none' will ignore the C and l1_ratio parameters\"\n",
      "/opt/conda/lib/python3.7/site-packages/sklearn/linear_model/_logistic.py:1484: UserWarning: Setting penalty='none' will ignore the C and l1_ratio parameters\n",
      "  \"Setting penalty='none' will ignore the C and l1_ratio parameters\"\n",
      "/opt/conda/lib/python3.7/site-packages/sklearn/linear_model/_logistic.py:1484: UserWarning: Setting penalty='none' will ignore the C and l1_ratio parameters\n",
      "  \"Setting penalty='none' will ignore the C and l1_ratio parameters\"\n",
      "/opt/conda/lib/python3.7/site-packages/sklearn/linear_model/_logistic.py:1484: UserWarning: Setting penalty='none' will ignore the C and l1_ratio parameters\n",
      "  \"Setting penalty='none' will ignore the C and l1_ratio parameters\"\n",
      "/opt/conda/lib/python3.7/site-packages/scipy/optimize/linesearch.py:327: LineSearchWarning: The line search algorithm did not converge\n",
      "  warn('The line search algorithm did not converge', LineSearchWarning)\n",
      "/opt/conda/lib/python3.7/site-packages/sklearn/utils/optimize.py:203: UserWarning: Line Search failed\n",
      "  warnings.warn(\"Line Search failed\")\n",
      "/opt/conda/lib/python3.7/site-packages/sklearn/linear_model/_logistic.py:1484: UserWarning: Setting penalty='none' will ignore the C and l1_ratio parameters\n",
      "  \"Setting penalty='none' will ignore the C and l1_ratio parameters\"\n",
      "/opt/conda/lib/python3.7/site-packages/sklearn/linear_model/_logistic.py:1484: UserWarning: Setting penalty='none' will ignore the C and l1_ratio parameters\n",
      "  \"Setting penalty='none' will ignore the C and l1_ratio parameters\"\n",
      "/opt/conda/lib/python3.7/site-packages/sklearn/linear_model/_logistic.py:1484: UserWarning: Setting penalty='none' will ignore the C and l1_ratio parameters\n",
      "  \"Setting penalty='none' will ignore the C and l1_ratio parameters\"\n",
      "/opt/conda/lib/python3.7/site-packages/sklearn/linear_model/_logistic.py:1484: UserWarning: Setting penalty='none' will ignore the C and l1_ratio parameters\n",
      "  \"Setting penalty='none' will ignore the C and l1_ratio parameters\"\n",
      "/opt/conda/lib/python3.7/site-packages/sklearn/linear_model/_logistic.py:1484: UserWarning: Setting penalty='none' will ignore the C and l1_ratio parameters\n",
      "  \"Setting penalty='none' will ignore the C and l1_ratio parameters\"\n",
      "/opt/conda/lib/python3.7/site-packages/sklearn/linear_model/_logistic.py:1484: UserWarning: Setting penalty='none' will ignore the C and l1_ratio parameters\n",
      "  \"Setting penalty='none' will ignore the C and l1_ratio parameters\"\n",
      "/opt/conda/lib/python3.7/site-packages/sklearn/linear_model/_logistic.py:1484: UserWarning: Setting penalty='none' will ignore the C and l1_ratio parameters\n",
      "  \"Setting penalty='none' will ignore the C and l1_ratio parameters\"\n",
      "/opt/conda/lib/python3.7/site-packages/sklearn/linear_model/_logistic.py:1484: UserWarning: Setting penalty='none' will ignore the C and l1_ratio parameters\n",
      "  \"Setting penalty='none' will ignore the C and l1_ratio parameters\"\n",
      "/opt/conda/lib/python3.7/site-packages/sklearn/linear_model/_logistic.py:1484: UserWarning: Setting penalty='none' will ignore the C and l1_ratio parameters\n",
      "  \"Setting penalty='none' will ignore the C and l1_ratio parameters\"\n",
      "/opt/conda/lib/python3.7/site-packages/sklearn/linear_model/_logistic.py:1484: UserWarning: Setting penalty='none' will ignore the C and l1_ratio parameters\n",
      "  \"Setting penalty='none' will ignore the C and l1_ratio parameters\"\n",
      "/opt/conda/lib/python3.7/site-packages/sklearn/linear_model/_logistic.py:1484: UserWarning: Setting penalty='none' will ignore the C and l1_ratio parameters\n",
      "  \"Setting penalty='none' will ignore the C and l1_ratio parameters\"\n",
      "/opt/conda/lib/python3.7/site-packages/sklearn/linear_model/_logistic.py:1484: UserWarning: Setting penalty='none' will ignore the C and l1_ratio parameters\n",
      "  \"Setting penalty='none' will ignore the C and l1_ratio parameters\"\n",
      "/opt/conda/lib/python3.7/site-packages/sklearn/linear_model/_logistic.py:1484: UserWarning: Setting penalty='none' will ignore the C and l1_ratio parameters\n",
      "  \"Setting penalty='none' will ignore the C and l1_ratio parameters\"\n",
      "/opt/conda/lib/python3.7/site-packages/sklearn/linear_model/_logistic.py:1484: UserWarning: Setting penalty='none' will ignore the C and l1_ratio parameters\n",
      "  \"Setting penalty='none' will ignore the C and l1_ratio parameters\"\n",
      "/opt/conda/lib/python3.7/site-packages/sklearn/linear_model/_logistic.py:1484: UserWarning: Setting penalty='none' will ignore the C and l1_ratio parameters\n",
      "  \"Setting penalty='none' will ignore the C and l1_ratio parameters\"\n",
      "/opt/conda/lib/python3.7/site-packages/sklearn/linear_model/_logistic.py:1484: UserWarning: Setting penalty='none' will ignore the C and l1_ratio parameters\n",
      "  \"Setting penalty='none' will ignore the C and l1_ratio parameters\"\n",
      "/opt/conda/lib/python3.7/site-packages/sklearn/linear_model/_logistic.py:1484: UserWarning: Setting penalty='none' will ignore the C and l1_ratio parameters\n",
      "  \"Setting penalty='none' will ignore the C and l1_ratio parameters\"\n",
      "/opt/conda/lib/python3.7/site-packages/sklearn/linear_model/_logistic.py:1484: UserWarning: Setting penalty='none' will ignore the C and l1_ratio parameters\n",
      "  \"Setting penalty='none' will ignore the C and l1_ratio parameters\"\n",
      "/opt/conda/lib/python3.7/site-packages/sklearn/linear_model/_logistic.py:1484: UserWarning: Setting penalty='none' will ignore the C and l1_ratio parameters\n",
      "  \"Setting penalty='none' will ignore the C and l1_ratio parameters\"\n",
      "/opt/conda/lib/python3.7/site-packages/sklearn/linear_model/_logistic.py:1484: UserWarning: Setting penalty='none' will ignore the C and l1_ratio parameters\n",
      "  \"Setting penalty='none' will ignore the C and l1_ratio parameters\"\n",
      "/opt/conda/lib/python3.7/site-packages/sklearn/linear_model/_logistic.py:1484: UserWarning: Setting penalty='none' will ignore the C and l1_ratio parameters\n",
      "  \"Setting penalty='none' will ignore the C and l1_ratio parameters\"\n",
      "/opt/conda/lib/python3.7/site-packages/sklearn/linear_model/_logistic.py:1484: UserWarning: Setting penalty='none' will ignore the C and l1_ratio parameters\n",
      "  \"Setting penalty='none' will ignore the C and l1_ratio parameters\"\n",
      "/opt/conda/lib/python3.7/site-packages/sklearn/linear_model/_logistic.py:1484: UserWarning: Setting penalty='none' will ignore the C and l1_ratio parameters\n",
      "  \"Setting penalty='none' will ignore the C and l1_ratio parameters\"\n",
      "/opt/conda/lib/python3.7/site-packages/sklearn/linear_model/_logistic.py:1484: UserWarning: Setting penalty='none' will ignore the C and l1_ratio parameters\n",
      "  \"Setting penalty='none' will ignore the C and l1_ratio parameters\"\n",
      "/opt/conda/lib/python3.7/site-packages/sklearn/linear_model/_logistic.py:1484: UserWarning: Setting penalty='none' will ignore the C and l1_ratio parameters\n",
      "  \"Setting penalty='none' will ignore the C and l1_ratio parameters\"\n",
      "/opt/conda/lib/python3.7/site-packages/sklearn/linear_model/_logistic.py:1484: UserWarning: Setting penalty='none' will ignore the C and l1_ratio parameters\n",
      "  \"Setting penalty='none' will ignore the C and l1_ratio parameters\"\n",
      "/opt/conda/lib/python3.7/site-packages/sklearn/linear_model/_logistic.py:1484: UserWarning: Setting penalty='none' will ignore the C and l1_ratio parameters\n",
      "  \"Setting penalty='none' will ignore the C and l1_ratio parameters\"\n",
      "/opt/conda/lib/python3.7/site-packages/sklearn/linear_model/_logistic.py:1484: UserWarning: Setting penalty='none' will ignore the C and l1_ratio parameters\n",
      "  \"Setting penalty='none' will ignore the C and l1_ratio parameters\"\n",
      "/opt/conda/lib/python3.7/site-packages/sklearn/linear_model/_logistic.py:1484: UserWarning: Setting penalty='none' will ignore the C and l1_ratio parameters\n",
      "  \"Setting penalty='none' will ignore the C and l1_ratio parameters\"\n",
      "/opt/conda/lib/python3.7/site-packages/sklearn/linear_model/_logistic.py:1484: UserWarning: Setting penalty='none' will ignore the C and l1_ratio parameters\n",
      "  \"Setting penalty='none' will ignore the C and l1_ratio parameters\"\n",
      "/opt/conda/lib/python3.7/site-packages/sklearn/linear_model/_logistic.py:1484: UserWarning: Setting penalty='none' will ignore the C and l1_ratio parameters\n",
      "  \"Setting penalty='none' will ignore the C and l1_ratio parameters\"\n"
     ]
    },
    {
     "name": "stdout",
     "output_type": "stream",
     "text": [
      "Best Score: 0.8531397622868944\n",
      "Best Hyperparameters: {'colsample_bytree': 0.3, 'eta': 0.12, 'gamma': 5, 'max_depth': 3, 'min_child_weight': 5, 'n_estimators': 1000, 'subsample': 1.0}\n"
     ]
    }
   ],
   "source": [
    "result = search.fit(x_train, y_train)\n",
    "# summarize result\n",
    "print('Best Score: %s' % result.best_score_)\n",
    "print('Best Hyperparameters: %s' % result.best_params_)"
   ]
  },
  {
   "cell_type": "markdown",
   "id": "304b1806",
   "metadata": {
    "papermill": {
     "duration": 0.068966,
     "end_time": "2021-10-18T07:18:54.925455",
     "exception": false,
     "start_time": "2021-10-18T07:18:54.856489",
     "status": "completed"
    },
    "tags": []
   },
   "source": [
    "# Individual Search on Full data set\n",
    "\n",
    "Now with best params, we will do an individual search on the full dataset since we were using only 10% in the grid search."
   ]
  },
  {
   "cell_type": "code",
   "execution_count": 34,
   "id": "1262ec26",
   "metadata": {
    "execution": {
     "iopub.execute_input": "2021-10-18T07:18:55.071613Z",
     "iopub.status.busy": "2021-10-18T07:18:55.070337Z",
     "iopub.status.idle": "2021-10-18T07:19:32.358763Z",
     "shell.execute_reply": "2021-10-18T07:19:32.358126Z",
     "shell.execute_reply.started": "2021-10-17T00:07:09.190127Z"
    },
    "papermill": {
     "duration": 37.362658,
     "end_time": "2021-10-18T07:19:32.358899",
     "exception": false,
     "start_time": "2021-10-18T07:18:54.996241",
     "status": "completed"
    },
    "tags": []
   },
   "outputs": [],
   "source": [
    "train_df = pd.read_csv('/kaggle/input/tabular-playground-series-oct-2021/train.csv', sep=',')"
   ]
  },
  {
   "cell_type": "code",
   "execution_count": 35,
   "id": "cad23d02",
   "metadata": {
    "execution": {
     "iopub.execute_input": "2021-10-18T07:19:33.122036Z",
     "iopub.status.busy": "2021-10-18T07:19:33.120646Z",
     "iopub.status.idle": "2021-10-18T07:25:31.579293Z",
     "shell.execute_reply": "2021-10-18T07:25:31.578777Z",
     "shell.execute_reply.started": "2021-10-17T00:07:46.772278Z"
    },
    "papermill": {
     "duration": 359.151907,
     "end_time": "2021-10-18T07:25:31.579456",
     "exception": false,
     "start_time": "2021-10-18T07:19:32.427549",
     "status": "completed"
    },
    "tags": []
   },
   "outputs": [],
   "source": [
    "p = PowerTransformer()\n",
    "x_train = train_df.drop(['id', 'target'], axis=1)\n",
    "x_train['var'] = np.var(x_train, axis=1)\n",
    "y_train = train_df['target']\n",
    "x_train, x_test, y_train, y_test = train_test_split(x_train, y_train, test_size = 0.2, random_state = seed)\n",
    "x_train = p.fit_transform(x_train)\n",
    "x_test = p.transform(x_test)"
   ]
  },
  {
   "cell_type": "code",
   "execution_count": 36,
   "id": "2a2dc175",
   "metadata": {
    "execution": {
     "iopub.execute_input": "2021-10-18T07:25:31.723263Z",
     "iopub.status.busy": "2021-10-18T07:25:31.720828Z",
     "iopub.status.idle": "2021-10-18T07:25:31.725959Z",
     "shell.execute_reply": "2021-10-18T07:25:31.726352Z",
     "shell.execute_reply.started": "2021-10-17T00:13:42.2778Z"
    },
    "papermill": {
     "duration": 0.076919,
     "end_time": "2021-10-18T07:25:31.726496",
     "exception": false,
     "start_time": "2021-10-18T07:25:31.649577",
     "status": "completed"
    },
    "tags": []
   },
   "outputs": [
    {
     "name": "stdout",
     "output_type": "stream",
     "text": [
      "{'colsample_bytree': 0.3, 'eta': 0.12, 'gamma': 5, 'max_depth': 3, 'min_child_weight': 5, 'n_estimators': 1000, 'subsample': 1.0}\n"
     ]
    }
   ],
   "source": [
    "params = result.best_params_.copy()\n",
    "print(params)"
   ]
  },
  {
   "cell_type": "markdown",
   "id": "6577616f",
   "metadata": {
    "papermill": {
     "duration": 0.07031,
     "end_time": "2021-10-18T07:25:31.866579",
     "exception": false,
     "start_time": "2021-10-18T07:25:31.796269",
     "status": "completed"
    },
    "tags": []
   },
   "source": [
    "<h3>1 - Testing different number of estimators</h3>"
   ]
  },
  {
   "cell_type": "code",
   "execution_count": 37,
   "id": "55281e33",
   "metadata": {
    "execution": {
     "iopub.execute_input": "2021-10-18T07:25:32.015658Z",
     "iopub.status.busy": "2021-10-18T07:25:32.014816Z",
     "iopub.status.idle": "2021-10-18T07:44:00.207851Z",
     "shell.execute_reply": "2021-10-18T07:44:00.208289Z",
     "shell.execute_reply.started": "2021-10-17T00:13:42.287306Z"
    },
    "papermill": {
     "duration": 1108.271206,
     "end_time": "2021-10-18T07:44:00.208471",
     "exception": false,
     "start_time": "2021-10-18T07:25:31.937265",
     "status": "completed"
    },
    "tags": []
   },
   "outputs": [
    {
     "name": "stdout",
     "output_type": "stream",
     "text": [
      "n_estimators: 100 auc_roc_curve: 0.8453085834033844\n",
      "n_estimators: 150 auc_roc_curve: 0.8491323028943352\n",
      "n_estimators: 200 auc_roc_curve: 0.8511798847506142\n",
      "n_estimators: 250 auc_roc_curve: 0.8525180790870425\n",
      "n_estimators: 300 auc_roc_curve: 0.853576663571131\n",
      "n_estimators: 350 auc_roc_curve: 0.8542527482156432\n",
      "n_estimators: 400 auc_roc_curve: 0.8548345160551847\n",
      "n_estimators: 450 auc_roc_curve: 0.8552570643454874\n",
      "n_estimators: 500 auc_roc_curve: 0.855562977196821\n",
      "n_estimators: 600 auc_roc_curve: 0.8560328825653568\n",
      "n_estimators: 700 auc_roc_curve: 0.8563621008544027\n",
      "n_estimators: 800 auc_roc_curve: 0.856523624712314\n",
      "n_estimators: 900 auc_roc_curve: 0.8566583470193547\n",
      "n_estimators: 950 auc_roc_curve: 0.856701545881938\n",
      "n_estimators: 975 auc_roc_curve: 0.8567280969318656\n",
      "n_estimators: 1000 auc_roc_curve: 0.8567251840209026\n",
      "n_estimators: 1025 auc_roc_curve: 0.8567302520399765\n",
      "n_estimators: 1050 auc_roc_curve: 0.8567287082341662\n",
      "n_estimators: 1100 auc_roc_curve: 0.8567421928349168\n",
      "n_estimators: 1150 auc_roc_curve: 0.8567382287699978\n",
      "n_estimators: 1290 auc_roc_curve: 0.856738228569997\n",
      "n_estimators: 1295 auc_roc_curve: 0.8567382285199969\n",
      "n_estimators: 1300 auc_roc_curve: 0.8567382285199969\n",
      "n_estimators: 1305 auc_roc_curve: 0.8567382285199969\n",
      "n_estimators: 1310 auc_roc_curve: 0.8567382283699962\n",
      "n_estimators: 1315 auc_roc_curve: 0.8567382284199965\n",
      "n_estimators: 1325 auc_roc_curve: 0.8567382285199969\n",
      "n_estimators: 2000 auc_roc_curve: 0.8567382283199961\n",
      "\n",
      "Best n_estimators: 1100 AUCROC score: 0.8567421928349168\n"
     ]
    }
   ],
   "source": [
    "results_trees = {}\n",
    "trees = [100, 150, 200, 250, 300, 350, 400, 450, 500, 600, 700, 800, 900, 950, 975, 1000, 1025, 1050, 1100, 1150, 1290, 1295, 1300, 1305, 1310, 1315, 1325, 2000]\n",
    "for n in trees:\n",
    "    params['n_estimators'] = n\n",
    "    model = XGBClassifier(**params, random_state=seed, tree_method='gpu_hist', predictor='gpu_predictor', use_label_encoder=False, verbosity=0)\n",
    "    model.fit(x_train, y_train)\n",
    "    result = evaluate_model(model, x_test, y_test)\n",
    "    results_trees[n] = result['auc_roc_curve']\n",
    "    print('n_estimators:', n, 'auc_roc_curve:', results_trees[n])\n",
    "\n",
    "best_nestimator = max(results_trees, key=results_trees.get)\n",
    "print('\\nBest n_estimators:', best_nestimator, 'AUCROC score:', results_trees[best_nestimator])"
   ]
  },
  {
   "cell_type": "markdown",
   "id": "534a8bf2",
   "metadata": {
    "papermill": {
     "duration": 0.076161,
     "end_time": "2021-10-18T07:44:00.361598",
     "exception": false,
     "start_time": "2021-10-18T07:44:00.285437",
     "status": "completed"
    },
    "tags": []
   },
   "source": [
    "<h3>2 - Testing different max_depth</h3>"
   ]
  },
  {
   "cell_type": "code",
   "execution_count": 38,
   "id": "5cf42b95",
   "metadata": {
    "execution": {
     "iopub.execute_input": "2021-10-18T07:44:00.520864Z",
     "iopub.status.busy": "2021-10-18T07:44:00.520052Z",
     "iopub.status.idle": "2021-10-18T07:46:59.886438Z",
     "shell.execute_reply": "2021-10-18T07:46:59.886907Z",
     "shell.execute_reply.started": "2021-10-17T00:33:10.598565Z"
    },
    "papermill": {
     "duration": 179.450472,
     "end_time": "2021-10-18T07:46:59.887055",
     "exception": false,
     "start_time": "2021-10-18T07:44:00.436583",
     "status": "completed"
    },
    "tags": []
   },
   "outputs": [
    {
     "name": "stdout",
     "output_type": "stream",
     "text": [
      "max_depth: 1 auc_roc_curve: 0.8532529691028746\n",
      "max_depth: 2 auc_roc_curve: 0.8561991460911063\n",
      "max_depth: 3 auc_roc_curve: 0.8567421928349168\n",
      "max_depth: 4 auc_roc_curve: 0.8564612497275595\n",
      "\n",
      "Best max_depth: 3 AUCROC score: 0.8567421928349168\n"
     ]
    }
   ],
   "source": [
    "results_max_depths = {}\n",
    "params['n_estimators'] = best_nestimator\n",
    "max_depths = [i for i in range(1,5)]\n",
    "\n",
    "for max_depth in max_depths:\n",
    "    params['max_depth'] = max_depth\n",
    "    model = XGBClassifier(**params, random_state=seed, tree_method='gpu_hist', predictor='gpu_predictor', use_label_encoder=False, verbosity=0)\n",
    "    model.fit(x_train, y_train)\n",
    "    result = evaluate_model(model, x_test, y_test)\n",
    "    results_max_depths[max_depth] = result['auc_roc_curve']\n",
    "    print('max_depth:', max_depth, 'auc_roc_curve:', results_max_depths[max_depth])\n",
    "\n",
    "best_max_depth = max(results_max_depths, key=results_max_depths.get)\n",
    "print('\\nBest max_depth:', best_max_depth, 'AUCROC score:', results_max_depths[best_max_depth])"
   ]
  },
  {
   "cell_type": "markdown",
   "id": "da3c2e80",
   "metadata": {
    "papermill": {
     "duration": 0.078472,
     "end_time": "2021-10-18T07:47:00.041869",
     "exception": false,
     "start_time": "2021-10-18T07:46:59.963397",
     "status": "completed"
    },
    "tags": []
   },
   "source": [
    "<h3>Testing different subsamples</h3>"
   ]
  },
  {
   "cell_type": "code",
   "execution_count": 39,
   "id": "21e90095",
   "metadata": {
    "execution": {
     "iopub.execute_input": "2021-10-18T07:47:00.210508Z",
     "iopub.status.busy": "2021-10-18T07:47:00.208888Z",
     "iopub.status.idle": "2021-10-18T07:54:29.655617Z",
     "shell.execute_reply": "2021-10-18T07:54:29.656059Z",
     "shell.execute_reply.started": "2021-10-17T00:42:42.869841Z"
    },
    "papermill": {
     "duration": 449.537496,
     "end_time": "2021-10-18T07:54:29.656208",
     "exception": false,
     "start_time": "2021-10-18T07:47:00.118712",
     "status": "completed"
    },
    "tags": []
   },
   "outputs": [
    {
     "name": "stdout",
     "output_type": "stream",
     "text": [
      "subsample: 0.1 auc_roc_curve: 0.853180517080194\n",
      "subsample: 0.2 auc_roc_curve: 0.8549982720714968\n",
      "subsample: 0.30000000000000004 auc_roc_curve: 0.8558311846062464\n",
      "subsample: 0.4 auc_roc_curve: 0.856165852915804\n",
      "subsample: 0.5 auc_roc_curve: 0.8563965183339364\n",
      "subsample: 0.6 auc_roc_curve: 0.8565626922593486\n",
      "subsample: 0.7000000000000001 auc_roc_curve: 0.8567418803337408\n",
      "subsample: 0.8 auc_roc_curve: 0.8567407179293659\n",
      "subsample: 0.9 auc_roc_curve: 0.8568356103865032\n",
      "subsample: 1.0 auc_roc_curve: 0.8567421928349168\n",
      "\n",
      "Best subsample: 0.9 AUCROC score: 0.8568356103865032\n"
     ]
    }
   ],
   "source": [
    "results_subsamples = {}\n",
    "params['max_depth'] = best_max_depth\n",
    "subsamples = [i for i in np.arange(0.1, 1.1, 0.1)]\n",
    "\n",
    "for subsample in subsamples:\n",
    "    params['subsample'] = subsample\n",
    "    model = XGBClassifier(**params, random_state=seed, tree_method='gpu_hist', predictor='gpu_predictor', use_label_encoder=False, verbosity=0)\n",
    "    model.fit(x_train, y_train)\n",
    "    result = evaluate_model(model, x_test, y_test)\n",
    "    results_subsamples[subsample] = result['auc_roc_curve']\n",
    "    print('subsample:', subsample, 'auc_roc_curve:', results_subsamples[subsample])\n",
    "\n",
    "best_subsample = max(results_subsamples, key=results_subsamples.get)\n",
    "print('\\nBest subsample:', best_subsample, 'AUCROC score:', results_subsamples[best_subsample])"
   ]
  },
  {
   "cell_type": "markdown",
   "id": "fd79d0e6",
   "metadata": {
    "papermill": {
     "duration": 0.079116,
     "end_time": "2021-10-18T07:54:29.813879",
     "exception": false,
     "start_time": "2021-10-18T07:54:29.734763",
     "status": "completed"
    },
    "tags": []
   },
   "source": [
    "<h3>4 - Testing different learning rates</h3>"
   ]
  },
  {
   "cell_type": "code",
   "execution_count": 40,
   "id": "a456988c",
   "metadata": {
    "execution": {
     "iopub.execute_input": "2021-10-18T07:54:29.980561Z",
     "iopub.status.busy": "2021-10-18T07:54:29.979093Z",
     "iopub.status.idle": "2021-10-18T08:05:20.409041Z",
     "shell.execute_reply": "2021-10-18T08:05:20.409501Z",
     "shell.execute_reply.started": "2021-10-17T00:51:13.978107Z"
    },
    "papermill": {
     "duration": 650.516409,
     "end_time": "2021-10-18T08:05:20.409668",
     "exception": false,
     "start_time": "2021-10-18T07:54:29.893259",
     "status": "completed"
    },
    "tags": []
   },
   "outputs": [
    {
     "name": "stdout",
     "output_type": "stream",
     "text": [
      "eta: 0.0001 auc_roc_curve: 0.8333508683493281\n",
      "eta: 0.001 auc_roc_curve: 0.8346220417835164\n",
      "eta: 0.003 auc_roc_curve: 0.8370024804925356\n",
      "eta: 0.005 auc_roc_curve: 0.8393907339809663\n",
      "eta: 0.01 auc_roc_curve: 0.8447909759053169\n",
      "eta: 0.03 auc_roc_curve: 0.8534625587416861\n",
      "eta: 0.05 auc_roc_curve: 0.8557043132287533\n",
      "eta: 0.1 auc_roc_curve: 0.8567179428436497\n",
      "eta: 0.12 auc_roc_curve: 0.8568356103865032\n",
      "eta: 0.13 auc_roc_curve: 0.8567208729546776\n",
      "eta: 0.3 auc_roc_curve: 0.8550166583406953\n",
      "eta: 0.5 auc_roc_curve: 0.8522404648422135\n",
      "eta: 1.0 auc_roc_curve: 0.8353934124866472\n",
      "\n",
      "Best eta: 0.12 AUCROC score: 0.8568356103865032\n"
     ]
    }
   ],
   "source": [
    "results_etas = {}\n",
    "params['subsample'] = best_subsample\n",
    "etas = [0.0001, 0.001, 0.003, 0.005, 0.01, 0.03, 0.05, 0.1, 0.12, 0.13, 0.3, 0.5, 1.0]\n",
    "\n",
    "for eta in etas:\n",
    "    params['eta'] = eta\n",
    "    model = XGBClassifier(**params, random_state=seed, tree_method='gpu_hist', predictor='gpu_predictor', use_label_encoder=False, verbosity=0)\n",
    "    model.fit(x_train, y_train)\n",
    "    result = evaluate_model(model, x_test, y_test)\n",
    "    results_etas[eta] = result['auc_roc_curve']\n",
    "    print('eta:', eta, 'auc_roc_curve:', results_etas[eta])\n",
    "\n",
    "best_eta = max(results_etas, key=results_etas.get)\n",
    "print('\\nBest eta:', best_eta, 'AUCROC score:', results_etas[best_eta])"
   ]
  },
  {
   "cell_type": "markdown",
   "id": "91d8cb44",
   "metadata": {
    "papermill": {
     "duration": 0.081745,
     "end_time": "2021-10-18T08:05:20.573186",
     "exception": false,
     "start_time": "2021-10-18T08:05:20.491441",
     "status": "completed"
    },
    "tags": []
   },
   "source": [
    "<h3>5 - Testing different number of features</h3>"
   ]
  },
  {
   "cell_type": "code",
   "execution_count": 41,
   "id": "ef9e0bb5",
   "metadata": {
    "execution": {
     "iopub.execute_input": "2021-10-18T08:05:20.745022Z",
     "iopub.status.busy": "2021-10-18T08:05:20.744002Z",
     "iopub.status.idle": "2021-10-18T08:13:30.008327Z",
     "shell.execute_reply": "2021-10-18T08:13:30.008820Z",
     "shell.execute_reply.started": "2021-10-17T01:02:28.267871Z"
    },
    "papermill": {
     "duration": 489.353479,
     "end_time": "2021-10-18T08:13:30.009001",
     "exception": false,
     "start_time": "2021-10-18T08:05:20.655522",
     "status": "completed"
    },
    "tags": []
   },
   "outputs": [
    {
     "name": "stdout",
     "output_type": "stream",
     "text": [
      "colsample_bytree: 0.1 auc_roc_curve: 0.8568622160366364\n",
      "colsample_bytree: 0.2 auc_roc_curve: 0.8567928545255873\n",
      "colsample_bytree: 0.30000000000000004 auc_roc_curve: 0.8568356103865032\n",
      "colsample_bytree: 0.4 auc_roc_curve: 0.8568438950176832\n",
      "colsample_bytree: 0.5 auc_roc_curve: 0.856765889574102\n",
      "colsample_bytree: 0.6 auc_roc_curve: 0.8567654928226087\n",
      "colsample_bytree: 0.7000000000000001 auc_roc_curve: 0.8566364522869518\n",
      "colsample_bytree: 0.8 auc_roc_curve: 0.856734693356692\n",
      "colsample_bytree: 0.9 auc_roc_curve: 0.8567334560520352\n",
      "colsample_bytree: 1.0 auc_roc_curve: 0.8567185900460854\n",
      "\n",
      "Best colsample_bytree: 0.1 AUCROC score: 0.8568622160366364\n"
     ]
    }
   ],
   "source": [
    "results_colsample_bytrees = {}\n",
    "params['eta'] = best_eta\n",
    "colsample_bytrees = [i for i in np.arange(0.1, 1.1, 0.1)]\n",
    "\n",
    "for colsample_bytree in colsample_bytrees:\n",
    "    params['colsample_bytree'] = colsample_bytree\n",
    "    model = XGBClassifier(**params, random_state=seed, tree_method='gpu_hist', predictor='gpu_predictor', use_label_encoder=False, verbosity=0)\n",
    "    model.fit(x_train, y_train)\n",
    "    result = evaluate_model(model, x_test, y_test)\n",
    "    results_colsample_bytrees[colsample_bytree] = result['auc_roc_curve']\n",
    "    print('colsample_bytree:', colsample_bytree, 'auc_roc_curve:', results_colsample_bytrees[colsample_bytree])\n",
    "\n",
    "best_colsample_bytree = max(results_colsample_bytrees, key=results_colsample_bytrees.get)\n",
    "print('\\nBest colsample_bytree:', best_colsample_bytree, 'AUCROC score:', results_colsample_bytrees[best_colsample_bytree])\n",
    "    \n"
   ]
  },
  {
   "cell_type": "markdown",
   "id": "cd933b7d",
   "metadata": {
    "papermill": {
     "duration": 0.086213,
     "end_time": "2021-10-18T08:13:30.182254",
     "exception": false,
     "start_time": "2021-10-18T08:13:30.096041",
     "status": "completed"
    },
    "tags": []
   },
   "source": [
    "<h3> 6 - Testing different values for min_child_weight</h3>"
   ]
  },
  {
   "cell_type": "code",
   "execution_count": 42,
   "id": "9129ffc8",
   "metadata": {
    "execution": {
     "iopub.execute_input": "2021-10-18T08:13:30.362208Z",
     "iopub.status.busy": "2021-10-18T08:13:30.361063Z",
     "iopub.status.idle": "2021-10-18T08:20:51.631037Z",
     "shell.execute_reply": "2021-10-18T08:20:51.631600Z",
     "shell.execute_reply.started": "2021-10-17T01:11:03.029313Z"
    },
    "papermill": {
     "duration": 441.363544,
     "end_time": "2021-10-18T08:20:51.631773",
     "exception": false,
     "start_time": "2021-10-18T08:13:30.268229",
     "status": "completed"
    },
    "tags": []
   },
   "outputs": [
    {
     "name": "stdout",
     "output_type": "stream",
     "text": [
      "min_child_weight: 1 auc_roc_curve: 0.8568539237554275\n",
      "min_child_weight: 2 auc_roc_curve: 0.8568841808193028\n",
      "min_child_weight: 3 auc_roc_curve: 0.8568449796217653\n",
      "min_child_weight: 4 auc_roc_curve: 0.8568900983915744\n",
      "min_child_weight: 5 auc_roc_curve: 0.8568622160366364\n",
      "min_child_weight: 6 auc_roc_curve: 0.8568625941880594\n",
      "min_child_weight: 7 auc_roc_curve: 0.8568816401597409\n",
      "min_child_weight: 8 auc_roc_curve: 0.8569031912908509\n",
      "min_child_weight: 9 auc_roc_curve: 0.8569037038927799\n",
      "\n",
      "Best min_child_weight: 9 AUCROC score: 0.8569037038927799\n"
     ]
    }
   ],
   "source": [
    "results_min_child_weight = {}\n",
    "params['colsample_bytree'] = best_colsample_bytree\n",
    "min_child_weights = [i for i in range(1,10)]\n",
    "\n",
    "for min_child_weight in min_child_weights:\n",
    "    params['min_child_weight'] = min_child_weight\n",
    "    model = XGBClassifier(**params, random_state=seed, tree_method='gpu_hist', predictor='gpu_predictor', use_label_encoder=False, verbosity=0)\n",
    "    model.fit(x_train, y_train)\n",
    "    result = evaluate_model(model, x_test, y_test)\n",
    "    results_min_child_weight[min_child_weight] = result['auc_roc_curve']\n",
    "    print('min_child_weight:', min_child_weight, 'auc_roc_curve:', results_min_child_weight[min_child_weight])\n",
    "\n",
    "best_min_child_weight = max(results_min_child_weight, key=results_min_child_weight.get)\n",
    "print('\\nBest min_child_weight:', best_min_child_weight, 'AUCROC score:', results_min_child_weight[best_min_child_weight])"
   ]
  },
  {
   "cell_type": "markdown",
   "id": "8eaa0e5a",
   "metadata": {
    "papermill": {
     "duration": 0.087671,
     "end_time": "2021-10-18T08:20:51.807777",
     "exception": false,
     "start_time": "2021-10-18T08:20:51.720106",
     "status": "completed"
    },
    "tags": []
   },
   "source": [
    "<h3> 7 - Testing different values for gamma</h3>"
   ]
  },
  {
   "cell_type": "code",
   "execution_count": 43,
   "id": "acaed54c",
   "metadata": {
    "execution": {
     "iopub.execute_input": "2021-10-18T08:20:51.993895Z",
     "iopub.status.busy": "2021-10-18T08:20:51.992821Z",
     "iopub.status.idle": "2021-10-18T08:32:17.190056Z",
     "shell.execute_reply": "2021-10-18T08:32:17.190501Z",
     "shell.execute_reply.started": "2021-10-17T01:18:45.303301Z"
    },
    "papermill": {
     "duration": 685.294115,
     "end_time": "2021-10-18T08:32:17.190674",
     "exception": false,
     "start_time": "2021-10-18T08:20:51.896559",
     "status": "completed"
    },
    "tags": []
   },
   "outputs": [
    {
     "name": "stdout",
     "output_type": "stream",
     "text": [
      "gamma: 0.01 auc_roc_curve: 0.8569033182413286\n",
      "gamma: 0.02 auc_roc_curve: 0.8569033182413286\n",
      "gamma: 0.03 auc_roc_curve: 0.8569033182413286\n",
      "gamma: 0.1 auc_roc_curve: 0.8569033182413286\n",
      "gamma: 0.3 auc_roc_curve: 0.8569032674911377\n",
      "gamma: 0.5 auc_roc_curve: 0.8569032674911377\n",
      "gamma: 1 auc_roc_curve: 0.8569032674911377\n",
      "gamma: 1.1 auc_roc_curve: 0.8569032674911377\n",
      "gamma: 1.5 auc_roc_curve: 0.8569032674911377\n",
      "gamma: 2 auc_roc_curve: 0.8569032674911377\n",
      "gamma: 5 auc_roc_curve: 0.8569037038927799\n",
      "gamma: 7 auc_roc_curve: 0.8568540861560388\n",
      "gamma: 9 auc_roc_curve: 0.856799368950105\n",
      "gamma: 10 auc_roc_curve: 0.8566711311174691\n",
      "\n",
      "Best gamma: 5 AUCROC score: 0.8569037038927799\n"
     ]
    }
   ],
   "source": [
    "results_gamma = {}\n",
    "params['min_child_weight'] = best_min_child_weight\n",
    "gammas = [0.01, 0.02, 0.03, 0.1, 0.3, 0.5, 1, 1.1, 1.5, 2, 5, 7, 9, 10]\n",
    "\n",
    "for gamma in gammas:\n",
    "    params['gamma'] = gamma\n",
    "    model = XGBClassifier(**params, random_state=seed, tree_method='gpu_hist', predictor='gpu_predictor', use_label_encoder=False, verbosity=0)\n",
    "    model.fit(x_train, y_train)\n",
    "    result = evaluate_model(model, x_test, y_test)\n",
    "    results_gamma[gamma] = result['auc_roc_curve']\n",
    "    print('gamma:', gamma, 'auc_roc_curve:', results_gamma[gamma])\n",
    "\n",
    "best_gamma = max(results_gamma, key=results_gamma.get)\n",
    "print('\\nBest gamma:', best_gamma, 'AUCROC score:', results_gamma[best_gamma])"
   ]
  },
  {
   "cell_type": "code",
   "execution_count": 44,
   "id": "07532a76",
   "metadata": {
    "execution": {
     "iopub.execute_input": "2021-10-18T08:32:17.380502Z",
     "iopub.status.busy": "2021-10-18T08:32:17.379860Z",
     "iopub.status.idle": "2021-10-18T08:32:17.382477Z",
     "shell.execute_reply": "2021-10-18T08:32:17.382894Z",
     "shell.execute_reply.started": "2021-10-17T01:52:57.834135Z"
    },
    "papermill": {
     "duration": 0.10028,
     "end_time": "2021-10-18T08:32:17.383026",
     "exception": false,
     "start_time": "2021-10-18T08:32:17.282746",
     "status": "completed"
    },
    "tags": []
   },
   "outputs": [
    {
     "name": "stdout",
     "output_type": "stream",
     "text": [
      "Best Score 0.8569037038927799\n",
      "Best Hyperparameters: {'colsample_bytree': 0.1, 'eta': 0.12, 'gamma': 5, 'max_depth': 3, 'min_child_weight': 9, 'n_estimators': 1100, 'subsample': 0.9}\n"
     ]
    }
   ],
   "source": [
    "params['gamma'] = best_gamma\n",
    "print('Best Score', results_gamma[best_gamma])\n",
    "print('Best Hyperparameters:', params)"
   ]
  },
  {
   "cell_type": "markdown",
   "id": "ee7c1fc2",
   "metadata": {
    "papermill": {
     "duration": 0.094203,
     "end_time": "2021-10-18T08:32:17.569068",
     "exception": false,
     "start_time": "2021-10-18T08:32:17.474865",
     "status": "completed"
    },
    "tags": []
   },
   "source": [
    "# Submission"
   ]
  },
  {
   "cell_type": "code",
   "execution_count": 45,
   "id": "9ca26efd",
   "metadata": {
    "execution": {
     "iopub.execute_input": "2021-10-18T08:32:17.758473Z",
     "iopub.status.busy": "2021-10-18T08:32:17.757527Z",
     "iopub.status.idle": "2021-10-18T08:33:06.881776Z",
     "shell.execute_reply": "2021-10-18T08:33:06.882194Z",
     "shell.execute_reply.started": "2021-10-17T01:57:40.57689Z"
    },
    "papermill": {
     "duration": 49.221325,
     "end_time": "2021-10-18T08:33:06.882340",
     "exception": false,
     "start_time": "2021-10-18T08:32:17.661015",
     "status": "completed"
    },
    "tags": []
   },
   "outputs": [
    {
     "name": "stdout",
     "output_type": "stream",
     "text": [
      "{'auc_roc_curve': 0.8569037038927799}\n"
     ]
    }
   ],
   "source": [
    "model = XGBClassifier(**params, random_state=seed, tree_method='gpu_hist', predictor='gpu_predictor', use_label_encoder=False, verbosity=0)\n",
    "model.fit(x_train, y_train)\n",
    "results = evaluate_model(model, x_test, y_test)\n",
    "print(results)"
   ]
  },
  {
   "cell_type": "code",
   "execution_count": 46,
   "id": "afa88913",
   "metadata": {
    "execution": {
     "iopub.execute_input": "2021-10-18T08:33:07.326797Z",
     "iopub.status.busy": "2021-10-18T08:33:07.072463Z",
     "iopub.status.idle": "2021-10-18T08:33:07.330882Z",
     "shell.execute_reply": "2021-10-18T08:33:07.330457Z",
     "shell.execute_reply.started": "2021-10-17T01:59:51.946054Z"
    },
    "papermill": {
     "duration": 0.355911,
     "end_time": "2021-10-18T08:33:07.331005",
     "exception": false,
     "start_time": "2021-10-18T08:33:06.975094",
     "status": "completed"
    },
    "tags": []
   },
   "outputs": [
    {
     "data": {
      "text/plain": [
       "836"
      ]
     },
     "execution_count": 46,
     "metadata": {},
     "output_type": "execute_result"
    }
   ],
   "source": [
    "del x_train, x_test, y_train, y_test, train_df\n",
    "gc.collect()"
   ]
  },
  {
   "cell_type": "code",
   "execution_count": 47,
   "id": "f4204046",
   "metadata": {
    "execution": {
     "iopub.execute_input": "2021-10-18T08:33:07.522161Z",
     "iopub.status.busy": "2021-10-18T08:33:07.521598Z",
     "iopub.status.idle": "2021-10-18T08:33:32.566502Z",
     "shell.execute_reply": "2021-10-18T08:33:32.565553Z",
     "shell.execute_reply.started": "2021-10-17T01:59:55.379703Z"
    },
    "papermill": {
     "duration": 25.141631,
     "end_time": "2021-10-18T08:33:32.566650",
     "exception": false,
     "start_time": "2021-10-18T08:33:07.425019",
     "status": "completed"
    },
    "tags": []
   },
   "outputs": [],
   "source": [
    "test_df = pd.read_csv('/kaggle/input/tabular-playground-series-oct-2021/test.csv', sep=',')"
   ]
  },
  {
   "cell_type": "code",
   "execution_count": 48,
   "id": "e0682deb",
   "metadata": {
    "execution": {
     "iopub.execute_input": "2021-10-18T08:33:33.071956Z",
     "iopub.status.busy": "2021-10-18T08:33:33.071031Z",
     "iopub.status.idle": "2021-10-18T08:33:45.411941Z",
     "shell.execute_reply": "2021-10-18T08:33:45.412600Z",
     "shell.execute_reply.started": "2021-10-17T02:00:22.180312Z"
    },
    "papermill": {
     "duration": 12.753484,
     "end_time": "2021-10-18T08:33:45.412811",
     "exception": false,
     "start_time": "2021-10-18T08:33:32.659327",
     "status": "completed"
    },
    "tags": []
   },
   "outputs": [],
   "source": [
    "x_test = test_df.drop(['id'], axis=1)\n",
    "x_test['var'] = np.var(x_test, axis=1)\n",
    "x_test = p.transform(x_test)"
   ]
  },
  {
   "cell_type": "code",
   "execution_count": 49,
   "id": "a7d60d68",
   "metadata": {
    "execution": {
     "iopub.execute_input": "2021-10-18T08:33:45.612285Z",
     "iopub.status.busy": "2021-10-18T08:33:45.611190Z",
     "iopub.status.idle": "2021-10-18T08:33:49.002614Z",
     "shell.execute_reply": "2021-10-18T08:33:49.002139Z",
     "shell.execute_reply.started": "2021-10-17T02:00:34.199572Z"
    },
    "papermill": {
     "duration": 3.49252,
     "end_time": "2021-10-18T08:33:49.002752",
     "exception": false,
     "start_time": "2021-10-18T08:33:45.510232",
     "status": "completed"
    },
    "tags": []
   },
   "outputs": [],
   "source": [
    "target = model.predict_proba(x_test)[:, 1]\n",
    "ids = test_df['id'].values\n",
    "submission = pd.DataFrame({'id' : ids, 'target' : target})"
   ]
  },
  {
   "cell_type": "code",
   "execution_count": 50,
   "id": "b20c03a3",
   "metadata": {
    "execution": {
     "iopub.execute_input": "2021-10-18T08:33:49.209249Z",
     "iopub.status.busy": "2021-10-18T08:33:49.207997Z",
     "iopub.status.idle": "2021-10-18T08:33:49.211310Z",
     "shell.execute_reply": "2021-10-18T08:33:49.211760Z",
     "shell.execute_reply.started": "2021-10-17T02:00:37.382966Z"
    },
    "papermill": {
     "duration": 0.114349,
     "end_time": "2021-10-18T08:33:49.211889",
     "exception": false,
     "start_time": "2021-10-18T08:33:49.097540",
     "status": "completed"
    },
    "tags": []
   },
   "outputs": [
    {
     "data": {
      "text/html": [
       "<div>\n",
       "<style scoped>\n",
       "    .dataframe tbody tr th:only-of-type {\n",
       "        vertical-align: middle;\n",
       "    }\n",
       "\n",
       "    .dataframe tbody tr th {\n",
       "        vertical-align: top;\n",
       "    }\n",
       "\n",
       "    .dataframe thead th {\n",
       "        text-align: right;\n",
       "    }\n",
       "</style>\n",
       "<table border=\"1\" class=\"dataframe\">\n",
       "  <thead>\n",
       "    <tr style=\"text-align: right;\">\n",
       "      <th></th>\n",
       "      <th>id</th>\n",
       "      <th>target</th>\n",
       "    </tr>\n",
       "  </thead>\n",
       "  <tbody>\n",
       "    <tr>\n",
       "      <th>0</th>\n",
       "      <td>1000000</td>\n",
       "      <td>0.725218</td>\n",
       "    </tr>\n",
       "    <tr>\n",
       "      <th>1</th>\n",
       "      <td>1000001</td>\n",
       "      <td>0.222332</td>\n",
       "    </tr>\n",
       "    <tr>\n",
       "      <th>2</th>\n",
       "      <td>1000002</td>\n",
       "      <td>0.892096</td>\n",
       "    </tr>\n",
       "    <tr>\n",
       "      <th>3</th>\n",
       "      <td>1000003</td>\n",
       "      <td>0.826977</td>\n",
       "    </tr>\n",
       "    <tr>\n",
       "      <th>4</th>\n",
       "      <td>1000004</td>\n",
       "      <td>0.260035</td>\n",
       "    </tr>\n",
       "  </tbody>\n",
       "</table>\n",
       "</div>"
      ],
      "text/plain": [
       "        id    target\n",
       "0  1000000  0.725218\n",
       "1  1000001  0.222332\n",
       "2  1000002  0.892096\n",
       "3  1000003  0.826977\n",
       "4  1000004  0.260035"
      ]
     },
     "execution_count": 50,
     "metadata": {},
     "output_type": "execute_result"
    }
   ],
   "source": [
    "submission.head()"
   ]
  },
  {
   "cell_type": "code",
   "execution_count": 51,
   "id": "290e1337",
   "metadata": {
    "execution": {
     "iopub.execute_input": "2021-10-18T08:33:49.403157Z",
     "iopub.status.busy": "2021-10-18T08:33:49.402621Z",
     "iopub.status.idle": "2021-10-18T08:33:50.736974Z",
     "shell.execute_reply": "2021-10-18T08:33:50.736473Z",
     "shell.execute_reply.started": "2021-10-17T02:00:37.396307Z"
    },
    "papermill": {
     "duration": 1.430497,
     "end_time": "2021-10-18T08:33:50.737140",
     "exception": false,
     "start_time": "2021-10-18T08:33:49.306643",
     "status": "completed"
    },
    "tags": []
   },
   "outputs": [],
   "source": [
    "submission.to_csv('submission.csv', index=False)"
   ]
  },
  {
   "cell_type": "markdown",
   "id": "b6934cd5",
   "metadata": {
    "papermill": {
     "duration": 0.093388,
     "end_time": "2021-10-18T08:33:50.928536",
     "exception": false,
     "start_time": "2021-10-18T08:33:50.835148",
     "status": "completed"
    },
    "tags": []
   },
   "source": [
    "# Next Steps\n",
    "\n",
    "The next step is try to improve the results by training both Logistic Regression and XGBoost and then averaging their results. We are going to try it in a new notebook [1] using the best parameters found here so far.\n",
    "\n",
    "[1] https://www.kaggle.com/peressim/tabular-playground-series-oct-2021-final-models"
   ]
  },
  {
   "cell_type": "code",
   "execution_count": null,
   "id": "52f5b4c5",
   "metadata": {
    "papermill": {
     "duration": 0.09446,
     "end_time": "2021-10-18T08:33:51.119188",
     "exception": false,
     "start_time": "2021-10-18T08:33:51.024728",
     "status": "completed"
    },
    "tags": []
   },
   "outputs": [],
   "source": []
  }
 ],
 "metadata": {
  "kernelspec": {
   "display_name": "Python 3",
   "language": "python",
   "name": "python3"
  },
  "language_info": {
   "codemirror_mode": {
    "name": "ipython",
    "version": 3
   },
   "file_extension": ".py",
   "mimetype": "text/x-python",
   "name": "python",
   "nbconvert_exporter": "python",
   "pygments_lexer": "ipython3",
   "version": "3.7.10"
  },
  "papermill": {
   "default_parameters": {},
   "duration": 20203.31079,
   "end_time": "2021-10-18T08:33:54.789208",
   "environment_variables": {},
   "exception": null,
   "input_path": "__notebook__.ipynb",
   "output_path": "__notebook__.ipynb",
   "parameters": {},
   "start_time": "2021-10-18T02:57:11.478418",
   "version": "2.3.3"
  }
 },
 "nbformat": 4,
 "nbformat_minor": 5
}
