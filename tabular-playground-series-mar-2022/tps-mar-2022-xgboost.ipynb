{
 "cells": [
  {
   "cell_type": "code",
   "execution_count": 1,
   "id": "43f67d7d",
   "metadata": {
    "_cell_guid": "b1076dfc-b9ad-4769-8c92-a6c4dae69d19",
    "_uuid": "8f2839f25d086af736a60e9eeb907d3b93b6e0e5",
    "execution": {
     "iopub.execute_input": "2022-03-21T18:31:02.560026Z",
     "iopub.status.busy": "2022-03-21T18:31:02.558514Z",
     "iopub.status.idle": "2022-03-21T18:31:03.705631Z",
     "shell.execute_reply": "2022-03-21T18:31:03.704747Z",
     "shell.execute_reply.started": "2022-03-21T15:14:51.76309Z"
    },
    "papermill": {
     "duration": 1.186006,
     "end_time": "2022-03-21T18:31:03.705831",
     "exception": false,
     "start_time": "2022-03-21T18:31:02.519825",
     "status": "completed"
    },
    "tags": []
   },
   "outputs": [
    {
     "name": "stdout",
     "output_type": "stream",
     "text": [
      "/kaggle/input/tabular-playground-series-mar-2022/sample_submission.csv\n",
      "/kaggle/input/tabular-playground-series-mar-2022/train.csv\n",
      "/kaggle/input/tabular-playground-series-mar-2022/test.csv\n"
     ]
    }
   ],
   "source": [
    "import numpy as np\n",
    "import pandas as pd\n",
    "import warnings\n",
    "import gc\n",
    "import holidays\n",
    "\n",
    "from sklearn.model_selection import train_test_split\n",
    "from sklearn.metrics import mean_absolute_error\n",
    "from sklearn.preprocessing import LabelEncoder\n",
    "\n",
    "from xgboost import XGBRegressor\n",
    "from xgboost import plot_importance\n",
    "\n",
    "warnings.filterwarnings('ignore')\n",
    "\n",
    "import os\n",
    "for dirname, _, filenames in os.walk('/kaggle/input'):\n",
    "    for filename in filenames:\n",
    "        print(os.path.join(dirname, filename))"
   ]
  },
  {
   "cell_type": "code",
   "execution_count": 2,
   "id": "8de66b81",
   "metadata": {
    "execution": {
     "iopub.execute_input": "2022-03-21T18:31:03.781596Z",
     "iopub.status.busy": "2022-03-21T18:31:03.780767Z",
     "iopub.status.idle": "2022-03-21T18:31:03.782720Z",
     "shell.execute_reply": "2022-03-21T18:31:03.783163Z",
     "shell.execute_reply.started": "2022-03-21T15:14:52.059397Z"
    },
    "papermill": {
     "duration": 0.040418,
     "end_time": "2022-03-21T18:31:03.783323",
     "exception": false,
     "start_time": "2022-03-21T18:31:03.742905",
     "status": "completed"
    },
    "tags": []
   },
   "outputs": [],
   "source": [
    "def evaluate_model(model, x, y):\n",
    "    y_pred = model.predict(x)\n",
    "    acc = mean_absolute_error(y, y_pred)\n",
    "    return {'mae' : acc}"
   ]
  },
  {
   "cell_type": "code",
   "execution_count": 3,
   "id": "611a41a0",
   "metadata": {
    "execution": {
     "iopub.execute_input": "2022-03-21T18:31:03.857993Z",
     "iopub.status.busy": "2022-03-21T18:31:03.857121Z",
     "iopub.status.idle": "2022-03-21T18:31:03.859005Z",
     "shell.execute_reply": "2022-03-21T18:31:03.859524Z",
     "shell.execute_reply.started": "2022-03-21T15:14:52.23786Z"
    },
    "papermill": {
     "duration": 0.042821,
     "end_time": "2022-03-21T18:31:03.859667",
     "exception": false,
     "start_time": "2022-03-21T18:31:03.816846",
     "status": "completed"
    },
    "tags": []
   },
   "outputs": [],
   "source": [
    "def preprocess_dates(df, date_column='time'):\n",
    "    df = df.copy()\n",
    "    df[date_column] = pd.to_datetime(df[date_column])\n",
    "    df['weekday'] = df[date_column].dt.weekday\n",
    "    df['quarter'] = df[date_column].dt.quarter\n",
    "    df['day_of_year'] = df[date_column].dt.day_of_year\n",
    "    df['is_month_start'] = df[date_column].dt.is_month_start.astype(\"int8\")\n",
    "    df['is_month_end'] = df[date_column].dt.is_month_end.astype(\"int8\")\n",
    "    df['month'] = df[date_column].dt.month\n",
    "    return df"
   ]
  },
  {
   "cell_type": "code",
   "execution_count": 4,
   "id": "dcab2da7",
   "metadata": {
    "execution": {
     "iopub.execute_input": "2022-03-21T18:31:03.938625Z",
     "iopub.status.busy": "2022-03-21T18:31:03.937711Z",
     "iopub.status.idle": "2022-03-21T18:31:03.939575Z",
     "shell.execute_reply": "2022-03-21T18:31:03.940087Z",
     "shell.execute_reply.started": "2022-03-21T15:14:52.42558Z"
    },
    "papermill": {
     "duration": 0.045509,
     "end_time": "2022-03-21T18:31:03.940243",
     "exception": false,
     "start_time": "2022-03-21T18:31:03.894734",
     "status": "completed"
    },
    "tags": []
   },
   "outputs": [],
   "source": [
    "def preprocess_holidays(df, date_column='time'):\n",
    "    holiday_us = holidays.CountryHoliday(country='US', years=[1991])\n",
    "    dates = list(holiday_us.keys())\n",
    "    dates = sorted(pd.to_datetime(dates))\n",
    "    df = df.copy()\n",
    "    df['is_holiday'] = df[date_column].apply(lambda x : 1 if x in dates else 0)\n",
    "    return df"
   ]
  },
  {
   "cell_type": "code",
   "execution_count": 5,
   "id": "12624376",
   "metadata": {
    "execution": {
     "iopub.execute_input": "2022-03-21T18:31:04.022948Z",
     "iopub.status.busy": "2022-03-21T18:31:04.021978Z",
     "iopub.status.idle": "2022-03-21T18:31:04.023720Z",
     "shell.execute_reply": "2022-03-21T18:31:04.024250Z",
     "shell.execute_reply.started": "2022-03-21T15:14:52.870026Z"
    },
    "papermill": {
     "duration": 0.044997,
     "end_time": "2022-03-21T18:31:04.024417",
     "exception": false,
     "start_time": "2022-03-21T18:31:03.979420",
     "status": "completed"
    },
    "tags": []
   },
   "outputs": [],
   "source": [
    "def preprocess_timeseries(df):\n",
    "    df = df.copy()\n",
    "    df['sin_day_of_year'] = np.sin(df['day_of_year'])\n",
    "    df['sin_month'] = np.sin(df['month'])\n",
    "    return df"
   ]
  },
  {
   "cell_type": "code",
   "execution_count": 6,
   "id": "7b860516",
   "metadata": {
    "execution": {
     "iopub.execute_input": "2022-03-21T18:31:04.096164Z",
     "iopub.status.busy": "2022-03-21T18:31:04.095377Z",
     "iopub.status.idle": "2022-03-21T18:31:04.097458Z",
     "shell.execute_reply": "2022-03-21T18:31:04.097862Z",
     "shell.execute_reply.started": "2022-03-21T15:14:53.510138Z"
    },
    "papermill": {
     "duration": 0.039519,
     "end_time": "2022-03-21T18:31:04.097978",
     "exception": false,
     "start_time": "2022-03-21T18:31:04.058459",
     "status": "completed"
    },
    "tags": []
   },
   "outputs": [],
   "source": [
    "seed = 47"
   ]
  },
  {
   "cell_type": "markdown",
   "id": "589f3c2d",
   "metadata": {
    "papermill": {
     "duration": 0.033159,
     "end_time": "2022-03-21T18:31:04.164534",
     "exception": false,
     "start_time": "2022-03-21T18:31:04.131375",
     "status": "completed"
    },
    "tags": []
   },
   "source": [
    "# Reading the dataset"
   ]
  },
  {
   "cell_type": "code",
   "execution_count": 7,
   "id": "f3a415ab",
   "metadata": {
    "execution": {
     "iopub.execute_input": "2022-03-21T18:31:04.234545Z",
     "iopub.status.busy": "2022-03-21T18:31:04.233925Z",
     "iopub.status.idle": "2022-03-21T18:31:05.058801Z",
     "shell.execute_reply": "2022-03-21T18:31:05.059973Z",
     "shell.execute_reply.started": "2022-03-21T15:14:54.021746Z"
    },
    "papermill": {
     "duration": 0.862639,
     "end_time": "2022-03-21T18:31:05.060196",
     "exception": false,
     "start_time": "2022-03-21T18:31:04.197557",
     "status": "completed"
    },
    "tags": []
   },
   "outputs": [],
   "source": [
    "train_df = pd.read_csv(\"/kaggle/input/tabular-playground-series-mar-2022/train.csv\", sep=',')"
   ]
  },
  {
   "cell_type": "code",
   "execution_count": 8,
   "id": "8070d05b",
   "metadata": {
    "execution": {
     "iopub.execute_input": "2022-03-21T18:31:05.193750Z",
     "iopub.status.busy": "2022-03-21T18:31:05.192936Z",
     "iopub.status.idle": "2022-03-21T18:31:11.909663Z",
     "shell.execute_reply": "2022-03-21T18:31:11.908957Z",
     "shell.execute_reply.started": "2022-03-21T15:14:54.605529Z"
    },
    "papermill": {
     "duration": 6.784652,
     "end_time": "2022-03-21T18:31:11.909845",
     "exception": false,
     "start_time": "2022-03-21T18:31:05.125193",
     "status": "completed"
    },
    "tags": []
   },
   "outputs": [],
   "source": [
    "le = LabelEncoder()\n",
    "train_df['direction'] = le.fit_transform(train_df['direction'])\n",
    "train_df = preprocess_dates(train_df)\n",
    "train_df = preprocess_holidays(train_df)\n",
    "train_df = preprocess_timeseries(train_df)\n",
    "x_train = train_df.drop(['row_id', 'time', 'congestion'], axis=1)\n",
    "y_train = train_df['congestion']\n",
    "x_train, x_test, y_train, y_test = train_test_split(x_train, y_train, test_size=0.2, random_state=seed, shuffle=False)"
   ]
  },
  {
   "cell_type": "markdown",
   "id": "3f27fae3",
   "metadata": {
    "papermill": {
     "duration": 0.036506,
     "end_time": "2022-03-21T18:31:11.980433",
     "exception": false,
     "start_time": "2022-03-21T18:31:11.943927",
     "status": "completed"
    },
    "tags": []
   },
   "source": [
    "# XGBoost Baseline"
   ]
  },
  {
   "cell_type": "code",
   "execution_count": 9,
   "id": "1288b3ad",
   "metadata": {
    "execution": {
     "iopub.execute_input": "2022-03-21T18:31:12.055433Z",
     "iopub.status.busy": "2022-03-21T18:31:12.054562Z",
     "iopub.status.idle": "2022-03-21T18:31:12.056387Z",
     "shell.execute_reply": "2022-03-21T18:31:12.056841Z",
     "shell.execute_reply.started": "2022-03-21T15:15:01.3745Z"
    },
    "papermill": {
     "duration": 0.040976,
     "end_time": "2022-03-21T18:31:12.056973",
     "exception": false,
     "start_time": "2022-03-21T18:31:12.015997",
     "status": "completed"
    },
    "tags": []
   },
   "outputs": [],
   "source": [
    "def get_xgb_baseline(params={}):\n",
    "    return XGBRegressor(**params,\n",
    "                        random_state=seed,\n",
    "                        tree_method='gpu_hist',\n",
    "                        predictor='gpu_predictor',\n",
    "                        objective='reg:linear',\n",
    "                        verbosity=0)"
   ]
  },
  {
   "cell_type": "code",
   "execution_count": 10,
   "id": "7698672f",
   "metadata": {
    "execution": {
     "iopub.execute_input": "2022-03-21T18:31:12.128396Z",
     "iopub.status.busy": "2022-03-21T18:31:12.127711Z",
     "iopub.status.idle": "2022-03-21T18:31:16.095852Z",
     "shell.execute_reply": "2022-03-21T18:31:16.096476Z",
     "shell.execute_reply.started": "2022-03-21T15:15:01.380956Z"
    },
    "papermill": {
     "duration": 4.006372,
     "end_time": "2022-03-21T18:31:16.096708",
     "exception": false,
     "start_time": "2022-03-21T18:31:12.090336",
     "status": "completed"
    },
    "tags": []
   },
   "outputs": [
    {
     "name": "stdout",
     "output_type": "stream",
     "text": [
      "{'mae': 8.499863220856414}\n"
     ]
    }
   ],
   "source": [
    "model = get_xgb_baseline()\n",
    "model.fit(x_train, y_train)\n",
    "results = evaluate_model(model, x_test, y_test)\n",
    "print(results)"
   ]
  },
  {
   "cell_type": "code",
   "execution_count": 11,
   "id": "67861448",
   "metadata": {
    "execution": {
     "iopub.execute_input": "2022-03-21T18:31:16.219630Z",
     "iopub.status.busy": "2022-03-21T18:31:16.218807Z",
     "iopub.status.idle": "2022-03-21T18:31:35.517871Z",
     "shell.execute_reply": "2022-03-21T18:31:35.517278Z",
     "shell.execute_reply.started": "2022-03-21T15:15:02.103981Z"
    },
    "papermill": {
     "duration": 19.363963,
     "end_time": "2022-03-21T18:31:35.518004",
     "exception": false,
     "start_time": "2022-03-21T18:31:16.154041",
     "status": "completed"
    },
    "tags": []
   },
   "outputs": [
    {
     "name": "stdout",
     "output_type": "stream",
     "text": [
      "{'mae': 8.513550744379739}\n"
     ]
    }
   ],
   "source": [
    "params = {'n_estimators': 200, \n",
    "          'max_depth': 23, \n",
    "          'subsample': 1.0,\n",
    "          'eta': 0.3,\n",
    "          'colsample_bytree': 1.0,\n",
    "          'gamma': 0.0, \n",
    "          'min_child_weight': 1,\n",
    "          'reg_alpha': 1\n",
    "         }\n",
    "\n",
    "model = get_xgb_baseline(params)\n",
    "model.fit(x_train, y_train)\n",
    "results = evaluate_model(model, x_test, y_test)\n",
    "print(results)"
   ]
  },
  {
   "cell_type": "markdown",
   "id": "3ac3533f",
   "metadata": {
    "papermill": {
     "duration": 0.033787,
     "end_time": "2022-03-21T18:31:35.586338",
     "exception": false,
     "start_time": "2022-03-21T18:31:35.552551",
     "status": "completed"
    },
    "tags": []
   },
   "source": [
    "# Feature Engineering"
   ]
  },
  {
   "cell_type": "code",
   "execution_count": 12,
   "id": "bb70d975",
   "metadata": {
    "execution": {
     "iopub.execute_input": "2022-03-21T18:31:35.660300Z",
     "iopub.status.busy": "2022-03-21T18:31:35.659549Z",
     "iopub.status.idle": "2022-03-21T18:31:35.661959Z",
     "shell.execute_reply": "2022-03-21T18:31:35.661533Z",
     "shell.execute_reply.started": "2022-03-21T15:20:27.884878Z"
    },
    "papermill": {
     "duration": 0.04177,
     "end_time": "2022-03-21T18:31:35.662060",
     "exception": false,
     "start_time": "2022-03-21T18:31:35.620290",
     "status": "completed"
    },
    "tags": []
   },
   "outputs": [],
   "source": [
    "geomean = lambda x, axis : np.exp(np.mean(np.log(x), axis=axis))\n",
    "harmonic_mean = lambda x, axis : len(x) / np.sum(1.0/x, axis=axis) \n",
    "\n",
    "funcs = {'mean' : np.mean, \n",
    "         'std' : np.std, \n",
    "         'var' : np.var, \n",
    "         'geo_mean' : geomean, \n",
    "         'harmonic_mean' : harmonic_mean, \n",
    "         'median' : np.median,\n",
    "         'none': None}"
   ]
  },
  {
   "cell_type": "code",
   "execution_count": 13,
   "id": "53048088",
   "metadata": {
    "execution": {
     "iopub.execute_input": "2022-03-21T18:31:35.757384Z",
     "iopub.status.busy": "2022-03-21T18:31:35.752117Z",
     "iopub.status.idle": "2022-03-21T18:31:43.178706Z",
     "shell.execute_reply": "2022-03-21T18:31:43.178175Z",
     "shell.execute_reply.started": "2022-03-21T15:21:03.333597Z"
    },
    "papermill": {
     "duration": 7.482176,
     "end_time": "2022-03-21T18:31:43.178845",
     "exception": false,
     "start_time": "2022-03-21T18:31:35.696669",
     "status": "completed"
    },
    "tags": []
   },
   "outputs": [
    {
     "name": "stdout",
     "output_type": "stream",
     "text": [
      ">mean: 8.081109\n",
      ">std: 8.075240\n",
      ">var: 8.075240\n",
      ">geo_mean: 8.071936\n",
      ">harmonic_mean: 8.071936\n",
      ">median: 8.085318\n",
      ">none: 8.071936\n",
      "Best result is of: geo_mean with score: 8.071935973987891\n"
     ]
    }
   ],
   "source": [
    "results, names = list(), list()\n",
    "\n",
    "for key in funcs.keys():\n",
    "    x_train = train_df.drop(['row_id', 'time', 'congestion'], axis=1).copy()\n",
    "    y_train = train_df['congestion']\n",
    "    if funcs[key] is not None:\n",
    "        x_train[key] = funcs[key](x_train, axis=1)\n",
    "    x_train, x_test, y_train, y_test = train_test_split(x_train, y_train, test_size=0.2, random_state=seed)       \n",
    "    model = get_xgb_baseline()\n",
    "\n",
    "    model.fit(x_train, y_train)\n",
    "    result = evaluate_model(model, x_test, y_test)\n",
    "    names.append(key)\n",
    "    results.append(result['mae'])\n",
    "    \n",
    "for name, score in zip(names, results):\n",
    "    print('>%s: %f' % (name, score))\n",
    "\n",
    "index_best = np.argmin(results)\n",
    "print('Best result is of:', names[index_best], 'with score:', results[index_best])"
   ]
  },
  {
   "cell_type": "markdown",
   "id": "2d8563b5",
   "metadata": {
    "papermill": {
     "duration": 0.034878,
     "end_time": "2022-03-21T18:31:43.248907",
     "exception": false,
     "start_time": "2022-03-21T18:31:43.214029",
     "status": "completed"
    },
    "tags": []
   },
   "source": [
    "# Individual parameter Search"
   ]
  },
  {
   "cell_type": "code",
   "execution_count": 14,
   "id": "b46f7d43",
   "metadata": {
    "execution": {
     "iopub.execute_input": "2022-03-21T18:31:43.340151Z",
     "iopub.status.busy": "2022-03-21T18:31:43.323190Z",
     "iopub.status.idle": "2022-03-21T18:31:43.747559Z",
     "shell.execute_reply": "2022-03-21T18:31:43.747044Z",
     "shell.execute_reply.started": "2022-03-21T15:00:50.156853Z"
    },
    "papermill": {
     "duration": 0.463667,
     "end_time": "2022-03-21T18:31:43.747686",
     "exception": false,
     "start_time": "2022-03-21T18:31:43.284019",
     "status": "completed"
    },
    "tags": []
   },
   "outputs": [],
   "source": [
    "x_train = train_df.drop(['row_id', 'time', 'congestion'], axis=1).copy()\n",
    "x_train['geo_mean'] = geomean(x_train, axis=1)\n",
    "y_train = train_df['congestion']\n",
    "x_train, x_test, y_train, y_test = train_test_split(x_train, y_train, test_size=0.2, random_state=seed)"
   ]
  },
  {
   "cell_type": "code",
   "execution_count": 15,
   "id": "e4722d5d",
   "metadata": {
    "execution": {
     "iopub.execute_input": "2022-03-21T18:31:43.821485Z",
     "iopub.status.busy": "2022-03-21T18:31:43.820877Z",
     "iopub.status.idle": "2022-03-21T18:31:43.823382Z",
     "shell.execute_reply": "2022-03-21T18:31:43.823802Z",
     "shell.execute_reply.started": "2022-03-21T15:00:50.360847Z"
    },
    "papermill": {
     "duration": 0.041283,
     "end_time": "2022-03-21T18:31:43.823931",
     "exception": false,
     "start_time": "2022-03-21T18:31:43.782648",
     "status": "completed"
    },
    "tags": []
   },
   "outputs": [],
   "source": [
    "params = {}"
   ]
  },
  {
   "cell_type": "markdown",
   "id": "dc931cba",
   "metadata": {
    "papermill": {
     "duration": 0.034918,
     "end_time": "2022-03-21T18:31:43.894489",
     "exception": false,
     "start_time": "2022-03-21T18:31:43.859571",
     "status": "completed"
    },
    "tags": []
   },
   "source": [
    "# 1 - Testing different number of estimators"
   ]
  },
  {
   "cell_type": "code",
   "execution_count": 16,
   "id": "ae45ee0c",
   "metadata": {
    "execution": {
     "iopub.execute_input": "2022-03-21T18:31:43.971781Z",
     "iopub.status.busy": "2022-03-21T18:31:43.968116Z",
     "iopub.status.idle": "2022-03-21T18:35:38.368308Z",
     "shell.execute_reply": "2022-03-21T18:35:38.367733Z",
     "shell.execute_reply.started": "2022-03-21T15:00:50.366851Z"
    },
    "papermill": {
     "duration": 234.439141,
     "end_time": "2022-03-21T18:35:38.368436",
     "exception": false,
     "start_time": "2022-03-21T18:31:43.929295",
     "status": "completed"
    },
    "tags": []
   },
   "outputs": [
    {
     "name": "stdout",
     "output_type": "stream",
     "text": [
      "n_estimators: 50 mae: 8.098969870575315\n",
      "n_estimators: 100 mae: 8.071935973987891\n",
      "n_estimators: 150 mae: 8.067395904870338\n",
      "n_estimators: 200 mae: 8.065392368452843\n",
      "n_estimators: 250 mae: 8.065226935161771\n",
      "n_estimators: 300 mae: 8.067036818871536\n",
      "n_estimators: 350 mae: 8.069107536655398\n",
      "n_estimators: 400 mae: 8.070375316784153\n",
      "n_estimators: 450 mae: 8.071097806215889\n",
      "n_estimators: 500 mae: 8.072082348712842\n",
      "n_estimators: 600 mae: 8.07440611479496\n",
      "n_estimators: 700 mae: 8.076502485000626\n",
      "n_estimators: 800 mae: 8.077473747664039\n",
      "n_estimators: 900 mae: 8.07942300797621\n",
      "n_estimators: 950 mae: 8.080230132845061\n",
      "n_estimators: 975 mae: 8.080621999788361\n",
      "n_estimators: 1000 mae: 8.081029068710457\n",
      "n_estimators: 1025 mae: 8.081210106505747\n",
      "n_estimators: 1050 mae: 8.081615174344801\n",
      "n_estimators: 1100 mae: 8.082527706305083\n",
      "n_estimators: 1150 mae: 8.083263353242629\n",
      "n_estimators: 1290 mae: 8.085034841998688\n",
      "n_estimators: 1295 mae: 8.085073193253486\n",
      "n_estimators: 1300 mae: 8.085012052105336\n",
      "n_estimators: 1305 mae: 8.085172971078446\n",
      "n_estimators: 1310 mae: 8.08526422015625\n",
      "n_estimators: 1315 mae: 8.085386456708855\n",
      "n_estimators: 1325 mae: 8.085607126447597\n",
      "n_estimators: 2000 mae: 8.092406152987234\n",
      "n_estimators: 3000 mae: 8.0986298964644\n",
      "n_estimators: 4000 mae: 8.102813910924544\n",
      "n_estimators: 5000 mae: 8.105851243502263\n",
      "n_estimators: 10000 mae: 8.112198375789493\n",
      "\n",
      "Best n_estimators: 250 MAE score: 8.065226935161771\n"
     ]
    }
   ],
   "source": [
    "results_trees = {}\n",
    "trees = [50, 100, 150, 200, 250, 300, 350, 400, 450, 500, 600, 700, 800, 900, 950, 975, 1000, 1025, 1050, 1100, 1150, 1290, 1295, 1300, 1305, 1310, 1315, 1325, 2000, 3000, 4000, 5000, 10000]\n",
    "\n",
    "for n in trees:\n",
    "    params['n_estimators'] = n\n",
    "    model = get_xgb_baseline(params)\n",
    "    model.fit(x_train, y_train)\n",
    "    result = evaluate_model(model, x_test, y_test)\n",
    "    results_trees[n] = result['mae']\n",
    "    print('n_estimators:', n, 'mae:', results_trees[n])\n",
    "\n",
    "best_nestimator = min(results_trees, key=results_trees.get)\n",
    "print('\\nBest n_estimators:', best_nestimator, 'MAE score:', results_trees[best_nestimator])"
   ]
  },
  {
   "cell_type": "markdown",
   "id": "f86de653",
   "metadata": {
    "papermill": {
     "duration": 0.045683,
     "end_time": "2022-03-21T18:35:38.459619",
     "exception": false,
     "start_time": "2022-03-21T18:35:38.413936",
     "status": "completed"
    },
    "tags": []
   },
   "source": [
    "# 2 - Testing different max_depth"
   ]
  },
  {
   "cell_type": "code",
   "execution_count": 17,
   "id": "113d354a",
   "metadata": {
    "execution": {
     "iopub.execute_input": "2022-03-21T18:35:38.558704Z",
     "iopub.status.busy": "2022-03-21T18:35:38.557945Z",
     "iopub.status.idle": "2022-03-21T18:35:55.377468Z",
     "shell.execute_reply": "2022-03-21T18:35:55.378099Z",
     "shell.execute_reply.started": "2022-03-21T15:04:15.850485Z"
    },
    "papermill": {
     "duration": 16.872356,
     "end_time": "2022-03-21T18:35:55.378314",
     "exception": false,
     "start_time": "2022-03-21T18:35:38.505958",
     "status": "completed"
    },
    "tags": []
   },
   "outputs": [
    {
     "name": "stdout",
     "output_type": "stream",
     "text": [
      "max_depth: 1 mae: 12.130907585709258\n",
      "max_depth: 2 mae: 10.148481939536756\n",
      "max_depth: 3 mae: 8.402857382666715\n",
      "max_depth: 4 mae: 8.10713816683112\n",
      "max_depth: 5 mae: 8.073201927660708\n",
      "max_depth: 6 mae: 8.065226935161771\n",
      "max_depth: 7 mae: 8.074449781435721\n",
      "max_depth: 8 mae: 8.08971587449627\n",
      "max_depth: 9 mae: 8.106609105961322\n",
      "\n",
      "Best max_depth: 6 MAE score: 8.065226935161771\n"
     ]
    }
   ],
   "source": [
    "results_max_depths = {}\n",
    "params['n_estimators'] = best_nestimator\n",
    "max_depths = [i for i in range(1,10)]\n",
    "\n",
    "for max_depth in max_depths:\n",
    "    params['max_depth'] = max_depth\n",
    "    model = get_xgb_baseline(params)\n",
    "    model.fit(x_train, y_train)\n",
    "    result = evaluate_model(model, x_test, y_test)\n",
    "    results_max_depths[max_depth] = result['mae']\n",
    "    print('max_depth:', max_depth, 'mae:', results_max_depths[max_depth])\n",
    "\n",
    "best_max_depth = min(results_max_depths, key=results_max_depths.get)\n",
    "print('\\nBest max_depth:', best_max_depth, 'MAE score:', results_max_depths[best_max_depth])\n"
   ]
  },
  {
   "cell_type": "markdown",
   "id": "c26496ab",
   "metadata": {
    "papermill": {
     "duration": 0.047288,
     "end_time": "2022-03-21T18:35:55.474343",
     "exception": false,
     "start_time": "2022-03-21T18:35:55.427055",
     "status": "completed"
    },
    "tags": []
   },
   "source": [
    "# 3 - Testing different subsamples"
   ]
  },
  {
   "cell_type": "code",
   "execution_count": 18,
   "id": "9f7b230d",
   "metadata": {
    "execution": {
     "iopub.execute_input": "2022-03-21T18:35:55.577445Z",
     "iopub.status.busy": "2022-03-21T18:35:55.576419Z",
     "iopub.status.idle": "2022-03-21T18:36:10.731365Z",
     "shell.execute_reply": "2022-03-21T18:36:10.731958Z",
     "shell.execute_reply.started": "2022-03-21T15:07:10.171944Z"
    },
    "papermill": {
     "duration": 15.21025,
     "end_time": "2022-03-21T18:36:10.732155",
     "exception": false,
     "start_time": "2022-03-21T18:35:55.521905",
     "status": "completed"
    },
    "tags": []
   },
   "outputs": [
    {
     "name": "stdout",
     "output_type": "stream",
     "text": [
      "subsample: 0.1 mae: 8.167601738949482\n",
      "subsample: 0.2 mae: 8.127354908028263\n",
      "subsample: 0.30000000000000004 mae: 8.111676779891397\n",
      "subsample: 0.4 mae: 8.098729444065379\n",
      "subsample: 0.5 mae: 8.089593536277276\n",
      "subsample: 0.6 mae: 8.08504783152857\n",
      "subsample: 0.7000000000000001 mae: 8.084485460131148\n",
      "subsample: 0.8 mae: 8.077101540448787\n",
      "subsample: 0.9 mae: 8.071899320620203\n",
      "subsample: 1.0 mae: 8.065226935161771\n",
      "\n",
      "Best subsample: 1.0 MAE score: 8.065226935161771\n"
     ]
    }
   ],
   "source": [
    "results_subsamples = {}\n",
    "params['max_depth'] = best_max_depth\n",
    "subsamples = [i for i in np.arange(0.1, 1.1, 0.1)]\n",
    "\n",
    "for subsample in subsamples:\n",
    "    params['subsample'] = subsample\n",
    "    model = model = get_xgb_baseline(params)\n",
    "    model.fit(x_train, y_train)\n",
    "    result = evaluate_model(model, x_test, y_test)\n",
    "    results_subsamples[subsample] = result['mae']\n",
    "    print('subsample:', subsample, 'mae:', results_subsamples[subsample])\n",
    "\n",
    "best_subsample = min(results_subsamples, key=results_subsamples.get)\n",
    "print('\\nBest subsample:', best_subsample, 'MAE score:', results_subsamples[best_subsample])"
   ]
  },
  {
   "cell_type": "markdown",
   "id": "3e1741aa",
   "metadata": {
    "papermill": {
     "duration": 0.050301,
     "end_time": "2022-03-21T18:36:10.834201",
     "exception": false,
     "start_time": "2022-03-21T18:36:10.783900",
     "status": "completed"
    },
    "tags": []
   },
   "source": [
    "# 4 - Testing different learning rates"
   ]
  },
  {
   "cell_type": "code",
   "execution_count": 19,
   "id": "5311fc9e",
   "metadata": {
    "execution": {
     "iopub.execute_input": "2022-03-21T18:36:10.947707Z",
     "iopub.status.busy": "2022-03-21T18:36:10.946281Z",
     "iopub.status.idle": "2022-03-21T18:36:30.281683Z",
     "shell.execute_reply": "2022-03-21T18:36:30.282555Z",
     "shell.execute_reply.started": "2022-03-21T15:08:17.251452Z"
    },
    "papermill": {
     "duration": 19.396406,
     "end_time": "2022-03-21T18:36:30.282759",
     "exception": false,
     "start_time": "2022-03-21T18:36:10.886353",
     "status": "completed"
    },
    "tags": []
   },
   "outputs": [
    {
     "name": "stdout",
     "output_type": "stream",
     "text": [
      "eta: 0.0001 mae: 46.136625457536205\n",
      "eta: 0.001 mae: 36.86965719472318\n",
      "eta: 0.003 mae: 22.742519215118428\n",
      "eta: 0.005 mae: 15.047991842870424\n",
      "eta: 0.01 mae: 9.323195668526637\n",
      "eta: 0.03 mae: 8.258023706939365\n",
      "eta: 0.05 mae: 8.137329506261912\n",
      "eta: 0.1 mae: 8.093808486980182\n",
      "eta: 0.12 mae: 8.075397467035597\n",
      "eta: 0.13 mae: 8.072615853462164\n",
      "eta: 0.3 mae: 8.065226935161771\n",
      "eta: 0.5 mae: 8.074846410531977\n",
      "eta: 1.0 mae: 8.087375866200237\n",
      "\n",
      "Best eta: 0.3 MAE score: 8.065226935161771\n"
     ]
    }
   ],
   "source": [
    "results_etas = {}\n",
    "params['subsample'] = best_subsample\n",
    "etas = [0.0001, 0.001, 0.003, 0.005, 0.01, 0.03, 0.05, 0.1, 0.12, 0.13, 0.3, 0.5, 1.0]\n",
    "\n",
    "for eta in etas:\n",
    "    params['eta'] = eta\n",
    "    model = get_xgb_baseline(params)\n",
    "    model.fit(x_train, y_train)\n",
    "    result = evaluate_model(model, x_test, y_test)\n",
    "    results_etas[eta] = result['mae']\n",
    "    print('eta:', eta, 'mae:', results_etas[eta])\n",
    "\n",
    "best_eta = min(results_etas, key=results_etas.get)\n",
    "print('\\nBest eta:', best_eta, 'MAE score:', results_etas[best_eta])"
   ]
  },
  {
   "cell_type": "markdown",
   "id": "ff05d2c8",
   "metadata": {
    "papermill": {
     "duration": 0.053615,
     "end_time": "2022-03-21T18:36:30.391238",
     "exception": false,
     "start_time": "2022-03-21T18:36:30.337623",
     "status": "completed"
    },
    "tags": []
   },
   "source": [
    "# 5 - Testing different number of features"
   ]
  },
  {
   "cell_type": "code",
   "execution_count": 20,
   "id": "96f256d4",
   "metadata": {
    "execution": {
     "iopub.execute_input": "2022-03-21T18:36:30.505490Z",
     "iopub.status.busy": "2022-03-21T18:36:30.504666Z",
     "iopub.status.idle": "2022-03-21T18:36:43.608976Z",
     "shell.execute_reply": "2022-03-21T18:36:43.609707Z",
     "shell.execute_reply.started": "2022-03-21T15:08:33.349781Z"
    },
    "papermill": {
     "duration": 13.164752,
     "end_time": "2022-03-21T18:36:43.609908",
     "exception": false,
     "start_time": "2022-03-21T18:36:30.445156",
     "status": "completed"
    },
    "tags": []
   },
   "outputs": [
    {
     "name": "stdout",
     "output_type": "stream",
     "text": [
      "colsample_bytree: 0.1 mae: 11.929616155170885\n",
      "colsample_bytree: 0.2 mae: 10.098733113122089\n",
      "colsample_bytree: 0.30000000000000004 mae: 9.685427240366547\n",
      "colsample_bytree: 0.4 mae: 8.117423595464487\n",
      "colsample_bytree: 0.5 mae: 8.071111212140918\n",
      "colsample_bytree: 0.6 mae: 8.071760205744987\n",
      "colsample_bytree: 0.7000000000000001 mae: 8.068274772448014\n",
      "colsample_bytree: 0.8 mae: 8.067820531124957\n",
      "colsample_bytree: 0.9 mae: 8.06764096511046\n",
      "colsample_bytree: 1.0 mae: 8.065226935161771\n",
      "\n",
      "Best colsample_bytree: 1.0 MAE score: 8.065226935161771\n"
     ]
    }
   ],
   "source": [
    "results_colsample_bytrees = {}\n",
    "params['eta'] = best_eta\n",
    "colsample_bytrees = [i for i in np.arange(0.1, 1.1, 0.1)]\n",
    "\n",
    "for colsample_bytree in colsample_bytrees:\n",
    "    params['colsample_bytree'] = colsample_bytree\n",
    "    model = get_xgb_baseline(params)\n",
    "    model.fit(x_train, y_train)\n",
    "    result = evaluate_model(model, x_test, y_test)\n",
    "    results_colsample_bytrees[colsample_bytree] = result['mae']\n",
    "    print('colsample_bytree:', colsample_bytree, 'mae:', results_colsample_bytrees[colsample_bytree])\n",
    "\n",
    "best_colsample_bytree = min(results_colsample_bytrees, key=results_colsample_bytrees.get)\n",
    "print('\\nBest colsample_bytree:', best_colsample_bytree, 'MAE score:', results_colsample_bytrees[best_colsample_bytree])"
   ]
  },
  {
   "cell_type": "markdown",
   "id": "2312019c",
   "metadata": {
    "papermill": {
     "duration": 0.057255,
     "end_time": "2022-03-21T18:36:43.725614",
     "exception": false,
     "start_time": "2022-03-21T18:36:43.668359",
     "status": "completed"
    },
    "tags": []
   },
   "source": [
    "# 6 - Testing different values for min_child_weight"
   ]
  },
  {
   "cell_type": "code",
   "execution_count": 21,
   "id": "a9728504",
   "metadata": {
    "execution": {
     "iopub.execute_input": "2022-03-21T18:36:43.850622Z",
     "iopub.status.busy": "2022-03-21T18:36:43.849776Z",
     "iopub.status.idle": "2022-03-21T18:36:57.584802Z",
     "shell.execute_reply": "2022-03-21T18:36:57.584141Z",
     "shell.execute_reply.started": "2022-03-21T15:08:44.838919Z"
    },
    "papermill": {
     "duration": 13.801921,
     "end_time": "2022-03-21T18:36:57.584977",
     "exception": false,
     "start_time": "2022-03-21T18:36:43.783056",
     "status": "completed"
    },
    "tags": []
   },
   "outputs": [
    {
     "name": "stdout",
     "output_type": "stream",
     "text": [
      "min_child_weight: 1 mae: 8.065226935161771\n",
      "min_child_weight: 2 mae: 8.067403561257189\n",
      "min_child_weight: 3 mae: 8.066030850601711\n",
      "min_child_weight: 4 mae: 8.063262908781311\n",
      "min_child_weight: 5 mae: 8.06533062434515\n",
      "min_child_weight: 6 mae: 8.067016192093789\n",
      "min_child_weight: 7 mae: 8.065577016539669\n",
      "min_child_weight: 8 mae: 8.067062914961683\n",
      "min_child_weight: 9 mae: 8.064423382761504\n",
      "\n",
      "Best min_child_weight: 4 MAE score: 8.063262908781311\n"
     ]
    }
   ],
   "source": [
    "results_min_child_weight = {}\n",
    "params['colsample_bytree'] = best_colsample_bytree\n",
    "min_child_weights = [i for i in range(1,10)]\n",
    "\n",
    "for min_child_weight in min_child_weights:\n",
    "    params['min_child_weight'] = min_child_weight\n",
    "    model = get_xgb_baseline(params)\n",
    "    model.fit(x_train, y_train)\n",
    "    result = evaluate_model(model, x_test, y_test)\n",
    "    results_min_child_weight[min_child_weight] = result['mae']\n",
    "    print('min_child_weight:', min_child_weight, 'mae:', results_min_child_weight[min_child_weight])\n",
    "\n",
    "best_min_child_weight = min(results_min_child_weight, key=results_min_child_weight.get)\n",
    "print('\\nBest min_child_weight:', best_min_child_weight, 'MAE score:', results_min_child_weight[best_min_child_weight])"
   ]
  },
  {
   "cell_type": "markdown",
   "id": "f5e4260d",
   "metadata": {
    "papermill": {
     "duration": 0.067313,
     "end_time": "2022-03-21T18:36:57.720423",
     "exception": false,
     "start_time": "2022-03-21T18:36:57.653110",
     "status": "completed"
    },
    "tags": []
   },
   "source": [
    "# 7 - Testing different values for gamma"
   ]
  },
  {
   "cell_type": "code",
   "execution_count": 22,
   "id": "febc314e",
   "metadata": {
    "execution": {
     "iopub.execute_input": "2022-03-21T18:36:57.864475Z",
     "iopub.status.busy": "2022-03-21T18:36:57.863447Z",
     "iopub.status.idle": "2022-03-21T18:37:16.091614Z",
     "shell.execute_reply": "2022-03-21T18:37:16.091993Z",
     "shell.execute_reply.started": "2022-03-21T15:08:55.488554Z"
    },
    "papermill": {
     "duration": 18.304163,
     "end_time": "2022-03-21T18:37:16.092153",
     "exception": false,
     "start_time": "2022-03-21T18:36:57.787990",
     "status": "completed"
    },
    "tags": []
   },
   "outputs": [
    {
     "name": "stdout",
     "output_type": "stream",
     "text": [
      "gamma: 0.01 mae: 8.06326272007663\n",
      "gamma: 0.02 mae: 8.06326272007663\n",
      "gamma: 0.03 mae: 8.06326272007663\n",
      "gamma: 0.1 mae: 8.06607099146695\n",
      "gamma: 0.3 mae: 8.065340618581443\n",
      "gamma: 0.5 mae: 8.065455382693816\n",
      "gamma: 1 mae: 8.06564621692029\n",
      "gamma: 1.1 mae: 8.064451399176821\n",
      "gamma: 1.5 mae: 8.067213955667166\n",
      "gamma: 2 mae: 8.066028569624326\n",
      "gamma: 5 mae: 8.06575350830032\n",
      "gamma: 7 mae: 8.070040280357725\n",
      "gamma: 9 mae: 8.07290777968284\n",
      "gamma: 10 mae: 8.07329230095712\n",
      "\n",
      "Best gamma: 0.01 Accuracy score: 8.06326272007663\n"
     ]
    }
   ],
   "source": [
    "results_gamma = {}\n",
    "params['min_child_weight'] = best_min_child_weight\n",
    "gammas = [0.01, 0.02, 0.03, 0.1, 0.3, 0.5, 1, 1.1, 1.5, 2, 5, 7, 9, 10]\n",
    "\n",
    "for gamma in gammas:\n",
    "    params['gamma'] = gamma\n",
    "    model = get_xgb_baseline(params)\n",
    "    model.fit(x_train, y_train)\n",
    "    result = evaluate_model(model, x_test, y_test)\n",
    "    results_gamma[gamma] = result['mae']\n",
    "    print('gamma:', gamma, 'mae:', results_gamma[gamma])\n",
    "\n",
    "best_gamma = min(results_gamma, key=results_gamma.get)\n",
    "print('\\nBest gamma:', best_gamma, 'Accuracy score:', results_gamma[best_gamma])"
   ]
  },
  {
   "cell_type": "code",
   "execution_count": 23,
   "id": "567fabbb",
   "metadata": {
    "execution": {
     "iopub.execute_input": "2022-03-21T18:37:16.224913Z",
     "iopub.status.busy": "2022-03-21T18:37:16.224302Z",
     "iopub.status.idle": "2022-03-21T18:37:16.227323Z",
     "shell.execute_reply": "2022-03-21T18:37:16.227900Z",
     "shell.execute_reply.started": "2022-03-21T15:09:11.408076Z"
    },
    "papermill": {
     "duration": 0.071579,
     "end_time": "2022-03-21T18:37:16.228076",
     "exception": false,
     "start_time": "2022-03-21T18:37:16.156497",
     "status": "completed"
    },
    "tags": []
   },
   "outputs": [
    {
     "name": "stdout",
     "output_type": "stream",
     "text": [
      "Best Hyperparameters: {'n_estimators': 250, 'max_depth': 6, 'subsample': 1.0, 'eta': 0.3, 'colsample_bytree': 1.0, 'min_child_weight': 4, 'gamma': 0.01}\n"
     ]
    }
   ],
   "source": [
    "params['gamma'] = best_gamma\n",
    "print('Best Hyperparameters:', params)"
   ]
  },
  {
   "cell_type": "markdown",
   "id": "b2c5e19b",
   "metadata": {
    "papermill": {
     "duration": 0.064206,
     "end_time": "2022-03-21T18:37:16.357314",
     "exception": false,
     "start_time": "2022-03-21T18:37:16.293108",
     "status": "completed"
    },
    "tags": []
   },
   "source": [
    "# Train model with the best found params"
   ]
  },
  {
   "cell_type": "code",
   "execution_count": 24,
   "id": "af57c9e2",
   "metadata": {
    "execution": {
     "iopub.execute_input": "2022-03-21T18:37:16.495597Z",
     "iopub.status.busy": "2022-03-21T18:37:16.494186Z",
     "iopub.status.idle": "2022-03-21T18:37:17.954484Z",
     "shell.execute_reply": "2022-03-21T18:37:17.955004Z",
     "shell.execute_reply.started": "2022-03-21T15:10:41.417714Z"
    },
    "papermill": {
     "duration": 1.533689,
     "end_time": "2022-03-21T18:37:17.955165",
     "exception": false,
     "start_time": "2022-03-21T18:37:16.421476",
     "status": "completed"
    },
    "tags": []
   },
   "outputs": [
    {
     "name": "stdout",
     "output_type": "stream",
     "text": [
      "{'mae': 8.06326272007663}\n"
     ]
    }
   ],
   "source": [
    "model = get_xgb_baseline(params)\n",
    "model.fit(x_train, y_train)\n",
    "result = evaluate_model(model, x_test, y_test)\n",
    "print(result)"
   ]
  },
  {
   "cell_type": "markdown",
   "id": "5e3d321c",
   "metadata": {
    "papermill": {
     "duration": 0.071956,
     "end_time": "2022-03-21T18:37:18.100215",
     "exception": false,
     "start_time": "2022-03-21T18:37:18.028259",
     "status": "completed"
    },
    "tags": []
   },
   "source": [
    "<h2>Importance features plot</h2>"
   ]
  },
  {
   "cell_type": "code",
   "execution_count": 25,
   "id": "d42f16f6",
   "metadata": {
    "execution": {
     "iopub.execute_input": "2022-03-21T18:37:18.237935Z",
     "iopub.status.busy": "2022-03-21T18:37:18.237169Z",
     "iopub.status.idle": "2022-03-21T18:37:18.522089Z",
     "shell.execute_reply": "2022-03-21T18:37:18.522514Z",
     "shell.execute_reply.started": "2022-03-21T15:10:53.696726Z"
    },
    "papermill": {
     "duration": 0.357104,
     "end_time": "2022-03-21T18:37:18.522678",
     "exception": false,
     "start_time": "2022-03-21T18:37:18.165574",
     "status": "completed"
    },
    "tags": []
   },
   "outputs": [
    {
     "data": {
      "text/plain": [
       "<AxesSubplot:title={'center':'Feature importance'}, xlabel='F score', ylabel='Features'>"
      ]
     },
     "execution_count": 25,
     "metadata": {},
     "output_type": "execute_result"
    },
    {
     "data": {
      "image/png": "[encoded data removed]",
      "text/plain": [
       "<Figure size 432x288 with 1 Axes>"
      ]
     },
     "metadata": {
      "needs_background": "light"
     },
     "output_type": "display_data"
    }
   ],
   "source": [
    "plot_importance(model)"
   ]
  },
  {
   "cell_type": "markdown",
   "id": "ce8cb170",
   "metadata": {
    "papermill": {
     "duration": 0.070431,
     "end_time": "2022-03-21T18:37:18.659042",
     "exception": false,
     "start_time": "2022-03-21T18:37:18.588611",
     "status": "completed"
    },
    "tags": []
   },
   "source": [
    "# Submission"
   ]
  },
  {
   "cell_type": "code",
   "execution_count": 26,
   "id": "34a79370",
   "metadata": {
    "execution": {
     "iopub.execute_input": "2022-03-21T18:37:19.124131Z",
     "iopub.status.busy": "2022-03-21T18:37:19.123206Z",
     "iopub.status.idle": "2022-03-21T18:37:19.130028Z",
     "shell.execute_reply": "2022-03-21T18:37:19.131052Z",
     "shell.execute_reply.started": "2022-03-21T15:11:09.359226Z"
    },
    "papermill": {
     "duration": 0.325532,
     "end_time": "2022-03-21T18:37:19.131283",
     "exception": false,
     "start_time": "2022-03-21T18:37:18.805751",
     "status": "completed"
    },
    "tags": []
   },
   "outputs": [
    {
     "data": {
      "text/plain": [
       "86"
      ]
     },
     "execution_count": 26,
     "metadata": {},
     "output_type": "execute_result"
    }
   ],
   "source": [
    "del train_df, x_train, y_train, x_test, y_test\n",
    "gc.collect()"
   ]
  },
  {
   "cell_type": "code",
   "execution_count": 27,
   "id": "8ead1188",
   "metadata": {
    "execution": {
     "iopub.execute_input": "2022-03-21T18:37:19.317591Z",
     "iopub.status.busy": "2022-03-21T18:37:19.316918Z",
     "iopub.status.idle": "2022-03-21T18:37:19.329402Z",
     "shell.execute_reply": "2022-03-21T18:37:19.328936Z",
     "shell.execute_reply.started": "2022-03-21T15:11:09.63131Z"
    },
    "papermill": {
     "duration": 0.087575,
     "end_time": "2022-03-21T18:37:19.329538",
     "exception": false,
     "start_time": "2022-03-21T18:37:19.241963",
     "status": "completed"
    },
    "tags": []
   },
   "outputs": [],
   "source": [
    "test_df = pd.read_csv(\"/kaggle/input/tabular-playground-series-mar-2022/test.csv\", sep=',')"
   ]
  },
  {
   "cell_type": "code",
   "execution_count": 28,
   "id": "a07770df",
   "metadata": {
    "execution": {
     "iopub.execute_input": "2022-03-21T18:37:19.473291Z",
     "iopub.status.busy": "2022-03-21T18:37:19.469935Z",
     "iopub.status.idle": "2022-03-21T18:37:19.500257Z",
     "shell.execute_reply": "2022-03-21T18:37:19.499796Z",
     "shell.execute_reply.started": "2022-03-21T15:11:10.203235Z"
    },
    "papermill": {
     "duration": 0.103651,
     "end_time": "2022-03-21T18:37:19.500376",
     "exception": false,
     "start_time": "2022-03-21T18:37:19.396725",
     "status": "completed"
    },
    "tags": []
   },
   "outputs": [],
   "source": [
    "test_df['direction'] = le.transform(test_df['direction'])\n",
    "test_df = preprocess_dates(test_df)\n",
    "test_df = preprocess_holidays(test_df)\n",
    "test_df = preprocess_timeseries(test_df)\n",
    "x_test = test_df.drop(['row_id', 'time'], axis=1)\n",
    "x_test['geo_mean'] = geomean(x_test, axis=1)"
   ]
  },
  {
   "cell_type": "code",
   "execution_count": 29,
   "id": "e4d3c807",
   "metadata": {
    "execution": {
     "iopub.execute_input": "2022-03-21T18:37:19.640500Z",
     "iopub.status.busy": "2022-03-21T18:37:19.639691Z",
     "iopub.status.idle": "2022-03-21T18:37:19.649538Z",
     "shell.execute_reply": "2022-03-21T18:37:19.649965Z",
     "shell.execute_reply.started": "2022-03-21T15:11:18.020166Z"
    },
    "papermill": {
     "duration": 0.081478,
     "end_time": "2022-03-21T18:37:19.650140",
     "exception": false,
     "start_time": "2022-03-21T18:37:19.568662",
     "status": "completed"
    },
    "tags": []
   },
   "outputs": [],
   "source": [
    "target = model.predict(x_test).squeeze()\n",
    "row_id =  test_df['row_id'].values\n",
    "submission = pd.DataFrame({'row_id' : row_id, 'congestion' : target})"
   ]
  },
  {
   "cell_type": "code",
   "execution_count": 30,
   "id": "497942f3",
   "metadata": {
    "execution": {
     "iopub.execute_input": "2022-03-21T18:37:19.799567Z",
     "iopub.status.busy": "2022-03-21T18:37:19.798822Z",
     "iopub.status.idle": "2022-03-21T18:37:19.808807Z",
     "shell.execute_reply": "2022-03-21T18:37:19.809199Z",
     "shell.execute_reply.started": "2022-03-21T15:11:22.644351Z"
    },
    "papermill": {
     "duration": 0.086124,
     "end_time": "2022-03-21T18:37:19.809361",
     "exception": false,
     "start_time": "2022-03-21T18:37:19.723237",
     "status": "completed"
    },
    "tags": []
   },
   "outputs": [
    {
     "data": {
      "text/html": [
       "<div>\n",
       "<style scoped>\n",
       "    .dataframe tbody tr th:only-of-type {\n",
       "        vertical-align: middle;\n",
       "    }\n",
       "\n",
       "    .dataframe tbody tr th {\n",
       "        vertical-align: top;\n",
       "    }\n",
       "\n",
       "    .dataframe thead th {\n",
       "        text-align: right;\n",
       "    }\n",
       "</style>\n",
       "<table border=\"1\" class=\"dataframe\">\n",
       "  <thead>\n",
       "    <tr style=\"text-align: right;\">\n",
       "      <th></th>\n",
       "      <th>row_id</th>\n",
       "      <th>congestion</th>\n",
       "    </tr>\n",
       "  </thead>\n",
       "  <tbody>\n",
       "    <tr>\n",
       "      <th>0</th>\n",
       "      <td>848835</td>\n",
       "      <td>44.335278</td>\n",
       "    </tr>\n",
       "    <tr>\n",
       "      <th>1</th>\n",
       "      <td>848836</td>\n",
       "      <td>30.653568</td>\n",
       "    </tr>\n",
       "    <tr>\n",
       "      <th>2</th>\n",
       "      <td>848837</td>\n",
       "      <td>51.141079</td>\n",
       "    </tr>\n",
       "    <tr>\n",
       "      <th>3</th>\n",
       "      <td>848838</td>\n",
       "      <td>25.126944</td>\n",
       "    </tr>\n",
       "    <tr>\n",
       "      <th>4</th>\n",
       "      <td>848839</td>\n",
       "      <td>62.676308</td>\n",
       "    </tr>\n",
       "  </tbody>\n",
       "</table>\n",
       "</div>"
      ],
      "text/plain": [
       "   row_id  congestion\n",
       "0  848835   44.335278\n",
       "1  848836   30.653568\n",
       "2  848837   51.141079\n",
       "3  848838   25.126944\n",
       "4  848839   62.676308"
      ]
     },
     "execution_count": 30,
     "metadata": {},
     "output_type": "execute_result"
    }
   ],
   "source": [
    "submission.head()"
   ]
  },
  {
   "cell_type": "code",
   "execution_count": 31,
   "id": "4671a85d",
   "metadata": {
    "execution": {
     "iopub.execute_input": "2022-03-21T18:37:19.953621Z",
     "iopub.status.busy": "2022-03-21T18:37:19.952890Z",
     "iopub.status.idle": "2022-03-21T18:37:19.963411Z",
     "shell.execute_reply": "2022-03-21T18:37:19.962971Z",
     "shell.execute_reply.started": "2022-03-21T15:11:28.356519Z"
    },
    "papermill": {
     "duration": 0.083609,
     "end_time": "2022-03-21T18:37:19.963542",
     "exception": false,
     "start_time": "2022-03-21T18:37:19.879933",
     "status": "completed"
    },
    "tags": []
   },
   "outputs": [],
   "source": [
    "submission.to_csv('submission.csv', index=False)"
   ]
  },
  {
   "cell_type": "code",
   "execution_count": null,
   "id": "a44a6110",
   "metadata": {
    "papermill": {
     "duration": 0.067475,
     "end_time": "2022-03-21T18:37:20.098560",
     "exception": false,
     "start_time": "2022-03-21T18:37:20.031085",
     "status": "completed"
    },
    "tags": []
   },
   "outputs": [],
   "source": []
  }
 ],
 "metadata": {
  "kernelspec": {
   "display_name": "Python 3",
   "language": "python",
   "name": "python3"
  },
  "language_info": {
   "codemirror_mode": {
    "name": "ipython",
    "version": 3
   },
   "file_extension": ".py",
   "mimetype": "text/x-python",
   "name": "python",
   "nbconvert_exporter": "python",
   "pygments_lexer": "ipython3",
   "version": "3.7.12"
  },
  "papermill": {
   "default_parameters": {},
   "duration": 387.057819,
   "end_time": "2022-03-21T18:37:21.377993",
   "environment_variables": {},
   "exception": null,
   "input_path": "__notebook__.ipynb",
   "output_path": "__notebook__.ipynb",
   "parameters": {},
   "start_time": "2022-03-21T18:30:54.320174",
   "version": "2.3.3"
  }
 },
 "nbformat": 4,
 "nbformat_minor": 5
}
