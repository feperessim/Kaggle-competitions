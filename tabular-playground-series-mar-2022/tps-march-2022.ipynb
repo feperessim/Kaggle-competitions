{
 "cells": [
  {
   "cell_type": "code",
   "execution_count": 1,
   "id": "b5f1bfa1",
   "metadata": {
    "_cell_guid": "b1076dfc-b9ad-4769-8c92-a6c4dae69d19",
    "_uuid": "8f2839f25d086af736a60e9eeb907d3b93b6e0e5",
    "execution": {
     "iopub.execute_input": "2022-03-19T14:33:58.858718Z",
     "iopub.status.busy": "2022-03-19T14:33:58.857844Z",
     "iopub.status.idle": "2022-03-19T14:34:00.027916Z",
     "shell.execute_reply": "2022-03-19T14:34:00.027084Z",
     "shell.execute_reply.started": "2022-03-19T13:55:08.657317Z"
    },
    "papermill": {
     "duration": 1.231317,
     "end_time": "2022-03-19T14:34:00.028092",
     "exception": false,
     "start_time": "2022-03-19T14:33:58.796775",
     "status": "completed"
    },
    "tags": []
   },
   "outputs": [
    {
     "name": "stdout",
     "output_type": "stream",
     "text": [
      "/kaggle/input/tabular-playground-series-mar-2022/sample_submission.csv\n",
      "/kaggle/input/tabular-playground-series-mar-2022/train.csv\n",
      "/kaggle/input/tabular-playground-series-mar-2022/test.csv\n"
     ]
    }
   ],
   "source": [
    "import numpy as np\n",
    "import pandas as pd\n",
    "import matplotlib.pyplot as plt\n",
    "import seaborn as sns\n",
    "import missingno as msno\n",
    "\n",
    "import os\n",
    "for dirname, _, filenames in os.walk('/kaggle/input'):\n",
    "    for filename in filenames:\n",
    "        print(os.path.join(dirname, filename))"
   ]
  },
  {
   "cell_type": "markdown",
   "id": "fd7fdb2d",
   "metadata": {
    "papermill": {
     "duration": 0.053763,
     "end_time": "2022-03-19T14:34:00.136586",
     "exception": false,
     "start_time": "2022-03-19T14:34:00.082823",
     "status": "completed"
    },
    "tags": []
   },
   "source": [
    "# Tabular Playground Series - Feb 2022"
   ]
  },
  {
   "cell_type": "markdown",
   "id": "79ceda51",
   "metadata": {
    "papermill": {
     "duration": 0.053843,
     "end_time": "2022-03-19T14:34:00.243238",
     "exception": false,
     "start_time": "2022-03-19T14:34:00.189395",
     "status": "completed"
    },
    "tags": []
   },
   "source": [
    "The tabular series on kaggle was developed withthe aim to help novices in data science field to get acquainted with kaggle competitions.\n",
    "\n",
    "For the March edition of the 2022 Tabular Playground Series we're challenged to forecast twelve-hours of traffic flow in a U.S. metropolis. The time series in this dataset are labelled with both location coordinates and a direction of travel -- a combination of features that will test your skill at spatio-temporal forecasting within a highly dynamic traffic network.\n",
    "\n",
    "Models must be evaluated on the mean absolute error between predicted and actual congestion values for each time period in the test set."
   ]
  },
  {
   "cell_type": "markdown",
   "id": "6d4b6c62",
   "metadata": {
    "papermill": {
     "duration": 0.055358,
     "end_time": "2022-03-19T14:34:00.353880",
     "exception": false,
     "start_time": "2022-03-19T14:34:00.298522",
     "status": "completed"
    },
    "tags": []
   },
   "source": [
    "<h2>Exploratory Data Analysis</h2>\n"
   ]
  },
  {
   "cell_type": "markdown",
   "id": "6c41d3ab",
   "metadata": {
    "papermill": {
     "duration": 0.054581,
     "end_time": "2022-03-19T14:34:00.462035",
     "exception": false,
     "start_time": "2022-03-19T14:34:00.407454",
     "status": "completed"
    },
    "tags": []
   },
   "source": [
    "<h3>Train dataset</h3>\n",
    "\n",
    "Lets first explore the train dataset and subsequently the test dataset.\n"
   ]
  },
  {
   "cell_type": "code",
   "execution_count": 2,
   "id": "0f42f90c",
   "metadata": {
    "execution": {
     "iopub.execute_input": "2022-03-19T14:34:00.576866Z",
     "iopub.status.busy": "2022-03-19T14:34:00.576238Z",
     "iopub.status.idle": "2022-03-19T14:34:01.402003Z",
     "shell.execute_reply": "2022-03-19T14:34:01.402410Z",
     "shell.execute_reply.started": "2022-03-19T13:55:10.003589Z"
    },
    "papermill": {
     "duration": 0.885854,
     "end_time": "2022-03-19T14:34:01.402598",
     "exception": false,
     "start_time": "2022-03-19T14:34:00.516744",
     "status": "completed"
    },
    "tags": []
   },
   "outputs": [],
   "source": [
    "train_df = pd.read_csv('/kaggle/input/tabular-playground-series-mar-2022/train.csv')"
   ]
  },
  {
   "cell_type": "code",
   "execution_count": 3,
   "id": "792880ac",
   "metadata": {
    "execution": {
     "iopub.execute_input": "2022-03-19T14:34:01.516497Z",
     "iopub.status.busy": "2022-03-19T14:34:01.515952Z",
     "iopub.status.idle": "2022-03-19T14:34:01.536746Z",
     "shell.execute_reply": "2022-03-19T14:34:01.536338Z",
     "shell.execute_reply.started": "2022-03-19T13:55:10.835307Z"
    },
    "papermill": {
     "duration": 0.077545,
     "end_time": "2022-03-19T14:34:01.536882",
     "exception": false,
     "start_time": "2022-03-19T14:34:01.459337",
     "status": "completed"
    },
    "tags": []
   },
   "outputs": [
    {
     "data": {
      "text/html": [
       "<div>\n",
       "<style scoped>\n",
       "    .dataframe tbody tr th:only-of-type {\n",
       "        vertical-align: middle;\n",
       "    }\n",
       "\n",
       "    .dataframe tbody tr th {\n",
       "        vertical-align: top;\n",
       "    }\n",
       "\n",
       "    .dataframe thead th {\n",
       "        text-align: right;\n",
       "    }\n",
       "</style>\n",
       "<table border=\"1\" class=\"dataframe\">\n",
       "  <thead>\n",
       "    <tr style=\"text-align: right;\">\n",
       "      <th></th>\n",
       "      <th>row_id</th>\n",
       "      <th>time</th>\n",
       "      <th>x</th>\n",
       "      <th>y</th>\n",
       "      <th>direction</th>\n",
       "      <th>congestion</th>\n",
       "    </tr>\n",
       "  </thead>\n",
       "  <tbody>\n",
       "    <tr>\n",
       "      <th>0</th>\n",
       "      <td>0</td>\n",
       "      <td>1991-04-01 00:00:00</td>\n",
       "      <td>0</td>\n",
       "      <td>0</td>\n",
       "      <td>EB</td>\n",
       "      <td>70</td>\n",
       "    </tr>\n",
       "    <tr>\n",
       "      <th>1</th>\n",
       "      <td>1</td>\n",
       "      <td>1991-04-01 00:00:00</td>\n",
       "      <td>0</td>\n",
       "      <td>0</td>\n",
       "      <td>NB</td>\n",
       "      <td>49</td>\n",
       "    </tr>\n",
       "    <tr>\n",
       "      <th>2</th>\n",
       "      <td>2</td>\n",
       "      <td>1991-04-01 00:00:00</td>\n",
       "      <td>0</td>\n",
       "      <td>0</td>\n",
       "      <td>SB</td>\n",
       "      <td>24</td>\n",
       "    </tr>\n",
       "    <tr>\n",
       "      <th>3</th>\n",
       "      <td>3</td>\n",
       "      <td>1991-04-01 00:00:00</td>\n",
       "      <td>0</td>\n",
       "      <td>1</td>\n",
       "      <td>EB</td>\n",
       "      <td>18</td>\n",
       "    </tr>\n",
       "    <tr>\n",
       "      <th>4</th>\n",
       "      <td>4</td>\n",
       "      <td>1991-04-01 00:00:00</td>\n",
       "      <td>0</td>\n",
       "      <td>1</td>\n",
       "      <td>NB</td>\n",
       "      <td>60</td>\n",
       "    </tr>\n",
       "  </tbody>\n",
       "</table>\n",
       "</div>"
      ],
      "text/plain": [
       "   row_id                 time  x  y direction  congestion\n",
       "0       0  1991-04-01 00:00:00  0  0        EB          70\n",
       "1       1  1991-04-01 00:00:00  0  0        NB          49\n",
       "2       2  1991-04-01 00:00:00  0  0        SB          24\n",
       "3       3  1991-04-01 00:00:00  0  1        EB          18\n",
       "4       4  1991-04-01 00:00:00  0  1        NB          60"
      ]
     },
     "execution_count": 3,
     "metadata": {},
     "output_type": "execute_result"
    }
   ],
   "source": [
    "train_df.head()"
   ]
  },
  {
   "cell_type": "code",
   "execution_count": 4,
   "id": "f010f2fe",
   "metadata": {
    "execution": {
     "iopub.execute_input": "2022-03-19T14:34:01.648252Z",
     "iopub.status.busy": "2022-03-19T14:34:01.647715Z",
     "iopub.status.idle": "2022-03-19T14:34:01.656350Z",
     "shell.execute_reply": "2022-03-19T14:34:01.656819Z",
     "shell.execute_reply.started": "2022-03-19T13:55:10.865122Z"
    },
    "papermill": {
     "duration": 0.065736,
     "end_time": "2022-03-19T14:34:01.656951",
     "exception": false,
     "start_time": "2022-03-19T14:34:01.591215",
     "status": "completed"
    },
    "tags": []
   },
   "outputs": [
    {
     "data": {
      "text/html": [
       "<div>\n",
       "<style scoped>\n",
       "    .dataframe tbody tr th:only-of-type {\n",
       "        vertical-align: middle;\n",
       "    }\n",
       "\n",
       "    .dataframe tbody tr th {\n",
       "        vertical-align: top;\n",
       "    }\n",
       "\n",
       "    .dataframe thead th {\n",
       "        text-align: right;\n",
       "    }\n",
       "</style>\n",
       "<table border=\"1\" class=\"dataframe\">\n",
       "  <thead>\n",
       "    <tr style=\"text-align: right;\">\n",
       "      <th></th>\n",
       "      <th>row_id</th>\n",
       "      <th>time</th>\n",
       "      <th>x</th>\n",
       "      <th>y</th>\n",
       "      <th>direction</th>\n",
       "      <th>congestion</th>\n",
       "    </tr>\n",
       "  </thead>\n",
       "  <tbody>\n",
       "    <tr>\n",
       "      <th>848830</th>\n",
       "      <td>848830</td>\n",
       "      <td>1991-09-30 11:40:00</td>\n",
       "      <td>2</td>\n",
       "      <td>3</td>\n",
       "      <td>NB</td>\n",
       "      <td>54</td>\n",
       "    </tr>\n",
       "    <tr>\n",
       "      <th>848831</th>\n",
       "      <td>848831</td>\n",
       "      <td>1991-09-30 11:40:00</td>\n",
       "      <td>2</td>\n",
       "      <td>3</td>\n",
       "      <td>NE</td>\n",
       "      <td>28</td>\n",
       "    </tr>\n",
       "    <tr>\n",
       "      <th>848832</th>\n",
       "      <td>848832</td>\n",
       "      <td>1991-09-30 11:40:00</td>\n",
       "      <td>2</td>\n",
       "      <td>3</td>\n",
       "      <td>SB</td>\n",
       "      <td>68</td>\n",
       "    </tr>\n",
       "    <tr>\n",
       "      <th>848833</th>\n",
       "      <td>848833</td>\n",
       "      <td>1991-09-30 11:40:00</td>\n",
       "      <td>2</td>\n",
       "      <td>3</td>\n",
       "      <td>SW</td>\n",
       "      <td>17</td>\n",
       "    </tr>\n",
       "    <tr>\n",
       "      <th>848834</th>\n",
       "      <td>848834</td>\n",
       "      <td>1991-09-30 11:40:00</td>\n",
       "      <td>2</td>\n",
       "      <td>3</td>\n",
       "      <td>WB</td>\n",
       "      <td>24</td>\n",
       "    </tr>\n",
       "  </tbody>\n",
       "</table>\n",
       "</div>"
      ],
      "text/plain": [
       "        row_id                 time  x  y direction  congestion\n",
       "848830  848830  1991-09-30 11:40:00  2  3        NB          54\n",
       "848831  848831  1991-09-30 11:40:00  2  3        NE          28\n",
       "848832  848832  1991-09-30 11:40:00  2  3        SB          68\n",
       "848833  848833  1991-09-30 11:40:00  2  3        SW          17\n",
       "848834  848834  1991-09-30 11:40:00  2  3        WB          24"
      ]
     },
     "execution_count": 4,
     "metadata": {},
     "output_type": "execute_result"
    }
   ],
   "source": [
    "train_df.tail()"
   ]
  },
  {
   "cell_type": "code",
   "execution_count": 5,
   "id": "1391915c",
   "metadata": {
    "execution": {
     "iopub.execute_input": "2022-03-19T14:34:01.770747Z",
     "iopub.status.busy": "2022-03-19T14:34:01.770231Z",
     "iopub.status.idle": "2022-03-19T14:34:01.799931Z",
     "shell.execute_reply": "2022-03-19T14:34:01.800371Z",
     "shell.execute_reply.started": "2022-03-19T13:55:10.876246Z"
    },
    "papermill": {
     "duration": 0.088803,
     "end_time": "2022-03-19T14:34:01.800527",
     "exception": false,
     "start_time": "2022-03-19T14:34:01.711724",
     "status": "completed"
    },
    "tags": []
   },
   "outputs": [],
   "source": [
    "train_df.drop('row_id', axis=1, inplace=True)"
   ]
  },
  {
   "cell_type": "markdown",
   "id": "08fc7c97",
   "metadata": {
    "papermill": {
     "duration": 0.054829,
     "end_time": "2022-03-19T14:34:01.912699",
     "exception": false,
     "start_time": "2022-03-19T14:34:01.857870",
     "status": "completed"
    },
    "tags": []
   },
   "source": [
    "<h3>1. Structure Investigation</h3>\n",
    "\n",
    "Prior to check the content of the data in the dataframe just loaded, let’s first verify the general structure of the dataset.\n"
   ]
  },
  {
   "cell_type": "code",
   "execution_count": 6,
   "id": "a0d4ea07",
   "metadata": {
    "execution": {
     "iopub.execute_input": "2022-03-19T14:34:02.060667Z",
     "iopub.status.busy": "2022-03-19T14:34:02.059906Z",
     "iopub.status.idle": "2022-03-19T14:34:02.064041Z",
     "shell.execute_reply": "2022-03-19T14:34:02.064638Z",
     "shell.execute_reply.started": "2022-03-19T13:55:10.919997Z"
    },
    "papermill": {
     "duration": 0.09552,
     "end_time": "2022-03-19T14:34:02.064858",
     "exception": false,
     "start_time": "2022-03-19T14:34:01.969338",
     "status": "completed"
    },
    "tags": []
   },
   "outputs": [
    {
     "data": {
      "text/plain": [
       "(848835, 5)"
      ]
     },
     "execution_count": 6,
     "metadata": {},
     "output_type": "execute_result"
    }
   ],
   "source": [
    "# Dataset shape \n",
    "train_df.shape"
   ]
  },
  {
   "cell_type": "code",
   "execution_count": 7,
   "id": "e487be15",
   "metadata": {
    "execution": {
     "iopub.execute_input": "2022-03-19T14:34:02.248809Z",
     "iopub.status.busy": "2022-03-19T14:34:02.248116Z",
     "iopub.status.idle": "2022-03-19T14:34:02.257082Z",
     "shell.execute_reply": "2022-03-19T14:34:02.257645Z",
     "shell.execute_reply.started": "2022-03-19T13:55:10.929213Z"
    },
    "papermill": {
     "duration": 0.102123,
     "end_time": "2022-03-19T14:34:02.257833",
     "exception": false,
     "start_time": "2022-03-19T14:34:02.155710",
     "status": "completed"
    },
    "tags": []
   },
   "outputs": [
    {
     "data": {
      "text/plain": [
       "int64     3\n",
       "object    2\n",
       "dtype: int64"
      ]
     },
     "execution_count": 7,
     "metadata": {},
     "output_type": "execute_result"
    }
   ],
   "source": [
    "pd.value_counts(train_df.dtypes)"
   ]
  },
  {
   "cell_type": "markdown",
   "id": "278b7ad1",
   "metadata": {
    "papermill": {
     "duration": 0.089056,
     "end_time": "2022-03-19T14:34:02.435874",
     "exception": false,
     "start_time": "2022-03-19T14:34:02.346818",
     "status": "completed"
    },
    "tags": []
   },
   "source": [
    "<h4>1.1. Structure of non-numerical features</h4>"
   ]
  },
  {
   "cell_type": "code",
   "execution_count": 8,
   "id": "0fc45d89",
   "metadata": {
    "execution": {
     "iopub.execute_input": "2022-03-19T14:34:02.618243Z",
     "iopub.status.busy": "2022-03-19T14:34:02.617546Z",
     "iopub.status.idle": "2022-03-19T14:34:02.800203Z",
     "shell.execute_reply": "2022-03-19T14:34:02.799508Z",
     "shell.execute_reply.started": "2022-03-19T13:55:10.947960Z"
    },
    "papermill": {
     "duration": 0.275739,
     "end_time": "2022-03-19T14:34:02.800344",
     "exception": false,
     "start_time": "2022-03-19T14:34:02.524605",
     "status": "completed"
    },
    "tags": []
   },
   "outputs": [
    {
     "data": {
      "text/html": [
       "<div>\n",
       "<style scoped>\n",
       "    .dataframe tbody tr th:only-of-type {\n",
       "        vertical-align: middle;\n",
       "    }\n",
       "\n",
       "    .dataframe tbody tr th {\n",
       "        vertical-align: top;\n",
       "    }\n",
       "\n",
       "    .dataframe thead th {\n",
       "        text-align: right;\n",
       "    }\n",
       "</style>\n",
       "<table border=\"1\" class=\"dataframe\">\n",
       "  <thead>\n",
       "    <tr style=\"text-align: right;\">\n",
       "      <th></th>\n",
       "      <th>time</th>\n",
       "      <th>direction</th>\n",
       "    </tr>\n",
       "  </thead>\n",
       "  <tbody>\n",
       "    <tr>\n",
       "      <th>count</th>\n",
       "      <td>848835</td>\n",
       "      <td>848835</td>\n",
       "    </tr>\n",
       "    <tr>\n",
       "      <th>unique</th>\n",
       "      <td>13059</td>\n",
       "      <td>8</td>\n",
       "    </tr>\n",
       "    <tr>\n",
       "      <th>top</th>\n",
       "      <td>1991-04-01 00:00:00</td>\n",
       "      <td>EB</td>\n",
       "    </tr>\n",
       "    <tr>\n",
       "      <th>freq</th>\n",
       "      <td>65</td>\n",
       "      <td>156708</td>\n",
       "    </tr>\n",
       "  </tbody>\n",
       "</table>\n",
       "</div>"
      ],
      "text/plain": [
       "                       time direction\n",
       "count                848835    848835\n",
       "unique                13059         8\n",
       "top     1991-04-01 00:00:00        EB\n",
       "freq                     65    156708"
      ]
     },
     "execution_count": 8,
     "metadata": {},
     "output_type": "execute_result"
    }
   ],
   "source": [
    "train_df.describe(exclude='number')"
   ]
  },
  {
   "cell_type": "markdown",
   "id": "1b392b16",
   "metadata": {
    "papermill": {
     "duration": 0.086514,
     "end_time": "2022-03-19T14:34:02.975186",
     "exception": false,
     "start_time": "2022-03-19T14:34:02.888672",
     "status": "completed"
    },
    "tags": []
   },
   "source": [
    "<h4>1.2. Structure of numerical features</h4>"
   ]
  },
  {
   "cell_type": "code",
   "execution_count": 9,
   "id": "f0bcc00f",
   "metadata": {
    "execution": {
     "iopub.execute_input": "2022-03-19T14:34:03.154282Z",
     "iopub.status.busy": "2022-03-19T14:34:03.153565Z",
     "iopub.status.idle": "2022-03-19T14:34:03.674696Z",
     "shell.execute_reply": "2022-03-19T14:34:03.674085Z",
     "shell.execute_reply.started": "2022-03-19T13:55:11.135618Z"
    },
    "papermill": {
     "duration": 0.612591,
     "end_time": "2022-03-19T14:34:03.674863",
     "exception": false,
     "start_time": "2022-03-19T14:34:03.062272",
     "status": "completed"
    },
    "tags": []
   },
   "outputs": [
    {
     "data": {
      "text/plain": [
       "<AxesSubplot:title={'center':'Unique Values per feature'}>"
      ]
     },
     "execution_count": 9,
     "metadata": {},
     "output_type": "execute_result"
    },
    {
     "data": {
      "image/png": "[encoded data removed]",
      "text/plain": [
       "<Figure size 864x504 with 1 Axes>"
      ]
     },
     "metadata": {
      "needs_background": "light"
     },
     "output_type": "display_data"
    }
   ],
   "source": [
    "unique_values = train_df.select_dtypes(include='number').nunique().sort_values()\n",
    "\n",
    "unique_values.plot.bar(logy=True, figsize=(12, 7), title='Unique Values per feature')"
   ]
  },
  {
   "cell_type": "code",
   "execution_count": 10,
   "id": "bf78442f",
   "metadata": {
    "execution": {
     "iopub.execute_input": "2022-03-19T14:34:03.911237Z",
     "iopub.status.busy": "2022-03-19T14:34:03.910478Z",
     "iopub.status.idle": "2022-03-19T14:34:03.927390Z",
     "shell.execute_reply": "2022-03-19T14:34:03.926840Z",
     "shell.execute_reply.started": "2022-03-19T13:55:11.864749Z"
    },
    "papermill": {
     "duration": 0.166655,
     "end_time": "2022-03-19T14:34:03.927533",
     "exception": false,
     "start_time": "2022-03-19T14:34:03.760878",
     "status": "completed"
    },
    "tags": []
   },
   "outputs": [
    {
     "name": "stdout",
     "output_type": "stream",
     "text": [
      "<class 'pandas.core.frame.DataFrame'>\n",
      "RangeIndex: 848835 entries, 0 to 848834\n",
      "Data columns (total 5 columns):\n",
      " #   Column      Non-Null Count   Dtype \n",
      "---  ------      --------------   ----- \n",
      " 0   time        848835 non-null  object\n",
      " 1   x           848835 non-null  int64 \n",
      " 2   y           848835 non-null  int64 \n",
      " 3   direction   848835 non-null  object\n",
      " 4   congestion  848835 non-null  int64 \n",
      "dtypes: int64(3), object(2)\n",
      "memory usage: 32.4+ MB\n"
     ]
    }
   ],
   "source": [
    "train_df.info()"
   ]
  },
  {
   "cell_type": "code",
   "execution_count": 11,
   "id": "a934251d",
   "metadata": {
    "execution": {
     "iopub.execute_input": "2022-03-19T14:34:04.107380Z",
     "iopub.status.busy": "2022-03-19T14:34:04.106689Z",
     "iopub.status.idle": "2022-03-19T14:34:04.180732Z",
     "shell.execute_reply": "2022-03-19T14:34:04.180096Z",
     "shell.execute_reply.started": "2022-03-19T13:55:12.059125Z"
    },
    "papermill": {
     "duration": 0.164726,
     "end_time": "2022-03-19T14:34:04.180910",
     "exception": false,
     "start_time": "2022-03-19T14:34:04.016184",
     "status": "completed"
    },
    "tags": []
   },
   "outputs": [
    {
     "data": {
      "text/html": [
       "<div>\n",
       "<style scoped>\n",
       "    .dataframe tbody tr th:only-of-type {\n",
       "        vertical-align: middle;\n",
       "    }\n",
       "\n",
       "    .dataframe tbody tr th {\n",
       "        vertical-align: top;\n",
       "    }\n",
       "\n",
       "    .dataframe thead th {\n",
       "        text-align: right;\n",
       "    }\n",
       "</style>\n",
       "<table border=\"1\" class=\"dataframe\">\n",
       "  <thead>\n",
       "    <tr style=\"text-align: right;\">\n",
       "      <th></th>\n",
       "      <th>count</th>\n",
       "      <th>mean</th>\n",
       "      <th>std</th>\n",
       "      <th>min</th>\n",
       "      <th>25%</th>\n",
       "      <th>50%</th>\n",
       "      <th>75%</th>\n",
       "      <th>max</th>\n",
       "    </tr>\n",
       "  </thead>\n",
       "  <tbody>\n",
       "    <tr>\n",
       "      <th>x</th>\n",
       "      <td>848835.0</td>\n",
       "      <td>1.138462</td>\n",
       "      <td>0.801478</td>\n",
       "      <td>0.0</td>\n",
       "      <td>0.0</td>\n",
       "      <td>1.0</td>\n",
       "      <td>2.0</td>\n",
       "      <td>2.0</td>\n",
       "    </tr>\n",
       "    <tr>\n",
       "      <th>y</th>\n",
       "      <td>848835.0</td>\n",
       "      <td>1.630769</td>\n",
       "      <td>1.089379</td>\n",
       "      <td>0.0</td>\n",
       "      <td>1.0</td>\n",
       "      <td>2.0</td>\n",
       "      <td>3.0</td>\n",
       "      <td>3.0</td>\n",
       "    </tr>\n",
       "    <tr>\n",
       "      <th>congestion</th>\n",
       "      <td>848835.0</td>\n",
       "      <td>47.815305</td>\n",
       "      <td>16.799392</td>\n",
       "      <td>0.0</td>\n",
       "      <td>35.0</td>\n",
       "      <td>47.0</td>\n",
       "      <td>60.0</td>\n",
       "      <td>100.0</td>\n",
       "    </tr>\n",
       "  </tbody>\n",
       "</table>\n",
       "</div>"
      ],
      "text/plain": [
       "               count       mean        std  min   25%   50%   75%    max\n",
       "x           848835.0   1.138462   0.801478  0.0   0.0   1.0   2.0    2.0\n",
       "y           848835.0   1.630769   1.089379  0.0   1.0   2.0   3.0    3.0\n",
       "congestion  848835.0  47.815305  16.799392  0.0  35.0  47.0  60.0  100.0"
      ]
     },
     "execution_count": 11,
     "metadata": {},
     "output_type": "execute_result"
    }
   ],
   "source": [
    "train_df.describe().T"
   ]
  },
  {
   "cell_type": "markdown",
   "id": "80f5f4a1",
   "metadata": {
    "papermill": {
     "duration": 0.086064,
     "end_time": "2022-03-19T14:34:04.353808",
     "exception": false,
     "start_time": "2022-03-19T14:34:04.267744",
     "status": "completed"
    },
    "tags": []
   },
   "source": [
    "<h4>1.3. Conclusion of structure investigation</h4>\n",
    "\n",
    "The dataset being explored have very few features (5 only) to deal with and a lot of samples roughly 849k without any missing value. There are 3 features of type int64 and 2 of type object. One of these features (<b>time</b>) is a time feature, which have about 13059 unique values, meanwhile the other object feature (direction) have only 8 unique values.\n",
    "\n",
    "The numerical features x and y have less than 10^1 unique values. On the other hand, the congestion feature (our target) has about 10^2 unique values."
   ]
  },
  {
   "cell_type": "markdown",
   "id": "7c2ee8e9",
   "metadata": {
    "papermill": {
     "duration": 0.088949,
     "end_time": "2022-03-19T14:34:04.529768",
     "exception": false,
     "start_time": "2022-03-19T14:34:04.440819",
     "status": "completed"
    },
    "tags": []
   },
   "source": [
    "<h3>2. Quality Investigation</h3>\n",
    "\n",
    "Before proceed cehcking the content these features have, we are going to initially take a look at the general quality of the dataset."
   ]
  },
  {
   "cell_type": "markdown",
   "id": "56743837",
   "metadata": {
    "papermill": {
     "duration": 0.085687,
     "end_time": "2022-03-19T14:34:04.702978",
     "exception": false,
     "start_time": "2022-03-19T14:34:04.617291",
     "status": "completed"
    },
    "tags": []
   },
   "source": [
    "<h4>2.1. Duplicates</h4>"
   ]
  },
  {
   "cell_type": "code",
   "execution_count": 12,
   "id": "487e16b7",
   "metadata": {
    "execution": {
     "iopub.execute_input": "2022-03-19T14:34:04.892916Z",
     "iopub.status.busy": "2022-03-19T14:34:04.892225Z",
     "iopub.status.idle": "2022-03-19T14:34:05.068721Z",
     "shell.execute_reply": "2022-03-19T14:34:05.068062Z",
     "shell.execute_reply.started": "2022-03-19T13:55:12.138493Z"
    },
    "papermill": {
     "duration": 0.279807,
     "end_time": "2022-03-19T14:34:05.068888",
     "exception": false,
     "start_time": "2022-03-19T14:34:04.789081",
     "status": "completed"
    },
    "tags": []
   },
   "outputs": [
    {
     "name": "stdout",
     "output_type": "stream",
     "text": [
      "There are 0 duplicates samples.\n"
     ]
    }
   ],
   "source": [
    "n_duplicates = train_df.duplicated().sum()\n",
    "print(f\"There are {n_duplicates} duplicates samples.\")"
   ]
  },
  {
   "cell_type": "markdown",
   "id": "c8678f76",
   "metadata": {
    "papermill": {
     "duration": 0.060232,
     "end_time": "2022-03-19T14:34:05.190475",
     "exception": false,
     "start_time": "2022-03-19T14:34:05.130243",
     "status": "completed"
    },
    "tags": []
   },
   "source": [
    "<h4>2.2. Missing values</h4>"
   ]
  },
  {
   "cell_type": "markdown",
   "id": "824799a3",
   "metadata": {
    "papermill": {
     "duration": 0.057957,
     "end_time": "2022-03-19T14:34:05.308904",
     "exception": false,
     "start_time": "2022-03-19T14:34:05.250947",
     "status": "completed"
    },
    "tags": []
   },
   "source": [
    "<h5>2.2.1. Per sample</h5>"
   ]
  },
  {
   "cell_type": "code",
   "execution_count": 13,
   "id": "151f061d",
   "metadata": {
    "execution": {
     "iopub.execute_input": "2022-03-19T14:34:05.492292Z",
     "iopub.status.busy": "2022-03-19T14:34:05.491728Z",
     "iopub.status.idle": "2022-03-19T14:34:05.796736Z",
     "shell.execute_reply": "2022-03-19T14:34:05.797128Z",
     "shell.execute_reply.started": "2022-03-19T13:55:12.328033Z"
    },
    "papermill": {
     "duration": 0.428639,
     "end_time": "2022-03-19T14:34:05.797276",
     "exception": false,
     "start_time": "2022-03-19T14:34:05.368637",
     "status": "completed"
    },
    "tags": []
   },
   "outputs": [
    {
     "data": {
      "image/png": "[encoded data removed]",
      "text/plain": [
       "<Figure size 720x576 with 1 Axes>"
      ]
     },
     "metadata": {
      "needs_background": "light"
     },
     "output_type": "display_data"
    }
   ],
   "source": [
    "plt.figure(figsize=(10, 8))\n",
    "plt.imshow(train_df.isna(), aspect=\"auto\", interpolation=\"nearest\", cmap=\"gray\")\n",
    "plt.xlabel(\"Column Number\")\n",
    "plt.ylabel(\"Sample Number\");"
   ]
  },
  {
   "cell_type": "code",
   "execution_count": 14,
   "id": "6c1dbe37",
   "metadata": {
    "execution": {
     "iopub.execute_input": "2022-03-19T14:34:05.976081Z",
     "iopub.status.busy": "2022-03-19T14:34:05.975540Z",
     "iopub.status.idle": "2022-03-19T14:34:07.921445Z",
     "shell.execute_reply": "2022-03-19T14:34:07.920816Z",
     "shell.execute_reply.started": "2022-03-19T13:55:12.713191Z"
    },
    "papermill": {
     "duration": 2.066864,
     "end_time": "2022-03-19T14:34:07.921567",
     "exception": false,
     "start_time": "2022-03-19T14:34:05.854703",
     "status": "completed"
    },
    "tags": []
   },
   "outputs": [
    {
     "data": {
      "image/png": "[encoded data removed]",
      "text/plain": [
       "<Figure size 1800x720 with 2 Axes>"
      ]
     },
     "metadata": {
      "needs_background": "light"
     },
     "output_type": "display_data"
    }
   ],
   "source": [
    "msno.matrix(train_df, labels=True, sort=\"descending\");"
   ]
  },
  {
   "cell_type": "markdown",
   "id": "8b4a2736",
   "metadata": {
    "papermill": {
     "duration": 0.059522,
     "end_time": "2022-03-19T14:34:08.041495",
     "exception": false,
     "start_time": "2022-03-19T14:34:07.981973",
     "status": "completed"
    },
    "tags": []
   },
   "source": [
    "<h5>2.2.2. Per Feature</h5>"
   ]
  },
  {
   "cell_type": "code",
   "execution_count": 15,
   "id": "aa8738a5",
   "metadata": {
    "execution": {
     "iopub.execute_input": "2022-03-19T14:34:08.166732Z",
     "iopub.status.busy": "2022-03-19T14:34:08.166197Z",
     "iopub.status.idle": "2022-03-19T14:34:08.515892Z",
     "shell.execute_reply": "2022-03-19T14:34:08.515280Z",
     "shell.execute_reply.started": "2022-03-19T13:55:15.108418Z"
    },
    "papermill": {
     "duration": 0.413604,
     "end_time": "2022-03-19T14:34:08.516038",
     "exception": false,
     "start_time": "2022-03-19T14:34:08.102434",
     "status": "completed"
    },
    "tags": []
   },
   "outputs": [
    {
     "data": {
      "text/plain": [
       "<AxesSubplot:title={'center':'Percentage of missing values per feature'}, ylabel='Ratio of missing values per feature'>"
      ]
     },
     "execution_count": 15,
     "metadata": {},
     "output_type": "execute_result"
    },
    {
     "data": {
      "image/png": "[encoded data removed]",
      "text/plain": [
       "<Figure size 864x360 with 1 Axes>"
      ]
     },
     "metadata": {
      "needs_background": "light"
     },
     "output_type": "display_data"
    }
   ],
   "source": [
    "train_df.isna().mean().sort_values().plot(\n",
    "    kind='bar', figsize=(12, 5),\n",
    "    title=\"Percentage of missing values per feature\",\n",
    "    ylabel=\"Ratio of missing values per feature\")"
   ]
  },
  {
   "cell_type": "markdown",
   "id": "70cc6df1",
   "metadata": {
    "papermill": {
     "duration": 0.088793,
     "end_time": "2022-03-19T14:34:08.697454",
     "exception": false,
     "start_time": "2022-03-19T14:34:08.608661",
     "status": "completed"
    },
    "tags": []
   },
   "source": [
    "<h4>2.3. Unwanted entries and recording errors</h4>"
   ]
  },
  {
   "cell_type": "markdown",
   "id": "327c27cc",
   "metadata": {
    "papermill": {
     "duration": 0.073504,
     "end_time": "2022-03-19T14:34:08.871844",
     "exception": false,
     "start_time": "2022-03-19T14:34:08.798340",
     "status": "completed"
    },
    "tags": []
   },
   "source": [
    "<h5>2.3.1. Numerical features</h5>"
   ]
  },
  {
   "cell_type": "code",
   "execution_count": 16,
   "id": "8ff839e0",
   "metadata": {
    "execution": {
     "iopub.execute_input": "2022-03-19T14:34:09.002525Z",
     "iopub.status.busy": "2022-03-19T14:34:09.001977Z",
     "iopub.status.idle": "2022-03-19T14:34:21.223705Z",
     "shell.execute_reply": "2022-03-19T14:34:21.224285Z",
     "shell.execute_reply.started": "2022-03-19T13:55:22.303347Z"
    },
    "papermill": {
     "duration": 12.292592,
     "end_time": "2022-03-19T14:34:21.224479",
     "exception": false,
     "start_time": "2022-03-19T14:34:08.931887",
     "status": "completed"
    },
    "tags": []
   },
   "outputs": [
    {
     "data": {
      "text/plain": [
       "array([[<AxesSubplot:>, <AxesSubplot:>, <AxesSubplot:>, <AxesSubplot:>]],\n",
       "      dtype=object)"
      ]
     },
     "execution_count": 16,
     "metadata": {},
     "output_type": "execute_result"
    },
    {
     "data": {
      "image/png": "[encoded data removed]",
      "text/plain": [
       "<Figure size 1080x360 with 4 Axes>"
      ]
     },
     "metadata": {
      "needs_background": "light"
     },
     "output_type": "display_data"
    }
   ],
   "source": [
    "train_df.plot(marker='.', subplots=True, layout=(-1, 4), figsize=(15, 5), markersize=1)"
   ]
  },
  {
   "cell_type": "markdown",
   "id": "c76bcca6",
   "metadata": {
    "papermill": {
     "duration": 0.096288,
     "end_time": "2022-03-19T14:34:21.424269",
     "exception": false,
     "start_time": "2022-03-19T14:34:21.327981",
     "status": "completed"
    },
    "tags": []
   },
   "source": [
    "<h5>2.3.2. Non-numerical features</h5>"
   ]
  },
  {
   "cell_type": "code",
   "execution_count": 17,
   "id": "2849a7a2",
   "metadata": {
    "execution": {
     "iopub.execute_input": "2022-03-19T14:34:21.623459Z",
     "iopub.status.busy": "2022-03-19T14:34:21.621676Z",
     "iopub.status.idle": "2022-03-19T14:34:21.795062Z",
     "shell.execute_reply": "2022-03-19T14:34:21.794498Z",
     "shell.execute_reply.started": "2022-03-19T13:55:42.476682Z"
    },
    "papermill": {
     "duration": 0.274828,
     "end_time": "2022-03-19T14:34:21.795201",
     "exception": false,
     "start_time": "2022-03-19T14:34:21.520373",
     "status": "completed"
    },
    "tags": []
   },
   "outputs": [
    {
     "data": {
      "text/html": [
       "<div>\n",
       "<style scoped>\n",
       "    .dataframe tbody tr th:only-of-type {\n",
       "        vertical-align: middle;\n",
       "    }\n",
       "\n",
       "    .dataframe tbody tr th {\n",
       "        vertical-align: top;\n",
       "    }\n",
       "\n",
       "    .dataframe thead th {\n",
       "        text-align: right;\n",
       "    }\n",
       "</style>\n",
       "<table border=\"1\" class=\"dataframe\">\n",
       "  <thead>\n",
       "    <tr style=\"text-align: right;\">\n",
       "      <th></th>\n",
       "      <th>count</th>\n",
       "      <th>unique</th>\n",
       "      <th>top</th>\n",
       "      <th>freq</th>\n",
       "    </tr>\n",
       "  </thead>\n",
       "  <tbody>\n",
       "    <tr>\n",
       "      <th>time</th>\n",
       "      <td>848835</td>\n",
       "      <td>13059</td>\n",
       "      <td>1991-04-01 00:00:00</td>\n",
       "      <td>65</td>\n",
       "    </tr>\n",
       "    <tr>\n",
       "      <th>direction</th>\n",
       "      <td>848835</td>\n",
       "      <td>8</td>\n",
       "      <td>EB</td>\n",
       "      <td>156708</td>\n",
       "    </tr>\n",
       "  </tbody>\n",
       "</table>\n",
       "</div>"
      ],
      "text/plain": [
       "            count unique                  top    freq\n",
       "time       848835  13059  1991-04-01 00:00:00      65\n",
       "direction  848835      8                   EB  156708"
      ]
     },
     "execution_count": 17,
     "metadata": {},
     "output_type": "execute_result"
    }
   ],
   "source": [
    "train_df.describe(exclude=['number']).T"
   ]
  },
  {
   "cell_type": "code",
   "execution_count": 18,
   "id": "854d00eb",
   "metadata": {
    "execution": {
     "iopub.execute_input": "2022-03-19T14:34:21.984472Z",
     "iopub.status.busy": "2022-03-19T14:34:21.983552Z",
     "iopub.status.idle": "2022-03-19T14:34:23.011597Z",
     "shell.execute_reply": "2022-03-19T14:34:23.012139Z",
     "shell.execute_reply.started": "2022-03-19T13:55:42.643553Z"
    },
    "papermill": {
     "duration": 1.132894,
     "end_time": "2022-03-19T14:34:23.012312",
     "exception": false,
     "start_time": "2022-03-19T14:34:21.879418",
     "status": "completed"
    },
    "tags": []
   },
   "outputs": [
    {
     "data": {
      "image/png": "[encoded data removed]",
      "text/plain": [
       "<Figure size 864x576 with 3 Axes>"
      ]
     },
     "metadata": {
      "needs_background": "light"
     },
     "output_type": "display_data"
    }
   ],
   "source": [
    "fig, axes = plt.subplots(ncols=1, nrows=3, figsize=(12, 8))\n",
    "df_non_numerical = train_df.select_dtypes(exclude=['number'])\n",
    "\n",
    "for col, ax in zip(df_non_numerical.columns, axes.ravel()):\n",
    "    df_non_numerical[col].value_counts().plot(logy=True, title=col, lw=0, marker='.', ax=ax)\n",
    "plt.tight_layout()"
   ]
  },
  {
   "cell_type": "markdown",
   "id": "e2f97291",
   "metadata": {
    "papermill": {
     "duration": 0.084893,
     "end_time": "2022-03-19T14:34:23.193430",
     "exception": false,
     "start_time": "2022-03-19T14:34:23.108537",
     "status": "completed"
    },
    "tags": []
   },
   "source": [
    "<h4>2.4. Conclusion of quality investigation</h4>\n",
    "\n",
    "There are no missing values and the observations counts are near the same."
   ]
  },
  {
   "cell_type": "markdown",
   "id": "0af7e420",
   "metadata": {
    "papermill": {
     "duration": 0.062703,
     "end_time": "2022-03-19T14:34:23.321724",
     "exception": false,
     "start_time": "2022-03-19T14:34:23.259021",
     "status": "completed"
    },
    "tags": []
   },
   "source": [
    "<h3>3. Content Investigation</h3>\n",
    "\n",
    "Now we are going to take a look at the content of the data."
   ]
  },
  {
   "cell_type": "markdown",
   "id": "66ee9def",
   "metadata": {
    "papermill": {
     "duration": 0.06332,
     "end_time": "2022-03-19T14:34:23.447604",
     "exception": false,
     "start_time": "2022-03-19T14:34:23.384284",
     "status": "completed"
    },
    "tags": []
   },
   "source": [
    "<h4>3.1. Feature distribution</h4>"
   ]
  },
  {
   "cell_type": "code",
   "execution_count": 19,
   "id": "c29d1339",
   "metadata": {
    "execution": {
     "iopub.execute_input": "2022-03-19T14:34:23.579948Z",
     "iopub.status.busy": "2022-03-19T14:34:23.579370Z",
     "iopub.status.idle": "2022-03-19T14:34:24.242919Z",
     "shell.execute_reply": "2022-03-19T14:34:24.242411Z",
     "shell.execute_reply.started": "2022-03-19T13:55:44.001777Z"
    },
    "papermill": {
     "duration": 0.730677,
     "end_time": "2022-03-19T14:34:24.243048",
     "exception": false,
     "start_time": "2022-03-19T14:34:23.512371",
     "status": "completed"
    },
    "tags": []
   },
   "outputs": [
    {
     "data": {
      "image/png": "[encoded data removed]",
      "text/plain": [
       "<Figure size 2160x360 with 5 Axes>"
      ]
     },
     "metadata": {
      "needs_background": "light"
     },
     "output_type": "display_data"
    }
   ],
   "source": [
    "train_df.hist(bins=25, figsize=(30, 5), layout=(-1, 5), edgecolor='black')\n",
    "plt.tight_layout()"
   ]
  },
  {
   "cell_type": "markdown",
   "id": "04589915",
   "metadata": {
    "papermill": {
     "duration": 0.064968,
     "end_time": "2022-03-19T14:34:24.372374",
     "exception": false,
     "start_time": "2022-03-19T14:34:24.307406",
     "status": "completed"
    },
    "tags": []
   },
   "source": [
    "Interestingly our response variable looks normal with mean 50."
   ]
  },
  {
   "cell_type": "markdown",
   "id": "ab4c3d60",
   "metadata": {
    "papermill": {
     "duration": 0.065558,
     "end_time": "2022-03-19T14:34:24.504466",
     "exception": false,
     "start_time": "2022-03-19T14:34:24.438908",
     "status": "completed"
    },
    "tags": []
   },
   "source": [
    "<h4>3.2. Feature patterns</df_X[[\"Location_Northing_OSGR\",\n",
    "      \"1st_Road_Number\",\n",
    "      \"Journey_Purpose_of_Driver\",\n",
    "      \"Pedestrian_Crossing-Physical_Facilities\"]].plot(\n",
    "    lw=0, marker=\".\", subplots=True, layout=(-1, 2),\n",
    "  markersize=0.1, figsize=(15, 6));h4>"
   ]
  },
  {
   "cell_type": "code",
   "execution_count": 20,
   "id": "0b89b59b",
   "metadata": {
    "execution": {
     "iopub.execute_input": "2022-03-19T14:34:24.640961Z",
     "iopub.status.busy": "2022-03-19T14:34:24.640433Z",
     "iopub.status.idle": "2022-03-19T14:34:38.717202Z",
     "shell.execute_reply": "2022-03-19T14:34:38.717620Z",
     "shell.execute_reply.started": "2022-03-19T13:55:44.648824Z"
    },
    "papermill": {
     "duration": 14.145847,
     "end_time": "2022-03-19T14:34:38.717765",
     "exception": false,
     "start_time": "2022-03-19T14:34:24.571918",
     "status": "completed"
    },
    "tags": []
   },
   "outputs": [
    {
     "data": {
      "text/plain": [
       "array([[<AxesSubplot:>, <AxesSubplot:>],\n",
       "       [<AxesSubplot:>, <AxesSubplot:>]], dtype=object)"
      ]
     },
     "execution_count": 20,
     "metadata": {},
     "output_type": "execute_result"
    },
    {
     "data": {
      "image/png": "[encoded data removed]",
      "text/plain": [
       "<Figure size 1080x432 with 4 Axes>"
      ]
     },
     "metadata": {
      "needs_background": "light"
     },
     "output_type": "display_data"
    }
   ],
   "source": [
    "train_df.plot(lw=0, marker=\".\", subplots=True, layout=(-1, 2), markersize=0.1, figsize=(15, 6))"
   ]
  },
  {
   "cell_type": "markdown",
   "id": "439159f3",
   "metadata": {
    "papermill": {
     "duration": 0.06719,
     "end_time": "2022-03-19T14:34:38.853445",
     "exception": false,
     "start_time": "2022-03-19T14:34:38.786255",
     "status": "completed"
    },
    "tags": []
   },
   "source": [
    "<h4>3.3. Feature Relationship</h4>"
   ]
  },
  {
   "cell_type": "code",
   "execution_count": 21,
   "id": "e3be88d9",
   "metadata": {
    "execution": {
     "iopub.execute_input": "2022-03-19T14:34:38.993543Z",
     "iopub.status.busy": "2022-03-19T14:34:38.993026Z",
     "iopub.status.idle": "2022-03-19T14:34:39.266999Z",
     "shell.execute_reply": "2022-03-19T14:34:39.266439Z",
     "shell.execute_reply.started": "2022-03-19T14:24:08.196266Z"
    },
    "papermill": {
     "duration": 0.347701,
     "end_time": "2022-03-19T14:34:39.267136",
     "exception": false,
     "start_time": "2022-03-19T14:34:38.919435",
     "status": "completed"
    },
    "tags": []
   },
   "outputs": [
    {
     "data": {
      "text/plain": [
       "<AxesSubplot:>"
      ]
     },
     "execution_count": 21,
     "metadata": {},
     "output_type": "execute_result"
    },
    {
     "data": {
      "image/png": "[encoded data removed]",
      "text/plain": [
       "<Figure size 1080x1080 with 2 Axes>"
      ]
     },
     "metadata": {
      "needs_background": "light"
     },
     "output_type": "display_data"
    }
   ],
   "source": [
    "df_corr = train_df.corr(method=\"pearson\")\n",
    "\n",
    "# Create labels for the correlation matrix\n",
    "labels = np.where(np.abs(df_corr)>0.75, \"S\",\n",
    "                  np.where(np.abs(df_corr)>0.5, \"M\",\n",
    "                           np.where(np.abs(df_corr)>0.25, \"W\", \"\")))\n",
    "\n",
    "# Plot correlation matrix\n",
    "plt.figure(figsize=(15, 15))\n",
    "\n",
    "sns.heatmap(df_corr, mask=np.eye(len(df_corr)),\n",
    "            square=True,\n",
    "            center=0,\n",
    "            annot=labels,\n",
    "            fmt='',\n",
    "            linewidths=0.5,\n",
    "            cmap=\"vlag\",\n",
    "            cbar_kws={\"shrink\": 0.8}\n",
    "           )"
   ]
  },
  {
   "cell_type": "markdown",
   "id": "f530901f",
   "metadata": {
    "papermill": {
     "duration": 0.070232,
     "end_time": "2022-03-19T14:34:39.408287",
     "exception": false,
     "start_time": "2022-03-19T14:34:39.338055",
     "status": "completed"
    },
    "tags": []
   },
   "source": [
    "<h2>Exploratory Data Analysis</h2>\n"
   ]
  },
  {
   "cell_type": "markdown",
   "id": "be53f395",
   "metadata": {
    "papermill": {
     "duration": 0.067484,
     "end_time": "2022-03-19T14:34:39.546233",
     "exception": false,
     "start_time": "2022-03-19T14:34:39.478749",
     "status": "completed"
    },
    "tags": []
   },
   "source": [
    "<h3>Test dataset</h3>\n"
   ]
  },
  {
   "cell_type": "code",
   "execution_count": 22,
   "id": "92efdf61",
   "metadata": {
    "execution": {
     "iopub.execute_input": "2022-03-19T14:34:39.690460Z",
     "iopub.status.busy": "2022-03-19T14:34:39.689897Z",
     "iopub.status.idle": "2022-03-19T14:34:39.710522Z",
     "shell.execute_reply": "2022-03-19T14:34:39.710026Z",
     "shell.execute_reply.started": "2022-03-19T14:29:14.479267Z"
    },
    "papermill": {
     "duration": 0.094318,
     "end_time": "2022-03-19T14:34:39.710648",
     "exception": false,
     "start_time": "2022-03-19T14:34:39.616330",
     "status": "completed"
    },
    "tags": []
   },
   "outputs": [],
   "source": [
    "test_df = pd.read_csv('/kaggle/input/tabular-playground-series-mar-2022/test.csv')"
   ]
  },
  {
   "cell_type": "code",
   "execution_count": 23,
   "id": "a088d364",
   "metadata": {
    "execution": {
     "iopub.execute_input": "2022-03-19T14:34:39.865186Z",
     "iopub.status.busy": "2022-03-19T14:34:39.864620Z",
     "iopub.status.idle": "2022-03-19T14:34:39.869192Z",
     "shell.execute_reply": "2022-03-19T14:34:39.868660Z",
     "shell.execute_reply.started": "2022-03-19T14:29:15.437902Z"
    },
    "papermill": {
     "duration": 0.087019,
     "end_time": "2022-03-19T14:34:39.869317",
     "exception": false,
     "start_time": "2022-03-19T14:34:39.782298",
     "status": "completed"
    },
    "tags": []
   },
   "outputs": [
    {
     "data": {
      "text/html": [
       "<div>\n",
       "<style scoped>\n",
       "    .dataframe tbody tr th:only-of-type {\n",
       "        vertical-align: middle;\n",
       "    }\n",
       "\n",
       "    .dataframe tbody tr th {\n",
       "        vertical-align: top;\n",
       "    }\n",
       "\n",
       "    .dataframe thead th {\n",
       "        text-align: right;\n",
       "    }\n",
       "</style>\n",
       "<table border=\"1\" class=\"dataframe\">\n",
       "  <thead>\n",
       "    <tr style=\"text-align: right;\">\n",
       "      <th></th>\n",
       "      <th>row_id</th>\n",
       "      <th>time</th>\n",
       "      <th>x</th>\n",
       "      <th>y</th>\n",
       "      <th>direction</th>\n",
       "    </tr>\n",
       "  </thead>\n",
       "  <tbody>\n",
       "    <tr>\n",
       "      <th>0</th>\n",
       "      <td>848835</td>\n",
       "      <td>1991-09-30 12:00:00</td>\n",
       "      <td>0</td>\n",
       "      <td>0</td>\n",
       "      <td>EB</td>\n",
       "    </tr>\n",
       "    <tr>\n",
       "      <th>1</th>\n",
       "      <td>848836</td>\n",
       "      <td>1991-09-30 12:00:00</td>\n",
       "      <td>0</td>\n",
       "      <td>0</td>\n",
       "      <td>NB</td>\n",
       "    </tr>\n",
       "    <tr>\n",
       "      <th>2</th>\n",
       "      <td>848837</td>\n",
       "      <td>1991-09-30 12:00:00</td>\n",
       "      <td>0</td>\n",
       "      <td>0</td>\n",
       "      <td>SB</td>\n",
       "    </tr>\n",
       "    <tr>\n",
       "      <th>3</th>\n",
       "      <td>848838</td>\n",
       "      <td>1991-09-30 12:00:00</td>\n",
       "      <td>0</td>\n",
       "      <td>1</td>\n",
       "      <td>EB</td>\n",
       "    </tr>\n",
       "    <tr>\n",
       "      <th>4</th>\n",
       "      <td>848839</td>\n",
       "      <td>1991-09-30 12:00:00</td>\n",
       "      <td>0</td>\n",
       "      <td>1</td>\n",
       "      <td>NB</td>\n",
       "    </tr>\n",
       "  </tbody>\n",
       "</table>\n",
       "</div>"
      ],
      "text/plain": [
       "   row_id                 time  x  y direction\n",
       "0  848835  1991-09-30 12:00:00  0  0        EB\n",
       "1  848836  1991-09-30 12:00:00  0  0        NB\n",
       "2  848837  1991-09-30 12:00:00  0  0        SB\n",
       "3  848838  1991-09-30 12:00:00  0  1        EB\n",
       "4  848839  1991-09-30 12:00:00  0  1        NB"
      ]
     },
     "execution_count": 23,
     "metadata": {},
     "output_type": "execute_result"
    }
   ],
   "source": [
    "test_df.head()"
   ]
  },
  {
   "cell_type": "code",
   "execution_count": 24,
   "id": "165a36b7",
   "metadata": {
    "execution": {
     "iopub.execute_input": "2022-03-19T14:34:40.018183Z",
     "iopub.status.busy": "2022-03-19T14:34:40.010488Z",
     "iopub.status.idle": "2022-03-19T14:34:40.022472Z",
     "shell.execute_reply": "2022-03-19T14:34:40.021981Z",
     "shell.execute_reply.started": "2022-03-19T14:29:15.685394Z"
    },
    "papermill": {
     "duration": 0.08227,
     "end_time": "2022-03-19T14:34:40.022596",
     "exception": false,
     "start_time": "2022-03-19T14:34:39.940326",
     "status": "completed"
    },
    "tags": []
   },
   "outputs": [
    {
     "data": {
      "text/html": [
       "<div>\n",
       "<style scoped>\n",
       "    .dataframe tbody tr th:only-of-type {\n",
       "        vertical-align: middle;\n",
       "    }\n",
       "\n",
       "    .dataframe tbody tr th {\n",
       "        vertical-align: top;\n",
       "    }\n",
       "\n",
       "    .dataframe thead th {\n",
       "        text-align: right;\n",
       "    }\n",
       "</style>\n",
       "<table border=\"1\" class=\"dataframe\">\n",
       "  <thead>\n",
       "    <tr style=\"text-align: right;\">\n",
       "      <th></th>\n",
       "      <th>row_id</th>\n",
       "      <th>time</th>\n",
       "      <th>x</th>\n",
       "      <th>y</th>\n",
       "      <th>direction</th>\n",
       "    </tr>\n",
       "  </thead>\n",
       "  <tbody>\n",
       "    <tr>\n",
       "      <th>2335</th>\n",
       "      <td>851170</td>\n",
       "      <td>1991-09-30 23:40:00</td>\n",
       "      <td>2</td>\n",
       "      <td>3</td>\n",
       "      <td>NB</td>\n",
       "    </tr>\n",
       "    <tr>\n",
       "      <th>2336</th>\n",
       "      <td>851171</td>\n",
       "      <td>1991-09-30 23:40:00</td>\n",
       "      <td>2</td>\n",
       "      <td>3</td>\n",
       "      <td>NE</td>\n",
       "    </tr>\n",
       "    <tr>\n",
       "      <th>2337</th>\n",
       "      <td>851172</td>\n",
       "      <td>1991-09-30 23:40:00</td>\n",
       "      <td>2</td>\n",
       "      <td>3</td>\n",
       "      <td>SB</td>\n",
       "    </tr>\n",
       "    <tr>\n",
       "      <th>2338</th>\n",
       "      <td>851173</td>\n",
       "      <td>1991-09-30 23:40:00</td>\n",
       "      <td>2</td>\n",
       "      <td>3</td>\n",
       "      <td>SW</td>\n",
       "    </tr>\n",
       "    <tr>\n",
       "      <th>2339</th>\n",
       "      <td>851174</td>\n",
       "      <td>1991-09-30 23:40:00</td>\n",
       "      <td>2</td>\n",
       "      <td>3</td>\n",
       "      <td>WB</td>\n",
       "    </tr>\n",
       "  </tbody>\n",
       "</table>\n",
       "</div>"
      ],
      "text/plain": [
       "      row_id                 time  x  y direction\n",
       "2335  851170  1991-09-30 23:40:00  2  3        NB\n",
       "2336  851171  1991-09-30 23:40:00  2  3        NE\n",
       "2337  851172  1991-09-30 23:40:00  2  3        SB\n",
       "2338  851173  1991-09-30 23:40:00  2  3        SW\n",
       "2339  851174  1991-09-30 23:40:00  2  3        WB"
      ]
     },
     "execution_count": 24,
     "metadata": {},
     "output_type": "execute_result"
    }
   ],
   "source": [
    "test_df.tail()"
   ]
  },
  {
   "cell_type": "code",
   "execution_count": 25,
   "id": "35f9753b",
   "metadata": {
    "execution": {
     "iopub.execute_input": "2022-03-19T14:34:40.167696Z",
     "iopub.status.busy": "2022-03-19T14:34:40.167173Z",
     "iopub.status.idle": "2022-03-19T14:34:40.171197Z",
     "shell.execute_reply": "2022-03-19T14:34:40.170650Z",
     "shell.execute_reply.started": "2022-03-19T14:29:15.906993Z"
    },
    "papermill": {
     "duration": 0.079308,
     "end_time": "2022-03-19T14:34:40.171323",
     "exception": false,
     "start_time": "2022-03-19T14:34:40.092015",
     "status": "completed"
    },
    "tags": []
   },
   "outputs": [],
   "source": [
    "test_df.drop('row_id', axis=1, inplace=True)"
   ]
  },
  {
   "cell_type": "markdown",
   "id": "14bc983f",
   "metadata": {
    "papermill": {
     "duration": 0.069668,
     "end_time": "2022-03-19T14:34:40.313187",
     "exception": false,
     "start_time": "2022-03-19T14:34:40.243519",
     "status": "completed"
    },
    "tags": []
   },
   "source": [
    "<h3>1. Structure Investigation</h3>\n",
    "\n",
    "Prior to check the content of the data in the dataframe just loaded, let’s first verify the general structure of the dataset.\n"
   ]
  },
  {
   "cell_type": "code",
   "execution_count": 26,
   "id": "799169bf",
   "metadata": {
    "execution": {
     "iopub.execute_input": "2022-03-19T14:34:40.457570Z",
     "iopub.status.busy": "2022-03-19T14:34:40.457036Z",
     "iopub.status.idle": "2022-03-19T14:34:40.461363Z",
     "shell.execute_reply": "2022-03-19T14:34:40.461727Z",
     "shell.execute_reply.started": "2022-03-19T14:29:16.308253Z"
    },
    "papermill": {
     "duration": 0.078403,
     "end_time": "2022-03-19T14:34:40.461892",
     "exception": false,
     "start_time": "2022-03-19T14:34:40.383489",
     "status": "completed"
    },
    "tags": []
   },
   "outputs": [
    {
     "data": {
      "text/plain": [
       "(2340, 4)"
      ]
     },
     "execution_count": 26,
     "metadata": {},
     "output_type": "execute_result"
    }
   ],
   "source": [
    "# Dataset shape \n",
    "test_df.shape"
   ]
  },
  {
   "cell_type": "code",
   "execution_count": 27,
   "id": "a6d59727",
   "metadata": {
    "execution": {
     "iopub.execute_input": "2022-03-19T14:34:40.609642Z",
     "iopub.status.busy": "2022-03-19T14:34:40.609113Z",
     "iopub.status.idle": "2022-03-19T14:34:40.613277Z",
     "shell.execute_reply": "2022-03-19T14:34:40.612756Z",
     "shell.execute_reply.started": "2022-03-19T14:29:16.513361Z"
    },
    "papermill": {
     "duration": 0.082398,
     "end_time": "2022-03-19T14:34:40.613401",
     "exception": false,
     "start_time": "2022-03-19T14:34:40.531003",
     "status": "completed"
    },
    "tags": []
   },
   "outputs": [
    {
     "data": {
      "text/plain": [
       "object    2\n",
       "int64     2\n",
       "dtype: int64"
      ]
     },
     "execution_count": 27,
     "metadata": {},
     "output_type": "execute_result"
    }
   ],
   "source": [
    "pd.value_counts(test_df.dtypes)"
   ]
  },
  {
   "cell_type": "markdown",
   "id": "1f6a43a4",
   "metadata": {
    "papermill": {
     "duration": 0.07195,
     "end_time": "2022-03-19T14:34:40.757918",
     "exception": false,
     "start_time": "2022-03-19T14:34:40.685968",
     "status": "completed"
    },
    "tags": []
   },
   "source": [
    "<h4>1.1. Structure of non-numerical features</h4>"
   ]
  },
  {
   "cell_type": "code",
   "execution_count": 28,
   "id": "8c8e343d",
   "metadata": {
    "execution": {
     "iopub.execute_input": "2022-03-19T14:34:40.908461Z",
     "iopub.status.busy": "2022-03-19T14:34:40.902739Z",
     "iopub.status.idle": "2022-03-19T14:34:40.912093Z",
     "shell.execute_reply": "2022-03-19T14:34:40.911651Z",
     "shell.execute_reply.started": "2022-03-19T14:29:16.922796Z"
    },
    "papermill": {
     "duration": 0.084452,
     "end_time": "2022-03-19T14:34:40.912207",
     "exception": false,
     "start_time": "2022-03-19T14:34:40.827755",
     "status": "completed"
    },
    "tags": []
   },
   "outputs": [
    {
     "data": {
      "text/html": [
       "<div>\n",
       "<style scoped>\n",
       "    .dataframe tbody tr th:only-of-type {\n",
       "        vertical-align: middle;\n",
       "    }\n",
       "\n",
       "    .dataframe tbody tr th {\n",
       "        vertical-align: top;\n",
       "    }\n",
       "\n",
       "    .dataframe thead th {\n",
       "        text-align: right;\n",
       "    }\n",
       "</style>\n",
       "<table border=\"1\" class=\"dataframe\">\n",
       "  <thead>\n",
       "    <tr style=\"text-align: right;\">\n",
       "      <th></th>\n",
       "      <th>time</th>\n",
       "      <th>direction</th>\n",
       "    </tr>\n",
       "  </thead>\n",
       "  <tbody>\n",
       "    <tr>\n",
       "      <th>count</th>\n",
       "      <td>2340</td>\n",
       "      <td>2340</td>\n",
       "    </tr>\n",
       "    <tr>\n",
       "      <th>unique</th>\n",
       "      <td>36</td>\n",
       "      <td>8</td>\n",
       "    </tr>\n",
       "    <tr>\n",
       "      <th>top</th>\n",
       "      <td>1991-09-30 12:00:00</td>\n",
       "      <td>EB</td>\n",
       "    </tr>\n",
       "    <tr>\n",
       "      <th>freq</th>\n",
       "      <td>65</td>\n",
       "      <td>432</td>\n",
       "    </tr>\n",
       "  </tbody>\n",
       "</table>\n",
       "</div>"
      ],
      "text/plain": [
       "                       time direction\n",
       "count                  2340      2340\n",
       "unique                   36         8\n",
       "top     1991-09-30 12:00:00        EB\n",
       "freq                     65       432"
      ]
     },
     "execution_count": 28,
     "metadata": {},
     "output_type": "execute_result"
    }
   ],
   "source": [
    "test_df.describe(exclude='number')"
   ]
  },
  {
   "cell_type": "markdown",
   "id": "4e4bf604",
   "metadata": {
    "papermill": {
     "duration": 0.070007,
     "end_time": "2022-03-19T14:34:41.052290",
     "exception": false,
     "start_time": "2022-03-19T14:34:40.982283",
     "status": "completed"
    },
    "tags": []
   },
   "source": [
    "<h4>1.2. Structure of numerical features</h4>"
   ]
  },
  {
   "cell_type": "code",
   "execution_count": 29,
   "id": "7a5408fe",
   "metadata": {
    "execution": {
     "iopub.execute_input": "2022-03-19T14:34:41.241873Z",
     "iopub.status.busy": "2022-03-19T14:34:41.221440Z",
     "iopub.status.idle": "2022-03-19T14:34:41.476637Z",
     "shell.execute_reply": "2022-03-19T14:34:41.476168Z",
     "shell.execute_reply.started": "2022-03-19T14:29:17.938193Z"
    },
    "papermill": {
     "duration": 0.349583,
     "end_time": "2022-03-19T14:34:41.476759",
     "exception": false,
     "start_time": "2022-03-19T14:34:41.127176",
     "status": "completed"
    },
    "tags": []
   },
   "outputs": [
    {
     "data": {
      "text/plain": [
       "<AxesSubplot:title={'center':'Unique Values per feature'}>"
      ]
     },
     "execution_count": 29,
     "metadata": {},
     "output_type": "execute_result"
    },
    {
     "data": {
      "image/png": "[encoded data removed]",
      "text/plain": [
       "<Figure size 864x504 with 1 Axes>"
      ]
     },
     "metadata": {
      "needs_background": "light"
     },
     "output_type": "display_data"
    }
   ],
   "source": [
    "unique_values = test_df.select_dtypes(include='number').nunique().sort_values()\n",
    "\n",
    "unique_values.plot.bar(logy=True, figsize=(12, 7), title='Unique Values per feature')"
   ]
  },
  {
   "cell_type": "code",
   "execution_count": 30,
   "id": "b01de859",
   "metadata": {
    "execution": {
     "iopub.execute_input": "2022-03-19T14:34:41.632763Z",
     "iopub.status.busy": "2022-03-19T14:34:41.632131Z",
     "iopub.status.idle": "2022-03-19T14:34:41.635203Z",
     "shell.execute_reply": "2022-03-19T14:34:41.634667Z",
     "shell.execute_reply.started": "2022-03-19T14:29:18.689263Z"
    },
    "papermill": {
     "duration": 0.086071,
     "end_time": "2022-03-19T14:34:41.635345",
     "exception": false,
     "start_time": "2022-03-19T14:34:41.549274",
     "status": "completed"
    },
    "tags": []
   },
   "outputs": [
    {
     "name": "stdout",
     "output_type": "stream",
     "text": [
      "<class 'pandas.core.frame.DataFrame'>\n",
      "RangeIndex: 2340 entries, 0 to 2339\n",
      "Data columns (total 4 columns):\n",
      " #   Column     Non-Null Count  Dtype \n",
      "---  ------     --------------  ----- \n",
      " 0   time       2340 non-null   object\n",
      " 1   x          2340 non-null   int64 \n",
      " 2   y          2340 non-null   int64 \n",
      " 3   direction  2340 non-null   object\n",
      "dtypes: int64(2), object(2)\n",
      "memory usage: 73.2+ KB\n"
     ]
    }
   ],
   "source": [
    "test_df.info()"
   ]
  },
  {
   "cell_type": "code",
   "execution_count": 31,
   "id": "c337e055",
   "metadata": {
    "execution": {
     "iopub.execute_input": "2022-03-19T14:34:41.810061Z",
     "iopub.status.busy": "2022-03-19T14:34:41.809255Z",
     "iopub.status.idle": "2022-03-19T14:34:41.833386Z",
     "shell.execute_reply": "2022-03-19T14:34:41.831428Z",
     "shell.execute_reply.started": "2022-03-19T14:30:14.951380Z"
    },
    "papermill": {
     "duration": 0.123521,
     "end_time": "2022-03-19T14:34:41.833632",
     "exception": false,
     "start_time": "2022-03-19T14:34:41.710111",
     "status": "completed"
    },
    "tags": []
   },
   "outputs": [
    {
     "data": {
      "text/html": [
       "<div>\n",
       "<style scoped>\n",
       "    .dataframe tbody tr th:only-of-type {\n",
       "        vertical-align: middle;\n",
       "    }\n",
       "\n",
       "    .dataframe tbody tr th {\n",
       "        vertical-align: top;\n",
       "    }\n",
       "\n",
       "    .dataframe thead th {\n",
       "        text-align: right;\n",
       "    }\n",
       "</style>\n",
       "<table border=\"1\" class=\"dataframe\">\n",
       "  <thead>\n",
       "    <tr style=\"text-align: right;\">\n",
       "      <th></th>\n",
       "      <th>count</th>\n",
       "      <th>mean</th>\n",
       "      <th>std</th>\n",
       "      <th>min</th>\n",
       "      <th>25%</th>\n",
       "      <th>50%</th>\n",
       "      <th>75%</th>\n",
       "      <th>max</th>\n",
       "    </tr>\n",
       "  </thead>\n",
       "  <tbody>\n",
       "    <tr>\n",
       "      <th>x</th>\n",
       "      <td>2340.0</td>\n",
       "      <td>1.138462</td>\n",
       "      <td>0.801649</td>\n",
       "      <td>0.0</td>\n",
       "      <td>0.0</td>\n",
       "      <td>1.0</td>\n",
       "      <td>2.0</td>\n",
       "      <td>2.0</td>\n",
       "    </tr>\n",
       "    <tr>\n",
       "      <th>y</th>\n",
       "      <td>2340.0</td>\n",
       "      <td>1.630769</td>\n",
       "      <td>1.089611</td>\n",
       "      <td>0.0</td>\n",
       "      <td>1.0</td>\n",
       "      <td>2.0</td>\n",
       "      <td>3.0</td>\n",
       "      <td>3.0</td>\n",
       "    </tr>\n",
       "  </tbody>\n",
       "</table>\n",
       "</div>"
      ],
      "text/plain": [
       "    count      mean       std  min  25%  50%  75%  max\n",
       "x  2340.0  1.138462  0.801649  0.0  0.0  1.0  2.0  2.0\n",
       "y  2340.0  1.630769  1.089611  0.0  1.0  2.0  3.0  3.0"
      ]
     },
     "execution_count": 31,
     "metadata": {},
     "output_type": "execute_result"
    }
   ],
   "source": [
    "test_df.describe().T"
   ]
  },
  {
   "cell_type": "markdown",
   "id": "90ed5d89",
   "metadata": {
    "papermill": {
     "duration": 0.107221,
     "end_time": "2022-03-19T14:34:42.050651",
     "exception": false,
     "start_time": "2022-03-19T14:34:41.943430",
     "status": "completed"
    },
    "tags": []
   },
   "source": [
    "<h4>1.3. Conclusion of structure investigation</h4>\n",
    "\n",
    "The test dataset being explored have very few features (4 only) to deal with and very few samples 2340 only without any missing value. There are 2 features of type int64 and 2 of type object. One of these features (<b>time</b>) is a time feature, which have about 13059 unique values, meanwhile the other object feature (direction) have only 8 unique values.\n",
    "\n",
    "The numerical features x and y have less than 10^1 unique values. On the other hand, the congestion feature (our target) has about 10^2 unique values."
   ]
  },
  {
   "cell_type": "markdown",
   "id": "4daa46de",
   "metadata": {
    "papermill": {
     "duration": 0.112617,
     "end_time": "2022-03-19T14:34:42.274519",
     "exception": false,
     "start_time": "2022-03-19T14:34:42.161902",
     "status": "completed"
    },
    "tags": []
   },
   "source": [
    "<h3>2. Quality Investigation</h3>\n",
    "\n",
    "Before proceed cehcking the content these features have, we are going to initially take a look at the general quality of the dataset."
   ]
  },
  {
   "cell_type": "markdown",
   "id": "7b7ca3d4",
   "metadata": {
    "papermill": {
     "duration": 0.107032,
     "end_time": "2022-03-19T14:34:42.491583",
     "exception": false,
     "start_time": "2022-03-19T14:34:42.384551",
     "status": "completed"
    },
    "tags": []
   },
   "source": [
    "<h4>2.1. Duplicates</h4>"
   ]
  },
  {
   "cell_type": "code",
   "execution_count": 32,
   "id": "25c2e301",
   "metadata": {
    "execution": {
     "iopub.execute_input": "2022-03-19T14:34:42.729926Z",
     "iopub.status.busy": "2022-03-19T14:34:42.729026Z",
     "iopub.status.idle": "2022-03-19T14:34:42.734823Z",
     "shell.execute_reply": "2022-03-19T14:34:42.734087Z",
     "shell.execute_reply.started": "2022-03-19T14:31:51.228087Z"
    },
    "papermill": {
     "duration": 0.127355,
     "end_time": "2022-03-19T14:34:42.734986",
     "exception": false,
     "start_time": "2022-03-19T14:34:42.607631",
     "status": "completed"
    },
    "tags": []
   },
   "outputs": [
    {
     "name": "stdout",
     "output_type": "stream",
     "text": [
      "There are 0 duplicates samples.\n"
     ]
    }
   ],
   "source": [
    "n_duplicates = test_df.duplicated().sum()\n",
    "print(f\"There are {n_duplicates} duplicates samples.\")"
   ]
  },
  {
   "cell_type": "markdown",
   "id": "866ec93c",
   "metadata": {
    "papermill": {
     "duration": 0.108317,
     "end_time": "2022-03-19T14:34:42.958658",
     "exception": false,
     "start_time": "2022-03-19T14:34:42.850341",
     "status": "completed"
    },
    "tags": []
   },
   "source": [
    "<h4>2.2. Missing values</h4>"
   ]
  },
  {
   "cell_type": "markdown",
   "id": "b3285fd5",
   "metadata": {
    "papermill": {
     "duration": 0.108147,
     "end_time": "2022-03-19T14:34:43.175968",
     "exception": false,
     "start_time": "2022-03-19T14:34:43.067821",
     "status": "completed"
    },
    "tags": []
   },
   "source": [
    "<h5>2.2.1. Per sample</h5>"
   ]
  },
  {
   "cell_type": "code",
   "execution_count": 33,
   "id": "eb550a61",
   "metadata": {
    "execution": {
     "iopub.execute_input": "2022-03-19T14:34:43.409334Z",
     "iopub.status.busy": "2022-03-19T14:34:43.408645Z",
     "iopub.status.idle": "2022-03-19T14:34:43.593260Z",
     "shell.execute_reply": "2022-03-19T14:34:43.593746Z",
     "shell.execute_reply.started": "2022-03-19T14:31:56.812121Z"
    },
    "papermill": {
     "duration": 0.307414,
     "end_time": "2022-03-19T14:34:43.593923",
     "exception": false,
     "start_time": "2022-03-19T14:34:43.286509",
     "status": "completed"
    },
    "tags": []
   },
   "outputs": [
    {
     "data": {
      "image/png": "[encoded data removed]",
      "text/plain": [
       "<Figure size 720x576 with 1 Axes>"
      ]
     },
     "metadata": {
      "needs_background": "light"
     },
     "output_type": "display_data"
    }
   ],
   "source": [
    "plt.figure(figsize=(10, 8))\n",
    "plt.imshow(test_df.isna(), aspect=\"auto\", interpolation=\"nearest\", cmap=\"gray\")\n",
    "plt.xlabel(\"Column Number\")\n",
    "plt.ylabel(\"Sample Number\");"
   ]
  },
  {
   "cell_type": "code",
   "execution_count": 34,
   "id": "6ba343ea",
   "metadata": {
    "execution": {
     "iopub.execute_input": "2022-03-19T14:34:43.813239Z",
     "iopub.status.busy": "2022-03-19T14:34:43.811442Z",
     "iopub.status.idle": "2022-03-19T14:34:44.171535Z",
     "shell.execute_reply": "2022-03-19T14:34:44.171922Z",
     "shell.execute_reply.started": "2022-03-19T14:31:59.849665Z"
    },
    "papermill": {
     "duration": 0.471193,
     "end_time": "2022-03-19T14:34:44.172070",
     "exception": false,
     "start_time": "2022-03-19T14:34:43.700877",
     "status": "completed"
    },
    "tags": []
   },
   "outputs": [
    {
     "data": {
      "image/png": "[encoded data removed]",
      "text/plain": [
       "<Figure size 1800x720 with 2 Axes>"
      ]
     },
     "metadata": {
      "needs_background": "light"
     },
     "output_type": "display_data"
    }
   ],
   "source": [
    "msno.matrix(test_df, labels=True, sort=\"descending\");"
   ]
  },
  {
   "cell_type": "markdown",
   "id": "64bdfa02",
   "metadata": {
    "papermill": {
     "duration": 0.072681,
     "end_time": "2022-03-19T14:34:44.318411",
     "exception": false,
     "start_time": "2022-03-19T14:34:44.245730",
     "status": "completed"
    },
    "tags": []
   },
   "source": [
    "<h5>2.2.2. Per Feature</h5>"
   ]
  },
  {
   "cell_type": "code",
   "execution_count": 35,
   "id": "33e8ebb8",
   "metadata": {
    "execution": {
     "iopub.execute_input": "2022-03-19T14:34:44.470551Z",
     "iopub.status.busy": "2022-03-19T14:34:44.470005Z",
     "iopub.status.idle": "2022-03-19T14:34:44.624074Z",
     "shell.execute_reply": "2022-03-19T14:34:44.623630Z",
     "shell.execute_reply.started": "2022-03-19T14:32:04.703763Z"
    },
    "papermill": {
     "duration": 0.230997,
     "end_time": "2022-03-19T14:34:44.624190",
     "exception": false,
     "start_time": "2022-03-19T14:34:44.393193",
     "status": "completed"
    },
    "tags": []
   },
   "outputs": [
    {
     "data": {
      "text/plain": [
       "<AxesSubplot:title={'center':'Percentage of missing values per feature'}, ylabel='Ratio of missing values per feature'>"
      ]
     },
     "execution_count": 35,
     "metadata": {},
     "output_type": "execute_result"
    },
    {
     "data": {
      "image/png": "[encoded data removed]",
      "text/plain": [
       "<Figure size 864x360 with 1 Axes>"
      ]
     },
     "metadata": {
      "needs_background": "light"
     },
     "output_type": "display_data"
    }
   ],
   "source": [
    "test_df.isna().mean().sort_values().plot(\n",
    "    kind='bar', figsize=(12, 5),\n",
    "    title=\"Percentage of missing values per feature\",\n",
    "    ylabel=\"Ratio of missing values per feature\")"
   ]
  },
  {
   "cell_type": "markdown",
   "id": "95ee4980",
   "metadata": {
    "papermill": {
     "duration": 0.075968,
     "end_time": "2022-03-19T14:34:44.774138",
     "exception": false,
     "start_time": "2022-03-19T14:34:44.698170",
     "status": "completed"
    },
    "tags": []
   },
   "source": [
    "<h4>2.3. Unwanted entries and recording errors</h4>"
   ]
  },
  {
   "cell_type": "markdown",
   "id": "6641913e",
   "metadata": {
    "papermill": {
     "duration": 0.073158,
     "end_time": "2022-03-19T14:34:44.922679",
     "exception": false,
     "start_time": "2022-03-19T14:34:44.849521",
     "status": "completed"
    },
    "tags": []
   },
   "source": [
    "<h5>2.3.1. Numerical features</h5>"
   ]
  },
  {
   "cell_type": "code",
   "execution_count": 36,
   "id": "332b5ff3",
   "metadata": {
    "execution": {
     "iopub.execute_input": "2022-03-19T14:34:45.077063Z",
     "iopub.status.busy": "2022-03-19T14:34:45.076349Z",
     "iopub.status.idle": "2022-03-19T14:34:45.699203Z",
     "shell.execute_reply": "2022-03-19T14:34:45.699553Z",
     "shell.execute_reply.started": "2022-03-19T14:32:12.763888Z"
    },
    "papermill": {
     "duration": 0.703633,
     "end_time": "2022-03-19T14:34:45.699694",
     "exception": false,
     "start_time": "2022-03-19T14:34:44.996061",
     "status": "completed"
    },
    "tags": []
   },
   "outputs": [
    {
     "data": {
      "text/plain": [
       "array([[<AxesSubplot:>, <AxesSubplot:>, <AxesSubplot:>, <AxesSubplot:>]],\n",
       "      dtype=object)"
      ]
     },
     "execution_count": 36,
     "metadata": {},
     "output_type": "execute_result"
    },
    {
     "data": {
      "image/png": "[encoded data removed]",
      "text/plain": [
       "<Figure size 1080x360 with 4 Axes>"
      ]
     },
     "metadata": {
      "needs_background": "light"
     },
     "output_type": "display_data"
    }
   ],
   "source": [
    "test_df.plot(marker='.', subplots=True, layout=(-1, 4), figsize=(15, 5), markersize=1)"
   ]
  },
  {
   "cell_type": "markdown",
   "id": "9926b4e7",
   "metadata": {
    "papermill": {
     "duration": 0.076989,
     "end_time": "2022-03-19T14:34:45.856834",
     "exception": false,
     "start_time": "2022-03-19T14:34:45.779845",
     "status": "completed"
    },
    "tags": []
   },
   "source": [
    "<h5>2.3.2. Non-numerical features</h5>"
   ]
  },
  {
   "cell_type": "code",
   "execution_count": 37,
   "id": "f36ffb77",
   "metadata": {
    "execution": {
     "iopub.execute_input": "2022-03-19T14:34:46.030654Z",
     "iopub.status.busy": "2022-03-19T14:34:46.030035Z",
     "iopub.status.idle": "2022-03-19T14:34:46.035957Z",
     "shell.execute_reply": "2022-03-19T14:34:46.035432Z",
     "shell.execute_reply.started": "2022-03-19T14:32:23.546459Z"
    },
    "papermill": {
     "duration": 0.100344,
     "end_time": "2022-03-19T14:34:46.036084",
     "exception": false,
     "start_time": "2022-03-19T14:34:45.935740",
     "status": "completed"
    },
    "tags": []
   },
   "outputs": [
    {
     "data": {
      "text/html": [
       "<div>\n",
       "<style scoped>\n",
       "    .dataframe tbody tr th:only-of-type {\n",
       "        vertical-align: middle;\n",
       "    }\n",
       "\n",
       "    .dataframe tbody tr th {\n",
       "        vertical-align: top;\n",
       "    }\n",
       "\n",
       "    .dataframe thead th {\n",
       "        text-align: right;\n",
       "    }\n",
       "</style>\n",
       "<table border=\"1\" class=\"dataframe\">\n",
       "  <thead>\n",
       "    <tr style=\"text-align: right;\">\n",
       "      <th></th>\n",
       "      <th>count</th>\n",
       "      <th>unique</th>\n",
       "      <th>top</th>\n",
       "      <th>freq</th>\n",
       "    </tr>\n",
       "  </thead>\n",
       "  <tbody>\n",
       "    <tr>\n",
       "      <th>time</th>\n",
       "      <td>2340</td>\n",
       "      <td>36</td>\n",
       "      <td>1991-09-30 12:00:00</td>\n",
       "      <td>65</td>\n",
       "    </tr>\n",
       "    <tr>\n",
       "      <th>direction</th>\n",
       "      <td>2340</td>\n",
       "      <td>8</td>\n",
       "      <td>EB</td>\n",
       "      <td>432</td>\n",
       "    </tr>\n",
       "  </tbody>\n",
       "</table>\n",
       "</div>"
      ],
      "text/plain": [
       "          count unique                  top freq\n",
       "time       2340     36  1991-09-30 12:00:00   65\n",
       "direction  2340      8                   EB  432"
      ]
     },
     "execution_count": 37,
     "metadata": {},
     "output_type": "execute_result"
    }
   ],
   "source": [
    "test_df.describe(exclude=['number']).T"
   ]
  },
  {
   "cell_type": "code",
   "execution_count": 38,
   "id": "c81be9e2",
   "metadata": {
    "execution": {
     "iopub.execute_input": "2022-03-19T14:34:46.198218Z",
     "iopub.status.busy": "2022-03-19T14:34:46.197532Z",
     "iopub.status.idle": "2022-03-19T14:34:47.161562Z",
     "shell.execute_reply": "2022-03-19T14:34:47.161064Z",
     "shell.execute_reply.started": "2022-03-19T14:32:37.649810Z"
    },
    "papermill": {
     "duration": 1.046216,
     "end_time": "2022-03-19T14:34:47.161689",
     "exception": false,
     "start_time": "2022-03-19T14:34:46.115473",
     "status": "completed"
    },
    "tags": []
   },
   "outputs": [
    {
     "data": {
      "image/png": "[encoded data removed]",
      "text/plain": [
       "<Figure size 864x576 with 3 Axes>"
      ]
     },
     "metadata": {
      "needs_background": "light"
     },
     "output_type": "display_data"
    }
   ],
   "source": [
    "fig, axes = plt.subplots(ncols=1, nrows=3, figsize=(12, 8))\n",
    "df_non_numerical = test_df.select_dtypes(exclude=['number'])\n",
    "\n",
    "for col, ax in zip(df_non_numerical.columns, axes.ravel()):\n",
    "    df_non_numerical[col].value_counts().plot(logy=True, title=col, lw=0, marker='.', ax=ax)\n",
    "plt.tight_layout()"
   ]
  },
  {
   "cell_type": "markdown",
   "id": "4300c417",
   "metadata": {
    "papermill": {
     "duration": 0.082834,
     "end_time": "2022-03-19T14:34:47.328499",
     "exception": false,
     "start_time": "2022-03-19T14:34:47.245665",
     "status": "completed"
    },
    "tags": []
   },
   "source": [
    "<h4>2.4. Conclusion of quality investigation</h4>\n",
    "\n",
    "There are no missing values and the observations counts are near the same."
   ]
  },
  {
   "cell_type": "markdown",
   "id": "c4034260",
   "metadata": {
    "papermill": {
     "duration": 0.079547,
     "end_time": "2022-03-19T14:34:47.487911",
     "exception": false,
     "start_time": "2022-03-19T14:34:47.408364",
     "status": "completed"
    },
    "tags": []
   },
   "source": [
    "<h3>3. Content Investigation</h3>\n",
    "\n",
    "Now we are going to take a look at the content of the data."
   ]
  },
  {
   "cell_type": "markdown",
   "id": "739b4b04",
   "metadata": {
    "papermill": {
     "duration": 0.079384,
     "end_time": "2022-03-19T14:34:47.646312",
     "exception": false,
     "start_time": "2022-03-19T14:34:47.566928",
     "status": "completed"
    },
    "tags": []
   },
   "source": [
    "<h4>3.1. Feature distribution</h4>"
   ]
  },
  {
   "cell_type": "code",
   "execution_count": 39,
   "id": "b25b26f8",
   "metadata": {
    "execution": {
     "iopub.execute_input": "2022-03-19T14:34:47.829908Z",
     "iopub.status.busy": "2022-03-19T14:34:47.827524Z",
     "iopub.status.idle": "2022-03-19T14:34:48.453196Z",
     "shell.execute_reply": "2022-03-19T14:34:48.452716Z",
     "shell.execute_reply.started": "2022-03-19T14:32:51.628807Z"
    },
    "papermill": {
     "duration": 0.72729,
     "end_time": "2022-03-19T14:34:48.453313",
     "exception": false,
     "start_time": "2022-03-19T14:34:47.726023",
     "status": "completed"
    },
    "tags": []
   },
   "outputs": [
    {
     "data": {
      "image/png": "[encoded data removed]",
      "text/plain": [
       "<Figure size 2160x360 with 5 Axes>"
      ]
     },
     "metadata": {
      "needs_background": "light"
     },
     "output_type": "display_data"
    }
   ],
   "source": [
    "test_df.hist(bins=25, figsize=(30, 5), layout=(-1, 5), edgecolor='black')\n",
    "plt.tight_layout()"
   ]
  },
  {
   "cell_type": "markdown",
   "id": "8c862048",
   "metadata": {
    "papermill": {
     "duration": 0.079854,
     "end_time": "2022-03-19T14:34:48.614171",
     "exception": false,
     "start_time": "2022-03-19T14:34:48.534317",
     "status": "completed"
    },
    "tags": []
   },
   "source": [
    "It is very similar to the train dataset"
   ]
  },
  {
   "cell_type": "markdown",
   "id": "88c413dd",
   "metadata": {
    "papermill": {
     "duration": 0.07793,
     "end_time": "2022-03-19T14:34:48.771944",
     "exception": false,
     "start_time": "2022-03-19T14:34:48.694014",
     "status": "completed"
    },
    "tags": []
   },
   "source": [
    "<h4>3.2. Feature patterns</df_X[[\"Location_Northing_OSGR\",\n",
    "      \"1st_Road_Number\",\n",
    "      \"Journey_Purpose_of_Driver\",\n",
    "      \"Pedestrian_Crossing-Physical_Facilities\"]].plot(\n",
    "    lw=0, marker=\".\", subplots=True, layout=(-1, 2),\n",
    "  markersize=0.1, figsize=(15, 6));h4>"
   ]
  },
  {
   "cell_type": "code",
   "execution_count": 40,
   "id": "41089ee1",
   "metadata": {
    "execution": {
     "iopub.execute_input": "2022-03-19T14:34:48.941275Z",
     "iopub.status.busy": "2022-03-19T14:34:48.940722Z",
     "iopub.status.idle": "2022-03-19T14:34:49.344002Z",
     "shell.execute_reply": "2022-03-19T14:34:49.344381Z",
     "shell.execute_reply.started": "2022-03-19T14:33:09.351809Z"
    },
    "papermill": {
     "duration": 0.490729,
     "end_time": "2022-03-19T14:34:49.344570",
     "exception": false,
     "start_time": "2022-03-19T14:34:48.853841",
     "status": "completed"
    },
    "tags": []
   },
   "outputs": [
    {
     "data": {
      "text/plain": [
       "array([[<AxesSubplot:>, <AxesSubplot:>]], dtype=object)"
      ]
     },
     "execution_count": 40,
     "metadata": {},
     "output_type": "execute_result"
    },
    {
     "data": {
      "image/png": "[encoded data removed]",
      "text/plain": [
       "<Figure size 1080x432 with 2 Axes>"
      ]
     },
     "metadata": {
      "needs_background": "light"
     },
     "output_type": "display_data"
    }
   ],
   "source": [
    "test_df.plot(lw=0, marker=\".\", subplots=True, layout=(-1, 2), markersize=0.1, figsize=(15, 6))"
   ]
  },
  {
   "cell_type": "markdown",
   "id": "e6a2cd09",
   "metadata": {
    "papermill": {
     "duration": 0.077675,
     "end_time": "2022-03-19T14:34:49.500228",
     "exception": false,
     "start_time": "2022-03-19T14:34:49.422553",
     "status": "completed"
    },
    "tags": []
   },
   "source": [
    "<h4>3.3. Feature Relationship</h4>"
   ]
  },
  {
   "cell_type": "code",
   "execution_count": 41,
   "id": "c74afb96",
   "metadata": {
    "execution": {
     "iopub.execute_input": "2022-03-19T14:34:49.661659Z",
     "iopub.status.busy": "2022-03-19T14:34:49.661140Z",
     "iopub.status.idle": "2022-03-19T14:34:49.905100Z",
     "shell.execute_reply": "2022-03-19T14:34:49.905536Z",
     "shell.execute_reply.started": "2022-03-19T14:33:18.115383Z"
    },
    "papermill": {
     "duration": 0.326469,
     "end_time": "2022-03-19T14:34:49.905672",
     "exception": false,
     "start_time": "2022-03-19T14:34:49.579203",
     "status": "completed"
    },
    "tags": []
   },
   "outputs": [
    {
     "data": {
      "text/plain": [
       "<AxesSubplot:>"
      ]
     },
     "execution_count": 41,
     "metadata": {},
     "output_type": "execute_result"
    },
    {
     "data": {
      "image/png": "[encoded data removed]",
      "text/plain": [
       "<Figure size 1080x1080 with 2 Axes>"
      ]
     },
     "metadata": {
      "needs_background": "light"
     },
     "output_type": "display_data"
    }
   ],
   "source": [
    "df_corr = test_df.corr(method=\"pearson\")\n",
    "\n",
    "# Create labels for the correlation matrix\n",
    "labels = np.where(np.abs(df_corr)>0.75, \"S\",\n",
    "                  np.where(np.abs(df_corr)>0.5, \"M\",\n",
    "                           np.where(np.abs(df_corr)>0.25, \"W\", \"\")))\n",
    "\n",
    "# Plot correlation matrix\n",
    "plt.figure(figsize=(15, 15))\n",
    "\n",
    "sns.heatmap(df_corr, mask=np.eye(len(df_corr)),\n",
    "            square=True,\n",
    "            center=0,\n",
    "            annot=labels,\n",
    "            fmt='',\n",
    "            linewidths=0.5,\n",
    "            cmap=\"vlag\",\n",
    "            cbar_kws={\"shrink\": 0.8}\n",
    "           )"
   ]
  },
  {
   "cell_type": "code",
   "execution_count": null,
   "id": "c50e2358",
   "metadata": {
    "papermill": {
     "duration": 0.083297,
     "end_time": "2022-03-19T14:34:50.071738",
     "exception": false,
     "start_time": "2022-03-19T14:34:49.988441",
     "status": "completed"
    },
    "tags": []
   },
   "outputs": [],
   "source": []
  }
 ],
 "metadata": {
  "kernelspec": {
   "display_name": "Python 3",
   "language": "python",
   "name": "python3"
  },
  "language_info": {
   "codemirror_mode": {
    "name": "ipython",
    "version": 3
   },
   "file_extension": ".py",
   "mimetype": "text/x-python",
   "name": "python",
   "nbconvert_exporter": "python",
   "pygments_lexer": "ipython3",
   "version": "3.7.12"
  },
  "papermill": {
   "default_parameters": {},
   "duration": 61.792676,
   "end_time": "2022-03-19T14:34:51.166073",
   "environment_variables": {},
   "exception": null,
   "input_path": "__notebook__.ipynb",
   "output_path": "__notebook__.ipynb",
   "parameters": {},
   "start_time": "2022-03-19T14:33:49.373397",
   "version": "2.3.3"
  }
 },
 "nbformat": 4,
 "nbformat_minor": 5
}
