{
 "cells": [
  {
   "cell_type": "code",
   "execution_count": 1,
   "id": "938b0695",
   "metadata": {
    "_cell_guid": "b1076dfc-b9ad-4769-8c92-a6c4dae69d19",
    "_uuid": "8f2839f25d086af736a60e9eeb907d3b93b6e0e5",
    "execution": {
     "iopub.execute_input": "2022-03-19T18:59:17.195562Z",
     "iopub.status.busy": "2022-03-19T18:59:17.186256Z",
     "iopub.status.idle": "2022-03-19T18:59:23.000465Z",
     "shell.execute_reply": "2022-03-19T18:59:23.001381Z",
     "shell.execute_reply.started": "2022-03-19T17:48:44.591501Z"
    },
    "papermill": {
     "duration": 5.867077,
     "end_time": "2022-03-19T18:59:23.001716",
     "exception": false,
     "start_time": "2022-03-19T18:59:17.134639",
     "status": "completed"
    },
    "tags": []
   },
   "outputs": [
    {
     "name": "stdout",
     "output_type": "stream",
     "text": [
      "/kaggle/input/tabular-playground-series-mar-2022/sample_submission.csv\n",
      "/kaggle/input/tabular-playground-series-mar-2022/train.csv\n",
      "/kaggle/input/tabular-playground-series-mar-2022/test.csv\n"
     ]
    }
   ],
   "source": [
    "import numpy as np\n",
    "import pandas as pd\n",
    "import warnings\n",
    "import gc\n",
    "import tensorflow as tf\n",
    "import holidays\n",
    "\n",
    "from tensorflow.keras import layers\n",
    "from tensorflow import keras\n",
    "\n",
    "from sklearn.model_selection import train_test_split\n",
    "from sklearn.metrics import mean_absolute_error\n",
    "from sklearn.preprocessing import OneHotEncoder\n",
    "\n",
    "\n",
    "import os\n",
    "for dirname, _, filenames in os.walk('/kaggle/input'):\n",
    "    for filename in filenames:\n",
    "        print(os.path.join(dirname, filename))\n"
   ]
  },
  {
   "cell_type": "code",
   "execution_count": 2,
   "id": "95c27343",
   "metadata": {
    "execution": {
     "iopub.execute_input": "2022-03-19T18:59:23.051635Z",
     "iopub.status.busy": "2022-03-19T18:59:23.048438Z",
     "iopub.status.idle": "2022-03-19T18:59:23.053951Z",
     "shell.execute_reply": "2022-03-19T18:59:23.053513Z",
     "shell.execute_reply.started": "2022-03-19T17:48:50.959700Z"
    },
    "papermill": {
     "duration": 0.029993,
     "end_time": "2022-03-19T18:59:23.054065",
     "exception": false,
     "start_time": "2022-03-19T18:59:23.024072",
     "status": "completed"
    },
    "tags": []
   },
   "outputs": [],
   "source": [
    "def mae(y_true, y_pred):\n",
    "    y_true = tf.cast(y_true, tf.float32)\n",
    "    y_pred = tf.cast(y_pred, tf.float32)\n",
    "    num = tf.math.abs(tf.math.subtract(y_true, y_pred))\n",
    "    denom = tf.math.add(tf.math.abs(y_true), tf.math.abs(y_pred))\n",
    "    denom = tf.math.divide(denom,200.0)\n",
    "    \n",
    "    val = tf.math.divide(num,denom)\n",
    "    val = tf.where(denom == 0.0, 0.0, val) \n",
    "    return tf.reduce_mean(val)"
   ]
  },
  {
   "cell_type": "code",
   "execution_count": 3,
   "id": "cc07a437",
   "metadata": {
    "execution": {
     "iopub.execute_input": "2022-03-19T18:59:23.102229Z",
     "iopub.status.busy": "2022-03-19T18:59:23.101456Z",
     "iopub.status.idle": "2022-03-19T18:59:23.103632Z",
     "shell.execute_reply": "2022-03-19T18:59:23.104054Z",
     "shell.execute_reply.started": "2022-03-19T17:48:50.970070Z"
    },
    "papermill": {
     "duration": 0.028762,
     "end_time": "2022-03-19T18:59:23.104193",
     "exception": false,
     "start_time": "2022-03-19T18:59:23.075431",
     "status": "completed"
    },
    "tags": []
   },
   "outputs": [],
   "source": [
    "def split_sequences(sequences, n_steps):\n",
    "\tX, y = list(), list()\n",
    "\tfor i in range(len(sequences)):\n",
    "\t\t# find the end of this pattern\n",
    "\t\tend_ix = i + n_steps\n",
    "\t\t# check if we are beyond the dataset\n",
    "\t\tif end_ix > len(sequences):\n",
    "\t\t\tbreak\n",
    "\t\t# gather input and output parts of the pattern\n",
    "\t\tseq_x, seq_y = sequences[i:end_ix, :-1], sequences[end_ix-1, -1]\n",
    "\t\tX.append(seq_x)\n",
    "\t\ty.append(seq_y)\n",
    "\treturn np.array(X), np.array(y)"
   ]
  },
  {
   "cell_type": "code",
   "execution_count": 4,
   "id": "ae2c1dd3",
   "metadata": {
    "execution": {
     "iopub.execute_input": "2022-03-19T18:59:23.153268Z",
     "iopub.status.busy": "2022-03-19T18:59:23.152436Z",
     "iopub.status.idle": "2022-03-19T18:59:23.154981Z",
     "shell.execute_reply": "2022-03-19T18:59:23.154544Z",
     "shell.execute_reply.started": "2022-03-19T17:48:50.987484Z"
    },
    "papermill": {
     "duration": 0.030179,
     "end_time": "2022-03-19T18:59:23.155101",
     "exception": false,
     "start_time": "2022-03-19T18:59:23.124922",
     "status": "completed"
    },
    "tags": []
   },
   "outputs": [],
   "source": [
    "def label_encoder(df, column, one_hot_encoder=None):\n",
    "    if one_hot_encoder is None:\n",
    "        one_hot_encoder = OneHotEncoder()\n",
    "        one_hot_transformed = one_hot_encoder.fit_transform(df[column].to_numpy().reshape(-1, 1)).toarray()\n",
    "    else:\n",
    "        one_hot_transformed = one_hot_encoder.transform(df[column].to_numpy().reshape(-1, 1)).toarray()\n",
    "    one_hot_df = pd.DataFrame(one_hot_transformed, columns=one_hot_encoder.get_feature_names())\n",
    "    df = pd.concat([df, one_hot_df], axis=1).drop([column], axis=1)\n",
    "    \n",
    "    return one_hot_encoder, df"
   ]
  },
  {
   "cell_type": "code",
   "execution_count": 5,
   "id": "b3d7005e",
   "metadata": {
    "execution": {
     "iopub.execute_input": "2022-03-19T18:59:23.204928Z",
     "iopub.status.busy": "2022-03-19T18:59:23.204081Z",
     "iopub.status.idle": "2022-03-19T18:59:23.206542Z",
     "shell.execute_reply": "2022-03-19T18:59:23.206127Z",
     "shell.execute_reply.started": "2022-03-19T17:48:50.997847Z"
    },
    "papermill": {
     "duration": 0.029529,
     "end_time": "2022-03-19T18:59:23.206673",
     "exception": false,
     "start_time": "2022-03-19T18:59:23.177144",
     "status": "completed"
    },
    "tags": []
   },
   "outputs": [],
   "source": [
    "def preprocess_dates(df, date_column='time'):\n",
    "    df = df.copy()\n",
    "    df[date_column] = pd.to_datetime(df[date_column])\n",
    "    df['weekday'] = df[date_column].dt.weekday\n",
    "    df['quarter'] = df[date_column].dt.quarter\n",
    "    df['day_of_year'] = df[date_column].dt.day_of_year\n",
    "    df['is_month_start'] = df[date_column].dt.is_month_start.astype(\"int8\")\n",
    "    df['is_month_end'] = df[date_column].dt.is_month_end.astype(\"int8\")\n",
    "    df['month'] = df[date_column].dt.month\n",
    "    return df"
   ]
  },
  {
   "cell_type": "code",
   "execution_count": 6,
   "id": "a5c834de",
   "metadata": {
    "execution": {
     "iopub.execute_input": "2022-03-19T18:59:23.255651Z",
     "iopub.status.busy": "2022-03-19T18:59:23.254788Z",
     "iopub.status.idle": "2022-03-19T18:59:23.256914Z",
     "shell.execute_reply": "2022-03-19T18:59:23.257329Z",
     "shell.execute_reply.started": "2022-03-19T17:48:51.008390Z"
    },
    "papermill": {
     "duration": 0.028637,
     "end_time": "2022-03-19T18:59:23.257454",
     "exception": false,
     "start_time": "2022-03-19T18:59:23.228817",
     "status": "completed"
    },
    "tags": []
   },
   "outputs": [],
   "source": [
    "def preprocess_holidays(df, date_column='time'):\n",
    "    holiday_us = holidays.CountryHoliday(country='US', years=[1991])\n",
    "    dates = list(holiday_us.keys())\n",
    "    dates = sorted(pd.to_datetime(dates))\n",
    "    df = df.copy()\n",
    "    df['is_holiday'] = df[date_column].apply(lambda x : 1 if x in dates else 0)\n",
    "    return df"
   ]
  },
  {
   "cell_type": "code",
   "execution_count": 7,
   "id": "29780850",
   "metadata": {
    "execution": {
     "iopub.execute_input": "2022-03-19T18:59:23.303999Z",
     "iopub.status.busy": "2022-03-19T18:59:23.303195Z",
     "iopub.status.idle": "2022-03-19T18:59:23.305503Z",
     "shell.execute_reply": "2022-03-19T18:59:23.305118Z",
     "shell.execute_reply.started": "2022-03-19T17:48:51.018173Z"
    },
    "papermill": {
     "duration": 0.027224,
     "end_time": "2022-03-19T18:59:23.305642",
     "exception": false,
     "start_time": "2022-03-19T18:59:23.278418",
     "status": "completed"
    },
    "tags": []
   },
   "outputs": [],
   "source": [
    "def preprocess_timeseries(df):\n",
    "    df = df.copy()\n",
    "    df['sin_day_of_year'] = np.sin(df['day_of_year'])\n",
    "    df['sin_month'] = np.sin(df['month'])\n",
    "    return df"
   ]
  },
  {
   "cell_type": "code",
   "execution_count": 8,
   "id": "97f255db",
   "metadata": {
    "execution": {
     "iopub.execute_input": "2022-03-19T18:59:23.358690Z",
     "iopub.status.busy": "2022-03-19T18:59:23.357839Z",
     "iopub.status.idle": "2022-03-19T18:59:23.359563Z",
     "shell.execute_reply": "2022-03-19T18:59:23.360116Z",
     "shell.execute_reply.started": "2022-03-19T17:48:51.026870Z"
    },
    "papermill": {
     "duration": 0.033997,
     "end_time": "2022-03-19T18:59:23.360239",
     "exception": false,
     "start_time": "2022-03-19T18:59:23.326242",
     "status": "completed"
    },
    "tags": []
   },
   "outputs": [],
   "source": [
    "class Time2Vector(tf.keras.layers.Layer):\n",
    "    def __init__(self, seq_len, **kwargs):\n",
    "        super(Time2Vector, self).__init__()\n",
    "        self.seq_len = seq_len\n",
    "\n",
    "    def build(self, input_shape):\n",
    "        self.weights_linear = self.add_weight(name='weight_linear',\n",
    "                                    shape=(int(self.seq_len),),\n",
    "                                    initializer='uniform',\n",
    "                                    trainable=True)\n",
    "\n",
    "        self.bias_linear = self.add_weight(name='bias_linear',\n",
    "                                    shape=(int(self.seq_len),),\n",
    "                                    initializer='uniform',\n",
    "                                    trainable=True)\n",
    "\n",
    "        self.weights_periodic = self.add_weight(name='weight_periodic',\n",
    "                                    shape=(int(self.seq_len),),\n",
    "                                    initializer='uniform',\n",
    "                                    trainable=True)\n",
    "\n",
    "        self.bias_periodic = self.add_weight(name='bias_periodic',\n",
    "                                    shape=(int(self.seq_len),),\n",
    "                                    initializer='uniform',\n",
    "                                    trainable=True)\n",
    "\n",
    "    def call(self, x):\n",
    "        x = tf.math.reduce_mean(x[:,:,:], axis=-1) # Convert (batch, seq_len, 5) to (batch, seq_len)\n",
    "        time_linear = self.weights_linear * x + self.bias_linear\n",
    "        time_linear = tf.expand_dims(time_linear, axis=-1) # (batch, seq_len, 1)\n",
    "        time_periodic = tf.math.sin(tf.multiply(x, self.weights_periodic) + self.bias_periodic)\n",
    "        time_periodic = tf.expand_dims(time_periodic, axis=-1) # (batch, seq_len, 1)\n",
    "        return tf.concat([time_linear, time_periodic], axis=-1) # (batch, seq_len, 2"
   ]
  },
  {
   "cell_type": "code",
   "execution_count": 9,
   "id": "48642a0d",
   "metadata": {
    "execution": {
     "iopub.execute_input": "2022-03-19T18:59:23.417714Z",
     "iopub.status.busy": "2022-03-19T18:59:23.416782Z",
     "iopub.status.idle": "2022-03-19T18:59:23.418765Z",
     "shell.execute_reply": "2022-03-19T18:59:23.419141Z",
     "shell.execute_reply.started": "2022-03-19T17:48:51.042989Z"
    },
    "papermill": {
     "duration": 0.037892,
     "end_time": "2022-03-19T18:59:23.419269",
     "exception": false,
     "start_time": "2022-03-19T18:59:23.381377",
     "status": "completed"
    },
    "tags": []
   },
   "outputs": [],
   "source": [
    "class TransformerEncoder(layers.Layer):\n",
    "    def __init__(self, embed_dim, num_heads, feed_forward_dim, rate=0.1):\n",
    "        super().__init__()\n",
    "        self.attn = layers.MultiHeadAttention(num_heads=num_heads, key_dim=embed_dim)\n",
    "        self.ffn = keras.Sequential(\n",
    "            [\n",
    "                layers.Dense(feed_forward_dim, activation=\"relu\"),\n",
    "                layers.Dense(embed_dim),\n",
    "            ]\n",
    "        )\n",
    "        self.layernorm1 = layers.LayerNormalization(epsilon=1e-6)\n",
    "        self.layernorm2 = layers.LayerNormalization(epsilon=1e-6)\n",
    "        self.dropout1 = layers.Dropout(rate)\n",
    "        self.dropout2 = layers.Dropout(rate)\n",
    "\n",
    "    def call(self, inputs, training):\n",
    "        attn_output = self.attn(inputs, inputs)\n",
    "        attn_output = self.dropout1(attn_output, training=training)\n",
    "        out1 = self.layernorm1(inputs + attn_output)\n",
    "        ffn_output = self.ffn(out1)\n",
    "        ffn_output = self.dropout2(ffn_output, training=training)\n",
    "        return self.layernorm2(out1 + ffn_output)\n",
    "\n",
    "\n",
    "class Transformer(keras.Model):\n",
    "    def __init__(\n",
    "            self,\n",
    "            num_hid=64, # embed_dim - num of features\n",
    "            time_steps=7,\n",
    "            num_head = 2,\n",
    "            num_feed_forward=128, # pointwise dim\n",
    "            num_layers_enc = 4,\n",
    "            time_embedding = False,\n",
    "    ):\n",
    "        super().__init__()\n",
    "        self.num_hid = num_hid\n",
    "        if time_embedding:\n",
    "            self.num_hid += 2\n",
    "            self.tv = Time2Vector(time_steps)\n",
    "        else:\n",
    "            self.tv = None\n",
    "        self.numlayers_enc = num_layers_enc\n",
    "        self.enc_input = layers.Input((time_steps, self.num_hid))\n",
    "        self.encoder = keras.Sequential(\n",
    "            [self.enc_input]\n",
    "            + [\n",
    "                TransformerEncoder(self.num_hid, num_head, num_feed_forward)\n",
    "                for _ in range(num_layers_enc)\n",
    "            ]\n",
    "        )\n",
    "        self.GlobalAveragePooling1D = layers.GlobalAveragePooling1D(data_format='channels_last')\n",
    "        self.out = layers.Dense(units=1, activation='linear')        \n",
    "        self.concat = tf.keras.layers.Concatenate(axis=-1)\n",
    "        \n",
    "    def call(self, inputs):\n",
    "        if self.tv:\n",
    "            x = self.tv(inputs)\n",
    "            x = self.concat([inputs, x])\n",
    "            x = self.encoder(x)\n",
    "        else:\n",
    "            x = self.encoder(inputs)\n",
    "        x = self.GlobalAveragePooling1D(x)\n",
    "        y = self.out(x)\n",
    "        return y"
   ]
  },
  {
   "cell_type": "code",
   "execution_count": 10,
   "id": "c9408a6d",
   "metadata": {
    "execution": {
     "iopub.execute_input": "2022-03-19T18:59:23.466953Z",
     "iopub.status.busy": "2022-03-19T18:59:23.466266Z",
     "iopub.status.idle": "2022-03-19T18:59:23.468864Z",
     "shell.execute_reply": "2022-03-19T18:59:23.468374Z",
     "shell.execute_reply.started": "2022-03-19T17:48:51.063524Z"
    },
    "papermill": {
     "duration": 0.028741,
     "end_time": "2022-03-19T18:59:23.468974",
     "exception": false,
     "start_time": "2022-03-19T18:59:23.440233",
     "status": "completed"
    },
    "tags": []
   },
   "outputs": [],
   "source": [
    "seed = 47\n",
    "TIMESTEPS = 1\n",
    "warnings.filterwarnings(\"ignore\")"
   ]
  },
  {
   "cell_type": "markdown",
   "id": "4bb7a1de",
   "metadata": {
    "papermill": {
     "duration": 0.020965,
     "end_time": "2022-03-19T18:59:23.510687",
     "exception": false,
     "start_time": "2022-03-19T18:59:23.489722",
     "status": "completed"
    },
    "tags": []
   },
   "source": [
    "# Reading the dataset"
   ]
  },
  {
   "cell_type": "code",
   "execution_count": 11,
   "id": "cd01c374",
   "metadata": {
    "execution": {
     "iopub.execute_input": "2022-03-19T18:59:23.557505Z",
     "iopub.status.busy": "2022-03-19T18:59:23.556884Z",
     "iopub.status.idle": "2022-03-19T18:59:24.256241Z",
     "shell.execute_reply": "2022-03-19T18:59:24.255614Z",
     "shell.execute_reply.started": "2022-03-19T17:48:51.071494Z"
    },
    "papermill": {
     "duration": 0.724701,
     "end_time": "2022-03-19T18:59:24.256370",
     "exception": false,
     "start_time": "2022-03-19T18:59:23.531669",
     "status": "completed"
    },
    "tags": []
   },
   "outputs": [],
   "source": [
    "train_df = pd.read_csv(\"/kaggle/input/tabular-playground-series-mar-2022/train.csv\", sep=',')"
   ]
  },
  {
   "cell_type": "markdown",
   "id": "153c71d0",
   "metadata": {
    "papermill": {
     "duration": 0.022946,
     "end_time": "2022-03-19T18:59:24.300487",
     "exception": false,
     "start_time": "2022-03-19T18:59:24.277541",
     "status": "completed"
    },
    "tags": []
   },
   "source": [
    "\n",
    "# Preprocessing\n"
   ]
  },
  {
   "cell_type": "code",
   "execution_count": 12,
   "id": "e43b0309",
   "metadata": {
    "execution": {
     "iopub.execute_input": "2022-03-19T18:59:24.392088Z",
     "iopub.status.busy": "2022-03-19T18:59:24.351645Z",
     "iopub.status.idle": "2022-03-19T18:59:31.767551Z",
     "shell.execute_reply": "2022-03-19T18:59:31.767023Z",
     "shell.execute_reply.started": "2022-03-19T17:48:51.769309Z"
    },
    "papermill": {
     "duration": 7.445539,
     "end_time": "2022-03-19T18:59:31.767713",
     "exception": false,
     "start_time": "2022-03-19T18:59:24.322174",
     "status": "completed"
    },
    "tags": []
   },
   "outputs": [],
   "source": [
    "one_hot_encoder, train_df = label_encoder(train_df, 'direction')\n",
    "train_df = preprocess_dates(train_df)\n",
    "train_df = preprocess_holidays(train_df)\n",
    "train_df = preprocess_timeseries(train_df)\n",
    "x_train = train_df.drop(['row_id', 'time', 'congestion'], axis=1)\n",
    "y_train = train_df['congestion']\n",
    "x_train, x_test, y_train, y_test = train_test_split(x_train, y_train, test_size=0.2, random_state=seed, shuffle=False)"
   ]
  },
  {
   "cell_type": "markdown",
   "id": "bdc760b6",
   "metadata": {
    "papermill": {
     "duration": 0.023708,
     "end_time": "2022-03-19T18:59:31.815185",
     "exception": false,
     "start_time": "2022-03-19T18:59:31.791477",
     "status": "completed"
    },
    "tags": []
   },
   "source": [
    "# Convert the data to 3D array shape"
   ]
  },
  {
   "cell_type": "code",
   "execution_count": 13,
   "id": "a59b7b1f",
   "metadata": {
    "execution": {
     "iopub.execute_input": "2022-03-19T18:59:31.869252Z",
     "iopub.status.busy": "2022-03-19T18:59:31.867895Z",
     "iopub.status.idle": "2022-03-19T18:59:34.017750Z",
     "shell.execute_reply": "2022-03-19T18:59:34.018965Z",
     "shell.execute_reply.started": "2022-03-19T17:48:59.073357Z"
    },
    "papermill": {
     "duration": 2.180141,
     "end_time": "2022-03-19T18:59:34.019177",
     "exception": false,
     "start_time": "2022-03-19T18:59:31.839036",
     "status": "completed"
    },
    "tags": []
   },
   "outputs": [],
   "source": [
    "x_train = np.append(x_train, y_train.values.reshape(-1, 1), axis=1)\n",
    "x_test = np.append(x_test, y_test.values.reshape(-1, 1), axis=1)\n",
    "x_train, y_train = split_sequences(x_train, TIMESTEPS)\n",
    "x_test, y_test = split_sequences(x_test, TIMESTEPS)"
   ]
  },
  {
   "cell_type": "markdown",
   "id": "66893c6b",
   "metadata": {
    "papermill": {
     "duration": 0.034357,
     "end_time": "2022-03-19T18:59:34.088037",
     "exception": false,
     "start_time": "2022-03-19T18:59:34.053680",
     "status": "completed"
    },
    "tags": []
   },
   "source": [
    "# Transformer with TIME2VEC"
   ]
  },
  {
   "cell_type": "code",
   "execution_count": 14,
   "id": "00543978",
   "metadata": {
    "execution": {
     "iopub.execute_input": "2022-03-19T18:59:34.164437Z",
     "iopub.status.busy": "2022-03-19T18:59:34.163846Z",
     "iopub.status.idle": "2022-03-19T19:59:27.697250Z",
     "shell.execute_reply": "2022-03-19T19:59:27.697872Z",
     "shell.execute_reply.started": "2022-03-19T17:49:00.944625Z"
    },
    "papermill": {
     "duration": 3593.575649,
     "end_time": "2022-03-19T19:59:27.698082",
     "exception": false,
     "start_time": "2022-03-19T18:59:34.122433",
     "status": "completed"
    },
    "tags": []
   },
   "outputs": [
    {
     "name": "stderr",
     "output_type": "stream",
     "text": [
      "2022-03-19 18:59:34.234847: I tensorflow/stream_executor/cuda/cuda_gpu_executor.cc:937] successful NUMA node read from SysFS had negative value (-1), but there must be at least one NUMA node, so returning NUMA node zero\n",
      "2022-03-19 18:59:34.339767: I tensorflow/stream_executor/cuda/cuda_gpu_executor.cc:937] successful NUMA node read from SysFS had negative value (-1), but there must be at least one NUMA node, so returning NUMA node zero\n",
      "2022-03-19 18:59:34.340518: I tensorflow/stream_executor/cuda/cuda_gpu_executor.cc:937] successful NUMA node read from SysFS had negative value (-1), but there must be at least one NUMA node, so returning NUMA node zero\n",
      "2022-03-19 18:59:34.341672: I tensorflow/core/platform/cpu_feature_guard.cc:142] This TensorFlow binary is optimized with oneAPI Deep Neural Network Library (oneDNN) to use the following CPU instructions in performance-critical operations:  AVX2 AVX512F FMA\n",
      "To enable them in other operations, rebuild TensorFlow with the appropriate compiler flags.\n",
      "2022-03-19 18:59:34.342499: I tensorflow/stream_executor/cuda/cuda_gpu_executor.cc:937] successful NUMA node read from SysFS had negative value (-1), but there must be at least one NUMA node, so returning NUMA node zero\n",
      "2022-03-19 18:59:34.343180: I tensorflow/stream_executor/cuda/cuda_gpu_executor.cc:937] successful NUMA node read from SysFS had negative value (-1), but there must be at least one NUMA node, so returning NUMA node zero\n",
      "2022-03-19 18:59:34.343814: I tensorflow/stream_executor/cuda/cuda_gpu_executor.cc:937] successful NUMA node read from SysFS had negative value (-1), but there must be at least one NUMA node, so returning NUMA node zero\n",
      "2022-03-19 18:59:36.102613: I tensorflow/stream_executor/cuda/cuda_gpu_executor.cc:937] successful NUMA node read from SysFS had negative value (-1), but there must be at least one NUMA node, so returning NUMA node zero\n",
      "2022-03-19 18:59:36.103389: I tensorflow/stream_executor/cuda/cuda_gpu_executor.cc:937] successful NUMA node read from SysFS had negative value (-1), but there must be at least one NUMA node, so returning NUMA node zero\n",
      "2022-03-19 18:59:36.104106: I tensorflow/stream_executor/cuda/cuda_gpu_executor.cc:937] successful NUMA node read from SysFS had negative value (-1), but there must be at least one NUMA node, so returning NUMA node zero\n",
      "2022-03-19 18:59:36.104722: I tensorflow/core/common_runtime/gpu/gpu_device.cc:1510] Created device /job:localhost/replica:0/task:0/device:GPU:0 with 15403 MB memory:  -> device: 0, name: Tesla P100-PCIE-16GB, pci bus id: 0000:00:04.0, compute capability: 6.0\n",
      "2022-03-19 18:59:36.913002: I tensorflow/compiler/mlir/mlir_graph_optimization_pass.cc:185] None of the MLIR Optimization Passes are enabled (registered 2)\n"
     ]
    },
    {
     "name": "stdout",
     "output_type": "stream",
     "text": [
      "\n",
      "5306/5306 [==============================] - 20s 4ms/step - loss: 8.0788\n",
      "8.078845977783203\n"
     ]
    }
   ],
   "source": [
    "num_heads=2\n",
    "num_layers_enc=2\n",
    "num_feed_forward=64\n",
    "num_features = x_train.shape[-1]\n",
    "time_steps = TIMESTEPS\n",
    "epochs = 100\n",
    "batch_size = 128\n",
    "\n",
    "model = Transformer(num_hid=num_features,\n",
    "                        time_steps=time_steps,\n",
    "                        time_embedding=True,\n",
    "                        num_head=num_heads,\n",
    "                        num_layers_enc=num_layers_enc,\n",
    "                        num_feed_forward=num_feed_forward)\n",
    "\n",
    "opt = tf.keras.optimizers.Adam()\n",
    "loss = tf.keras.losses.MeanAbsoluteError()\n",
    "model.compile(optimizer=opt, loss=loss)\n",
    "model.fit(x_train, y_train, epochs=epochs, batch_size=batch_size, verbose=0)\n",
    "print()\n",
    "results = model.evaluate(x_test, y_test)\n",
    "print(results)"
   ]
  },
  {
   "cell_type": "markdown",
   "id": "f7a2415b",
   "metadata": {
    "papermill": {
     "duration": 0.16017,
     "end_time": "2022-03-19T19:59:28.033868",
     "exception": false,
     "start_time": "2022-03-19T19:59:27.873698",
     "status": "completed"
    },
    "tags": []
   },
   "source": [
    "# Submission"
   ]
  },
  {
   "cell_type": "code",
   "execution_count": 15,
   "id": "80c25ee6",
   "metadata": {
    "execution": {
     "iopub.execute_input": "2022-03-19T19:59:28.518433Z",
     "iopub.status.busy": "2022-03-19T19:59:28.517823Z",
     "iopub.status.idle": "2022-03-19T19:59:28.532702Z",
     "shell.execute_reply": "2022-03-19T19:59:28.533181Z",
     "shell.execute_reply.started": "2022-03-19T18:57:43.988277Z"
    },
    "papermill": {
     "duration": 0.344913,
     "end_time": "2022-03-19T19:59:28.533366",
     "exception": false,
     "start_time": "2022-03-19T19:59:28.188453",
     "status": "completed"
    },
    "tags": []
   },
   "outputs": [
    {
     "data": {
      "text/plain": [
       "2698"
      ]
     },
     "execution_count": 15,
     "metadata": {},
     "output_type": "execute_result"
    }
   ],
   "source": [
    "del train_df, x_train, y_train, x_test, y_test\n",
    "gc.collect()"
   ]
  },
  {
   "cell_type": "code",
   "execution_count": 16,
   "id": "55f7c49a",
   "metadata": {
    "execution": {
     "iopub.execute_input": "2022-03-19T19:59:28.846121Z",
     "iopub.status.busy": "2022-03-19T19:59:28.844515Z",
     "iopub.status.idle": "2022-03-19T19:59:28.888574Z",
     "shell.execute_reply": "2022-03-19T19:59:28.888062Z",
     "shell.execute_reply.started": "2022-03-19T18:57:44.167152Z"
    },
    "papermill": {
     "duration": 0.201643,
     "end_time": "2022-03-19T19:59:28.888769",
     "exception": false,
     "start_time": "2022-03-19T19:59:28.687126",
     "status": "completed"
    },
    "tags": []
   },
   "outputs": [],
   "source": [
    "test_df = pd.read_csv(\"/kaggle/input/tabular-playground-series-mar-2022/test.csv\", sep=',')"
   ]
  },
  {
   "cell_type": "code",
   "execution_count": 17,
   "id": "55e54034",
   "metadata": {
    "execution": {
     "iopub.execute_input": "2022-03-19T19:59:29.216734Z",
     "iopub.status.busy": "2022-03-19T19:59:29.212369Z",
     "iopub.status.idle": "2022-03-19T19:59:29.252677Z",
     "shell.execute_reply": "2022-03-19T19:59:29.253523Z",
     "shell.execute_reply.started": "2022-03-19T18:57:44.186898Z"
    },
    "papermill": {
     "duration": 0.205233,
     "end_time": "2022-03-19T19:59:29.253788",
     "exception": false,
     "start_time": "2022-03-19T19:59:29.048555",
     "status": "completed"
    },
    "tags": []
   },
   "outputs": [],
   "source": [
    "_, test_df = label_encoder(test_df, 'direction', one_hot_encoder)\n",
    "test_df = preprocess_dates(test_df)\n",
    "test_df = preprocess_holidays(test_df)\n",
    "test_df = preprocess_timeseries(test_df)\n",
    "x_test = test_df.drop(['row_id', 'time'], axis=1)\n",
    "x_test = np.append(x_test, np.ones((x_test.shape[0], 1)), axis=1)\n",
    "x_test, _ = split_sequences(x_test, TIMESTEPS)"
   ]
  },
  {
   "cell_type": "code",
   "execution_count": 18,
   "id": "10939c10",
   "metadata": {
    "execution": {
     "iopub.execute_input": "2022-03-19T19:59:29.550470Z",
     "iopub.status.busy": "2022-03-19T19:59:29.549602Z",
     "iopub.status.idle": "2022-03-19T19:59:30.055323Z",
     "shell.execute_reply": "2022-03-19T19:59:30.054842Z",
     "shell.execute_reply.started": "2022-03-19T18:57:44.230230Z"
    },
    "papermill": {
     "duration": 0.651821,
     "end_time": "2022-03-19T19:59:30.055444",
     "exception": false,
     "start_time": "2022-03-19T19:59:29.403623",
     "status": "completed"
    },
    "tags": []
   },
   "outputs": [],
   "source": [
    "target = model.predict(x_test).squeeze()\n",
    "row_id =  test_df['row_id'].values\n",
    "submission = pd.DataFrame({'row_id' : row_id, 'congestion' : target})"
   ]
  },
  {
   "cell_type": "code",
   "execution_count": 19,
   "id": "11d486f2",
   "metadata": {
    "execution": {
     "iopub.execute_input": "2022-03-19T19:59:30.337628Z",
     "iopub.status.busy": "2022-03-19T19:59:30.336902Z",
     "iopub.status.idle": "2022-03-19T19:59:30.346175Z",
     "shell.execute_reply": "2022-03-19T19:59:30.346569Z",
     "shell.execute_reply.started": "2022-03-19T18:57:44.754455Z"
    },
    "papermill": {
     "duration": 0.152507,
     "end_time": "2022-03-19T19:59:30.346735",
     "exception": false,
     "start_time": "2022-03-19T19:59:30.194228",
     "status": "completed"
    },
    "tags": []
   },
   "outputs": [
    {
     "data": {
      "text/html": [
       "<div>\n",
       "<style scoped>\n",
       "    .dataframe tbody tr th:only-of-type {\n",
       "        vertical-align: middle;\n",
       "    }\n",
       "\n",
       "    .dataframe tbody tr th {\n",
       "        vertical-align: top;\n",
       "    }\n",
       "\n",
       "    .dataframe thead th {\n",
       "        text-align: right;\n",
       "    }\n",
       "</style>\n",
       "<table border=\"1\" class=\"dataframe\">\n",
       "  <thead>\n",
       "    <tr style=\"text-align: right;\">\n",
       "      <th></th>\n",
       "      <th>row_id</th>\n",
       "      <th>congestion</th>\n",
       "    </tr>\n",
       "  </thead>\n",
       "  <tbody>\n",
       "    <tr>\n",
       "      <th>0</th>\n",
       "      <td>848835</td>\n",
       "      <td>49.750980</td>\n",
       "    </tr>\n",
       "    <tr>\n",
       "      <th>1</th>\n",
       "      <td>848836</td>\n",
       "      <td>41.372852</td>\n",
       "    </tr>\n",
       "    <tr>\n",
       "      <th>2</th>\n",
       "      <td>848837</td>\n",
       "      <td>53.710304</td>\n",
       "    </tr>\n",
       "    <tr>\n",
       "      <th>3</th>\n",
       "      <td>848838</td>\n",
       "      <td>27.267336</td>\n",
       "    </tr>\n",
       "    <tr>\n",
       "      <th>4</th>\n",
       "      <td>848839</td>\n",
       "      <td>72.881836</td>\n",
       "    </tr>\n",
       "  </tbody>\n",
       "</table>\n",
       "</div>"
      ],
      "text/plain": [
       "   row_id  congestion\n",
       "0  848835   49.750980\n",
       "1  848836   41.372852\n",
       "2  848837   53.710304\n",
       "3  848838   27.267336\n",
       "4  848839   72.881836"
      ]
     },
     "execution_count": 19,
     "metadata": {},
     "output_type": "execute_result"
    }
   ],
   "source": [
    "submission.head()"
   ]
  },
  {
   "cell_type": "code",
   "execution_count": 20,
   "id": "8eb84756",
   "metadata": {
    "execution": {
     "iopub.execute_input": "2022-03-19T19:59:30.635842Z",
     "iopub.status.busy": "2022-03-19T19:59:30.635047Z",
     "iopub.status.idle": "2022-03-19T19:59:30.645961Z",
     "shell.execute_reply": "2022-03-19T19:59:30.645408Z",
     "shell.execute_reply.started": "2022-03-19T18:57:44.769991Z"
    },
    "papermill": {
     "duration": 0.16063,
     "end_time": "2022-03-19T19:59:30.646078",
     "exception": false,
     "start_time": "2022-03-19T19:59:30.485448",
     "status": "completed"
    },
    "tags": []
   },
   "outputs": [],
   "source": [
    "submission.to_csv('submission.csv', index=False)"
   ]
  },
  {
   "cell_type": "code",
   "execution_count": null,
   "id": "b23d7b8f",
   "metadata": {
    "papermill": {
     "duration": 0.138976,
     "end_time": "2022-03-19T19:59:30.927378",
     "exception": false,
     "start_time": "2022-03-19T19:59:30.788402",
     "status": "completed"
    },
    "tags": []
   },
   "outputs": [],
   "source": []
  }
 ],
 "metadata": {
  "kernelspec": {
   "display_name": "Python 3",
   "language": "python",
   "name": "python3"
  },
  "language_info": {
   "codemirror_mode": {
    "name": "ipython",
    "version": 3
   },
   "file_extension": ".py",
   "mimetype": "text/x-python",
   "name": "python",
   "nbconvert_exporter": "python",
   "pygments_lexer": "ipython3",
   "version": "3.7.12"
  },
  "papermill": {
   "default_parameters": {},
   "duration": 3624.659081,
   "end_time": "2022-03-19T19:59:33.947830",
   "environment_variables": {},
   "exception": null,
   "input_path": "__notebook__.ipynb",
   "output_path": "__notebook__.ipynb",
   "parameters": {},
   "start_time": "2022-03-19T18:59:09.288749",
   "version": "2.3.3"
  }
 },
 "nbformat": 4,
 "nbformat_minor": 5
}
