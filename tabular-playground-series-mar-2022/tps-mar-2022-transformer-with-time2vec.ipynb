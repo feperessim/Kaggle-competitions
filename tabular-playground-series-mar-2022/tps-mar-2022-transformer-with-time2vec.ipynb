{
 "cells": [
  {
   "cell_type": "code",
   "execution_count": 1,
   "id": "548f9e06",
   "metadata": {
    "_cell_guid": "b1076dfc-b9ad-4769-8c92-a6c4dae69d19",
    "_uuid": "8f2839f25d086af736a60e9eeb907d3b93b6e0e5",
    "execution": {
     "iopub.execute_input": "2022-03-20T15:41:18.649353Z",
     "iopub.status.busy": "2022-03-20T15:41:18.648676Z",
     "iopub.status.idle": "2022-03-20T15:41:26.663586Z",
     "shell.execute_reply": "2022-03-20T15:41:26.662658Z",
     "shell.execute_reply.started": "2022-03-19T17:48:44.591501Z"
    },
    "papermill": {
     "duration": 8.052448,
     "end_time": "2022-03-20T15:41:26.663799",
     "exception": false,
     "start_time": "2022-03-20T15:41:18.611351",
     "status": "completed"
    },
    "tags": []
   },
   "outputs": [
    {
     "name": "stdout",
     "output_type": "stream",
     "text": [
      "/kaggle/input/tabular-playground-series-mar-2022/sample_submission.csv\n",
      "/kaggle/input/tabular-playground-series-mar-2022/train.csv\n",
      "/kaggle/input/tabular-playground-series-mar-2022/test.csv\n"
     ]
    }
   ],
   "source": [
    "import numpy as np\n",
    "import pandas as pd\n",
    "import warnings\n",
    "import gc\n",
    "import tensorflow as tf\n",
    "import holidays\n",
    "\n",
    "from tensorflow.keras import layers\n",
    "from tensorflow import keras\n",
    "\n",
    "from sklearn.model_selection import train_test_split\n",
    "from sklearn.metrics import mean_absolute_error\n",
    "from sklearn.preprocessing import OneHotEncoder\n",
    "\n",
    "\n",
    "import os\n",
    "for dirname, _, filenames in os.walk('/kaggle/input'):\n",
    "    for filename in filenames:\n",
    "        print(os.path.join(dirname, filename))\n"
   ]
  },
  {
   "cell_type": "code",
   "execution_count": 2,
   "id": "5f28fe9a",
   "metadata": {
    "execution": {
     "iopub.execute_input": "2022-03-20T15:41:26.722485Z",
     "iopub.status.busy": "2022-03-20T15:41:26.721442Z",
     "iopub.status.idle": "2022-03-20T15:41:26.723504Z",
     "shell.execute_reply": "2022-03-20T15:41:26.723937Z",
     "shell.execute_reply.started": "2022-03-19T17:48:50.97007Z"
    },
    "papermill": {
     "duration": 0.03465,
     "end_time": "2022-03-20T15:41:26.724116",
     "exception": false,
     "start_time": "2022-03-20T15:41:26.689466",
     "status": "completed"
    },
    "tags": []
   },
   "outputs": [],
   "source": [
    "def split_sequences(sequences, n_steps):\n",
    "\tX, y = list(), list()\n",
    "\tfor i in range(len(sequences)):\n",
    "\t\t# find the end of this pattern\n",
    "\t\tend_ix = i + n_steps\n",
    "\t\t# check if we are beyond the dataset\n",
    "\t\tif end_ix > len(sequences):\n",
    "\t\t\tbreak\n",
    "\t\t# gather input and output parts of the pattern\n",
    "\t\tseq_x, seq_y = sequences[i:end_ix, :-1], sequences[end_ix-1, -1]\n",
    "\t\tX.append(seq_x)\n",
    "\t\ty.append(seq_y)\n",
    "\treturn np.array(X), np.array(y)"
   ]
  },
  {
   "cell_type": "code",
   "execution_count": 3,
   "id": "b1f84d04",
   "metadata": {
    "execution": {
     "iopub.execute_input": "2022-03-20T15:41:26.776520Z",
     "iopub.status.busy": "2022-03-20T15:41:26.775532Z",
     "iopub.status.idle": "2022-03-20T15:41:26.782706Z",
     "shell.execute_reply": "2022-03-20T15:41:26.783184Z",
     "shell.execute_reply.started": "2022-03-19T17:48:50.987484Z"
    },
    "papermill": {
     "duration": 0.03497,
     "end_time": "2022-03-20T15:41:26.783394",
     "exception": false,
     "start_time": "2022-03-20T15:41:26.748424",
     "status": "completed"
    },
    "tags": []
   },
   "outputs": [],
   "source": [
    "def label_encoder(df, column, one_hot_encoder=None):\n",
    "    if one_hot_encoder is None:\n",
    "        one_hot_encoder = OneHotEncoder()\n",
    "        one_hot_transformed = one_hot_encoder.fit_transform(df[column].to_numpy().reshape(-1, 1)).toarray()\n",
    "    else:\n",
    "        one_hot_transformed = one_hot_encoder.transform(df[column].to_numpy().reshape(-1, 1)).toarray()\n",
    "    one_hot_df = pd.DataFrame(one_hot_transformed, columns=one_hot_encoder.get_feature_names())\n",
    "    df = pd.concat([df, one_hot_df], axis=1).drop([column], axis=1)\n",
    "    \n",
    "    return one_hot_encoder, df"
   ]
  },
  {
   "cell_type": "code",
   "execution_count": 4,
   "id": "d011c972",
   "metadata": {
    "execution": {
     "iopub.execute_input": "2022-03-20T15:41:26.836699Z",
     "iopub.status.busy": "2022-03-20T15:41:26.835747Z",
     "iopub.status.idle": "2022-03-20T15:41:26.842207Z",
     "shell.execute_reply": "2022-03-20T15:41:26.842692Z",
     "shell.execute_reply.started": "2022-03-19T17:48:50.997847Z"
    },
    "papermill": {
     "duration": 0.0339,
     "end_time": "2022-03-20T15:41:26.842863",
     "exception": false,
     "start_time": "2022-03-20T15:41:26.808963",
     "status": "completed"
    },
    "tags": []
   },
   "outputs": [],
   "source": [
    "def preprocess_dates(df, date_column='time'):\n",
    "    df = df.copy()\n",
    "    df[date_column] = pd.to_datetime(df[date_column])\n",
    "    df['weekday'] = df[date_column].dt.weekday\n",
    "    df['quarter'] = df[date_column].dt.quarter\n",
    "    df['day_of_year'] = df[date_column].dt.day_of_year\n",
    "    df['is_month_start'] = df[date_column].dt.is_month_start.astype(\"int8\")\n",
    "    df['is_month_end'] = df[date_column].dt.is_month_end.astype(\"int8\")\n",
    "    df['month'] = df[date_column].dt.month\n",
    "    return df"
   ]
  },
  {
   "cell_type": "code",
   "execution_count": 5,
   "id": "a3a7e11d",
   "metadata": {
    "execution": {
     "iopub.execute_input": "2022-03-20T15:41:26.894615Z",
     "iopub.status.busy": "2022-03-20T15:41:26.893656Z",
     "iopub.status.idle": "2022-03-20T15:41:26.899210Z",
     "shell.execute_reply": "2022-03-20T15:41:26.899850Z",
     "shell.execute_reply.started": "2022-03-19T17:48:51.00839Z"
    },
    "papermill": {
     "duration": 0.033177,
     "end_time": "2022-03-20T15:41:26.900017",
     "exception": false,
     "start_time": "2022-03-20T15:41:26.866840",
     "status": "completed"
    },
    "tags": []
   },
   "outputs": [],
   "source": [
    "def preprocess_holidays(df, date_column='time'):\n",
    "    holiday_us = holidays.CountryHoliday(country='US', years=[1991])\n",
    "    dates = list(holiday_us.keys())\n",
    "    dates = sorted(pd.to_datetime(dates))\n",
    "    df = df.copy()\n",
    "    df['is_holiday'] = df[date_column].apply(lambda x : 1 if x in dates else 0)\n",
    "    return df"
   ]
  },
  {
   "cell_type": "code",
   "execution_count": 6,
   "id": "c3148843",
   "metadata": {
    "execution": {
     "iopub.execute_input": "2022-03-20T15:41:26.952312Z",
     "iopub.status.busy": "2022-03-20T15:41:26.951232Z",
     "iopub.status.idle": "2022-03-20T15:41:26.955921Z",
     "shell.execute_reply": "2022-03-20T15:41:26.956475Z",
     "shell.execute_reply.started": "2022-03-19T17:48:51.018173Z"
    },
    "papermill": {
     "duration": 0.032651,
     "end_time": "2022-03-20T15:41:26.956640",
     "exception": false,
     "start_time": "2022-03-20T15:41:26.923989",
     "status": "completed"
    },
    "tags": []
   },
   "outputs": [],
   "source": [
    "def preprocess_timeseries(df):\n",
    "    df = df.copy()\n",
    "    df['sin_day_of_year'] = np.sin(df['day_of_year'])\n",
    "    df['sin_month'] = np.sin(df['month'])\n",
    "    return df"
   ]
  },
  {
   "cell_type": "code",
   "execution_count": 7,
   "id": "5d72abe5",
   "metadata": {
    "execution": {
     "iopub.execute_input": "2022-03-20T15:41:27.014008Z",
     "iopub.status.busy": "2022-03-20T15:41:27.013012Z",
     "iopub.status.idle": "2022-03-20T15:41:27.019509Z",
     "shell.execute_reply": "2022-03-20T15:41:27.020070Z",
     "shell.execute_reply.started": "2022-03-19T17:48:51.02687Z"
    },
    "papermill": {
     "duration": 0.039247,
     "end_time": "2022-03-20T15:41:27.020239",
     "exception": false,
     "start_time": "2022-03-20T15:41:26.980992",
     "status": "completed"
    },
    "tags": []
   },
   "outputs": [],
   "source": [
    "class Time2Vector(tf.keras.layers.Layer):\n",
    "    def __init__(self, seq_len, **kwargs):\n",
    "        super(Time2Vector, self).__init__()\n",
    "        self.seq_len = seq_len\n",
    "\n",
    "    def build(self, input_shape):\n",
    "        self.weights_linear = self.add_weight(name='weight_linear',\n",
    "                                    shape=(int(self.seq_len),),\n",
    "                                    initializer='uniform',\n",
    "                                    trainable=True)\n",
    "\n",
    "        self.bias_linear = self.add_weight(name='bias_linear',\n",
    "                                    shape=(int(self.seq_len),),\n",
    "                                    initializer='uniform',\n",
    "                                    trainable=True)\n",
    "\n",
    "        self.weights_periodic = self.add_weight(name='weight_periodic',\n",
    "                                    shape=(int(self.seq_len),),\n",
    "                                    initializer='uniform',\n",
    "                                    trainable=True)\n",
    "\n",
    "        self.bias_periodic = self.add_weight(name='bias_periodic',\n",
    "                                    shape=(int(self.seq_len),),\n",
    "                                    initializer='uniform',\n",
    "                                    trainable=True)\n",
    "\n",
    "    def call(self, x):\n",
    "        x = tf.math.reduce_mean(x[:,:,:], axis=-1) # Convert (batch, seq_len, 5) to (batch, seq_len)\n",
    "        time_linear = self.weights_linear * x + self.bias_linear\n",
    "        time_linear = tf.expand_dims(time_linear, axis=-1) # (batch, seq_len, 1)\n",
    "        time_periodic = tf.math.sin(tf.multiply(x, self.weights_periodic) + self.bias_periodic)\n",
    "        time_periodic = tf.expand_dims(time_periodic, axis=-1) # (batch, seq_len, 1)\n",
    "        return tf.concat([time_linear, time_periodic], axis=-1) # (batch, seq_len, 2"
   ]
  },
  {
   "cell_type": "code",
   "execution_count": 8,
   "id": "467985f2",
   "metadata": {
    "execution": {
     "iopub.execute_input": "2022-03-20T15:41:27.071822Z",
     "iopub.status.busy": "2022-03-20T15:41:27.070835Z",
     "iopub.status.idle": "2022-03-20T15:41:27.087558Z",
     "shell.execute_reply": "2022-03-20T15:41:27.088064Z",
     "shell.execute_reply.started": "2022-03-19T17:48:51.042989Z"
    },
    "papermill": {
     "duration": 0.044009,
     "end_time": "2022-03-20T15:41:27.088233",
     "exception": false,
     "start_time": "2022-03-20T15:41:27.044224",
     "status": "completed"
    },
    "tags": []
   },
   "outputs": [],
   "source": [
    "class TransformerEncoder(layers.Layer):\n",
    "    def __init__(self, embed_dim, num_heads, feed_forward_dim, rate=0.1):\n",
    "        super().__init__()\n",
    "        self.attn = layers.MultiHeadAttention(num_heads=num_heads, key_dim=embed_dim)\n",
    "        self.ffn = keras.Sequential(\n",
    "            [\n",
    "                layers.Dense(feed_forward_dim, activation=\"relu\"),\n",
    "                layers.Dense(embed_dim),\n",
    "            ]\n",
    "        )\n",
    "        self.layernorm1 = layers.LayerNormalization(epsilon=1e-6)\n",
    "        self.layernorm2 = layers.LayerNormalization(epsilon=1e-6)\n",
    "        self.dropout1 = layers.Dropout(rate)\n",
    "        self.dropout2 = layers.Dropout(rate)\n",
    "\n",
    "    def call(self, inputs, training):\n",
    "        attn_output = self.attn(inputs, inputs)\n",
    "        attn_output = self.dropout1(attn_output, training=training)\n",
    "        out1 = self.layernorm1(inputs + attn_output)\n",
    "        ffn_output = self.ffn(out1)\n",
    "        ffn_output = self.dropout2(ffn_output, training=training)\n",
    "        return self.layernorm2(out1 + ffn_output)\n",
    "\n",
    "\n",
    "class Transformer(keras.Model):\n",
    "    def __init__(\n",
    "            self,\n",
    "            num_hid=64, # embed_dim - num of features\n",
    "            time_steps=7,\n",
    "            num_head = 2,\n",
    "            num_feed_forward=128, # pointwise dim\n",
    "            num_layers_enc = 4,\n",
    "            time_embedding = False,\n",
    "    ):\n",
    "        super().__init__()\n",
    "        self.num_hid = num_hid\n",
    "        if time_embedding:\n",
    "            self.num_hid += 2\n",
    "            self.tv = Time2Vector(time_steps)\n",
    "        else:\n",
    "            self.tv = None\n",
    "        self.numlayers_enc = num_layers_enc\n",
    "        self.enc_input = layers.Input((time_steps, self.num_hid))\n",
    "        self.encoder = keras.Sequential(\n",
    "            [self.enc_input]\n",
    "            + [\n",
    "                TransformerEncoder(self.num_hid, num_head, num_feed_forward)\n",
    "                for _ in range(num_layers_enc)\n",
    "            ]\n",
    "        )\n",
    "        self.GlobalAveragePooling1D = layers.GlobalAveragePooling1D(data_format='channels_last')\n",
    "        self.out = layers.Dense(units=1, activation='linear')        \n",
    "        self.concat = tf.keras.layers.Concatenate(axis=-1)\n",
    "        \n",
    "    def call(self, inputs):\n",
    "        if self.tv:\n",
    "            x = self.tv(inputs)\n",
    "            x = self.concat([inputs, x])\n",
    "            x = self.encoder(x)\n",
    "        else:\n",
    "            x = self.encoder(inputs)\n",
    "        x = self.GlobalAveragePooling1D(x)\n",
    "        y = self.out(x)\n",
    "        return y"
   ]
  },
  {
   "cell_type": "code",
   "execution_count": 9,
   "id": "58b9ab34",
   "metadata": {
    "execution": {
     "iopub.execute_input": "2022-03-20T15:41:27.143686Z",
     "iopub.status.busy": "2022-03-20T15:41:27.142835Z",
     "iopub.status.idle": "2022-03-20T15:41:27.145418Z",
     "shell.execute_reply": "2022-03-20T15:41:27.145873Z",
     "shell.execute_reply.started": "2022-03-19T17:48:51.063524Z"
    },
    "papermill": {
     "duration": 0.033169,
     "end_time": "2022-03-20T15:41:27.146058",
     "exception": false,
     "start_time": "2022-03-20T15:41:27.112889",
     "status": "completed"
    },
    "tags": []
   },
   "outputs": [],
   "source": [
    "seed = 47\n",
    "TIMESTEPS = 1\n",
    "warnings.filterwarnings(\"ignore\")"
   ]
  },
  {
   "cell_type": "markdown",
   "id": "e125100e",
   "metadata": {
    "papermill": {
     "duration": 0.023532,
     "end_time": "2022-03-20T15:41:27.193625",
     "exception": false,
     "start_time": "2022-03-20T15:41:27.170093",
     "status": "completed"
    },
    "tags": []
   },
   "source": [
    "# Reading the dataset"
   ]
  },
  {
   "cell_type": "code",
   "execution_count": 10,
   "id": "2441e814",
   "metadata": {
    "execution": {
     "iopub.execute_input": "2022-03-20T15:41:27.247192Z",
     "iopub.status.busy": "2022-03-20T15:41:27.246212Z",
     "iopub.status.idle": "2022-03-20T15:41:28.898687Z",
     "shell.execute_reply": "2022-03-20T15:41:28.897981Z",
     "shell.execute_reply.started": "2022-03-19T17:48:51.071494Z"
    },
    "papermill": {
     "duration": 1.681436,
     "end_time": "2022-03-20T15:41:28.898834",
     "exception": false,
     "start_time": "2022-03-20T15:41:27.217398",
     "status": "completed"
    },
    "tags": []
   },
   "outputs": [],
   "source": [
    "train_df = pd.read_csv(\"/kaggle/input/tabular-playground-series-mar-2022/train.csv\", sep=',')"
   ]
  },
  {
   "cell_type": "markdown",
   "id": "bd002585",
   "metadata": {
    "papermill": {
     "duration": 0.023483,
     "end_time": "2022-03-20T15:41:28.946913",
     "exception": false,
     "start_time": "2022-03-20T15:41:28.923430",
     "status": "completed"
    },
    "tags": []
   },
   "source": [
    "\n",
    "# Preprocessing\n"
   ]
  },
  {
   "cell_type": "code",
   "execution_count": 11,
   "id": "4e04b25e",
   "metadata": {
    "execution": {
     "iopub.execute_input": "2022-03-20T15:41:29.005188Z",
     "iopub.status.busy": "2022-03-20T15:41:29.004511Z",
     "iopub.status.idle": "2022-03-20T15:41:38.269209Z",
     "shell.execute_reply": "2022-03-20T15:41:38.268617Z",
     "shell.execute_reply.started": "2022-03-19T17:48:51.769309Z"
    },
    "papermill": {
     "duration": 9.298716,
     "end_time": "2022-03-20T15:41:38.269387",
     "exception": false,
     "start_time": "2022-03-20T15:41:28.970671",
     "status": "completed"
    },
    "tags": []
   },
   "outputs": [],
   "source": [
    "one_hot_encoder, train_df = label_encoder(train_df, 'direction')\n",
    "train_df = preprocess_dates(train_df)\n",
    "train_df = preprocess_holidays(train_df)\n",
    "train_df = preprocess_timeseries(train_df)\n",
    "x_train = train_df.drop(['row_id', 'time', 'congestion'], axis=1)\n",
    "y_train = train_df['congestion']\n",
    "x_train, x_test, y_train, y_test = train_test_split(x_train, y_train, test_size=0.2, random_state=seed, shuffle=False)"
   ]
  },
  {
   "cell_type": "markdown",
   "id": "bfc0ea49",
   "metadata": {
    "papermill": {
     "duration": 0.023566,
     "end_time": "2022-03-20T15:41:38.317334",
     "exception": false,
     "start_time": "2022-03-20T15:41:38.293768",
     "status": "completed"
    },
    "tags": []
   },
   "source": [
    "# Convert the data to 3D array shape"
   ]
  },
  {
   "cell_type": "code",
   "execution_count": 12,
   "id": "684c71b0",
   "metadata": {
    "execution": {
     "iopub.execute_input": "2022-03-20T15:41:38.368999Z",
     "iopub.status.busy": "2022-03-20T15:41:38.368381Z",
     "iopub.status.idle": "2022-03-20T15:41:40.427573Z",
     "shell.execute_reply": "2022-03-20T15:41:40.426918Z",
     "shell.execute_reply.started": "2022-03-19T17:48:59.073357Z"
    },
    "papermill": {
     "duration": 2.08658,
     "end_time": "2022-03-20T15:41:40.427755",
     "exception": false,
     "start_time": "2022-03-20T15:41:38.341175",
     "status": "completed"
    },
    "tags": []
   },
   "outputs": [],
   "source": [
    "x_train = np.append(x_train, y_train.values.reshape(-1, 1), axis=1)\n",
    "x_test = np.append(x_test, y_test.values.reshape(-1, 1), axis=1)\n",
    "x_train, y_train = split_sequences(x_train, TIMESTEPS)\n",
    "x_test, y_test = split_sequences(x_test, TIMESTEPS)"
   ]
  },
  {
   "cell_type": "markdown",
   "id": "f4beb40b",
   "metadata": {
    "papermill": {
     "duration": 0.024246,
     "end_time": "2022-03-20T15:41:40.477395",
     "exception": false,
     "start_time": "2022-03-20T15:41:40.453149",
     "status": "completed"
    },
    "tags": []
   },
   "source": [
    "# Transformer with TIME2VEC"
   ]
  },
  {
   "cell_type": "code",
   "execution_count": 13,
   "id": "fa784118",
   "metadata": {
    "execution": {
     "iopub.execute_input": "2022-03-20T15:41:40.535957Z",
     "iopub.status.busy": "2022-03-20T15:41:40.535197Z",
     "iopub.status.idle": "2022-03-20T17:16:40.654861Z",
     "shell.execute_reply": "2022-03-20T17:16:40.655584Z",
     "shell.execute_reply.started": "2022-03-19T17:49:00.944625Z"
    },
    "papermill": {
     "duration": 5700.154204,
     "end_time": "2022-03-20T17:16:40.656192",
     "exception": false,
     "start_time": "2022-03-20T15:41:40.501988",
     "status": "completed"
    },
    "tags": []
   },
   "outputs": [
    {
     "name": "stderr",
     "output_type": "stream",
     "text": [
      "2022-03-20 15:41:40.570003: I tensorflow/core/common_runtime/process_util.cc:146] Creating new thread pool with default inter op setting: 2. Tune using inter_op_parallelism_threads for best performance.\n",
      "2022-03-20 15:41:41.210422: I tensorflow/compiler/mlir/mlir_graph_optimization_pass.cc:185] None of the MLIR Optimization Passes are enabled (registered 2)\n"
     ]
    },
    {
     "name": "stdout",
     "output_type": "stream",
     "text": [
      "\n",
      "5306/5306 [==============================] - 16s 3ms/step - loss: 8.1444\n",
      "8.144418716430664\n"
     ]
    }
   ],
   "source": [
    "num_heads=2\n",
    "num_layers_enc=2\n",
    "num_feed_forward=64\n",
    "num_features = x_train.shape[-1]\n",
    "time_steps = TIMESTEPS\n",
    "epochs = 100\n",
    "batch_size = 128\n",
    "\n",
    "model = Transformer(num_hid=num_features,\n",
    "                        time_steps=time_steps,\n",
    "                        time_embedding=True,\n",
    "                        num_head=num_heads,\n",
    "                        num_layers_enc=num_layers_enc,\n",
    "                        num_feed_forward=num_feed_forward)\n",
    "\n",
    "opt = tf.keras.optimizers.Adam()\n",
    "loss = tf.keras.losses.MeanAbsoluteError()\n",
    "model.compile(optimizer=opt, loss=loss)\n",
    "model.fit(x_train, y_train, epochs=epochs, batch_size=batch_size, verbose=0)\n",
    "print()\n",
    "results = model.evaluate(x_test, y_test)\n",
    "print(results)"
   ]
  },
  {
   "cell_type": "markdown",
   "id": "d14b0aa6",
   "metadata": {
    "papermill": {
     "duration": 0.135631,
     "end_time": "2022-03-20T17:16:40.926463",
     "exception": false,
     "start_time": "2022-03-20T17:16:40.790832",
     "status": "completed"
    },
    "tags": []
   },
   "source": [
    "# Submission"
   ]
  },
  {
   "cell_type": "code",
   "execution_count": 14,
   "id": "707b9eb8",
   "metadata": {
    "execution": {
     "iopub.execute_input": "2022-03-20T17:16:41.712747Z",
     "iopub.status.busy": "2022-03-20T17:16:41.711756Z",
     "iopub.status.idle": "2022-03-20T17:16:41.728115Z",
     "shell.execute_reply": "2022-03-20T17:16:41.728635Z",
     "shell.execute_reply.started": "2022-03-19T18:57:43.988277Z"
    },
    "papermill": {
     "duration": 0.667134,
     "end_time": "2022-03-20T17:16:41.728841",
     "exception": false,
     "start_time": "2022-03-20T17:16:41.061707",
     "status": "completed"
    },
    "tags": []
   },
   "outputs": [
    {
     "data": {
      "text/plain": [
       "2982"
      ]
     },
     "execution_count": 14,
     "metadata": {},
     "output_type": "execute_result"
    }
   ],
   "source": [
    "del train_df, x_train, y_train, x_test, y_test\n",
    "gc.collect()"
   ]
  },
  {
   "cell_type": "code",
   "execution_count": 15,
   "id": "8b7b9e97",
   "metadata": {
    "execution": {
     "iopub.execute_input": "2022-03-20T17:16:42.010596Z",
     "iopub.status.busy": "2022-03-20T17:16:42.009825Z",
     "iopub.status.idle": "2022-03-20T17:16:42.027618Z",
     "shell.execute_reply": "2022-03-20T17:16:42.026789Z",
     "shell.execute_reply.started": "2022-03-19T18:57:44.167152Z"
    },
    "papermill": {
     "duration": 0.161081,
     "end_time": "2022-03-20T17:16:42.027808",
     "exception": false,
     "start_time": "2022-03-20T17:16:41.866727",
     "status": "completed"
    },
    "tags": []
   },
   "outputs": [],
   "source": [
    "test_df = pd.read_csv(\"/kaggle/input/tabular-playground-series-mar-2022/test.csv\", sep=',')"
   ]
  },
  {
   "cell_type": "code",
   "execution_count": 16,
   "id": "0c8ef2ac",
   "metadata": {
    "execution": {
     "iopub.execute_input": "2022-03-20T17:16:42.315305Z",
     "iopub.status.busy": "2022-03-20T17:16:42.313972Z",
     "iopub.status.idle": "2022-03-20T17:16:42.354547Z",
     "shell.execute_reply": "2022-03-20T17:16:42.353876Z",
     "shell.execute_reply.started": "2022-03-19T18:57:44.186898Z"
    },
    "papermill": {
     "duration": 0.189756,
     "end_time": "2022-03-20T17:16:42.354721",
     "exception": false,
     "start_time": "2022-03-20T17:16:42.164965",
     "status": "completed"
    },
    "tags": []
   },
   "outputs": [],
   "source": [
    "_, test_df = label_encoder(test_df, 'direction', one_hot_encoder)\n",
    "test_df = preprocess_dates(test_df)\n",
    "test_df = preprocess_holidays(test_df)\n",
    "test_df = preprocess_timeseries(test_df)\n",
    "x_test = test_df.drop(['row_id', 'time'], axis=1)\n",
    "x_test = np.append(x_test, np.ones((x_test.shape[0], 1)), axis=1)\n",
    "x_test, _ = split_sequences(x_test, TIMESTEPS)"
   ]
  },
  {
   "cell_type": "code",
   "execution_count": 17,
   "id": "4660388f",
   "metadata": {
    "execution": {
     "iopub.execute_input": "2022-03-20T17:16:42.644209Z",
     "iopub.status.busy": "2022-03-20T17:16:42.634813Z",
     "iopub.status.idle": "2022-03-20T17:16:43.280197Z",
     "shell.execute_reply": "2022-03-20T17:16:43.279488Z",
     "shell.execute_reply.started": "2022-03-19T18:57:44.23023Z"
    },
    "papermill": {
     "duration": 0.78758,
     "end_time": "2022-03-20T17:16:43.280389",
     "exception": false,
     "start_time": "2022-03-20T17:16:42.492809",
     "status": "completed"
    },
    "tags": []
   },
   "outputs": [],
   "source": [
    "target = model.predict(x_test).squeeze()\n",
    "row_id =  test_df['row_id'].values\n",
    "submission = pd.DataFrame({'row_id' : row_id, 'congestion' : target})"
   ]
  },
  {
   "cell_type": "code",
   "execution_count": 18,
   "id": "d28a63f9",
   "metadata": {
    "execution": {
     "iopub.execute_input": "2022-03-20T17:16:43.558714Z",
     "iopub.status.busy": "2022-03-20T17:16:43.557969Z",
     "iopub.status.idle": "2022-03-20T17:16:43.573321Z",
     "shell.execute_reply": "2022-03-20T17:16:43.573846Z",
     "shell.execute_reply.started": "2022-03-19T18:57:44.754455Z"
    },
    "papermill": {
     "duration": 0.155955,
     "end_time": "2022-03-20T17:16:43.574053",
     "exception": false,
     "start_time": "2022-03-20T17:16:43.418098",
     "status": "completed"
    },
    "tags": []
   },
   "outputs": [
    {
     "data": {
      "text/html": [
       "<div>\n",
       "<style scoped>\n",
       "    .dataframe tbody tr th:only-of-type {\n",
       "        vertical-align: middle;\n",
       "    }\n",
       "\n",
       "    .dataframe tbody tr th {\n",
       "        vertical-align: top;\n",
       "    }\n",
       "\n",
       "    .dataframe thead th {\n",
       "        text-align: right;\n",
       "    }\n",
       "</style>\n",
       "<table border=\"1\" class=\"dataframe\">\n",
       "  <thead>\n",
       "    <tr style=\"text-align: right;\">\n",
       "      <th></th>\n",
       "      <th>row_id</th>\n",
       "      <th>congestion</th>\n",
       "    </tr>\n",
       "  </thead>\n",
       "  <tbody>\n",
       "    <tr>\n",
       "      <th>0</th>\n",
       "      <td>848835</td>\n",
       "      <td>49.407795</td>\n",
       "    </tr>\n",
       "    <tr>\n",
       "      <th>1</th>\n",
       "      <td>848836</td>\n",
       "      <td>41.479584</td>\n",
       "    </tr>\n",
       "    <tr>\n",
       "      <th>2</th>\n",
       "      <td>848837</td>\n",
       "      <td>53.653522</td>\n",
       "    </tr>\n",
       "    <tr>\n",
       "      <th>3</th>\n",
       "      <td>848838</td>\n",
       "      <td>25.798189</td>\n",
       "    </tr>\n",
       "    <tr>\n",
       "      <th>4</th>\n",
       "      <td>848839</td>\n",
       "      <td>72.073982</td>\n",
       "    </tr>\n",
       "  </tbody>\n",
       "</table>\n",
       "</div>"
      ],
      "text/plain": [
       "   row_id  congestion\n",
       "0  848835   49.407795\n",
       "1  848836   41.479584\n",
       "2  848837   53.653522\n",
       "3  848838   25.798189\n",
       "4  848839   72.073982"
      ]
     },
     "execution_count": 18,
     "metadata": {},
     "output_type": "execute_result"
    }
   ],
   "source": [
    "submission.head()"
   ]
  },
  {
   "cell_type": "code",
   "execution_count": 19,
   "id": "11844c7a",
   "metadata": {
    "execution": {
     "iopub.execute_input": "2022-03-20T17:16:43.849713Z",
     "iopub.status.busy": "2022-03-20T17:16:43.848981Z",
     "iopub.status.idle": "2022-03-20T17:16:43.864173Z",
     "shell.execute_reply": "2022-03-20T17:16:43.864791Z",
     "shell.execute_reply.started": "2022-03-19T18:57:44.769991Z"
    },
    "papermill": {
     "duration": 0.155436,
     "end_time": "2022-03-20T17:16:43.865003",
     "exception": false,
     "start_time": "2022-03-20T17:16:43.709567",
     "status": "completed"
    },
    "tags": []
   },
   "outputs": [],
   "source": [
    "submission.to_csv('submission.csv', index=False)"
   ]
  },
  {
   "cell_type": "code",
   "execution_count": null,
   "id": "dcf5de55",
   "metadata": {
    "papermill": {
     "duration": 0.135914,
     "end_time": "2022-03-20T17:16:44.139062",
     "exception": false,
     "start_time": "2022-03-20T17:16:44.003148",
     "status": "completed"
    },
    "tags": []
   },
   "outputs": [],
   "source": []
  }
 ],
 "metadata": {
  "kernelspec": {
   "display_name": "Python 3",
   "language": "python",
   "name": "python3"
  },
  "language_info": {
   "codemirror_mode": {
    "name": "ipython",
    "version": 3
   },
   "file_extension": ".py",
   "mimetype": "text/x-python",
   "name": "python",
   "nbconvert_exporter": "python",
   "pygments_lexer": "ipython3",
   "version": "3.7.12"
  },
  "papermill": {
   "default_parameters": {},
   "duration": 5739.457826,
   "end_time": "2022-03-20T17:16:47.515830",
   "environment_variables": {},
   "exception": null,
   "input_path": "__notebook__.ipynb",
   "output_path": "__notebook__.ipynb",
   "parameters": {},
   "start_time": "2022-03-20T15:41:08.058004",
   "version": "2.3.3"
  }
 },
 "nbformat": 4,
 "nbformat_minor": 5
}
