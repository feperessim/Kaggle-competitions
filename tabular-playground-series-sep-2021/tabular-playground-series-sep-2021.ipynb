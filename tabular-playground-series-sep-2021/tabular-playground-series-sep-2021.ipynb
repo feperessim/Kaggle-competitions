{
 "cells": [
  {
   "cell_type": "code",
   "execution_count": 1,
   "id": "4ca3e586",
   "metadata": {
    "_cell_guid": "b1076dfc-b9ad-4769-8c92-a6c4dae69d19",
    "_uuid": "8f2839f25d086af736a60e9eeb907d3b93b6e0e5",
    "execution": {
     "iopub.execute_input": "2021-09-04T20:18:14.672123Z",
     "iopub.status.busy": "2021-09-04T20:18:14.670563Z",
     "iopub.status.idle": "2021-09-04T20:18:14.683417Z",
     "shell.execute_reply": "2021-09-04T20:18:14.684387Z",
     "shell.execute_reply.started": "2021-09-04T15:41:48.419050Z"
    },
    "papermill": {
     "duration": 0.076449,
     "end_time": "2021-09-04T20:18:14.684796",
     "exception": false,
     "start_time": "2021-09-04T20:18:14.608347",
     "status": "completed"
    },
    "tags": []
   },
   "outputs": [
    {
     "name": "stdout",
     "output_type": "stream",
     "text": [
      "/kaggle/input/tabular-playground-series-sep-2021/train.csv\n",
      "/kaggle/input/tabular-playground-series-sep-2021/test.csv\n",
      "/kaggle/input/tabular-playground-series-sep-2021/sample_solution.csv\n"
     ]
    }
   ],
   "source": [
    "# This Python 3 environment comes with many helpful analytics libraries installed\n",
    "# It is defined by the kaggle/python Docker image: https://github.com/kaggle/docker-python\n",
    "# For example, here's several helpful packages to load\n",
    "\n",
    "import numpy as np # linear algebra\n",
    "import pandas as pd # data processing, CSV file I/O (e.g. pd.read_csv)\n",
    "\n",
    "# Input data files are available in the read-only \"../input/\" directory\n",
    "# For example, running this (by clicking run or pressing Shift+Enter) will list all files under the input directory\n",
    "\n",
    "import os\n",
    "for dirname, _, filenames in os.walk('/kaggle/input'):\n",
    "    for filename in filenames:\n",
    "        print(os.path.join(dirname, filename))\n",
    "\n",
    "# You can write up to 20GB to the current directory (/kaggle/working/) that gets preserved as output when you create a version using \"Save & Run All\" \n",
    "# You can also write temporary files to /kaggle/temp/, but they won't be saved outside of the current session"
   ]
  },
  {
   "cell_type": "code",
   "execution_count": 2,
   "id": "0d26ef70",
   "metadata": {
    "execution": {
     "iopub.execute_input": "2021-09-04T20:18:14.802277Z",
     "iopub.status.busy": "2021-09-04T20:18:14.801528Z",
     "iopub.status.idle": "2021-09-04T20:18:16.023381Z",
     "shell.execute_reply": "2021-09-04T20:18:16.022873Z",
     "shell.execute_reply.started": "2021-09-04T15:41:58.254738Z"
    },
    "papermill": {
     "duration": 1.282811,
     "end_time": "2021-09-04T20:18:16.023502",
     "exception": false,
     "start_time": "2021-09-04T20:18:14.740691",
     "status": "completed"
    },
    "tags": []
   },
   "outputs": [],
   "source": [
    "import matplotlib.pyplot as plt\n",
    "import seaborn as sns\n",
    "\n",
    "from sklearn.feature_selection import mutual_info_classif\n",
    "from sklearn.linear_model import LogisticRegression\n",
    "from sklearn.preprocessing import StandardScaler\n",
    "from sklearn.impute import SimpleImputer\n",
    "from sklearn.model_selection import train_test_split, KFold, GridSearchCV\n",
    "from sklearn.metrics import accuracy_score, roc_auc_score\n",
    "\n",
    "from xgboost import XGBClassifier"
   ]
  },
  {
   "cell_type": "code",
   "execution_count": 3,
   "id": "d0746cb0",
   "metadata": {
    "execution": {
     "iopub.execute_input": "2021-09-04T20:18:16.146458Z",
     "iopub.status.busy": "2021-09-04T20:18:16.145098Z",
     "iopub.status.idle": "2021-09-04T20:18:16.147932Z",
     "shell.execute_reply": "2021-09-04T20:18:16.147498Z",
     "shell.execute_reply.started": "2021-09-04T18:34:08.078795Z"
    },
    "papermill": {
     "duration": 0.065265,
     "end_time": "2021-09-04T20:18:16.148047",
     "exception": false,
     "start_time": "2021-09-04T20:18:16.082782",
     "status": "completed"
    },
    "tags": []
   },
   "outputs": [],
   "source": [
    "import warnings\n",
    "warnings.filterwarnings('ignore')"
   ]
  },
  {
   "cell_type": "code",
   "execution_count": 4,
   "id": "a2933a6d",
   "metadata": {
    "execution": {
     "iopub.execute_input": "2021-09-04T20:18:16.267684Z",
     "iopub.status.busy": "2021-09-04T20:18:16.267142Z",
     "iopub.status.idle": "2021-09-04T20:18:43.587214Z",
     "shell.execute_reply": "2021-09-04T20:18:43.586752Z",
     "shell.execute_reply.started": "2021-09-04T15:41:59.790247Z"
    },
    "papermill": {
     "duration": 27.381548,
     "end_time": "2021-09-04T20:18:43.587341",
     "exception": false,
     "start_time": "2021-09-04T20:18:16.205793",
     "status": "completed"
    },
    "tags": []
   },
   "outputs": [],
   "source": [
    "df_train =  pd.read_csv('/kaggle/input/tabular-playground-series-sep-2021/train.csv')"
   ]
  },
  {
   "cell_type": "markdown",
   "id": "4ca7b631",
   "metadata": {
    "papermill": {
     "duration": 0.055217,
     "end_time": "2021-09-04T20:18:43.699715",
     "exception": false,
     "start_time": "2021-09-04T20:18:43.644498",
     "status": "completed"
    },
    "tags": []
   },
   "source": [
    "# Exploratory Data Analyses - EDA\n",
    "\n",
    "At first, lets do some EDA to get more acquainted with the dataset"
   ]
  },
  {
   "cell_type": "markdown",
   "id": "2de0610a",
   "metadata": {
    "papermill": {
     "duration": 0.055171,
     "end_time": "2021-09-04T20:18:43.810449",
     "exception": false,
     "start_time": "2021-09-04T20:18:43.755278",
     "status": "completed"
    },
    "tags": []
   },
   "source": [
    "Lets get some basic information about the dataset.\n",
    "\n",
    "1 - Look at some samples with head function;\n",
    "\n",
    "2 - Check how much rows does it has and also the data type of each of them;\n",
    "\n",
    "3 - Look at some central tendency metrics."
   ]
  },
  {
   "cell_type": "code",
   "execution_count": 5,
   "id": "141f2a1e",
   "metadata": {
    "execution": {
     "iopub.execute_input": "2021-09-04T20:18:43.934546Z",
     "iopub.status.busy": "2021-09-04T20:18:43.934013Z",
     "iopub.status.idle": "2021-09-04T20:18:43.963210Z",
     "shell.execute_reply": "2021-09-04T20:18:43.962751Z",
     "shell.execute_reply.started": "2021-09-03T17:23:31.651485Z"
    },
    "papermill": {
     "duration": 0.097014,
     "end_time": "2021-09-04T20:18:43.963339",
     "exception": false,
     "start_time": "2021-09-04T20:18:43.866325",
     "status": "completed"
    },
    "tags": []
   },
   "outputs": [
    {
     "data": {
      "text/html": [
       "<div>\n",
       "<style scoped>\n",
       "    .dataframe tbody tr th:only-of-type {\n",
       "        vertical-align: middle;\n",
       "    }\n",
       "\n",
       "    .dataframe tbody tr th {\n",
       "        vertical-align: top;\n",
       "    }\n",
       "\n",
       "    .dataframe thead th {\n",
       "        text-align: right;\n",
       "    }\n",
       "</style>\n",
       "<table border=\"1\" class=\"dataframe\">\n",
       "  <thead>\n",
       "    <tr style=\"text-align: right;\">\n",
       "      <th></th>\n",
       "      <th>id</th>\n",
       "      <th>f1</th>\n",
       "      <th>f2</th>\n",
       "      <th>f3</th>\n",
       "      <th>f4</th>\n",
       "      <th>f5</th>\n",
       "      <th>f6</th>\n",
       "      <th>f7</th>\n",
       "      <th>f8</th>\n",
       "      <th>f9</th>\n",
       "      <th>...</th>\n",
       "      <th>f110</th>\n",
       "      <th>f111</th>\n",
       "      <th>f112</th>\n",
       "      <th>f113</th>\n",
       "      <th>f114</th>\n",
       "      <th>f115</th>\n",
       "      <th>f116</th>\n",
       "      <th>f117</th>\n",
       "      <th>f118</th>\n",
       "      <th>claim</th>\n",
       "    </tr>\n",
       "  </thead>\n",
       "  <tbody>\n",
       "    <tr>\n",
       "      <th>0</th>\n",
       "      <td>0</td>\n",
       "      <td>0.10859</td>\n",
       "      <td>0.004314</td>\n",
       "      <td>-37.566</td>\n",
       "      <td>0.017364</td>\n",
       "      <td>0.28915</td>\n",
       "      <td>-10.25100</td>\n",
       "      <td>135.12</td>\n",
       "      <td>168900.0</td>\n",
       "      <td>3.992400e+14</td>\n",
       "      <td>...</td>\n",
       "      <td>-12.2280</td>\n",
       "      <td>1.7482</td>\n",
       "      <td>1.90960</td>\n",
       "      <td>-7.11570</td>\n",
       "      <td>4378.80</td>\n",
       "      <td>1.2096</td>\n",
       "      <td>8.613400e+14</td>\n",
       "      <td>140.1</td>\n",
       "      <td>1.01770</td>\n",
       "      <td>1</td>\n",
       "    </tr>\n",
       "    <tr>\n",
       "      <th>1</th>\n",
       "      <td>1</td>\n",
       "      <td>0.10090</td>\n",
       "      <td>0.299610</td>\n",
       "      <td>11822.000</td>\n",
       "      <td>0.276500</td>\n",
       "      <td>0.45970</td>\n",
       "      <td>-0.83733</td>\n",
       "      <td>1721.90</td>\n",
       "      <td>119810.0</td>\n",
       "      <td>3.874100e+15</td>\n",
       "      <td>...</td>\n",
       "      <td>-56.7580</td>\n",
       "      <td>4.1684</td>\n",
       "      <td>0.34808</td>\n",
       "      <td>4.14200</td>\n",
       "      <td>913.23</td>\n",
       "      <td>1.2464</td>\n",
       "      <td>7.575100e+15</td>\n",
       "      <td>1861.0</td>\n",
       "      <td>0.28359</td>\n",
       "      <td>0</td>\n",
       "    </tr>\n",
       "    <tr>\n",
       "      <th>2</th>\n",
       "      <td>2</td>\n",
       "      <td>0.17803</td>\n",
       "      <td>-0.006980</td>\n",
       "      <td>907.270</td>\n",
       "      <td>0.272140</td>\n",
       "      <td>0.45948</td>\n",
       "      <td>0.17327</td>\n",
       "      <td>2298.00</td>\n",
       "      <td>360650.0</td>\n",
       "      <td>1.224500e+13</td>\n",
       "      <td>...</td>\n",
       "      <td>-5.7688</td>\n",
       "      <td>1.2042</td>\n",
       "      <td>0.26290</td>\n",
       "      <td>8.13120</td>\n",
       "      <td>45119.00</td>\n",
       "      <td>1.1764</td>\n",
       "      <td>3.218100e+14</td>\n",
       "      <td>3838.2</td>\n",
       "      <td>0.40690</td>\n",
       "      <td>1</td>\n",
       "    </tr>\n",
       "    <tr>\n",
       "      <th>3</th>\n",
       "      <td>3</td>\n",
       "      <td>0.15236</td>\n",
       "      <td>0.007259</td>\n",
       "      <td>780.100</td>\n",
       "      <td>0.025179</td>\n",
       "      <td>0.51947</td>\n",
       "      <td>7.49140</td>\n",
       "      <td>112.51</td>\n",
       "      <td>259490.0</td>\n",
       "      <td>7.781400e+13</td>\n",
       "      <td>...</td>\n",
       "      <td>-34.8580</td>\n",
       "      <td>2.0694</td>\n",
       "      <td>0.79631</td>\n",
       "      <td>-16.33600</td>\n",
       "      <td>4952.40</td>\n",
       "      <td>1.1784</td>\n",
       "      <td>4.533000e+12</td>\n",
       "      <td>4889.1</td>\n",
       "      <td>0.51486</td>\n",
       "      <td>1</td>\n",
       "    </tr>\n",
       "    <tr>\n",
       "      <th>4</th>\n",
       "      <td>4</td>\n",
       "      <td>0.11623</td>\n",
       "      <td>0.502900</td>\n",
       "      <td>-109.150</td>\n",
       "      <td>0.297910</td>\n",
       "      <td>0.34490</td>\n",
       "      <td>-0.40932</td>\n",
       "      <td>2538.90</td>\n",
       "      <td>65332.0</td>\n",
       "      <td>1.907200e+15</td>\n",
       "      <td>...</td>\n",
       "      <td>-13.6410</td>\n",
       "      <td>1.5298</td>\n",
       "      <td>1.14640</td>\n",
       "      <td>-0.43124</td>\n",
       "      <td>3856.50</td>\n",
       "      <td>1.4830</td>\n",
       "      <td>-8.991300e+12</td>\n",
       "      <td>NaN</td>\n",
       "      <td>0.23049</td>\n",
       "      <td>1</td>\n",
       "    </tr>\n",
       "  </tbody>\n",
       "</table>\n",
       "<p>5 rows × 120 columns</p>\n",
       "</div>"
      ],
      "text/plain": [
       "   id       f1        f2         f3        f4       f5        f6       f7  \\\n",
       "0   0  0.10859  0.004314    -37.566  0.017364  0.28915 -10.25100   135.12   \n",
       "1   1  0.10090  0.299610  11822.000  0.276500  0.45970  -0.83733  1721.90   \n",
       "2   2  0.17803 -0.006980    907.270  0.272140  0.45948   0.17327  2298.00   \n",
       "3   3  0.15236  0.007259    780.100  0.025179  0.51947   7.49140   112.51   \n",
       "4   4  0.11623  0.502900   -109.150  0.297910  0.34490  -0.40932  2538.90   \n",
       "\n",
       "         f8            f9  ...     f110    f111     f112      f113      f114  \\\n",
       "0  168900.0  3.992400e+14  ... -12.2280  1.7482  1.90960  -7.11570   4378.80   \n",
       "1  119810.0  3.874100e+15  ... -56.7580  4.1684  0.34808   4.14200    913.23   \n",
       "2  360650.0  1.224500e+13  ...  -5.7688  1.2042  0.26290   8.13120  45119.00   \n",
       "3  259490.0  7.781400e+13  ... -34.8580  2.0694  0.79631 -16.33600   4952.40   \n",
       "4   65332.0  1.907200e+15  ... -13.6410  1.5298  1.14640  -0.43124   3856.50   \n",
       "\n",
       "     f115          f116    f117     f118  claim  \n",
       "0  1.2096  8.613400e+14   140.1  1.01770      1  \n",
       "1  1.2464  7.575100e+15  1861.0  0.28359      0  \n",
       "2  1.1764  3.218100e+14  3838.2  0.40690      1  \n",
       "3  1.1784  4.533000e+12  4889.1  0.51486      1  \n",
       "4  1.4830 -8.991300e+12     NaN  0.23049      1  \n",
       "\n",
       "[5 rows x 120 columns]"
      ]
     },
     "execution_count": 5,
     "metadata": {},
     "output_type": "execute_result"
    }
   ],
   "source": [
    "df_train.head()"
   ]
  },
  {
   "cell_type": "code",
   "execution_count": 6,
   "id": "6bc67af1",
   "metadata": {
    "execution": {
     "iopub.execute_input": "2021-09-04T20:18:44.096588Z",
     "iopub.status.busy": "2021-09-04T20:18:44.096009Z",
     "iopub.status.idle": "2021-09-04T20:18:44.100911Z",
     "shell.execute_reply": "2021-09-04T20:18:44.101595Z",
     "shell.execute_reply.started": "2021-09-03T17:23:31.699290Z"
    },
    "papermill": {
     "duration": 0.081126,
     "end_time": "2021-09-04T20:18:44.101807",
     "exception": false,
     "start_time": "2021-09-04T20:18:44.020681",
     "status": "completed"
    },
    "tags": []
   },
   "outputs": [
    {
     "name": "stdout",
     "output_type": "stream",
     "text": [
      "<class 'pandas.core.frame.DataFrame'>\n",
      "RangeIndex: 957919 entries, 0 to 957918\n",
      "Columns: 120 entries, id to claim\n",
      "dtypes: float64(118), int64(2)\n",
      "memory usage: 877.0 MB\n"
     ]
    }
   ],
   "source": [
    "df_train.info()"
   ]
  },
  {
   "cell_type": "code",
   "execution_count": 7,
   "id": "76d72f21",
   "metadata": {
    "execution": {
     "iopub.execute_input": "2021-09-04T20:18:44.220511Z",
     "iopub.status.busy": "2021-09-04T20:18:44.219943Z",
     "iopub.status.idle": "2021-09-04T20:18:44.224420Z",
     "shell.execute_reply": "2021-09-04T20:18:44.224008Z",
     "shell.execute_reply.started": "2021-09-03T17:23:31.726386Z"
    },
    "papermill": {
     "duration": 0.065284,
     "end_time": "2021-09-04T20:18:44.224534",
     "exception": false,
     "start_time": "2021-09-04T20:18:44.159250",
     "status": "completed"
    },
    "tags": []
   },
   "outputs": [
    {
     "name": "stdout",
     "output_type": "stream",
     "text": [
      "Dataset shape:  (957919, 120)\n"
     ]
    }
   ],
   "source": [
    "print('Dataset shape: ', df_train.shape )"
   ]
  },
  {
   "cell_type": "code",
   "execution_count": 8,
   "id": "24eb39ba",
   "metadata": {
    "execution": {
     "iopub.execute_input": "2021-09-04T20:18:44.603901Z",
     "iopub.status.busy": "2021-09-04T20:18:44.603076Z",
     "iopub.status.idle": "2021-09-04T20:18:48.355249Z",
     "shell.execute_reply": "2021-09-04T20:18:48.354811Z",
     "shell.execute_reply.started": "2021-09-03T17:23:31.738182Z"
    },
    "papermill": {
     "duration": 4.073714,
     "end_time": "2021-09-04T20:18:48.355373",
     "exception": false,
     "start_time": "2021-09-04T20:18:44.281659",
     "status": "completed"
    },
    "tags": []
   },
   "outputs": [
    {
     "data": {
      "text/html": [
       "<div>\n",
       "<style scoped>\n",
       "    .dataframe tbody tr th:only-of-type {\n",
       "        vertical-align: middle;\n",
       "    }\n",
       "\n",
       "    .dataframe tbody tr th {\n",
       "        vertical-align: top;\n",
       "    }\n",
       "\n",
       "    .dataframe thead th {\n",
       "        text-align: right;\n",
       "    }\n",
       "</style>\n",
       "<table border=\"1\" class=\"dataframe\">\n",
       "  <thead>\n",
       "    <tr style=\"text-align: right;\">\n",
       "      <th></th>\n",
       "      <th>id</th>\n",
       "      <th>f1</th>\n",
       "      <th>f2</th>\n",
       "      <th>f3</th>\n",
       "      <th>f4</th>\n",
       "      <th>f5</th>\n",
       "      <th>f6</th>\n",
       "      <th>f7</th>\n",
       "      <th>f8</th>\n",
       "      <th>f9</th>\n",
       "      <th>...</th>\n",
       "      <th>f110</th>\n",
       "      <th>f111</th>\n",
       "      <th>f112</th>\n",
       "      <th>f113</th>\n",
       "      <th>f114</th>\n",
       "      <th>f115</th>\n",
       "      <th>f116</th>\n",
       "      <th>f117</th>\n",
       "      <th>f118</th>\n",
       "      <th>claim</th>\n",
       "    </tr>\n",
       "  </thead>\n",
       "  <tbody>\n",
       "    <tr>\n",
       "      <th>count</th>\n",
       "      <td>957919.000000</td>\n",
       "      <td>942672.000000</td>\n",
       "      <td>942729.000000</td>\n",
       "      <td>942428.000000</td>\n",
       "      <td>942359.000000</td>\n",
       "      <td>942514.000000</td>\n",
       "      <td>942398.000000</td>\n",
       "      <td>942415.000000</td>\n",
       "      <td>9.425460e+05</td>\n",
       "      <td>9.426700e+05</td>\n",
       "      <td>...</td>\n",
       "      <td>942554.000000</td>\n",
       "      <td>942420.000000</td>\n",
       "      <td>942509.000000</td>\n",
       "      <td>942686.000000</td>\n",
       "      <td>942481.000000</td>\n",
       "      <td>942360.000000</td>\n",
       "      <td>9.423300e+05</td>\n",
       "      <td>942512.000000</td>\n",
       "      <td>942707.000000</td>\n",
       "      <td>957919.000000</td>\n",
       "    </tr>\n",
       "    <tr>\n",
       "      <th>mean</th>\n",
       "      <td>478959.000000</td>\n",
       "      <td>0.090201</td>\n",
       "      <td>0.345964</td>\n",
       "      <td>4068.744207</td>\n",
       "      <td>0.201214</td>\n",
       "      <td>0.304869</td>\n",
       "      <td>-0.071458</td>\n",
       "      <td>1620.843815</td>\n",
       "      <td>3.771642e+05</td>\n",
       "      <td>1.806054e+15</td>\n",
       "      <td>...</td>\n",
       "      <td>-19.926398</td>\n",
       "      <td>2.074530</td>\n",
       "      <td>23.885245</td>\n",
       "      <td>1.748777</td>\n",
       "      <td>63152.973540</td>\n",
       "      <td>1.208876</td>\n",
       "      <td>4.276905e+16</td>\n",
       "      <td>3959.204669</td>\n",
       "      <td>0.559267</td>\n",
       "      <td>0.498492</td>\n",
       "    </tr>\n",
       "    <tr>\n",
       "      <th>std</th>\n",
       "      <td>276527.540591</td>\n",
       "      <td>0.043564</td>\n",
       "      <td>0.146251</td>\n",
       "      <td>6415.829440</td>\n",
       "      <td>0.212510</td>\n",
       "      <td>0.145343</td>\n",
       "      <td>2.123777</td>\n",
       "      <td>1276.281403</td>\n",
       "      <td>3.454325e+05</td>\n",
       "      <td>2.335204e+15</td>\n",
       "      <td>...</td>\n",
       "      <td>18.578439</td>\n",
       "      <td>0.895793</td>\n",
       "      <td>45.581360</td>\n",
       "      <td>10.088848</td>\n",
       "      <td>92435.016241</td>\n",
       "      <td>0.114959</td>\n",
       "      <td>6.732441e+16</td>\n",
       "      <td>3155.991777</td>\n",
       "      <td>0.408426</td>\n",
       "      <td>0.499998</td>\n",
       "    </tr>\n",
       "    <tr>\n",
       "      <th>min</th>\n",
       "      <td>0.000000</td>\n",
       "      <td>-0.149910</td>\n",
       "      <td>-0.019044</td>\n",
       "      <td>-9421.700000</td>\n",
       "      <td>-0.082122</td>\n",
       "      <td>-0.006990</td>\n",
       "      <td>-12.791000</td>\n",
       "      <td>-224.800000</td>\n",
       "      <td>-2.984300e+04</td>\n",
       "      <td>-1.153300e+15</td>\n",
       "      <td>...</td>\n",
       "      <td>-105.860000</td>\n",
       "      <td>0.277040</td>\n",
       "      <td>-27.691000</td>\n",
       "      <td>-26.589000</td>\n",
       "      <td>-81977.000000</td>\n",
       "      <td>0.905270</td>\n",
       "      <td>-8.944400e+15</td>\n",
       "      <td>-415.240000</td>\n",
       "      <td>-0.151240</td>\n",
       "      <td>0.000000</td>\n",
       "    </tr>\n",
       "    <tr>\n",
       "      <th>25%</th>\n",
       "      <td>239479.500000</td>\n",
       "      <td>0.070227</td>\n",
       "      <td>0.283050</td>\n",
       "      <td>418.430000</td>\n",
       "      <td>0.035086</td>\n",
       "      <td>0.240520</td>\n",
       "      <td>-1.120700</td>\n",
       "      <td>481.545000</td>\n",
       "      <td>9.120900e+04</td>\n",
       "      <td>1.153100e+13</td>\n",
       "      <td>...</td>\n",
       "      <td>-28.812000</td>\n",
       "      <td>1.487700</td>\n",
       "      <td>-0.628880</td>\n",
       "      <td>-4.473975</td>\n",
       "      <td>2443.200000</td>\n",
       "      <td>1.146800</td>\n",
       "      <td>2.321100e+14</td>\n",
       "      <td>1306.200000</td>\n",
       "      <td>0.276560</td>\n",
       "      <td>0.000000</td>\n",
       "    </tr>\n",
       "    <tr>\n",
       "      <th>50%</th>\n",
       "      <td>478959.000000</td>\n",
       "      <td>0.090135</td>\n",
       "      <td>0.389100</td>\n",
       "      <td>1279.500000</td>\n",
       "      <td>0.137000</td>\n",
       "      <td>0.327790</td>\n",
       "      <td>-0.380110</td>\n",
       "      <td>1446.100000</td>\n",
       "      <td>2.896700e+05</td>\n",
       "      <td>5.043050e+14</td>\n",
       "      <td>...</td>\n",
       "      <td>-14.636000</td>\n",
       "      <td>1.662100</td>\n",
       "      <td>1.727700</td>\n",
       "      <td>0.885710</td>\n",
       "      <td>19479.000000</td>\n",
       "      <td>1.177200</td>\n",
       "      <td>1.327500e+16</td>\n",
       "      <td>3228.000000</td>\n",
       "      <td>0.473440</td>\n",
       "      <td>0.000000</td>\n",
       "    </tr>\n",
       "    <tr>\n",
       "      <th>75%</th>\n",
       "      <td>718438.500000</td>\n",
       "      <td>0.116500</td>\n",
       "      <td>0.458450</td>\n",
       "      <td>4444.400000</td>\n",
       "      <td>0.297100</td>\n",
       "      <td>0.412830</td>\n",
       "      <td>0.921940</td>\n",
       "      <td>2495.900000</td>\n",
       "      <td>5.605600e+05</td>\n",
       "      <td>3.103100e+15</td>\n",
       "      <td>...</td>\n",
       "      <td>-5.325300</td>\n",
       "      <td>2.522325</td>\n",
       "      <td>18.991000</td>\n",
       "      <td>6.840775</td>\n",
       "      <td>88488.000000</td>\n",
       "      <td>1.242000</td>\n",
       "      <td>5.278700e+16</td>\n",
       "      <td>6137.900000</td>\n",
       "      <td>0.746210</td>\n",
       "      <td>1.000000</td>\n",
       "    </tr>\n",
       "    <tr>\n",
       "      <th>max</th>\n",
       "      <td>957918.000000</td>\n",
       "      <td>0.415170</td>\n",
       "      <td>0.518990</td>\n",
       "      <td>39544.000000</td>\n",
       "      <td>1.319900</td>\n",
       "      <td>0.554750</td>\n",
       "      <td>11.202000</td>\n",
       "      <td>5426.600000</td>\n",
       "      <td>1.913700e+06</td>\n",
       "      <td>1.042400e+16</td>\n",
       "      <td>...</td>\n",
       "      <td>1.613400</td>\n",
       "      <td>4.565900</td>\n",
       "      <td>217.840000</td>\n",
       "      <td>47.757000</td>\n",
       "      <td>526050.000000</td>\n",
       "      <td>1.886700</td>\n",
       "      <td>3.249900e+17</td>\n",
       "      <td>13151.000000</td>\n",
       "      <td>2.743600</td>\n",
       "      <td>1.000000</td>\n",
       "    </tr>\n",
       "  </tbody>\n",
       "</table>\n",
       "<p>8 rows × 120 columns</p>\n",
       "</div>"
      ],
      "text/plain": [
       "                  id             f1             f2             f3  \\\n",
       "count  957919.000000  942672.000000  942729.000000  942428.000000   \n",
       "mean   478959.000000       0.090201       0.345964    4068.744207   \n",
       "std    276527.540591       0.043564       0.146251    6415.829440   \n",
       "min         0.000000      -0.149910      -0.019044   -9421.700000   \n",
       "25%    239479.500000       0.070227       0.283050     418.430000   \n",
       "50%    478959.000000       0.090135       0.389100    1279.500000   \n",
       "75%    718438.500000       0.116500       0.458450    4444.400000   \n",
       "max    957918.000000       0.415170       0.518990   39544.000000   \n",
       "\n",
       "                  f4             f5             f6             f7  \\\n",
       "count  942359.000000  942514.000000  942398.000000  942415.000000   \n",
       "mean        0.201214       0.304869      -0.071458    1620.843815   \n",
       "std         0.212510       0.145343       2.123777    1276.281403   \n",
       "min        -0.082122      -0.006990     -12.791000    -224.800000   \n",
       "25%         0.035086       0.240520      -1.120700     481.545000   \n",
       "50%         0.137000       0.327790      -0.380110    1446.100000   \n",
       "75%         0.297100       0.412830       0.921940    2495.900000   \n",
       "max         1.319900       0.554750      11.202000    5426.600000   \n",
       "\n",
       "                 f8            f9  ...           f110           f111  \\\n",
       "count  9.425460e+05  9.426700e+05  ...  942554.000000  942420.000000   \n",
       "mean   3.771642e+05  1.806054e+15  ...     -19.926398       2.074530   \n",
       "std    3.454325e+05  2.335204e+15  ...      18.578439       0.895793   \n",
       "min   -2.984300e+04 -1.153300e+15  ...    -105.860000       0.277040   \n",
       "25%    9.120900e+04  1.153100e+13  ...     -28.812000       1.487700   \n",
       "50%    2.896700e+05  5.043050e+14  ...     -14.636000       1.662100   \n",
       "75%    5.605600e+05  3.103100e+15  ...      -5.325300       2.522325   \n",
       "max    1.913700e+06  1.042400e+16  ...       1.613400       4.565900   \n",
       "\n",
       "                f112           f113           f114           f115  \\\n",
       "count  942509.000000  942686.000000  942481.000000  942360.000000   \n",
       "mean       23.885245       1.748777   63152.973540       1.208876   \n",
       "std        45.581360      10.088848   92435.016241       0.114959   \n",
       "min       -27.691000     -26.589000  -81977.000000       0.905270   \n",
       "25%        -0.628880      -4.473975    2443.200000       1.146800   \n",
       "50%         1.727700       0.885710   19479.000000       1.177200   \n",
       "75%        18.991000       6.840775   88488.000000       1.242000   \n",
       "max       217.840000      47.757000  526050.000000       1.886700   \n",
       "\n",
       "               f116           f117           f118          claim  \n",
       "count  9.423300e+05  942512.000000  942707.000000  957919.000000  \n",
       "mean   4.276905e+16    3959.204669       0.559267       0.498492  \n",
       "std    6.732441e+16    3155.991777       0.408426       0.499998  \n",
       "min   -8.944400e+15    -415.240000      -0.151240       0.000000  \n",
       "25%    2.321100e+14    1306.200000       0.276560       0.000000  \n",
       "50%    1.327500e+16    3228.000000       0.473440       0.000000  \n",
       "75%    5.278700e+16    6137.900000       0.746210       1.000000  \n",
       "max    3.249900e+17   13151.000000       2.743600       1.000000  \n",
       "\n",
       "[8 rows x 120 columns]"
      ]
     },
     "execution_count": 8,
     "metadata": {},
     "output_type": "execute_result"
    }
   ],
   "source": [
    "df_train.describe()"
   ]
  },
  {
   "cell_type": "markdown",
   "id": "5c662f34",
   "metadata": {
    "papermill": {
     "duration": 0.056829,
     "end_time": "2021-09-04T20:18:48.470065",
     "exception": false,
     "start_time": "2021-09-04T20:18:48.413236",
     "status": "completed"
    },
    "tags": []
   },
   "source": [
    "Lets do some statistics on missing values"
   ]
  },
  {
   "cell_type": "code",
   "execution_count": 9,
   "id": "f5e81ca3",
   "metadata": {
    "execution": {
     "iopub.execute_input": "2021-09-04T20:18:48.589038Z",
     "iopub.status.busy": "2021-09-04T20:18:48.587964Z",
     "iopub.status.idle": "2021-09-04T20:18:48.786992Z",
     "shell.execute_reply": "2021-09-04T20:18:48.786516Z",
     "shell.execute_reply.started": "2021-09-03T17:23:36.561823Z"
    },
    "papermill": {
     "duration": 0.259933,
     "end_time": "2021-09-04T20:18:48.787120",
     "exception": false,
     "start_time": "2021-09-04T20:18:48.527187",
     "status": "completed"
    },
    "tags": []
   },
   "outputs": [
    {
     "data": {
      "text/plain": [
       "id           0\n",
       "f1       15247\n",
       "f2       15190\n",
       "f3       15491\n",
       "f4       15560\n",
       "         ...  \n",
       "f115     15559\n",
       "f116     15589\n",
       "f117     15407\n",
       "f118     15212\n",
       "claim        0\n",
       "Length: 120, dtype: int64"
      ]
     },
     "execution_count": 9,
     "metadata": {},
     "output_type": "execute_result"
    }
   ],
   "source": [
    "df_train.isna().sum()"
   ]
  },
  {
   "cell_type": "code",
   "execution_count": 10,
   "id": "1ae8c99d",
   "metadata": {
    "execution": {
     "iopub.execute_input": "2021-09-04T20:18:48.910542Z",
     "iopub.status.busy": "2021-09-04T20:18:48.909617Z",
     "iopub.status.idle": "2021-09-04T20:18:51.099054Z",
     "shell.execute_reply": "2021-09-04T20:18:51.098560Z",
     "shell.execute_reply.started": "2021-09-03T17:23:36.783376Z"
    },
    "papermill": {
     "duration": 2.253859,
     "end_time": "2021-09-04T20:18:51.099174",
     "exception": false,
     "start_time": "2021-09-04T20:18:48.845315",
     "status": "completed"
    },
    "tags": []
   },
   "outputs": [
    {
     "data": {
      "text/plain": [
       "<BarContainer object of 120 artists>"
      ]
     },
     "execution_count": 10,
     "metadata": {},
     "output_type": "execute_result"
    },
    {
     "data": {
      "image/png": "[encoded data removed]",
      "text/plain": [
       "<Figure size 1080x2520 with 1 Axes>"
      ]
     },
     "metadata": {
      "needs_background": "light"
     },
     "output_type": "display_data"
    }
   ],
   "source": [
    "miss_perc = df_train.isnull().sum()/df_train.shape[0] * 100\n",
    "miss_perc = miss_perc.sort_values(ascending=False)\n",
    "plt.rc('font', family='serif', size=16)\n",
    "plt.figure(figsize=(15,35))\n",
    "plt.title('Percentage of missing values on each variable')\n",
    "plt.xlabel('Percentage (%)')\n",
    "plt.ylabel('Feature')\n",
    "plt.barh(miss_perc.index, miss_perc.round(2), alpha=0.5)\n",
    "\n",
    "# for column in df_train.columns :\n",
    "#   print(column + ' ' + '%.2f' % miss_perc[column] + '%')"
   ]
  },
  {
   "cell_type": "markdown",
   "id": "45c22ea4",
   "metadata": {
    "papermill": {
     "duration": 0.060571,
     "end_time": "2021-09-04T20:18:51.220918",
     "exception": false,
     "start_time": "2021-09-04T20:18:51.160347",
     "status": "completed"
    },
    "tags": []
   },
   "source": [
    "As can be seen, all featuares have almost the same quantity of missing values. The maximum percentage of missing values does not surpass the 1.6% of the overall data available. Given the quiantity of data available, during the modeling, we will stick with the strategy of drop the rows with missing values, however we will also impute with mean value as a baseline."
   ]
  },
  {
   "cell_type": "markdown",
   "id": "d2b49f70",
   "metadata": {
    "papermill": {
     "duration": 0.06023,
     "end_time": "2021-09-04T20:18:51.342144",
     "exception": false,
     "start_time": "2021-09-04T20:18:51.281914",
     "status": "completed"
    },
    "tags": []
   },
   "source": [
    "Now lets verify how is the target variable distributed"
   ]
  },
  {
   "cell_type": "code",
   "execution_count": 11,
   "id": "81ae8403",
   "metadata": {
    "execution": {
     "iopub.execute_input": "2021-09-04T20:18:51.469408Z",
     "iopub.status.busy": "2021-09-04T20:18:51.468478Z",
     "iopub.status.idle": "2021-09-04T20:18:51.636313Z",
     "shell.execute_reply": "2021-09-04T20:18:51.636743Z",
     "shell.execute_reply.started": "2021-09-03T17:23:39.042174Z"
    },
    "papermill": {
     "duration": 0.23388,
     "end_time": "2021-09-04T20:18:51.636892",
     "exception": false,
     "start_time": "2021-09-04T20:18:51.403012",
     "status": "completed"
    },
    "tags": []
   },
   "outputs": [
    {
     "data": {
      "text/plain": [
       "Text(0, 0.5, 'Count')"
      ]
     },
     "execution_count": 11,
     "metadata": {},
     "output_type": "execute_result"
    },
    {
     "data": {
      "image/png": "[encoded data removed]",
      "text/plain": [
       "<Figure size 432x288 with 1 Axes>"
      ]
     },
     "metadata": {
      "needs_background": "light"
     },
     "output_type": "display_data"
    }
   ],
   "source": [
    "# plt.figure(figsize=(6,4))\n",
    "# plt.hist(df_train['claim'], bins=2, color='#3498db', histtype='bar', edgecolor='white') \n",
    "sns.countplot(df_train['claim'])\n",
    "plt.title('Distribution of classes in target variable (claim) \\n')\n",
    "plt.xlabel('Claim')\n",
    "plt.ylabel('Count')"
   ]
  },
  {
   "cell_type": "markdown",
   "id": "fb90e34f",
   "metadata": {
    "papermill": {
     "duration": 0.061714,
     "end_time": "2021-09-04T20:18:51.760541",
     "exception": false,
     "start_time": "2021-09-04T20:18:51.698827",
     "status": "completed"
    },
    "tags": []
   },
   "source": [
    "As we can see, they are equally distributed, thus we won't need to do any kind of special treatment to deal with imbalance."
   ]
  },
  {
   "cell_type": "markdown",
   "id": "eacc9b13",
   "metadata": {
    "papermill": {
     "duration": 0.063626,
     "end_time": "2021-09-04T20:18:51.886496",
     "exception": false,
     "start_time": "2021-09-04T20:18:51.822870",
     "status": "completed"
    },
    "tags": []
   },
   "source": [
    "# Feature Selection\n",
    "\n",
    "Since we have a lot of features, it will be too much work to analyse one of them at once alone. Thus, lets use some method to help analysing those features that are most important to our analyses."
   ]
  },
  {
   "cell_type": "markdown",
   "id": "186540c7",
   "metadata": {
    "papermill": {
     "duration": 0.062164,
     "end_time": "2021-09-04T20:18:52.010924",
     "exception": false,
     "start_time": "2021-09-04T20:18:51.948760",
     "status": "completed"
    },
    "tags": []
   },
   "source": [
    "# Mutual Information"
   ]
  },
  {
   "cell_type": "code",
   "execution_count": 12,
   "id": "5a4f9e3d",
   "metadata": {
    "execution": {
     "iopub.execute_input": "2021-09-04T20:18:52.145086Z",
     "iopub.status.busy": "2021-09-04T20:18:52.143678Z",
     "iopub.status.idle": "2021-09-04T20:18:53.164991Z",
     "shell.execute_reply": "2021-09-04T20:18:53.164489Z",
     "shell.execute_reply.started": "2021-09-04T19:16:11.846702Z"
    },
    "papermill": {
     "duration": 1.090107,
     "end_time": "2021-09-04T20:18:53.165123",
     "exception": false,
     "start_time": "2021-09-04T20:18:52.075016",
     "status": "completed"
    },
    "tags": []
   },
   "outputs": [],
   "source": [
    "x = df_train.copy().drop('id', axis=1)\n",
    "x.dropna(inplace=True)\n",
    "y = x.pop('claim')"
   ]
  },
  {
   "cell_type": "code",
   "execution_count": 13,
   "id": "5291db87",
   "metadata": {
    "execution": {
     "iopub.execute_input": "2021-09-04T20:18:53.292781Z",
     "iopub.status.busy": "2021-09-04T20:18:53.292246Z",
     "iopub.status.idle": "2021-09-04T20:18:53.295653Z",
     "shell.execute_reply": "2021-09-04T20:18:53.296132Z",
     "shell.execute_reply.started": "2021-09-04T19:16:13.216430Z"
    },
    "papermill": {
     "duration": 0.06923,
     "end_time": "2021-09-04T20:18:53.296274",
     "exception": false,
     "start_time": "2021-09-04T20:18:53.227044",
     "status": "completed"
    },
    "tags": []
   },
   "outputs": [],
   "source": [
    "discrete_features = x.dtypes == int"
   ]
  },
  {
   "cell_type": "code",
   "execution_count": 14,
   "id": "28ffb4af",
   "metadata": {
    "execution": {
     "iopub.execute_input": "2021-09-04T20:18:53.424550Z",
     "iopub.status.busy": "2021-09-04T20:18:53.424011Z",
     "iopub.status.idle": "2021-09-04T20:18:53.427881Z",
     "shell.execute_reply": "2021-09-04T20:18:53.427455Z",
     "shell.execute_reply.started": "2021-09-04T19:16:13.226318Z"
    },
    "papermill": {
     "duration": 0.070044,
     "end_time": "2021-09-04T20:18:53.427990",
     "exception": false,
     "start_time": "2021-09-04T20:18:53.357946",
     "status": "completed"
    },
    "tags": []
   },
   "outputs": [],
   "source": [
    "def make_mi_scores(x, y, discrete_features):\n",
    "    mi_scores = mutual_info_classif(x, y, discrete_features=discrete_features)\n",
    "    mi_scores = pd.Series(mi_scores, name=\"MI Scores\", index=x.columns)\n",
    "    mi_scores = mi_scores.sort_values(ascending=False)\n",
    "    return mi_scores"
   ]
  },
  {
   "cell_type": "code",
   "execution_count": 15,
   "id": "11f1232f",
   "metadata": {
    "execution": {
     "iopub.execute_input": "2021-09-04T20:18:53.556130Z",
     "iopub.status.busy": "2021-09-04T20:18:53.555323Z",
     "iopub.status.idle": "2021-09-04T20:18:53.557454Z",
     "shell.execute_reply": "2021-09-04T20:18:53.557889Z",
     "shell.execute_reply.started": "2021-09-04T19:16:17.895155Z"
    },
    "papermill": {
     "duration": 0.06868,
     "end_time": "2021-09-04T20:18:53.558019",
     "exception": false,
     "start_time": "2021-09-04T20:18:53.489339",
     "status": "completed"
    },
    "tags": []
   },
   "outputs": [],
   "source": [
    "def plot_mi_scores(scores):\n",
    "    scores = scores.sort_values(ascending=True)\n",
    "    width = np.arange(len(scores))\n",
    "    ticks = list(scores.index)\n",
    "    plt.barh(width, scores)\n",
    "    plt.yticks(width, ticks)\n",
    "    plt.title(\"Mutual Information Scores\")"
   ]
  },
  {
   "cell_type": "code",
   "execution_count": 16,
   "id": "e4db72cb",
   "metadata": {
    "execution": {
     "iopub.execute_input": "2021-09-04T20:18:53.686187Z",
     "iopub.status.busy": "2021-09-04T20:18:53.685394Z",
     "iopub.status.idle": "2021-09-04T20:29:09.784001Z",
     "shell.execute_reply": "2021-09-04T20:29:09.784447Z",
     "shell.execute_reply.started": "2021-09-04T19:16:20.208604Z"
    },
    "papermill": {
     "duration": 616.164803,
     "end_time": "2021-09-04T20:29:09.784635",
     "exception": false,
     "start_time": "2021-09-04T20:18:53.619832",
     "status": "completed"
    },
    "tags": []
   },
   "outputs": [
    {
     "data": {
      "text/plain": [
       "f108    0.001592\n",
       "f48     0.001220\n",
       "f71     0.001173\n",
       "f35     0.001039\n",
       "f9      0.000945\n",
       "f95     0.000876\n",
       "f84     0.000724\n",
       "f25     0.000680\n",
       "f79     0.000587\n",
       "f87     0.000561\n",
       "f57     0.000542\n",
       "f34     0.000528\n",
       "f47     0.000423\n",
       "f50     0.000361\n",
       "f16     0.000291\n",
       "f13     0.000253\n",
       "f1      0.000203\n",
       "f83     0.000183\n",
       "f106    0.000124\n",
       "f114    0.000056\n",
       "f22     0.000001\n",
       "f85     0.000000\n",
       "f101    0.000000\n",
       "f100    0.000000\n",
       "f99     0.000000\n",
       "f104    0.000000\n",
       "f44     0.000000\n",
       "f33     0.000000\n",
       "f27     0.000000\n",
       "f20     0.000000\n",
       "f14     0.000000\n",
       "f6      0.000000\n",
       "f43     0.000000\n",
       "f49     0.000000\n",
       "f72     0.000000\n",
       "f66     0.000000\n",
       "f63     0.000000\n",
       "f59     0.000000\n",
       "f53     0.000000\n",
       "f118    0.000000\n",
       "Name: MI Scores, dtype: float64"
      ]
     },
     "execution_count": 16,
     "metadata": {},
     "output_type": "execute_result"
    }
   ],
   "source": [
    "mi_scores = make_mi_scores(x, y, discrete_features)\n",
    "mi_scores[::3]  # show a few features with their MI scores"
   ]
  },
  {
   "cell_type": "code",
   "execution_count": 17,
   "id": "c759fc89",
   "metadata": {
    "execution": {
     "iopub.execute_input": "2021-09-04T20:29:09.930547Z",
     "iopub.status.busy": "2021-09-04T20:29:09.929846Z",
     "iopub.status.idle": "2021-09-04T20:29:11.548837Z",
     "shell.execute_reply": "2021-09-04T20:29:11.549252Z",
     "shell.execute_reply.started": "2021-09-03T17:36:02.173648Z"
    },
    "papermill": {
     "duration": 1.700905,
     "end_time": "2021-09-04T20:29:11.549430",
     "exception": false,
     "start_time": "2021-09-04T20:29:09.848525",
     "status": "completed"
    },
    "tags": []
   },
   "outputs": [
    {
     "data": {
      "image/png": "[encoded data removed]",
      "text/plain": [
       "<Figure size 1500x3500 with 1 Axes>"
      ]
     },
     "metadata": {
      "needs_background": "light"
     },
     "output_type": "display_data"
    }
   ],
   "source": [
    "plt.figure(dpi=100, figsize=(15, 35))\n",
    "plot_mi_scores(mi_scores)"
   ]
  },
  {
   "cell_type": "code",
   "execution_count": 18,
   "id": "0706644e",
   "metadata": {
    "execution": {
     "iopub.execute_input": "2021-09-04T20:29:11.695140Z",
     "iopub.status.busy": "2021-09-04T20:29:11.694425Z",
     "iopub.status.idle": "2021-09-04T20:29:11.698383Z",
     "shell.execute_reply": "2021-09-04T20:29:11.697960Z",
     "shell.execute_reply.started": "2021-09-03T17:36:04.155197Z"
    },
    "papermill": {
     "duration": 0.079418,
     "end_time": "2021-09-04T20:29:11.698507",
     "exception": false,
     "start_time": "2021-09-04T20:29:11.619089",
     "status": "completed"
    },
    "tags": []
   },
   "outputs": [
    {
     "name": "stdout",
     "output_type": "stream",
     "text": [
      "There are  57  features with 0 score out of 118 features.\n"
     ]
    }
   ],
   "source": [
    "print('There are ', (mi_scores == 0).value_counts()[True], ' features with 0 score out of 118 features.')"
   ]
  },
  {
   "cell_type": "code",
   "execution_count": 19,
   "id": "baffc523",
   "metadata": {
    "execution": {
     "iopub.execute_input": "2021-09-04T20:29:11.837538Z",
     "iopub.status.busy": "2021-09-04T20:29:11.836916Z",
     "iopub.status.idle": "2021-09-04T20:29:11.840349Z",
     "shell.execute_reply": "2021-09-04T20:29:11.839916Z",
     "shell.execute_reply.started": "2021-09-04T15:42:29.173610Z"
    },
    "papermill": {
     "duration": 0.075962,
     "end_time": "2021-09-04T20:29:11.840462",
     "exception": false,
     "start_time": "2021-09-04T20:29:11.764500",
     "status": "completed"
    },
    "tags": []
   },
   "outputs": [],
   "source": [
    "def evaluate_metrics(model, x, y):\n",
    "    y_pred = model.predict(x)\n",
    "    acc = accuracy_score(y, y_pred)\n",
    "    y_pred_prob = model.predict_proba(x)[:, 1]\n",
    "    auc_roc = roc_auc_score(y, y_pred_prob)\n",
    "    return {'accuracy' : acc, 'auc_roc_curve' : auc_roc}"
   ]
  },
  {
   "cell_type": "markdown",
   "id": "d18de420",
   "metadata": {
    "papermill": {
     "duration": 0.066196,
     "end_time": "2021-09-04T20:29:11.972977",
     "exception": false,
     "start_time": "2021-09-04T20:29:11.906781",
     "status": "completed"
    },
    "tags": []
   },
   "source": [
    "# Baseline\n",
    "\n",
    "Lets use to baseline models to choose the methods that will allow the model to achieve a good performance.\n",
    "\n",
    "1 - Logistic Regression\n",
    "\n",
    "2 - XGBoost\n",
    "\n",
    "All the tests will be based on a fraction of 20% of all available data"
   ]
  },
  {
   "cell_type": "markdown",
   "id": "582bcb6f",
   "metadata": {
    "papermill": {
     "duration": 0.066734,
     "end_time": "2021-09-04T20:29:12.106063",
     "exception": false,
     "start_time": "2021-09-04T20:29:12.039329",
     "status": "completed"
    },
    "tags": []
   },
   "source": [
    "# Strategy 1\n",
    "\n",
    "<ul>\n",
    "    <li><h3>Impute values with mean</h3></li>\n",
    "    <li><h3>Use all features</h3></li>\n",
    "</ul>"
   ]
  },
  {
   "cell_type": "code",
   "execution_count": 20,
   "id": "f5c632f2",
   "metadata": {
    "execution": {
     "iopub.execute_input": "2021-09-04T20:29:12.247091Z",
     "iopub.status.busy": "2021-09-04T20:29:12.246321Z",
     "iopub.status.idle": "2021-09-04T20:29:13.565253Z",
     "shell.execute_reply": "2021-09-04T20:29:13.564793Z",
     "shell.execute_reply.started": "2021-09-03T21:10:47.809366Z"
    },
    "papermill": {
     "duration": 1.392711,
     "end_time": "2021-09-04T20:29:13.565380",
     "exception": false,
     "start_time": "2021-09-04T20:29:12.172669",
     "status": "completed"
    },
    "tags": []
   },
   "outputs": [
    {
     "name": "stdout",
     "output_type": "stream",
     "text": [
      "Using 80% of data for training and 20% for testing the baseline models\n",
      "x_train (153267, 118) y_train (153267,)\n",
      "x_valid (38317, 118) y_valid (38317,)\n"
     ]
    }
   ],
   "source": [
    "df_subset = df_train.sample(frac=.20, random_state=42)\n",
    "x = df_subset.drop(['id', 'claim'], axis=1)\n",
    "y = df_subset['claim']\n",
    "\n",
    "x_train, x_valid, y_train, y_valid = train_test_split(x, y, test_size = 0.2, random_state = 42)\n",
    "\n",
    "print(\"Using 80% of data for training and 20% for testing the baseline models\")\n",
    "print('x_train', x_train.shape, 'y_train', y_train.shape)\n",
    "print('x_valid', x_valid.shape, 'y_valid', y_valid.shape)\n",
    "\n",
    "# Impute and Scale the values\n",
    "imputer = SimpleImputer(missing_values=np.nan, strategy='mean')\n",
    "x_train = imputer.fit_transform(x_train)\n",
    "x_valid = imputer.transform(x_valid)\n",
    "\n",
    "scaler = StandardScaler()\n",
    "x_train = scaler.fit_transform(x_train)\n",
    "x_valid = scaler.transform(x_valid)"
   ]
  },
  {
   "cell_type": "code",
   "execution_count": 21,
   "id": "dd8e8f98",
   "metadata": {
    "execution": {
     "iopub.execute_input": "2021-09-04T20:29:13.705007Z",
     "iopub.status.busy": "2021-09-04T20:29:13.704201Z",
     "iopub.status.idle": "2021-09-04T20:29:14.296542Z",
     "shell.execute_reply": "2021-09-04T20:29:14.297914Z",
     "shell.execute_reply.started": "2021-09-03T21:11:16.538764Z"
    },
    "papermill": {
     "duration": 0.665972,
     "end_time": "2021-09-04T20:29:14.298158",
     "exception": false,
     "start_time": "2021-09-04T20:29:13.632186",
     "status": "completed"
    },
    "tags": []
   },
   "outputs": [
    {
     "name": "stdout",
     "output_type": "stream",
     "text": [
      "{'accuracy': 0.5265286948351906, 'auc_roc_curve': 0.5389288394571753}\n"
     ]
    }
   ],
   "source": [
    "# Logisct Classifier\n",
    "model = LogisticRegression(random_state=0)\n",
    "model.fit(x_train, y_train)\n",
    "model.score(x_valid, y_valid)\n",
    "results = evaluate_metrics(model, x_valid, y_valid)\n",
    "# y_pred_prob = model.predict_proba(x_valid)[:, 1]\n",
    "# auc_roc = roc_auc_score(y_pred_prob, y_valid)\n",
    "print(results)"
   ]
  },
  {
   "cell_type": "code",
   "execution_count": 22,
   "id": "5443ae0e",
   "metadata": {
    "execution": {
     "iopub.execute_input": "2021-09-04T20:29:14.481986Z",
     "iopub.status.busy": "2021-09-04T20:29:14.480999Z",
     "iopub.status.idle": "2021-09-04T20:29:14.500855Z",
     "shell.execute_reply": "2021-09-04T20:29:14.500123Z",
     "shell.execute_reply.started": "2021-09-03T20:35:37.075544Z"
    },
    "papermill": {
     "duration": 0.090569,
     "end_time": "2021-09-04T20:29:14.501030",
     "exception": false,
     "start_time": "2021-09-04T20:29:14.410461",
     "status": "completed"
    },
    "tags": []
   },
   "outputs": [
    {
     "data": {
      "text/plain": [
       "0.5265286948351906"
      ]
     },
     "execution_count": 22,
     "metadata": {},
     "output_type": "execute_result"
    }
   ],
   "source": [
    "y_pred = model.predict(x_valid)\n",
    "accuracy_score(y_valid, y_pred)"
   ]
  },
  {
   "cell_type": "code",
   "execution_count": 23,
   "id": "f8d748ac",
   "metadata": {
    "execution": {
     "iopub.execute_input": "2021-09-04T20:29:14.695097Z",
     "iopub.status.busy": "2021-09-04T20:29:14.694387Z",
     "iopub.status.idle": "2021-09-04T20:29:19.959145Z",
     "shell.execute_reply": "2021-09-04T20:29:19.959703Z",
     "shell.execute_reply.started": "2021-09-03T20:43:19.213936Z"
    },
    "papermill": {
     "duration": 5.337378,
     "end_time": "2021-09-04T20:29:19.959906",
     "exception": false,
     "start_time": "2021-09-04T20:29:14.622528",
     "status": "completed"
    },
    "tags": []
   },
   "outputs": [
    {
     "name": "stdout",
     "output_type": "stream",
     "text": [
      "{'accuracy': 0.6954615444841715, 'auc_roc_curve': 0.7431899003659905}\n"
     ]
    }
   ],
   "source": [
    "# XGBoost Classifier\n",
    "model = XGBClassifier(random_state=0, tree_method='gpu_hist', predictor='gpu_predictor', verbosity=0)\n",
    "model.fit(x_train, y_train)\n",
    "y_pred = model.predict(x_valid)\n",
    "# accuracy_score(y_valid, y_pred)\n",
    "results = evaluate_metrics(model, x_valid, y_valid)\n",
    "print(results)"
   ]
  },
  {
   "cell_type": "code",
   "execution_count": 24,
   "id": "c8578c5f",
   "metadata": {
    "execution": {
     "iopub.execute_input": "2021-09-04T20:29:20.105448Z",
     "iopub.status.busy": "2021-09-04T20:29:20.104487Z",
     "iopub.status.idle": "2021-09-04T20:29:20.889551Z",
     "shell.execute_reply": "2021-09-04T20:29:20.890420Z",
     "shell.execute_reply.started": "2021-09-03T20:46:20.545706Z"
    },
    "papermill": {
     "duration": 0.860927,
     "end_time": "2021-09-04T20:29:20.890640",
     "exception": false,
     "start_time": "2021-09-04T20:29:20.029713",
     "status": "completed"
    },
    "tags": []
   },
   "outputs": [
    {
     "name": "stdout",
     "output_type": "stream",
     "text": [
      "{'accuracy': 0.5949056554531931, 'auc_roc_curve': 0.6243939033122846}\n"
     ]
    }
   ],
   "source": [
    "# XGBoost Classifier - 10 estimators\n",
    "model = XGBClassifier(n_estimators=10, random_state=0, tree_method='gpu_hist', predictor='gpu_predictor', verbosity=0)\n",
    "model.fit(x_train, y_train)\n",
    "y_pred = model.predict(x_valid)\n",
    "results = evaluate_metrics(model, x_valid, y_valid)\n",
    "print(results)"
   ]
  },
  {
   "cell_type": "markdown",
   "id": "26b66d2d",
   "metadata": {
    "papermill": {
     "duration": 0.069163,
     "end_time": "2021-09-04T20:29:21.029574",
     "exception": false,
     "start_time": "2021-09-04T20:29:20.960411",
     "status": "completed"
    },
    "tags": []
   },
   "source": [
    "# Strategy 2\n",
    "\n",
    "<ul>\n",
    "    <li><h3>Impute values with mean</h3></li>\n",
    "    <li><h3>Use features whose mutual information is bigger than 0</h3></li>\n",
    "</ul>"
   ]
  },
  {
   "cell_type": "code",
   "execution_count": 25,
   "id": "0ac49475",
   "metadata": {
    "execution": {
     "iopub.execute_input": "2021-09-04T20:29:21.176132Z",
     "iopub.status.busy": "2021-09-04T20:29:21.175390Z",
     "iopub.status.idle": "2021-09-04T20:29:21.954502Z",
     "shell.execute_reply": "2021-09-04T20:29:21.955117Z",
     "shell.execute_reply.started": "2021-09-03T20:48:00.833069Z"
    },
    "papermill": {
     "duration": 0.856843,
     "end_time": "2021-09-04T20:29:21.955294",
     "exception": false,
     "start_time": "2021-09-04T20:29:21.098451",
     "status": "completed"
    },
    "tags": []
   },
   "outputs": [
    {
     "name": "stdout",
     "output_type": "stream",
     "text": [
      "Using 80% of data for training and 20% for testing the baseline models\n",
      "x_train (153267, 61) y_train (153267,)\n",
      "x_valid (38317, 61) y_valid (38317,)\n"
     ]
    }
   ],
   "source": [
    "df_subset = df_train.sample(frac=.20, random_state=42)\n",
    "df_subset = df_subset.drop(mi_scores[mi_scores == 0].index, axis=1)\n",
    "\n",
    "x = df_subset.drop(['id', 'claim'], axis=1)\n",
    "y = df_subset['claim']\n",
    "\n",
    "x_train, x_valid, y_train, y_valid = train_test_split(x, y, test_size = 0.2, random_state = 42)\n",
    "\n",
    "print(\"Using 80% of data for training and 20% for testing the baseline models\")\n",
    "print('x_train', x_train.shape, 'y_train', y_train.shape)\n",
    "print('x_valid', x_valid.shape, 'y_valid', y_valid.shape)\n",
    "\n",
    "# Impute and Scale the values\n",
    "imputer = SimpleImputer(missing_values=np.nan, strategy='mean')\n",
    "x_train = imputer.fit_transform(x_train)\n",
    "x_valid = imputer.transform(x_valid)\n",
    "\n",
    "scaler = StandardScaler()\n",
    "x_train = scaler.fit_transform(x_train)\n",
    "x_valid = scaler.transform(x_valid)"
   ]
  },
  {
   "cell_type": "code",
   "execution_count": 26,
   "id": "dd9c7414",
   "metadata": {
    "execution": {
     "iopub.execute_input": "2021-09-04T20:29:22.142754Z",
     "iopub.status.busy": "2021-09-04T20:29:22.142025Z",
     "iopub.status.idle": "2021-09-04T20:29:22.442016Z",
     "shell.execute_reply": "2021-09-04T20:29:22.443223Z",
     "shell.execute_reply.started": "2021-09-03T20:48:05.030705Z"
    },
    "papermill": {
     "duration": 0.417591,
     "end_time": "2021-09-04T20:29:22.443472",
     "exception": false,
     "start_time": "2021-09-04T20:29:22.025881",
     "status": "completed"
    },
    "tags": []
   },
   "outputs": [
    {
     "name": "stdout",
     "output_type": "stream",
     "text": [
      "{'accuracy': 0.5246496333220242, 'auc_roc_curve': 0.532241302271639}\n"
     ]
    }
   ],
   "source": [
    "# Logisct Classifier\n",
    "model = LogisticRegression(random_state=0)\n",
    "model.fit(x_train, y_train)\n",
    "results = evaluate_metrics(model, x_valid, y_valid)\n",
    "print(results)"
   ]
  },
  {
   "cell_type": "code",
   "execution_count": 27,
   "id": "0777e89a",
   "metadata": {
    "execution": {
     "iopub.execute_input": "2021-09-04T20:29:22.637717Z",
     "iopub.status.busy": "2021-09-04T20:29:22.636889Z",
     "iopub.status.idle": "2021-09-04T20:29:23.614074Z",
     "shell.execute_reply": "2021-09-04T20:29:23.613362Z",
     "shell.execute_reply.started": "2021-09-03T20:48:35.891100Z"
    },
    "papermill": {
     "duration": 1.052032,
     "end_time": "2021-09-04T20:29:23.614239",
     "exception": false,
     "start_time": "2021-09-04T20:29:22.562207",
     "status": "completed"
    },
    "tags": []
   },
   "outputs": [
    {
     "name": "stdout",
     "output_type": "stream",
     "text": [
      "{'accuracy': 0.6643526372106375, 'auc_roc_curve': 0.7057218026904406}\n"
     ]
    }
   ],
   "source": [
    "# XGBoost Classifier\n",
    "model = XGBClassifier(random_state=0, tree_method='gpu_hist', predictor='gpu_predictor', verbosity=0)\n",
    "model.fit(x_train, y_train)\n",
    "results = evaluate_metrics(model, x_valid, y_valid)\n",
    "print(results)\n",
    "\n",
    "# y_pred = model.predict(x_valid)\n",
    "# predictions = [round(value) for value in y_pred]\n",
    "# accuracy_score(y_valid, predictions)"
   ]
  },
  {
   "cell_type": "code",
   "execution_count": 28,
   "id": "0aef99c7",
   "metadata": {
    "execution": {
     "iopub.execute_input": "2021-09-04T20:29:23.757903Z",
     "iopub.status.busy": "2021-09-04T20:29:23.757078Z",
     "iopub.status.idle": "2021-09-04T20:29:24.165399Z",
     "shell.execute_reply": "2021-09-04T20:29:24.164568Z",
     "shell.execute_reply.started": "2021-09-03T20:48:10.724767Z"
    },
    "papermill": {
     "duration": 0.481181,
     "end_time": "2021-09-04T20:29:24.165536",
     "exception": false,
     "start_time": "2021-09-04T20:29:23.684355",
     "status": "completed"
    },
    "tags": []
   },
   "outputs": [
    {
     "name": "stdout",
     "output_type": "stream",
     "text": [
      "{'accuracy': 0.5938878304668946, 'auc_roc_curve': 0.6242139599606955}\n"
     ]
    }
   ],
   "source": [
    "# XGBoost Classifier - 10 estimators\n",
    "model = XGBClassifier(n_estimators=10, random_state=0, tree_method='gpu_hist', predictor='gpu_predictor', verbosity=0)\n",
    "model.fit(x_train, y_train)\n",
    "y_pred = model.predict(x_valid)\n",
    "results = evaluate_metrics(model, x_valid, y_valid)\n",
    "print(results)"
   ]
  },
  {
   "cell_type": "markdown",
   "id": "57f74af6",
   "metadata": {
    "papermill": {
     "duration": 0.068957,
     "end_time": "2021-09-04T20:29:24.303763",
     "exception": false,
     "start_time": "2021-09-04T20:29:24.234806",
     "status": "completed"
    },
    "tags": []
   },
   "source": [
    "# Strategy 3\n",
    "\n",
    "<ul>\n",
    "    <li><h3>Drop rows with nans</h3></li>\n",
    "    <li><h3>Use all features</h3></li>\n",
    "</ul>"
   ]
  },
  {
   "cell_type": "code",
   "execution_count": 29,
   "id": "309da703",
   "metadata": {
    "execution": {
     "iopub.execute_input": "2021-09-04T20:29:24.449285Z",
     "iopub.status.busy": "2021-09-04T20:29:24.448544Z",
     "iopub.status.idle": "2021-09-04T20:29:24.989002Z",
     "shell.execute_reply": "2021-09-04T20:29:24.988294Z",
     "shell.execute_reply.started": "2021-09-03T20:50:25.386892Z"
    },
    "papermill": {
     "duration": 0.616113,
     "end_time": "2021-09-04T20:29:24.989185",
     "exception": false,
     "start_time": "2021-09-04T20:29:24.373072",
     "status": "completed"
    },
    "tags": []
   },
   "outputs": [
    {
     "name": "stdout",
     "output_type": "stream",
     "text": [
      "Using 80% of data for training and 20% for testing the baseline models\n",
      "x_train (57483, 118) y_train (57483,)\n",
      "x_valid (14371, 118) y_valid (14371,)\n"
     ]
    }
   ],
   "source": [
    "df_subset = df_train.sample(frac=.20, random_state=42)\n",
    "df_subset = df_subset.dropna()\n",
    "\n",
    "x = df_subset.drop(['id', 'claim'], axis=1)\n",
    "y = df_subset['claim']\n",
    "\n",
    "x_train, x_valid, y_train, y_valid = train_test_split(x, y, test_size = 0.2, random_state = 42)\n",
    "\n",
    "print(\"Using 80% of data for training and 20% for testing the baseline models\")\n",
    "print('x_train', x_train.shape, 'y_train', y_train.shape)\n",
    "print('x_valid', x_valid.shape, 'y_valid', y_valid.shape)\n",
    "\n",
    "scaler = StandardScaler()\n",
    "x_train = scaler.fit_transform(x_train)\n",
    "x_valid = scaler.transform(x_valid)"
   ]
  },
  {
   "cell_type": "code",
   "execution_count": 30,
   "id": "37b91709",
   "metadata": {
    "execution": {
     "iopub.execute_input": "2021-09-04T20:29:25.138048Z",
     "iopub.status.busy": "2021-09-04T20:29:25.137315Z",
     "iopub.status.idle": "2021-09-04T20:29:25.314924Z",
     "shell.execute_reply": "2021-09-04T20:29:25.315635Z",
     "shell.execute_reply.started": "2021-09-03T20:50:29.915657Z"
    },
    "papermill": {
     "duration": 0.255482,
     "end_time": "2021-09-04T20:29:25.315890",
     "exception": false,
     "start_time": "2021-09-04T20:29:25.060408",
     "status": "completed"
    },
    "tags": []
   },
   "outputs": [
    {
     "name": "stdout",
     "output_type": "stream",
     "text": [
      "{'accuracy': 0.8625704543873077, 'auc_roc_curve': 0.5386886745826542}\n"
     ]
    }
   ],
   "source": [
    "# Logisct Classifier\n",
    "model = LogisticRegression(random_state=0)\n",
    "model.fit(x_train, y_train)\n",
    "results = evaluate_metrics(model, x_valid, y_valid)\n",
    "print(results)"
   ]
  },
  {
   "cell_type": "code",
   "execution_count": 31,
   "id": "f87eab5b",
   "metadata": {
    "execution": {
     "iopub.execute_input": "2021-09-04T20:29:25.523803Z",
     "iopub.status.busy": "2021-09-04T20:29:25.523003Z",
     "iopub.status.idle": "2021-09-04T20:29:26.421543Z",
     "shell.execute_reply": "2021-09-04T20:29:26.421938Z",
     "shell.execute_reply.started": "2021-09-03T20:50:42.001546Z"
    },
    "papermill": {
     "duration": 0.972872,
     "end_time": "2021-09-04T20:29:26.422098",
     "exception": false,
     "start_time": "2021-09-04T20:29:25.449226",
     "status": "completed"
    },
    "tags": []
   },
   "outputs": [
    {
     "name": "stdout",
     "output_type": "stream",
     "text": [
      "{'accuracy': 0.8599958249251966, 'auc_roc_curve': 0.5351068944249063}\n"
     ]
    }
   ],
   "source": [
    "# XGBoost Classifier\n",
    "model = XGBClassifier(random_state=0, tree_method='gpu_hist', predictor='gpu_predictor', verbosity=0)\n",
    "model.fit(x_train, y_train)\n",
    "results = evaluate_metrics(model, x_valid, y_valid)\n",
    "print(results)"
   ]
  },
  {
   "cell_type": "code",
   "execution_count": 32,
   "id": "a713c24f",
   "metadata": {
    "execution": {
     "iopub.execute_input": "2021-09-04T20:29:26.566084Z",
     "iopub.status.busy": "2021-09-04T20:29:26.565307Z",
     "iopub.status.idle": "2021-09-04T20:29:26.848162Z",
     "shell.execute_reply": "2021-09-04T20:29:26.849050Z",
     "shell.execute_reply.started": "2021-09-03T20:51:51.503893Z"
    },
    "papermill": {
     "duration": 0.357569,
     "end_time": "2021-09-04T20:29:26.849241",
     "exception": false,
     "start_time": "2021-09-04T20:29:26.491672",
     "status": "completed"
    },
    "tags": []
   },
   "outputs": [
    {
     "name": "stdout",
     "output_type": "stream",
     "text": [
      "{'accuracy': 0.8625008698072507, 'auc_roc_curve': 0.5236761756548662}\n"
     ]
    }
   ],
   "source": [
    "# XGBoost Classifier - 10 estimators\n",
    "model = XGBClassifier(n_estimators=10, random_state=0, tree_method='gpu_hist', predictor='gpu_predictor', verbosity=0)\n",
    "model.fit(x_train, y_train)\n",
    "results = evaluate_metrics(model, x_valid, y_valid)\n",
    "print(results)"
   ]
  },
  {
   "cell_type": "markdown",
   "id": "7d3d9ce0",
   "metadata": {
    "papermill": {
     "duration": 0.069878,
     "end_time": "2021-09-04T20:29:26.989077",
     "exception": false,
     "start_time": "2021-09-04T20:29:26.919199",
     "status": "completed"
    },
    "tags": []
   },
   "source": [
    "# Strategy 4\n",
    "\n",
    "<ul>\n",
    "    <li><h3>Drop rows with nans</h3></li>\n",
    "    <li><h3>Use features whose mutual information is bigger than 0</li>\n",
    "</ul>"
   ]
  },
  {
   "cell_type": "code",
   "execution_count": 33,
   "id": "d0b559a8",
   "metadata": {
    "execution": {
     "iopub.execute_input": "2021-09-04T20:29:27.137265Z",
     "iopub.status.busy": "2021-09-04T20:29:27.136555Z",
     "iopub.status.idle": "2021-09-04T20:29:27.610304Z",
     "shell.execute_reply": "2021-09-04T20:29:27.609861Z",
     "shell.execute_reply.started": "2021-09-03T20:52:27.114007Z"
    },
    "papermill": {
     "duration": 0.55129,
     "end_time": "2021-09-04T20:29:27.610429",
     "exception": false,
     "start_time": "2021-09-04T20:29:27.059139",
     "status": "completed"
    },
    "tags": []
   },
   "outputs": [
    {
     "name": "stdout",
     "output_type": "stream",
     "text": [
      "Using 80% of data for training and 20% for testing the baseline models\n",
      "x_train (75811, 61) y_train (75811,)\n",
      "x_valid (18953, 61) y_valid (18953,)\n"
     ]
    }
   ],
   "source": [
    "df_subset = df_train.sample(frac=.20, random_state=42)\n",
    "df_subset = df_subset.drop(mi_scores[mi_scores == 0].index, axis=1)\n",
    "df_subset = df_subset.dropna()\n",
    "\n",
    "x = df_subset.drop(['id', 'claim'], axis=1)\n",
    "y = df_subset['claim']\n",
    "\n",
    "x_train, x_valid, y_train, y_valid = train_test_split(x, y, test_size = 0.2, random_state = 42)\n",
    "\n",
    "print(\"Using 80% of data for training and 20% for testing the baseline models\")\n",
    "print('x_train', x_train.shape, 'y_train', y_train.shape)\n",
    "print('x_valid', x_valid.shape, 'y_valid', y_valid.shape)\n",
    "\n",
    "scaler = StandardScaler()\n",
    "x_train = scaler.fit_transform(x_train)\n",
    "x_valid = scaler.transform(x_valid)"
   ]
  },
  {
   "cell_type": "code",
   "execution_count": 34,
   "id": "88f08592",
   "metadata": {
    "execution": {
     "iopub.execute_input": "2021-09-04T20:29:27.756676Z",
     "iopub.status.busy": "2021-09-04T20:29:27.755967Z",
     "iopub.status.idle": "2021-09-04T20:29:27.897473Z",
     "shell.execute_reply": "2021-09-04T20:29:27.898402Z",
     "shell.execute_reply.started": "2021-09-03T20:52:27.905643Z"
    },
    "papermill": {
     "duration": 0.217521,
     "end_time": "2021-09-04T20:29:27.898669",
     "exception": false,
     "start_time": "2021-09-04T20:29:27.681148",
     "status": "completed"
    },
    "tags": []
   },
   "outputs": [
    {
     "name": "stdout",
     "output_type": "stream",
     "text": [
      "{'accuracy': 0.7394080092861288, 'auc_roc_curve': 0.5329034630657283}\n"
     ]
    }
   ],
   "source": [
    "# Logistic Classifier\n",
    "model = LogisticRegression(random_state=0)\n",
    "model.fit(x_train, y_train)\n",
    "results = evaluate_metrics(model, x_valid, y_valid)\n",
    "print(results)"
   ]
  },
  {
   "cell_type": "code",
   "execution_count": 35,
   "id": "76a49e5c",
   "metadata": {
    "execution": {
     "iopub.execute_input": "2021-09-04T20:29:28.096442Z",
     "iopub.status.busy": "2021-09-04T20:29:28.095657Z",
     "iopub.status.idle": "2021-09-04T20:29:28.911562Z",
     "shell.execute_reply": "2021-09-04T20:29:28.912620Z",
     "shell.execute_reply.started": "2021-09-03T20:52:28.067808Z"
    },
    "papermill": {
     "duration": 0.892671,
     "end_time": "2021-09-04T20:29:28.912960",
     "exception": false,
     "start_time": "2021-09-04T20:29:28.020289",
     "status": "completed"
    },
    "tags": []
   },
   "outputs": [
    {
     "name": "stdout",
     "output_type": "stream",
     "text": [
      "{'accuracy': 0.7282224449955153, 'auc_roc_curve': 0.5180432040120236}\n"
     ]
    }
   ],
   "source": [
    "# XGBoost Classifier\n",
    "model = XGBClassifier(random_state=0, tree_method='gpu_hist', predictor='gpu_predictor', verbosity=0)\n",
    "model.fit(x_train, y_train)\n",
    "results = evaluate_metrics(model, x_valid, y_valid)\n",
    "print(results)"
   ]
  },
  {
   "cell_type": "code",
   "execution_count": 36,
   "id": "1f2c3569",
   "metadata": {
    "execution": {
     "iopub.execute_input": "2021-09-04T20:29:29.070320Z",
     "iopub.status.busy": "2021-09-04T20:29:29.069529Z",
     "iopub.status.idle": "2021-09-04T20:29:29.287230Z",
     "shell.execute_reply": "2021-09-04T20:29:29.287853Z",
     "shell.execute_reply.started": "2021-09-03T20:53:17.082073Z"
    },
    "papermill": {
     "duration": 0.296637,
     "end_time": "2021-09-04T20:29:29.288045",
     "exception": false,
     "start_time": "2021-09-04T20:29:28.991408",
     "status": "completed"
    },
    "tags": []
   },
   "outputs": [
    {
     "name": "stdout",
     "output_type": "stream",
     "text": [
      "{'accuracy': 0.7386693399461827, 'auc_roc_curve': 0.5220537929660656}\n"
     ]
    }
   ],
   "source": [
    "# XGBoost Classifier\n",
    "model = XGBClassifier(n_estimators=10, random_state=0, tree_method='gpu_hist', predictor='gpu_predictor', verbosity=0)\n",
    "model.fit(x_train, y_train)\n",
    "results = evaluate_metrics(model, x_valid, y_valid)\n",
    "print(results)"
   ]
  },
  {
   "cell_type": "markdown",
   "id": "a9760c47",
   "metadata": {
    "papermill": {
     "duration": 0.071183,
     "end_time": "2021-09-04T20:29:29.431119",
     "exception": false,
     "start_time": "2021-09-04T20:29:29.359936",
     "status": "completed"
    },
    "tags": []
   },
   "source": [
    "# Strategy 5\n",
    "\n",
    "<ul>\n",
    "    <li><h3>Use strategy 1</h3></li>\n",
    "    <li><h3>Create a sintetic feature. Counting the number of nan values. This was as tip from the discussion board</ul>"
   ]
  },
  {
   "cell_type": "code",
   "execution_count": 37,
   "id": "ac54ece0",
   "metadata": {
    "execution": {
     "iopub.execute_input": "2021-09-04T20:29:29.581494Z",
     "iopub.status.busy": "2021-09-04T20:29:29.580793Z",
     "iopub.status.idle": "2021-09-04T20:29:30.994889Z",
     "shell.execute_reply": "2021-09-04T20:29:30.995363Z",
     "shell.execute_reply.started": "2021-09-04T18:27:15.588213Z"
    },
    "papermill": {
     "duration": 1.493116,
     "end_time": "2021-09-04T20:29:30.995554",
     "exception": false,
     "start_time": "2021-09-04T20:29:29.502438",
     "status": "completed"
    },
    "tags": []
   },
   "outputs": [
    {
     "name": "stdout",
     "output_type": "stream",
     "text": [
      "Using 80% of data for training and 20% for testing the baseline models\n",
      "x_train (153267, 119) y_train (153267,)\n",
      "x_valid (38317, 119) y_valid (38317,)\n"
     ]
    }
   ],
   "source": [
    "df_subset = df_train.sample(frac=.20, random_state=42)\n",
    "x = df_subset.drop(['id', 'claim'], axis=1)\n",
    "x[\"nan_count\"] = x.isnull().sum(axis=1)\n",
    "y = df_subset['claim']\n",
    "x_train, x_valid, y_train, y_valid = train_test_split(x, y, test_size = 0.2, random_state = 42)\n",
    "\n",
    "print(\"Using 80% of data for training and 20% for testing the baseline models\")\n",
    "print('x_train', x_train.shape, 'y_train', y_train.shape)\n",
    "print('x_valid', x_valid.shape, 'y_valid', y_valid.shape)\n",
    "\n",
    "# Impute and Scale the values\n",
    "imputer = SimpleImputer(missing_values=np.nan, strategy='mean')\n",
    "x_train = imputer.fit_transform(x_train)\n",
    "x_valid = imputer.transform(x_valid)\n",
    "\n",
    "scaler = StandardScaler()\n",
    "x_train = scaler.fit_transform(x_train)\n",
    "x_valid = scaler.transform(x_valid)"
   ]
  },
  {
   "cell_type": "code",
   "execution_count": 38,
   "id": "e8c8e13c",
   "metadata": {
    "execution": {
     "iopub.execute_input": "2021-09-04T20:29:31.144801Z",
     "iopub.status.busy": "2021-09-04T20:29:31.144079Z",
     "iopub.status.idle": "2021-09-04T20:29:31.602130Z",
     "shell.execute_reply": "2021-09-04T20:29:31.602836Z",
     "shell.execute_reply.started": "2021-09-04T18:27:42.582724Z"
    },
    "papermill": {
     "duration": 0.534914,
     "end_time": "2021-09-04T20:29:31.603086",
     "exception": false,
     "start_time": "2021-09-04T20:29:31.068172",
     "status": "completed"
    },
    "tags": []
   },
   "outputs": [
    {
     "name": "stdout",
     "output_type": "stream",
     "text": [
      "{'accuracy': 0.7371140746926952, 'auc_roc_curve': 0.7991795904072667}\n"
     ]
    }
   ],
   "source": [
    "# Logistic Classifier\n",
    "model = LogisticRegression(random_state=0)\n",
    "model.fit(x_train, y_train)\n",
    "results = evaluate_metrics(model, x_valid, y_valid)\n",
    "print(results)"
   ]
  },
  {
   "cell_type": "code",
   "execution_count": 39,
   "id": "6a8fc07a",
   "metadata": {
    "execution": {
     "iopub.execute_input": "2021-09-04T20:29:31.798274Z",
     "iopub.status.busy": "2021-09-04T20:29:31.797339Z",
     "iopub.status.idle": "2021-09-04T20:29:33.344032Z",
     "shell.execute_reply": "2021-09-04T20:29:33.344437Z",
     "shell.execute_reply.started": "2021-09-04T18:31:56.135217Z"
    },
    "papermill": {
     "duration": 1.623316,
     "end_time": "2021-09-04T20:29:33.344584",
     "exception": false,
     "start_time": "2021-09-04T20:29:31.721268",
     "status": "completed"
    },
    "tags": []
   },
   "outputs": [
    {
     "name": "stdout",
     "output_type": "stream",
     "text": [
      "{'accuracy': 0.7657175666153404, 'auc_roc_curve': 0.7992525535223916}\n"
     ]
    }
   ],
   "source": [
    "# XGBoost Classifier\n",
    "model = XGBClassifier(random_state=0, tree_method='gpu_hist', predictor='gpu_predictor', verbosity=0)\n",
    "model.fit(x_train, y_train)\n",
    "results = evaluate_metrics(model, x_valid, y_valid)\n",
    "print(results)"
   ]
  },
  {
   "cell_type": "code",
   "execution_count": 40,
   "id": "cb9a9a33",
   "metadata": {
    "execution": {
     "iopub.execute_input": "2021-09-04T20:29:33.492970Z",
     "iopub.status.busy": "2021-09-04T20:29:33.492151Z",
     "iopub.status.idle": "2021-09-04T20:29:34.199935Z",
     "shell.execute_reply": "2021-09-04T20:29:34.199397Z",
     "shell.execute_reply.started": "2021-09-04T18:32:26.826677Z"
    },
    "papermill": {
     "duration": 0.783857,
     "end_time": "2021-09-04T20:29:34.200165",
     "exception": false,
     "start_time": "2021-09-04T20:29:33.416308",
     "status": "completed"
    },
    "tags": []
   },
   "outputs": [
    {
     "name": "stdout",
     "output_type": "stream",
     "text": [
      "{'accuracy': 0.7693451992588146, 'auc_roc_curve': 0.800514571013911}\n"
     ]
    }
   ],
   "source": [
    "# XGBoost Classifier\n",
    "model = XGBClassifier(n_estimators=10, random_state=0, tree_method='gpu_hist', predictor='gpu_predictor', verbosity=0)\n",
    "model.fit(x_train, y_train)\n",
    "results = evaluate_metrics(model, x_valid, y_valid)\n",
    "print(results)"
   ]
  },
  {
   "cell_type": "markdown",
   "id": "b39ea341",
   "metadata": {
    "papermill": {
     "duration": 0.071593,
     "end_time": "2021-09-04T20:29:34.344023",
     "exception": false,
     "start_time": "2021-09-04T20:29:34.272430",
     "status": "completed"
    },
    "tags": []
   },
   "source": [
    "# Strategy 6\n",
    "\n",
    "<ul>\n",
    "    <li><h3>Use strategy 2</h3></li>\n",
    "    <li><h3>Create a sintetic feature. Counting the number of nan values.</ul>"
   ]
  },
  {
   "cell_type": "code",
   "execution_count": 41,
   "id": "79664ad7",
   "metadata": {
    "execution": {
     "iopub.execute_input": "2021-09-04T20:29:34.497171Z",
     "iopub.status.busy": "2021-09-04T20:29:34.496162Z",
     "iopub.status.idle": "2021-09-04T20:29:35.325686Z",
     "shell.execute_reply": "2021-09-04T20:29:35.326113Z",
     "shell.execute_reply.started": "2021-09-04T19:40:50.583073Z"
    },
    "papermill": {
     "duration": 0.9096,
     "end_time": "2021-09-04T20:29:35.326281",
     "exception": false,
     "start_time": "2021-09-04T20:29:34.416681",
     "status": "completed"
    },
    "tags": []
   },
   "outputs": [
    {
     "name": "stdout",
     "output_type": "stream",
     "text": [
      "Using 80% of data for training and 20% for testing the baseline models\n",
      "x_train (153267, 62) y_train (153267,)\n",
      "x_valid (38317, 62) y_valid (38317,)\n"
     ]
    }
   ],
   "source": [
    "df_subset = df_train.sample(frac=.20, random_state=42)\n",
    "df_subset = df_subset.drop(mi_scores[mi_scores == 0].index, axis=1)\n",
    "\n",
    "x = df_subset.drop(['id', 'claim'], axis=1)\n",
    "x[\"nan_count\"] = x.isnull().sum(axis=1)\n",
    "y = df_subset['claim']\n",
    "\n",
    "x_train, x_valid, y_train, y_valid = train_test_split(x, y, test_size = 0.2, random_state = 42)\n",
    "\n",
    "print(\"Using 80% of data for training and 20% for testing the baseline models\")\n",
    "print('x_train', x_train.shape, 'y_train', y_train.shape)\n",
    "print('x_valid', x_valid.shape, 'y_valid', y_valid.shape)\n",
    "\n",
    "# Impute and Scale the values\n",
    "imputer = SimpleImputer(missing_values=np.nan, strategy='mean')\n",
    "x_train = imputer.fit_transform(x_train)\n",
    "x_valid = imputer.transform(x_valid)\n",
    "\n",
    "scaler = StandardScaler()\n",
    "x_train = scaler.fit_transform(x_train)\n",
    "x_valid = scaler.transform(x_valid)"
   ]
  },
  {
   "cell_type": "code",
   "execution_count": 42,
   "id": "5bc03b9e",
   "metadata": {
    "execution": {
     "iopub.execute_input": "2021-09-04T20:29:35.493642Z",
     "iopub.status.busy": "2021-09-04T20:29:35.492840Z",
     "iopub.status.idle": "2021-09-04T20:29:35.852530Z",
     "shell.execute_reply": "2021-09-04T20:29:35.853342Z",
     "shell.execute_reply.started": "2021-09-04T19:40:51.802813Z"
    },
    "papermill": {
     "duration": 0.437895,
     "end_time": "2021-09-04T20:29:35.853627",
     "exception": false,
     "start_time": "2021-09-04T20:29:35.415732",
     "status": "completed"
    },
    "tags": []
   },
   "outputs": [
    {
     "name": "stdout",
     "output_type": "stream",
     "text": [
      "{'accuracy': 0.7122165096432393, 'auc_roc_curve': 0.7478279134836137}\n"
     ]
    }
   ],
   "source": [
    "# Logistic Classifier\n",
    "model = LogisticRegression(random_state=0)\n",
    "model.fit(x_train, y_train)\n",
    "results = evaluate_metrics(model, x_valid, y_valid)\n",
    "print(results)"
   ]
  },
  {
   "cell_type": "code",
   "execution_count": 43,
   "id": "ab6aa699",
   "metadata": {
    "execution": {
     "iopub.execute_input": "2021-09-04T20:29:36.051145Z",
     "iopub.status.busy": "2021-09-04T20:29:36.050375Z",
     "iopub.status.idle": "2021-09-04T20:29:37.131520Z",
     "shell.execute_reply": "2021-09-04T20:29:37.132155Z",
     "shell.execute_reply.started": "2021-09-04T19:40:52.209076Z"
    },
    "papermill": {
     "duration": 1.158946,
     "end_time": "2021-09-04T20:29:37.132366",
     "exception": false,
     "start_time": "2021-09-04T20:29:35.973420",
     "status": "completed"
    },
    "tags": []
   },
   "outputs": [
    {
     "name": "stdout",
     "output_type": "stream",
     "text": [
      "{'accuracy': 0.7283973171177284, 'auc_roc_curve': 0.7470176275605676}\n"
     ]
    }
   ],
   "source": [
    "# XGBoost Classifier\n",
    "model = XGBClassifier(random_state=0, tree_method='gpu_hist', predictor='gpu_predictor', verbosity=0)\n",
    "model.fit(x_train, y_train)\n",
    "results = evaluate_metrics(model, x_valid, y_valid)\n",
    "print(results)"
   ]
  },
  {
   "cell_type": "code",
   "execution_count": 44,
   "id": "6b41f5e8",
   "metadata": {
    "execution": {
     "iopub.execute_input": "2021-09-04T20:29:37.290125Z",
     "iopub.status.busy": "2021-09-04T20:29:37.289276Z",
     "iopub.status.idle": "2021-09-04T20:29:37.702075Z",
     "shell.execute_reply": "2021-09-04T20:29:37.702455Z",
     "shell.execute_reply.started": "2021-09-04T19:40:53.441483Z"
    },
    "papermill": {
     "duration": 0.493938,
     "end_time": "2021-09-04T20:29:37.702632",
     "exception": false,
     "start_time": "2021-09-04T20:29:37.208694",
     "status": "completed"
    },
    "tags": []
   },
   "outputs": [
    {
     "name": "stdout",
     "output_type": "stream",
     "text": [
      "{'accuracy': 0.7333298535897904, 'auc_roc_curve': 0.7473425285331445}\n"
     ]
    }
   ],
   "source": [
    "# XGBoost Classifier\n",
    "model = XGBClassifier(n_estimators=10, random_state=0, tree_method='gpu_hist', predictor='gpu_predictor', verbosity=0)\n",
    "model.fit(x_train, y_train)\n",
    "results = evaluate_metrics(model, x_valid, y_valid)\n",
    "print(results)"
   ]
  },
  {
   "cell_type": "markdown",
   "id": "76245750",
   "metadata": {
    "papermill": {
     "duration": 0.074562,
     "end_time": "2021-09-04T20:29:37.850503",
     "exception": false,
     "start_time": "2021-09-04T20:29:37.775941",
     "status": "completed"
    },
    "tags": []
   },
   "source": [
    "# Extreme Gradient Boosting (XGBoost) - Testing different configurations"
   ]
  },
  {
   "cell_type": "code",
   "execution_count": 45,
   "id": "ee3790b5",
   "metadata": {
    "execution": {
     "iopub.execute_input": "2021-09-04T20:29:38.001244Z",
     "iopub.status.busy": "2021-09-04T20:29:38.000689Z",
     "iopub.status.idle": "2021-09-04T20:29:38.004591Z",
     "shell.execute_reply": "2021-09-04T20:29:38.004140Z",
     "shell.execute_reply.started": "2021-09-04T18:33:29.995755Z"
    },
    "papermill": {
     "duration": 0.081206,
     "end_time": "2021-09-04T20:29:38.004743",
     "exception": false,
     "start_time": "2021-09-04T20:29:37.923537",
     "status": "completed"
    },
    "tags": []
   },
   "outputs": [],
   "source": [
    "from tqdm.notebook import tqdm"
   ]
  },
  {
   "cell_type": "code",
   "execution_count": 46,
   "id": "1b658071",
   "metadata": {
    "execution": {
     "iopub.execute_input": "2021-09-04T20:29:38.159791Z",
     "iopub.status.busy": "2021-09-04T20:29:38.159070Z",
     "iopub.status.idle": "2021-09-04T20:29:39.569703Z",
     "shell.execute_reply": "2021-09-04T20:29:39.568313Z",
     "shell.execute_reply.started": "2021-09-04T18:33:30.388143Z"
    },
    "papermill": {
     "duration": 1.491837,
     "end_time": "2021-09-04T20:29:39.569880",
     "exception": false,
     "start_time": "2021-09-04T20:29:38.078043",
     "status": "completed"
    },
    "tags": []
   },
   "outputs": [
    {
     "name": "stdout",
     "output_type": "stream",
     "text": [
      "Using 80% of data for training and 20% for testing the baseline models\n",
      "x_train (153267, 119) y_train (153267,)\n",
      "x_valid (38317, 119) y_valid (38317,)\n"
     ]
    }
   ],
   "source": [
    "df_subset = df_train.sample(frac=.20, random_state=42)\n",
    "x = df_subset.drop(['id', 'claim'], axis=1)\n",
    "x[\"nan_count\"] = x.isnull().sum(axis=1)\n",
    "y = df_subset['claim']\n",
    "\n",
    "x_train, x_valid, y_train, y_valid = train_test_split(x, y, test_size = 0.2, random_state = 42)\n",
    "\n",
    "print(\"Using 80% of data for training and 20% for testing the baseline models\")\n",
    "print('x_train', x_train.shape, 'y_train', y_train.shape)\n",
    "print('x_valid', x_valid.shape, 'y_valid', y_valid.shape)\n",
    "\n",
    "# Impute and Scale the values\n",
    "imputer = SimpleImputer(missing_values=np.nan, strategy='mean')\n",
    "x_train = imputer.fit_transform(x_train)\n",
    "x_valid = imputer.transform(x_valid)\n",
    "\n",
    "scaler = StandardScaler()\n",
    "x_train = scaler.fit_transform(x_train)\n",
    "x_valid = scaler.transform(x_valid)"
   ]
  },
  {
   "cell_type": "code",
   "execution_count": 47,
   "id": "eb1b0d50",
   "metadata": {
    "execution": {
     "iopub.execute_input": "2021-09-04T20:29:39.819833Z",
     "iopub.status.busy": "2021-09-04T20:29:39.818349Z",
     "iopub.status.idle": "2021-09-04T20:29:39.821205Z",
     "shell.execute_reply": "2021-09-04T20:29:39.820549Z",
     "shell.execute_reply.started": "2021-09-04T18:33:58.925823Z"
    },
    "papermill": {
     "duration": 0.129871,
     "end_time": "2021-09-04T20:29:39.821365",
     "exception": false,
     "start_time": "2021-09-04T20:29:39.691494",
     "status": "completed"
    },
    "tags": []
   },
   "outputs": [],
   "source": [
    "import warnings\n",
    "warnings.filterwarnings('ignore')"
   ]
  },
  {
   "cell_type": "markdown",
   "id": "d2008536",
   "metadata": {
    "papermill": {
     "duration": 0.073212,
     "end_time": "2021-09-04T20:29:40.008728",
     "exception": false,
     "start_time": "2021-09-04T20:29:39.935516",
     "status": "completed"
    },
    "tags": []
   },
   "source": [
    "# 1 - Testing different number of estimators "
   ]
  },
  {
   "cell_type": "code",
   "execution_count": 48,
   "id": "dfe0a054",
   "metadata": {
    "execution": {
     "iopub.execute_input": "2021-09-04T20:29:40.162890Z",
     "iopub.status.busy": "2021-09-04T20:29:40.161260Z",
     "iopub.status.idle": "2021-09-04T20:29:40.163529Z",
     "shell.execute_reply": "2021-09-04T20:29:40.163940Z",
     "shell.execute_reply.started": "2021-09-04T18:35:44.258537Z"
    },
    "papermill": {
     "duration": 0.081624,
     "end_time": "2021-09-04T20:29:40.164080",
     "exception": false,
     "start_time": "2021-09-04T20:29:40.082456",
     "status": "completed"
    },
    "tags": []
   },
   "outputs": [],
   "source": [
    "def get_models_n_estimators():\n",
    "    models = dict()\n",
    "    trees = [10, 50, 100, 150, 200, 250, 300, 350, 400, 450, 500, 1000, 2000, 3000, 4000, 5000, 6000, 7000]\n",
    "    for n in trees:\n",
    "        models[str(n)] = XGBClassifier(n_estimators=n, tree_method='gpu_hist', predictor='gpu_predictor', verbosity=0)\n",
    "    return models"
   ]
  },
  {
   "cell_type": "code",
   "execution_count": 49,
   "id": "54452a5a",
   "metadata": {
    "execution": {
     "iopub.execute_input": "2021-09-04T20:29:40.341895Z",
     "iopub.status.busy": "2021-09-04T20:29:40.318089Z",
     "iopub.status.idle": "2021-09-04T20:34:28.463351Z",
     "shell.execute_reply": "2021-09-04T20:34:28.460828Z",
     "shell.execute_reply.started": "2021-09-04T18:35:45.330668Z"
    },
    "papermill": {
     "duration": 288.225288,
     "end_time": "2021-09-04T20:34:28.463487",
     "exception": false,
     "start_time": "2021-09-04T20:29:40.238199",
     "status": "completed"
    },
    "tags": []
   },
   "outputs": [
    {
     "data": {
      "application/vnd.jupyter.widget-view+json": {
       "model_id": "043164eacd1742eb93a112b497647e07",
       "version_major": 2,
       "version_minor": 0
      },
      "text/plain": [
       "  0%|          | 0/18 [00:00<?, ?it/s]"
      ]
     },
     "metadata": {},
     "output_type": "display_data"
    },
    {
     "name": "stdout",
     "output_type": "stream",
     "text": [
      "10 accuracy: 0.769 auc_roc: 0.801\n",
      "50 accuracy: 0.768 auc_roc: 0.802\n",
      "100 accuracy: 0.766 auc_roc: 0.799\n",
      "150 accuracy: 0.763 auc_roc: 0.797\n",
      "200 accuracy: 0.760 auc_roc: 0.796\n",
      "250 accuracy: 0.758 auc_roc: 0.795\n",
      "300 accuracy: 0.757 auc_roc: 0.794\n",
      "350 accuracy: 0.755 auc_roc: 0.794\n",
      "400 accuracy: 0.754 auc_roc: 0.793\n",
      "450 accuracy: 0.754 auc_roc: 0.793\n",
      "500 accuracy: 0.753 auc_roc: 0.792\n",
      "1000 accuracy: 0.752 auc_roc: 0.791\n",
      "2000 accuracy: 0.757 auc_roc: 0.794\n",
      "3000 accuracy: 0.757 auc_roc: 0.795\n",
      "4000 accuracy: 0.758 auc_roc: 0.795\n",
      "5000 accuracy: 0.760 auc_roc: 0.795\n",
      "6000 accuracy: 0.759 auc_roc: 0.796\n",
      "7000 accuracy: 0.759 auc_roc: 0.796\n"
     ]
    }
   ],
   "source": [
    "models = get_models_n_estimators()\n",
    "results, names = list(), list()\n",
    "i = 0\n",
    "\n",
    "for name, model in tqdm(models.items()):\n",
    "    model.fit(x_train, y_train, verbose=True)\n",
    "    scores = evaluate_metrics(model, x_valid, y_valid)\n",
    "    results.append(scores)\n",
    "    names.append(name)\n",
    "    print(name, 'accuracy: %.3f auc_roc: %.3f' % (results[i]['accuracy'], results[i]['auc_roc_curve']))\n",
    "    i += 1"
   ]
  },
  {
   "cell_type": "markdown",
   "id": "ac432b1a",
   "metadata": {
    "papermill": {
     "duration": 0.078432,
     "end_time": "2021-09-04T20:34:28.620727",
     "exception": false,
     "start_time": "2021-09-04T20:34:28.542295",
     "status": "completed"
    },
    "tags": []
   },
   "source": [
    "# 2 - Testing different max_depth "
   ]
  },
  {
   "cell_type": "code",
   "execution_count": 50,
   "id": "3688873e",
   "metadata": {
    "execution": {
     "iopub.execute_input": "2021-09-04T20:34:28.784068Z",
     "iopub.status.busy": "2021-09-04T20:34:28.783175Z",
     "iopub.status.idle": "2021-09-04T20:34:28.786083Z",
     "shell.execute_reply": "2021-09-04T20:34:28.785660Z",
     "shell.execute_reply.started": "2021-09-04T18:46:03.625369Z"
    },
    "papermill": {
     "duration": 0.086787,
     "end_time": "2021-09-04T20:34:28.786204",
     "exception": false,
     "start_time": "2021-09-04T20:34:28.699417",
     "status": "completed"
    },
    "tags": []
   },
   "outputs": [],
   "source": [
    "def get_models_n_depths():\n",
    "    models = dict()\n",
    "    for i in range(1,20):\n",
    "        models[str(i)] = XGBClassifier(max_depth=i, tree_method='gpu_hist', predictor='gpu_predictor', verbosity=0)\n",
    "    return models"
   ]
  },
  {
   "cell_type": "code",
   "execution_count": 51,
   "id": "66c200d0",
   "metadata": {
    "execution": {
     "iopub.execute_input": "2021-09-04T20:34:28.973536Z",
     "iopub.status.busy": "2021-09-04T20:34:28.972672Z",
     "iopub.status.idle": "2021-09-04T20:38:28.776365Z",
     "shell.execute_reply": "2021-09-04T20:38:28.773454Z",
     "shell.execute_reply.started": "2021-09-04T18:46:04.009504Z"
    },
    "papermill": {
     "duration": 239.911802,
     "end_time": "2021-09-04T20:38:28.776558",
     "exception": false,
     "start_time": "2021-09-04T20:34:28.864756",
     "status": "completed"
    },
    "tags": []
   },
   "outputs": [
    {
     "data": {
      "application/vnd.jupyter.widget-view+json": {
       "model_id": "ade4129f6b0b4fd0843989f758d867b9",
       "version_major": 2,
       "version_minor": 0
      },
      "text/plain": [
       "  0%|          | 0/19 [00:00<?, ?it/s]"
      ]
     },
     "metadata": {},
     "output_type": "display_data"
    },
    {
     "name": "stdout",
     "output_type": "stream",
     "text": [
      "1 accuracy: 0.770 auc_roc: 0.808\n",
      "2 accuracy: 0.770 auc_roc: 0.808\n",
      "3 accuracy: 0.770 auc_roc: 0.807\n",
      "4 accuracy: 0.768 auc_roc: 0.807\n",
      "5 accuracy: 0.767 auc_roc: 0.803\n",
      "6 accuracy: 0.766 auc_roc: 0.799\n",
      "7 accuracy: 0.761 auc_roc: 0.795\n",
      "8 accuracy: 0.758 auc_roc: 0.795\n",
      "9 accuracy: 0.754 auc_roc: 0.791\n",
      "10 accuracy: 0.756 auc_roc: 0.793\n",
      "11 accuracy: 0.755 auc_roc: 0.792\n",
      "12 accuracy: 0.757 auc_roc: 0.792\n",
      "13 accuracy: 0.761 auc_roc: 0.793\n",
      "14 accuracy: 0.760 auc_roc: 0.793\n",
      "15 accuracy: 0.763 auc_roc: 0.793\n",
      "16 accuracy: 0.762 auc_roc: 0.793\n",
      "17 accuracy: 0.763 auc_roc: 0.795\n",
      "18 accuracy: 0.763 auc_roc: 0.795\n",
      "19 accuracy: 0.763 auc_roc: 0.794\n"
     ]
    }
   ],
   "source": [
    "models = get_models_n_depths()\n",
    "results, names = list(), list()\n",
    "i = 0\n",
    "\n",
    "for name, model in tqdm(models.items()):\n",
    "    model.fit(x_train, y_train, verbose=True)\n",
    "    scores = evaluate_metrics(model, x_valid, y_valid)\n",
    "    results.append(scores)\n",
    "    names.append(name)\n",
    "    print(name, 'accuracy: %.3f auc_roc: %.3f' % (results[i]['accuracy'], results[i]['auc_roc_curve']))\n",
    "    i += 1"
   ]
  },
  {
   "cell_type": "markdown",
   "id": "ce22c3bd",
   "metadata": {
    "papermill": {
     "duration": 0.084851,
     "end_time": "2021-09-04T20:38:28.948285",
     "exception": false,
     "start_time": "2021-09-04T20:38:28.863434",
     "status": "completed"
    },
    "tags": []
   },
   "source": [
    "# 3 - Testing different subsamples"
   ]
  },
  {
   "cell_type": "code",
   "execution_count": 52,
   "id": "6aa2e0ae",
   "metadata": {
    "execution": {
     "iopub.execute_input": "2021-09-04T20:38:29.123696Z",
     "iopub.status.busy": "2021-09-04T20:38:29.122805Z",
     "iopub.status.idle": "2021-09-04T20:38:29.125184Z",
     "shell.execute_reply": "2021-09-04T20:38:29.125566Z",
     "shell.execute_reply.started": "2021-09-04T18:51:31.406489Z"
    },
    "papermill": {
     "duration": 0.092246,
     "end_time": "2021-09-04T20:38:29.125722",
     "exception": false,
     "start_time": "2021-09-04T20:38:29.033476",
     "status": "completed"
    },
    "tags": []
   },
   "outputs": [],
   "source": [
    "def get_models_subsamples():\n",
    "    models = dict()\n",
    "    for i in np.arange(0.1, 1.1, 0.1):\n",
    "        key = '%.1f' % i\n",
    "        models[key] = XGBClassifier(subsample=i,  tree_method='gpu_hist', predictor='gpu_predictor', verbosity=0)\n",
    "    return models"
   ]
  },
  {
   "cell_type": "code",
   "execution_count": 53,
   "id": "e2edf200",
   "metadata": {
    "execution": {
     "iopub.execute_input": "2021-09-04T20:38:29.322473Z",
     "iopub.status.busy": "2021-09-04T20:38:29.321522Z",
     "iopub.status.idle": "2021-09-04T20:38:44.991287Z",
     "shell.execute_reply": "2021-09-04T20:38:44.990597Z",
     "shell.execute_reply.started": "2021-09-04T18:51:31.583184Z"
    },
    "papermill": {
     "duration": 15.781383,
     "end_time": "2021-09-04T20:38:44.991462",
     "exception": false,
     "start_time": "2021-09-04T20:38:29.210079",
     "status": "completed"
    },
    "tags": []
   },
   "outputs": [
    {
     "data": {
      "application/vnd.jupyter.widget-view+json": {
       "model_id": "f8ab7d4477ac4ca3894731d2b723cc2f",
       "version_major": 2,
       "version_minor": 0
      },
      "text/plain": [
       "  0%|          | 0/10 [00:00<?, ?it/s]"
      ]
     },
     "metadata": {},
     "output_type": "display_data"
    },
    {
     "name": "stdout",
     "output_type": "stream",
     "text": [
      "0.1 accuracy: 0.716 auc_roc: 0.765\n",
      "0.2 accuracy: 0.739 auc_roc: 0.783\n",
      "0.3 accuracy: 0.748 auc_roc: 0.788\n",
      "0.4 accuracy: 0.755 auc_roc: 0.794\n",
      "0.5 accuracy: 0.758 auc_roc: 0.795\n",
      "0.6 accuracy: 0.761 auc_roc: 0.797\n",
      "0.7 accuracy: 0.762 auc_roc: 0.797\n",
      "0.8 accuracy: 0.764 auc_roc: 0.799\n",
      "0.9 accuracy: 0.763 auc_roc: 0.800\n",
      "1.0 accuracy: 0.766 auc_roc: 0.799\n"
     ]
    }
   ],
   "source": [
    "models = get_models_subsamples()\n",
    "results, names = list(), list()\n",
    "i = 0\n",
    "\n",
    "for name, model in tqdm(models.items()):\n",
    "    model.fit(x_train, y_train, verbose=True)\n",
    "    scores = evaluate_metrics(model, x_valid, y_valid)\n",
    "    results.append(scores)\n",
    "    names.append(name)\n",
    "    print(name, 'accuracy: %.3f auc_roc: %.3f' % (results[i]['accuracy'], results[i]['auc_roc_curve']))\n",
    "    i += 1"
   ]
  },
  {
   "cell_type": "markdown",
   "id": "d3c39d86",
   "metadata": {
    "papermill": {
     "duration": 0.087559,
     "end_time": "2021-09-04T20:38:45.168306",
     "exception": false,
     "start_time": "2021-09-04T20:38:45.080747",
     "status": "completed"
    },
    "tags": []
   },
   "source": [
    "# 4 - Testing different learning rates"
   ]
  },
  {
   "cell_type": "code",
   "execution_count": 54,
   "id": "9826c43a",
   "metadata": {
    "execution": {
     "iopub.execute_input": "2021-09-04T20:38:45.350848Z",
     "iopub.status.busy": "2021-09-04T20:38:45.350037Z",
     "iopub.status.idle": "2021-09-04T20:38:45.356769Z",
     "shell.execute_reply": "2021-09-04T20:38:45.356313Z",
     "shell.execute_reply.started": "2021-09-04T18:52:08.946299Z"
    },
    "papermill": {
     "duration": 0.100828,
     "end_time": "2021-09-04T20:38:45.356890",
     "exception": false,
     "start_time": "2021-09-04T20:38:45.256062",
     "status": "completed"
    },
    "tags": []
   },
   "outputs": [],
   "source": [
    "def get_models_lr():\n",
    "    models = dict()\n",
    "    rates = [0.0001, 0.001, 0.003, 0.005, 0.01, 0.03, 0.05, 0.1, 0.12, 0.13, 0.3, 0.5, 1.0]\n",
    "    for r in rates:\n",
    "        key = '%.4f' % r\n",
    "        models[key] = XGBClassifier(eta=r, tree_method='gpu_hist', predictor='gpu_predictor', verbosity=0)\n",
    "    return models"
   ]
  },
  {
   "cell_type": "code",
   "execution_count": 55,
   "id": "add9ca7a",
   "metadata": {
    "execution": {
     "iopub.execute_input": "2021-09-04T20:38:45.557228Z",
     "iopub.status.busy": "2021-09-04T20:38:45.556561Z",
     "iopub.status.idle": "2021-09-04T20:39:06.993749Z",
     "shell.execute_reply": "2021-09-04T20:39:06.993125Z",
     "shell.execute_reply.started": "2021-09-04T18:52:10.177965Z"
    },
    "papermill": {
     "duration": 21.550456,
     "end_time": "2021-09-04T20:39:06.993907",
     "exception": false,
     "start_time": "2021-09-04T20:38:45.443451",
     "status": "completed"
    },
    "tags": []
   },
   "outputs": [
    {
     "data": {
      "application/vnd.jupyter.widget-view+json": {
       "model_id": "0eb35f02ba204b80b15f0d9fbdb987b3",
       "version_major": 2,
       "version_minor": 0
      },
      "text/plain": [
       "  0%|          | 0/13 [00:00<?, ?it/s]"
      ]
     },
     "metadata": {},
     "output_type": "display_data"
    },
    {
     "name": "stdout",
     "output_type": "stream",
     "text": [
      "0.0001 accuracy: 0.769 auc_roc: 0.798\n",
      "0.0010 accuracy: 0.769 auc_roc: 0.799\n",
      "0.0030 accuracy: 0.770 auc_roc: 0.801\n",
      "0.0050 accuracy: 0.770 auc_roc: 0.802\n",
      "0.0100 accuracy: 0.770 auc_roc: 0.802\n",
      "0.0300 accuracy: 0.770 auc_roc: 0.804\n",
      "0.0500 accuracy: 0.770 auc_roc: 0.805\n",
      "0.1000 accuracy: 0.770 auc_roc: 0.805\n",
      "0.1200 accuracy: 0.770 auc_roc: 0.806\n",
      "0.1300 accuracy: 0.769 auc_roc: 0.806\n",
      "0.3000 accuracy: 0.766 auc_roc: 0.799\n",
      "0.5000 accuracy: 0.751 auc_roc: 0.789\n",
      "1.0000 accuracy: 0.719 auc_roc: 0.766\n"
     ]
    }
   ],
   "source": [
    "models = get_models_lr()\n",
    "results, names = list(), list()\n",
    "i = 0\n",
    "\n",
    "for name, model in tqdm(models.items()):\n",
    "    model.fit(x_train, y_train, verbose=True)\n",
    "    scores = evaluate_metrics(model, x_valid, y_valid)\n",
    "    results.append(scores)\n",
    "    names.append(name)\n",
    "    print(name, 'accuracy: %.3f auc_roc: %.3f' % (results[i]['accuracy'], results[i]['auc_roc_curve']))\n",
    "    i += 1"
   ]
  },
  {
   "cell_type": "markdown",
   "id": "5f8cb849",
   "metadata": {
    "papermill": {
     "duration": 0.089963,
     "end_time": "2021-09-04T20:39:07.176344",
     "exception": false,
     "start_time": "2021-09-04T20:39:07.086381",
     "status": "completed"
    },
    "tags": []
   },
   "source": [
    "# 5 - Testing different number of features"
   ]
  },
  {
   "cell_type": "code",
   "execution_count": 56,
   "id": "436e5c6c",
   "metadata": {
    "execution": {
     "iopub.execute_input": "2021-09-04T20:39:07.361754Z",
     "iopub.status.busy": "2021-09-04T20:39:07.360932Z",
     "iopub.status.idle": "2021-09-04T20:39:07.363194Z",
     "shell.execute_reply": "2021-09-04T20:39:07.363649Z",
     "shell.execute_reply.started": "2021-09-04T18:54:08.396559Z"
    },
    "papermill": {
     "duration": 0.097426,
     "end_time": "2021-09-04T20:39:07.363781",
     "exception": false,
     "start_time": "2021-09-04T20:39:07.266355",
     "status": "completed"
    },
    "tags": []
   },
   "outputs": [],
   "source": [
    "def get_models_nfeatures():\n",
    "    models = dict()\n",
    "    for i in np.arange(0.1, 1.1, 0.1):\n",
    "        key = '%.1f' % i\n",
    "        models[key] = XGBClassifier(colsample_bytree=i, tree_method='gpu_hist', predictor='gpu_predictor', verbosity=0)\n",
    "    return models"
   ]
  },
  {
   "cell_type": "code",
   "execution_count": 57,
   "id": "df91f76e",
   "metadata": {
    "execution": {
     "iopub.execute_input": "2021-09-04T20:39:07.571896Z",
     "iopub.status.busy": "2021-09-04T20:39:07.570935Z",
     "iopub.status.idle": "2021-09-04T20:39:22.521945Z",
     "shell.execute_reply": "2021-09-04T20:39:22.522974Z",
     "shell.execute_reply.started": "2021-09-04T18:54:08.740375Z"
    },
    "papermill": {
     "duration": 15.069338,
     "end_time": "2021-09-04T20:39:22.523181",
     "exception": false,
     "start_time": "2021-09-04T20:39:07.453843",
     "status": "completed"
    },
    "tags": []
   },
   "outputs": [
    {
     "data": {
      "application/vnd.jupyter.widget-view+json": {
       "model_id": "db6f8bf9db344473a30856167ce77327",
       "version_major": 2,
       "version_minor": 0
      },
      "text/plain": [
       "  0%|          | 0/10 [00:00<?, ?it/s]"
      ]
     },
     "metadata": {},
     "output_type": "display_data"
    },
    {
     "name": "stdout",
     "output_type": "stream",
     "text": [
      "0.1 accuracy: 0.768 auc_roc: 0.802\n",
      "0.2 accuracy: 0.767 auc_roc: 0.803\n",
      "0.3 accuracy: 0.765 auc_roc: 0.801\n",
      "0.4 accuracy: 0.766 auc_roc: 0.801\n",
      "0.5 accuracy: 0.766 auc_roc: 0.801\n",
      "0.6 accuracy: 0.766 auc_roc: 0.800\n",
      "0.7 accuracy: 0.766 auc_roc: 0.801\n",
      "0.8 accuracy: 0.767 auc_roc: 0.800\n",
      "0.9 accuracy: 0.767 auc_roc: 0.800\n",
      "1.0 accuracy: 0.766 auc_roc: 0.799\n"
     ]
    }
   ],
   "source": [
    "models = get_models_nfeatures()\n",
    "results, names = list(), list()\n",
    "i = 0\n",
    "\n",
    "for name, model in tqdm(models.items()):\n",
    "    model.fit(x_train, y_train, verbose=True)\n",
    "    scores = evaluate_metrics(model, x_valid, y_valid)\n",
    "    results.append(scores)\n",
    "    names.append(name)\n",
    "    print(name, 'accuracy: %.3f auc_roc: %.3f' % (results[i]['accuracy'], results[i]['auc_roc_curve']))\n",
    "    i += 1"
   ]
  },
  {
   "cell_type": "markdown",
   "id": "2e7fefb3",
   "metadata": {
    "papermill": {
     "duration": 0.151626,
     "end_time": "2021-09-04T20:39:22.922408",
     "exception": false,
     "start_time": "2021-09-04T20:39:22.770782",
     "status": "completed"
    },
    "tags": []
   },
   "source": [
    "# Grid Search \n",
    "\n",
    "Lets do a Grid search on some of the best parameters obtained above"
   ]
  },
  {
   "cell_type": "code",
   "execution_count": 58,
   "id": "eea98b03",
   "metadata": {
    "execution": {
     "iopub.execute_input": "2021-09-04T20:39:23.164380Z",
     "iopub.status.busy": "2021-09-04T20:39:23.163531Z",
     "iopub.status.idle": "2021-09-04T20:39:24.622921Z",
     "shell.execute_reply": "2021-09-04T20:39:24.622395Z",
     "shell.execute_reply.started": "2021-09-04T18:55:22.110445Z"
    },
    "papermill": {
     "duration": 1.562764,
     "end_time": "2021-09-04T20:39:24.623048",
     "exception": false,
     "start_time": "2021-09-04T20:39:23.060284",
     "status": "completed"
    },
    "tags": []
   },
   "outputs": [
    {
     "name": "stdout",
     "output_type": "stream",
     "text": [
      "Using 80% of data for training and 20% for testing the baseline models\n",
      "x_train (191584, 119) y_train (191584,)\n",
      "x_valid (38317, 119) y_valid (38317,)\n"
     ]
    }
   ],
   "source": [
    "df_subset = df_train.sample(frac=.20, random_state=42)\n",
    "x_train = df_subset.drop(['id', 'claim'], axis=1)\n",
    "y_train = df_subset['claim']\n",
    "x_train[\"nan_count\"] = x_train.isnull().sum(axis=1)\n",
    "\n",
    "print(\"Using 80% of data for training and 20% for testing the baseline models\")\n",
    "print('x_train', x_train.shape, 'y_train', y_train.shape)\n",
    "print('x_valid', x_valid.shape, 'y_valid', y_valid.shape)\n",
    "\n",
    "# Impute and Scale the values\n",
    "imputer = SimpleImputer(missing_values=np.nan, strategy='mean')\n",
    "x_train = imputer.fit_transform(x_train)\n",
    "\n",
    "scaler = StandardScaler()\n",
    "x_train = scaler.fit_transform(x_train)"
   ]
  },
  {
   "cell_type": "code",
   "execution_count": 59,
   "id": "ef43e865",
   "metadata": {
    "execution": {
     "iopub.execute_input": "2021-09-04T20:39:24.817147Z",
     "iopub.status.busy": "2021-09-04T20:39:24.816442Z",
     "iopub.status.idle": "2021-09-04T20:39:24.820102Z",
     "shell.execute_reply": "2021-09-04T20:39:24.819649Z",
     "shell.execute_reply.started": "2021-09-04T18:55:26.582348Z"
    },
    "papermill": {
     "duration": 0.103789,
     "end_time": "2021-09-04T20:39:24.820220",
     "exception": false,
     "start_time": "2021-09-04T20:39:24.716431",
     "status": "completed"
    },
    "tags": []
   },
   "outputs": [],
   "source": [
    "params = {'n_estimators' : [10, 50, 100, 150, 200],\n",
    "          'max_depth' : [1,2,3],\n",
    "          'subsample' : [0.8, 0.9, 1.0],\n",
    "          'eta' : [0.12, 0.13],\n",
    "          'colsample_bytree' : [0.1, 0.2]\n",
    "         }"
   ]
  },
  {
   "cell_type": "code",
   "execution_count": 60,
   "id": "1ae67c59",
   "metadata": {
    "execution": {
     "iopub.execute_input": "2021-09-04T20:39:25.012487Z",
     "iopub.status.busy": "2021-09-04T20:39:25.011859Z",
     "iopub.status.idle": "2021-09-04T20:39:25.015243Z",
     "shell.execute_reply": "2021-09-04T20:39:25.014831Z",
     "shell.execute_reply.started": "2021-09-04T19:01:07.068734Z"
    },
    "papermill": {
     "duration": 0.102132,
     "end_time": "2021-09-04T20:39:25.015353",
     "exception": false,
     "start_time": "2021-09-04T20:39:24.913221",
     "status": "completed"
    },
    "tags": []
   },
   "outputs": [],
   "source": [
    "metrics = ['roc_auc']\n",
    "grid_cv = GridSearchCV(XGBClassifier(tree_method='gpu_hist', predictor='gpu_predictor', verbosity=0), param_grid=params, scoring=metrics, verbose=1, refit='roc_auc', return_train_score=False, n_jobs=-1, cv=3)"
   ]
  },
  {
   "cell_type": "code",
   "execution_count": 61,
   "id": "1691d528",
   "metadata": {
    "execution": {
     "iopub.execute_input": "2021-09-04T20:39:25.208336Z",
     "iopub.status.busy": "2021-09-04T20:39:25.207797Z",
     "iopub.status.idle": "2021-09-04T20:45:27.365039Z",
     "shell.execute_reply": "2021-09-04T20:45:27.364511Z",
     "shell.execute_reply.started": "2021-09-04T19:01:11.068748Z"
    },
    "papermill": {
     "duration": 362.255273,
     "end_time": "2021-09-04T20:45:27.365184",
     "exception": false,
     "start_time": "2021-09-04T20:39:25.109911",
     "status": "completed"
    },
    "tags": []
   },
   "outputs": [
    {
     "name": "stdout",
     "output_type": "stream",
     "text": [
      "Fitting 3 folds for each of 180 candidates, totalling 540 fits\n"
     ]
    },
    {
     "name": "stderr",
     "output_type": "stream",
     "text": [
      "[Parallel(n_jobs=-1)]: Using backend LokyBackend with 2 concurrent workers.\n",
      "[Parallel(n_jobs=-1)]: Done  46 tasks      | elapsed:   36.6s\n",
      "[Parallel(n_jobs=-1)]: Done 196 tasks      | elapsed:  2.2min\n",
      "[Parallel(n_jobs=-1)]: Done 446 tasks      | elapsed:  4.9min\n",
      "[Parallel(n_jobs=-1)]: Done 540 out of 540 | elapsed:  6.0min finished\n"
     ]
    }
   ],
   "source": [
    "result = grid_cv.fit(x_train, y_train)"
   ]
  },
  {
   "cell_type": "code",
   "execution_count": 62,
   "id": "4993a93e",
   "metadata": {
    "execution": {
     "iopub.execute_input": "2021-09-04T20:45:27.560633Z",
     "iopub.status.busy": "2021-09-04T20:45:27.559663Z",
     "iopub.status.idle": "2021-09-04T20:45:27.563520Z",
     "shell.execute_reply": "2021-09-04T20:45:27.563908Z",
     "shell.execute_reply.started": "2021-09-04T19:08:54.631272Z"
    },
    "papermill": {
     "duration": 0.103627,
     "end_time": "2021-09-04T20:45:27.564049",
     "exception": false,
     "start_time": "2021-09-04T20:45:27.460422",
     "status": "completed"
    },
    "tags": []
   },
   "outputs": [
    {
     "data": {
      "text/plain": [
       "{'colsample_bytree': 0.2,\n",
       " 'eta': 0.12,\n",
       " 'max_depth': 3,\n",
       " 'n_estimators': 200,\n",
       " 'subsample': 1.0}"
      ]
     },
     "execution_count": 62,
     "metadata": {},
     "output_type": "execute_result"
    }
   ],
   "source": [
    "grid_cv.best_params_"
   ]
  },
  {
   "cell_type": "code",
   "execution_count": 63,
   "id": "09e692cf",
   "metadata": {
    "execution": {
     "iopub.execute_input": "2021-09-04T20:45:27.757610Z",
     "iopub.status.busy": "2021-09-04T20:45:27.757087Z",
     "iopub.status.idle": "2021-09-04T20:45:27.762281Z",
     "shell.execute_reply": "2021-09-04T20:45:27.761870Z",
     "shell.execute_reply.started": "2021-09-04T19:09:00.353816Z"
    },
    "papermill": {
     "duration": 0.103797,
     "end_time": "2021-09-04T20:45:27.762385",
     "exception": false,
     "start_time": "2021-09-04T20:45:27.658588",
     "status": "completed"
    },
    "tags": []
   },
   "outputs": [
    {
     "name": "stdout",
     "output_type": "stream",
     "text": [
      "0.8080267795161126\n",
      "{'colsample_bytree': 0.2, 'eta': 0.12, 'max_depth': 3, 'n_estimators': 200, 'subsample': 1.0}\n"
     ]
    }
   ],
   "source": [
    "print(grid_cv.best_score_)\n",
    "print(grid_cv.best_params_)"
   ]
  },
  {
   "cell_type": "markdown",
   "id": "437100ce",
   "metadata": {
    "papermill": {
     "duration": 0.09545,
     "end_time": "2021-09-04T20:45:27.952422",
     "exception": false,
     "start_time": "2021-09-04T20:45:27.856972",
     "status": "completed"
    },
    "tags": []
   },
   "source": [
    "# Fit model on entire dataset for submission\n",
    "\n",
    "Lets fit the model on full dataset and submit it"
   ]
  },
  {
   "cell_type": "code",
   "execution_count": 64,
   "id": "c300781b",
   "metadata": {
    "execution": {
     "iopub.execute_input": "2021-09-04T20:45:28.421491Z",
     "iopub.status.busy": "2021-09-04T20:45:28.420512Z",
     "iopub.status.idle": "2021-09-04T20:45:33.785124Z",
     "shell.execute_reply": "2021-09-04T20:45:33.784597Z",
     "shell.execute_reply.started": "2021-09-04T19:09:17.048191Z"
    },
    "papermill": {
     "duration": 5.738025,
     "end_time": "2021-09-04T20:45:33.785246",
     "exception": false,
     "start_time": "2021-09-04T20:45:28.047221",
     "status": "completed"
    },
    "tags": []
   },
   "outputs": [
    {
     "name": "stdout",
     "output_type": "stream",
     "text": [
      "Using all data for training and submiting\n",
      "x_train (957919, 119) y_train (957919,)\n",
      "x_valid (38317, 119) y_valid (38317,)\n"
     ]
    }
   ],
   "source": [
    "x_train = df_train.drop(['id', 'claim'], axis=1)\n",
    "x_train[\"nan_count\"] = x_train.isnull().sum(axis=1)\n",
    "y_train = df_train['claim']\n",
    "\n",
    "print(\"Using all data for training and submiting\")\n",
    "print('x_train', x_train.shape, 'y_train', y_train.shape)\n",
    "print('x_valid', x_valid.shape, 'y_valid', y_valid.shape)\n",
    "\n",
    "# Impute and Scale the values\n",
    "imputer = SimpleImputer(missing_values=np.nan, strategy='mean')\n",
    "x_train = imputer.fit_transform(x_train)\n",
    "\n",
    "scaler = StandardScaler()\n",
    "x_train = scaler.fit_transform(x_train)"
   ]
  },
  {
   "cell_type": "code",
   "execution_count": 65,
   "id": "d037abaa",
   "metadata": {
    "execution": {
     "iopub.execute_input": "2021-09-04T20:45:33.984089Z",
     "iopub.status.busy": "2021-09-04T20:45:33.983231Z",
     "iopub.status.idle": "2021-09-04T20:45:39.367043Z",
     "shell.execute_reply": "2021-09-04T20:45:39.366592Z",
     "shell.execute_reply.started": "2021-09-04T19:09:25.629512Z"
    },
    "papermill": {
     "duration": 5.484989,
     "end_time": "2021-09-04T20:45:39.367167",
     "exception": false,
     "start_time": "2021-09-04T20:45:33.882178",
     "status": "completed"
    },
    "tags": []
   },
   "outputs": [
    {
     "data": {
      "text/plain": [
       "XGBClassifier(base_score=0.5, booster='gbtree', colsample_bylevel=1,\n",
       "              colsample_bynode=1, colsample_bytree=0.2, eta=0.12, gamma=0,\n",
       "              gpu_id=0, importance_type='gain', interaction_constraints='',\n",
       "              learning_rate=0.119999997, max_delta_step=0, max_depth=3,\n",
       "              min_child_weight=1, missing=nan, monotone_constraints='()',\n",
       "              n_estimators=200, n_jobs=2, num_parallel_tree=1,\n",
       "              predictor='gpu_predictor', random_state=0, reg_alpha=0,\n",
       "              reg_lambda=1, scale_pos_weight=1, subsample=1.0,\n",
       "              tree_method='gpu_hist', validate_parameters=1, verbosity=None)"
      ]
     },
     "execution_count": 65,
     "metadata": {},
     "output_type": "execute_result"
    }
   ],
   "source": [
    "# model = XGBClassifier(n_estimators=250, eta=0.13, max_depth=5, subsample=0.9, colsample_bytree=0.1, tree_method='gpu_hist', predictor='gpu_predictor')\n",
    "model = XGBClassifier(**grid_cv.best_params_, tree_method='gpu_hist', predictor='gpu_predictor')\n",
    "model.fit(x_train, y_train)"
   ]
  },
  {
   "cell_type": "code",
   "execution_count": 66,
   "id": "b10a17ba",
   "metadata": {
    "execution": {
     "iopub.execute_input": "2021-09-04T20:45:39.563889Z",
     "iopub.status.busy": "2021-09-04T20:45:39.563339Z",
     "iopub.status.idle": "2021-09-04T20:45:54.561183Z",
     "shell.execute_reply": "2021-09-04T20:45:54.560585Z",
     "shell.execute_reply.started": "2021-09-04T19:09:43.771249Z"
    },
    "papermill": {
     "duration": 15.097923,
     "end_time": "2021-09-04T20:45:54.561313",
     "exception": false,
     "start_time": "2021-09-04T20:45:39.463390",
     "status": "completed"
    },
    "tags": []
   },
   "outputs": [
    {
     "name": "stdout",
     "output_type": "stream",
     "text": [
      "Using test data for predict and submiting\n",
      "x_test (493474, 119)\n"
     ]
    }
   ],
   "source": [
    "df_test =  pd.read_csv('/kaggle/input/tabular-playground-series-sep-2021/test.csv')\n",
    "x_test = df_test.drop(['id'], axis=1)\n",
    "x_test[\"nan_count\"] = x_test.isnull().sum(axis=1)\n",
    "\n",
    "print(\"Using test data for predict and submiting\")\n",
    "print('x_test', x_test.shape)\n",
    "\n",
    "# Impute and Scale the values\n",
    "x_test = imputer.transform(x_test)\n",
    "x_test = scaler.transform(x_test)"
   ]
  },
  {
   "cell_type": "code",
   "execution_count": 67,
   "id": "293c65fd",
   "metadata": {
    "execution": {
     "iopub.execute_input": "2021-09-04T20:45:54.761279Z",
     "iopub.status.busy": "2021-09-04T20:45:54.760746Z",
     "iopub.status.idle": "2021-09-04T20:45:56.009845Z",
     "shell.execute_reply": "2021-09-04T20:45:56.009228Z",
     "shell.execute_reply.started": "2021-09-04T19:09:56.389708Z"
    },
    "papermill": {
     "duration": 1.350265,
     "end_time": "2021-09-04T20:45:56.009965",
     "exception": false,
     "start_time": "2021-09-04T20:45:54.659700",
     "status": "completed"
    },
    "tags": []
   },
   "outputs": [],
   "source": [
    "claim = model.predict(x_test)\n",
    "ids = df_test['id'].values\n",
    "submission = pd.DataFrame({'id' : ids, 'claim' : claim})"
   ]
  },
  {
   "cell_type": "code",
   "execution_count": 68,
   "id": "725c5957",
   "metadata": {
    "execution": {
     "iopub.execute_input": "2021-09-04T20:45:56.213460Z",
     "iopub.status.busy": "2021-09-04T20:45:56.212926Z",
     "iopub.status.idle": "2021-09-04T20:45:56.219310Z",
     "shell.execute_reply": "2021-09-04T20:45:56.218840Z",
     "shell.execute_reply.started": "2021-09-04T19:09:57.841368Z"
    },
    "papermill": {
     "duration": 0.112315,
     "end_time": "2021-09-04T20:45:56.219422",
     "exception": false,
     "start_time": "2021-09-04T20:45:56.107107",
     "status": "completed"
    },
    "tags": []
   },
   "outputs": [
    {
     "data": {
      "text/html": [
       "<div>\n",
       "<style scoped>\n",
       "    .dataframe tbody tr th:only-of-type {\n",
       "        vertical-align: middle;\n",
       "    }\n",
       "\n",
       "    .dataframe tbody tr th {\n",
       "        vertical-align: top;\n",
       "    }\n",
       "\n",
       "    .dataframe thead th {\n",
       "        text-align: right;\n",
       "    }\n",
       "</style>\n",
       "<table border=\"1\" class=\"dataframe\">\n",
       "  <thead>\n",
       "    <tr style=\"text-align: right;\">\n",
       "      <th></th>\n",
       "      <th>id</th>\n",
       "      <th>claim</th>\n",
       "    </tr>\n",
       "  </thead>\n",
       "  <tbody>\n",
       "    <tr>\n",
       "      <th>0</th>\n",
       "      <td>957919</td>\n",
       "      <td>1</td>\n",
       "    </tr>\n",
       "    <tr>\n",
       "      <th>1</th>\n",
       "      <td>957920</td>\n",
       "      <td>0</td>\n",
       "    </tr>\n",
       "    <tr>\n",
       "      <th>2</th>\n",
       "      <td>957921</td>\n",
       "      <td>1</td>\n",
       "    </tr>\n",
       "    <tr>\n",
       "      <th>3</th>\n",
       "      <td>957922</td>\n",
       "      <td>0</td>\n",
       "    </tr>\n",
       "    <tr>\n",
       "      <th>4</th>\n",
       "      <td>957923</td>\n",
       "      <td>0</td>\n",
       "    </tr>\n",
       "  </tbody>\n",
       "</table>\n",
       "</div>"
      ],
      "text/plain": [
       "       id  claim\n",
       "0  957919      1\n",
       "1  957920      0\n",
       "2  957921      1\n",
       "3  957922      0\n",
       "4  957923      0"
      ]
     },
     "execution_count": 68,
     "metadata": {},
     "output_type": "execute_result"
    }
   ],
   "source": [
    "submission.head()"
   ]
  },
  {
   "cell_type": "code",
   "execution_count": 69,
   "id": "a62d04f6",
   "metadata": {
    "execution": {
     "iopub.execute_input": "2021-09-04T20:45:56.420749Z",
     "iopub.status.busy": "2021-09-04T20:45:56.420060Z",
     "iopub.status.idle": "2021-09-04T20:45:57.202436Z",
     "shell.execute_reply": "2021-09-04T20:45:57.203024Z",
     "shell.execute_reply.started": "2021-09-04T19:10:11.730662Z"
    },
    "papermill": {
     "duration": 0.884859,
     "end_time": "2021-09-04T20:45:57.203215",
     "exception": false,
     "start_time": "2021-09-04T20:45:56.318356",
     "status": "completed"
    },
    "tags": []
   },
   "outputs": [],
   "source": [
    "submission.to_csv('submission.csv', index=False)"
   ]
  },
  {
   "cell_type": "code",
   "execution_count": null,
   "id": "e5a78bf8",
   "metadata": {
    "papermill": {
     "duration": 0.100745,
     "end_time": "2021-09-04T20:45:57.403208",
     "exception": false,
     "start_time": "2021-09-04T20:45:57.302463",
     "status": "completed"
    },
    "tags": []
   },
   "outputs": [],
   "source": []
  }
 ],
 "metadata": {
  "kernelspec": {
   "display_name": "Python 3",
   "language": "python",
   "name": "python3"
  },
  "language_info": {
   "codemirror_mode": {
    "name": "ipython",
    "version": 3
   },
   "file_extension": ".py",
   "mimetype": "text/x-python",
   "name": "python",
   "nbconvert_exporter": "python",
   "pygments_lexer": "ipython3",
   "version": "3.7.10"
  },
  "papermill": {
   "default_parameters": {},
   "duration": 1671.319662,
   "end_time": "2021-09-04T20:45:59.218838",
   "environment_variables": {},
   "exception": null,
   "input_path": "__notebook__.ipynb",
   "output_path": "__notebook__.ipynb",
   "parameters": {},
   "start_time": "2021-09-04T20:18:07.899176",
   "version": "2.3.3"
  },
  "widgets": {
   "application/vnd.jupyter.widget-state+json": {
    "state": {
     "043164eacd1742eb93a112b497647e07": {
      "model_module": "@jupyter-widgets/controls",
      "model_module_version": "1.5.0",
      "model_name": "HBoxModel",
      "state": {
       "_dom_classes": [],
       "_model_module": "@jupyter-widgets/controls",
       "_model_module_version": "1.5.0",
       "_model_name": "HBoxModel",
       "_view_count": null,
       "_view_module": "@jupyter-widgets/controls",
       "_view_module_version": "1.5.0",
       "_view_name": "HBoxView",
       "box_style": "",
       "children": [
        "IPY_MODEL_59f34360939540e9bb4e24933d1ada9e",
        "IPY_MODEL_e757d7e7a79b43acbd4d115aa6c60b8a",
        "IPY_MODEL_702653a7d91c4003ade383982c905a22"
       ],
       "layout": "IPY_MODEL_1179573156bb48ae8ef2e9c527930eb4"
      }
     },
     "0729032b40684ef4a7451779c9e96162": {
      "model_module": "@jupyter-widgets/controls",
      "model_module_version": "1.5.0",
      "model_name": "FloatProgressModel",
      "state": {
       "_dom_classes": [],
       "_model_module": "@jupyter-widgets/controls",
       "_model_module_version": "1.5.0",
       "_model_name": "FloatProgressModel",
       "_view_count": null,
       "_view_module": "@jupyter-widgets/controls",
       "_view_module_version": "1.5.0",
       "_view_name": "ProgressView",
       "bar_style": "success",
       "description": "",
       "description_tooltip": null,
       "layout": "IPY_MODEL_35833dc71b344dcbaa537da31f9edf29",
       "max": 13.0,
       "min": 0.0,
       "orientation": "horizontal",
       "style": "IPY_MODEL_e5aecbe4b8654cc38cb3cfa34a9c788f",
       "value": 13.0
      }
     },
     "0808eb02f37b4e64be547192df4bc229": {
      "model_module": "@jupyter-widgets/base",
      "model_module_version": "1.2.0",
      "model_name": "LayoutModel",
      "state": {
       "_model_module": "@jupyter-widgets/base",
       "_model_module_version": "1.2.0",
       "_model_name": "LayoutModel",
       "_view_count": null,
       "_view_module": "@jupyter-widgets/base",
       "_view_module_version": "1.2.0",
       "_view_name": "LayoutView",
       "align_content": null,
       "align_items": null,
       "align_self": null,
       "border": null,
       "bottom": null,
       "display": null,
       "flex": null,
       "flex_flow": null,
       "grid_area": null,
       "grid_auto_columns": null,
       "grid_auto_flow": null,
       "grid_auto_rows": null,
       "grid_column": null,
       "grid_gap": null,
       "grid_row": null,
       "grid_template_areas": null,
       "grid_template_columns": null,
       "grid_template_rows": null,
       "height": null,
       "justify_content": null,
       "justify_items": null,
       "left": null,
       "margin": null,
       "max_height": null,
       "max_width": null,
       "min_height": null,
       "min_width": null,
       "object_fit": null,
       "object_position": null,
       "order": null,
       "overflow": null,
       "overflow_x": null,
       "overflow_y": null,
       "padding": null,
       "right": null,
       "top": null,
       "visibility": null,
       "width": null
      }
     },
     "0c4c7bb55be6449a9855e6cd13eca89e": {
      "model_module": "@jupyter-widgets/base",
      "model_module_version": "1.2.0",
      "model_name": "LayoutModel",
      "state": {
       "_model_module": "@jupyter-widgets/base",
       "_model_module_version": "1.2.0",
       "_model_name": "LayoutModel",
       "_view_count": null,
       "_view_module": "@jupyter-widgets/base",
       "_view_module_version": "1.2.0",
       "_view_name": "LayoutView",
       "align_content": null,
       "align_items": null,
       "align_self": null,
       "border": null,
       "bottom": null,
       "display": null,
       "flex": null,
       "flex_flow": null,
       "grid_area": null,
       "grid_auto_columns": null,
       "grid_auto_flow": null,
       "grid_auto_rows": null,
       "grid_column": null,
       "grid_gap": null,
       "grid_row": null,
       "grid_template_areas": null,
       "grid_template_columns": null,
       "grid_template_rows": null,
       "height": null,
       "justify_content": null,
       "justify_items": null,
       "left": null,
       "margin": null,
       "max_height": null,
       "max_width": null,
       "min_height": null,
       "min_width": null,
       "object_fit": null,
       "object_position": null,
       "order": null,
       "overflow": null,
       "overflow_x": null,
       "overflow_y": null,
       "padding": null,
       "right": null,
       "top": null,
       "visibility": null,
       "width": null
      }
     },
     "0eb35f02ba204b80b15f0d9fbdb987b3": {
      "model_module": "@jupyter-widgets/controls",
      "model_module_version": "1.5.0",
      "model_name": "HBoxModel",
      "state": {
       "_dom_classes": [],
       "_model_module": "@jupyter-widgets/controls",
       "_model_module_version": "1.5.0",
       "_model_name": "HBoxModel",
       "_view_count": null,
       "_view_module": "@jupyter-widgets/controls",
       "_view_module_version": "1.5.0",
       "_view_name": "HBoxView",
       "box_style": "",
       "children": [
        "IPY_MODEL_1ccab79fc35e4a18a502ef1381d44494",
        "IPY_MODEL_0729032b40684ef4a7451779c9e96162",
        "IPY_MODEL_2b1a51b17747460bace5cb9779c13fff"
       ],
       "layout": "IPY_MODEL_fdde96a542ad4de5a92d2461fb01052e"
      }
     },
     "110ad60b4d8c4a469454d30b8511cc30": {
      "model_module": "@jupyter-widgets/controls",
      "model_module_version": "1.5.0",
      "model_name": "DescriptionStyleModel",
      "state": {
       "_model_module": "@jupyter-widgets/controls",
       "_model_module_version": "1.5.0",
       "_model_name": "DescriptionStyleModel",
       "_view_count": null,
       "_view_module": "@jupyter-widgets/base",
       "_view_module_version": "1.2.0",
       "_view_name": "StyleView",
       "description_width": ""
      }
     },
     "1179573156bb48ae8ef2e9c527930eb4": {
      "model_module": "@jupyter-widgets/base",
      "model_module_version": "1.2.0",
      "model_name": "LayoutModel",
      "state": {
       "_model_module": "@jupyter-widgets/base",
       "_model_module_version": "1.2.0",
       "_model_name": "LayoutModel",
       "_view_count": null,
       "_view_module": "@jupyter-widgets/base",
       "_view_module_version": "1.2.0",
       "_view_name": "LayoutView",
       "align_content": null,
       "align_items": null,
       "align_self": null,
       "border": null,
       "bottom": null,
       "display": null,
       "flex": null,
       "flex_flow": null,
       "grid_area": null,
       "grid_auto_columns": null,
       "grid_auto_flow": null,
       "grid_auto_rows": null,
       "grid_column": null,
       "grid_gap": null,
       "grid_row": null,
       "grid_template_areas": null,
       "grid_template_columns": null,
       "grid_template_rows": null,
       "height": null,
       "justify_content": null,
       "justify_items": null,
       "left": null,
       "margin": null,
       "max_height": null,
       "max_width": null,
       "min_height": null,
       "min_width": null,
       "object_fit": null,
       "object_position": null,
       "order": null,
       "overflow": null,
       "overflow_x": null,
       "overflow_y": null,
       "padding": null,
       "right": null,
       "top": null,
       "visibility": null,
       "width": null
      }
     },
     "127e831513734404a7fd42ed7b4c2660": {
      "model_module": "@jupyter-widgets/base",
      "model_module_version": "1.2.0",
      "model_name": "LayoutModel",
      "state": {
       "_model_module": "@jupyter-widgets/base",
       "_model_module_version": "1.2.0",
       "_model_name": "LayoutModel",
       "_view_count": null,
       "_view_module": "@jupyter-widgets/base",
       "_view_module_version": "1.2.0",
       "_view_name": "LayoutView",
       "align_content": null,
       "align_items": null,
       "align_self": null,
       "border": null,
       "bottom": null,
       "display": null,
       "flex": null,
       "flex_flow": null,
       "grid_area": null,
       "grid_auto_columns": null,
       "grid_auto_flow": null,
       "grid_auto_rows": null,
       "grid_column": null,
       "grid_gap": null,
       "grid_row": null,
       "grid_template_areas": null,
       "grid_template_columns": null,
       "grid_template_rows": null,
       "height": null,
       "justify_content": null,
       "justify_items": null,
       "left": null,
       "margin": null,
       "max_height": null,
       "max_width": null,
       "min_height": null,
       "min_width": null,
       "object_fit": null,
       "object_position": null,
       "order": null,
       "overflow": null,
       "overflow_x": null,
       "overflow_y": null,
       "padding": null,
       "right": null,
       "top": null,
       "visibility": null,
       "width": null
      }
     },
     "1540c7f0bca443649a266ffa91c87f6b": {
      "model_module": "@jupyter-widgets/controls",
      "model_module_version": "1.5.0",
      "model_name": "DescriptionStyleModel",
      "state": {
       "_model_module": "@jupyter-widgets/controls",
       "_model_module_version": "1.5.0",
       "_model_name": "DescriptionStyleModel",
       "_view_count": null,
       "_view_module": "@jupyter-widgets/base",
       "_view_module_version": "1.2.0",
       "_view_name": "StyleView",
       "description_width": ""
      }
     },
     "16217520204b419082466d9bc9918c4b": {
      "model_module": "@jupyter-widgets/base",
      "model_module_version": "1.2.0",
      "model_name": "LayoutModel",
      "state": {
       "_model_module": "@jupyter-widgets/base",
       "_model_module_version": "1.2.0",
       "_model_name": "LayoutModel",
       "_view_count": null,
       "_view_module": "@jupyter-widgets/base",
       "_view_module_version": "1.2.0",
       "_view_name": "LayoutView",
       "align_content": null,
       "align_items": null,
       "align_self": null,
       "border": null,
       "bottom": null,
       "display": null,
       "flex": null,
       "flex_flow": null,
       "grid_area": null,
       "grid_auto_columns": null,
       "grid_auto_flow": null,
       "grid_auto_rows": null,
       "grid_column": null,
       "grid_gap": null,
       "grid_row": null,
       "grid_template_areas": null,
       "grid_template_columns": null,
       "grid_template_rows": null,
       "height": null,
       "justify_content": null,
       "justify_items": null,
       "left": null,
       "margin": null,
       "max_height": null,
       "max_width": null,
       "min_height": null,
       "min_width": null,
       "object_fit": null,
       "object_position": null,
       "order": null,
       "overflow": null,
       "overflow_x": null,
       "overflow_y": null,
       "padding": null,
       "right": null,
       "top": null,
       "visibility": null,
       "width": null
      }
     },
     "191d558acf62445093b76384cc71ec38": {
      "model_module": "@jupyter-widgets/controls",
      "model_module_version": "1.5.0",
      "model_name": "HTMLModel",
      "state": {
       "_dom_classes": [],
       "_model_module": "@jupyter-widgets/controls",
       "_model_module_version": "1.5.0",
       "_model_name": "HTMLModel",
       "_view_count": null,
       "_view_module": "@jupyter-widgets/controls",
       "_view_module_version": "1.5.0",
       "_view_name": "HTMLView",
       "description": "",
       "description_tooltip": null,
       "layout": "IPY_MODEL_30516ca2353545a385baa81713a2e273",
       "placeholder": "​",
       "style": "IPY_MODEL_715585ce92f9447095be9f6b3b82bb78",
       "value": " 10/10 [00:14&lt;00:00,  1.58s/it]"
      }
     },
     "1969f568d39c42399e8cfa03959bef18": {
      "model_module": "@jupyter-widgets/controls",
      "model_module_version": "1.5.0",
      "model_name": "DescriptionStyleModel",
      "state": {
       "_model_module": "@jupyter-widgets/controls",
       "_model_module_version": "1.5.0",
       "_model_name": "DescriptionStyleModel",
       "_view_count": null,
       "_view_module": "@jupyter-widgets/base",
       "_view_module_version": "1.2.0",
       "_view_name": "StyleView",
       "description_width": ""
      }
     },
     "1a119518640c4a269e75b2bbc78d35ac": {
      "model_module": "@jupyter-widgets/base",
      "model_module_version": "1.2.0",
      "model_name": "LayoutModel",
      "state": {
       "_model_module": "@jupyter-widgets/base",
       "_model_module_version": "1.2.0",
       "_model_name": "LayoutModel",
       "_view_count": null,
       "_view_module": "@jupyter-widgets/base",
       "_view_module_version": "1.2.0",
       "_view_name": "LayoutView",
       "align_content": null,
       "align_items": null,
       "align_self": null,
       "border": null,
       "bottom": null,
       "display": null,
       "flex": null,
       "flex_flow": null,
       "grid_area": null,
       "grid_auto_columns": null,
       "grid_auto_flow": null,
       "grid_auto_rows": null,
       "grid_column": null,
       "grid_gap": null,
       "grid_row": null,
       "grid_template_areas": null,
       "grid_template_columns": null,
       "grid_template_rows": null,
       "height": null,
       "justify_content": null,
       "justify_items": null,
       "left": null,
       "margin": null,
       "max_height": null,
       "max_width": null,
       "min_height": null,
       "min_width": null,
       "object_fit": null,
       "object_position": null,
       "order": null,
       "overflow": null,
       "overflow_x": null,
       "overflow_y": null,
       "padding": null,
       "right": null,
       "top": null,
       "visibility": null,
       "width": null
      }
     },
     "1b9339a537a040cdb095a09df370d11c": {
      "model_module": "@jupyter-widgets/base",
      "model_module_version": "1.2.0",
      "model_name": "LayoutModel",
      "state": {
       "_model_module": "@jupyter-widgets/base",
       "_model_module_version": "1.2.0",
       "_model_name": "LayoutModel",
       "_view_count": null,
       "_view_module": "@jupyter-widgets/base",
       "_view_module_version": "1.2.0",
       "_view_name": "LayoutView",
       "align_content": null,
       "align_items": null,
       "align_self": null,
       "border": null,
       "bottom": null,
       "display": null,
       "flex": null,
       "flex_flow": null,
       "grid_area": null,
       "grid_auto_columns": null,
       "grid_auto_flow": null,
       "grid_auto_rows": null,
       "grid_column": null,
       "grid_gap": null,
       "grid_row": null,
       "grid_template_areas": null,
       "grid_template_columns": null,
       "grid_template_rows": null,
       "height": null,
       "justify_content": null,
       "justify_items": null,
       "left": null,
       "margin": null,
       "max_height": null,
       "max_width": null,
       "min_height": null,
       "min_width": null,
       "object_fit": null,
       "object_position": null,
       "order": null,
       "overflow": null,
       "overflow_x": null,
       "overflow_y": null,
       "padding": null,
       "right": null,
       "top": null,
       "visibility": null,
       "width": null
      }
     },
     "1ccab79fc35e4a18a502ef1381d44494": {
      "model_module": "@jupyter-widgets/controls",
      "model_module_version": "1.5.0",
      "model_name": "HTMLModel",
      "state": {
       "_dom_classes": [],
       "_model_module": "@jupyter-widgets/controls",
       "_model_module_version": "1.5.0",
       "_model_name": "HTMLModel",
       "_view_count": null,
       "_view_module": "@jupyter-widgets/controls",
       "_view_module_version": "1.5.0",
       "_view_name": "HTMLView",
       "description": "",
       "description_tooltip": null,
       "layout": "IPY_MODEL_33f6868348d649fcb1b2d0f1ca188303",
       "placeholder": "​",
       "style": "IPY_MODEL_ed4bef282bc441bb95d3498ad9e9425d",
       "value": "100%"
      }
     },
     "1ef24495cca541f9b16fff53595ff240": {
      "model_module": "@jupyter-widgets/controls",
      "model_module_version": "1.5.0",
      "model_name": "HTMLModel",
      "state": {
       "_dom_classes": [],
       "_model_module": "@jupyter-widgets/controls",
       "_model_module_version": "1.5.0",
       "_model_name": "HTMLModel",
       "_view_count": null,
       "_view_module": "@jupyter-widgets/controls",
       "_view_module_version": "1.5.0",
       "_view_name": "HTMLView",
       "description": "",
       "description_tooltip": null,
       "layout": "IPY_MODEL_0808eb02f37b4e64be547192df4bc229",
       "placeholder": "​",
       "style": "IPY_MODEL_86c0112a588b4dd1a373ec887a5fb4e2",
       "value": " 19/19 [03:59&lt;00:00, 29.16s/it]"
      }
     },
     "200394935f3f4f71912e3f8376219e24": {
      "model_module": "@jupyter-widgets/controls",
      "model_module_version": "1.5.0",
      "model_name": "ProgressStyleModel",
      "state": {
       "_model_module": "@jupyter-widgets/controls",
       "_model_module_version": "1.5.0",
       "_model_name": "ProgressStyleModel",
       "_view_count": null,
       "_view_module": "@jupyter-widgets/base",
       "_view_module_version": "1.2.0",
       "_view_name": "StyleView",
       "bar_color": null,
       "description_width": ""
      }
     },
     "222c12ddb3f84523a718d79d0187f5fb": {
      "model_module": "@jupyter-widgets/controls",
      "model_module_version": "1.5.0",
      "model_name": "DescriptionStyleModel",
      "state": {
       "_model_module": "@jupyter-widgets/controls",
       "_model_module_version": "1.5.0",
       "_model_name": "DescriptionStyleModel",
       "_view_count": null,
       "_view_module": "@jupyter-widgets/base",
       "_view_module_version": "1.2.0",
       "_view_name": "StyleView",
       "description_width": ""
      }
     },
     "28aa851f70744ce68470d49f8e353510": {
      "model_module": "@jupyter-widgets/base",
      "model_module_version": "1.2.0",
      "model_name": "LayoutModel",
      "state": {
       "_model_module": "@jupyter-widgets/base",
       "_model_module_version": "1.2.0",
       "_model_name": "LayoutModel",
       "_view_count": null,
       "_view_module": "@jupyter-widgets/base",
       "_view_module_version": "1.2.0",
       "_view_name": "LayoutView",
       "align_content": null,
       "align_items": null,
       "align_self": null,
       "border": null,
       "bottom": null,
       "display": null,
       "flex": null,
       "flex_flow": null,
       "grid_area": null,
       "grid_auto_columns": null,
       "grid_auto_flow": null,
       "grid_auto_rows": null,
       "grid_column": null,
       "grid_gap": null,
       "grid_row": null,
       "grid_template_areas": null,
       "grid_template_columns": null,
       "grid_template_rows": null,
       "height": null,
       "justify_content": null,
       "justify_items": null,
       "left": null,
       "margin": null,
       "max_height": null,
       "max_width": null,
       "min_height": null,
       "min_width": null,
       "object_fit": null,
       "object_position": null,
       "order": null,
       "overflow": null,
       "overflow_x": null,
       "overflow_y": null,
       "padding": null,
       "right": null,
       "top": null,
       "visibility": null,
       "width": null
      }
     },
     "2b1a51b17747460bace5cb9779c13fff": {
      "model_module": "@jupyter-widgets/controls",
      "model_module_version": "1.5.0",
      "model_name": "HTMLModel",
      "state": {
       "_dom_classes": [],
       "_model_module": "@jupyter-widgets/controls",
       "_model_module_version": "1.5.0",
       "_model_name": "HTMLModel",
       "_view_count": null,
       "_view_module": "@jupyter-widgets/controls",
       "_view_module_version": "1.5.0",
       "_view_name": "HTMLView",
       "description": "",
       "description_tooltip": null,
       "layout": "IPY_MODEL_6651838093f049e086c97103509c4d6b",
       "placeholder": "​",
       "style": "IPY_MODEL_1540c7f0bca443649a266ffa91c87f6b",
       "value": " 13/13 [00:21&lt;00:00,  1.60s/it]"
      }
     },
     "2d36501e399b4eb8b44649df34f03f05": {
      "model_module": "@jupyter-widgets/controls",
      "model_module_version": "1.5.0",
      "model_name": "ProgressStyleModel",
      "state": {
       "_model_module": "@jupyter-widgets/controls",
       "_model_module_version": "1.5.0",
       "_model_name": "ProgressStyleModel",
       "_view_count": null,
       "_view_module": "@jupyter-widgets/base",
       "_view_module_version": "1.2.0",
       "_view_name": "StyleView",
       "bar_color": null,
       "description_width": ""
      }
     },
     "30516ca2353545a385baa81713a2e273": {
      "model_module": "@jupyter-widgets/base",
      "model_module_version": "1.2.0",
      "model_name": "LayoutModel",
      "state": {
       "_model_module": "@jupyter-widgets/base",
       "_model_module_version": "1.2.0",
       "_model_name": "LayoutModel",
       "_view_count": null,
       "_view_module": "@jupyter-widgets/base",
       "_view_module_version": "1.2.0",
       "_view_name": "LayoutView",
       "align_content": null,
       "align_items": null,
       "align_self": null,
       "border": null,
       "bottom": null,
       "display": null,
       "flex": null,
       "flex_flow": null,
       "grid_area": null,
       "grid_auto_columns": null,
       "grid_auto_flow": null,
       "grid_auto_rows": null,
       "grid_column": null,
       "grid_gap": null,
       "grid_row": null,
       "grid_template_areas": null,
       "grid_template_columns": null,
       "grid_template_rows": null,
       "height": null,
       "justify_content": null,
       "justify_items": null,
       "left": null,
       "margin": null,
       "max_height": null,
       "max_width": null,
       "min_height": null,
       "min_width": null,
       "object_fit": null,
       "object_position": null,
       "order": null,
       "overflow": null,
       "overflow_x": null,
       "overflow_y": null,
       "padding": null,
       "right": null,
       "top": null,
       "visibility": null,
       "width": null
      }
     },
     "33f6868348d649fcb1b2d0f1ca188303": {
      "model_module": "@jupyter-widgets/base",
      "model_module_version": "1.2.0",
      "model_name": "LayoutModel",
      "state": {
       "_model_module": "@jupyter-widgets/base",
       "_model_module_version": "1.2.0",
       "_model_name": "LayoutModel",
       "_view_count": null,
       "_view_module": "@jupyter-widgets/base",
       "_view_module_version": "1.2.0",
       "_view_name": "LayoutView",
       "align_content": null,
       "align_items": null,
       "align_self": null,
       "border": null,
       "bottom": null,
       "display": null,
       "flex": null,
       "flex_flow": null,
       "grid_area": null,
       "grid_auto_columns": null,
       "grid_auto_flow": null,
       "grid_auto_rows": null,
       "grid_column": null,
       "grid_gap": null,
       "grid_row": null,
       "grid_template_areas": null,
       "grid_template_columns": null,
       "grid_template_rows": null,
       "height": null,
       "justify_content": null,
       "justify_items": null,
       "left": null,
       "margin": null,
       "max_height": null,
       "max_width": null,
       "min_height": null,
       "min_width": null,
       "object_fit": null,
       "object_position": null,
       "order": null,
       "overflow": null,
       "overflow_x": null,
       "overflow_y": null,
       "padding": null,
       "right": null,
       "top": null,
       "visibility": null,
       "width": null
      }
     },
     "35833dc71b344dcbaa537da31f9edf29": {
      "model_module": "@jupyter-widgets/base",
      "model_module_version": "1.2.0",
      "model_name": "LayoutModel",
      "state": {
       "_model_module": "@jupyter-widgets/base",
       "_model_module_version": "1.2.0",
       "_model_name": "LayoutModel",
       "_view_count": null,
       "_view_module": "@jupyter-widgets/base",
       "_view_module_version": "1.2.0",
       "_view_name": "LayoutView",
       "align_content": null,
       "align_items": null,
       "align_self": null,
       "border": null,
       "bottom": null,
       "display": null,
       "flex": null,
       "flex_flow": null,
       "grid_area": null,
       "grid_auto_columns": null,
       "grid_auto_flow": null,
       "grid_auto_rows": null,
       "grid_column": null,
       "grid_gap": null,
       "grid_row": null,
       "grid_template_areas": null,
       "grid_template_columns": null,
       "grid_template_rows": null,
       "height": null,
       "justify_content": null,
       "justify_items": null,
       "left": null,
       "margin": null,
       "max_height": null,
       "max_width": null,
       "min_height": null,
       "min_width": null,
       "object_fit": null,
       "object_position": null,
       "order": null,
       "overflow": null,
       "overflow_x": null,
       "overflow_y": null,
       "padding": null,
       "right": null,
       "top": null,
       "visibility": null,
       "width": null
      }
     },
     "3c9ab27b9de64fcfaac347bc929d75ab": {
      "model_module": "@jupyter-widgets/base",
      "model_module_version": "1.2.0",
      "model_name": "LayoutModel",
      "state": {
       "_model_module": "@jupyter-widgets/base",
       "_model_module_version": "1.2.0",
       "_model_name": "LayoutModel",
       "_view_count": null,
       "_view_module": "@jupyter-widgets/base",
       "_view_module_version": "1.2.0",
       "_view_name": "LayoutView",
       "align_content": null,
       "align_items": null,
       "align_self": null,
       "border": null,
       "bottom": null,
       "display": null,
       "flex": null,
       "flex_flow": null,
       "grid_area": null,
       "grid_auto_columns": null,
       "grid_auto_flow": null,
       "grid_auto_rows": null,
       "grid_column": null,
       "grid_gap": null,
       "grid_row": null,
       "grid_template_areas": null,
       "grid_template_columns": null,
       "grid_template_rows": null,
       "height": null,
       "justify_content": null,
       "justify_items": null,
       "left": null,
       "margin": null,
       "max_height": null,
       "max_width": null,
       "min_height": null,
       "min_width": null,
       "object_fit": null,
       "object_position": null,
       "order": null,
       "overflow": null,
       "overflow_x": null,
       "overflow_y": null,
       "padding": null,
       "right": null,
       "top": null,
       "visibility": null,
       "width": null
      }
     },
     "3d0b771adcdb4f9db2c7ce49c7298522": {
      "model_module": "@jupyter-widgets/base",
      "model_module_version": "1.2.0",
      "model_name": "LayoutModel",
      "state": {
       "_model_module": "@jupyter-widgets/base",
       "_model_module_version": "1.2.0",
       "_model_name": "LayoutModel",
       "_view_count": null,
       "_view_module": "@jupyter-widgets/base",
       "_view_module_version": "1.2.0",
       "_view_name": "LayoutView",
       "align_content": null,
       "align_items": null,
       "align_self": null,
       "border": null,
       "bottom": null,
       "display": null,
       "flex": null,
       "flex_flow": null,
       "grid_area": null,
       "grid_auto_columns": null,
       "grid_auto_flow": null,
       "grid_auto_rows": null,
       "grid_column": null,
       "grid_gap": null,
       "grid_row": null,
       "grid_template_areas": null,
       "grid_template_columns": null,
       "grid_template_rows": null,
       "height": null,
       "justify_content": null,
       "justify_items": null,
       "left": null,
       "margin": null,
       "max_height": null,
       "max_width": null,
       "min_height": null,
       "min_width": null,
       "object_fit": null,
       "object_position": null,
       "order": null,
       "overflow": null,
       "overflow_x": null,
       "overflow_y": null,
       "padding": null,
       "right": null,
       "top": null,
       "visibility": null,
       "width": null
      }
     },
     "4140ca6cd44649969e7c8efee88177b2": {
      "model_module": "@jupyter-widgets/base",
      "model_module_version": "1.2.0",
      "model_name": "LayoutModel",
      "state": {
       "_model_module": "@jupyter-widgets/base",
       "_model_module_version": "1.2.0",
       "_model_name": "LayoutModel",
       "_view_count": null,
       "_view_module": "@jupyter-widgets/base",
       "_view_module_version": "1.2.0",
       "_view_name": "LayoutView",
       "align_content": null,
       "align_items": null,
       "align_self": null,
       "border": null,
       "bottom": null,
       "display": null,
       "flex": null,
       "flex_flow": null,
       "grid_area": null,
       "grid_auto_columns": null,
       "grid_auto_flow": null,
       "grid_auto_rows": null,
       "grid_column": null,
       "grid_gap": null,
       "grid_row": null,
       "grid_template_areas": null,
       "grid_template_columns": null,
       "grid_template_rows": null,
       "height": null,
       "justify_content": null,
       "justify_items": null,
       "left": null,
       "margin": null,
       "max_height": null,
       "max_width": null,
       "min_height": null,
       "min_width": null,
       "object_fit": null,
       "object_position": null,
       "order": null,
       "overflow": null,
       "overflow_x": null,
       "overflow_y": null,
       "padding": null,
       "right": null,
       "top": null,
       "visibility": null,
       "width": null
      }
     },
     "4633966aac2843ca8cab5cd4b40786b6": {
      "model_module": "@jupyter-widgets/controls",
      "model_module_version": "1.5.0",
      "model_name": "ProgressStyleModel",
      "state": {
       "_model_module": "@jupyter-widgets/controls",
       "_model_module_version": "1.5.0",
       "_model_name": "ProgressStyleModel",
       "_view_count": null,
       "_view_module": "@jupyter-widgets/base",
       "_view_module_version": "1.2.0",
       "_view_name": "StyleView",
       "bar_color": null,
       "description_width": ""
      }
     },
     "524ec86b4ccd443b903b665326b12ab4": {
      "model_module": "@jupyter-widgets/base",
      "model_module_version": "1.2.0",
      "model_name": "LayoutModel",
      "state": {
       "_model_module": "@jupyter-widgets/base",
       "_model_module_version": "1.2.0",
       "_model_name": "LayoutModel",
       "_view_count": null,
       "_view_module": "@jupyter-widgets/base",
       "_view_module_version": "1.2.0",
       "_view_name": "LayoutView",
       "align_content": null,
       "align_items": null,
       "align_self": null,
       "border": null,
       "bottom": null,
       "display": null,
       "flex": null,
       "flex_flow": null,
       "grid_area": null,
       "grid_auto_columns": null,
       "grid_auto_flow": null,
       "grid_auto_rows": null,
       "grid_column": null,
       "grid_gap": null,
       "grid_row": null,
       "grid_template_areas": null,
       "grid_template_columns": null,
       "grid_template_rows": null,
       "height": null,
       "justify_content": null,
       "justify_items": null,
       "left": null,
       "margin": null,
       "max_height": null,
       "max_width": null,
       "min_height": null,
       "min_width": null,
       "object_fit": null,
       "object_position": null,
       "order": null,
       "overflow": null,
       "overflow_x": null,
       "overflow_y": null,
       "padding": null,
       "right": null,
       "top": null,
       "visibility": null,
       "width": null
      }
     },
     "561eecb5b4d34d07a52292a0c3fbdd64": {
      "model_module": "@jupyter-widgets/controls",
      "model_module_version": "1.5.0",
      "model_name": "HTMLModel",
      "state": {
       "_dom_classes": [],
       "_model_module": "@jupyter-widgets/controls",
       "_model_module_version": "1.5.0",
       "_model_name": "HTMLModel",
       "_view_count": null,
       "_view_module": "@jupyter-widgets/controls",
       "_view_module_version": "1.5.0",
       "_view_name": "HTMLView",
       "description": "",
       "description_tooltip": null,
       "layout": "IPY_MODEL_e2709162cb2345779eb2de264b9762d6",
       "placeholder": "​",
       "style": "IPY_MODEL_ec7ec6ac7ed34718bf5ef97a207dd8bf",
       "value": " 10/10 [00:15&lt;00:00,  1.57s/it]"
      }
     },
     "59f34360939540e9bb4e24933d1ada9e": {
      "model_module": "@jupyter-widgets/controls",
      "model_module_version": "1.5.0",
      "model_name": "HTMLModel",
      "state": {
       "_dom_classes": [],
       "_model_module": "@jupyter-widgets/controls",
       "_model_module_version": "1.5.0",
       "_model_name": "HTMLModel",
       "_view_count": null,
       "_view_module": "@jupyter-widgets/controls",
       "_view_module_version": "1.5.0",
       "_view_name": "HTMLView",
       "description": "",
       "description_tooltip": null,
       "layout": "IPY_MODEL_0c4c7bb55be6449a9855e6cd13eca89e",
       "placeholder": "​",
       "style": "IPY_MODEL_222c12ddb3f84523a718d79d0187f5fb",
       "value": "100%"
      }
     },
     "6651838093f049e086c97103509c4d6b": {
      "model_module": "@jupyter-widgets/base",
      "model_module_version": "1.2.0",
      "model_name": "LayoutModel",
      "state": {
       "_model_module": "@jupyter-widgets/base",
       "_model_module_version": "1.2.0",
       "_model_name": "LayoutModel",
       "_view_count": null,
       "_view_module": "@jupyter-widgets/base",
       "_view_module_version": "1.2.0",
       "_view_name": "LayoutView",
       "align_content": null,
       "align_items": null,
       "align_self": null,
       "border": null,
       "bottom": null,
       "display": null,
       "flex": null,
       "flex_flow": null,
       "grid_area": null,
       "grid_auto_columns": null,
       "grid_auto_flow": null,
       "grid_auto_rows": null,
       "grid_column": null,
       "grid_gap": null,
       "grid_row": null,
       "grid_template_areas": null,
       "grid_template_columns": null,
       "grid_template_rows": null,
       "height": null,
       "justify_content": null,
       "justify_items": null,
       "left": null,
       "margin": null,
       "max_height": null,
       "max_width": null,
       "min_height": null,
       "min_width": null,
       "object_fit": null,
       "object_position": null,
       "order": null,
       "overflow": null,
       "overflow_x": null,
       "overflow_y": null,
       "padding": null,
       "right": null,
       "top": null,
       "visibility": null,
       "width": null
      }
     },
     "6bae3eee3d644dd0b4d2c861afb99fa1": {
      "model_module": "@jupyter-widgets/controls",
      "model_module_version": "1.5.0",
      "model_name": "HTMLModel",
      "state": {
       "_dom_classes": [],
       "_model_module": "@jupyter-widgets/controls",
       "_model_module_version": "1.5.0",
       "_model_name": "HTMLModel",
       "_view_count": null,
       "_view_module": "@jupyter-widgets/controls",
       "_view_module_version": "1.5.0",
       "_view_name": "HTMLView",
       "description": "",
       "description_tooltip": null,
       "layout": "IPY_MODEL_d78744ef74fa4416b58c4c4ac4bb78c7",
       "placeholder": "​",
       "style": "IPY_MODEL_9ed59c060ca946f2b87956776188f597",
       "value": "100%"
      }
     },
     "700a73016ed5404e9e66ca7b6d824895": {
      "model_module": "@jupyter-widgets/controls",
      "model_module_version": "1.5.0",
      "model_name": "ProgressStyleModel",
      "state": {
       "_model_module": "@jupyter-widgets/controls",
       "_model_module_version": "1.5.0",
       "_model_name": "ProgressStyleModel",
       "_view_count": null,
       "_view_module": "@jupyter-widgets/base",
       "_view_module_version": "1.2.0",
       "_view_name": "StyleView",
       "bar_color": null,
       "description_width": ""
      }
     },
     "702653a7d91c4003ade383982c905a22": {
      "model_module": "@jupyter-widgets/controls",
      "model_module_version": "1.5.0",
      "model_name": "HTMLModel",
      "state": {
       "_dom_classes": [],
       "_model_module": "@jupyter-widgets/controls",
       "_model_module_version": "1.5.0",
       "_model_name": "HTMLModel",
       "_view_count": null,
       "_view_module": "@jupyter-widgets/controls",
       "_view_module_version": "1.5.0",
       "_view_name": "HTMLView",
       "description": "",
       "description_tooltip": null,
       "layout": "IPY_MODEL_16217520204b419082466d9bc9918c4b",
       "placeholder": "​",
       "style": "IPY_MODEL_be5dc3f5d7b1485dbbccaaa5e9a42df8",
       "value": " 18/18 [04:48&lt;00:00, 43.90s/it]"
      }
     },
     "715585ce92f9447095be9f6b3b82bb78": {
      "model_module": "@jupyter-widgets/controls",
      "model_module_version": "1.5.0",
      "model_name": "DescriptionStyleModel",
      "state": {
       "_model_module": "@jupyter-widgets/controls",
       "_model_module_version": "1.5.0",
       "_model_name": "DescriptionStyleModel",
       "_view_count": null,
       "_view_module": "@jupyter-widgets/base",
       "_view_module_version": "1.2.0",
       "_view_name": "StyleView",
       "description_width": ""
      }
     },
     "843fd3e191894196a48935ee4d6ad76b": {
      "model_module": "@jupyter-widgets/controls",
      "model_module_version": "1.5.0",
      "model_name": "FloatProgressModel",
      "state": {
       "_dom_classes": [],
       "_model_module": "@jupyter-widgets/controls",
       "_model_module_version": "1.5.0",
       "_model_name": "FloatProgressModel",
       "_view_count": null,
       "_view_module": "@jupyter-widgets/controls",
       "_view_module_version": "1.5.0",
       "_view_name": "ProgressView",
       "bar_style": "success",
       "description": "",
       "description_tooltip": null,
       "layout": "IPY_MODEL_90ae2b587ee84fab81a64788403bf145",
       "max": 10.0,
       "min": 0.0,
       "orientation": "horizontal",
       "style": "IPY_MODEL_200394935f3f4f71912e3f8376219e24",
       "value": 10.0
      }
     },
     "86c0112a588b4dd1a373ec887a5fb4e2": {
      "model_module": "@jupyter-widgets/controls",
      "model_module_version": "1.5.0",
      "model_name": "DescriptionStyleModel",
      "state": {
       "_model_module": "@jupyter-widgets/controls",
       "_model_module_version": "1.5.0",
       "_model_name": "DescriptionStyleModel",
       "_view_count": null,
       "_view_module": "@jupyter-widgets/base",
       "_view_module_version": "1.2.0",
       "_view_name": "StyleView",
       "description_width": ""
      }
     },
     "90ae2b587ee84fab81a64788403bf145": {
      "model_module": "@jupyter-widgets/base",
      "model_module_version": "1.2.0",
      "model_name": "LayoutModel",
      "state": {
       "_model_module": "@jupyter-widgets/base",
       "_model_module_version": "1.2.0",
       "_model_name": "LayoutModel",
       "_view_count": null,
       "_view_module": "@jupyter-widgets/base",
       "_view_module_version": "1.2.0",
       "_view_name": "LayoutView",
       "align_content": null,
       "align_items": null,
       "align_self": null,
       "border": null,
       "bottom": null,
       "display": null,
       "flex": null,
       "flex_flow": null,
       "grid_area": null,
       "grid_auto_columns": null,
       "grid_auto_flow": null,
       "grid_auto_rows": null,
       "grid_column": null,
       "grid_gap": null,
       "grid_row": null,
       "grid_template_areas": null,
       "grid_template_columns": null,
       "grid_template_rows": null,
       "height": null,
       "justify_content": null,
       "justify_items": null,
       "left": null,
       "margin": null,
       "max_height": null,
       "max_width": null,
       "min_height": null,
       "min_width": null,
       "object_fit": null,
       "object_position": null,
       "order": null,
       "overflow": null,
       "overflow_x": null,
       "overflow_y": null,
       "padding": null,
       "right": null,
       "top": null,
       "visibility": null,
       "width": null
      }
     },
     "9ed59c060ca946f2b87956776188f597": {
      "model_module": "@jupyter-widgets/controls",
      "model_module_version": "1.5.0",
      "model_name": "DescriptionStyleModel",
      "state": {
       "_model_module": "@jupyter-widgets/controls",
       "_model_module_version": "1.5.0",
       "_model_name": "DescriptionStyleModel",
       "_view_count": null,
       "_view_module": "@jupyter-widgets/base",
       "_view_module_version": "1.2.0",
       "_view_name": "StyleView",
       "description_width": ""
      }
     },
     "acbb1e0c5e0d4374a8db61b5790b38c2": {
      "model_module": "@jupyter-widgets/controls",
      "model_module_version": "1.5.0",
      "model_name": "HTMLModel",
      "state": {
       "_dom_classes": [],
       "_model_module": "@jupyter-widgets/controls",
       "_model_module_version": "1.5.0",
       "_model_name": "HTMLModel",
       "_view_count": null,
       "_view_module": "@jupyter-widgets/controls",
       "_view_module_version": "1.5.0",
       "_view_name": "HTMLView",
       "description": "",
       "description_tooltip": null,
       "layout": "IPY_MODEL_3d0b771adcdb4f9db2c7ce49c7298522",
       "placeholder": "​",
       "style": "IPY_MODEL_110ad60b4d8c4a469454d30b8511cc30",
       "value": "100%"
      }
     },
     "ade4129f6b0b4fd0843989f758d867b9": {
      "model_module": "@jupyter-widgets/controls",
      "model_module_version": "1.5.0",
      "model_name": "HBoxModel",
      "state": {
       "_dom_classes": [],
       "_model_module": "@jupyter-widgets/controls",
       "_model_module_version": "1.5.0",
       "_model_name": "HBoxModel",
       "_view_count": null,
       "_view_module": "@jupyter-widgets/controls",
       "_view_module_version": "1.5.0",
       "_view_name": "HBoxView",
       "box_style": "",
       "children": [
        "IPY_MODEL_acbb1e0c5e0d4374a8db61b5790b38c2",
        "IPY_MODEL_d532f17fca6f4d7c8af702b77e09be39",
        "IPY_MODEL_1ef24495cca541f9b16fff53595ff240"
       ],
       "layout": "IPY_MODEL_3c9ab27b9de64fcfaac347bc929d75ab"
      }
     },
     "b55ba4e7064548fc8f09372f9ecd3fa4": {
      "model_module": "@jupyter-widgets/controls",
      "model_module_version": "1.5.0",
      "model_name": "HTMLModel",
      "state": {
       "_dom_classes": [],
       "_model_module": "@jupyter-widgets/controls",
       "_model_module_version": "1.5.0",
       "_model_name": "HTMLModel",
       "_view_count": null,
       "_view_module": "@jupyter-widgets/controls",
       "_view_module_version": "1.5.0",
       "_view_name": "HTMLView",
       "description": "",
       "description_tooltip": null,
       "layout": "IPY_MODEL_127e831513734404a7fd42ed7b4c2660",
       "placeholder": "​",
       "style": "IPY_MODEL_1969f568d39c42399e8cfa03959bef18",
       "value": "100%"
      }
     },
     "be5dc3f5d7b1485dbbccaaa5e9a42df8": {
      "model_module": "@jupyter-widgets/controls",
      "model_module_version": "1.5.0",
      "model_name": "DescriptionStyleModel",
      "state": {
       "_model_module": "@jupyter-widgets/controls",
       "_model_module_version": "1.5.0",
       "_model_name": "DescriptionStyleModel",
       "_view_count": null,
       "_view_module": "@jupyter-widgets/base",
       "_view_module_version": "1.2.0",
       "_view_name": "StyleView",
       "description_width": ""
      }
     },
     "d532f17fca6f4d7c8af702b77e09be39": {
      "model_module": "@jupyter-widgets/controls",
      "model_module_version": "1.5.0",
      "model_name": "FloatProgressModel",
      "state": {
       "_dom_classes": [],
       "_model_module": "@jupyter-widgets/controls",
       "_model_module_version": "1.5.0",
       "_model_name": "FloatProgressModel",
       "_view_count": null,
       "_view_module": "@jupyter-widgets/controls",
       "_view_module_version": "1.5.0",
       "_view_name": "ProgressView",
       "bar_style": "success",
       "description": "",
       "description_tooltip": null,
       "layout": "IPY_MODEL_524ec86b4ccd443b903b665326b12ab4",
       "max": 19.0,
       "min": 0.0,
       "orientation": "horizontal",
       "style": "IPY_MODEL_2d36501e399b4eb8b44649df34f03f05",
       "value": 19.0
      }
     },
     "d78744ef74fa4416b58c4c4ac4bb78c7": {
      "model_module": "@jupyter-widgets/base",
      "model_module_version": "1.2.0",
      "model_name": "LayoutModel",
      "state": {
       "_model_module": "@jupyter-widgets/base",
       "_model_module_version": "1.2.0",
       "_model_name": "LayoutModel",
       "_view_count": null,
       "_view_module": "@jupyter-widgets/base",
       "_view_module_version": "1.2.0",
       "_view_name": "LayoutView",
       "align_content": null,
       "align_items": null,
       "align_self": null,
       "border": null,
       "bottom": null,
       "display": null,
       "flex": null,
       "flex_flow": null,
       "grid_area": null,
       "grid_auto_columns": null,
       "grid_auto_flow": null,
       "grid_auto_rows": null,
       "grid_column": null,
       "grid_gap": null,
       "grid_row": null,
       "grid_template_areas": null,
       "grid_template_columns": null,
       "grid_template_rows": null,
       "height": null,
       "justify_content": null,
       "justify_items": null,
       "left": null,
       "margin": null,
       "max_height": null,
       "max_width": null,
       "min_height": null,
       "min_width": null,
       "object_fit": null,
       "object_position": null,
       "order": null,
       "overflow": null,
       "overflow_x": null,
       "overflow_y": null,
       "padding": null,
       "right": null,
       "top": null,
       "visibility": null,
       "width": null
      }
     },
     "db6f8bf9db344473a30856167ce77327": {
      "model_module": "@jupyter-widgets/controls",
      "model_module_version": "1.5.0",
      "model_name": "HBoxModel",
      "state": {
       "_dom_classes": [],
       "_model_module": "@jupyter-widgets/controls",
       "_model_module_version": "1.5.0",
       "_model_name": "HBoxModel",
       "_view_count": null,
       "_view_module": "@jupyter-widgets/controls",
       "_view_module_version": "1.5.0",
       "_view_name": "HBoxView",
       "box_style": "",
       "children": [
        "IPY_MODEL_b55ba4e7064548fc8f09372f9ecd3fa4",
        "IPY_MODEL_e1a1bd775bf845b09bc78a4521a03152",
        "IPY_MODEL_191d558acf62445093b76384cc71ec38"
       ],
       "layout": "IPY_MODEL_4140ca6cd44649969e7c8efee88177b2"
      }
     },
     "e1a1bd775bf845b09bc78a4521a03152": {
      "model_module": "@jupyter-widgets/controls",
      "model_module_version": "1.5.0",
      "model_name": "FloatProgressModel",
      "state": {
       "_dom_classes": [],
       "_model_module": "@jupyter-widgets/controls",
       "_model_module_version": "1.5.0",
       "_model_name": "FloatProgressModel",
       "_view_count": null,
       "_view_module": "@jupyter-widgets/controls",
       "_view_module_version": "1.5.0",
       "_view_name": "ProgressView",
       "bar_style": "success",
       "description": "",
       "description_tooltip": null,
       "layout": "IPY_MODEL_1b9339a537a040cdb095a09df370d11c",
       "max": 10.0,
       "min": 0.0,
       "orientation": "horizontal",
       "style": "IPY_MODEL_4633966aac2843ca8cab5cd4b40786b6",
       "value": 10.0
      }
     },
     "e2709162cb2345779eb2de264b9762d6": {
      "model_module": "@jupyter-widgets/base",
      "model_module_version": "1.2.0",
      "model_name": "LayoutModel",
      "state": {
       "_model_module": "@jupyter-widgets/base",
       "_model_module_version": "1.2.0",
       "_model_name": "LayoutModel",
       "_view_count": null,
       "_view_module": "@jupyter-widgets/base",
       "_view_module_version": "1.2.0",
       "_view_name": "LayoutView",
       "align_content": null,
       "align_items": null,
       "align_self": null,
       "border": null,
       "bottom": null,
       "display": null,
       "flex": null,
       "flex_flow": null,
       "grid_area": null,
       "grid_auto_columns": null,
       "grid_auto_flow": null,
       "grid_auto_rows": null,
       "grid_column": null,
       "grid_gap": null,
       "grid_row": null,
       "grid_template_areas": null,
       "grid_template_columns": null,
       "grid_template_rows": null,
       "height": null,
       "justify_content": null,
       "justify_items": null,
       "left": null,
       "margin": null,
       "max_height": null,
       "max_width": null,
       "min_height": null,
       "min_width": null,
       "object_fit": null,
       "object_position": null,
       "order": null,
       "overflow": null,
       "overflow_x": null,
       "overflow_y": null,
       "padding": null,
       "right": null,
       "top": null,
       "visibility": null,
       "width": null
      }
     },
     "e5aecbe4b8654cc38cb3cfa34a9c788f": {
      "model_module": "@jupyter-widgets/controls",
      "model_module_version": "1.5.0",
      "model_name": "ProgressStyleModel",
      "state": {
       "_model_module": "@jupyter-widgets/controls",
       "_model_module_version": "1.5.0",
       "_model_name": "ProgressStyleModel",
       "_view_count": null,
       "_view_module": "@jupyter-widgets/base",
       "_view_module_version": "1.2.0",
       "_view_name": "StyleView",
       "bar_color": null,
       "description_width": ""
      }
     },
     "e757d7e7a79b43acbd4d115aa6c60b8a": {
      "model_module": "@jupyter-widgets/controls",
      "model_module_version": "1.5.0",
      "model_name": "FloatProgressModel",
      "state": {
       "_dom_classes": [],
       "_model_module": "@jupyter-widgets/controls",
       "_model_module_version": "1.5.0",
       "_model_name": "FloatProgressModel",
       "_view_count": null,
       "_view_module": "@jupyter-widgets/controls",
       "_view_module_version": "1.5.0",
       "_view_name": "ProgressView",
       "bar_style": "success",
       "description": "",
       "description_tooltip": null,
       "layout": "IPY_MODEL_1a119518640c4a269e75b2bbc78d35ac",
       "max": 18.0,
       "min": 0.0,
       "orientation": "horizontal",
       "style": "IPY_MODEL_700a73016ed5404e9e66ca7b6d824895",
       "value": 18.0
      }
     },
     "ec7ec6ac7ed34718bf5ef97a207dd8bf": {
      "model_module": "@jupyter-widgets/controls",
      "model_module_version": "1.5.0",
      "model_name": "DescriptionStyleModel",
      "state": {
       "_model_module": "@jupyter-widgets/controls",
       "_model_module_version": "1.5.0",
       "_model_name": "DescriptionStyleModel",
       "_view_count": null,
       "_view_module": "@jupyter-widgets/base",
       "_view_module_version": "1.2.0",
       "_view_name": "StyleView",
       "description_width": ""
      }
     },
     "ed4bef282bc441bb95d3498ad9e9425d": {
      "model_module": "@jupyter-widgets/controls",
      "model_module_version": "1.5.0",
      "model_name": "DescriptionStyleModel",
      "state": {
       "_model_module": "@jupyter-widgets/controls",
       "_model_module_version": "1.5.0",
       "_model_name": "DescriptionStyleModel",
       "_view_count": null,
       "_view_module": "@jupyter-widgets/base",
       "_view_module_version": "1.2.0",
       "_view_name": "StyleView",
       "description_width": ""
      }
     },
     "f8ab7d4477ac4ca3894731d2b723cc2f": {
      "model_module": "@jupyter-widgets/controls",
      "model_module_version": "1.5.0",
      "model_name": "HBoxModel",
      "state": {
       "_dom_classes": [],
       "_model_module": "@jupyter-widgets/controls",
       "_model_module_version": "1.5.0",
       "_model_name": "HBoxModel",
       "_view_count": null,
       "_view_module": "@jupyter-widgets/controls",
       "_view_module_version": "1.5.0",
       "_view_name": "HBoxView",
       "box_style": "",
       "children": [
        "IPY_MODEL_6bae3eee3d644dd0b4d2c861afb99fa1",
        "IPY_MODEL_843fd3e191894196a48935ee4d6ad76b",
        "IPY_MODEL_561eecb5b4d34d07a52292a0c3fbdd64"
       ],
       "layout": "IPY_MODEL_28aa851f70744ce68470d49f8e353510"
      }
     },
     "fdde96a542ad4de5a92d2461fb01052e": {
      "model_module": "@jupyter-widgets/base",
      "model_module_version": "1.2.0",
      "model_name": "LayoutModel",
      "state": {
       "_model_module": "@jupyter-widgets/base",
       "_model_module_version": "1.2.0",
       "_model_name": "LayoutModel",
       "_view_count": null,
       "_view_module": "@jupyter-widgets/base",
       "_view_module_version": "1.2.0",
       "_view_name": "LayoutView",
       "align_content": null,
       "align_items": null,
       "align_self": null,
       "border": null,
       "bottom": null,
       "display": null,
       "flex": null,
       "flex_flow": null,
       "grid_area": null,
       "grid_auto_columns": null,
       "grid_auto_flow": null,
       "grid_auto_rows": null,
       "grid_column": null,
       "grid_gap": null,
       "grid_row": null,
       "grid_template_areas": null,
       "grid_template_columns": null,
       "grid_template_rows": null,
       "height": null,
       "justify_content": null,
       "justify_items": null,
       "left": null,
       "margin": null,
       "max_height": null,
       "max_width": null,
       "min_height": null,
       "min_width": null,
       "object_fit": null,
       "object_position": null,
       "order": null,
       "overflow": null,
       "overflow_x": null,
       "overflow_y": null,
       "padding": null,
       "right": null,
       "top": null,
       "visibility": null,
       "width": null
      }
     }
    },
    "version_major": 2,
    "version_minor": 0
   }
  }
 },
 "nbformat": 4,
 "nbformat_minor": 5
}
