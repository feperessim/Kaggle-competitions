{
 "cells": [
  {
   "cell_type": "code",
   "execution_count": 1,
   "id": "3888bafa",
   "metadata": {
    "_cell_guid": "b1076dfc-b9ad-4769-8c92-a6c4dae69d19",
    "_uuid": "8f2839f25d086af736a60e9eeb907d3b93b6e0e5",
    "execution": {
     "iopub.execute_input": "2022-06-25T01:16:53.930888Z",
     "iopub.status.busy": "2022-06-25T01:16:53.929886Z",
     "iopub.status.idle": "2022-06-25T01:16:55.207716Z",
     "shell.execute_reply": "2022-06-25T01:16:55.205017Z"
    },
    "papermill": {
     "duration": 1.289091,
     "end_time": "2022-06-25T01:16:55.210486",
     "exception": false,
     "start_time": "2022-06-25T01:16:53.921395",
     "status": "completed"
    },
    "tags": []
   },
   "outputs": [
    {
     "name": "stdout",
     "output_type": "stream",
     "text": [
      "/kaggle/input/tabular-playground-series-jun-2022/sample_submission.csv\n",
      "/kaggle/input/tabular-playground-series-jun-2022/data.csv\n"
     ]
    }
   ],
   "source": [
    "import numpy as np\n",
    "import pandas as pd\n",
    "import seaborn as sns\n",
    "\n",
    "\n",
    "import os\n",
    "for dirname, _, filenames in os.walk('/kaggle/input'):\n",
    "    for filename in filenames:\n",
    "        print(os.path.join(dirname, filename))\n"
   ]
  },
  {
   "cell_type": "markdown",
   "id": "2393717b",
   "metadata": {
    "papermill": {
     "duration": 0.005252,
     "end_time": "2022-06-25T01:16:55.221415",
     "exception": false,
     "start_time": "2022-06-25T01:16:55.216163",
     "status": "completed"
    },
    "tags": []
   },
   "source": [
    "# Tabular Playground Series - Jun 2022\n",
    "\n",
    "The June edition of the 2022 Tabular Playground series is all about data imputation. The dataset has similarities to the May 2022 Tabular Playground, except that there are no targets. Rather, there are missing data values in the dataset, and your task is to predict what these values should be.\n",
    "\n"
   ]
  },
  {
   "cell_type": "code",
   "execution_count": 2,
   "id": "3eb6aa79",
   "metadata": {
    "execution": {
     "iopub.execute_input": "2022-06-25T01:16:55.234249Z",
     "iopub.status.busy": "2022-06-25T01:16:55.233878Z",
     "iopub.status.idle": "2022-06-25T01:17:14.218282Z",
     "shell.execute_reply": "2022-06-25T01:17:14.217033Z"
    },
    "papermill": {
     "duration": 18.994439,
     "end_time": "2022-06-25T01:17:14.221390",
     "exception": false,
     "start_time": "2022-06-25T01:16:55.226951",
     "status": "completed"
    },
    "tags": []
   },
   "outputs": [],
   "source": [
    "df = pd.read_csv(\"/kaggle/input/tabular-playground-series-jun-2022/data.csv\")"
   ]
  },
  {
   "cell_type": "markdown",
   "id": "1db69d09",
   "metadata": {
    "papermill": {
     "duration": 0.005377,
     "end_time": "2022-06-25T01:17:14.232617",
     "exception": false,
     "start_time": "2022-06-25T01:17:14.227240",
     "status": "completed"
    },
    "tags": []
   },
   "source": [
    "## 1 Exploratory data analysis"
   ]
  },
  {
   "cell_type": "code",
   "execution_count": 3,
   "id": "9f70bfd1",
   "metadata": {
    "execution": {
     "iopub.execute_input": "2022-06-25T01:17:14.246215Z",
     "iopub.status.busy": "2022-06-25T01:17:14.245435Z",
     "iopub.status.idle": "2022-06-25T01:17:14.254795Z",
     "shell.execute_reply": "2022-06-25T01:17:14.253672Z"
    },
    "papermill": {
     "duration": 0.018417,
     "end_time": "2022-06-25T01:17:14.257029",
     "exception": false,
     "start_time": "2022-06-25T01:17:14.238612",
     "status": "completed"
    },
    "tags": []
   },
   "outputs": [
    {
     "data": {
      "text/plain": [
       "(1000000, 81)"
      ]
     },
     "execution_count": 3,
     "metadata": {},
     "output_type": "execute_result"
    }
   ],
   "source": [
    "df.shape"
   ]
  },
  {
   "cell_type": "code",
   "execution_count": 4,
   "id": "0c623d5a",
   "metadata": {
    "execution": {
     "iopub.execute_input": "2022-06-25T01:17:14.269896Z",
     "iopub.status.busy": "2022-06-25T01:17:14.269506Z",
     "iopub.status.idle": "2022-06-25T01:17:14.305137Z",
     "shell.execute_reply": "2022-06-25T01:17:14.303959Z"
    },
    "papermill": {
     "duration": 0.045238,
     "end_time": "2022-06-25T01:17:14.307966",
     "exception": false,
     "start_time": "2022-06-25T01:17:14.262728",
     "status": "completed"
    },
    "tags": []
   },
   "outputs": [
    {
     "data": {
      "text/html": [
       "<div>\n",
       "<style scoped>\n",
       "    .dataframe tbody tr th:only-of-type {\n",
       "        vertical-align: middle;\n",
       "    }\n",
       "\n",
       "    .dataframe tbody tr th {\n",
       "        vertical-align: top;\n",
       "    }\n",
       "\n",
       "    .dataframe thead th {\n",
       "        text-align: right;\n",
       "    }\n",
       "</style>\n",
       "<table border=\"1\" class=\"dataframe\">\n",
       "  <thead>\n",
       "    <tr style=\"text-align: right;\">\n",
       "      <th></th>\n",
       "      <th>row_id</th>\n",
       "      <th>F_1_0</th>\n",
       "      <th>F_1_1</th>\n",
       "      <th>F_1_2</th>\n",
       "      <th>F_1_3</th>\n",
       "      <th>F_1_4</th>\n",
       "      <th>F_1_5</th>\n",
       "      <th>F_1_6</th>\n",
       "      <th>F_1_7</th>\n",
       "      <th>F_1_8</th>\n",
       "      <th>...</th>\n",
       "      <th>F_4_5</th>\n",
       "      <th>F_4_6</th>\n",
       "      <th>F_4_7</th>\n",
       "      <th>F_4_8</th>\n",
       "      <th>F_4_9</th>\n",
       "      <th>F_4_10</th>\n",
       "      <th>F_4_11</th>\n",
       "      <th>F_4_12</th>\n",
       "      <th>F_4_13</th>\n",
       "      <th>F_4_14</th>\n",
       "    </tr>\n",
       "  </thead>\n",
       "  <tbody>\n",
       "    <tr>\n",
       "      <th>0</th>\n",
       "      <td>0</td>\n",
       "      <td>-0.354591</td>\n",
       "      <td>-0.464038</td>\n",
       "      <td>2.304115</td>\n",
       "      <td>0.734486</td>\n",
       "      <td>1.696395</td>\n",
       "      <td>0.136285</td>\n",
       "      <td>-0.518344</td>\n",
       "      <td>0.502640</td>\n",
       "      <td>-1.852504</td>\n",
       "      <td>...</td>\n",
       "      <td>3.744152</td>\n",
       "      <td>0.794438</td>\n",
       "      <td>0.265185</td>\n",
       "      <td>-0.561809</td>\n",
       "      <td>0.196480</td>\n",
       "      <td>0.373434</td>\n",
       "      <td>6.206995</td>\n",
       "      <td>3.809505</td>\n",
       "      <td>1.236486</td>\n",
       "      <td>1.182055</td>\n",
       "    </tr>\n",
       "    <tr>\n",
       "      <th>1</th>\n",
       "      <td>1</td>\n",
       "      <td>1.380940</td>\n",
       "      <td>-0.499626</td>\n",
       "      <td>-0.418548</td>\n",
       "      <td>1.911725</td>\n",
       "      <td>-0.826130</td>\n",
       "      <td>-1.715371</td>\n",
       "      <td>-0.577091</td>\n",
       "      <td>-1.041486</td>\n",
       "      <td>0.596067</td>\n",
       "      <td>...</td>\n",
       "      <td>-2.895826</td>\n",
       "      <td>-0.738275</td>\n",
       "      <td>2.361818</td>\n",
       "      <td>-0.060753</td>\n",
       "      <td>0.727249</td>\n",
       "      <td>-0.271882</td>\n",
       "      <td>5.232157</td>\n",
       "      <td>-4.218259</td>\n",
       "      <td>-2.724883</td>\n",
       "      <td>-0.063775</td>\n",
       "    </tr>\n",
       "    <tr>\n",
       "      <th>2</th>\n",
       "      <td>2</td>\n",
       "      <td>0.256023</td>\n",
       "      <td>-1.059874</td>\n",
       "      <td>NaN</td>\n",
       "      <td>0.345678</td>\n",
       "      <td>1.513814</td>\n",
       "      <td>1.243864</td>\n",
       "      <td>-0.509648</td>\n",
       "      <td>-0.800481</td>\n",
       "      <td>-0.115945</td>\n",
       "      <td>...</td>\n",
       "      <td>2.252834</td>\n",
       "      <td>0.472496</td>\n",
       "      <td>2.491386</td>\n",
       "      <td>0.353381</td>\n",
       "      <td>-0.260682</td>\n",
       "      <td>-0.000833</td>\n",
       "      <td>-0.116457</td>\n",
       "      <td>-2.131747</td>\n",
       "      <td>3.661499</td>\n",
       "      <td>-0.131576</td>\n",
       "    </tr>\n",
       "    <tr>\n",
       "      <th>3</th>\n",
       "      <td>3</td>\n",
       "      <td>-0.728420</td>\n",
       "      <td>-2.432399</td>\n",
       "      <td>-2.453602</td>\n",
       "      <td>-0.020509</td>\n",
       "      <td>0.333397</td>\n",
       "      <td>0.086049</td>\n",
       "      <td>-1.787601</td>\n",
       "      <td>0.667011</td>\n",
       "      <td>0.761564</td>\n",
       "      <td>...</td>\n",
       "      <td>2.004600</td>\n",
       "      <td>-4.664806</td>\n",
       "      <td>-0.847211</td>\n",
       "      <td>-0.264249</td>\n",
       "      <td>0.664334</td>\n",
       "      <td>-0.557868</td>\n",
       "      <td>8.499483</td>\n",
       "      <td>-4.738799</td>\n",
       "      <td>-3.054611</td>\n",
       "      <td>0.494152</td>\n",
       "    </tr>\n",
       "    <tr>\n",
       "      <th>4</th>\n",
       "      <td>4</td>\n",
       "      <td>0.590212</td>\n",
       "      <td>-0.066127</td>\n",
       "      <td>0.468009</td>\n",
       "      <td>-1.096038</td>\n",
       "      <td>0.119399</td>\n",
       "      <td>-1.809710</td>\n",
       "      <td>0.466358</td>\n",
       "      <td>-0.053196</td>\n",
       "      <td>-0.580320</td>\n",
       "      <td>...</td>\n",
       "      <td>0.976937</td>\n",
       "      <td>2.558883</td>\n",
       "      <td>3.377724</td>\n",
       "      <td>0.846891</td>\n",
       "      <td>0.696032</td>\n",
       "      <td>0.554121</td>\n",
       "      <td>-5.979714</td>\n",
       "      <td>-2.869631</td>\n",
       "      <td>3.733057</td>\n",
       "      <td>-0.722943</td>\n",
       "    </tr>\n",
       "  </tbody>\n",
       "</table>\n",
       "<p>5 rows × 81 columns</p>\n",
       "</div>"
      ],
      "text/plain": [
       "   row_id     F_1_0     F_1_1     F_1_2     F_1_3     F_1_4     F_1_5  \\\n",
       "0       0 -0.354591 -0.464038  2.304115  0.734486  1.696395  0.136285   \n",
       "1       1  1.380940 -0.499626 -0.418548  1.911725 -0.826130 -1.715371   \n",
       "2       2  0.256023 -1.059874       NaN  0.345678  1.513814  1.243864   \n",
       "3       3 -0.728420 -2.432399 -2.453602 -0.020509  0.333397  0.086049   \n",
       "4       4  0.590212 -0.066127  0.468009 -1.096038  0.119399 -1.809710   \n",
       "\n",
       "      F_1_6     F_1_7     F_1_8  ...     F_4_5     F_4_6     F_4_7     F_4_8  \\\n",
       "0 -0.518344  0.502640 -1.852504  ...  3.744152  0.794438  0.265185 -0.561809   \n",
       "1 -0.577091 -1.041486  0.596067  ... -2.895826 -0.738275  2.361818 -0.060753   \n",
       "2 -0.509648 -0.800481 -0.115945  ...  2.252834  0.472496  2.491386  0.353381   \n",
       "3 -1.787601  0.667011  0.761564  ...  2.004600 -4.664806 -0.847211 -0.264249   \n",
       "4  0.466358 -0.053196 -0.580320  ...  0.976937  2.558883  3.377724  0.846891   \n",
       "\n",
       "      F_4_9    F_4_10    F_4_11    F_4_12    F_4_13    F_4_14  \n",
       "0  0.196480  0.373434  6.206995  3.809505  1.236486  1.182055  \n",
       "1  0.727249 -0.271882  5.232157 -4.218259 -2.724883 -0.063775  \n",
       "2 -0.260682 -0.000833 -0.116457 -2.131747  3.661499 -0.131576  \n",
       "3  0.664334 -0.557868  8.499483 -4.738799 -3.054611  0.494152  \n",
       "4  0.696032  0.554121 -5.979714 -2.869631  3.733057 -0.722943  \n",
       "\n",
       "[5 rows x 81 columns]"
      ]
     },
     "execution_count": 4,
     "metadata": {},
     "output_type": "execute_result"
    }
   ],
   "source": [
    "df.head()"
   ]
  },
  {
   "cell_type": "code",
   "execution_count": 5,
   "id": "fbdad610",
   "metadata": {
    "execution": {
     "iopub.execute_input": "2022-06-25T01:17:14.322003Z",
     "iopub.status.busy": "2022-06-25T01:17:14.321639Z",
     "iopub.status.idle": "2022-06-25T01:17:14.346975Z",
     "shell.execute_reply": "2022-06-25T01:17:14.346063Z"
    },
    "papermill": {
     "duration": 0.035101,
     "end_time": "2022-06-25T01:17:14.349257",
     "exception": false,
     "start_time": "2022-06-25T01:17:14.314156",
     "status": "completed"
    },
    "tags": []
   },
   "outputs": [
    {
     "data": {
      "text/html": [
       "<div>\n",
       "<style scoped>\n",
       "    .dataframe tbody tr th:only-of-type {\n",
       "        vertical-align: middle;\n",
       "    }\n",
       "\n",
       "    .dataframe tbody tr th {\n",
       "        vertical-align: top;\n",
       "    }\n",
       "\n",
       "    .dataframe thead th {\n",
       "        text-align: right;\n",
       "    }\n",
       "</style>\n",
       "<table border=\"1\" class=\"dataframe\">\n",
       "  <thead>\n",
       "    <tr style=\"text-align: right;\">\n",
       "      <th></th>\n",
       "      <th>row_id</th>\n",
       "      <th>F_1_0</th>\n",
       "      <th>F_1_1</th>\n",
       "      <th>F_1_2</th>\n",
       "      <th>F_1_3</th>\n",
       "      <th>F_1_4</th>\n",
       "      <th>F_1_5</th>\n",
       "      <th>F_1_6</th>\n",
       "      <th>F_1_7</th>\n",
       "      <th>F_1_8</th>\n",
       "      <th>...</th>\n",
       "      <th>F_4_5</th>\n",
       "      <th>F_4_6</th>\n",
       "      <th>F_4_7</th>\n",
       "      <th>F_4_8</th>\n",
       "      <th>F_4_9</th>\n",
       "      <th>F_4_10</th>\n",
       "      <th>F_4_11</th>\n",
       "      <th>F_4_12</th>\n",
       "      <th>F_4_13</th>\n",
       "      <th>F_4_14</th>\n",
       "    </tr>\n",
       "  </thead>\n",
       "  <tbody>\n",
       "    <tr>\n",
       "      <th>999995</th>\n",
       "      <td>999995</td>\n",
       "      <td>-0.823740</td>\n",
       "      <td>0.285673</td>\n",
       "      <td>0.343307</td>\n",
       "      <td>-0.436747</td>\n",
       "      <td>1.700549</td>\n",
       "      <td>-1.069432</td>\n",
       "      <td>0.819698</td>\n",
       "      <td>-0.168457</td>\n",
       "      <td>-0.429074</td>\n",
       "      <td>...</td>\n",
       "      <td>1.799592</td>\n",
       "      <td>-0.301352</td>\n",
       "      <td>5.339675</td>\n",
       "      <td>-0.991529</td>\n",
       "      <td>1.279494</td>\n",
       "      <td>-0.841051</td>\n",
       "      <td>-2.276500</td>\n",
       "      <td>1.762961</td>\n",
       "      <td>5.324553</td>\n",
       "      <td>-0.228733</td>\n",
       "    </tr>\n",
       "    <tr>\n",
       "      <th>999996</th>\n",
       "      <td>999996</td>\n",
       "      <td>-0.769106</td>\n",
       "      <td>-0.387363</td>\n",
       "      <td>-1.227469</td>\n",
       "      <td>0.601183</td>\n",
       "      <td>0.351161</td>\n",
       "      <td>0.219475</td>\n",
       "      <td>-0.530277</td>\n",
       "      <td>0.853452</td>\n",
       "      <td>0.608646</td>\n",
       "      <td>...</td>\n",
       "      <td>1.909697</td>\n",
       "      <td>-1.299360</td>\n",
       "      <td>-0.071713</td>\n",
       "      <td>-0.162173</td>\n",
       "      <td>0.072501</td>\n",
       "      <td>-0.614687</td>\n",
       "      <td>-1.265524</td>\n",
       "      <td>0.190385</td>\n",
       "      <td>-0.344112</td>\n",
       "      <td>-0.346807</td>\n",
       "    </tr>\n",
       "    <tr>\n",
       "      <th>999997</th>\n",
       "      <td>999997</td>\n",
       "      <td>0.147534</td>\n",
       "      <td>-0.715276</td>\n",
       "      <td>-0.465049</td>\n",
       "      <td>-1.988941</td>\n",
       "      <td>-1.594535</td>\n",
       "      <td>-1.044882</td>\n",
       "      <td>3.159455</td>\n",
       "      <td>-0.634108</td>\n",
       "      <td>0.890382</td>\n",
       "      <td>...</td>\n",
       "      <td>2.891854</td>\n",
       "      <td>3.105002</td>\n",
       "      <td>-3.470520</td>\n",
       "      <td>NaN</td>\n",
       "      <td>0.096988</td>\n",
       "      <td>0.569255</td>\n",
       "      <td>3.609790</td>\n",
       "      <td>-0.584108</td>\n",
       "      <td>-1.492096</td>\n",
       "      <td>-0.997502</td>\n",
       "    </tr>\n",
       "    <tr>\n",
       "      <th>999998</th>\n",
       "      <td>999998</td>\n",
       "      <td>-1.709886</td>\n",
       "      <td>-0.813785</td>\n",
       "      <td>-1.866536</td>\n",
       "      <td>-0.179420</td>\n",
       "      <td>2.231478</td>\n",
       "      <td>1.460122</td>\n",
       "      <td>-0.220585</td>\n",
       "      <td>-0.118496</td>\n",
       "      <td>-0.140064</td>\n",
       "      <td>...</td>\n",
       "      <td>-1.135003</td>\n",
       "      <td>-5.127360</td>\n",
       "      <td>-3.903728</td>\n",
       "      <td>-1.597023</td>\n",
       "      <td>0.893159</td>\n",
       "      <td>0.379434</td>\n",
       "      <td>0.846266</td>\n",
       "      <td>-1.085554</td>\n",
       "      <td>3.122423</td>\n",
       "      <td>0.004831</td>\n",
       "    </tr>\n",
       "    <tr>\n",
       "      <th>999999</th>\n",
       "      <td>999999</td>\n",
       "      <td>-0.806380</td>\n",
       "      <td>-0.025251</td>\n",
       "      <td>-0.875477</td>\n",
       "      <td>0.802440</td>\n",
       "      <td>0.889492</td>\n",
       "      <td>-1.030684</td>\n",
       "      <td>-0.209134</td>\n",
       "      <td>-0.341420</td>\n",
       "      <td>2.367991</td>\n",
       "      <td>...</td>\n",
       "      <td>1.079820</td>\n",
       "      <td>-1.098772</td>\n",
       "      <td>-1.428362</td>\n",
       "      <td>-1.255175</td>\n",
       "      <td>0.509799</td>\n",
       "      <td>0.711470</td>\n",
       "      <td>-2.448386</td>\n",
       "      <td>2.334131</td>\n",
       "      <td>5.425421</td>\n",
       "      <td>-0.828847</td>\n",
       "    </tr>\n",
       "  </tbody>\n",
       "</table>\n",
       "<p>5 rows × 81 columns</p>\n",
       "</div>"
      ],
      "text/plain": [
       "        row_id     F_1_0     F_1_1     F_1_2     F_1_3     F_1_4     F_1_5  \\\n",
       "999995  999995 -0.823740  0.285673  0.343307 -0.436747  1.700549 -1.069432   \n",
       "999996  999996 -0.769106 -0.387363 -1.227469  0.601183  0.351161  0.219475   \n",
       "999997  999997  0.147534 -0.715276 -0.465049 -1.988941 -1.594535 -1.044882   \n",
       "999998  999998 -1.709886 -0.813785 -1.866536 -0.179420  2.231478  1.460122   \n",
       "999999  999999 -0.806380 -0.025251 -0.875477  0.802440  0.889492 -1.030684   \n",
       "\n",
       "           F_1_6     F_1_7     F_1_8  ...     F_4_5     F_4_6     F_4_7  \\\n",
       "999995  0.819698 -0.168457 -0.429074  ...  1.799592 -0.301352  5.339675   \n",
       "999996 -0.530277  0.853452  0.608646  ...  1.909697 -1.299360 -0.071713   \n",
       "999997  3.159455 -0.634108  0.890382  ...  2.891854  3.105002 -3.470520   \n",
       "999998 -0.220585 -0.118496 -0.140064  ... -1.135003 -5.127360 -3.903728   \n",
       "999999 -0.209134 -0.341420  2.367991  ...  1.079820 -1.098772 -1.428362   \n",
       "\n",
       "           F_4_8     F_4_9    F_4_10    F_4_11    F_4_12    F_4_13    F_4_14  \n",
       "999995 -0.991529  1.279494 -0.841051 -2.276500  1.762961  5.324553 -0.228733  \n",
       "999996 -0.162173  0.072501 -0.614687 -1.265524  0.190385 -0.344112 -0.346807  \n",
       "999997       NaN  0.096988  0.569255  3.609790 -0.584108 -1.492096 -0.997502  \n",
       "999998 -1.597023  0.893159  0.379434  0.846266 -1.085554  3.122423  0.004831  \n",
       "999999 -1.255175  0.509799  0.711470 -2.448386  2.334131  5.425421 -0.828847  \n",
       "\n",
       "[5 rows x 81 columns]"
      ]
     },
     "execution_count": 5,
     "metadata": {},
     "output_type": "execute_result"
    }
   ],
   "source": [
    "df.tail()"
   ]
  },
  {
   "cell_type": "code",
   "execution_count": 6,
   "id": "1cfc2c4f",
   "metadata": {
    "execution": {
     "iopub.execute_input": "2022-06-25T01:17:14.364490Z",
     "iopub.status.busy": "2022-06-25T01:17:14.364080Z",
     "iopub.status.idle": "2022-06-25T01:17:14.376091Z",
     "shell.execute_reply": "2022-06-25T01:17:14.375170Z"
    },
    "papermill": {
     "duration": 0.022086,
     "end_time": "2022-06-25T01:17:14.378244",
     "exception": false,
     "start_time": "2022-06-25T01:17:14.356158",
     "status": "completed"
    },
    "tags": []
   },
   "outputs": [
    {
     "data": {
      "text/plain": [
       "float64    55\n",
       "int64      26\n",
       "dtype: int64"
      ]
     },
     "execution_count": 6,
     "metadata": {},
     "output_type": "execute_result"
    }
   ],
   "source": [
    "pd.value_counts(df.dtypes)"
   ]
  },
  {
   "cell_type": "code",
   "execution_count": 7,
   "id": "01c9bfaa",
   "metadata": {
    "execution": {
     "iopub.execute_input": "2022-06-25T01:17:14.393816Z",
     "iopub.status.busy": "2022-06-25T01:17:14.393042Z",
     "iopub.status.idle": "2022-06-25T01:17:18.621679Z",
     "shell.execute_reply": "2022-06-25T01:17:18.620570Z"
    },
    "papermill": {
     "duration": 4.239367,
     "end_time": "2022-06-25T01:17:18.624502",
     "exception": false,
     "start_time": "2022-06-25T01:17:14.385135",
     "status": "completed"
    },
    "tags": []
   },
   "outputs": [
    {
     "data": {
      "text/html": [
       "<div>\n",
       "<style scoped>\n",
       "    .dataframe tbody tr th:only-of-type {\n",
       "        vertical-align: middle;\n",
       "    }\n",
       "\n",
       "    .dataframe tbody tr th {\n",
       "        vertical-align: top;\n",
       "    }\n",
       "\n",
       "    .dataframe thead th {\n",
       "        text-align: right;\n",
       "    }\n",
       "</style>\n",
       "<table border=\"1\" class=\"dataframe\">\n",
       "  <thead>\n",
       "    <tr style=\"text-align: right;\">\n",
       "      <th></th>\n",
       "      <th>count</th>\n",
       "      <th>mean</th>\n",
       "      <th>std</th>\n",
       "      <th>min</th>\n",
       "      <th>25%</th>\n",
       "      <th>50%</th>\n",
       "      <th>75%</th>\n",
       "      <th>max</th>\n",
       "    </tr>\n",
       "  </thead>\n",
       "  <tbody>\n",
       "    <tr>\n",
       "      <th>row_id</th>\n",
       "      <td>1000000.0</td>\n",
       "      <td>499999.500000</td>\n",
       "      <td>288675.278932</td>\n",
       "      <td>0.000000</td>\n",
       "      <td>249999.750000</td>\n",
       "      <td>499999.500000</td>\n",
       "      <td>749999.250000</td>\n",
       "      <td>999999.000000</td>\n",
       "    </tr>\n",
       "    <tr>\n",
       "      <th>F_1_0</th>\n",
       "      <td>981603.0</td>\n",
       "      <td>-0.000687</td>\n",
       "      <td>1.000784</td>\n",
       "      <td>-4.664447</td>\n",
       "      <td>-0.674667</td>\n",
       "      <td>-0.000769</td>\n",
       "      <td>0.673181</td>\n",
       "      <td>5.039177</td>\n",
       "    </tr>\n",
       "    <tr>\n",
       "      <th>F_1_1</th>\n",
       "      <td>981784.0</td>\n",
       "      <td>0.002091</td>\n",
       "      <td>0.999878</td>\n",
       "      <td>-4.790594</td>\n",
       "      <td>-0.672284</td>\n",
       "      <td>0.002049</td>\n",
       "      <td>0.675997</td>\n",
       "      <td>5.042807</td>\n",
       "    </tr>\n",
       "    <tr>\n",
       "      <th>F_1_2</th>\n",
       "      <td>981992.0</td>\n",
       "      <td>0.000551</td>\n",
       "      <td>0.999825</td>\n",
       "      <td>-4.870645</td>\n",
       "      <td>-0.673783</td>\n",
       "      <td>0.001386</td>\n",
       "      <td>0.674490</td>\n",
       "      <td>5.130025</td>\n",
       "    </tr>\n",
       "    <tr>\n",
       "      <th>F_1_3</th>\n",
       "      <td>981750.0</td>\n",
       "      <td>0.000982</td>\n",
       "      <td>0.999847</td>\n",
       "      <td>-5.053023</td>\n",
       "      <td>-0.672211</td>\n",
       "      <td>0.000370</td>\n",
       "      <td>0.674852</td>\n",
       "      <td>5.462472</td>\n",
       "    </tr>\n",
       "    <tr>\n",
       "      <th>...</th>\n",
       "      <td>...</td>\n",
       "      <td>...</td>\n",
       "      <td>...</td>\n",
       "      <td>...</td>\n",
       "      <td>...</td>\n",
       "      <td>...</td>\n",
       "      <td>...</td>\n",
       "      <td>...</td>\n",
       "    </tr>\n",
       "    <tr>\n",
       "      <th>F_4_10</th>\n",
       "      <td>981775.0</td>\n",
       "      <td>0.038282</td>\n",
       "      <td>0.706913</td>\n",
       "      <td>-10.353951</td>\n",
       "      <td>-0.385768</td>\n",
       "      <td>0.102679</td>\n",
       "      <td>0.529550</td>\n",
       "      <td>2.548404</td>\n",
       "    </tr>\n",
       "    <tr>\n",
       "      <th>F_4_11</th>\n",
       "      <td>981881.0</td>\n",
       "      <td>0.551900</td>\n",
       "      <td>4.996632</td>\n",
       "      <td>-26.276588</td>\n",
       "      <td>-2.791428</td>\n",
       "      <td>0.203056</td>\n",
       "      <td>3.646324</td>\n",
       "      <td>31.229363</td>\n",
       "    </tr>\n",
       "    <tr>\n",
       "      <th>F_4_12</th>\n",
       "      <td>981694.0</td>\n",
       "      <td>0.333509</td>\n",
       "      <td>2.383485</td>\n",
       "      <td>-11.524137</td>\n",
       "      <td>-1.268732</td>\n",
       "      <td>0.354137</td>\n",
       "      <td>1.947385</td>\n",
       "      <td>11.341926</td>\n",
       "    </tr>\n",
       "    <tr>\n",
       "      <th>F_4_13</th>\n",
       "      <td>982005.0</td>\n",
       "      <td>0.330047</td>\n",
       "      <td>2.364036</td>\n",
       "      <td>-10.661978</td>\n",
       "      <td>-1.298927</td>\n",
       "      <td>0.295049</td>\n",
       "      <td>1.916931</td>\n",
       "      <td>11.901409</td>\n",
       "    </tr>\n",
       "    <tr>\n",
       "      <th>F_4_14</th>\n",
       "      <td>981733.0</td>\n",
       "      <td>0.037223</td>\n",
       "      <td>0.776354</td>\n",
       "      <td>-9.983739</td>\n",
       "      <td>-0.396043</td>\n",
       "      <td>0.131245</td>\n",
       "      <td>0.574182</td>\n",
       "      <td>2.584492</td>\n",
       "    </tr>\n",
       "  </tbody>\n",
       "</table>\n",
       "<p>81 rows × 8 columns</p>\n",
       "</div>"
      ],
      "text/plain": [
       "            count           mean            std        min            25%  \\\n",
       "row_id  1000000.0  499999.500000  288675.278932   0.000000  249999.750000   \n",
       "F_1_0    981603.0      -0.000687       1.000784  -4.664447      -0.674667   \n",
       "F_1_1    981784.0       0.002091       0.999878  -4.790594      -0.672284   \n",
       "F_1_2    981992.0       0.000551       0.999825  -4.870645      -0.673783   \n",
       "F_1_3    981750.0       0.000982       0.999847  -5.053023      -0.672211   \n",
       "...           ...            ...            ...        ...            ...   \n",
       "F_4_10   981775.0       0.038282       0.706913 -10.353951      -0.385768   \n",
       "F_4_11   981881.0       0.551900       4.996632 -26.276588      -2.791428   \n",
       "F_4_12   981694.0       0.333509       2.383485 -11.524137      -1.268732   \n",
       "F_4_13   982005.0       0.330047       2.364036 -10.661978      -1.298927   \n",
       "F_4_14   981733.0       0.037223       0.776354  -9.983739      -0.396043   \n",
       "\n",
       "                  50%            75%            max  \n",
       "row_id  499999.500000  749999.250000  999999.000000  \n",
       "F_1_0       -0.000769       0.673181       5.039177  \n",
       "F_1_1        0.002049       0.675997       5.042807  \n",
       "F_1_2        0.001386       0.674490       5.130025  \n",
       "F_1_3        0.000370       0.674852       5.462472  \n",
       "...               ...            ...            ...  \n",
       "F_4_10       0.102679       0.529550       2.548404  \n",
       "F_4_11       0.203056       3.646324      31.229363  \n",
       "F_4_12       0.354137       1.947385      11.341926  \n",
       "F_4_13       0.295049       1.916931      11.901409  \n",
       "F_4_14       0.131245       0.574182       2.584492  \n",
       "\n",
       "[81 rows x 8 columns]"
      ]
     },
     "execution_count": 7,
     "metadata": {},
     "output_type": "execute_result"
    }
   ],
   "source": [
    "df.describe(include=\"number\").T"
   ]
  },
  {
   "cell_type": "code",
   "execution_count": 8,
   "id": "4385edd5",
   "metadata": {
    "execution": {
     "iopub.execute_input": "2022-06-25T01:17:18.640772Z",
     "iopub.status.busy": "2022-06-25T01:17:18.640337Z",
     "iopub.status.idle": "2022-06-25T01:17:24.694391Z",
     "shell.execute_reply": "2022-06-25T01:17:24.693178Z"
    },
    "papermill": {
     "duration": 6.065495,
     "end_time": "2022-06-25T01:17:24.697301",
     "exception": false,
     "start_time": "2022-06-25T01:17:18.631806",
     "status": "completed"
    },
    "tags": []
   },
   "outputs": [
    {
     "data": {
      "text/plain": [
       "<AxesSubplot:title={'center':'Unique Values per feature'}>"
      ]
     },
     "execution_count": 8,
     "metadata": {},
     "output_type": "execute_result"
    },
    {
     "data": {
      "image/png": "[encoded data removed]",
      "text/plain": [
       "<Figure size 1080x576 with 1 Axes>"
      ]
     },
     "metadata": {
      "needs_background": "light"
     },
     "output_type": "display_data"
    }
   ],
   "source": [
    "unique_values = df.select_dtypes(include='number').nunique().sort_values()\n",
    "\n",
    "unique_values.plot.bar(logy=True, figsize=(15, 8), title='Unique Values per feature')"
   ]
  },
  {
   "cell_type": "code",
   "execution_count": 9,
   "id": "ba49b29b",
   "metadata": {
    "execution": {
     "iopub.execute_input": "2022-06-25T01:17:24.713945Z",
     "iopub.status.busy": "2022-06-25T01:17:24.713502Z",
     "iopub.status.idle": "2022-06-25T01:17:34.056007Z",
     "shell.execute_reply": "2022-06-25T01:17:34.054630Z"
    },
    "papermill": {
     "duration": 9.353853,
     "end_time": "2022-06-25T01:17:34.058651",
     "exception": false,
     "start_time": "2022-06-25T01:17:24.704798",
     "status": "completed"
    },
    "tags": []
   },
   "outputs": [
    {
     "name": "stdout",
     "output_type": "stream",
     "text": [
      "There are 0 duplicates samples.\n"
     ]
    }
   ],
   "source": [
    "n_duplicates = df.drop([\"row_id\"], axis=1).duplicated().sum()\n",
    "print(f\"There are {n_duplicates} duplicates samples.\")"
   ]
  },
  {
   "cell_type": "code",
   "execution_count": 10,
   "id": "9295ce55",
   "metadata": {
    "execution": {
     "iopub.execute_input": "2022-06-25T01:17:34.076146Z",
     "iopub.status.busy": "2022-06-25T01:17:34.075326Z",
     "iopub.status.idle": "2022-06-25T01:17:34.218312Z",
     "shell.execute_reply": "2022-06-25T01:17:34.216852Z"
    },
    "papermill": {
     "duration": 0.154391,
     "end_time": "2022-06-25T01:17:34.221018",
     "exception": false,
     "start_time": "2022-06-25T01:17:34.066627",
     "status": "completed"
    },
    "tags": []
   },
   "outputs": [
    {
     "name": "stdout",
     "output_type": "stream",
     "text": [
      "Missing values per feature: row_id        0\n",
      "F_1_0     18397\n",
      "F_1_1     18216\n",
      "F_1_2     18008\n",
      "F_1_3     18250\n",
      "          ...  \n",
      "F_4_10    18225\n",
      "F_4_11    18119\n",
      "F_4_12    18306\n",
      "F_4_13    17995\n",
      "F_4_14    18267\n",
      "Length: 81, dtype: int64\n"
     ]
    }
   ],
   "source": [
    "missing = df.isnull().sum()\n",
    "print(f\"Missing values per feature: {missing}\")"
   ]
  },
  {
   "cell_type": "code",
   "execution_count": 11,
   "id": "099600ad",
   "metadata": {
    "execution": {
     "iopub.execute_input": "2022-06-25T01:17:34.239422Z",
     "iopub.status.busy": "2022-06-25T01:17:34.238551Z",
     "iopub.status.idle": "2022-06-25T01:17:46.851452Z",
     "shell.execute_reply": "2022-06-25T01:17:46.850033Z"
    },
    "papermill": {
     "duration": 12.625491,
     "end_time": "2022-06-25T01:17:46.854505",
     "exception": false,
     "start_time": "2022-06-25T01:17:34.229014",
     "status": "completed"
    },
    "tags": []
   },
   "outputs": [
    {
     "data": {
      "text/plain": [
       "array([[<AxesSubplot:title={'center':'F_1_0'}>,\n",
       "        <AxesSubplot:title={'center':'F_1_1'}>,\n",
       "        <AxesSubplot:title={'center':'F_1_2'}>,\n",
       "        <AxesSubplot:title={'center':'F_1_3'}>,\n",
       "        <AxesSubplot:title={'center':'F_1_4'}>],\n",
       "       [<AxesSubplot:title={'center':'F_1_5'}>,\n",
       "        <AxesSubplot:title={'center':'F_1_6'}>,\n",
       "        <AxesSubplot:title={'center':'F_1_7'}>,\n",
       "        <AxesSubplot:title={'center':'F_1_8'}>,\n",
       "        <AxesSubplot:title={'center':'F_1_9'}>],\n",
       "       [<AxesSubplot:title={'center':'F_1_10'}>,\n",
       "        <AxesSubplot:title={'center':'F_1_11'}>,\n",
       "        <AxesSubplot:title={'center':'F_1_12'}>,\n",
       "        <AxesSubplot:title={'center':'F_1_13'}>,\n",
       "        <AxesSubplot:title={'center':'F_1_14'}>],\n",
       "       [<AxesSubplot:title={'center':'F_2_0'}>,\n",
       "        <AxesSubplot:title={'center':'F_2_1'}>,\n",
       "        <AxesSubplot:title={'center':'F_2_2'}>,\n",
       "        <AxesSubplot:title={'center':'F_2_3'}>,\n",
       "        <AxesSubplot:title={'center':'F_2_4'}>],\n",
       "       [<AxesSubplot:title={'center':'F_2_5'}>,\n",
       "        <AxesSubplot:title={'center':'F_2_6'}>,\n",
       "        <AxesSubplot:title={'center':'F_2_7'}>,\n",
       "        <AxesSubplot:title={'center':'F_2_8'}>,\n",
       "        <AxesSubplot:title={'center':'F_2_9'}>],\n",
       "       [<AxesSubplot:title={'center':'F_2_10'}>,\n",
       "        <AxesSubplot:title={'center':'F_2_11'}>,\n",
       "        <AxesSubplot:title={'center':'F_2_12'}>,\n",
       "        <AxesSubplot:title={'center':'F_2_13'}>,\n",
       "        <AxesSubplot:title={'center':'F_2_14'}>],\n",
       "       [<AxesSubplot:title={'center':'F_2_15'}>,\n",
       "        <AxesSubplot:title={'center':'F_2_16'}>,\n",
       "        <AxesSubplot:title={'center':'F_2_17'}>,\n",
       "        <AxesSubplot:title={'center':'F_2_18'}>,\n",
       "        <AxesSubplot:title={'center':'F_2_19'}>],\n",
       "       [<AxesSubplot:title={'center':'F_2_20'}>,\n",
       "        <AxesSubplot:title={'center':'F_2_21'}>,\n",
       "        <AxesSubplot:title={'center':'F_2_22'}>,\n",
       "        <AxesSubplot:title={'center':'F_2_23'}>,\n",
       "        <AxesSubplot:title={'center':'F_2_24'}>],\n",
       "       [<AxesSubplot:title={'center':'F_3_0'}>,\n",
       "        <AxesSubplot:title={'center':'F_3_1'}>,\n",
       "        <AxesSubplot:title={'center':'F_3_2'}>,\n",
       "        <AxesSubplot:title={'center':'F_3_3'}>,\n",
       "        <AxesSubplot:title={'center':'F_3_4'}>],\n",
       "       [<AxesSubplot:title={'center':'F_3_5'}>,\n",
       "        <AxesSubplot:title={'center':'F_3_6'}>,\n",
       "        <AxesSubplot:title={'center':'F_3_7'}>,\n",
       "        <AxesSubplot:title={'center':'F_3_8'}>,\n",
       "        <AxesSubplot:title={'center':'F_3_9'}>],\n",
       "       [<AxesSubplot:title={'center':'F_3_10'}>,\n",
       "        <AxesSubplot:title={'center':'F_3_11'}>,\n",
       "        <AxesSubplot:title={'center':'F_3_12'}>,\n",
       "        <AxesSubplot:title={'center':'F_3_13'}>,\n",
       "        <AxesSubplot:title={'center':'F_3_14'}>],\n",
       "       [<AxesSubplot:title={'center':'F_3_15'}>,\n",
       "        <AxesSubplot:title={'center':'F_3_16'}>,\n",
       "        <AxesSubplot:title={'center':'F_3_17'}>,\n",
       "        <AxesSubplot:title={'center':'F_3_18'}>,\n",
       "        <AxesSubplot:title={'center':'F_3_19'}>],\n",
       "       [<AxesSubplot:title={'center':'F_3_20'}>,\n",
       "        <AxesSubplot:title={'center':'F_3_21'}>,\n",
       "        <AxesSubplot:title={'center':'F_3_22'}>,\n",
       "        <AxesSubplot:title={'center':'F_3_23'}>,\n",
       "        <AxesSubplot:title={'center':'F_3_24'}>],\n",
       "       [<AxesSubplot:title={'center':'F_4_0'}>,\n",
       "        <AxesSubplot:title={'center':'F_4_1'}>,\n",
       "        <AxesSubplot:title={'center':'F_4_2'}>,\n",
       "        <AxesSubplot:title={'center':'F_4_3'}>,\n",
       "        <AxesSubplot:title={'center':'F_4_4'}>],\n",
       "       [<AxesSubplot:title={'center':'F_4_5'}>,\n",
       "        <AxesSubplot:title={'center':'F_4_6'}>,\n",
       "        <AxesSubplot:title={'center':'F_4_7'}>,\n",
       "        <AxesSubplot:title={'center':'F_4_8'}>,\n",
       "        <AxesSubplot:title={'center':'F_4_9'}>],\n",
       "       [<AxesSubplot:title={'center':'F_4_10'}>,\n",
       "        <AxesSubplot:title={'center':'F_4_11'}>,\n",
       "        <AxesSubplot:title={'center':'F_4_12'}>,\n",
       "        <AxesSubplot:title={'center':'F_4_13'}>,\n",
       "        <AxesSubplot:title={'center':'F_4_14'}>]], dtype=object)"
      ]
     },
     "execution_count": 11,
     "metadata": {},
     "output_type": "execute_result"
    },
    {
     "data": {
      "image/png": "[encoded data removed]",
      "text/plain": [
       "<Figure size 1440x720 with 80 Axes>"
      ]
     },
     "metadata": {
      "needs_background": "light"
     },
     "output_type": "display_data"
    }
   ],
   "source": [
    "df.drop('row_id', axis=1).hist(bins=25, figsize=(20, 10), layout=(-1, 5), edgecolor='black')"
   ]
  },
  {
   "cell_type": "markdown",
   "id": "1c488bc9",
   "metadata": {
    "papermill": {
     "duration": 0.010947,
     "end_time": "2022-06-25T01:17:46.875100",
     "exception": false,
     "start_time": "2022-06-25T01:17:46.864153",
     "status": "completed"
    },
    "tags": []
   },
   "source": [
    "# Fill NaNs"
   ]
  },
  {
   "cell_type": "code",
   "execution_count": 12,
   "id": "9259b672",
   "metadata": {
    "execution": {
     "iopub.execute_input": "2022-06-25T01:17:46.895897Z",
     "iopub.status.busy": "2022-06-25T01:17:46.895504Z",
     "iopub.status.idle": "2022-06-25T01:17:49.913683Z",
     "shell.execute_reply": "2022-06-25T01:17:49.912170Z"
    },
    "papermill": {
     "duration": 3.032241,
     "end_time": "2022-06-25T01:17:49.916828",
     "exception": false,
     "start_time": "2022-06-25T01:17:46.884587",
     "status": "completed"
    },
    "tags": []
   },
   "outputs": [],
   "source": [
    "df_copy = df.interpolate(method='linear', limit_direction=\"both\")"
   ]
  },
  {
   "cell_type": "markdown",
   "id": "e6ab281d",
   "metadata": {
    "papermill": {
     "duration": 0.008999,
     "end_time": "2022-06-25T01:17:49.935382",
     "exception": false,
     "start_time": "2022-06-25T01:17:49.926383",
     "status": "completed"
    },
    "tags": []
   },
   "source": [
    "# Submission"
   ]
  },
  {
   "cell_type": "code",
   "execution_count": 13,
   "id": "324be04d",
   "metadata": {
    "execution": {
     "iopub.execute_input": "2022-06-25T01:17:49.956144Z",
     "iopub.status.busy": "2022-06-25T01:17:49.955488Z",
     "iopub.status.idle": "2022-06-25T01:17:50.824266Z",
     "shell.execute_reply": "2022-06-25T01:17:50.823060Z"
    },
    "papermill": {
     "duration": 0.882263,
     "end_time": "2022-06-25T01:17:50.826985",
     "exception": false,
     "start_time": "2022-06-25T01:17:49.944722",
     "status": "completed"
    },
    "tags": []
   },
   "outputs": [],
   "source": [
    "submission_df = pd.read_csv(\"/kaggle/input/tabular-playground-series-jun-2022/sample_submission.csv\")"
   ]
  },
  {
   "cell_type": "code",
   "execution_count": 14,
   "id": "8ae8add4",
   "metadata": {
    "execution": {
     "iopub.execute_input": "2022-06-25T01:17:50.848438Z",
     "iopub.status.busy": "2022-06-25T01:17:50.847473Z",
     "iopub.status.idle": "2022-06-25T01:19:13.510032Z",
     "shell.execute_reply": "2022-06-25T01:19:13.508806Z"
    },
    "papermill": {
     "duration": 82.676809,
     "end_time": "2022-06-25T01:19:13.513629",
     "exception": false,
     "start_time": "2022-06-25T01:17:50.836820",
     "status": "completed"
    },
    "tags": []
   },
   "outputs": [],
   "source": [
    "submission_df[['row','col']]=submission_df['row-col'].str.split('-', expand=True)\n",
    "submission_list=[]\n",
    "for i in range(1000000):\n",
    "    submission_list.append(df_copy.loc[int(submission_df.loc[i,'row']),submission_df.loc[i,'col']])\n",
    "submission_df['value']=submission_list\n",
    "submission_df=submission_df.drop(['row','col'],axis=1)\n",
    "submission_df.to_csv('submission.csv', index=False)"
   ]
  },
  {
   "cell_type": "code",
   "execution_count": null,
   "id": "9ae1e139",
   "metadata": {
    "papermill": {
     "duration": 0.009109,
     "end_time": "2022-06-25T01:19:13.532545",
     "exception": false,
     "start_time": "2022-06-25T01:19:13.523436",
     "status": "completed"
    },
    "tags": []
   },
   "outputs": [],
   "source": []
  }
 ],
 "metadata": {
  "kernelspec": {
   "display_name": "Python 3",
   "language": "python",
   "name": "python3"
  },
  "language_info": {
   "codemirror_mode": {
    "name": "ipython",
    "version": 3
   },
   "file_extension": ".py",
   "mimetype": "text/x-python",
   "name": "python",
   "nbconvert_exporter": "python",
   "pygments_lexer": "ipython3",
   "version": "3.7.12"
  },
  "papermill": {
   "default_parameters": {},
   "duration": 151.5734,
   "end_time": "2022-06-25T01:19:14.766994",
   "environment_variables": {},
   "exception": null,
   "input_path": "__notebook__.ipynb",
   "output_path": "__notebook__.ipynb",
   "parameters": {},
   "start_time": "2022-06-25T01:16:43.193594",
   "version": "2.3.4"
  }
 },
 "nbformat": 4,
 "nbformat_minor": 5
}
