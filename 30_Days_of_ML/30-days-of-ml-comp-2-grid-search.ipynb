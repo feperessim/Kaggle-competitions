{
 "cells": [
  {
   "cell_type": "code",
   "execution_count": 1,
   "id": "c48247b6",
   "metadata": {
    "_cell_guid": "b1076dfc-b9ad-4769-8c92-a6c4dae69d19",
    "_uuid": "8f2839f25d086af736a60e9eeb907d3b93b6e0e5",
    "execution": {
     "iopub.execute_input": "2021-08-30T14:50:07.731124Z",
     "iopub.status.busy": "2021-08-30T14:50:07.730199Z",
     "iopub.status.idle": "2021-08-30T14:50:07.735814Z",
     "shell.execute_reply": "2021-08-30T14:50:07.735141Z",
     "shell.execute_reply.started": "2021-08-30T12:29:14.158953Z"
    },
    "papermill": {
     "duration": 0.051841,
     "end_time": "2021-08-30T14:50:07.735992",
     "exception": false,
     "start_time": "2021-08-30T14:50:07.684151",
     "status": "completed"
    },
    "tags": []
   },
   "outputs": [
    {
     "name": "stdout",
     "output_type": "stream",
     "text": [
      "/kaggle/input/30-days-of-ml/sample_submission.csv\n",
      "/kaggle/input/30-days-of-ml/train.csv\n",
      "/kaggle/input/30-days-of-ml/test.csv\n"
     ]
    }
   ],
   "source": [
    "# This Python 3 environment comes with many helpful analytics libraries installed\n",
    "# It is defined by the kaggle/python Docker image: https://github.com/kaggle/docker-python\n",
    "# For example, here's several helpful packages to load\n",
    "\n",
    "import numpy as np # linear algebra\n",
    "import pandas as pd # data processing, CSV file I/O (e.g. pd.read_csv)\n",
    "\n",
    "# Input data files are available in the read-only \"../input/\" directory\n",
    "# For example, running this (by clicking run or pressing Shift+Enter) will list all files under the input directory\n",
    "\n",
    "import os\n",
    "for dirname, _, filenames in os.walk('/kaggle/input'):\n",
    "    for filename in filenames:\n",
    "        print(os.path.join(dirname, filename))\n",
    "\n",
    "# You can write up to 20GB to the current directory (/kaggle/working/) that gets preserved as output when you create a version using \"Save & Run All\" \n",
    "# You can also write temporary files to /kaggle/temp/, but they won't be saved outside of the current session"
   ]
  },
  {
   "cell_type": "code",
   "execution_count": 2,
   "id": "6ff6cb04",
   "metadata": {
    "execution": {
     "iopub.execute_input": "2021-08-30T14:50:07.819186Z",
     "iopub.status.busy": "2021-08-30T14:50:07.818252Z",
     "iopub.status.idle": "2021-08-30T14:50:09.060328Z",
     "shell.execute_reply": "2021-08-30T14:50:09.059797Z",
     "shell.execute_reply.started": "2021-08-30T12:29:14.847716Z"
    },
    "papermill": {
     "duration": 1.288802,
     "end_time": "2021-08-30T14:50:09.060487",
     "exception": false,
     "start_time": "2021-08-30T14:50:07.771685",
     "status": "completed"
    },
    "tags": []
   },
   "outputs": [],
   "source": [
    "import matplotlib.pyplot as plt\n",
    "import seaborn as sns\n",
    "\n",
    "from sklearn.model_selection import train_test_split\n",
    "from sklearn.model_selection import cross_val_score\n",
    "from sklearn.model_selection import RepeatedKFold\n",
    "from sklearn.model_selection import GridSearchCV\n",
    "from sklearn.metrics import mean_absolute_error, mean_squared_error\n",
    "\n",
    "from xgboost import XGBRegressor\n",
    "\n",
    "from tqdm.notebook import tqdm"
   ]
  },
  {
   "cell_type": "code",
   "execution_count": 3,
   "id": "b77e51f4",
   "metadata": {
    "execution": {
     "iopub.execute_input": "2021-08-30T14:50:09.137722Z",
     "iopub.status.busy": "2021-08-30T14:50:09.136280Z",
     "iopub.status.idle": "2021-08-30T14:50:11.853851Z",
     "shell.execute_reply": "2021-08-30T14:50:11.854382Z",
     "shell.execute_reply.started": "2021-08-30T12:29:16.039920Z"
    },
    "papermill": {
     "duration": 2.758823,
     "end_time": "2021-08-30T14:50:11.854597",
     "exception": false,
     "start_time": "2021-08-30T14:50:09.095774",
     "status": "completed"
    },
    "tags": []
   },
   "outputs": [],
   "source": [
    "df_train = pd.read_csv('/kaggle/input/30-days-of-ml/train.csv')"
   ]
  },
  {
   "cell_type": "code",
   "execution_count": 4,
   "id": "faa9c4f0",
   "metadata": {
    "execution": {
     "iopub.execute_input": "2021-08-30T14:50:11.943135Z",
     "iopub.status.busy": "2021-08-30T14:50:11.942464Z",
     "iopub.status.idle": "2021-08-30T14:50:11.972328Z",
     "shell.execute_reply": "2021-08-30T14:50:11.971787Z",
     "shell.execute_reply.started": "2021-08-30T12:29:19.047213Z"
    },
    "papermill": {
     "duration": 0.082108,
     "end_time": "2021-08-30T14:50:11.972480",
     "exception": false,
     "start_time": "2021-08-30T14:50:11.890372",
     "status": "completed"
    },
    "tags": []
   },
   "outputs": [
    {
     "data": {
      "text/html": [
       "<div>\n",
       "<style scoped>\n",
       "    .dataframe tbody tr th:only-of-type {\n",
       "        vertical-align: middle;\n",
       "    }\n",
       "\n",
       "    .dataframe tbody tr th {\n",
       "        vertical-align: top;\n",
       "    }\n",
       "\n",
       "    .dataframe thead th {\n",
       "        text-align: right;\n",
       "    }\n",
       "</style>\n",
       "<table border=\"1\" class=\"dataframe\">\n",
       "  <thead>\n",
       "    <tr style=\"text-align: right;\">\n",
       "      <th></th>\n",
       "      <th>id</th>\n",
       "      <th>cat0</th>\n",
       "      <th>cat1</th>\n",
       "      <th>cat2</th>\n",
       "      <th>cat3</th>\n",
       "      <th>cat4</th>\n",
       "      <th>cat5</th>\n",
       "      <th>cat6</th>\n",
       "      <th>cat7</th>\n",
       "      <th>cat8</th>\n",
       "      <th>...</th>\n",
       "      <th>cont5</th>\n",
       "      <th>cont6</th>\n",
       "      <th>cont7</th>\n",
       "      <th>cont8</th>\n",
       "      <th>cont9</th>\n",
       "      <th>cont10</th>\n",
       "      <th>cont11</th>\n",
       "      <th>cont12</th>\n",
       "      <th>cont13</th>\n",
       "      <th>target</th>\n",
       "    </tr>\n",
       "  </thead>\n",
       "  <tbody>\n",
       "    <tr>\n",
       "      <th>0</th>\n",
       "      <td>1</td>\n",
       "      <td>B</td>\n",
       "      <td>B</td>\n",
       "      <td>B</td>\n",
       "      <td>C</td>\n",
       "      <td>B</td>\n",
       "      <td>B</td>\n",
       "      <td>A</td>\n",
       "      <td>E</td>\n",
       "      <td>C</td>\n",
       "      <td>...</td>\n",
       "      <td>0.400361</td>\n",
       "      <td>0.160266</td>\n",
       "      <td>0.310921</td>\n",
       "      <td>0.389470</td>\n",
       "      <td>0.267559</td>\n",
       "      <td>0.237281</td>\n",
       "      <td>0.377873</td>\n",
       "      <td>0.322401</td>\n",
       "      <td>0.869850</td>\n",
       "      <td>8.113634</td>\n",
       "    </tr>\n",
       "    <tr>\n",
       "      <th>1</th>\n",
       "      <td>2</td>\n",
       "      <td>B</td>\n",
       "      <td>B</td>\n",
       "      <td>A</td>\n",
       "      <td>A</td>\n",
       "      <td>B</td>\n",
       "      <td>D</td>\n",
       "      <td>A</td>\n",
       "      <td>F</td>\n",
       "      <td>A</td>\n",
       "      <td>...</td>\n",
       "      <td>0.533087</td>\n",
       "      <td>0.558922</td>\n",
       "      <td>0.516294</td>\n",
       "      <td>0.594928</td>\n",
       "      <td>0.341439</td>\n",
       "      <td>0.906013</td>\n",
       "      <td>0.921701</td>\n",
       "      <td>0.261975</td>\n",
       "      <td>0.465083</td>\n",
       "      <td>8.481233</td>\n",
       "    </tr>\n",
       "    <tr>\n",
       "      <th>2</th>\n",
       "      <td>3</td>\n",
       "      <td>A</td>\n",
       "      <td>A</td>\n",
       "      <td>A</td>\n",
       "      <td>C</td>\n",
       "      <td>B</td>\n",
       "      <td>D</td>\n",
       "      <td>A</td>\n",
       "      <td>D</td>\n",
       "      <td>A</td>\n",
       "      <td>...</td>\n",
       "      <td>0.650609</td>\n",
       "      <td>0.375348</td>\n",
       "      <td>0.902567</td>\n",
       "      <td>0.555205</td>\n",
       "      <td>0.843531</td>\n",
       "      <td>0.748809</td>\n",
       "      <td>0.620126</td>\n",
       "      <td>0.541474</td>\n",
       "      <td>0.763846</td>\n",
       "      <td>8.364351</td>\n",
       "    </tr>\n",
       "    <tr>\n",
       "      <th>3</th>\n",
       "      <td>4</td>\n",
       "      <td>B</td>\n",
       "      <td>B</td>\n",
       "      <td>A</td>\n",
       "      <td>C</td>\n",
       "      <td>B</td>\n",
       "      <td>D</td>\n",
       "      <td>A</td>\n",
       "      <td>E</td>\n",
       "      <td>C</td>\n",
       "      <td>...</td>\n",
       "      <td>0.668980</td>\n",
       "      <td>0.239061</td>\n",
       "      <td>0.732948</td>\n",
       "      <td>0.679618</td>\n",
       "      <td>0.574844</td>\n",
       "      <td>0.346010</td>\n",
       "      <td>0.714610</td>\n",
       "      <td>0.540150</td>\n",
       "      <td>0.280682</td>\n",
       "      <td>8.049253</td>\n",
       "    </tr>\n",
       "    <tr>\n",
       "      <th>4</th>\n",
       "      <td>6</td>\n",
       "      <td>A</td>\n",
       "      <td>A</td>\n",
       "      <td>A</td>\n",
       "      <td>C</td>\n",
       "      <td>B</td>\n",
       "      <td>D</td>\n",
       "      <td>A</td>\n",
       "      <td>E</td>\n",
       "      <td>A</td>\n",
       "      <td>...</td>\n",
       "      <td>0.686964</td>\n",
       "      <td>0.420667</td>\n",
       "      <td>0.648182</td>\n",
       "      <td>0.684501</td>\n",
       "      <td>0.956692</td>\n",
       "      <td>1.000773</td>\n",
       "      <td>0.776742</td>\n",
       "      <td>0.625849</td>\n",
       "      <td>0.250823</td>\n",
       "      <td>7.972260</td>\n",
       "    </tr>\n",
       "  </tbody>\n",
       "</table>\n",
       "<p>5 rows × 26 columns</p>\n",
       "</div>"
      ],
      "text/plain": [
       "   id cat0 cat1 cat2 cat3 cat4 cat5 cat6 cat7 cat8  ...     cont5     cont6  \\\n",
       "0   1    B    B    B    C    B    B    A    E    C  ...  0.400361  0.160266   \n",
       "1   2    B    B    A    A    B    D    A    F    A  ...  0.533087  0.558922   \n",
       "2   3    A    A    A    C    B    D    A    D    A  ...  0.650609  0.375348   \n",
       "3   4    B    B    A    C    B    D    A    E    C  ...  0.668980  0.239061   \n",
       "4   6    A    A    A    C    B    D    A    E    A  ...  0.686964  0.420667   \n",
       "\n",
       "      cont7     cont8     cont9    cont10    cont11    cont12    cont13  \\\n",
       "0  0.310921  0.389470  0.267559  0.237281  0.377873  0.322401  0.869850   \n",
       "1  0.516294  0.594928  0.341439  0.906013  0.921701  0.261975  0.465083   \n",
       "2  0.902567  0.555205  0.843531  0.748809  0.620126  0.541474  0.763846   \n",
       "3  0.732948  0.679618  0.574844  0.346010  0.714610  0.540150  0.280682   \n",
       "4  0.648182  0.684501  0.956692  1.000773  0.776742  0.625849  0.250823   \n",
       "\n",
       "     target  \n",
       "0  8.113634  \n",
       "1  8.481233  \n",
       "2  8.364351  \n",
       "3  8.049253  \n",
       "4  7.972260  \n",
       "\n",
       "[5 rows x 26 columns]"
      ]
     },
     "execution_count": 4,
     "metadata": {},
     "output_type": "execute_result"
    }
   ],
   "source": [
    "df_train.head()"
   ]
  },
  {
   "cell_type": "code",
   "execution_count": 5,
   "id": "32103761",
   "metadata": {
    "execution": {
     "iopub.execute_input": "2021-08-30T14:50:12.092565Z",
     "iopub.status.busy": "2021-08-30T14:50:12.049822Z",
     "iopub.status.idle": "2021-08-30T14:50:12.334457Z",
     "shell.execute_reply": "2021-08-30T14:50:12.334964Z",
     "shell.execute_reply.started": "2021-08-30T12:29:19.367051Z"
    },
    "papermill": {
     "duration": 0.327311,
     "end_time": "2021-08-30T14:50:12.335140",
     "exception": false,
     "start_time": "2021-08-30T14:50:12.007829",
     "status": "completed"
    },
    "tags": []
   },
   "outputs": [
    {
     "data": {
      "text/html": [
       "<div>\n",
       "<style scoped>\n",
       "    .dataframe tbody tr th:only-of-type {\n",
       "        vertical-align: middle;\n",
       "    }\n",
       "\n",
       "    .dataframe tbody tr th {\n",
       "        vertical-align: top;\n",
       "    }\n",
       "\n",
       "    .dataframe thead th {\n",
       "        text-align: right;\n",
       "    }\n",
       "</style>\n",
       "<table border=\"1\" class=\"dataframe\">\n",
       "  <thead>\n",
       "    <tr style=\"text-align: right;\">\n",
       "      <th></th>\n",
       "      <th>cont0</th>\n",
       "      <th>cont1</th>\n",
       "      <th>cont2</th>\n",
       "      <th>cont3</th>\n",
       "      <th>cont4</th>\n",
       "      <th>cont5</th>\n",
       "      <th>cont6</th>\n",
       "      <th>cont7</th>\n",
       "      <th>cont8</th>\n",
       "      <th>cont9</th>\n",
       "      <th>cont10</th>\n",
       "      <th>cont11</th>\n",
       "      <th>cont12</th>\n",
       "      <th>cont13</th>\n",
       "      <th>target</th>\n",
       "    </tr>\n",
       "  </thead>\n",
       "  <tbody>\n",
       "    <tr>\n",
       "      <th>count</th>\n",
       "      <td>300000.000000</td>\n",
       "      <td>300000.000000</td>\n",
       "      <td>300000.000000</td>\n",
       "      <td>300000.000000</td>\n",
       "      <td>300000.000000</td>\n",
       "      <td>300000.000000</td>\n",
       "      <td>300000.000000</td>\n",
       "      <td>300000.000000</td>\n",
       "      <td>300000.000000</td>\n",
       "      <td>300000.000000</td>\n",
       "      <td>300000.000000</td>\n",
       "      <td>300000.000000</td>\n",
       "      <td>300000.000000</td>\n",
       "      <td>300000.000000</td>\n",
       "      <td>300000.000000</td>\n",
       "    </tr>\n",
       "    <tr>\n",
       "      <th>mean</th>\n",
       "      <td>0.527335</td>\n",
       "      <td>0.460926</td>\n",
       "      <td>0.490498</td>\n",
       "      <td>0.496689</td>\n",
       "      <td>0.491654</td>\n",
       "      <td>0.510526</td>\n",
       "      <td>0.467476</td>\n",
       "      <td>0.537119</td>\n",
       "      <td>0.498456</td>\n",
       "      <td>0.474872</td>\n",
       "      <td>0.474492</td>\n",
       "      <td>0.473216</td>\n",
       "      <td>0.494561</td>\n",
       "      <td>0.508273</td>\n",
       "      <td>8.241979</td>\n",
       "    </tr>\n",
       "    <tr>\n",
       "      <th>std</th>\n",
       "      <td>0.230599</td>\n",
       "      <td>0.214003</td>\n",
       "      <td>0.253346</td>\n",
       "      <td>0.219199</td>\n",
       "      <td>0.240074</td>\n",
       "      <td>0.228232</td>\n",
       "      <td>0.210331</td>\n",
       "      <td>0.218140</td>\n",
       "      <td>0.239920</td>\n",
       "      <td>0.218007</td>\n",
       "      <td>0.255949</td>\n",
       "      <td>0.222022</td>\n",
       "      <td>0.247292</td>\n",
       "      <td>0.222950</td>\n",
       "      <td>0.746555</td>\n",
       "    </tr>\n",
       "    <tr>\n",
       "      <th>min</th>\n",
       "      <td>-0.118039</td>\n",
       "      <td>-0.069309</td>\n",
       "      <td>-0.056104</td>\n",
       "      <td>0.130676</td>\n",
       "      <td>0.255908</td>\n",
       "      <td>0.045915</td>\n",
       "      <td>-0.224689</td>\n",
       "      <td>0.203763</td>\n",
       "      <td>-0.260275</td>\n",
       "      <td>0.117896</td>\n",
       "      <td>0.048732</td>\n",
       "      <td>0.052608</td>\n",
       "      <td>-0.074208</td>\n",
       "      <td>0.151050</td>\n",
       "      <td>0.140329</td>\n",
       "    </tr>\n",
       "    <tr>\n",
       "      <th>25%</th>\n",
       "      <td>0.405965</td>\n",
       "      <td>0.310494</td>\n",
       "      <td>0.300604</td>\n",
       "      <td>0.329783</td>\n",
       "      <td>0.284188</td>\n",
       "      <td>0.354141</td>\n",
       "      <td>0.342873</td>\n",
       "      <td>0.355825</td>\n",
       "      <td>0.332486</td>\n",
       "      <td>0.306874</td>\n",
       "      <td>0.276017</td>\n",
       "      <td>0.308151</td>\n",
       "      <td>0.289074</td>\n",
       "      <td>0.300669</td>\n",
       "      <td>7.742071</td>\n",
       "    </tr>\n",
       "    <tr>\n",
       "      <th>50%</th>\n",
       "      <td>0.497053</td>\n",
       "      <td>0.427903</td>\n",
       "      <td>0.502462</td>\n",
       "      <td>0.465026</td>\n",
       "      <td>0.390470</td>\n",
       "      <td>0.488865</td>\n",
       "      <td>0.429383</td>\n",
       "      <td>0.504661</td>\n",
       "      <td>0.439151</td>\n",
       "      <td>0.434620</td>\n",
       "      <td>0.459975</td>\n",
       "      <td>0.433812</td>\n",
       "      <td>0.422887</td>\n",
       "      <td>0.472400</td>\n",
       "      <td>8.191373</td>\n",
       "    </tr>\n",
       "    <tr>\n",
       "      <th>75%</th>\n",
       "      <td>0.668060</td>\n",
       "      <td>0.615113</td>\n",
       "      <td>0.647512</td>\n",
       "      <td>0.664451</td>\n",
       "      <td>0.696599</td>\n",
       "      <td>0.669625</td>\n",
       "      <td>0.573383</td>\n",
       "      <td>0.703441</td>\n",
       "      <td>0.606056</td>\n",
       "      <td>0.614333</td>\n",
       "      <td>0.691579</td>\n",
       "      <td>0.642057</td>\n",
       "      <td>0.714502</td>\n",
       "      <td>0.758447</td>\n",
       "      <td>8.728634</td>\n",
       "    </tr>\n",
       "    <tr>\n",
       "      <th>max</th>\n",
       "      <td>1.058443</td>\n",
       "      <td>0.887253</td>\n",
       "      <td>1.034704</td>\n",
       "      <td>1.039560</td>\n",
       "      <td>1.055424</td>\n",
       "      <td>1.067649</td>\n",
       "      <td>1.111552</td>\n",
       "      <td>1.032837</td>\n",
       "      <td>1.040229</td>\n",
       "      <td>0.982922</td>\n",
       "      <td>1.055960</td>\n",
       "      <td>1.071444</td>\n",
       "      <td>0.975035</td>\n",
       "      <td>0.905992</td>\n",
       "      <td>10.411992</td>\n",
       "    </tr>\n",
       "  </tbody>\n",
       "</table>\n",
       "</div>"
      ],
      "text/plain": [
       "               cont0          cont1          cont2          cont3  \\\n",
       "count  300000.000000  300000.000000  300000.000000  300000.000000   \n",
       "mean        0.527335       0.460926       0.490498       0.496689   \n",
       "std         0.230599       0.214003       0.253346       0.219199   \n",
       "min        -0.118039      -0.069309      -0.056104       0.130676   \n",
       "25%         0.405965       0.310494       0.300604       0.329783   \n",
       "50%         0.497053       0.427903       0.502462       0.465026   \n",
       "75%         0.668060       0.615113       0.647512       0.664451   \n",
       "max         1.058443       0.887253       1.034704       1.039560   \n",
       "\n",
       "               cont4          cont5          cont6          cont7  \\\n",
       "count  300000.000000  300000.000000  300000.000000  300000.000000   \n",
       "mean        0.491654       0.510526       0.467476       0.537119   \n",
       "std         0.240074       0.228232       0.210331       0.218140   \n",
       "min         0.255908       0.045915      -0.224689       0.203763   \n",
       "25%         0.284188       0.354141       0.342873       0.355825   \n",
       "50%         0.390470       0.488865       0.429383       0.504661   \n",
       "75%         0.696599       0.669625       0.573383       0.703441   \n",
       "max         1.055424       1.067649       1.111552       1.032837   \n",
       "\n",
       "               cont8          cont9         cont10         cont11  \\\n",
       "count  300000.000000  300000.000000  300000.000000  300000.000000   \n",
       "mean        0.498456       0.474872       0.474492       0.473216   \n",
       "std         0.239920       0.218007       0.255949       0.222022   \n",
       "min        -0.260275       0.117896       0.048732       0.052608   \n",
       "25%         0.332486       0.306874       0.276017       0.308151   \n",
       "50%         0.439151       0.434620       0.459975       0.433812   \n",
       "75%         0.606056       0.614333       0.691579       0.642057   \n",
       "max         1.040229       0.982922       1.055960       1.071444   \n",
       "\n",
       "              cont12         cont13         target  \n",
       "count  300000.000000  300000.000000  300000.000000  \n",
       "mean        0.494561       0.508273       8.241979  \n",
       "std         0.247292       0.222950       0.746555  \n",
       "min        -0.074208       0.151050       0.140329  \n",
       "25%         0.289074       0.300669       7.742071  \n",
       "50%         0.422887       0.472400       8.191373  \n",
       "75%         0.714502       0.758447       8.728634  \n",
       "max         0.975035       0.905992      10.411992  "
      ]
     },
     "execution_count": 5,
     "metadata": {},
     "output_type": "execute_result"
    }
   ],
   "source": [
    "df_train = df_train.drop(['id'], axis=1)\n",
    "df_train.describe()"
   ]
  },
  {
   "cell_type": "code",
   "execution_count": 6,
   "id": "9345faaa",
   "metadata": {
    "execution": {
     "iopub.execute_input": "2021-08-30T14:50:12.415015Z",
     "iopub.status.busy": "2021-08-30T14:50:12.414389Z",
     "iopub.status.idle": "2021-08-30T14:50:12.418257Z",
     "shell.execute_reply": "2021-08-30T14:50:12.418671Z",
     "shell.execute_reply.started": "2021-08-30T12:29:19.734916Z"
    },
    "papermill": {
     "duration": 0.046884,
     "end_time": "2021-08-30T14:50:12.418864",
     "exception": false,
     "start_time": "2021-08-30T14:50:12.371980",
     "status": "completed"
    },
    "tags": []
   },
   "outputs": [
    {
     "data": {
      "text/plain": [
       "Index(['cat0', 'cat1', 'cat2', 'cat3', 'cat4', 'cat5', 'cat6', 'cat7', 'cat8',\n",
       "       'cat9', 'cont0', 'cont1', 'cont2', 'cont3', 'cont4', 'cont5', 'cont6',\n",
       "       'cont7', 'cont8', 'cont9', 'cont10', 'cont11', 'cont12', 'cont13',\n",
       "       'target'],\n",
       "      dtype='object')"
      ]
     },
     "execution_count": 6,
     "metadata": {},
     "output_type": "execute_result"
    }
   ],
   "source": [
    "df_train.columns"
   ]
  },
  {
   "cell_type": "markdown",
   "id": "2bf0c9b1",
   "metadata": {
    "papermill": {
     "duration": 0.036364,
     "end_time": "2021-08-30T14:50:12.492022",
     "exception": false,
     "start_time": "2021-08-30T14:50:12.455658",
     "status": "completed"
    },
    "tags": []
   },
   "source": [
    "# Converting Categorical to ordinal"
   ]
  },
  {
   "cell_type": "code",
   "execution_count": 7,
   "id": "a827bdba",
   "metadata": {
    "execution": {
     "iopub.execute_input": "2021-08-30T14:50:12.570382Z",
     "iopub.status.busy": "2021-08-30T14:50:12.569775Z",
     "iopub.status.idle": "2021-08-30T14:50:12.914086Z",
     "shell.execute_reply": "2021-08-30T14:50:12.913590Z",
     "shell.execute_reply.started": "2021-08-30T12:29:20.255086Z"
    },
    "papermill": {
     "duration": 0.384958,
     "end_time": "2021-08-30T14:50:12.914253",
     "exception": false,
     "start_time": "2021-08-30T14:50:12.529295",
     "status": "completed"
    },
    "tags": []
   },
   "outputs": [
    {
     "name": "stdout",
     "output_type": "stream",
     "text": [
      "<class 'pandas.core.frame.DataFrame'>\n",
      "RangeIndex: 300000 entries, 0 to 299999\n",
      "Data columns (total 25 columns):\n",
      " #   Column  Non-Null Count   Dtype  \n",
      "---  ------  --------------   -----  \n",
      " 0   cat0    300000 non-null  int8   \n",
      " 1   cat1    300000 non-null  int8   \n",
      " 2   cat2    300000 non-null  int8   \n",
      " 3   cat3    300000 non-null  int8   \n",
      " 4   cat4    300000 non-null  int8   \n",
      " 5   cat5    300000 non-null  int8   \n",
      " 6   cat6    300000 non-null  int8   \n",
      " 7   cat7    300000 non-null  int8   \n",
      " 8   cat8    300000 non-null  int8   \n",
      " 9   cat9    300000 non-null  int8   \n",
      " 10  cont0   300000 non-null  float64\n",
      " 11  cont1   300000 non-null  float64\n",
      " 12  cont2   300000 non-null  float64\n",
      " 13  cont3   300000 non-null  float64\n",
      " 14  cont4   300000 non-null  float64\n",
      " 15  cont5   300000 non-null  float64\n",
      " 16  cont6   300000 non-null  float64\n",
      " 17  cont7   300000 non-null  float64\n",
      " 18  cont8   300000 non-null  float64\n",
      " 19  cont9   300000 non-null  float64\n",
      " 20  cont10  300000 non-null  float64\n",
      " 21  cont11  300000 non-null  float64\n",
      " 22  cont12  300000 non-null  float64\n",
      " 23  cont13  300000 non-null  float64\n",
      " 24  target  300000 non-null  float64\n",
      "dtypes: float64(15), int8(10)\n",
      "memory usage: 37.2 MB\n"
     ]
    }
   ],
   "source": [
    "for i in range(10):\n",
    "    df_train['cat' + str(i)] = df_train['cat' + str(i)].astype('category')\n",
    "    df_train['cat' + str(i)] = df_train['cat' + str(i)].cat.codes\n",
    "\n",
    "df_train.info()"
   ]
  },
  {
   "cell_type": "code",
   "execution_count": 8,
   "id": "a66d5359",
   "metadata": {
    "execution": {
     "iopub.execute_input": "2021-08-30T14:50:13.004246Z",
     "iopub.status.busy": "2021-08-30T14:50:13.000909Z",
     "iopub.status.idle": "2021-08-30T14:50:13.015651Z",
     "shell.execute_reply": "2021-08-30T14:50:13.016135Z",
     "shell.execute_reply.started": "2021-08-30T12:29:20.608267Z"
    },
    "papermill": {
     "duration": 0.065608,
     "end_time": "2021-08-30T14:50:13.016339",
     "exception": false,
     "start_time": "2021-08-30T14:50:12.950731",
     "status": "completed"
    },
    "tags": []
   },
   "outputs": [
    {
     "data": {
      "text/html": [
       "<div>\n",
       "<style scoped>\n",
       "    .dataframe tbody tr th:only-of-type {\n",
       "        vertical-align: middle;\n",
       "    }\n",
       "\n",
       "    .dataframe tbody tr th {\n",
       "        vertical-align: top;\n",
       "    }\n",
       "\n",
       "    .dataframe thead th {\n",
       "        text-align: right;\n",
       "    }\n",
       "</style>\n",
       "<table border=\"1\" class=\"dataframe\">\n",
       "  <thead>\n",
       "    <tr style=\"text-align: right;\">\n",
       "      <th></th>\n",
       "      <th>cat0</th>\n",
       "      <th>cat1</th>\n",
       "      <th>cat2</th>\n",
       "      <th>cat3</th>\n",
       "      <th>cat4</th>\n",
       "      <th>cat5</th>\n",
       "      <th>cat6</th>\n",
       "      <th>cat7</th>\n",
       "      <th>cat8</th>\n",
       "      <th>cat9</th>\n",
       "      <th>...</th>\n",
       "      <th>cont5</th>\n",
       "      <th>cont6</th>\n",
       "      <th>cont7</th>\n",
       "      <th>cont8</th>\n",
       "      <th>cont9</th>\n",
       "      <th>cont10</th>\n",
       "      <th>cont11</th>\n",
       "      <th>cont12</th>\n",
       "      <th>cont13</th>\n",
       "      <th>target</th>\n",
       "    </tr>\n",
       "  </thead>\n",
       "  <tbody>\n",
       "    <tr>\n",
       "      <th>0</th>\n",
       "      <td>1</td>\n",
       "      <td>1</td>\n",
       "      <td>1</td>\n",
       "      <td>2</td>\n",
       "      <td>1</td>\n",
       "      <td>1</td>\n",
       "      <td>0</td>\n",
       "      <td>4</td>\n",
       "      <td>2</td>\n",
       "      <td>13</td>\n",
       "      <td>...</td>\n",
       "      <td>0.400361</td>\n",
       "      <td>0.160266</td>\n",
       "      <td>0.310921</td>\n",
       "      <td>0.389470</td>\n",
       "      <td>0.267559</td>\n",
       "      <td>0.237281</td>\n",
       "      <td>0.377873</td>\n",
       "      <td>0.322401</td>\n",
       "      <td>0.869850</td>\n",
       "      <td>8.113634</td>\n",
       "    </tr>\n",
       "    <tr>\n",
       "      <th>1</th>\n",
       "      <td>1</td>\n",
       "      <td>1</td>\n",
       "      <td>0</td>\n",
       "      <td>0</td>\n",
       "      <td>1</td>\n",
       "      <td>3</td>\n",
       "      <td>0</td>\n",
       "      <td>5</td>\n",
       "      <td>0</td>\n",
       "      <td>14</td>\n",
       "      <td>...</td>\n",
       "      <td>0.533087</td>\n",
       "      <td>0.558922</td>\n",
       "      <td>0.516294</td>\n",
       "      <td>0.594928</td>\n",
       "      <td>0.341439</td>\n",
       "      <td>0.906013</td>\n",
       "      <td>0.921701</td>\n",
       "      <td>0.261975</td>\n",
       "      <td>0.465083</td>\n",
       "      <td>8.481233</td>\n",
       "    </tr>\n",
       "    <tr>\n",
       "      <th>2</th>\n",
       "      <td>0</td>\n",
       "      <td>0</td>\n",
       "      <td>0</td>\n",
       "      <td>2</td>\n",
       "      <td>1</td>\n",
       "      <td>3</td>\n",
       "      <td>0</td>\n",
       "      <td>3</td>\n",
       "      <td>0</td>\n",
       "      <td>5</td>\n",
       "      <td>...</td>\n",
       "      <td>0.650609</td>\n",
       "      <td>0.375348</td>\n",
       "      <td>0.902567</td>\n",
       "      <td>0.555205</td>\n",
       "      <td>0.843531</td>\n",
       "      <td>0.748809</td>\n",
       "      <td>0.620126</td>\n",
       "      <td>0.541474</td>\n",
       "      <td>0.763846</td>\n",
       "      <td>8.364351</td>\n",
       "    </tr>\n",
       "    <tr>\n",
       "      <th>3</th>\n",
       "      <td>1</td>\n",
       "      <td>1</td>\n",
       "      <td>0</td>\n",
       "      <td>2</td>\n",
       "      <td>1</td>\n",
       "      <td>3</td>\n",
       "      <td>0</td>\n",
       "      <td>4</td>\n",
       "      <td>2</td>\n",
       "      <td>10</td>\n",
       "      <td>...</td>\n",
       "      <td>0.668980</td>\n",
       "      <td>0.239061</td>\n",
       "      <td>0.732948</td>\n",
       "      <td>0.679618</td>\n",
       "      <td>0.574844</td>\n",
       "      <td>0.346010</td>\n",
       "      <td>0.714610</td>\n",
       "      <td>0.540150</td>\n",
       "      <td>0.280682</td>\n",
       "      <td>8.049253</td>\n",
       "    </tr>\n",
       "    <tr>\n",
       "      <th>4</th>\n",
       "      <td>0</td>\n",
       "      <td>0</td>\n",
       "      <td>0</td>\n",
       "      <td>2</td>\n",
       "      <td>1</td>\n",
       "      <td>3</td>\n",
       "      <td>0</td>\n",
       "      <td>4</td>\n",
       "      <td>0</td>\n",
       "      <td>13</td>\n",
       "      <td>...</td>\n",
       "      <td>0.686964</td>\n",
       "      <td>0.420667</td>\n",
       "      <td>0.648182</td>\n",
       "      <td>0.684501</td>\n",
       "      <td>0.956692</td>\n",
       "      <td>1.000773</td>\n",
       "      <td>0.776742</td>\n",
       "      <td>0.625849</td>\n",
       "      <td>0.250823</td>\n",
       "      <td>7.972260</td>\n",
       "    </tr>\n",
       "  </tbody>\n",
       "</table>\n",
       "<p>5 rows × 25 columns</p>\n",
       "</div>"
      ],
      "text/plain": [
       "   cat0  cat1  cat2  cat3  cat4  cat5  cat6  cat7  cat8  cat9  ...     cont5  \\\n",
       "0     1     1     1     2     1     1     0     4     2    13  ...  0.400361   \n",
       "1     1     1     0     0     1     3     0     5     0    14  ...  0.533087   \n",
       "2     0     0     0     2     1     3     0     3     0     5  ...  0.650609   \n",
       "3     1     1     0     2     1     3     0     4     2    10  ...  0.668980   \n",
       "4     0     0     0     2     1     3     0     4     0    13  ...  0.686964   \n",
       "\n",
       "      cont6     cont7     cont8     cont9    cont10    cont11    cont12  \\\n",
       "0  0.160266  0.310921  0.389470  0.267559  0.237281  0.377873  0.322401   \n",
       "1  0.558922  0.516294  0.594928  0.341439  0.906013  0.921701  0.261975   \n",
       "2  0.375348  0.902567  0.555205  0.843531  0.748809  0.620126  0.541474   \n",
       "3  0.239061  0.732948  0.679618  0.574844  0.346010  0.714610  0.540150   \n",
       "4  0.420667  0.648182  0.684501  0.956692  1.000773  0.776742  0.625849   \n",
       "\n",
       "     cont13    target  \n",
       "0  0.869850  8.113634  \n",
       "1  0.465083  8.481233  \n",
       "2  0.763846  8.364351  \n",
       "3  0.280682  8.049253  \n",
       "4  0.250823  7.972260  \n",
       "\n",
       "[5 rows x 25 columns]"
      ]
     },
     "execution_count": 8,
     "metadata": {},
     "output_type": "execute_result"
    }
   ],
   "source": [
    "df_train.head()"
   ]
  },
  {
   "cell_type": "code",
   "execution_count": 9,
   "id": "7de1c0e0",
   "metadata": {
    "execution": {
     "iopub.execute_input": "2021-08-30T14:50:13.093566Z",
     "iopub.status.busy": "2021-08-30T14:50:13.092949Z",
     "iopub.status.idle": "2021-08-30T14:50:17.904425Z",
     "shell.execute_reply": "2021-08-30T14:50:17.903759Z",
     "shell.execute_reply.started": "2021-08-30T12:29:21.110868Z"
    },
    "papermill": {
     "duration": 4.851134,
     "end_time": "2021-08-30T14:50:17.904570",
     "exception": false,
     "start_time": "2021-08-30T14:50:13.053436",
     "status": "completed"
    },
    "tags": []
   },
   "outputs": [
    {
     "data": {
      "image/png": "[encoded data removed]",
      "text/plain": [
       "<Figure size 432x288 with 1 Axes>"
      ]
     },
     "metadata": {},
     "output_type": "display_data"
    }
   ],
   "source": [
    "sns.set(style=\"darkgrid\")\n",
    "sns.histplot(data=df_train, x=\"cat0\", color=\"skyblue\", label=\"cat0 class distribution\", kde=True)\n",
    "sns.histplot(data=df_train, x=\"cat1\", color=\"red\", label=\"cat1 class distribution\", kde=True)\n",
    "sns.histplot(data=df_train, x=\"cat2\", color=\"green\", label=\"cat2 class distribution\", kde=True)\n",
    "plt.legend() \n",
    "plt.show()"
   ]
  },
  {
   "cell_type": "code",
   "execution_count": 10,
   "id": "2f7d99cf",
   "metadata": {
    "execution": {
     "iopub.execute_input": "2021-08-30T14:50:17.986115Z",
     "iopub.status.busy": "2021-08-30T14:50:17.985515Z",
     "iopub.status.idle": "2021-08-30T14:50:18.211390Z",
     "shell.execute_reply": "2021-08-30T14:50:18.210747Z",
     "shell.execute_reply.started": "2021-08-30T12:29:25.890501Z"
    },
    "papermill": {
     "duration": 0.267611,
     "end_time": "2021-08-30T14:50:18.211524",
     "exception": false,
     "start_time": "2021-08-30T14:50:17.943913",
     "status": "completed"
    },
    "tags": []
   },
   "outputs": [
    {
     "data": {
      "text/plain": [
       "<AxesSubplot:>"
      ]
     },
     "execution_count": 10,
     "metadata": {},
     "output_type": "execute_result"
    },
    {
     "data": {
      "image/png": "[encoded data removed]",
      "text/plain": [
       "<Figure size 432x288 with 1 Axes>"
      ]
     },
     "metadata": {},
     "output_type": "display_data"
    }
   ],
   "source": [
    "df_train.target.hist()"
   ]
  },
  {
   "cell_type": "code",
   "execution_count": 11,
   "id": "8c21cc38",
   "metadata": {
    "execution": {
     "iopub.execute_input": "2021-08-30T14:50:18.293289Z",
     "iopub.status.busy": "2021-08-30T14:50:18.292643Z",
     "iopub.status.idle": "2021-08-30T14:50:18.296550Z",
     "shell.execute_reply": "2021-08-30T14:50:18.297012Z",
     "shell.execute_reply.started": "2021-08-30T12:29:26.160333Z"
    },
    "papermill": {
     "duration": 0.045833,
     "end_time": "2021-08-30T14:50:18.297192",
     "exception": false,
     "start_time": "2021-08-30T14:50:18.251359",
     "status": "completed"
    },
    "tags": []
   },
   "outputs": [],
   "source": [
    "def evaluate_metrics(model, x, y):\n",
    "    predictions = model.predict(x)\n",
    "    rmse = mean_squared_error(y, predictions, squared=False)\n",
    "    return rmse"
   ]
  },
  {
   "cell_type": "code",
   "execution_count": 12,
   "id": "4f02461d",
   "metadata": {
    "execution": {
     "iopub.execute_input": "2021-08-30T14:50:18.378757Z",
     "iopub.status.busy": "2021-08-30T14:50:18.378170Z",
     "iopub.status.idle": "2021-08-30T14:50:18.415640Z",
     "shell.execute_reply": "2021-08-30T14:50:18.416075Z",
     "shell.execute_reply.started": "2021-08-30T12:29:27.522004Z"
    },
    "papermill": {
     "duration": 0.079842,
     "end_time": "2021-08-30T14:50:18.416277",
     "exception": false,
     "start_time": "2021-08-30T14:50:18.336435",
     "status": "completed"
    },
    "tags": []
   },
   "outputs": [],
   "source": [
    "y = df_train.target.values\n",
    "df_train.drop(['target'], axis=1, inplace=True)\n",
    "x = df_train.values"
   ]
  },
  {
   "cell_type": "markdown",
   "id": "00e8c9c9",
   "metadata": {
    "papermill": {
     "duration": 0.038167,
     "end_time": "2021-08-30T14:50:18.492530",
     "exception": false,
     "start_time": "2021-08-30T14:50:18.454363",
     "status": "completed"
    },
    "tags": []
   },
   "source": [
    "# Extreme Gradient Boosting (XGBoost) "
   ]
  },
  {
   "cell_type": "markdown",
   "id": "38610cce",
   "metadata": {
    "papermill": {
     "duration": 0.038589,
     "end_time": "2021-08-30T14:50:18.569787",
     "exception": false,
     "start_time": "2021-08-30T14:50:18.531198",
     "status": "completed"
    },
    "tags": []
   },
   "source": [
    "<h3> K cross validation </h3>\n",
    "We're going to use K cross validation to evaluate the model"
   ]
  },
  {
   "cell_type": "code",
   "execution_count": 13,
   "id": "b5de5c5b",
   "metadata": {
    "execution": {
     "iopub.execute_input": "2021-08-30T14:50:18.649534Z",
     "iopub.status.busy": "2021-08-30T14:50:18.648917Z",
     "iopub.status.idle": "2021-08-30T14:50:18.654593Z",
     "shell.execute_reply": "2021-08-30T14:50:18.653921Z",
     "shell.execute_reply.started": "2021-08-29T19:54:55.146098Z"
    },
    "papermill": {
     "duration": 0.046763,
     "end_time": "2021-08-30T14:50:18.654739",
     "exception": false,
     "start_time": "2021-08-30T14:50:18.607976",
     "status": "completed"
    },
    "tags": []
   },
   "outputs": [],
   "source": [
    "def evaluate_model(model):\n",
    "    cv = RepeatedKFold(n_splits=10, n_repeats=1, random_state=1)\n",
    "    scores = cross_val_score(model, x, y, scoring='neg_root_mean_squared_error', cv=cv, n_jobs=-1, error_score='raise')\n",
    "    return scores"
   ]
  },
  {
   "cell_type": "markdown",
   "id": "014acd70",
   "metadata": {
    "papermill": {
     "duration": 0.03792,
     "end_time": "2021-08-30T14:50:18.731714",
     "exception": false,
     "start_time": "2021-08-30T14:50:18.693794",
     "status": "completed"
    },
    "tags": []
   },
   "source": [
    "<h3> 1 - Testing different number of estimators </h3>\n",
    "\n",
    "estimators = [10,50,100,1000,5000]"
   ]
  },
  {
   "cell_type": "code",
   "execution_count": 14,
   "id": "a10c3ddf",
   "metadata": {
    "execution": {
     "iopub.execute_input": "2021-08-30T14:50:18.815190Z",
     "iopub.status.busy": "2021-08-30T14:50:18.814600Z",
     "iopub.status.idle": "2021-08-30T14:50:18.817543Z",
     "shell.execute_reply": "2021-08-30T14:50:18.816936Z",
     "shell.execute_reply.started": "2021-08-30T02:22:56.192574Z"
    },
    "papermill": {
     "duration": 0.04798,
     "end_time": "2021-08-30T14:50:18.817680",
     "exception": false,
     "start_time": "2021-08-30T14:50:18.769700",
     "status": "completed"
    },
    "tags": []
   },
   "outputs": [],
   "source": [
    "def get_models_n_estimators():\n",
    "    models = dict()\n",
    "    trees = [10, 50, 100, 500, 1000, 5000]\n",
    "    for n in trees:\n",
    "        models[str(n)] = XGBRegressor(n_estimators=n)\n",
    "    return models"
   ]
  },
  {
   "cell_type": "code",
   "execution_count": 15,
   "id": "5e4d6759",
   "metadata": {
    "execution": {
     "iopub.execute_input": "2021-08-30T14:50:18.899812Z",
     "iopub.status.busy": "2021-08-30T14:50:18.899236Z",
     "iopub.status.idle": "2021-08-30T14:50:18.902108Z",
     "shell.execute_reply": "2021-08-30T14:50:18.901534Z",
     "shell.execute_reply.started": "2021-08-29T19:55:04.892576Z"
    },
    "papermill": {
     "duration": 0.045514,
     "end_time": "2021-08-30T14:50:18.902263",
     "exception": false,
     "start_time": "2021-08-30T14:50:18.856749",
     "status": "completed"
    },
    "tags": []
   },
   "outputs": [],
   "source": [
    "models = get_models_n_estimators()"
   ]
  },
  {
   "cell_type": "markdown",
   "id": "9105840d",
   "metadata": {
    "papermill": {
     "duration": 0.037433,
     "end_time": "2021-08-30T14:50:18.978275",
     "exception": false,
     "start_time": "2021-08-30T14:50:18.940842",
     "status": "completed"
    },
    "tags": []
   },
   "source": [
    "K cross validation - 10 splits"
   ]
  },
  {
   "cell_type": "code",
   "execution_count": 16,
   "id": "8e45a8df",
   "metadata": {
    "execution": {
     "iopub.execute_input": "2021-08-30T14:50:19.060268Z",
     "iopub.status.busy": "2021-08-30T14:50:19.059657Z",
     "iopub.status.idle": "2021-08-30T14:50:19.062101Z",
     "shell.execute_reply": "2021-08-30T14:50:19.062575Z"
    },
    "papermill": {
     "duration": 0.045213,
     "end_time": "2021-08-30T14:50:19.062745",
     "exception": false,
     "start_time": "2021-08-30T14:50:19.017532",
     "status": "completed"
    },
    "tags": []
   },
   "outputs": [],
   "source": [
    "# results, names = list(), list()\n",
    "# for name, model in tqdm(models.items()):\n",
    "#     scores = evaluate_model(model)\n",
    "#     results.append(scores)\n",
    "#     names.append(name)\n",
    "#     print('>%s %.3f (%.3f)' % (name, np.mean(scores), np.std(scores)))"
   ]
  },
  {
   "cell_type": "markdown",
   "id": "17e686d7",
   "metadata": {
    "papermill": {
     "duration": 0.038278,
     "end_time": "2021-08-30T14:50:19.139440",
     "exception": false,
     "start_time": "2021-08-30T14:50:19.101162",
     "status": "completed"
    },
    "tags": []
   },
   "source": [
    "Not K cross"
   ]
  },
  {
   "cell_type": "code",
   "execution_count": 17,
   "id": "68685fee",
   "metadata": {
    "execution": {
     "iopub.execute_input": "2021-08-30T14:50:19.221670Z",
     "iopub.status.busy": "2021-08-30T14:50:19.220993Z",
     "iopub.status.idle": "2021-08-30T14:50:19.336714Z",
     "shell.execute_reply": "2021-08-30T14:50:19.336088Z",
     "shell.execute_reply.started": "2021-08-30T12:29:54.769464Z"
    },
    "papermill": {
     "duration": 0.159229,
     "end_time": "2021-08-30T14:50:19.336870",
     "exception": false,
     "start_time": "2021-08-30T14:50:19.177641",
     "status": "completed"
    },
    "tags": []
   },
   "outputs": [],
   "source": [
    "x_train, x_test, y_train, y_test = train_test_split(x, y, test_size=0.30, random_state=42)"
   ]
  },
  {
   "cell_type": "code",
   "execution_count": 18,
   "id": "83072de1",
   "metadata": {
    "execution": {
     "iopub.execute_input": "2021-08-30T14:50:19.420511Z",
     "iopub.status.busy": "2021-08-30T14:50:19.419886Z",
     "iopub.status.idle": "2021-08-30T15:38:57.388113Z",
     "shell.execute_reply": "2021-08-30T15:38:57.384916Z",
     "shell.execute_reply.started": "2021-08-30T02:23:24.611794Z"
    },
    "papermill": {
     "duration": 2918.0131,
     "end_time": "2021-08-30T15:38:57.388482",
     "exception": false,
     "start_time": "2021-08-30T14:50:19.375382",
     "status": "completed"
    },
    "tags": []
   },
   "outputs": [
    {
     "data": {
      "application/vnd.jupyter.widget-view+json": {
       "model_id": "e0f11b1201f848c0852f8571b07261ee",
       "version_major": 2,
       "version_minor": 0
      },
      "text/plain": [
       "  0%|          | 0/6 [00:00<?, ?it/s]"
      ]
     },
     "metadata": {},
     "output_type": "display_data"
    },
    {
     "name": "stdout",
     "output_type": "stream",
     "text": [
      ">10 0.765\n",
      ">50 0.724\n",
      ">100 0.724\n",
      ">500 0.734\n",
      ">1000 0.744\n",
      ">5000 0.775\n"
     ]
    }
   ],
   "source": [
    "models = get_models_n_estimators()\n",
    "results, names = list(), list()\n",
    "i = 0\n",
    "\n",
    "for name, model in tqdm(models.items()):\n",
    "    model.fit(x_train, y_train, verbose=True)\n",
    "    scores = evaluate_metrics(model, x_test, y_test)\n",
    "    results.append(scores)\n",
    "    names.append(name)\n",
    "    print('>%s %.3f' % (name, results[i]))\n",
    "    i += 1"
   ]
  },
  {
   "cell_type": "markdown",
   "id": "717664f1",
   "metadata": {
    "papermill": {
     "duration": 0.039653,
     "end_time": "2021-08-30T15:38:57.472709",
     "exception": false,
     "start_time": "2021-08-30T15:38:57.433056",
     "status": "completed"
    },
    "tags": []
   },
   "source": [
    "<h3> 2 - Testing different max_depth </h3>\n",
    "\n",
    "depth = [1..10]"
   ]
  },
  {
   "cell_type": "code",
   "execution_count": 19,
   "id": "945dbc20",
   "metadata": {
    "execution": {
     "iopub.execute_input": "2021-08-30T15:38:57.555739Z",
     "iopub.status.busy": "2021-08-30T15:38:57.555142Z",
     "iopub.status.idle": "2021-08-30T15:38:57.559622Z",
     "shell.execute_reply": "2021-08-30T15:38:57.560073Z",
     "shell.execute_reply.started": "2021-08-30T03:16:38.666170Z"
    },
    "papermill": {
     "duration": 0.047696,
     "end_time": "2021-08-30T15:38:57.560271",
     "exception": false,
     "start_time": "2021-08-30T15:38:57.512575",
     "status": "completed"
    },
    "tags": []
   },
   "outputs": [],
   "source": [
    "def get_models_n_depths():\n",
    "    models = dict()\n",
    "    for i in range(1,11):\n",
    "        models[str(i)] = XGBRegressor(n_estimators=50, max_depth=i)\n",
    "    return models"
   ]
  },
  {
   "cell_type": "code",
   "execution_count": 20,
   "id": "f7e39b53",
   "metadata": {
    "execution": {
     "iopub.execute_input": "2021-08-30T15:38:57.667832Z",
     "iopub.status.busy": "2021-08-30T15:38:57.667236Z",
     "iopub.status.idle": "2021-08-30T15:42:31.433125Z",
     "shell.execute_reply": "2021-08-30T15:42:31.430534Z",
     "shell.execute_reply.started": "2021-08-30T03:16:38.675606Z"
    },
    "papermill": {
     "duration": 213.833136,
     "end_time": "2021-08-30T15:42:31.433311",
     "exception": false,
     "start_time": "2021-08-30T15:38:57.600175",
     "status": "completed"
    },
    "tags": []
   },
   "outputs": [
    {
     "data": {
      "application/vnd.jupyter.widget-view+json": {
       "model_id": "84171bce8b7f4848a4b513c4df084b2e",
       "version_major": 2,
       "version_minor": 0
      },
      "text/plain": [
       "  0%|          | 0/10 [00:00<?, ?it/s]"
      ]
     },
     "metadata": {},
     "output_type": "display_data"
    },
    {
     "name": "stdout",
     "output_type": "stream",
     "text": [
      ">1 0.735\n",
      ">2 0.730\n",
      ">3 0.727\n",
      ">4 0.725\n",
      ">5 0.724\n",
      ">6 0.724\n",
      ">7 0.726\n",
      ">8 0.728\n",
      ">9 0.733\n",
      ">10 0.738\n"
     ]
    }
   ],
   "source": [
    "models = get_models_n_depths()\n",
    "results, names = list(), list()\n",
    "i = 0\n",
    "\n",
    "for name, model in tqdm(models.items()):\n",
    "    model.fit(x_train, y_train, verbose=True)\n",
    "    scores = evaluate_metrics(model, x_test, y_test)\n",
    "    results.append(scores)\n",
    "    names.append(name)\n",
    "    print('>%s %.3f' % (name, results[i]))\n",
    "    i += 1"
   ]
  },
  {
   "cell_type": "markdown",
   "id": "877f8f28",
   "metadata": {
    "papermill": {
     "duration": 0.042519,
     "end_time": "2021-08-30T15:42:31.518613",
     "exception": false,
     "start_time": "2021-08-30T15:42:31.476094",
     "status": "completed"
    },
    "tags": []
   },
   "source": [
    "# 3 - Testing different subsamples"
   ]
  },
  {
   "cell_type": "code",
   "execution_count": 21,
   "id": "1738302c",
   "metadata": {
    "execution": {
     "iopub.execute_input": "2021-08-30T15:42:31.609057Z",
     "iopub.status.busy": "2021-08-30T15:42:31.608456Z",
     "iopub.status.idle": "2021-08-30T15:42:31.613019Z",
     "shell.execute_reply": "2021-08-30T15:42:31.613588Z",
     "shell.execute_reply.started": "2021-08-30T03:20:31.064568Z"
    },
    "papermill": {
     "duration": 0.051999,
     "end_time": "2021-08-30T15:42:31.613781",
     "exception": false,
     "start_time": "2021-08-30T15:42:31.561782",
     "status": "completed"
    },
    "tags": []
   },
   "outputs": [],
   "source": [
    "def get_models_subsamples():\n",
    "    models = dict()\n",
    "    for i in np.arange(0.1, 1.1, 0.1):\n",
    "        key = '%.1f' % i\n",
    "        models[key] = XGBRegressor(subsample=i)\n",
    "    return models"
   ]
  },
  {
   "cell_type": "code",
   "execution_count": 22,
   "id": "10af247b",
   "metadata": {
    "execution": {
     "iopub.execute_input": "2021-08-30T15:42:31.730267Z",
     "iopub.status.busy": "2021-08-30T15:42:31.729624Z",
     "iopub.status.idle": "2021-08-30T15:48:06.026465Z",
     "shell.execute_reply": "2021-08-30T15:48:06.023672Z",
     "shell.execute_reply.started": "2021-08-30T03:20:31.073554Z"
    },
    "papermill": {
     "duration": 334.369799,
     "end_time": "2021-08-30T15:48:06.026624",
     "exception": false,
     "start_time": "2021-08-30T15:42:31.656825",
     "status": "completed"
    },
    "tags": []
   },
   "outputs": [
    {
     "data": {
      "application/vnd.jupyter.widget-view+json": {
       "model_id": "1501fdcafb3c45e2a9907f315182d0a1",
       "version_major": 2,
       "version_minor": 0
      },
      "text/plain": [
       "  0%|          | 0/10 [00:00<?, ?it/s]"
      ]
     },
     "metadata": {},
     "output_type": "display_data"
    },
    {
     "name": "stdout",
     "output_type": "stream",
     "text": [
      ">0.1 0.759\n",
      ">0.2 0.743\n",
      ">0.3 0.737\n",
      ">0.4 0.732\n",
      ">0.5 0.730\n",
      ">0.6 0.728\n",
      ">0.7 0.727\n",
      ">0.8 0.726\n",
      ">0.9 0.725\n",
      ">1.0 0.724\n"
     ]
    }
   ],
   "source": [
    "models = get_models_subsamples()\n",
    "results, names = list(), list()\n",
    "i = 0\n",
    "\n",
    "for name, model in tqdm(models.items()):\n",
    "    model.fit(x_train, y_train, verbose=True)\n",
    "    scores = evaluate_metrics(model, x_test, y_test)\n",
    "    results.append(scores)\n",
    "    names.append(name)\n",
    "    print('>%s %.3f' % (name, results[i]))\n",
    "    i += 1"
   ]
  },
  {
   "cell_type": "markdown",
   "id": "89a83431",
   "metadata": {
    "papermill": {
     "duration": 0.045877,
     "end_time": "2021-08-30T15:48:06.119428",
     "exception": false,
     "start_time": "2021-08-30T15:48:06.073551",
     "status": "completed"
    },
    "tags": []
   },
   "source": [
    "# 4 - Testing different learning rates"
   ]
  },
  {
   "cell_type": "code",
   "execution_count": 23,
   "id": "6f7d947c",
   "metadata": {
    "execution": {
     "iopub.execute_input": "2021-08-30T15:48:06.219048Z",
     "iopub.status.busy": "2021-08-30T15:48:06.218426Z",
     "iopub.status.idle": "2021-08-30T15:48:06.222095Z",
     "shell.execute_reply": "2021-08-30T15:48:06.221485Z",
     "shell.execute_reply.started": "2021-08-30T03:28:48.938731Z"
    },
    "papermill": {
     "duration": 0.056306,
     "end_time": "2021-08-30T15:48:06.222276",
     "exception": false,
     "start_time": "2021-08-30T15:48:06.165970",
     "status": "completed"
    },
    "tags": []
   },
   "outputs": [],
   "source": [
    "def get_models_lr():\n",
    "    models = dict()\n",
    "    rates = [0.0001, 0.001, 0.01, 0.1, 1.0]\n",
    "    for r in rates:\n",
    "        key = '%.4f' % r\n",
    "        models[key] = XGBRegressor(eta=r)\n",
    "    return models"
   ]
  },
  {
   "cell_type": "code",
   "execution_count": 24,
   "id": "c864914c",
   "metadata": {
    "execution": {
     "iopub.execute_input": "2021-08-30T15:48:06.348498Z",
     "iopub.status.busy": "2021-08-30T15:48:06.347596Z",
     "iopub.status.idle": "2021-08-30T15:51:35.777721Z",
     "shell.execute_reply": "2021-08-30T15:51:35.774973Z",
     "shell.execute_reply.started": "2021-08-30T03:28:49.186477Z"
    },
    "papermill": {
     "duration": 209.507831,
     "end_time": "2021-08-30T15:51:35.777919",
     "exception": false,
     "start_time": "2021-08-30T15:48:06.270088",
     "status": "completed"
    },
    "tags": []
   },
   "outputs": [
    {
     "data": {
      "application/vnd.jupyter.widget-view+json": {
       "model_id": "cdb4450172194520994ec5e94f9446f4",
       "version_major": 2,
       "version_minor": 0
      },
      "text/plain": [
       "  0%|          | 0/5 [00:00<?, ?it/s]"
      ]
     },
     "metadata": {},
     "output_type": "display_data"
    },
    {
     "name": "stdout",
     "output_type": "stream",
     "text": [
      ">0.0001 7.702\n",
      ">0.0010 7.045\n",
      ">0.0100 2.929\n",
      ">0.1000 0.724\n",
      ">1.0000 0.767\n"
     ]
    }
   ],
   "source": [
    "models = get_models_lr()\n",
    "results, names = list(), list()\n",
    "i = 0\n",
    "\n",
    "for name, model in tqdm(models.items()):\n",
    "    model.fit(x_train, y_train, verbose=True)\n",
    "    scores = evaluate_metrics(model, x_test, y_test)\n",
    "    results.append(scores)\n",
    "    names.append(name)\n",
    "    print('>%s %.3f' % (name, results[i]))\n",
    "    i += 1"
   ]
  },
  {
   "cell_type": "markdown",
   "id": "99d30c46",
   "metadata": {
    "papermill": {
     "duration": 0.046733,
     "end_time": "2021-08-30T15:51:35.873885",
     "exception": false,
     "start_time": "2021-08-30T15:51:35.827152",
     "status": "completed"
    },
    "tags": []
   },
   "source": [
    "# 5 - Testing different number of features"
   ]
  },
  {
   "cell_type": "code",
   "execution_count": 25,
   "id": "b2f34465",
   "metadata": {
    "execution": {
     "iopub.execute_input": "2021-08-30T15:51:35.974848Z",
     "iopub.status.busy": "2021-08-30T15:51:35.973685Z",
     "iopub.status.idle": "2021-08-30T15:51:35.975713Z",
     "shell.execute_reply": "2021-08-30T15:51:35.976277Z",
     "shell.execute_reply.started": "2021-08-30T03:33:02.536893Z"
    },
    "papermill": {
     "duration": 0.055423,
     "end_time": "2021-08-30T15:51:35.976461",
     "exception": false,
     "start_time": "2021-08-30T15:51:35.921038",
     "status": "completed"
    },
    "tags": []
   },
   "outputs": [],
   "source": [
    "def get_models_nfeatures():\n",
    "    models = dict()\n",
    "    for i in np.arange(0.1, 1.1, 0.1):\n",
    "        key = '%.1f' % i\n",
    "        models[key] = XGBRegressor(colsample_bytree=i)\n",
    "    return models"
   ]
  },
  {
   "cell_type": "code",
   "execution_count": 26,
   "id": "12f9cfe2",
   "metadata": {
    "execution": {
     "iopub.execute_input": "2021-08-30T15:51:36.098247Z",
     "iopub.status.busy": "2021-08-30T15:51:36.097519Z",
     "iopub.status.idle": "2021-08-30T15:56:02.501761Z",
     "shell.execute_reply": "2021-08-30T15:56:02.499298Z",
     "shell.execute_reply.started": "2021-08-30T03:33:02.807144Z"
    },
    "papermill": {
     "duration": 266.477795,
     "end_time": "2021-08-30T15:56:02.501906",
     "exception": false,
     "start_time": "2021-08-30T15:51:36.024111",
     "status": "completed"
    },
    "tags": []
   },
   "outputs": [
    {
     "data": {
      "application/vnd.jupyter.widget-view+json": {
       "model_id": "2505ab6b8ed84f26b4bf6d0db116038d",
       "version_major": 2,
       "version_minor": 0
      },
      "text/plain": [
       "  0%|          | 0/10 [00:00<?, ?it/s]"
      ]
     },
     "metadata": {},
     "output_type": "display_data"
    },
    {
     "name": "stdout",
     "output_type": "stream",
     "text": [
      ">0.1 0.721\n",
      ">0.2 0.722\n",
      ">0.3 0.722\n",
      ">0.4 0.723\n",
      ">0.5 0.723\n",
      ">0.6 0.724\n",
      ">0.7 0.723\n",
      ">0.8 0.724\n",
      ">0.9 0.724\n",
      ">1.0 0.724\n"
     ]
    }
   ],
   "source": [
    "models = get_models_nfeatures()\n",
    "results, names = list(), list()\n",
    "i = 0\n",
    "\n",
    "for name, model in tqdm(models.items()):\n",
    "    model.fit(x_train, y_train, verbose=True)\n",
    "    scores = evaluate_metrics(model, x_test, y_test)\n",
    "    results.append(scores)\n",
    "    names.append(name)\n",
    "    print('>%s %.3f' % (name, results[i]))\n",
    "    i += 1"
   ]
  },
  {
   "cell_type": "markdown",
   "id": "5e5279ba",
   "metadata": {
    "papermill": {
     "duration": 0.04942,
     "end_time": "2021-08-30T15:56:02.601132",
     "exception": false,
     "start_time": "2021-08-30T15:56:02.551712",
     "status": "completed"
    },
    "tags": []
   },
   "source": [
    "# Grid Search\n",
    "\n",
    "Lets do a Grid search on some of the best parameters obtained above"
   ]
  },
  {
   "cell_type": "code",
   "execution_count": 27,
   "id": "e004f588",
   "metadata": {
    "execution": {
     "iopub.execute_input": "2021-08-30T15:56:02.706453Z",
     "iopub.status.busy": "2021-08-30T15:56:02.705760Z",
     "iopub.status.idle": "2021-08-30T15:56:02.708899Z",
     "shell.execute_reply": "2021-08-30T15:56:02.708424Z",
     "shell.execute_reply.started": "2021-08-30T03:43:55.359065Z"
    },
    "papermill": {
     "duration": 0.058268,
     "end_time": "2021-08-30T15:56:02.709045",
     "exception": false,
     "start_time": "2021-08-30T15:56:02.650777",
     "status": "completed"
    },
    "tags": []
   },
   "outputs": [],
   "source": [
    "params = {'n_estimators' : [50,100,200],\n",
    "          'max_depth' : [5,6],\n",
    "          'subsample' : [0.9,1.0],\n",
    "          'eta' : [0.1, 0.12, 0.13],\n",
    "          'colsample_bytree' : [0.1, 0.2, 0.3]\n",
    "         }"
   ]
  },
  {
   "cell_type": "code",
   "execution_count": 28,
   "id": "64bbadf2",
   "metadata": {
    "execution": {
     "iopub.execute_input": "2021-08-30T15:56:02.815811Z",
     "iopub.status.busy": "2021-08-30T15:56:02.815253Z",
     "iopub.status.idle": "2021-08-30T15:56:02.817944Z",
     "shell.execute_reply": "2021-08-30T15:56:02.818379Z",
     "shell.execute_reply.started": "2021-08-30T03:43:55.641551Z"
    },
    "papermill": {
     "duration": 0.057916,
     "end_time": "2021-08-30T15:56:02.818571",
     "exception": false,
     "start_time": "2021-08-30T15:56:02.760655",
     "status": "completed"
    },
    "tags": []
   },
   "outputs": [],
   "source": [
    "metrics = ['neg_root_mean_squared_error']"
   ]
  },
  {
   "cell_type": "code",
   "execution_count": 29,
   "id": "c548cc5a",
   "metadata": {
    "execution": {
     "iopub.execute_input": "2021-08-30T15:56:02.925173Z",
     "iopub.status.busy": "2021-08-30T15:56:02.924557Z",
     "iopub.status.idle": "2021-08-30T15:56:02.929323Z",
     "shell.execute_reply": "2021-08-30T15:56:02.928698Z",
     "shell.execute_reply.started": "2021-08-30T03:43:56.186780Z"
    },
    "papermill": {
     "duration": 0.059451,
     "end_time": "2021-08-30T15:56:02.929461",
     "exception": false,
     "start_time": "2021-08-30T15:56:02.870010",
     "status": "completed"
    },
    "tags": []
   },
   "outputs": [],
   "source": [
    "grid_cv = GridSearchCV(XGBRegressor(), param_grid=params, scoring=metrics, verbose=1, refit='neg_root_mean_squared_error', return_train_score=False, n_jobs=-1)"
   ]
  },
  {
   "cell_type": "code",
   "execution_count": 30,
   "id": "0bb37955",
   "metadata": {
    "execution": {
     "iopub.execute_input": "2021-08-30T15:56:03.034086Z",
     "iopub.status.busy": "2021-08-30T15:56:03.033508Z",
     "iopub.status.idle": "2021-08-30T21:03:57.065201Z",
     "shell.execute_reply": "2021-08-30T21:03:57.065986Z",
     "shell.execute_reply.started": "2021-08-30T03:44:00.998853Z"
    },
    "papermill": {
     "duration": 18474.085569,
     "end_time": "2021-08-30T21:03:57.066328",
     "exception": false,
     "start_time": "2021-08-30T15:56:02.980759",
     "status": "completed"
    },
    "tags": []
   },
   "outputs": [
    {
     "name": "stdout",
     "output_type": "stream",
     "text": [
      "Fitting 5 folds for each of 108 candidates, totalling 540 fits\n"
     ]
    },
    {
     "name": "stderr",
     "output_type": "stream",
     "text": [
      "[Parallel(n_jobs=-1)]: Using backend LokyBackend with 4 concurrent workers.\n",
      "[Parallel(n_jobs=-1)]: Done  42 tasks      | elapsed: 15.8min\n",
      "[Parallel(n_jobs=-1)]: Done 192 tasks      | elapsed: 84.3min\n",
      "[Parallel(n_jobs=-1)]: Done 442 tasks      | elapsed: 235.2min\n",
      "[Parallel(n_jobs=-1)]: Done 540 out of 540 | elapsed: 307.3min finished\n"
     ]
    }
   ],
   "source": [
    "result = grid_cv.fit(x, y)"
   ]
  },
  {
   "cell_type": "code",
   "execution_count": 31,
   "id": "6e873268",
   "metadata": {
    "execution": {
     "iopub.execute_input": "2021-08-30T21:03:57.181349Z",
     "iopub.status.busy": "2021-08-30T21:03:57.180587Z",
     "iopub.status.idle": "2021-08-30T21:03:57.188103Z",
     "shell.execute_reply": "2021-08-30T21:03:57.188737Z",
     "shell.execute_reply.started": "2021-08-30T06:32:35.385499Z"
    },
    "papermill": {
     "duration": 0.066941,
     "end_time": "2021-08-30T21:03:57.188954",
     "exception": false,
     "start_time": "2021-08-30T21:03:57.122013",
     "status": "completed"
    },
    "tags": []
   },
   "outputs": [
    {
     "data": {
      "text/plain": [
       "{'colsample_bytree': 0.2,\n",
       " 'eta': 0.12,\n",
       " 'max_depth': 6,\n",
       " 'n_estimators': 200,\n",
       " 'subsample': 1.0}"
      ]
     },
     "execution_count": 31,
     "metadata": {},
     "output_type": "execute_result"
    }
   ],
   "source": [
    "grid_cv.best_params_"
   ]
  },
  {
   "cell_type": "code",
   "execution_count": 32,
   "id": "565c836f",
   "metadata": {
    "execution": {
     "iopub.execute_input": "2021-08-30T21:03:57.300067Z",
     "iopub.status.busy": "2021-08-30T21:03:57.299440Z",
     "iopub.status.idle": "2021-08-30T21:03:57.303707Z",
     "shell.execute_reply": "2021-08-30T21:03:57.304183Z",
     "shell.execute_reply.started": "2021-08-30T12:30:02.353501Z"
    },
    "papermill": {
     "duration": 0.061663,
     "end_time": "2021-08-30T21:03:57.304393",
     "exception": false,
     "start_time": "2021-08-30T21:03:57.242730",
     "status": "completed"
    },
    "tags": []
   },
   "outputs": [],
   "source": [
    "model = XGBRegressor(n_estimators=200, eta=0.12, max_depth=6, subsample=1.0, colsample_bytree=0.2)"
   ]
  },
  {
   "cell_type": "code",
   "execution_count": 33,
   "id": "8137ac93",
   "metadata": {
    "execution": {
     "iopub.execute_input": "2021-08-30T21:03:57.412150Z",
     "iopub.status.busy": "2021-08-30T21:03:57.411554Z",
     "iopub.status.idle": "2021-08-30T21:04:22.783737Z",
     "shell.execute_reply": "2021-08-30T21:04:22.783136Z",
     "shell.execute_reply.started": "2021-08-30T12:30:44.487217Z"
    },
    "papermill": {
     "duration": 25.426435,
     "end_time": "2021-08-30T21:04:22.783874",
     "exception": false,
     "start_time": "2021-08-30T21:03:57.357439",
     "status": "completed"
    },
    "tags": []
   },
   "outputs": [
    {
     "data": {
      "text/plain": [
       "XGBRegressor(base_score=0.5, booster='gbtree', colsample_bylevel=1,\n",
       "             colsample_bynode=1, colsample_bytree=0.2, eta=0.12, gamma=0,\n",
       "             gpu_id=-1, importance_type='gain', interaction_constraints='',\n",
       "             learning_rate=0.119999997, max_delta_step=0, max_depth=6,\n",
       "             min_child_weight=1, missing=nan, monotone_constraints='()',\n",
       "             n_estimators=200, n_jobs=4, num_parallel_tree=1, random_state=0,\n",
       "             reg_alpha=0, reg_lambda=1, scale_pos_weight=1, subsample=1.0,\n",
       "             tree_method='exact', validate_parameters=1, verbosity=None)"
      ]
     },
     "execution_count": 33,
     "metadata": {},
     "output_type": "execute_result"
    }
   ],
   "source": [
    "model.fit(x_train, y_train)"
   ]
  },
  {
   "cell_type": "code",
   "execution_count": 34,
   "id": "325c769d",
   "metadata": {
    "execution": {
     "iopub.execute_input": "2021-08-30T21:04:22.895365Z",
     "iopub.status.busy": "2021-08-30T21:04:22.893448Z",
     "iopub.status.idle": "2021-08-30T21:04:23.110238Z",
     "shell.execute_reply": "2021-08-30T21:04:23.109704Z",
     "shell.execute_reply.started": "2021-08-30T12:31:46.611687Z"
    },
    "papermill": {
     "duration": 0.274267,
     "end_time": "2021-08-30T21:04:23.110511",
     "exception": false,
     "start_time": "2021-08-30T21:04:22.836244",
     "status": "completed"
    },
    "tags": []
   },
   "outputs": [
    {
     "data": {
      "text/plain": [
       "0.7197771911646221"
      ]
     },
     "execution_count": 34,
     "metadata": {},
     "output_type": "execute_result"
    }
   ],
   "source": [
    "evaluate_metrics(model, x_test, y_test)"
   ]
  },
  {
   "cell_type": "code",
   "execution_count": 35,
   "id": "7e71846a",
   "metadata": {
    "execution": {
     "iopub.execute_input": "2021-08-30T21:04:23.224682Z",
     "iopub.status.busy": "2021-08-30T21:04:23.223669Z",
     "iopub.status.idle": "2021-08-30T21:04:23.228050Z",
     "shell.execute_reply": "2021-08-30T21:04:23.227332Z",
     "shell.execute_reply.started": "2021-08-30T12:32:01.992776Z"
    },
    "papermill": {
     "duration": 0.064464,
     "end_time": "2021-08-30T21:04:23.228232",
     "exception": false,
     "start_time": "2021-08-30T21:04:23.163768",
     "status": "completed"
    },
    "tags": []
   },
   "outputs": [],
   "source": [
    "model = XGBRegressor(n_estimators=200, eta=0.12, max_depth=6, subsample=1.0, colsample_bytree=0.2)"
   ]
  },
  {
   "cell_type": "code",
   "execution_count": 36,
   "id": "e3eae752",
   "metadata": {
    "execution": {
     "iopub.execute_input": "2021-08-30T21:04:23.347825Z",
     "iopub.status.busy": "2021-08-30T21:04:23.346935Z",
     "iopub.status.idle": "2021-08-30T21:04:59.870647Z",
     "shell.execute_reply": "2021-08-30T21:04:59.871151Z",
     "shell.execute_reply.started": "2021-08-30T12:32:10.809166Z"
    },
    "papermill": {
     "duration": 36.585156,
     "end_time": "2021-08-30T21:04:59.871348",
     "exception": false,
     "start_time": "2021-08-30T21:04:23.286192",
     "status": "completed"
    },
    "tags": []
   },
   "outputs": [
    {
     "data": {
      "text/plain": [
       "XGBRegressor(base_score=0.5, booster='gbtree', colsample_bylevel=1,\n",
       "             colsample_bynode=1, colsample_bytree=0.2, eta=0.12, gamma=0,\n",
       "             gpu_id=-1, importance_type='gain', interaction_constraints='',\n",
       "             learning_rate=0.119999997, max_delta_step=0, max_depth=6,\n",
       "             min_child_weight=1, missing=nan, monotone_constraints='()',\n",
       "             n_estimators=200, n_jobs=4, num_parallel_tree=1, random_state=0,\n",
       "             reg_alpha=0, reg_lambda=1, scale_pos_weight=1, subsample=1.0,\n",
       "             tree_method='exact', validate_parameters=1, verbosity=None)"
      ]
     },
     "execution_count": 36,
     "metadata": {},
     "output_type": "execute_result"
    }
   ],
   "source": [
    "model.fit(x, y)"
   ]
  },
  {
   "cell_type": "code",
   "execution_count": 37,
   "id": "011bde70",
   "metadata": {
    "execution": {
     "iopub.execute_input": "2021-08-30T21:04:59.984103Z",
     "iopub.status.busy": "2021-08-30T21:04:59.983487Z",
     "iopub.status.idle": "2021-08-30T21:05:01.750059Z",
     "shell.execute_reply": "2021-08-30T21:05:01.750571Z",
     "shell.execute_reply.started": "2021-08-30T12:33:03.497194Z"
    },
    "papermill": {
     "duration": 1.827018,
     "end_time": "2021-08-30T21:05:01.750778",
     "exception": false,
     "start_time": "2021-08-30T21:04:59.923760",
     "status": "completed"
    },
    "tags": []
   },
   "outputs": [],
   "source": [
    "df_test = pd.read_csv('/kaggle/input/30-days-of-ml/test.csv')"
   ]
  },
  {
   "cell_type": "code",
   "execution_count": 38,
   "id": "3091ad9b",
   "metadata": {
    "execution": {
     "iopub.execute_input": "2021-08-30T21:05:01.860554Z",
     "iopub.status.busy": "2021-08-30T21:05:01.859939Z",
     "iopub.status.idle": "2021-08-30T21:05:02.044809Z",
     "shell.execute_reply": "2021-08-30T21:05:02.045453Z",
     "shell.execute_reply.started": "2021-08-30T12:33:21.166853Z"
    },
    "papermill": {
     "duration": 0.241382,
     "end_time": "2021-08-30T21:05:02.045646",
     "exception": false,
     "start_time": "2021-08-30T21:05:01.804264",
     "status": "completed"
    },
    "tags": []
   },
   "outputs": [],
   "source": [
    " for i in range(10):\n",
    "    df_test['cat' + str(i)] = df_test['cat' + str(i)].astype('category')\n",
    "    df_test['cat' + str(i)] = df_test['cat' + str(i)].cat.codes"
   ]
  },
  {
   "cell_type": "code",
   "execution_count": 39,
   "id": "ff2bf672",
   "metadata": {
    "execution": {
     "iopub.execute_input": "2021-08-30T21:05:02.159357Z",
     "iopub.status.busy": "2021-08-30T21:05:02.158650Z",
     "iopub.status.idle": "2021-08-30T21:05:02.171113Z",
     "shell.execute_reply": "2021-08-30T21:05:02.171612Z",
     "shell.execute_reply.started": "2021-08-30T12:33:30.767455Z"
    },
    "papermill": {
     "duration": 0.073455,
     "end_time": "2021-08-30T21:05:02.171809",
     "exception": false,
     "start_time": "2021-08-30T21:05:02.098354",
     "status": "completed"
    },
    "tags": []
   },
   "outputs": [],
   "source": [
    "ids = df_test['id'].values\n",
    "df_test = df_test.drop(['id'], axis=1)"
   ]
  },
  {
   "cell_type": "code",
   "execution_count": 40,
   "id": "8a6b6762",
   "metadata": {
    "execution": {
     "iopub.execute_input": "2021-08-30T21:05:02.292745Z",
     "iopub.status.busy": "2021-08-30T21:05:02.291326Z",
     "iopub.status.idle": "2021-08-30T21:05:02.729844Z",
     "shell.execute_reply": "2021-08-30T21:05:02.730469Z",
     "shell.execute_reply.started": "2021-08-30T12:33:57.028036Z"
    },
    "papermill": {
     "duration": 0.501912,
     "end_time": "2021-08-30T21:05:02.730685",
     "exception": false,
     "start_time": "2021-08-30T21:05:02.228773",
     "status": "completed"
    },
    "tags": []
   },
   "outputs": [],
   "source": [
    "target = model.predict(df_test.values)"
   ]
  },
  {
   "cell_type": "code",
   "execution_count": 41,
   "id": "7a535ef7",
   "metadata": {
    "execution": {
     "iopub.execute_input": "2021-08-30T21:05:02.842357Z",
     "iopub.status.busy": "2021-08-30T21:05:02.841415Z",
     "iopub.status.idle": "2021-08-30T21:05:02.847248Z",
     "shell.execute_reply": "2021-08-30T21:05:02.847798Z",
     "shell.execute_reply.started": "2021-08-30T12:34:04.202394Z"
    },
    "papermill": {
     "duration": 0.063866,
     "end_time": "2021-08-30T21:05:02.847988",
     "exception": false,
     "start_time": "2021-08-30T21:05:02.784122",
     "status": "completed"
    },
    "tags": []
   },
   "outputs": [],
   "source": [
    "submission = pd.DataFrame({'id' : ids, 'target' : target})"
   ]
  },
  {
   "cell_type": "code",
   "execution_count": 42,
   "id": "6fe48334",
   "metadata": {
    "execution": {
     "iopub.execute_input": "2021-08-30T21:05:02.956990Z",
     "iopub.status.busy": "2021-08-30T21:05:02.956411Z",
     "iopub.status.idle": "2021-08-30T21:05:02.967695Z",
     "shell.execute_reply": "2021-08-30T21:05:02.967154Z",
     "shell.execute_reply.started": "2021-08-30T12:34:10.362825Z"
    },
    "papermill": {
     "duration": 0.066359,
     "end_time": "2021-08-30T21:05:02.967837",
     "exception": false,
     "start_time": "2021-08-30T21:05:02.901478",
     "status": "completed"
    },
    "tags": []
   },
   "outputs": [
    {
     "data": {
      "text/html": [
       "<div>\n",
       "<style scoped>\n",
       "    .dataframe tbody tr th:only-of-type {\n",
       "        vertical-align: middle;\n",
       "    }\n",
       "\n",
       "    .dataframe tbody tr th {\n",
       "        vertical-align: top;\n",
       "    }\n",
       "\n",
       "    .dataframe thead th {\n",
       "        text-align: right;\n",
       "    }\n",
       "</style>\n",
       "<table border=\"1\" class=\"dataframe\">\n",
       "  <thead>\n",
       "    <tr style=\"text-align: right;\">\n",
       "      <th></th>\n",
       "      <th>id</th>\n",
       "      <th>target</th>\n",
       "    </tr>\n",
       "  </thead>\n",
       "  <tbody>\n",
       "    <tr>\n",
       "      <th>0</th>\n",
       "      <td>0</td>\n",
       "      <td>8.013986</td>\n",
       "    </tr>\n",
       "    <tr>\n",
       "      <th>1</th>\n",
       "      <td>5</td>\n",
       "      <td>8.293573</td>\n",
       "    </tr>\n",
       "    <tr>\n",
       "      <th>2</th>\n",
       "      <td>15</td>\n",
       "      <td>8.390730</td>\n",
       "    </tr>\n",
       "    <tr>\n",
       "      <th>3</th>\n",
       "      <td>16</td>\n",
       "      <td>8.460368</td>\n",
       "    </tr>\n",
       "    <tr>\n",
       "      <th>4</th>\n",
       "      <td>17</td>\n",
       "      <td>8.172173</td>\n",
       "    </tr>\n",
       "  </tbody>\n",
       "</table>\n",
       "</div>"
      ],
      "text/plain": [
       "   id    target\n",
       "0   0  8.013986\n",
       "1   5  8.293573\n",
       "2  15  8.390730\n",
       "3  16  8.460368\n",
       "4  17  8.172173"
      ]
     },
     "execution_count": 42,
     "metadata": {},
     "output_type": "execute_result"
    }
   ],
   "source": [
    "submission.head()"
   ]
  },
  {
   "cell_type": "code",
   "execution_count": 43,
   "id": "d146870e",
   "metadata": {
    "execution": {
     "iopub.execute_input": "2021-08-30T21:05:03.079815Z",
     "iopub.status.busy": "2021-08-30T21:05:03.079010Z",
     "iopub.status.idle": "2021-08-30T21:05:03.442001Z",
     "shell.execute_reply": "2021-08-30T21:05:03.442489Z",
     "shell.execute_reply.started": "2021-08-30T12:34:46.734543Z"
    },
    "papermill": {
     "duration": 0.420465,
     "end_time": "2021-08-30T21:05:03.442661",
     "exception": false,
     "start_time": "2021-08-30T21:05:03.022196",
     "status": "completed"
    },
    "tags": []
   },
   "outputs": [],
   "source": [
    "submission.to_csv('submission.csv', index=False)"
   ]
  },
  {
   "cell_type": "markdown",
   "id": "0147ff38",
   "metadata": {
    "papermill": {
     "duration": 0.05372,
     "end_time": "2021-08-30T21:05:03.549419",
     "exception": false,
     "start_time": "2021-08-30T21:05:03.495699",
     "status": "completed"
    },
    "tags": []
   },
   "source": [
    "<h3>Lets try a different number of estimators. Something between 200 and 300</h3>"
   ]
  },
  {
   "cell_type": "code",
   "execution_count": 44,
   "id": "72e5f138",
   "metadata": {
    "execution": {
     "iopub.execute_input": "2021-08-30T21:05:03.771424Z",
     "iopub.status.busy": "2021-08-30T21:05:03.770765Z",
     "iopub.status.idle": "2021-08-30T21:05:03.773676Z",
     "shell.execute_reply": "2021-08-30T21:05:03.773187Z",
     "shell.execute_reply.started": "2021-08-30T13:11:27.337836Z"
    },
    "papermill": {
     "duration": 0.17114,
     "end_time": "2021-08-30T21:05:03.773813",
     "exception": false,
     "start_time": "2021-08-30T21:05:03.602673",
     "status": "completed"
    },
    "tags": []
   },
   "outputs": [],
   "source": [
    "params = {'n_estimators' : [50,100,200,210,220,230,240,250,260,270,280,290,300,310]}\n",
    "metrics = ['neg_root_mean_squared_error']\n",
    "grid_cv = GridSearchCV(XGBRegressor(eta=0.12, max_depth=6, subsample=1.0, colsample_bytree=0.2), param_grid=params, scoring=metrics, verbose=1, refit='neg_root_mean_squared_error', return_train_score=False, n_jobs=-1)"
   ]
  },
  {
   "cell_type": "code",
   "execution_count": 45,
   "id": "e62b0993",
   "metadata": {
    "execution": {
     "iopub.execute_input": "2021-08-30T21:05:03.921463Z",
     "iopub.status.busy": "2021-08-30T21:05:03.920790Z",
     "iopub.status.idle": "2021-08-30T22:32:02.437826Z",
     "shell.execute_reply": "2021-08-30T22:32:02.438375Z",
     "shell.execute_reply.started": "2021-08-30T13:11:28.451187Z"
    },
    "papermill": {
     "duration": 5218.603048,
     "end_time": "2021-08-30T22:32:02.438948",
     "exception": false,
     "start_time": "2021-08-30T21:05:03.835900",
     "status": "completed"
    },
    "tags": []
   },
   "outputs": [
    {
     "name": "stdout",
     "output_type": "stream",
     "text": [
      "Fitting 5 folds for each of 14 candidates, totalling 70 fits\n"
     ]
    },
    {
     "name": "stderr",
     "output_type": "stream",
     "text": [
      "[Parallel(n_jobs=-1)]: Using backend LokyBackend with 4 concurrent workers.\n",
      "[Parallel(n_jobs=-1)]: Done  42 tasks      | elapsed: 45.0min\n",
      "[Parallel(n_jobs=-1)]: Done  70 out of  70 | elapsed: 86.1min finished\n"
     ]
    },
    {
     "data": {
      "text/plain": [
       "GridSearchCV(estimator=XGBRegressor(base_score=None, booster=None,\n",
       "                                    colsample_bylevel=None,\n",
       "                                    colsample_bynode=None, colsample_bytree=0.2,\n",
       "                                    eta=0.12, gamma=None, gpu_id=None,\n",
       "                                    importance_type='gain',\n",
       "                                    interaction_constraints=None,\n",
       "                                    learning_rate=None, max_delta_step=None,\n",
       "                                    max_depth=6, min_child_weight=None,\n",
       "                                    missing=nan, monotone_constraints=None,\n",
       "                                    n_estimators=100, n_jobs=None,\n",
       "                                    num_parallel_tree=None, random_state=None,\n",
       "                                    reg_alpha=None, reg_lambda=None,\n",
       "                                    scale_pos_weight=None, subsample=1.0,\n",
       "                                    tree_method=None, validate_parameters=None,\n",
       "                                    verbosity=None),\n",
       "             n_jobs=-1,\n",
       "             param_grid={'n_estimators': [50, 100, 200, 210, 220, 230, 240, 250,\n",
       "                                          260, 270, 280, 290, 300, 310]},\n",
       "             refit='neg_root_mean_squared_error',\n",
       "             scoring=['neg_root_mean_squared_error'], verbose=1)"
      ]
     },
     "execution_count": 45,
     "metadata": {},
     "output_type": "execute_result"
    }
   ],
   "source": [
    "grid_cv.fit(x, y)"
   ]
  },
  {
   "cell_type": "code",
   "execution_count": 46,
   "id": "5c82329a",
   "metadata": {
    "execution": {
     "iopub.execute_input": "2021-08-30T22:32:02.550390Z",
     "iopub.status.busy": "2021-08-30T22:32:02.549761Z",
     "iopub.status.idle": "2021-08-30T22:32:02.555358Z",
     "shell.execute_reply": "2021-08-30T22:32:02.554876Z",
     "shell.execute_reply.started": "2021-08-30T14:39:15.560933Z"
    },
    "papermill": {
     "duration": 0.062926,
     "end_time": "2021-08-30T22:32:02.555514",
     "exception": false,
     "start_time": "2021-08-30T22:32:02.492588",
     "status": "completed"
    },
    "tags": []
   },
   "outputs": [
    {
     "name": "stdout",
     "output_type": "stream",
     "text": [
      "-0.7197632604360361\n",
      "{'n_estimators': 310}\n"
     ]
    }
   ],
   "source": [
    "print(grid_cv.best_score_)\n",
    "print(grid_cv.best_params_)"
   ]
  },
  {
   "cell_type": "code",
   "execution_count": 47,
   "id": "719699b1",
   "metadata": {
    "execution": {
     "iopub.execute_input": "2021-08-30T22:32:02.672577Z",
     "iopub.status.busy": "2021-08-30T22:32:02.671507Z",
     "iopub.status.idle": "2021-08-30T22:32:02.673776Z",
     "shell.execute_reply": "2021-08-30T22:32:02.674244Z",
     "shell.execute_reply.started": "2021-08-30T14:44:56.271988Z"
    },
    "papermill": {
     "duration": 0.064453,
     "end_time": "2021-08-30T22:32:02.674427",
     "exception": false,
     "start_time": "2021-08-30T22:32:02.609974",
     "status": "completed"
    },
    "tags": []
   },
   "outputs": [],
   "source": [
    "model = XGBRegressor(n_estimators=310, eta=0.12, max_depth=6, subsample=1.0, colsample_bytree=0.2)"
   ]
  },
  {
   "cell_type": "code",
   "execution_count": 48,
   "id": "9a59957f",
   "metadata": {
    "execution": {
     "iopub.execute_input": "2021-08-30T22:32:02.792955Z",
     "iopub.status.busy": "2021-08-30T22:32:02.791964Z",
     "iopub.status.idle": "2021-08-30T22:32:56.421715Z",
     "shell.execute_reply": "2021-08-30T22:32:56.422303Z",
     "shell.execute_reply.started": "2021-08-30T14:45:26.471217Z"
    },
    "papermill": {
     "duration": 53.694531,
     "end_time": "2021-08-30T22:32:56.422498",
     "exception": false,
     "start_time": "2021-08-30T22:32:02.727967",
     "status": "completed"
    },
    "tags": []
   },
   "outputs": [
    {
     "data": {
      "text/plain": [
       "XGBRegressor(base_score=0.5, booster='gbtree', colsample_bylevel=1,\n",
       "             colsample_bynode=1, colsample_bytree=0.2, eta=0.12, gamma=0,\n",
       "             gpu_id=-1, importance_type='gain', interaction_constraints='',\n",
       "             learning_rate=0.119999997, max_delta_step=0, max_depth=6,\n",
       "             min_child_weight=1, missing=nan, monotone_constraints='()',\n",
       "             n_estimators=310, n_jobs=4, num_parallel_tree=1, random_state=0,\n",
       "             reg_alpha=0, reg_lambda=1, scale_pos_weight=1, subsample=1.0,\n",
       "             tree_method='exact', validate_parameters=1, verbosity=None)"
      ]
     },
     "execution_count": 48,
     "metadata": {},
     "output_type": "execute_result"
    }
   ],
   "source": [
    "model.fit(x, y)"
   ]
  },
  {
   "cell_type": "code",
   "execution_count": 49,
   "id": "bf1ff61d",
   "metadata": {
    "execution": {
     "iopub.execute_input": "2021-08-30T22:32:56.537060Z",
     "iopub.status.busy": "2021-08-30T22:32:56.536439Z",
     "iopub.status.idle": "2021-08-30T22:32:57.186081Z",
     "shell.execute_reply": "2021-08-30T22:32:57.186539Z",
     "shell.execute_reply.started": "2021-08-30T14:46:20.850834Z"
    },
    "papermill": {
     "duration": 0.709567,
     "end_time": "2021-08-30T22:32:57.186722",
     "exception": false,
     "start_time": "2021-08-30T22:32:56.477155",
     "status": "completed"
    },
    "tags": []
   },
   "outputs": [],
   "source": [
    "target = model.predict(df_test.values)"
   ]
  },
  {
   "cell_type": "code",
   "execution_count": 50,
   "id": "9dd11834",
   "metadata": {
    "execution": {
     "iopub.execute_input": "2021-08-30T22:32:57.301309Z",
     "iopub.status.busy": "2021-08-30T22:32:57.300705Z",
     "iopub.status.idle": "2021-08-30T22:32:57.308547Z",
     "shell.execute_reply": "2021-08-30T22:32:57.308958Z",
     "shell.execute_reply.started": "2021-08-30T14:46:21.487284Z"
    },
    "papermill": {
     "duration": 0.065842,
     "end_time": "2021-08-30T22:32:57.309134",
     "exception": false,
     "start_time": "2021-08-30T22:32:57.243292",
     "status": "completed"
    },
    "tags": []
   },
   "outputs": [],
   "source": [
    "submission = pd.DataFrame({'id' : ids, 'target' : target})"
   ]
  },
  {
   "cell_type": "code",
   "execution_count": 51,
   "id": "82d6fa02",
   "metadata": {
    "execution": {
     "iopub.execute_input": "2021-08-30T22:32:57.421791Z",
     "iopub.status.busy": "2021-08-30T22:32:57.421203Z",
     "iopub.status.idle": "2021-08-30T22:32:57.432200Z",
     "shell.execute_reply": "2021-08-30T22:32:57.431716Z",
     "shell.execute_reply.started": "2021-08-30T14:46:21.497924Z"
    },
    "papermill": {
     "duration": 0.068672,
     "end_time": "2021-08-30T22:32:57.432363",
     "exception": false,
     "start_time": "2021-08-30T22:32:57.363691",
     "status": "completed"
    },
    "tags": []
   },
   "outputs": [
    {
     "data": {
      "text/html": [
       "<div>\n",
       "<style scoped>\n",
       "    .dataframe tbody tr th:only-of-type {\n",
       "        vertical-align: middle;\n",
       "    }\n",
       "\n",
       "    .dataframe tbody tr th {\n",
       "        vertical-align: top;\n",
       "    }\n",
       "\n",
       "    .dataframe thead th {\n",
       "        text-align: right;\n",
       "    }\n",
       "</style>\n",
       "<table border=\"1\" class=\"dataframe\">\n",
       "  <thead>\n",
       "    <tr style=\"text-align: right;\">\n",
       "      <th></th>\n",
       "      <th>id</th>\n",
       "      <th>target</th>\n",
       "    </tr>\n",
       "  </thead>\n",
       "  <tbody>\n",
       "    <tr>\n",
       "      <th>0</th>\n",
       "      <td>0</td>\n",
       "      <td>8.013052</td>\n",
       "    </tr>\n",
       "    <tr>\n",
       "      <th>1</th>\n",
       "      <td>5</td>\n",
       "      <td>8.303625</td>\n",
       "    </tr>\n",
       "    <tr>\n",
       "      <th>2</th>\n",
       "      <td>15</td>\n",
       "      <td>8.389752</td>\n",
       "    </tr>\n",
       "    <tr>\n",
       "      <th>3</th>\n",
       "      <td>16</td>\n",
       "      <td>8.470916</td>\n",
       "    </tr>\n",
       "    <tr>\n",
       "      <th>4</th>\n",
       "      <td>17</td>\n",
       "      <td>8.125373</td>\n",
       "    </tr>\n",
       "  </tbody>\n",
       "</table>\n",
       "</div>"
      ],
      "text/plain": [
       "   id    target\n",
       "0   0  8.013052\n",
       "1   5  8.303625\n",
       "2  15  8.389752\n",
       "3  16  8.470916\n",
       "4  17  8.125373"
      ]
     },
     "execution_count": 51,
     "metadata": {},
     "output_type": "execute_result"
    }
   ],
   "source": [
    "submission.head()"
   ]
  },
  {
   "cell_type": "code",
   "execution_count": 52,
   "id": "180f9189",
   "metadata": {
    "execution": {
     "iopub.execute_input": "2021-08-30T22:32:57.546791Z",
     "iopub.status.busy": "2021-08-30T22:32:57.546240Z",
     "iopub.status.idle": "2021-08-30T22:32:57.909258Z",
     "shell.execute_reply": "2021-08-30T22:32:57.908692Z",
     "shell.execute_reply.started": "2021-08-30T14:46:21.516454Z"
    },
    "papermill": {
     "duration": 0.422301,
     "end_time": "2021-08-30T22:32:57.909428",
     "exception": false,
     "start_time": "2021-08-30T22:32:57.487127",
     "status": "completed"
    },
    "tags": []
   },
   "outputs": [],
   "source": [
    "submission.to_csv('submission.csv', index=False)"
   ]
  },
  {
   "cell_type": "code",
   "execution_count": null,
   "id": "35652f12",
   "metadata": {
    "papermill": {
     "duration": 0.055405,
     "end_time": "2021-08-30T22:32:58.020405",
     "exception": false,
     "start_time": "2021-08-30T22:32:57.965000",
     "status": "completed"
    },
    "tags": []
   },
   "outputs": [],
   "source": []
  }
 ],
 "metadata": {
  "kernelspec": {
   "display_name": "Python 3",
   "language": "python",
   "name": "python3"
  },
  "language_info": {
   "codemirror_mode": {
    "name": "ipython",
    "version": 3
   },
   "file_extension": ".py",
   "mimetype": "text/x-python",
   "name": "python",
   "nbconvert_exporter": "python",
   "pygments_lexer": "ipython3",
   "version": "3.7.10"
  },
  "papermill": {
   "default_parameters": {},
   "duration": 27778.940981,
   "end_time": "2021-08-30T22:32:58.990360",
   "environment_variables": {},
   "exception": null,
   "input_path": "__notebook__.ipynb",
   "output_path": "__notebook__.ipynb",
   "parameters": {},
   "start_time": "2021-08-30T14:50:00.049379",
   "version": "2.3.3"
  },
  "widgets": {
   "application/vnd.jupyter.widget-state+json": {
    "state": {
     "0143b14c582940d7a79796dfd027cd08": {
      "model_module": "@jupyter-widgets/controls",
      "model_module_version": "1.5.0",
      "model_name": "HTMLModel",
      "state": {
       "_dom_classes": [],
       "_model_module": "@jupyter-widgets/controls",
       "_model_module_version": "1.5.0",
       "_model_name": "HTMLModel",
       "_view_count": null,
       "_view_module": "@jupyter-widgets/controls",
       "_view_module_version": "1.5.0",
       "_view_name": "HTMLView",
       "description": "",
       "description_tooltip": null,
       "layout": "IPY_MODEL_353204c8109e493da2bbe7fdfea5fb08",
       "placeholder": "​",
       "style": "IPY_MODEL_8746bb1c8ad04d119614acee6a2f8bfa",
       "value": " 10/10 [03:33&lt;00:00, 31.22s/it]"
      }
     },
     "0473232c5913415392960ad39080594e": {
      "model_module": "@jupyter-widgets/base",
      "model_module_version": "1.2.0",
      "model_name": "LayoutModel",
      "state": {
       "_model_module": "@jupyter-widgets/base",
       "_model_module_version": "1.2.0",
       "_model_name": "LayoutModel",
       "_view_count": null,
       "_view_module": "@jupyter-widgets/base",
       "_view_module_version": "1.2.0",
       "_view_name": "LayoutView",
       "align_content": null,
       "align_items": null,
       "align_self": null,
       "border": null,
       "bottom": null,
       "display": null,
       "flex": null,
       "flex_flow": null,
       "grid_area": null,
       "grid_auto_columns": null,
       "grid_auto_flow": null,
       "grid_auto_rows": null,
       "grid_column": null,
       "grid_gap": null,
       "grid_row": null,
       "grid_template_areas": null,
       "grid_template_columns": null,
       "grid_template_rows": null,
       "height": null,
       "justify_content": null,
       "justify_items": null,
       "left": null,
       "margin": null,
       "max_height": null,
       "max_width": null,
       "min_height": null,
       "min_width": null,
       "object_fit": null,
       "object_position": null,
       "order": null,
       "overflow": null,
       "overflow_x": null,
       "overflow_y": null,
       "padding": null,
       "right": null,
       "top": null,
       "visibility": null,
       "width": null
      }
     },
     "04f27e20e8db4942ab2e2e0e64afcdd2": {
      "model_module": "@jupyter-widgets/controls",
      "model_module_version": "1.5.0",
      "model_name": "HTMLModel",
      "state": {
       "_dom_classes": [],
       "_model_module": "@jupyter-widgets/controls",
       "_model_module_version": "1.5.0",
       "_model_name": "HTMLModel",
       "_view_count": null,
       "_view_module": "@jupyter-widgets/controls",
       "_view_module_version": "1.5.0",
       "_view_name": "HTMLView",
       "description": "",
       "description_tooltip": null,
       "layout": "IPY_MODEL_c59b73bf682e48a7a1f3c87a9b03b590",
       "placeholder": "​",
       "style": "IPY_MODEL_4bfd003291b14be1b394953ec2080f80",
       "value": "100%"
      }
     },
     "09b18bab0fb04f6595906d58ea3051c6": {
      "model_module": "@jupyter-widgets/base",
      "model_module_version": "1.2.0",
      "model_name": "LayoutModel",
      "state": {
       "_model_module": "@jupyter-widgets/base",
       "_model_module_version": "1.2.0",
       "_model_name": "LayoutModel",
       "_view_count": null,
       "_view_module": "@jupyter-widgets/base",
       "_view_module_version": "1.2.0",
       "_view_name": "LayoutView",
       "align_content": null,
       "align_items": null,
       "align_self": null,
       "border": null,
       "bottom": null,
       "display": null,
       "flex": null,
       "flex_flow": null,
       "grid_area": null,
       "grid_auto_columns": null,
       "grid_auto_flow": null,
       "grid_auto_rows": null,
       "grid_column": null,
       "grid_gap": null,
       "grid_row": null,
       "grid_template_areas": null,
       "grid_template_columns": null,
       "grid_template_rows": null,
       "height": null,
       "justify_content": null,
       "justify_items": null,
       "left": null,
       "margin": null,
       "max_height": null,
       "max_width": null,
       "min_height": null,
       "min_width": null,
       "object_fit": null,
       "object_position": null,
       "order": null,
       "overflow": null,
       "overflow_x": null,
       "overflow_y": null,
       "padding": null,
       "right": null,
       "top": null,
       "visibility": null,
       "width": null
      }
     },
     "0d14d6d011c0497a9cb48be826d21cd8": {
      "model_module": "@jupyter-widgets/controls",
      "model_module_version": "1.5.0",
      "model_name": "FloatProgressModel",
      "state": {
       "_dom_classes": [],
       "_model_module": "@jupyter-widgets/controls",
       "_model_module_version": "1.5.0",
       "_model_name": "FloatProgressModel",
       "_view_count": null,
       "_view_module": "@jupyter-widgets/controls",
       "_view_module_version": "1.5.0",
       "_view_name": "ProgressView",
       "bar_style": "success",
       "description": "",
       "description_tooltip": null,
       "layout": "IPY_MODEL_68aaeb4b2ebf4c66b7090a7615f0241e",
       "max": 10.0,
       "min": 0.0,
       "orientation": "horizontal",
       "style": "IPY_MODEL_b5539504fa974cc58955ef20ca121bee",
       "value": 10.0
      }
     },
     "1443e9b7c4da49b9ac89bc90f4079666": {
      "model_module": "@jupyter-widgets/controls",
      "model_module_version": "1.5.0",
      "model_name": "HTMLModel",
      "state": {
       "_dom_classes": [],
       "_model_module": "@jupyter-widgets/controls",
       "_model_module_version": "1.5.0",
       "_model_name": "HTMLModel",
       "_view_count": null,
       "_view_module": "@jupyter-widgets/controls",
       "_view_module_version": "1.5.0",
       "_view_name": "HTMLView",
       "description": "",
       "description_tooltip": null,
       "layout": "IPY_MODEL_4408af90cbbf4e4ebe6058b1db8635f3",
       "placeholder": "​",
       "style": "IPY_MODEL_fcfd33a646814236af35854261ffef9a",
       "value": " 10/10 [05:34&lt;00:00, 40.96s/it]"
      }
     },
     "1501fdcafb3c45e2a9907f315182d0a1": {
      "model_module": "@jupyter-widgets/controls",
      "model_module_version": "1.5.0",
      "model_name": "HBoxModel",
      "state": {
       "_dom_classes": [],
       "_model_module": "@jupyter-widgets/controls",
       "_model_module_version": "1.5.0",
       "_model_name": "HBoxModel",
       "_view_count": null,
       "_view_module": "@jupyter-widgets/controls",
       "_view_module_version": "1.5.0",
       "_view_name": "HBoxView",
       "box_style": "",
       "children": [
        "IPY_MODEL_215ad53c895c47c5a7b72431c6dff5c4",
        "IPY_MODEL_0d14d6d011c0497a9cb48be826d21cd8",
        "IPY_MODEL_1443e9b7c4da49b9ac89bc90f4079666"
       ],
       "layout": "IPY_MODEL_e00c446d4dd84ef2a9f03ba16f558391"
      }
     },
     "1d7f04d293b3435da07a3218ee1c001a": {
      "model_module": "@jupyter-widgets/base",
      "model_module_version": "1.2.0",
      "model_name": "LayoutModel",
      "state": {
       "_model_module": "@jupyter-widgets/base",
       "_model_module_version": "1.2.0",
       "_model_name": "LayoutModel",
       "_view_count": null,
       "_view_module": "@jupyter-widgets/base",
       "_view_module_version": "1.2.0",
       "_view_name": "LayoutView",
       "align_content": null,
       "align_items": null,
       "align_self": null,
       "border": null,
       "bottom": null,
       "display": null,
       "flex": null,
       "flex_flow": null,
       "grid_area": null,
       "grid_auto_columns": null,
       "grid_auto_flow": null,
       "grid_auto_rows": null,
       "grid_column": null,
       "grid_gap": null,
       "grid_row": null,
       "grid_template_areas": null,
       "grid_template_columns": null,
       "grid_template_rows": null,
       "height": null,
       "justify_content": null,
       "justify_items": null,
       "left": null,
       "margin": null,
       "max_height": null,
       "max_width": null,
       "min_height": null,
       "min_width": null,
       "object_fit": null,
       "object_position": null,
       "order": null,
       "overflow": null,
       "overflow_x": null,
       "overflow_y": null,
       "padding": null,
       "right": null,
       "top": null,
       "visibility": null,
       "width": null
      }
     },
     "1e85b4d8f7024404aa2dd77e14c301e9": {
      "model_module": "@jupyter-widgets/controls",
      "model_module_version": "1.5.0",
      "model_name": "DescriptionStyleModel",
      "state": {
       "_model_module": "@jupyter-widgets/controls",
       "_model_module_version": "1.5.0",
       "_model_name": "DescriptionStyleModel",
       "_view_count": null,
       "_view_module": "@jupyter-widgets/base",
       "_view_module_version": "1.2.0",
       "_view_name": "StyleView",
       "description_width": ""
      }
     },
     "215ad53c895c47c5a7b72431c6dff5c4": {
      "model_module": "@jupyter-widgets/controls",
      "model_module_version": "1.5.0",
      "model_name": "HTMLModel",
      "state": {
       "_dom_classes": [],
       "_model_module": "@jupyter-widgets/controls",
       "_model_module_version": "1.5.0",
       "_model_name": "HTMLModel",
       "_view_count": null,
       "_view_module": "@jupyter-widgets/controls",
       "_view_module_version": "1.5.0",
       "_view_name": "HTMLView",
       "description": "",
       "description_tooltip": null,
       "layout": "IPY_MODEL_d5576b1fff534b249cbf9239fa6ea612",
       "placeholder": "​",
       "style": "IPY_MODEL_1e85b4d8f7024404aa2dd77e14c301e9",
       "value": "100%"
      }
     },
     "2364be05ffd948fbb886642681dfe487": {
      "model_module": "@jupyter-widgets/controls",
      "model_module_version": "1.5.0",
      "model_name": "HTMLModel",
      "state": {
       "_dom_classes": [],
       "_model_module": "@jupyter-widgets/controls",
       "_model_module_version": "1.5.0",
       "_model_name": "HTMLModel",
       "_view_count": null,
       "_view_module": "@jupyter-widgets/controls",
       "_view_module_version": "1.5.0",
       "_view_name": "HTMLView",
       "description": "",
       "description_tooltip": null,
       "layout": "IPY_MODEL_ff926460b2e9458aa72d186868020469",
       "placeholder": "​",
       "style": "IPY_MODEL_37fc3f52e9f0431b98c5aeb7a4fc63a3",
       "value": " 6/6 [48:37&lt;00:00, 891.36s/it]"
      }
     },
     "2505ab6b8ed84f26b4bf6d0db116038d": {
      "model_module": "@jupyter-widgets/controls",
      "model_module_version": "1.5.0",
      "model_name": "HBoxModel",
      "state": {
       "_dom_classes": [],
       "_model_module": "@jupyter-widgets/controls",
       "_model_module_version": "1.5.0",
       "_model_name": "HBoxModel",
       "_view_count": null,
       "_view_module": "@jupyter-widgets/controls",
       "_view_module_version": "1.5.0",
       "_view_name": "HBoxView",
       "box_style": "",
       "children": [
        "IPY_MODEL_dc96c4b25eb243c0b33b11ffedbe24d3",
        "IPY_MODEL_ee68afa47e164731b6f7122f1fe8554b",
        "IPY_MODEL_b1fdece8e21040fdbf40b91a5151311a"
       ],
       "layout": "IPY_MODEL_1d7f04d293b3435da07a3218ee1c001a"
      }
     },
     "263bace826b145c8ba475ecbe2bb4532": {
      "model_module": "@jupyter-widgets/controls",
      "model_module_version": "1.5.0",
      "model_name": "FloatProgressModel",
      "state": {
       "_dom_classes": [],
       "_model_module": "@jupyter-widgets/controls",
       "_model_module_version": "1.5.0",
       "_model_name": "FloatProgressModel",
       "_view_count": null,
       "_view_module": "@jupyter-widgets/controls",
       "_view_module_version": "1.5.0",
       "_view_name": "ProgressView",
       "bar_style": "success",
       "description": "",
       "description_tooltip": null,
       "layout": "IPY_MODEL_baab88a2787e4ca5a86ea287314dc11b",
       "max": 5.0,
       "min": 0.0,
       "orientation": "horizontal",
       "style": "IPY_MODEL_d1d099850013435da21ee0da01327342",
       "value": 5.0
      }
     },
     "309f1ab331f0426f8da1a5839a8e68cc": {
      "model_module": "@jupyter-widgets/base",
      "model_module_version": "1.2.0",
      "model_name": "LayoutModel",
      "state": {
       "_model_module": "@jupyter-widgets/base",
       "_model_module_version": "1.2.0",
       "_model_name": "LayoutModel",
       "_view_count": null,
       "_view_module": "@jupyter-widgets/base",
       "_view_module_version": "1.2.0",
       "_view_name": "LayoutView",
       "align_content": null,
       "align_items": null,
       "align_self": null,
       "border": null,
       "bottom": null,
       "display": null,
       "flex": null,
       "flex_flow": null,
       "grid_area": null,
       "grid_auto_columns": null,
       "grid_auto_flow": null,
       "grid_auto_rows": null,
       "grid_column": null,
       "grid_gap": null,
       "grid_row": null,
       "grid_template_areas": null,
       "grid_template_columns": null,
       "grid_template_rows": null,
       "height": null,
       "justify_content": null,
       "justify_items": null,
       "left": null,
       "margin": null,
       "max_height": null,
       "max_width": null,
       "min_height": null,
       "min_width": null,
       "object_fit": null,
       "object_position": null,
       "order": null,
       "overflow": null,
       "overflow_x": null,
       "overflow_y": null,
       "padding": null,
       "right": null,
       "top": null,
       "visibility": null,
       "width": null
      }
     },
     "353204c8109e493da2bbe7fdfea5fb08": {
      "model_module": "@jupyter-widgets/base",
      "model_module_version": "1.2.0",
      "model_name": "LayoutModel",
      "state": {
       "_model_module": "@jupyter-widgets/base",
       "_model_module_version": "1.2.0",
       "_model_name": "LayoutModel",
       "_view_count": null,
       "_view_module": "@jupyter-widgets/base",
       "_view_module_version": "1.2.0",
       "_view_name": "LayoutView",
       "align_content": null,
       "align_items": null,
       "align_self": null,
       "border": null,
       "bottom": null,
       "display": null,
       "flex": null,
       "flex_flow": null,
       "grid_area": null,
       "grid_auto_columns": null,
       "grid_auto_flow": null,
       "grid_auto_rows": null,
       "grid_column": null,
       "grid_gap": null,
       "grid_row": null,
       "grid_template_areas": null,
       "grid_template_columns": null,
       "grid_template_rows": null,
       "height": null,
       "justify_content": null,
       "justify_items": null,
       "left": null,
       "margin": null,
       "max_height": null,
       "max_width": null,
       "min_height": null,
       "min_width": null,
       "object_fit": null,
       "object_position": null,
       "order": null,
       "overflow": null,
       "overflow_x": null,
       "overflow_y": null,
       "padding": null,
       "right": null,
       "top": null,
       "visibility": null,
       "width": null
      }
     },
     "37fc3f52e9f0431b98c5aeb7a4fc63a3": {
      "model_module": "@jupyter-widgets/controls",
      "model_module_version": "1.5.0",
      "model_name": "DescriptionStyleModel",
      "state": {
       "_model_module": "@jupyter-widgets/controls",
       "_model_module_version": "1.5.0",
       "_model_name": "DescriptionStyleModel",
       "_view_count": null,
       "_view_module": "@jupyter-widgets/base",
       "_view_module_version": "1.2.0",
       "_view_name": "StyleView",
       "description_width": ""
      }
     },
     "3dda278d5f3d47feb2869a305a082d55": {
      "model_module": "@jupyter-widgets/controls",
      "model_module_version": "1.5.0",
      "model_name": "DescriptionStyleModel",
      "state": {
       "_model_module": "@jupyter-widgets/controls",
       "_model_module_version": "1.5.0",
       "_model_name": "DescriptionStyleModel",
       "_view_count": null,
       "_view_module": "@jupyter-widgets/base",
       "_view_module_version": "1.2.0",
       "_view_name": "StyleView",
       "description_width": ""
      }
     },
     "4408af90cbbf4e4ebe6058b1db8635f3": {
      "model_module": "@jupyter-widgets/base",
      "model_module_version": "1.2.0",
      "model_name": "LayoutModel",
      "state": {
       "_model_module": "@jupyter-widgets/base",
       "_model_module_version": "1.2.0",
       "_model_name": "LayoutModel",
       "_view_count": null,
       "_view_module": "@jupyter-widgets/base",
       "_view_module_version": "1.2.0",
       "_view_name": "LayoutView",
       "align_content": null,
       "align_items": null,
       "align_self": null,
       "border": null,
       "bottom": null,
       "display": null,
       "flex": null,
       "flex_flow": null,
       "grid_area": null,
       "grid_auto_columns": null,
       "grid_auto_flow": null,
       "grid_auto_rows": null,
       "grid_column": null,
       "grid_gap": null,
       "grid_row": null,
       "grid_template_areas": null,
       "grid_template_columns": null,
       "grid_template_rows": null,
       "height": null,
       "justify_content": null,
       "justify_items": null,
       "left": null,
       "margin": null,
       "max_height": null,
       "max_width": null,
       "min_height": null,
       "min_width": null,
       "object_fit": null,
       "object_position": null,
       "order": null,
       "overflow": null,
       "overflow_x": null,
       "overflow_y": null,
       "padding": null,
       "right": null,
       "top": null,
       "visibility": null,
       "width": null
      }
     },
     "4bfd003291b14be1b394953ec2080f80": {
      "model_module": "@jupyter-widgets/controls",
      "model_module_version": "1.5.0",
      "model_name": "DescriptionStyleModel",
      "state": {
       "_model_module": "@jupyter-widgets/controls",
       "_model_module_version": "1.5.0",
       "_model_name": "DescriptionStyleModel",
       "_view_count": null,
       "_view_module": "@jupyter-widgets/base",
       "_view_module_version": "1.2.0",
       "_view_name": "StyleView",
       "description_width": ""
      }
     },
     "671dad3e1b6d42b7b991de04c19700f3": {
      "model_module": "@jupyter-widgets/base",
      "model_module_version": "1.2.0",
      "model_name": "LayoutModel",
      "state": {
       "_model_module": "@jupyter-widgets/base",
       "_model_module_version": "1.2.0",
       "_model_name": "LayoutModel",
       "_view_count": null,
       "_view_module": "@jupyter-widgets/base",
       "_view_module_version": "1.2.0",
       "_view_name": "LayoutView",
       "align_content": null,
       "align_items": null,
       "align_self": null,
       "border": null,
       "bottom": null,
       "display": null,
       "flex": null,
       "flex_flow": null,
       "grid_area": null,
       "grid_auto_columns": null,
       "grid_auto_flow": null,
       "grid_auto_rows": null,
       "grid_column": null,
       "grid_gap": null,
       "grid_row": null,
       "grid_template_areas": null,
       "grid_template_columns": null,
       "grid_template_rows": null,
       "height": null,
       "justify_content": null,
       "justify_items": null,
       "left": null,
       "margin": null,
       "max_height": null,
       "max_width": null,
       "min_height": null,
       "min_width": null,
       "object_fit": null,
       "object_position": null,
       "order": null,
       "overflow": null,
       "overflow_x": null,
       "overflow_y": null,
       "padding": null,
       "right": null,
       "top": null,
       "visibility": null,
       "width": null
      }
     },
     "68aaeb4b2ebf4c66b7090a7615f0241e": {
      "model_module": "@jupyter-widgets/base",
      "model_module_version": "1.2.0",
      "model_name": "LayoutModel",
      "state": {
       "_model_module": "@jupyter-widgets/base",
       "_model_module_version": "1.2.0",
       "_model_name": "LayoutModel",
       "_view_count": null,
       "_view_module": "@jupyter-widgets/base",
       "_view_module_version": "1.2.0",
       "_view_name": "LayoutView",
       "align_content": null,
       "align_items": null,
       "align_self": null,
       "border": null,
       "bottom": null,
       "display": null,
       "flex": null,
       "flex_flow": null,
       "grid_area": null,
       "grid_auto_columns": null,
       "grid_auto_flow": null,
       "grid_auto_rows": null,
       "grid_column": null,
       "grid_gap": null,
       "grid_row": null,
       "grid_template_areas": null,
       "grid_template_columns": null,
       "grid_template_rows": null,
       "height": null,
       "justify_content": null,
       "justify_items": null,
       "left": null,
       "margin": null,
       "max_height": null,
       "max_width": null,
       "min_height": null,
       "min_width": null,
       "object_fit": null,
       "object_position": null,
       "order": null,
       "overflow": null,
       "overflow_x": null,
       "overflow_y": null,
       "padding": null,
       "right": null,
       "top": null,
       "visibility": null,
       "width": null
      }
     },
     "69597456e06e4ba291b0743edc91e744": {
      "model_module": "@jupyter-widgets/base",
      "model_module_version": "1.2.0",
      "model_name": "LayoutModel",
      "state": {
       "_model_module": "@jupyter-widgets/base",
       "_model_module_version": "1.2.0",
       "_model_name": "LayoutModel",
       "_view_count": null,
       "_view_module": "@jupyter-widgets/base",
       "_view_module_version": "1.2.0",
       "_view_name": "LayoutView",
       "align_content": null,
       "align_items": null,
       "align_self": null,
       "border": null,
       "bottom": null,
       "display": null,
       "flex": null,
       "flex_flow": null,
       "grid_area": null,
       "grid_auto_columns": null,
       "grid_auto_flow": null,
       "grid_auto_rows": null,
       "grid_column": null,
       "grid_gap": null,
       "grid_row": null,
       "grid_template_areas": null,
       "grid_template_columns": null,
       "grid_template_rows": null,
       "height": null,
       "justify_content": null,
       "justify_items": null,
       "left": null,
       "margin": null,
       "max_height": null,
       "max_width": null,
       "min_height": null,
       "min_width": null,
       "object_fit": null,
       "object_position": null,
       "order": null,
       "overflow": null,
       "overflow_x": null,
       "overflow_y": null,
       "padding": null,
       "right": null,
       "top": null,
       "visibility": null,
       "width": null
      }
     },
     "69d98e1b35f1467b83d95baa2c4ee983": {
      "model_module": "@jupyter-widgets/base",
      "model_module_version": "1.2.0",
      "model_name": "LayoutModel",
      "state": {
       "_model_module": "@jupyter-widgets/base",
       "_model_module_version": "1.2.0",
       "_model_name": "LayoutModel",
       "_view_count": null,
       "_view_module": "@jupyter-widgets/base",
       "_view_module_version": "1.2.0",
       "_view_name": "LayoutView",
       "align_content": null,
       "align_items": null,
       "align_self": null,
       "border": null,
       "bottom": null,
       "display": null,
       "flex": null,
       "flex_flow": null,
       "grid_area": null,
       "grid_auto_columns": null,
       "grid_auto_flow": null,
       "grid_auto_rows": null,
       "grid_column": null,
       "grid_gap": null,
       "grid_row": null,
       "grid_template_areas": null,
       "grid_template_columns": null,
       "grid_template_rows": null,
       "height": null,
       "justify_content": null,
       "justify_items": null,
       "left": null,
       "margin": null,
       "max_height": null,
       "max_width": null,
       "min_height": null,
       "min_width": null,
       "object_fit": null,
       "object_position": null,
       "order": null,
       "overflow": null,
       "overflow_x": null,
       "overflow_y": null,
       "padding": null,
       "right": null,
       "top": null,
       "visibility": null,
       "width": null
      }
     },
     "6a0917271842469788a2bb10745e468f": {
      "model_module": "@jupyter-widgets/base",
      "model_module_version": "1.2.0",
      "model_name": "LayoutModel",
      "state": {
       "_model_module": "@jupyter-widgets/base",
       "_model_module_version": "1.2.0",
       "_model_name": "LayoutModel",
       "_view_count": null,
       "_view_module": "@jupyter-widgets/base",
       "_view_module_version": "1.2.0",
       "_view_name": "LayoutView",
       "align_content": null,
       "align_items": null,
       "align_self": null,
       "border": null,
       "bottom": null,
       "display": null,
       "flex": null,
       "flex_flow": null,
       "grid_area": null,
       "grid_auto_columns": null,
       "grid_auto_flow": null,
       "grid_auto_rows": null,
       "grid_column": null,
       "grid_gap": null,
       "grid_row": null,
       "grid_template_areas": null,
       "grid_template_columns": null,
       "grid_template_rows": null,
       "height": null,
       "justify_content": null,
       "justify_items": null,
       "left": null,
       "margin": null,
       "max_height": null,
       "max_width": null,
       "min_height": null,
       "min_width": null,
       "object_fit": null,
       "object_position": null,
       "order": null,
       "overflow": null,
       "overflow_x": null,
       "overflow_y": null,
       "padding": null,
       "right": null,
       "top": null,
       "visibility": null,
       "width": null
      }
     },
     "7a54cd12f4734ab7b193749ddfe969a2": {
      "model_module": "@jupyter-widgets/base",
      "model_module_version": "1.2.0",
      "model_name": "LayoutModel",
      "state": {
       "_model_module": "@jupyter-widgets/base",
       "_model_module_version": "1.2.0",
       "_model_name": "LayoutModel",
       "_view_count": null,
       "_view_module": "@jupyter-widgets/base",
       "_view_module_version": "1.2.0",
       "_view_name": "LayoutView",
       "align_content": null,
       "align_items": null,
       "align_self": null,
       "border": null,
       "bottom": null,
       "display": null,
       "flex": null,
       "flex_flow": null,
       "grid_area": null,
       "grid_auto_columns": null,
       "grid_auto_flow": null,
       "grid_auto_rows": null,
       "grid_column": null,
       "grid_gap": null,
       "grid_row": null,
       "grid_template_areas": null,
       "grid_template_columns": null,
       "grid_template_rows": null,
       "height": null,
       "justify_content": null,
       "justify_items": null,
       "left": null,
       "margin": null,
       "max_height": null,
       "max_width": null,
       "min_height": null,
       "min_width": null,
       "object_fit": null,
       "object_position": null,
       "order": null,
       "overflow": null,
       "overflow_x": null,
       "overflow_y": null,
       "padding": null,
       "right": null,
       "top": null,
       "visibility": null,
       "width": null
      }
     },
     "808e7c158ede48acb096029cbdcd46cf": {
      "model_module": "@jupyter-widgets/controls",
      "model_module_version": "1.5.0",
      "model_name": "DescriptionStyleModel",
      "state": {
       "_model_module": "@jupyter-widgets/controls",
       "_model_module_version": "1.5.0",
       "_model_name": "DescriptionStyleModel",
       "_view_count": null,
       "_view_module": "@jupyter-widgets/base",
       "_view_module_version": "1.2.0",
       "_view_name": "StyleView",
       "description_width": ""
      }
     },
     "84171bce8b7f4848a4b513c4df084b2e": {
      "model_module": "@jupyter-widgets/controls",
      "model_module_version": "1.5.0",
      "model_name": "HBoxModel",
      "state": {
       "_dom_classes": [],
       "_model_module": "@jupyter-widgets/controls",
       "_model_module_version": "1.5.0",
       "_model_name": "HBoxModel",
       "_view_count": null,
       "_view_module": "@jupyter-widgets/controls",
       "_view_module_version": "1.5.0",
       "_view_name": "HBoxView",
       "box_style": "",
       "children": [
        "IPY_MODEL_04f27e20e8db4942ab2e2e0e64afcdd2",
        "IPY_MODEL_f1e3e53c32544ca692408d8a35d1c74c",
        "IPY_MODEL_0143b14c582940d7a79796dfd027cd08"
       ],
       "layout": "IPY_MODEL_69d98e1b35f1467b83d95baa2c4ee983"
      }
     },
     "8746bb1c8ad04d119614acee6a2f8bfa": {
      "model_module": "@jupyter-widgets/controls",
      "model_module_version": "1.5.0",
      "model_name": "DescriptionStyleModel",
      "state": {
       "_model_module": "@jupyter-widgets/controls",
       "_model_module_version": "1.5.0",
       "_model_name": "DescriptionStyleModel",
       "_view_count": null,
       "_view_module": "@jupyter-widgets/base",
       "_view_module_version": "1.2.0",
       "_view_name": "StyleView",
       "description_width": ""
      }
     },
     "8ededb9f89a845d18d1237b15d921494": {
      "model_module": "@jupyter-widgets/controls",
      "model_module_version": "1.5.0",
      "model_name": "DescriptionStyleModel",
      "state": {
       "_model_module": "@jupyter-widgets/controls",
       "_model_module_version": "1.5.0",
       "_model_name": "DescriptionStyleModel",
       "_view_count": null,
       "_view_module": "@jupyter-widgets/base",
       "_view_module_version": "1.2.0",
       "_view_name": "StyleView",
       "description_width": ""
      }
     },
     "8f00e90d97594dada3be7581e9ec4847": {
      "model_module": "@jupyter-widgets/controls",
      "model_module_version": "1.5.0",
      "model_name": "DescriptionStyleModel",
      "state": {
       "_model_module": "@jupyter-widgets/controls",
       "_model_module_version": "1.5.0",
       "_model_name": "DescriptionStyleModel",
       "_view_count": null,
       "_view_module": "@jupyter-widgets/base",
       "_view_module_version": "1.2.0",
       "_view_name": "StyleView",
       "description_width": ""
      }
     },
     "91c1d0e4351045ab8774f46c87e89b59": {
      "model_module": "@jupyter-widgets/base",
      "model_module_version": "1.2.0",
      "model_name": "LayoutModel",
      "state": {
       "_model_module": "@jupyter-widgets/base",
       "_model_module_version": "1.2.0",
       "_model_name": "LayoutModel",
       "_view_count": null,
       "_view_module": "@jupyter-widgets/base",
       "_view_module_version": "1.2.0",
       "_view_name": "LayoutView",
       "align_content": null,
       "align_items": null,
       "align_self": null,
       "border": null,
       "bottom": null,
       "display": null,
       "flex": null,
       "flex_flow": null,
       "grid_area": null,
       "grid_auto_columns": null,
       "grid_auto_flow": null,
       "grid_auto_rows": null,
       "grid_column": null,
       "grid_gap": null,
       "grid_row": null,
       "grid_template_areas": null,
       "grid_template_columns": null,
       "grid_template_rows": null,
       "height": null,
       "justify_content": null,
       "justify_items": null,
       "left": null,
       "margin": null,
       "max_height": null,
       "max_width": null,
       "min_height": null,
       "min_width": null,
       "object_fit": null,
       "object_position": null,
       "order": null,
       "overflow": null,
       "overflow_x": null,
       "overflow_y": null,
       "padding": null,
       "right": null,
       "top": null,
       "visibility": null,
       "width": null
      }
     },
     "93ddb546623e48f8b4cc6e8a68835d58": {
      "model_module": "@jupyter-widgets/base",
      "model_module_version": "1.2.0",
      "model_name": "LayoutModel",
      "state": {
       "_model_module": "@jupyter-widgets/base",
       "_model_module_version": "1.2.0",
       "_model_name": "LayoutModel",
       "_view_count": null,
       "_view_module": "@jupyter-widgets/base",
       "_view_module_version": "1.2.0",
       "_view_name": "LayoutView",
       "align_content": null,
       "align_items": null,
       "align_self": null,
       "border": null,
       "bottom": null,
       "display": null,
       "flex": null,
       "flex_flow": null,
       "grid_area": null,
       "grid_auto_columns": null,
       "grid_auto_flow": null,
       "grid_auto_rows": null,
       "grid_column": null,
       "grid_gap": null,
       "grid_row": null,
       "grid_template_areas": null,
       "grid_template_columns": null,
       "grid_template_rows": null,
       "height": null,
       "justify_content": null,
       "justify_items": null,
       "left": null,
       "margin": null,
       "max_height": null,
       "max_width": null,
       "min_height": null,
       "min_width": null,
       "object_fit": null,
       "object_position": null,
       "order": null,
       "overflow": null,
       "overflow_x": null,
       "overflow_y": null,
       "padding": null,
       "right": null,
       "top": null,
       "visibility": null,
       "width": null
      }
     },
     "957e4d7994f7403a82790634ce0250b1": {
      "model_module": "@jupyter-widgets/controls",
      "model_module_version": "1.5.0",
      "model_name": "HTMLModel",
      "state": {
       "_dom_classes": [],
       "_model_module": "@jupyter-widgets/controls",
       "_model_module_version": "1.5.0",
       "_model_name": "HTMLModel",
       "_view_count": null,
       "_view_module": "@jupyter-widgets/controls",
       "_view_module_version": "1.5.0",
       "_view_name": "HTMLView",
       "description": "",
       "description_tooltip": null,
       "layout": "IPY_MODEL_09b18bab0fb04f6595906d58ea3051c6",
       "placeholder": "​",
       "style": "IPY_MODEL_cfcc5d6346dc476f8dcca89c2538fed0",
       "value": "100%"
      }
     },
     "aaaad5e0c9654eec9da39735f8035d00": {
      "model_module": "@jupyter-widgets/controls",
      "model_module_version": "1.5.0",
      "model_name": "HTMLModel",
      "state": {
       "_dom_classes": [],
       "_model_module": "@jupyter-widgets/controls",
       "_model_module_version": "1.5.0",
       "_model_name": "HTMLModel",
       "_view_count": null,
       "_view_module": "@jupyter-widgets/controls",
       "_view_module_version": "1.5.0",
       "_view_name": "HTMLView",
       "description": "",
       "description_tooltip": null,
       "layout": "IPY_MODEL_6a0917271842469788a2bb10745e468f",
       "placeholder": "​",
       "style": "IPY_MODEL_8f00e90d97594dada3be7581e9ec4847",
       "value": " 5/5 [03:29&lt;00:00, 43.51s/it]"
      }
     },
     "b1fdece8e21040fdbf40b91a5151311a": {
      "model_module": "@jupyter-widgets/controls",
      "model_module_version": "1.5.0",
      "model_name": "HTMLModel",
      "state": {
       "_dom_classes": [],
       "_model_module": "@jupyter-widgets/controls",
       "_model_module_version": "1.5.0",
       "_model_name": "HTMLModel",
       "_view_count": null,
       "_view_module": "@jupyter-widgets/controls",
       "_view_module_version": "1.5.0",
       "_view_name": "HTMLView",
       "description": "",
       "description_tooltip": null,
       "layout": "IPY_MODEL_93ddb546623e48f8b4cc6e8a68835d58",
       "placeholder": "​",
       "style": "IPY_MODEL_808e7c158ede48acb096029cbdcd46cf",
       "value": " 10/10 [04:26&lt;00:00, 36.26s/it]"
      }
     },
     "b5539504fa974cc58955ef20ca121bee": {
      "model_module": "@jupyter-widgets/controls",
      "model_module_version": "1.5.0",
      "model_name": "ProgressStyleModel",
      "state": {
       "_model_module": "@jupyter-widgets/controls",
       "_model_module_version": "1.5.0",
       "_model_name": "ProgressStyleModel",
       "_view_count": null,
       "_view_module": "@jupyter-widgets/base",
       "_view_module_version": "1.2.0",
       "_view_name": "StyleView",
       "bar_color": null,
       "description_width": ""
      }
     },
     "baab88a2787e4ca5a86ea287314dc11b": {
      "model_module": "@jupyter-widgets/base",
      "model_module_version": "1.2.0",
      "model_name": "LayoutModel",
      "state": {
       "_model_module": "@jupyter-widgets/base",
       "_model_module_version": "1.2.0",
       "_model_name": "LayoutModel",
       "_view_count": null,
       "_view_module": "@jupyter-widgets/base",
       "_view_module_version": "1.2.0",
       "_view_name": "LayoutView",
       "align_content": null,
       "align_items": null,
       "align_self": null,
       "border": null,
       "bottom": null,
       "display": null,
       "flex": null,
       "flex_flow": null,
       "grid_area": null,
       "grid_auto_columns": null,
       "grid_auto_flow": null,
       "grid_auto_rows": null,
       "grid_column": null,
       "grid_gap": null,
       "grid_row": null,
       "grid_template_areas": null,
       "grid_template_columns": null,
       "grid_template_rows": null,
       "height": null,
       "justify_content": null,
       "justify_items": null,
       "left": null,
       "margin": null,
       "max_height": null,
       "max_width": null,
       "min_height": null,
       "min_width": null,
       "object_fit": null,
       "object_position": null,
       "order": null,
       "overflow": null,
       "overflow_x": null,
       "overflow_y": null,
       "padding": null,
       "right": null,
       "top": null,
       "visibility": null,
       "width": null
      }
     },
     "c1c359301cd84b18bc6a51a055848243": {
      "model_module": "@jupyter-widgets/base",
      "model_module_version": "1.2.0",
      "model_name": "LayoutModel",
      "state": {
       "_model_module": "@jupyter-widgets/base",
       "_model_module_version": "1.2.0",
       "_model_name": "LayoutModel",
       "_view_count": null,
       "_view_module": "@jupyter-widgets/base",
       "_view_module_version": "1.2.0",
       "_view_name": "LayoutView",
       "align_content": null,
       "align_items": null,
       "align_self": null,
       "border": null,
       "bottom": null,
       "display": null,
       "flex": null,
       "flex_flow": null,
       "grid_area": null,
       "grid_auto_columns": null,
       "grid_auto_flow": null,
       "grid_auto_rows": null,
       "grid_column": null,
       "grid_gap": null,
       "grid_row": null,
       "grid_template_areas": null,
       "grid_template_columns": null,
       "grid_template_rows": null,
       "height": null,
       "justify_content": null,
       "justify_items": null,
       "left": null,
       "margin": null,
       "max_height": null,
       "max_width": null,
       "min_height": null,
       "min_width": null,
       "object_fit": null,
       "object_position": null,
       "order": null,
       "overflow": null,
       "overflow_x": null,
       "overflow_y": null,
       "padding": null,
       "right": null,
       "top": null,
       "visibility": null,
       "width": null
      }
     },
     "c59b73bf682e48a7a1f3c87a9b03b590": {
      "model_module": "@jupyter-widgets/base",
      "model_module_version": "1.2.0",
      "model_name": "LayoutModel",
      "state": {
       "_model_module": "@jupyter-widgets/base",
       "_model_module_version": "1.2.0",
       "_model_name": "LayoutModel",
       "_view_count": null,
       "_view_module": "@jupyter-widgets/base",
       "_view_module_version": "1.2.0",
       "_view_name": "LayoutView",
       "align_content": null,
       "align_items": null,
       "align_self": null,
       "border": null,
       "bottom": null,
       "display": null,
       "flex": null,
       "flex_flow": null,
       "grid_area": null,
       "grid_auto_columns": null,
       "grid_auto_flow": null,
       "grid_auto_rows": null,
       "grid_column": null,
       "grid_gap": null,
       "grid_row": null,
       "grid_template_areas": null,
       "grid_template_columns": null,
       "grid_template_rows": null,
       "height": null,
       "justify_content": null,
       "justify_items": null,
       "left": null,
       "margin": null,
       "max_height": null,
       "max_width": null,
       "min_height": null,
       "min_width": null,
       "object_fit": null,
       "object_position": null,
       "order": null,
       "overflow": null,
       "overflow_x": null,
       "overflow_y": null,
       "padding": null,
       "right": null,
       "top": null,
       "visibility": null,
       "width": null
      }
     },
     "cdb4450172194520994ec5e94f9446f4": {
      "model_module": "@jupyter-widgets/controls",
      "model_module_version": "1.5.0",
      "model_name": "HBoxModel",
      "state": {
       "_dom_classes": [],
       "_model_module": "@jupyter-widgets/controls",
       "_model_module_version": "1.5.0",
       "_model_name": "HBoxModel",
       "_view_count": null,
       "_view_module": "@jupyter-widgets/controls",
       "_view_module_version": "1.5.0",
       "_view_name": "HBoxView",
       "box_style": "",
       "children": [
        "IPY_MODEL_957e4d7994f7403a82790634ce0250b1",
        "IPY_MODEL_263bace826b145c8ba475ecbe2bb4532",
        "IPY_MODEL_aaaad5e0c9654eec9da39735f8035d00"
       ],
       "layout": "IPY_MODEL_671dad3e1b6d42b7b991de04c19700f3"
      }
     },
     "cfcc5d6346dc476f8dcca89c2538fed0": {
      "model_module": "@jupyter-widgets/controls",
      "model_module_version": "1.5.0",
      "model_name": "DescriptionStyleModel",
      "state": {
       "_model_module": "@jupyter-widgets/controls",
       "_model_module_version": "1.5.0",
       "_model_name": "DescriptionStyleModel",
       "_view_count": null,
       "_view_module": "@jupyter-widgets/base",
       "_view_module_version": "1.2.0",
       "_view_name": "StyleView",
       "description_width": ""
      }
     },
     "d1d099850013435da21ee0da01327342": {
      "model_module": "@jupyter-widgets/controls",
      "model_module_version": "1.5.0",
      "model_name": "ProgressStyleModel",
      "state": {
       "_model_module": "@jupyter-widgets/controls",
       "_model_module_version": "1.5.0",
       "_model_name": "ProgressStyleModel",
       "_view_count": null,
       "_view_module": "@jupyter-widgets/base",
       "_view_module_version": "1.2.0",
       "_view_name": "StyleView",
       "bar_color": null,
       "description_width": ""
      }
     },
     "d2450eae82e64a049e53f003e2f788d0": {
      "model_module": "@jupyter-widgets/controls",
      "model_module_version": "1.5.0",
      "model_name": "ProgressStyleModel",
      "state": {
       "_model_module": "@jupyter-widgets/controls",
       "_model_module_version": "1.5.0",
       "_model_name": "ProgressStyleModel",
       "_view_count": null,
       "_view_module": "@jupyter-widgets/base",
       "_view_module_version": "1.2.0",
       "_view_name": "StyleView",
       "bar_color": null,
       "description_width": ""
      }
     },
     "d5576b1fff534b249cbf9239fa6ea612": {
      "model_module": "@jupyter-widgets/base",
      "model_module_version": "1.2.0",
      "model_name": "LayoutModel",
      "state": {
       "_model_module": "@jupyter-widgets/base",
       "_model_module_version": "1.2.0",
       "_model_name": "LayoutModel",
       "_view_count": null,
       "_view_module": "@jupyter-widgets/base",
       "_view_module_version": "1.2.0",
       "_view_name": "LayoutView",
       "align_content": null,
       "align_items": null,
       "align_self": null,
       "border": null,
       "bottom": null,
       "display": null,
       "flex": null,
       "flex_flow": null,
       "grid_area": null,
       "grid_auto_columns": null,
       "grid_auto_flow": null,
       "grid_auto_rows": null,
       "grid_column": null,
       "grid_gap": null,
       "grid_row": null,
       "grid_template_areas": null,
       "grid_template_columns": null,
       "grid_template_rows": null,
       "height": null,
       "justify_content": null,
       "justify_items": null,
       "left": null,
       "margin": null,
       "max_height": null,
       "max_width": null,
       "min_height": null,
       "min_width": null,
       "object_fit": null,
       "object_position": null,
       "order": null,
       "overflow": null,
       "overflow_x": null,
       "overflow_y": null,
       "padding": null,
       "right": null,
       "top": null,
       "visibility": null,
       "width": null
      }
     },
     "d69ce1b4dda7458cbb8a099bf001c053": {
      "model_module": "@jupyter-widgets/controls",
      "model_module_version": "1.5.0",
      "model_name": "ProgressStyleModel",
      "state": {
       "_model_module": "@jupyter-widgets/controls",
       "_model_module_version": "1.5.0",
       "_model_name": "ProgressStyleModel",
       "_view_count": null,
       "_view_module": "@jupyter-widgets/base",
       "_view_module_version": "1.2.0",
       "_view_name": "StyleView",
       "bar_color": null,
       "description_width": ""
      }
     },
     "d7dac8e9e12f4ecc9ba31b363ade496c": {
      "model_module": "@jupyter-widgets/controls",
      "model_module_version": "1.5.0",
      "model_name": "ProgressStyleModel",
      "state": {
       "_model_module": "@jupyter-widgets/controls",
       "_model_module_version": "1.5.0",
       "_model_name": "ProgressStyleModel",
       "_view_count": null,
       "_view_module": "@jupyter-widgets/base",
       "_view_module_version": "1.2.0",
       "_view_name": "StyleView",
       "bar_color": null,
       "description_width": ""
      }
     },
     "db77d77ca09e49c39d61d56d74f0126f": {
      "model_module": "@jupyter-widgets/controls",
      "model_module_version": "1.5.0",
      "model_name": "HTMLModel",
      "state": {
       "_dom_classes": [],
       "_model_module": "@jupyter-widgets/controls",
       "_model_module_version": "1.5.0",
       "_model_name": "HTMLModel",
       "_view_count": null,
       "_view_module": "@jupyter-widgets/controls",
       "_view_module_version": "1.5.0",
       "_view_name": "HTMLView",
       "description": "",
       "description_tooltip": null,
       "layout": "IPY_MODEL_7a54cd12f4734ab7b193749ddfe969a2",
       "placeholder": "​",
       "style": "IPY_MODEL_3dda278d5f3d47feb2869a305a082d55",
       "value": "100%"
      }
     },
     "dc96c4b25eb243c0b33b11ffedbe24d3": {
      "model_module": "@jupyter-widgets/controls",
      "model_module_version": "1.5.0",
      "model_name": "HTMLModel",
      "state": {
       "_dom_classes": [],
       "_model_module": "@jupyter-widgets/controls",
       "_model_module_version": "1.5.0",
       "_model_name": "HTMLModel",
       "_view_count": null,
       "_view_module": "@jupyter-widgets/controls",
       "_view_module_version": "1.5.0",
       "_view_name": "HTMLView",
       "description": "",
       "description_tooltip": null,
       "layout": "IPY_MODEL_309f1ab331f0426f8da1a5839a8e68cc",
       "placeholder": "​",
       "style": "IPY_MODEL_8ededb9f89a845d18d1237b15d921494",
       "value": "100%"
      }
     },
     "e00c446d4dd84ef2a9f03ba16f558391": {
      "model_module": "@jupyter-widgets/base",
      "model_module_version": "1.2.0",
      "model_name": "LayoutModel",
      "state": {
       "_model_module": "@jupyter-widgets/base",
       "_model_module_version": "1.2.0",
       "_model_name": "LayoutModel",
       "_view_count": null,
       "_view_module": "@jupyter-widgets/base",
       "_view_module_version": "1.2.0",
       "_view_name": "LayoutView",
       "align_content": null,
       "align_items": null,
       "align_self": null,
       "border": null,
       "bottom": null,
       "display": null,
       "flex": null,
       "flex_flow": null,
       "grid_area": null,
       "grid_auto_columns": null,
       "grid_auto_flow": null,
       "grid_auto_rows": null,
       "grid_column": null,
       "grid_gap": null,
       "grid_row": null,
       "grid_template_areas": null,
       "grid_template_columns": null,
       "grid_template_rows": null,
       "height": null,
       "justify_content": null,
       "justify_items": null,
       "left": null,
       "margin": null,
       "max_height": null,
       "max_width": null,
       "min_height": null,
       "min_width": null,
       "object_fit": null,
       "object_position": null,
       "order": null,
       "overflow": null,
       "overflow_x": null,
       "overflow_y": null,
       "padding": null,
       "right": null,
       "top": null,
       "visibility": null,
       "width": null
      }
     },
     "e0f11b1201f848c0852f8571b07261ee": {
      "model_module": "@jupyter-widgets/controls",
      "model_module_version": "1.5.0",
      "model_name": "HBoxModel",
      "state": {
       "_dom_classes": [],
       "_model_module": "@jupyter-widgets/controls",
       "_model_module_version": "1.5.0",
       "_model_name": "HBoxModel",
       "_view_count": null,
       "_view_module": "@jupyter-widgets/controls",
       "_view_module_version": "1.5.0",
       "_view_name": "HBoxView",
       "box_style": "",
       "children": [
        "IPY_MODEL_db77d77ca09e49c39d61d56d74f0126f",
        "IPY_MODEL_e87670af3dbf45e387ddf15f9720c65e",
        "IPY_MODEL_2364be05ffd948fbb886642681dfe487"
       ],
       "layout": "IPY_MODEL_69597456e06e4ba291b0743edc91e744"
      }
     },
     "e87670af3dbf45e387ddf15f9720c65e": {
      "model_module": "@jupyter-widgets/controls",
      "model_module_version": "1.5.0",
      "model_name": "FloatProgressModel",
      "state": {
       "_dom_classes": [],
       "_model_module": "@jupyter-widgets/controls",
       "_model_module_version": "1.5.0",
       "_model_name": "FloatProgressModel",
       "_view_count": null,
       "_view_module": "@jupyter-widgets/controls",
       "_view_module_version": "1.5.0",
       "_view_name": "ProgressView",
       "bar_style": "success",
       "description": "",
       "description_tooltip": null,
       "layout": "IPY_MODEL_c1c359301cd84b18bc6a51a055848243",
       "max": 6.0,
       "min": 0.0,
       "orientation": "horizontal",
       "style": "IPY_MODEL_d69ce1b4dda7458cbb8a099bf001c053",
       "value": 6.0
      }
     },
     "ee68afa47e164731b6f7122f1fe8554b": {
      "model_module": "@jupyter-widgets/controls",
      "model_module_version": "1.5.0",
      "model_name": "FloatProgressModel",
      "state": {
       "_dom_classes": [],
       "_model_module": "@jupyter-widgets/controls",
       "_model_module_version": "1.5.0",
       "_model_name": "FloatProgressModel",
       "_view_count": null,
       "_view_module": "@jupyter-widgets/controls",
       "_view_module_version": "1.5.0",
       "_view_name": "ProgressView",
       "bar_style": "success",
       "description": "",
       "description_tooltip": null,
       "layout": "IPY_MODEL_91c1d0e4351045ab8774f46c87e89b59",
       "max": 10.0,
       "min": 0.0,
       "orientation": "horizontal",
       "style": "IPY_MODEL_d7dac8e9e12f4ecc9ba31b363ade496c",
       "value": 10.0
      }
     },
     "f1e3e53c32544ca692408d8a35d1c74c": {
      "model_module": "@jupyter-widgets/controls",
      "model_module_version": "1.5.0",
      "model_name": "FloatProgressModel",
      "state": {
       "_dom_classes": [],
       "_model_module": "@jupyter-widgets/controls",
       "_model_module_version": "1.5.0",
       "_model_name": "FloatProgressModel",
       "_view_count": null,
       "_view_module": "@jupyter-widgets/controls",
       "_view_module_version": "1.5.0",
       "_view_name": "ProgressView",
       "bar_style": "success",
       "description": "",
       "description_tooltip": null,
       "layout": "IPY_MODEL_0473232c5913415392960ad39080594e",
       "max": 10.0,
       "min": 0.0,
       "orientation": "horizontal",
       "style": "IPY_MODEL_d2450eae82e64a049e53f003e2f788d0",
       "value": 10.0
      }
     },
     "fcfd33a646814236af35854261ffef9a": {
      "model_module": "@jupyter-widgets/controls",
      "model_module_version": "1.5.0",
      "model_name": "DescriptionStyleModel",
      "state": {
       "_model_module": "@jupyter-widgets/controls",
       "_model_module_version": "1.5.0",
       "_model_name": "DescriptionStyleModel",
       "_view_count": null,
       "_view_module": "@jupyter-widgets/base",
       "_view_module_version": "1.2.0",
       "_view_name": "StyleView",
       "description_width": ""
      }
     },
     "ff926460b2e9458aa72d186868020469": {
      "model_module": "@jupyter-widgets/base",
      "model_module_version": "1.2.0",
      "model_name": "LayoutModel",
      "state": {
       "_model_module": "@jupyter-widgets/base",
       "_model_module_version": "1.2.0",
       "_model_name": "LayoutModel",
       "_view_count": null,
       "_view_module": "@jupyter-widgets/base",
       "_view_module_version": "1.2.0",
       "_view_name": "LayoutView",
       "align_content": null,
       "align_items": null,
       "align_self": null,
       "border": null,
       "bottom": null,
       "display": null,
       "flex": null,
       "flex_flow": null,
       "grid_area": null,
       "grid_auto_columns": null,
       "grid_auto_flow": null,
       "grid_auto_rows": null,
       "grid_column": null,
       "grid_gap": null,
       "grid_row": null,
       "grid_template_areas": null,
       "grid_template_columns": null,
       "grid_template_rows": null,
       "height": null,
       "justify_content": null,
       "justify_items": null,
       "left": null,
       "margin": null,
       "max_height": null,
       "max_width": null,
       "min_height": null,
       "min_width": null,
       "object_fit": null,
       "object_position": null,
       "order": null,
       "overflow": null,
       "overflow_x": null,
       "overflow_y": null,
       "padding": null,
       "right": null,
       "top": null,
       "visibility": null,
       "width": null
      }
     }
    },
    "version_major": 2,
    "version_minor": 0
   }
  }
 },
 "nbformat": 4,
 "nbformat_minor": 5
}
