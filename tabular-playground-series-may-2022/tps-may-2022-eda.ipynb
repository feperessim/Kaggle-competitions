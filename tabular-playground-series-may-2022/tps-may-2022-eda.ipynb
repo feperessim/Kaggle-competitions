{
 "cells": [
  {
   "cell_type": "code",
   "execution_count": 1,
   "id": "b7210651",
   "metadata": {
    "_cell_guid": "b1076dfc-b9ad-4769-8c92-a6c4dae69d19",
    "_uuid": "8f2839f25d086af736a60e9eeb907d3b93b6e0e5",
    "execution": {
     "iopub.execute_input": "2022-05-21T19:38:18.884286Z",
     "iopub.status.busy": "2022-05-21T19:38:18.883528Z",
     "iopub.status.idle": "2022-05-21T19:38:19.795508Z",
     "shell.execute_reply": "2022-05-21T19:38:19.794369Z"
    },
    "papermill": {
     "duration": 0.950248,
     "end_time": "2022-05-21T19:38:19.797956",
     "exception": false,
     "start_time": "2022-05-21T19:38:18.847708",
     "status": "completed"
    },
    "tags": []
   },
   "outputs": [
    {
     "name": "stdout",
     "output_type": "stream",
     "text": [
      "/kaggle/input/tabular-playground-series-may-2022/sample_submission.csv\n",
      "/kaggle/input/tabular-playground-series-may-2022/train.csv\n",
      "/kaggle/input/tabular-playground-series-may-2022/test.csv\n"
     ]
    }
   ],
   "source": [
    "import numpy as np\n",
    "import pandas as pd\n",
    "import matplotlib.pyplot as plt\n",
    "import seaborn as sns\n",
    "import gc\n",
    "\n",
    "import os\n",
    "for dirname, _, filenames in os.walk('/kaggle/input'):\n",
    "    for filename in filenames:\n",
    "        print(os.path.join(dirname, filename))"
   ]
  },
  {
   "cell_type": "markdown",
   "id": "33359958",
   "metadata": {
    "papermill": {
     "duration": 0.032559,
     "end_time": "2022-05-21T19:38:19.864118",
     "exception": false,
     "start_time": "2022-05-21T19:38:19.831559",
     "status": "completed"
    },
    "tags": []
   },
   "source": [
    "<h1>Tabular Playground Series - May 2022</h1>\n",
    "\n",
    "The May edition of the 2022 Tabular Playground series binary classification problem that includes a number of different feature interactions. This competition is an opportunity to explore various methods for identifying and exploiting these feature interactions.\n",
    "\n",
    "For this challenge, you are given (simulated) manufacturing control data and are tasked to predict whether the machine is in state 0 or state 1. The data has various feature interactions that may be important in determining the machine state."
   ]
  },
  {
   "cell_type": "markdown",
   "id": "eca1894f",
   "metadata": {
    "papermill": {
     "duration": 0.033274,
     "end_time": "2022-05-21T19:38:19.930842",
     "exception": false,
     "start_time": "2022-05-21T19:38:19.897568",
     "status": "completed"
    },
    "tags": []
   },
   "source": [
    "<h1>1 Exploratory data analysis</h1>\n",
    "\n",
    "<h2>1.1 Train Set</h2>"
   ]
  },
  {
   "cell_type": "code",
   "execution_count": 2,
   "id": "061ee687",
   "metadata": {
    "execution": {
     "iopub.execute_input": "2022-05-21T19:38:20.000098Z",
     "iopub.status.busy": "2022-05-21T19:38:19.999786Z",
     "iopub.status.idle": "2022-05-21T19:38:27.325785Z",
     "shell.execute_reply": "2022-05-21T19:38:27.325167Z"
    },
    "papermill": {
     "duration": 7.362345,
     "end_time": "2022-05-21T19:38:27.328018",
     "exception": false,
     "start_time": "2022-05-21T19:38:19.965673",
     "status": "completed"
    },
    "tags": []
   },
   "outputs": [],
   "source": [
    "train_df = pd.read_csv('/kaggle/input/tabular-playground-series-may-2022/train.csv')"
   ]
  },
  {
   "cell_type": "code",
   "execution_count": 3,
   "id": "e4b22214",
   "metadata": {
    "execution": {
     "iopub.execute_input": "2022-05-21T19:38:27.404877Z",
     "iopub.status.busy": "2022-05-21T19:38:27.404103Z",
     "iopub.status.idle": "2022-05-21T19:38:27.411606Z",
     "shell.execute_reply": "2022-05-21T19:38:27.410848Z"
    },
    "papermill": {
     "duration": 0.047976,
     "end_time": "2022-05-21T19:38:27.413491",
     "exception": false,
     "start_time": "2022-05-21T19:38:27.365515",
     "status": "completed"
    },
    "tags": []
   },
   "outputs": [
    {
     "data": {
      "text/plain": [
       "(900000, 33)"
      ]
     },
     "execution_count": 3,
     "metadata": {},
     "output_type": "execute_result"
    }
   ],
   "source": [
    "train_df.shape"
   ]
  },
  {
   "cell_type": "code",
   "execution_count": 4,
   "id": "3be200ea",
   "metadata": {
    "execution": {
     "iopub.execute_input": "2022-05-21T19:38:27.492062Z",
     "iopub.status.busy": "2022-05-21T19:38:27.491755Z",
     "iopub.status.idle": "2022-05-21T19:38:27.522617Z",
     "shell.execute_reply": "2022-05-21T19:38:27.521984Z"
    },
    "papermill": {
     "duration": 0.073313,
     "end_time": "2022-05-21T19:38:27.524464",
     "exception": false,
     "start_time": "2022-05-21T19:38:27.451151",
     "status": "completed"
    },
    "tags": []
   },
   "outputs": [
    {
     "data": {
      "text/html": [
       "<div>\n",
       "<style scoped>\n",
       "    .dataframe tbody tr th:only-of-type {\n",
       "        vertical-align: middle;\n",
       "    }\n",
       "\n",
       "    .dataframe tbody tr th {\n",
       "        vertical-align: top;\n",
       "    }\n",
       "\n",
       "    .dataframe thead th {\n",
       "        text-align: right;\n",
       "    }\n",
       "</style>\n",
       "<table border=\"1\" class=\"dataframe\">\n",
       "  <thead>\n",
       "    <tr style=\"text-align: right;\">\n",
       "      <th></th>\n",
       "      <th>id</th>\n",
       "      <th>f_00</th>\n",
       "      <th>f_01</th>\n",
       "      <th>f_02</th>\n",
       "      <th>f_03</th>\n",
       "      <th>f_04</th>\n",
       "      <th>f_05</th>\n",
       "      <th>f_06</th>\n",
       "      <th>f_07</th>\n",
       "      <th>f_08</th>\n",
       "      <th>...</th>\n",
       "      <th>f_22</th>\n",
       "      <th>f_23</th>\n",
       "      <th>f_24</th>\n",
       "      <th>f_25</th>\n",
       "      <th>f_26</th>\n",
       "      <th>f_27</th>\n",
       "      <th>f_28</th>\n",
       "      <th>f_29</th>\n",
       "      <th>f_30</th>\n",
       "      <th>target</th>\n",
       "    </tr>\n",
       "  </thead>\n",
       "  <tbody>\n",
       "    <tr>\n",
       "      <th>0</th>\n",
       "      <td>0</td>\n",
       "      <td>-1.373246</td>\n",
       "      <td>0.238887</td>\n",
       "      <td>-0.243376</td>\n",
       "      <td>0.567405</td>\n",
       "      <td>-0.647715</td>\n",
       "      <td>0.839326</td>\n",
       "      <td>0.113133</td>\n",
       "      <td>1</td>\n",
       "      <td>5</td>\n",
       "      <td>...</td>\n",
       "      <td>-2.540739</td>\n",
       "      <td>0.766952</td>\n",
       "      <td>-2.730628</td>\n",
       "      <td>-0.208177</td>\n",
       "      <td>1.363402</td>\n",
       "      <td>ABABDADBAB</td>\n",
       "      <td>67.609153</td>\n",
       "      <td>0</td>\n",
       "      <td>0</td>\n",
       "      <td>0</td>\n",
       "    </tr>\n",
       "    <tr>\n",
       "      <th>1</th>\n",
       "      <td>1</td>\n",
       "      <td>1.697021</td>\n",
       "      <td>-1.710322</td>\n",
       "      <td>-2.230332</td>\n",
       "      <td>-0.545661</td>\n",
       "      <td>1.113173</td>\n",
       "      <td>-1.552175</td>\n",
       "      <td>0.447825</td>\n",
       "      <td>1</td>\n",
       "      <td>3</td>\n",
       "      <td>...</td>\n",
       "      <td>2.278315</td>\n",
       "      <td>-0.633658</td>\n",
       "      <td>-1.217077</td>\n",
       "      <td>-3.782194</td>\n",
       "      <td>-0.058316</td>\n",
       "      <td>ACACCADCEB</td>\n",
       "      <td>377.096415</td>\n",
       "      <td>0</td>\n",
       "      <td>0</td>\n",
       "      <td>1</td>\n",
       "    </tr>\n",
       "    <tr>\n",
       "      <th>2</th>\n",
       "      <td>2</td>\n",
       "      <td>1.681726</td>\n",
       "      <td>0.616746</td>\n",
       "      <td>-1.027689</td>\n",
       "      <td>0.810492</td>\n",
       "      <td>-0.609086</td>\n",
       "      <td>0.113965</td>\n",
       "      <td>-0.708660</td>\n",
       "      <td>1</td>\n",
       "      <td>0</td>\n",
       "      <td>...</td>\n",
       "      <td>-1.385775</td>\n",
       "      <td>-0.520558</td>\n",
       "      <td>-0.009121</td>\n",
       "      <td>2.788536</td>\n",
       "      <td>-3.703488</td>\n",
       "      <td>AAAEABCKAD</td>\n",
       "      <td>-195.599702</td>\n",
       "      <td>0</td>\n",
       "      <td>2</td>\n",
       "      <td>1</td>\n",
       "    </tr>\n",
       "    <tr>\n",
       "      <th>3</th>\n",
       "      <td>3</td>\n",
       "      <td>-0.118172</td>\n",
       "      <td>-0.587835</td>\n",
       "      <td>-0.804638</td>\n",
       "      <td>2.086822</td>\n",
       "      <td>0.371005</td>\n",
       "      <td>-0.128831</td>\n",
       "      <td>-0.282575</td>\n",
       "      <td>3</td>\n",
       "      <td>2</td>\n",
       "      <td>...</td>\n",
       "      <td>0.572594</td>\n",
       "      <td>-1.653213</td>\n",
       "      <td>1.686035</td>\n",
       "      <td>-2.533098</td>\n",
       "      <td>-0.608601</td>\n",
       "      <td>BDBBAACBCB</td>\n",
       "      <td>210.826205</td>\n",
       "      <td>0</td>\n",
       "      <td>0</td>\n",
       "      <td>1</td>\n",
       "    </tr>\n",
       "    <tr>\n",
       "      <th>4</th>\n",
       "      <td>4</td>\n",
       "      <td>1.148481</td>\n",
       "      <td>-0.176567</td>\n",
       "      <td>-0.664871</td>\n",
       "      <td>-1.101343</td>\n",
       "      <td>0.467875</td>\n",
       "      <td>0.500117</td>\n",
       "      <td>0.407515</td>\n",
       "      <td>3</td>\n",
       "      <td>3</td>\n",
       "      <td>...</td>\n",
       "      <td>-3.912929</td>\n",
       "      <td>-1.430366</td>\n",
       "      <td>2.127649</td>\n",
       "      <td>-3.306784</td>\n",
       "      <td>4.371371</td>\n",
       "      <td>BDBCBBCHFE</td>\n",
       "      <td>-217.211798</td>\n",
       "      <td>0</td>\n",
       "      <td>1</td>\n",
       "      <td>1</td>\n",
       "    </tr>\n",
       "  </tbody>\n",
       "</table>\n",
       "<p>5 rows × 33 columns</p>\n",
       "</div>"
      ],
      "text/plain": [
       "   id      f_00      f_01      f_02      f_03      f_04      f_05      f_06  \\\n",
       "0   0 -1.373246  0.238887 -0.243376  0.567405 -0.647715  0.839326  0.113133   \n",
       "1   1  1.697021 -1.710322 -2.230332 -0.545661  1.113173 -1.552175  0.447825   \n",
       "2   2  1.681726  0.616746 -1.027689  0.810492 -0.609086  0.113965 -0.708660   \n",
       "3   3 -0.118172 -0.587835 -0.804638  2.086822  0.371005 -0.128831 -0.282575   \n",
       "4   4  1.148481 -0.176567 -0.664871 -1.101343  0.467875  0.500117  0.407515   \n",
       "\n",
       "   f_07  f_08  ...      f_22      f_23      f_24      f_25      f_26  \\\n",
       "0     1     5  ... -2.540739  0.766952 -2.730628 -0.208177  1.363402   \n",
       "1     1     3  ...  2.278315 -0.633658 -1.217077 -3.782194 -0.058316   \n",
       "2     1     0  ... -1.385775 -0.520558 -0.009121  2.788536 -3.703488   \n",
       "3     3     2  ...  0.572594 -1.653213  1.686035 -2.533098 -0.608601   \n",
       "4     3     3  ... -3.912929 -1.430366  2.127649 -3.306784  4.371371   \n",
       "\n",
       "         f_27        f_28  f_29  f_30  target  \n",
       "0  ABABDADBAB   67.609153     0     0       0  \n",
       "1  ACACCADCEB  377.096415     0     0       1  \n",
       "2  AAAEABCKAD -195.599702     0     2       1  \n",
       "3  BDBBAACBCB  210.826205     0     0       1  \n",
       "4  BDBCBBCHFE -217.211798     0     1       1  \n",
       "\n",
       "[5 rows x 33 columns]"
      ]
     },
     "execution_count": 4,
     "metadata": {},
     "output_type": "execute_result"
    }
   ],
   "source": [
    "train_df.head()"
   ]
  },
  {
   "cell_type": "code",
   "execution_count": 5,
   "id": "bced6efb",
   "metadata": {
    "execution": {
     "iopub.execute_input": "2022-05-21T19:38:27.603729Z",
     "iopub.status.busy": "2022-05-21T19:38:27.603276Z",
     "iopub.status.idle": "2022-05-21T19:38:27.625419Z",
     "shell.execute_reply": "2022-05-21T19:38:27.624554Z"
    },
    "papermill": {
     "duration": 0.063922,
     "end_time": "2022-05-21T19:38:27.627493",
     "exception": false,
     "start_time": "2022-05-21T19:38:27.563571",
     "status": "completed"
    },
    "tags": []
   },
   "outputs": [
    {
     "data": {
      "text/html": [
       "<div>\n",
       "<style scoped>\n",
       "    .dataframe tbody tr th:only-of-type {\n",
       "        vertical-align: middle;\n",
       "    }\n",
       "\n",
       "    .dataframe tbody tr th {\n",
       "        vertical-align: top;\n",
       "    }\n",
       "\n",
       "    .dataframe thead th {\n",
       "        text-align: right;\n",
       "    }\n",
       "</style>\n",
       "<table border=\"1\" class=\"dataframe\">\n",
       "  <thead>\n",
       "    <tr style=\"text-align: right;\">\n",
       "      <th></th>\n",
       "      <th>id</th>\n",
       "      <th>f_00</th>\n",
       "      <th>f_01</th>\n",
       "      <th>f_02</th>\n",
       "      <th>f_03</th>\n",
       "      <th>f_04</th>\n",
       "      <th>f_05</th>\n",
       "      <th>f_06</th>\n",
       "      <th>f_07</th>\n",
       "      <th>f_08</th>\n",
       "      <th>...</th>\n",
       "      <th>f_22</th>\n",
       "      <th>f_23</th>\n",
       "      <th>f_24</th>\n",
       "      <th>f_25</th>\n",
       "      <th>f_26</th>\n",
       "      <th>f_27</th>\n",
       "      <th>f_28</th>\n",
       "      <th>f_29</th>\n",
       "      <th>f_30</th>\n",
       "      <th>target</th>\n",
       "    </tr>\n",
       "  </thead>\n",
       "  <tbody>\n",
       "    <tr>\n",
       "      <th>899995</th>\n",
       "      <td>899995</td>\n",
       "      <td>1.380145</td>\n",
       "      <td>-0.038884</td>\n",
       "      <td>0.597111</td>\n",
       "      <td>0.854560</td>\n",
       "      <td>0.684301</td>\n",
       "      <td>-1.058618</td>\n",
       "      <td>1.310699</td>\n",
       "      <td>2</td>\n",
       "      <td>1</td>\n",
       "      <td>...</td>\n",
       "      <td>-1.594744</td>\n",
       "      <td>0.522019</td>\n",
       "      <td>0.833047</td>\n",
       "      <td>2.714125</td>\n",
       "      <td>1.290094</td>\n",
       "      <td>BABBCBBBED</td>\n",
       "      <td>455.033851</td>\n",
       "      <td>0</td>\n",
       "      <td>2</td>\n",
       "      <td>1</td>\n",
       "    </tr>\n",
       "    <tr>\n",
       "      <th>899996</th>\n",
       "      <td>899996</td>\n",
       "      <td>-1.369789</td>\n",
       "      <td>0.044841</td>\n",
       "      <td>0.015458</td>\n",
       "      <td>0.376565</td>\n",
       "      <td>-0.380529</td>\n",
       "      <td>-0.830815</td>\n",
       "      <td>-1.798458</td>\n",
       "      <td>4</td>\n",
       "      <td>1</td>\n",
       "      <td>...</td>\n",
       "      <td>2.413899</td>\n",
       "      <td>-0.674942</td>\n",
       "      <td>-0.412111</td>\n",
       "      <td>-0.030436</td>\n",
       "      <td>-3.144047</td>\n",
       "      <td>BBBGBBDQBE</td>\n",
       "      <td>134.703577</td>\n",
       "      <td>0</td>\n",
       "      <td>1</td>\n",
       "      <td>0</td>\n",
       "    </tr>\n",
       "    <tr>\n",
       "      <th>899997</th>\n",
       "      <td>899997</td>\n",
       "      <td>1.386201</td>\n",
       "      <td>-0.961150</td>\n",
       "      <td>0.725994</td>\n",
       "      <td>-0.132844</td>\n",
       "      <td>0.873911</td>\n",
       "      <td>-0.245339</td>\n",
       "      <td>-1.045786</td>\n",
       "      <td>0</td>\n",
       "      <td>0</td>\n",
       "      <td>...</td>\n",
       "      <td>-0.151930</td>\n",
       "      <td>-4.560773</td>\n",
       "      <td>-1.249154</td>\n",
       "      <td>1.793535</td>\n",
       "      <td>2.253696</td>\n",
       "      <td>AEBEDBBHBA</td>\n",
       "      <td>-99.536313</td>\n",
       "      <td>0</td>\n",
       "      <td>1</td>\n",
       "      <td>0</td>\n",
       "    </tr>\n",
       "    <tr>\n",
       "      <th>899998</th>\n",
       "      <td>899998</td>\n",
       "      <td>-1.590572</td>\n",
       "      <td>-0.509938</td>\n",
       "      <td>-1.715397</td>\n",
       "      <td>-0.249988</td>\n",
       "      <td>1.359933</td>\n",
       "      <td>1.650808</td>\n",
       "      <td>-0.058592</td>\n",
       "      <td>0</td>\n",
       "      <td>2</td>\n",
       "      <td>...</td>\n",
       "      <td>2.423670</td>\n",
       "      <td>2.110008</td>\n",
       "      <td>0.561271</td>\n",
       "      <td>-2.149610</td>\n",
       "      <td>1.019982</td>\n",
       "      <td>ADBAAADDAE</td>\n",
       "      <td>47.823039</td>\n",
       "      <td>1</td>\n",
       "      <td>2</td>\n",
       "      <td>0</td>\n",
       "    </tr>\n",
       "    <tr>\n",
       "      <th>899999</th>\n",
       "      <td>899999</td>\n",
       "      <td>-0.636210</td>\n",
       "      <td>-0.425986</td>\n",
       "      <td>-1.826699</td>\n",
       "      <td>-0.598797</td>\n",
       "      <td>1.589577</td>\n",
       "      <td>-0.482298</td>\n",
       "      <td>-0.214093</td>\n",
       "      <td>7</td>\n",
       "      <td>1</td>\n",
       "      <td>...</td>\n",
       "      <td>1.340696</td>\n",
       "      <td>3.762351</td>\n",
       "      <td>1.797137</td>\n",
       "      <td>-0.412837</td>\n",
       "      <td>2.090440</td>\n",
       "      <td>BCAACADSCE</td>\n",
       "      <td>-44.559296</td>\n",
       "      <td>0</td>\n",
       "      <td>2</td>\n",
       "      <td>1</td>\n",
       "    </tr>\n",
       "  </tbody>\n",
       "</table>\n",
       "<p>5 rows × 33 columns</p>\n",
       "</div>"
      ],
      "text/plain": [
       "            id      f_00      f_01      f_02      f_03      f_04      f_05  \\\n",
       "899995  899995  1.380145 -0.038884  0.597111  0.854560  0.684301 -1.058618   \n",
       "899996  899996 -1.369789  0.044841  0.015458  0.376565 -0.380529 -0.830815   \n",
       "899997  899997  1.386201 -0.961150  0.725994 -0.132844  0.873911 -0.245339   \n",
       "899998  899998 -1.590572 -0.509938 -1.715397 -0.249988  1.359933  1.650808   \n",
       "899999  899999 -0.636210 -0.425986 -1.826699 -0.598797  1.589577 -0.482298   \n",
       "\n",
       "            f_06  f_07  f_08  ...      f_22      f_23      f_24      f_25  \\\n",
       "899995  1.310699     2     1  ... -1.594744  0.522019  0.833047  2.714125   \n",
       "899996 -1.798458     4     1  ...  2.413899 -0.674942 -0.412111 -0.030436   \n",
       "899997 -1.045786     0     0  ... -0.151930 -4.560773 -1.249154  1.793535   \n",
       "899998 -0.058592     0     2  ...  2.423670  2.110008  0.561271 -2.149610   \n",
       "899999 -0.214093     7     1  ...  1.340696  3.762351  1.797137 -0.412837   \n",
       "\n",
       "            f_26        f_27        f_28  f_29  f_30  target  \n",
       "899995  1.290094  BABBCBBBED  455.033851     0     2       1  \n",
       "899996 -3.144047  BBBGBBDQBE  134.703577     0     1       0  \n",
       "899997  2.253696  AEBEDBBHBA  -99.536313     0     1       0  \n",
       "899998  1.019982  ADBAAADDAE   47.823039     1     2       0  \n",
       "899999  2.090440  BCAACADSCE  -44.559296     0     2       1  \n",
       "\n",
       "[5 rows x 33 columns]"
      ]
     },
     "execution_count": 5,
     "metadata": {},
     "output_type": "execute_result"
    }
   ],
   "source": [
    "train_df.tail()"
   ]
  },
  {
   "cell_type": "code",
   "execution_count": 6,
   "id": "bb8d3583",
   "metadata": {
    "execution": {
     "iopub.execute_input": "2022-05-21T19:38:27.712193Z",
     "iopub.status.busy": "2022-05-21T19:38:27.711600Z",
     "iopub.status.idle": "2022-05-21T19:38:27.803335Z",
     "shell.execute_reply": "2022-05-21T19:38:27.802353Z"
    },
    "papermill": {
     "duration": 0.138778,
     "end_time": "2022-05-21T19:38:27.805729",
     "exception": false,
     "start_time": "2022-05-21T19:38:27.666951",
     "status": "completed"
    },
    "tags": []
   },
   "outputs": [],
   "source": [
    "train_df.drop('id', axis=1, inplace=True)"
   ]
  },
  {
   "cell_type": "code",
   "execution_count": 7,
   "id": "62ceb451",
   "metadata": {
    "execution": {
     "iopub.execute_input": "2022-05-21T19:38:27.887227Z",
     "iopub.status.busy": "2022-05-21T19:38:27.886919Z",
     "iopub.status.idle": "2022-05-21T19:38:27.896134Z",
     "shell.execute_reply": "2022-05-21T19:38:27.895269Z"
    },
    "papermill": {
     "duration": 0.05198,
     "end_time": "2022-05-21T19:38:27.898178",
     "exception": false,
     "start_time": "2022-05-21T19:38:27.846198",
     "status": "completed"
    },
    "tags": []
   },
   "outputs": [
    {
     "data": {
      "text/plain": [
       "float64    16\n",
       "int64      15\n",
       "object      1\n",
       "dtype: int64"
      ]
     },
     "execution_count": 7,
     "metadata": {},
     "output_type": "execute_result"
    }
   ],
   "source": [
    "pd.value_counts(train_df.dtypes)"
   ]
  },
  {
   "cell_type": "code",
   "execution_count": 8,
   "id": "9f4bbaa8",
   "metadata": {
    "execution": {
     "iopub.execute_input": "2022-05-21T19:38:27.978369Z",
     "iopub.status.busy": "2022-05-21T19:38:27.977909Z",
     "iopub.status.idle": "2022-05-21T19:38:29.006771Z",
     "shell.execute_reply": "2022-05-21T19:38:29.006067Z"
    },
    "papermill": {
     "duration": 1.070329,
     "end_time": "2022-05-21T19:38:29.008442",
     "exception": false,
     "start_time": "2022-05-21T19:38:27.938113",
     "status": "completed"
    },
    "tags": []
   },
   "outputs": [
    {
     "data": {
      "text/html": [
       "<div>\n",
       "<style scoped>\n",
       "    .dataframe tbody tr th:only-of-type {\n",
       "        vertical-align: middle;\n",
       "    }\n",
       "\n",
       "    .dataframe tbody tr th {\n",
       "        vertical-align: top;\n",
       "    }\n",
       "\n",
       "    .dataframe thead th {\n",
       "        text-align: right;\n",
       "    }\n",
       "</style>\n",
       "<table border=\"1\" class=\"dataframe\">\n",
       "  <thead>\n",
       "    <tr style=\"text-align: right;\">\n",
       "      <th></th>\n",
       "      <th>count</th>\n",
       "      <th>mean</th>\n",
       "      <th>std</th>\n",
       "      <th>min</th>\n",
       "      <th>25%</th>\n",
       "      <th>50%</th>\n",
       "      <th>75%</th>\n",
       "      <th>max</th>\n",
       "    </tr>\n",
       "  </thead>\n",
       "  <tbody>\n",
       "    <tr>\n",
       "      <th>f_00</th>\n",
       "      <td>900000.0</td>\n",
       "      <td>-0.000286</td>\n",
       "      <td>0.998888</td>\n",
       "      <td>-4.599856</td>\n",
       "      <td>-0.675490</td>\n",
       "      <td>0.001144</td>\n",
       "      <td>0.674337</td>\n",
       "      <td>4.749301</td>\n",
       "    </tr>\n",
       "    <tr>\n",
       "      <th>f_01</th>\n",
       "      <td>900000.0</td>\n",
       "      <td>0.001165</td>\n",
       "      <td>0.999193</td>\n",
       "      <td>-4.682199</td>\n",
       "      <td>-0.675162</td>\n",
       "      <td>0.002014</td>\n",
       "      <td>0.675021</td>\n",
       "      <td>4.815699</td>\n",
       "    </tr>\n",
       "    <tr>\n",
       "      <th>f_02</th>\n",
       "      <td>900000.0</td>\n",
       "      <td>0.001174</td>\n",
       "      <td>1.000514</td>\n",
       "      <td>-4.642676</td>\n",
       "      <td>-0.674369</td>\n",
       "      <td>0.002218</td>\n",
       "      <td>0.677505</td>\n",
       "      <td>4.961982</td>\n",
       "    </tr>\n",
       "    <tr>\n",
       "      <th>f_03</th>\n",
       "      <td>900000.0</td>\n",
       "      <td>-0.001368</td>\n",
       "      <td>1.000175</td>\n",
       "      <td>-4.658816</td>\n",
       "      <td>-0.676114</td>\n",
       "      <td>-0.002227</td>\n",
       "      <td>0.672544</td>\n",
       "      <td>4.454920</td>\n",
       "    </tr>\n",
       "    <tr>\n",
       "      <th>f_04</th>\n",
       "      <td>900000.0</td>\n",
       "      <td>-0.000571</td>\n",
       "      <td>1.000167</td>\n",
       "      <td>-4.748501</td>\n",
       "      <td>-0.675909</td>\n",
       "      <td>-0.001662</td>\n",
       "      <td>0.673789</td>\n",
       "      <td>4.948983</td>\n",
       "    </tr>\n",
       "    <tr>\n",
       "      <th>f_05</th>\n",
       "      <td>900000.0</td>\n",
       "      <td>0.000284</td>\n",
       "      <td>0.999875</td>\n",
       "      <td>-4.750214</td>\n",
       "      <td>-0.673437</td>\n",
       "      <td>-0.000438</td>\n",
       "      <td>0.675028</td>\n",
       "      <td>4.971881</td>\n",
       "    </tr>\n",
       "    <tr>\n",
       "      <th>f_06</th>\n",
       "      <td>900000.0</td>\n",
       "      <td>-0.000709</td>\n",
       "      <td>0.999942</td>\n",
       "      <td>-4.842919</td>\n",
       "      <td>-0.674876</td>\n",
       "      <td>-0.001492</td>\n",
       "      <td>0.674749</td>\n",
       "      <td>4.822668</td>\n",
       "    </tr>\n",
       "    <tr>\n",
       "      <th>f_07</th>\n",
       "      <td>900000.0</td>\n",
       "      <td>2.031460</td>\n",
       "      <td>1.656172</td>\n",
       "      <td>0.000000</td>\n",
       "      <td>1.000000</td>\n",
       "      <td>2.000000</td>\n",
       "      <td>3.000000</td>\n",
       "      <td>15.000000</td>\n",
       "    </tr>\n",
       "    <tr>\n",
       "      <th>f_08</th>\n",
       "      <td>900000.0</td>\n",
       "      <td>2.057998</td>\n",
       "      <td>1.590955</td>\n",
       "      <td>0.000000</td>\n",
       "      <td>1.000000</td>\n",
       "      <td>2.000000</td>\n",
       "      <td>3.000000</td>\n",
       "      <td>16.000000</td>\n",
       "    </tr>\n",
       "    <tr>\n",
       "      <th>f_09</th>\n",
       "      <td>900000.0</td>\n",
       "      <td>2.362431</td>\n",
       "      <td>1.637706</td>\n",
       "      <td>0.000000</td>\n",
       "      <td>1.000000</td>\n",
       "      <td>2.000000</td>\n",
       "      <td>3.000000</td>\n",
       "      <td>14.000000</td>\n",
       "    </tr>\n",
       "    <tr>\n",
       "      <th>f_10</th>\n",
       "      <td>900000.0</td>\n",
       "      <td>2.177637</td>\n",
       "      <td>1.645953</td>\n",
       "      <td>0.000000</td>\n",
       "      <td>1.000000</td>\n",
       "      <td>2.000000</td>\n",
       "      <td>3.000000</td>\n",
       "      <td>14.000000</td>\n",
       "    </tr>\n",
       "    <tr>\n",
       "      <th>f_11</th>\n",
       "      <td>900000.0</td>\n",
       "      <td>1.803392</td>\n",
       "      <td>1.537487</td>\n",
       "      <td>0.000000</td>\n",
       "      <td>1.000000</td>\n",
       "      <td>2.000000</td>\n",
       "      <td>3.000000</td>\n",
       "      <td>13.000000</td>\n",
       "    </tr>\n",
       "    <tr>\n",
       "      <th>f_12</th>\n",
       "      <td>900000.0</td>\n",
       "      <td>2.842373</td>\n",
       "      <td>1.762835</td>\n",
       "      <td>0.000000</td>\n",
       "      <td>2.000000</td>\n",
       "      <td>3.000000</td>\n",
       "      <td>4.000000</td>\n",
       "      <td>16.000000</td>\n",
       "    </tr>\n",
       "    <tr>\n",
       "      <th>f_13</th>\n",
       "      <td>900000.0</td>\n",
       "      <td>2.239778</td>\n",
       "      <td>1.538426</td>\n",
       "      <td>0.000000</td>\n",
       "      <td>1.000000</td>\n",
       "      <td>2.000000</td>\n",
       "      <td>3.000000</td>\n",
       "      <td>12.000000</td>\n",
       "    </tr>\n",
       "    <tr>\n",
       "      <th>f_14</th>\n",
       "      <td>900000.0</td>\n",
       "      <td>1.514686</td>\n",
       "      <td>1.359213</td>\n",
       "      <td>0.000000</td>\n",
       "      <td>0.000000</td>\n",
       "      <td>1.000000</td>\n",
       "      <td>2.000000</td>\n",
       "      <td>14.000000</td>\n",
       "    </tr>\n",
       "    <tr>\n",
       "      <th>f_15</th>\n",
       "      <td>900000.0</td>\n",
       "      <td>2.101132</td>\n",
       "      <td>1.569093</td>\n",
       "      <td>0.000000</td>\n",
       "      <td>1.000000</td>\n",
       "      <td>2.000000</td>\n",
       "      <td>3.000000</td>\n",
       "      <td>14.000000</td>\n",
       "    </tr>\n",
       "    <tr>\n",
       "      <th>f_16</th>\n",
       "      <td>900000.0</td>\n",
       "      <td>2.096713</td>\n",
       "      <td>1.560169</td>\n",
       "      <td>0.000000</td>\n",
       "      <td>1.000000</td>\n",
       "      <td>2.000000</td>\n",
       "      <td>3.000000</td>\n",
       "      <td>15.000000</td>\n",
       "    </tr>\n",
       "    <tr>\n",
       "      <th>f_17</th>\n",
       "      <td>900000.0</td>\n",
       "      <td>1.858518</td>\n",
       "      <td>1.467675</td>\n",
       "      <td>0.000000</td>\n",
       "      <td>1.000000</td>\n",
       "      <td>2.000000</td>\n",
       "      <td>3.000000</td>\n",
       "      <td>14.000000</td>\n",
       "    </tr>\n",
       "    <tr>\n",
       "      <th>f_18</th>\n",
       "      <td>900000.0</td>\n",
       "      <td>2.065131</td>\n",
       "      <td>1.564783</td>\n",
       "      <td>0.000000</td>\n",
       "      <td>1.000000</td>\n",
       "      <td>2.000000</td>\n",
       "      <td>3.000000</td>\n",
       "      <td>13.000000</td>\n",
       "    </tr>\n",
       "    <tr>\n",
       "      <th>f_19</th>\n",
       "      <td>900000.0</td>\n",
       "      <td>0.308713</td>\n",
       "      <td>2.316026</td>\n",
       "      <td>-11.280941</td>\n",
       "      <td>-1.236061</td>\n",
       "      <td>0.330249</td>\n",
       "      <td>1.880517</td>\n",
       "      <td>12.079667</td>\n",
       "    </tr>\n",
       "    <tr>\n",
       "      <th>f_20</th>\n",
       "      <td>900000.0</td>\n",
       "      <td>-0.178730</td>\n",
       "      <td>2.400494</td>\n",
       "      <td>-11.257917</td>\n",
       "      <td>-1.804612</td>\n",
       "      <td>-0.190571</td>\n",
       "      <td>1.444508</td>\n",
       "      <td>11.475325</td>\n",
       "    </tr>\n",
       "    <tr>\n",
       "      <th>f_21</th>\n",
       "      <td>900000.0</td>\n",
       "      <td>-0.156307</td>\n",
       "      <td>2.484706</td>\n",
       "      <td>-13.310146</td>\n",
       "      <td>-1.820063</td>\n",
       "      <td>-0.152668</td>\n",
       "      <td>1.507071</td>\n",
       "      <td>14.455426</td>\n",
       "    </tr>\n",
       "    <tr>\n",
       "      <th>f_22</th>\n",
       "      <td>900000.0</td>\n",
       "      <td>-0.009273</td>\n",
       "      <td>2.450797</td>\n",
       "      <td>-11.853530</td>\n",
       "      <td>-1.645585</td>\n",
       "      <td>0.030850</td>\n",
       "      <td>1.661676</td>\n",
       "      <td>11.344080</td>\n",
       "    </tr>\n",
       "    <tr>\n",
       "      <th>f_23</th>\n",
       "      <td>900000.0</td>\n",
       "      <td>-0.369459</td>\n",
       "      <td>2.453405</td>\n",
       "      <td>-12.301097</td>\n",
       "      <td>-2.019739</td>\n",
       "      <td>-0.390966</td>\n",
       "      <td>1.255408</td>\n",
       "      <td>12.247100</td>\n",
       "    </tr>\n",
       "    <tr>\n",
       "      <th>f_24</th>\n",
       "      <td>900000.0</td>\n",
       "      <td>-0.342738</td>\n",
       "      <td>2.386941</td>\n",
       "      <td>-11.416189</td>\n",
       "      <td>-1.955956</td>\n",
       "      <td>-0.340746</td>\n",
       "      <td>1.266673</td>\n",
       "      <td>12.389844</td>\n",
       "    </tr>\n",
       "    <tr>\n",
       "      <th>f_25</th>\n",
       "      <td>900000.0</td>\n",
       "      <td>0.176549</td>\n",
       "      <td>2.416959</td>\n",
       "      <td>-11.918306</td>\n",
       "      <td>-1.440424</td>\n",
       "      <td>0.160912</td>\n",
       "      <td>1.795928</td>\n",
       "      <td>12.529179</td>\n",
       "    </tr>\n",
       "    <tr>\n",
       "      <th>f_26</th>\n",
       "      <td>900000.0</td>\n",
       "      <td>0.357591</td>\n",
       "      <td>2.476020</td>\n",
       "      <td>-14.300577</td>\n",
       "      <td>-1.261598</td>\n",
       "      <td>0.404212</td>\n",
       "      <td>2.028219</td>\n",
       "      <td>12.913041</td>\n",
       "    </tr>\n",
       "    <tr>\n",
       "      <th>f_28</th>\n",
       "      <td>900000.0</td>\n",
       "      <td>-0.380876</td>\n",
       "      <td>238.773054</td>\n",
       "      <td>-1229.753052</td>\n",
       "      <td>-159.427418</td>\n",
       "      <td>-0.519808</td>\n",
       "      <td>158.987357</td>\n",
       "      <td>1229.562577</td>\n",
       "    </tr>\n",
       "    <tr>\n",
       "      <th>f_29</th>\n",
       "      <td>900000.0</td>\n",
       "      <td>0.345661</td>\n",
       "      <td>0.475584</td>\n",
       "      <td>0.000000</td>\n",
       "      <td>0.000000</td>\n",
       "      <td>0.000000</td>\n",
       "      <td>1.000000</td>\n",
       "      <td>1.000000</td>\n",
       "    </tr>\n",
       "    <tr>\n",
       "      <th>f_30</th>\n",
       "      <td>900000.0</td>\n",
       "      <td>1.002654</td>\n",
       "      <td>0.818989</td>\n",
       "      <td>0.000000</td>\n",
       "      <td>0.000000</td>\n",
       "      <td>1.000000</td>\n",
       "      <td>2.000000</td>\n",
       "      <td>2.000000</td>\n",
       "    </tr>\n",
       "    <tr>\n",
       "      <th>target</th>\n",
       "      <td>900000.0</td>\n",
       "      <td>0.486488</td>\n",
       "      <td>0.499818</td>\n",
       "      <td>0.000000</td>\n",
       "      <td>0.000000</td>\n",
       "      <td>0.000000</td>\n",
       "      <td>1.000000</td>\n",
       "      <td>1.000000</td>\n",
       "    </tr>\n",
       "  </tbody>\n",
       "</table>\n",
       "</div>"
      ],
      "text/plain": [
       "           count      mean         std          min         25%       50%  \\\n",
       "f_00    900000.0 -0.000286    0.998888    -4.599856   -0.675490  0.001144   \n",
       "f_01    900000.0  0.001165    0.999193    -4.682199   -0.675162  0.002014   \n",
       "f_02    900000.0  0.001174    1.000514    -4.642676   -0.674369  0.002218   \n",
       "f_03    900000.0 -0.001368    1.000175    -4.658816   -0.676114 -0.002227   \n",
       "f_04    900000.0 -0.000571    1.000167    -4.748501   -0.675909 -0.001662   \n",
       "f_05    900000.0  0.000284    0.999875    -4.750214   -0.673437 -0.000438   \n",
       "f_06    900000.0 -0.000709    0.999942    -4.842919   -0.674876 -0.001492   \n",
       "f_07    900000.0  2.031460    1.656172     0.000000    1.000000  2.000000   \n",
       "f_08    900000.0  2.057998    1.590955     0.000000    1.000000  2.000000   \n",
       "f_09    900000.0  2.362431    1.637706     0.000000    1.000000  2.000000   \n",
       "f_10    900000.0  2.177637    1.645953     0.000000    1.000000  2.000000   \n",
       "f_11    900000.0  1.803392    1.537487     0.000000    1.000000  2.000000   \n",
       "f_12    900000.0  2.842373    1.762835     0.000000    2.000000  3.000000   \n",
       "f_13    900000.0  2.239778    1.538426     0.000000    1.000000  2.000000   \n",
       "f_14    900000.0  1.514686    1.359213     0.000000    0.000000  1.000000   \n",
       "f_15    900000.0  2.101132    1.569093     0.000000    1.000000  2.000000   \n",
       "f_16    900000.0  2.096713    1.560169     0.000000    1.000000  2.000000   \n",
       "f_17    900000.0  1.858518    1.467675     0.000000    1.000000  2.000000   \n",
       "f_18    900000.0  2.065131    1.564783     0.000000    1.000000  2.000000   \n",
       "f_19    900000.0  0.308713    2.316026   -11.280941   -1.236061  0.330249   \n",
       "f_20    900000.0 -0.178730    2.400494   -11.257917   -1.804612 -0.190571   \n",
       "f_21    900000.0 -0.156307    2.484706   -13.310146   -1.820063 -0.152668   \n",
       "f_22    900000.0 -0.009273    2.450797   -11.853530   -1.645585  0.030850   \n",
       "f_23    900000.0 -0.369459    2.453405   -12.301097   -2.019739 -0.390966   \n",
       "f_24    900000.0 -0.342738    2.386941   -11.416189   -1.955956 -0.340746   \n",
       "f_25    900000.0  0.176549    2.416959   -11.918306   -1.440424  0.160912   \n",
       "f_26    900000.0  0.357591    2.476020   -14.300577   -1.261598  0.404212   \n",
       "f_28    900000.0 -0.380876  238.773054 -1229.753052 -159.427418 -0.519808   \n",
       "f_29    900000.0  0.345661    0.475584     0.000000    0.000000  0.000000   \n",
       "f_30    900000.0  1.002654    0.818989     0.000000    0.000000  1.000000   \n",
       "target  900000.0  0.486488    0.499818     0.000000    0.000000  0.000000   \n",
       "\n",
       "               75%          max  \n",
       "f_00      0.674337     4.749301  \n",
       "f_01      0.675021     4.815699  \n",
       "f_02      0.677505     4.961982  \n",
       "f_03      0.672544     4.454920  \n",
       "f_04      0.673789     4.948983  \n",
       "f_05      0.675028     4.971881  \n",
       "f_06      0.674749     4.822668  \n",
       "f_07      3.000000    15.000000  \n",
       "f_08      3.000000    16.000000  \n",
       "f_09      3.000000    14.000000  \n",
       "f_10      3.000000    14.000000  \n",
       "f_11      3.000000    13.000000  \n",
       "f_12      4.000000    16.000000  \n",
       "f_13      3.000000    12.000000  \n",
       "f_14      2.000000    14.000000  \n",
       "f_15      3.000000    14.000000  \n",
       "f_16      3.000000    15.000000  \n",
       "f_17      3.000000    14.000000  \n",
       "f_18      3.000000    13.000000  \n",
       "f_19      1.880517    12.079667  \n",
       "f_20      1.444508    11.475325  \n",
       "f_21      1.507071    14.455426  \n",
       "f_22      1.661676    11.344080  \n",
       "f_23      1.255408    12.247100  \n",
       "f_24      1.266673    12.389844  \n",
       "f_25      1.795928    12.529179  \n",
       "f_26      2.028219    12.913041  \n",
       "f_28    158.987357  1229.562577  \n",
       "f_29      1.000000     1.000000  \n",
       "f_30      2.000000     2.000000  \n",
       "target    1.000000     1.000000  "
      ]
     },
     "execution_count": 8,
     "metadata": {},
     "output_type": "execute_result"
    }
   ],
   "source": [
    "train_df.describe(include='number').T"
   ]
  },
  {
   "cell_type": "code",
   "execution_count": 9,
   "id": "32288965",
   "metadata": {
    "execution": {
     "iopub.execute_input": "2022-05-21T19:38:29.082288Z",
     "iopub.status.busy": "2022-05-21T19:38:29.082033Z",
     "iopub.status.idle": "2022-05-21T19:38:29.872312Z",
     "shell.execute_reply": "2022-05-21T19:38:29.871601Z"
    },
    "papermill": {
     "duration": 0.83,
     "end_time": "2022-05-21T19:38:29.874099",
     "exception": false,
     "start_time": "2022-05-21T19:38:29.044099",
     "status": "completed"
    },
    "tags": []
   },
   "outputs": [
    {
     "data": {
      "text/html": [
       "<div>\n",
       "<style scoped>\n",
       "    .dataframe tbody tr th:only-of-type {\n",
       "        vertical-align: middle;\n",
       "    }\n",
       "\n",
       "    .dataframe tbody tr th {\n",
       "        vertical-align: top;\n",
       "    }\n",
       "\n",
       "    .dataframe thead th {\n",
       "        text-align: right;\n",
       "    }\n",
       "</style>\n",
       "<table border=\"1\" class=\"dataframe\">\n",
       "  <thead>\n",
       "    <tr style=\"text-align: right;\">\n",
       "      <th></th>\n",
       "      <th>count</th>\n",
       "      <th>unique</th>\n",
       "      <th>top</th>\n",
       "      <th>freq</th>\n",
       "    </tr>\n",
       "  </thead>\n",
       "  <tbody>\n",
       "    <tr>\n",
       "      <th>f_27</th>\n",
       "      <td>900000</td>\n",
       "      <td>741354</td>\n",
       "      <td>BBBBBBCJBC</td>\n",
       "      <td>12</td>\n",
       "    </tr>\n",
       "  </tbody>\n",
       "</table>\n",
       "</div>"
      ],
      "text/plain": [
       "       count  unique         top freq\n",
       "f_27  900000  741354  BBBBBBCJBC   12"
      ]
     },
     "execution_count": 9,
     "metadata": {},
     "output_type": "execute_result"
    }
   ],
   "source": [
    "train_df.describe(exclude='number').T"
   ]
  },
  {
   "cell_type": "code",
   "execution_count": 10,
   "id": "173301be",
   "metadata": {
    "execution": {
     "iopub.execute_input": "2022-05-21T19:38:29.951182Z",
     "iopub.status.busy": "2022-05-21T19:38:29.950928Z",
     "iopub.status.idle": "2022-05-21T19:38:31.707174Z",
     "shell.execute_reply": "2022-05-21T19:38:31.706648Z"
    },
    "papermill": {
     "duration": 1.796502,
     "end_time": "2022-05-21T19:38:31.708804",
     "exception": false,
     "start_time": "2022-05-21T19:38:29.912302",
     "status": "completed"
    },
    "tags": []
   },
   "outputs": [
    {
     "data": {
      "text/plain": [
       "<AxesSubplot:title={'center':'Unique Values per feature'}>"
      ]
     },
     "execution_count": 10,
     "metadata": {},
     "output_type": "execute_result"
    },
    {
     "data": {
      "image/png": "[encoded data removed]",
      "text/plain": [
       "<Figure size 1080x576 with 1 Axes>"
      ]
     },
     "metadata": {
      "needs_background": "light"
     },
     "output_type": "display_data"
    }
   ],
   "source": [
    "unique_values = train_df.select_dtypes(include='number').nunique().sort_values()\n",
    "\n",
    "unique_values.plot.bar(logy=True, figsize=(15, 8), title='Unique Values per feature')"
   ]
  },
  {
   "cell_type": "code",
   "execution_count": 11,
   "id": "1cf1542f",
   "metadata": {
    "execution": {
     "iopub.execute_input": "2022-05-21T19:38:31.786798Z",
     "iopub.status.busy": "2022-05-21T19:38:31.786326Z",
     "iopub.status.idle": "2022-05-21T19:38:32.328984Z",
     "shell.execute_reply": "2022-05-21T19:38:32.328398Z"
    },
    "papermill": {
     "duration": 0.583893,
     "end_time": "2022-05-21T19:38:32.331008",
     "exception": false,
     "start_time": "2022-05-21T19:38:31.747115",
     "status": "completed"
    },
    "tags": []
   },
   "outputs": [
    {
     "data": {
      "text/plain": [
       "<AxesSubplot:title={'center':'Unique Values per feature'}>"
      ]
     },
     "execution_count": 11,
     "metadata": {},
     "output_type": "execute_result"
    },
    {
     "data": {
      "image/png": "[encoded data removed]",
      "text/plain": [
       "<Figure size 1080x576 with 1 Axes>"
      ]
     },
     "metadata": {
      "needs_background": "light"
     },
     "output_type": "display_data"
    }
   ],
   "source": [
    "unique_values = train_df.select_dtypes(exclude='number').nunique().sort_values()\n",
    "\n",
    "unique_values.plot.bar(logy=True, figsize=(15, 8), title='Unique Values per feature')"
   ]
  },
  {
   "cell_type": "code",
   "execution_count": 12,
   "id": "a359162a",
   "metadata": {
    "execution": {
     "iopub.execute_input": "2022-05-21T19:38:32.416700Z",
     "iopub.status.busy": "2022-05-21T19:38:32.416471Z",
     "iopub.status.idle": "2022-05-21T19:38:34.659664Z",
     "shell.execute_reply": "2022-05-21T19:38:34.658805Z"
    },
    "papermill": {
     "duration": 2.288869,
     "end_time": "2022-05-21T19:38:34.662381",
     "exception": false,
     "start_time": "2022-05-21T19:38:32.373512",
     "status": "completed"
    },
    "tags": []
   },
   "outputs": [
    {
     "name": "stdout",
     "output_type": "stream",
     "text": [
      "There are 0 duplicates samples.\n"
     ]
    }
   ],
   "source": [
    "n_duplicates = train_df.duplicated().sum()\n",
    "print(f\"There are {n_duplicates} duplicates samples.\")"
   ]
  },
  {
   "cell_type": "code",
   "execution_count": 13,
   "id": "6af09402",
   "metadata": {
    "execution": {
     "iopub.execute_input": "2022-05-21T19:38:34.744582Z",
     "iopub.status.busy": "2022-05-21T19:38:34.744046Z",
     "iopub.status.idle": "2022-05-21T19:38:37.193841Z",
     "shell.execute_reply": "2022-05-21T19:38:37.192765Z"
    },
    "papermill": {
     "duration": 2.49334,
     "end_time": "2022-05-21T19:38:37.196444",
     "exception": false,
     "start_time": "2022-05-21T19:38:34.703104",
     "status": "completed"
    },
    "tags": []
   },
   "outputs": [
    {
     "name": "stdout",
     "output_type": "stream",
     "text": [
      "There are 0 duplicates samples.\n"
     ]
    }
   ],
   "source": [
    "n_duplicates = train_df.drop('target', axis=1).duplicated().sum()\n",
    "print(f\"There are {n_duplicates} duplicates samples.\")"
   ]
  },
  {
   "cell_type": "code",
   "execution_count": 14,
   "id": "ca1f0789",
   "metadata": {
    "execution": {
     "iopub.execute_input": "2022-05-21T19:38:37.281946Z",
     "iopub.status.busy": "2022-05-21T19:38:37.281216Z",
     "iopub.status.idle": "2022-05-21T19:38:37.419865Z",
     "shell.execute_reply": "2022-05-21T19:38:37.419137Z"
    },
    "papermill": {
     "duration": 0.184471,
     "end_time": "2022-05-21T19:38:37.422425",
     "exception": false,
     "start_time": "2022-05-21T19:38:37.237954",
     "status": "completed"
    },
    "tags": []
   },
   "outputs": [
    {
     "name": "stdout",
     "output_type": "stream",
     "text": [
      "Missing values per feature: f_00      0\n",
      "f_01      0\n",
      "f_02      0\n",
      "f_03      0\n",
      "f_04      0\n",
      "f_05      0\n",
      "f_06      0\n",
      "f_07      0\n",
      "f_08      0\n",
      "f_09      0\n",
      "f_10      0\n",
      "f_11      0\n",
      "f_12      0\n",
      "f_13      0\n",
      "f_14      0\n",
      "f_15      0\n",
      "f_16      0\n",
      "f_17      0\n",
      "f_18      0\n",
      "f_19      0\n",
      "f_20      0\n",
      "f_21      0\n",
      "f_22      0\n",
      "f_23      0\n",
      "f_24      0\n",
      "f_25      0\n",
      "f_26      0\n",
      "f_27      0\n",
      "f_28      0\n",
      "f_29      0\n",
      "f_30      0\n",
      "target    0\n",
      "dtype: int64\n"
     ]
    }
   ],
   "source": [
    "missing = train_df.isnull().sum()\n",
    "print(f\"Missing values per feature: {missing}\")"
   ]
  },
  {
   "cell_type": "code",
   "execution_count": 15,
   "id": "01a0ecd9",
   "metadata": {
    "execution": {
     "iopub.execute_input": "2022-05-21T19:38:37.508638Z",
     "iopub.status.busy": "2022-05-21T19:38:37.508264Z",
     "iopub.status.idle": "2022-05-21T19:38:41.937600Z",
     "shell.execute_reply": "2022-05-21T19:38:41.936740Z"
    },
    "papermill": {
     "duration": 4.475579,
     "end_time": "2022-05-21T19:38:41.940269",
     "exception": false,
     "start_time": "2022-05-21T19:38:37.464690",
     "status": "completed"
    },
    "tags": []
   },
   "outputs": [
    {
     "data": {
      "text/plain": [
       "array([[<AxesSubplot:title={'center':'f_00'}>,\n",
       "        <AxesSubplot:title={'center':'f_01'}>,\n",
       "        <AxesSubplot:title={'center':'f_02'}>,\n",
       "        <AxesSubplot:title={'center':'f_03'}>,\n",
       "        <AxesSubplot:title={'center':'f_04'}>],\n",
       "       [<AxesSubplot:title={'center':'f_05'}>,\n",
       "        <AxesSubplot:title={'center':'f_06'}>,\n",
       "        <AxesSubplot:title={'center':'f_07'}>,\n",
       "        <AxesSubplot:title={'center':'f_08'}>,\n",
       "        <AxesSubplot:title={'center':'f_09'}>],\n",
       "       [<AxesSubplot:title={'center':'f_10'}>,\n",
       "        <AxesSubplot:title={'center':'f_11'}>,\n",
       "        <AxesSubplot:title={'center':'f_12'}>,\n",
       "        <AxesSubplot:title={'center':'f_13'}>,\n",
       "        <AxesSubplot:title={'center':'f_14'}>],\n",
       "       [<AxesSubplot:title={'center':'f_15'}>,\n",
       "        <AxesSubplot:title={'center':'f_16'}>,\n",
       "        <AxesSubplot:title={'center':'f_17'}>,\n",
       "        <AxesSubplot:title={'center':'f_18'}>,\n",
       "        <AxesSubplot:title={'center':'f_19'}>],\n",
       "       [<AxesSubplot:title={'center':'f_20'}>,\n",
       "        <AxesSubplot:title={'center':'f_21'}>,\n",
       "        <AxesSubplot:title={'center':'f_22'}>,\n",
       "        <AxesSubplot:title={'center':'f_23'}>,\n",
       "        <AxesSubplot:title={'center':'f_24'}>],\n",
       "       [<AxesSubplot:title={'center':'f_25'}>,\n",
       "        <AxesSubplot:title={'center':'f_26'}>,\n",
       "        <AxesSubplot:title={'center':'f_28'}>,\n",
       "        <AxesSubplot:title={'center':'f_29'}>,\n",
       "        <AxesSubplot:title={'center':'f_30'}>]], dtype=object)"
      ]
     },
     "execution_count": 15,
     "metadata": {},
     "output_type": "execute_result"
    },
    {
     "data": {
      "image/png": "[encoded data removed]",
      "text/plain": [
       "<Figure size 1440x720 with 30 Axes>"
      ]
     },
     "metadata": {
      "needs_background": "light"
     },
     "output_type": "display_data"
    }
   ],
   "source": [
    "train_df.drop('target', axis=1).hist(bins=25, figsize=(20, 10), layout=(-1, 5), edgecolor='black')"
   ]
  },
  {
   "cell_type": "code",
   "execution_count": 16,
   "id": "47eb77fd",
   "metadata": {
    "execution": {
     "iopub.execute_input": "2022-05-21T19:38:42.033340Z",
     "iopub.status.busy": "2022-05-21T19:38:42.033073Z",
     "iopub.status.idle": "2022-05-21T19:38:45.473216Z",
     "shell.execute_reply": "2022-05-21T19:38:45.472140Z"
    },
    "papermill": {
     "duration": 3.489301,
     "end_time": "2022-05-21T19:38:45.475322",
     "exception": false,
     "start_time": "2022-05-21T19:38:41.986021",
     "status": "completed"
    },
    "tags": []
   },
   "outputs": [
    {
     "data": {
      "text/plain": [
       "<AxesSubplot:>"
      ]
     },
     "execution_count": 16,
     "metadata": {},
     "output_type": "execute_result"
    },
    {
     "data": {
      "image/png": "[encoded data removed]",
      "text/plain": [
       "<Figure size 1080x1080 with 2 Axes>"
      ]
     },
     "metadata": {
      "needs_background": "light"
     },
     "output_type": "display_data"
    }
   ],
   "source": [
    "\n",
    "\n",
    "df_corr = train_df.corr(method=\"pearson\")\n",
    "\n",
    "# Create labels for the correlation matrix\n",
    "labels = np.where(np.abs(df_corr)>0.75, \"S\",\n",
    "                  np.where(np.abs(df_corr)>0.5, \"M\",\n",
    "                           np.where(np.abs(df_corr)>0.25, \"W\", \"\")))\n",
    "\n",
    "# Plot correlation matrix\n",
    "plt.figure(figsize=(15, 15))\n",
    "\n",
    "sns.heatmap(df_corr, mask=np.eye(len(df_corr)),\n",
    "            square=True,\n",
    "            center=0,\n",
    "            annot=labels,\n",
    "            fmt='',\n",
    "            linewidths=0.5,\n",
    "            cmap=\"vlag\",\n",
    "            cbar_kws={\"shrink\": 0.8}\n",
    "           )\n"
   ]
  },
  {
   "cell_type": "code",
   "execution_count": 17,
   "id": "fe17032e",
   "metadata": {
    "execution": {
     "iopub.execute_input": "2022-05-21T19:38:45.569627Z",
     "iopub.status.busy": "2022-05-21T19:38:45.569145Z",
     "iopub.status.idle": "2022-05-21T19:38:45.750348Z",
     "shell.execute_reply": "2022-05-21T19:38:45.749786Z"
    },
    "papermill": {
     "duration": 0.22995,
     "end_time": "2022-05-21T19:38:45.752260",
     "exception": false,
     "start_time": "2022-05-21T19:38:45.522310",
     "status": "completed"
    },
    "tags": []
   },
   "outputs": [
    {
     "name": "stderr",
     "output_type": "stream",
     "text": [
      "/opt/conda/lib/python3.7/site-packages/seaborn/_decorators.py:43: FutureWarning: Pass the following variable as a keyword arg: x. From version 0.12, the only valid positional argument will be `data`, and passing other arguments without an explicit keyword will result in an error or misinterpretation.\n",
      "  FutureWarning\n"
     ]
    },
    {
     "data": {
      "text/plain": [
       "<AxesSubplot:xlabel='target', ylabel='count'>"
      ]
     },
     "execution_count": 17,
     "metadata": {},
     "output_type": "execute_result"
    },
    {
     "data": {
      "image/png": "[encoded data removed]",
      "text/plain": [
       "<Figure size 432x288 with 1 Axes>"
      ]
     },
     "metadata": {
      "needs_background": "light"
     },
     "output_type": "display_data"
    }
   ],
   "source": [
    "sns.countplot(train_df['target'])"
   ]
  },
  {
   "cell_type": "code",
   "execution_count": 18,
   "id": "e6d5d5a4",
   "metadata": {
    "execution": {
     "iopub.execute_input": "2022-05-21T19:38:45.846112Z",
     "iopub.status.busy": "2022-05-21T19:38:45.845599Z",
     "iopub.status.idle": "2022-05-21T19:38:45.856353Z",
     "shell.execute_reply": "2022-05-21T19:38:45.855779Z"
    },
    "papermill": {
     "duration": 0.058914,
     "end_time": "2022-05-21T19:38:45.857962",
     "exception": false,
     "start_time": "2022-05-21T19:38:45.799048",
     "status": "completed"
    },
    "tags": []
   },
   "outputs": [
    {
     "data": {
      "text/plain": [
       "0    462161\n",
       "1    437839\n",
       "Name: target, dtype: int64"
      ]
     },
     "execution_count": 18,
     "metadata": {},
     "output_type": "execute_result"
    }
   ],
   "source": [
    "train_df['target'].value_counts()"
   ]
  },
  {
   "cell_type": "code",
   "execution_count": 19,
   "id": "45159bcf",
   "metadata": {
    "execution": {
     "iopub.execute_input": "2022-05-21T19:38:45.951692Z",
     "iopub.status.busy": "2022-05-21T19:38:45.951416Z",
     "iopub.status.idle": "2022-05-21T19:38:45.964293Z",
     "shell.execute_reply": "2022-05-21T19:38:45.963525Z"
    },
    "papermill": {
     "duration": 0.062614,
     "end_time": "2022-05-21T19:38:45.966151",
     "exception": false,
     "start_time": "2022-05-21T19:38:45.903537",
     "status": "completed"
    },
    "tags": []
   },
   "outputs": [
    {
     "data": {
      "text/plain": [
       "0    51.351222\n",
       "1    48.648778\n",
       "Name: target, dtype: float64"
      ]
     },
     "execution_count": 19,
     "metadata": {},
     "output_type": "execute_result"
    }
   ],
   "source": [
    "train_df['target'].value_counts()/len(train_df) * 100"
   ]
  },
  {
   "cell_type": "markdown",
   "id": "3e5a688f",
   "metadata": {
    "papermill": {
     "duration": 0.048419,
     "end_time": "2022-05-21T19:38:46.062982",
     "exception": false,
     "start_time": "2022-05-21T19:38:46.014563",
     "status": "completed"
    },
    "tags": []
   },
   "source": [
    "<h3>1.1.1 Train Set EDA Conclusion</h3>\n",
    "\n",
    "The train set contains 900000 samples with 33 features, where 16 of them are fo type float64, 15 of type int64 and 1 of type object. The only feature of type object has values that are sequences of characters that encodes some information that might be useful when properly encoded. There are 741354 unique values for this variable.  \n",
    "\n",
    "There are no duplicated values nor missing values. The features f00 through f06 and f19-f28 have a normal distribution. The other features are right skewed. None of these features have high correlation with each other.\n",
    "\n",
    "The target variable is well balanced with 51.35% of zeroes and 48.65% of ones."
   ]
  },
  {
   "cell_type": "code",
   "execution_count": 20,
   "id": "a2a74d87",
   "metadata": {
    "execution": {
     "iopub.execute_input": "2022-05-21T19:38:46.158477Z",
     "iopub.status.busy": "2022-05-21T19:38:46.158221Z",
     "iopub.status.idle": "2022-05-21T19:38:46.337681Z",
     "shell.execute_reply": "2022-05-21T19:38:46.336882Z"
    },
    "papermill": {
     "duration": 0.229675,
     "end_time": "2022-05-21T19:38:46.339974",
     "exception": false,
     "start_time": "2022-05-21T19:38:46.110299",
     "status": "completed"
    },
    "tags": []
   },
   "outputs": [
    {
     "data": {
      "text/plain": [
       "108"
      ]
     },
     "execution_count": 20,
     "metadata": {},
     "output_type": "execute_result"
    }
   ],
   "source": [
    "del train_df\n",
    "gc.collect()"
   ]
  },
  {
   "cell_type": "markdown",
   "id": "3033f131",
   "metadata": {
    "papermill": {
     "duration": 0.049053,
     "end_time": "2022-05-21T19:38:46.438522",
     "exception": false,
     "start_time": "2022-05-21T19:38:46.389469",
     "status": "completed"
    },
    "tags": []
   },
   "source": [
    "<h2>1.2 Test Set</h2>"
   ]
  },
  {
   "cell_type": "code",
   "execution_count": 21,
   "id": "ca2d3a0b",
   "metadata": {
    "execution": {
     "iopub.execute_input": "2022-05-21T19:38:46.537264Z",
     "iopub.status.busy": "2022-05-21T19:38:46.536887Z",
     "iopub.status.idle": "2022-05-21T19:38:52.882183Z",
     "shell.execute_reply": "2022-05-21T19:38:52.880508Z"
    },
    "papermill": {
     "duration": 6.398469,
     "end_time": "2022-05-21T19:38:52.886043",
     "exception": false,
     "start_time": "2022-05-21T19:38:46.487574",
     "status": "completed"
    },
    "tags": []
   },
   "outputs": [],
   "source": [
    "test_df = pd.read_csv('/kaggle/input/tabular-playground-series-may-2022/test.csv')"
   ]
  },
  {
   "cell_type": "code",
   "execution_count": 22,
   "id": "c27c9168",
   "metadata": {
    "execution": {
     "iopub.execute_input": "2022-05-21T19:38:53.189862Z",
     "iopub.status.busy": "2022-05-21T19:38:53.189369Z",
     "iopub.status.idle": "2022-05-21T19:38:53.196105Z",
     "shell.execute_reply": "2022-05-21T19:38:53.195297Z"
    },
    "papermill": {
     "duration": 0.132611,
     "end_time": "2022-05-21T19:38:53.197985",
     "exception": false,
     "start_time": "2022-05-21T19:38:53.065374",
     "status": "completed"
    },
    "tags": []
   },
   "outputs": [
    {
     "data": {
      "text/plain": [
       "(700000, 32)"
      ]
     },
     "execution_count": 22,
     "metadata": {},
     "output_type": "execute_result"
    }
   ],
   "source": [
    "test_df.shape"
   ]
  },
  {
   "cell_type": "code",
   "execution_count": 23,
   "id": "8d13fb92",
   "metadata": {
    "execution": {
     "iopub.execute_input": "2022-05-21T19:38:53.348969Z",
     "iopub.status.busy": "2022-05-21T19:38:53.348543Z",
     "iopub.status.idle": "2022-05-21T19:38:53.373768Z",
     "shell.execute_reply": "2022-05-21T19:38:53.372981Z"
    },
    "papermill": {
     "duration": 0.106397,
     "end_time": "2022-05-21T19:38:53.375674",
     "exception": false,
     "start_time": "2022-05-21T19:38:53.269277",
     "status": "completed"
    },
    "tags": []
   },
   "outputs": [
    {
     "data": {
      "text/html": [
       "<div>\n",
       "<style scoped>\n",
       "    .dataframe tbody tr th:only-of-type {\n",
       "        vertical-align: middle;\n",
       "    }\n",
       "\n",
       "    .dataframe tbody tr th {\n",
       "        vertical-align: top;\n",
       "    }\n",
       "\n",
       "    .dataframe thead th {\n",
       "        text-align: right;\n",
       "    }\n",
       "</style>\n",
       "<table border=\"1\" class=\"dataframe\">\n",
       "  <thead>\n",
       "    <tr style=\"text-align: right;\">\n",
       "      <th></th>\n",
       "      <th>id</th>\n",
       "      <th>f_00</th>\n",
       "      <th>f_01</th>\n",
       "      <th>f_02</th>\n",
       "      <th>f_03</th>\n",
       "      <th>f_04</th>\n",
       "      <th>f_05</th>\n",
       "      <th>f_06</th>\n",
       "      <th>f_07</th>\n",
       "      <th>f_08</th>\n",
       "      <th>...</th>\n",
       "      <th>f_21</th>\n",
       "      <th>f_22</th>\n",
       "      <th>f_23</th>\n",
       "      <th>f_24</th>\n",
       "      <th>f_25</th>\n",
       "      <th>f_26</th>\n",
       "      <th>f_27</th>\n",
       "      <th>f_28</th>\n",
       "      <th>f_29</th>\n",
       "      <th>f_30</th>\n",
       "    </tr>\n",
       "  </thead>\n",
       "  <tbody>\n",
       "    <tr>\n",
       "      <th>0</th>\n",
       "      <td>900000</td>\n",
       "      <td>0.442517</td>\n",
       "      <td>0.174380</td>\n",
       "      <td>-0.999816</td>\n",
       "      <td>0.762741</td>\n",
       "      <td>0.186778</td>\n",
       "      <td>-1.074775</td>\n",
       "      <td>0.501888</td>\n",
       "      <td>6</td>\n",
       "      <td>6</td>\n",
       "      <td>...</td>\n",
       "      <td>-1.006400</td>\n",
       "      <td>-1.193879</td>\n",
       "      <td>-2.435736</td>\n",
       "      <td>-2.427430</td>\n",
       "      <td>-1.966887</td>\n",
       "      <td>5.734205</td>\n",
       "      <td>BAAABADLAC</td>\n",
       "      <td>99.478419</td>\n",
       "      <td>0</td>\n",
       "      <td>0</td>\n",
       "    </tr>\n",
       "    <tr>\n",
       "      <th>1</th>\n",
       "      <td>900001</td>\n",
       "      <td>-0.605598</td>\n",
       "      <td>-0.305715</td>\n",
       "      <td>0.627667</td>\n",
       "      <td>-0.578898</td>\n",
       "      <td>-1.750931</td>\n",
       "      <td>1.355550</td>\n",
       "      <td>-0.190911</td>\n",
       "      <td>1</td>\n",
       "      <td>3</td>\n",
       "      <td>...</td>\n",
       "      <td>2.382405</td>\n",
       "      <td>0.149442</td>\n",
       "      <td>1.883322</td>\n",
       "      <td>-2.848714</td>\n",
       "      <td>-0.725155</td>\n",
       "      <td>3.194219</td>\n",
       "      <td>AFABBAEGCB</td>\n",
       "      <td>-65.993825</td>\n",
       "      <td>1</td>\n",
       "      <td>0</td>\n",
       "    </tr>\n",
       "    <tr>\n",
       "      <th>2</th>\n",
       "      <td>900002</td>\n",
       "      <td>0.303990</td>\n",
       "      <td>2.445110</td>\n",
       "      <td>0.246515</td>\n",
       "      <td>0.818248</td>\n",
       "      <td>0.359731</td>\n",
       "      <td>-1.331845</td>\n",
       "      <td>1.358622</td>\n",
       "      <td>3</td>\n",
       "      <td>3</td>\n",
       "      <td>...</td>\n",
       "      <td>-7.026098</td>\n",
       "      <td>1.312277</td>\n",
       "      <td>-5.157192</td>\n",
       "      <td>1.714005</td>\n",
       "      <td>0.585032</td>\n",
       "      <td>0.066898</td>\n",
       "      <td>BBACABBKEE</td>\n",
       "      <td>-87.405622</td>\n",
       "      <td>0</td>\n",
       "      <td>1</td>\n",
       "    </tr>\n",
       "    <tr>\n",
       "      <th>3</th>\n",
       "      <td>900003</td>\n",
       "      <td>0.154053</td>\n",
       "      <td>0.260126</td>\n",
       "      <td>-1.367092</td>\n",
       "      <td>-0.093175</td>\n",
       "      <td>-1.111034</td>\n",
       "      <td>-0.948481</td>\n",
       "      <td>1.119220</td>\n",
       "      <td>0</td>\n",
       "      <td>0</td>\n",
       "      <td>...</td>\n",
       "      <td>-0.594532</td>\n",
       "      <td>-3.939475</td>\n",
       "      <td>1.754570</td>\n",
       "      <td>-2.364007</td>\n",
       "      <td>-1.003320</td>\n",
       "      <td>3.893099</td>\n",
       "      <td>AEBEAACQCC</td>\n",
       "      <td>-281.293460</td>\n",
       "      <td>0</td>\n",
       "      <td>0</td>\n",
       "    </tr>\n",
       "    <tr>\n",
       "      <th>4</th>\n",
       "      <td>900004</td>\n",
       "      <td>-1.651904</td>\n",
       "      <td>-0.424266</td>\n",
       "      <td>-0.667356</td>\n",
       "      <td>-0.322124</td>\n",
       "      <td>-0.089462</td>\n",
       "      <td>0.181705</td>\n",
       "      <td>1.784983</td>\n",
       "      <td>2</td>\n",
       "      <td>2</td>\n",
       "      <td>...</td>\n",
       "      <td>0.084906</td>\n",
       "      <td>-0.985736</td>\n",
       "      <td>-0.130467</td>\n",
       "      <td>-3.557893</td>\n",
       "      <td>1.210687</td>\n",
       "      <td>1.861884</td>\n",
       "      <td>AEBBBBDABF</td>\n",
       "      <td>25.629415</td>\n",
       "      <td>0</td>\n",
       "      <td>2</td>\n",
       "    </tr>\n",
       "  </tbody>\n",
       "</table>\n",
       "<p>5 rows × 32 columns</p>\n",
       "</div>"
      ],
      "text/plain": [
       "       id      f_00      f_01      f_02      f_03      f_04      f_05  \\\n",
       "0  900000  0.442517  0.174380 -0.999816  0.762741  0.186778 -1.074775   \n",
       "1  900001 -0.605598 -0.305715  0.627667 -0.578898 -1.750931  1.355550   \n",
       "2  900002  0.303990  2.445110  0.246515  0.818248  0.359731 -1.331845   \n",
       "3  900003  0.154053  0.260126 -1.367092 -0.093175 -1.111034 -0.948481   \n",
       "4  900004 -1.651904 -0.424266 -0.667356 -0.322124 -0.089462  0.181705   \n",
       "\n",
       "       f_06  f_07  f_08  ...      f_21      f_22      f_23      f_24  \\\n",
       "0  0.501888     6     6  ... -1.006400 -1.193879 -2.435736 -2.427430   \n",
       "1 -0.190911     1     3  ...  2.382405  0.149442  1.883322 -2.848714   \n",
       "2  1.358622     3     3  ... -7.026098  1.312277 -5.157192  1.714005   \n",
       "3  1.119220     0     0  ... -0.594532 -3.939475  1.754570 -2.364007   \n",
       "4  1.784983     2     2  ...  0.084906 -0.985736 -0.130467 -3.557893   \n",
       "\n",
       "       f_25      f_26        f_27        f_28  f_29  f_30  \n",
       "0 -1.966887  5.734205  BAAABADLAC   99.478419     0     0  \n",
       "1 -0.725155  3.194219  AFABBAEGCB  -65.993825     1     0  \n",
       "2  0.585032  0.066898  BBACABBKEE  -87.405622     0     1  \n",
       "3 -1.003320  3.893099  AEBEAACQCC -281.293460     0     0  \n",
       "4  1.210687  1.861884  AEBBBBDABF   25.629415     0     2  \n",
       "\n",
       "[5 rows x 32 columns]"
      ]
     },
     "execution_count": 23,
     "metadata": {},
     "output_type": "execute_result"
    }
   ],
   "source": [
    "test_df.head()"
   ]
  },
  {
   "cell_type": "code",
   "execution_count": 24,
   "id": "2fccbaa4",
   "metadata": {
    "execution": {
     "iopub.execute_input": "2022-05-21T19:38:53.479234Z",
     "iopub.status.busy": "2022-05-21T19:38:53.478410Z",
     "iopub.status.idle": "2022-05-21T19:38:53.502229Z",
     "shell.execute_reply": "2022-05-21T19:38:53.501480Z"
    },
    "papermill": {
     "duration": 0.078218,
     "end_time": "2022-05-21T19:38:53.504047",
     "exception": false,
     "start_time": "2022-05-21T19:38:53.425829",
     "status": "completed"
    },
    "tags": []
   },
   "outputs": [
    {
     "data": {
      "text/html": [
       "<div>\n",
       "<style scoped>\n",
       "    .dataframe tbody tr th:only-of-type {\n",
       "        vertical-align: middle;\n",
       "    }\n",
       "\n",
       "    .dataframe tbody tr th {\n",
       "        vertical-align: top;\n",
       "    }\n",
       "\n",
       "    .dataframe thead th {\n",
       "        text-align: right;\n",
       "    }\n",
       "</style>\n",
       "<table border=\"1\" class=\"dataframe\">\n",
       "  <thead>\n",
       "    <tr style=\"text-align: right;\">\n",
       "      <th></th>\n",
       "      <th>id</th>\n",
       "      <th>f_00</th>\n",
       "      <th>f_01</th>\n",
       "      <th>f_02</th>\n",
       "      <th>f_03</th>\n",
       "      <th>f_04</th>\n",
       "      <th>f_05</th>\n",
       "      <th>f_06</th>\n",
       "      <th>f_07</th>\n",
       "      <th>f_08</th>\n",
       "      <th>...</th>\n",
       "      <th>f_21</th>\n",
       "      <th>f_22</th>\n",
       "      <th>f_23</th>\n",
       "      <th>f_24</th>\n",
       "      <th>f_25</th>\n",
       "      <th>f_26</th>\n",
       "      <th>f_27</th>\n",
       "      <th>f_28</th>\n",
       "      <th>f_29</th>\n",
       "      <th>f_30</th>\n",
       "    </tr>\n",
       "  </thead>\n",
       "  <tbody>\n",
       "    <tr>\n",
       "      <th>699995</th>\n",
       "      <td>1599995</td>\n",
       "      <td>0.640110</td>\n",
       "      <td>0.897808</td>\n",
       "      <td>-0.523956</td>\n",
       "      <td>1.563760</td>\n",
       "      <td>-0.092281</td>\n",
       "      <td>-0.610867</td>\n",
       "      <td>0.535426</td>\n",
       "      <td>0</td>\n",
       "      <td>1</td>\n",
       "      <td>...</td>\n",
       "      <td>2.604048</td>\n",
       "      <td>1.122867</td>\n",
       "      <td>0.518110</td>\n",
       "      <td>1.243837</td>\n",
       "      <td>0.575111</td>\n",
       "      <td>0.076372</td>\n",
       "      <td>BCBCEBHMCD</td>\n",
       "      <td>204.186539</td>\n",
       "      <td>0</td>\n",
       "      <td>0</td>\n",
       "    </tr>\n",
       "    <tr>\n",
       "      <th>699996</th>\n",
       "      <td>1599996</td>\n",
       "      <td>-0.191771</td>\n",
       "      <td>-0.035246</td>\n",
       "      <td>-0.118533</td>\n",
       "      <td>0.584750</td>\n",
       "      <td>2.126977</td>\n",
       "      <td>0.568659</td>\n",
       "      <td>-0.052663</td>\n",
       "      <td>4</td>\n",
       "      <td>3</td>\n",
       "      <td>...</td>\n",
       "      <td>3.029857</td>\n",
       "      <td>1.384682</td>\n",
       "      <td>-1.135740</td>\n",
       "      <td>2.982713</td>\n",
       "      <td>-1.511760</td>\n",
       "      <td>2.225218</td>\n",
       "      <td>BAABCADQFC</td>\n",
       "      <td>-97.694591</td>\n",
       "      <td>0</td>\n",
       "      <td>2</td>\n",
       "    </tr>\n",
       "    <tr>\n",
       "      <th>699997</th>\n",
       "      <td>1599997</td>\n",
       "      <td>-0.331704</td>\n",
       "      <td>-0.328845</td>\n",
       "      <td>-1.185503</td>\n",
       "      <td>1.022128</td>\n",
       "      <td>-0.483099</td>\n",
       "      <td>-0.107146</td>\n",
       "      <td>-0.968281</td>\n",
       "      <td>1</td>\n",
       "      <td>1</td>\n",
       "      <td>...</td>\n",
       "      <td>4.021273</td>\n",
       "      <td>-1.845266</td>\n",
       "      <td>1.096011</td>\n",
       "      <td>-2.734508</td>\n",
       "      <td>-4.885955</td>\n",
       "      <td>-2.248739</td>\n",
       "      <td>AAAJCBGQBA</td>\n",
       "      <td>130.622745</td>\n",
       "      <td>1</td>\n",
       "      <td>0</td>\n",
       "    </tr>\n",
       "    <tr>\n",
       "      <th>699998</th>\n",
       "      <td>1599998</td>\n",
       "      <td>-2.031073</td>\n",
       "      <td>-1.238398</td>\n",
       "      <td>0.964699</td>\n",
       "      <td>-1.045950</td>\n",
       "      <td>0.906064</td>\n",
       "      <td>0.634301</td>\n",
       "      <td>-0.707474</td>\n",
       "      <td>5</td>\n",
       "      <td>1</td>\n",
       "      <td>...</td>\n",
       "      <td>1.453864</td>\n",
       "      <td>-1.696606</td>\n",
       "      <td>1.018995</td>\n",
       "      <td>1.973697</td>\n",
       "      <td>-0.353068</td>\n",
       "      <td>-3.333449</td>\n",
       "      <td>BCBBCABNDE</td>\n",
       "      <td>-364.625148</td>\n",
       "      <td>0</td>\n",
       "      <td>0</td>\n",
       "    </tr>\n",
       "    <tr>\n",
       "      <th>699999</th>\n",
       "      <td>1599999</td>\n",
       "      <td>-0.085906</td>\n",
       "      <td>-0.002124</td>\n",
       "      <td>2.227375</td>\n",
       "      <td>0.217145</td>\n",
       "      <td>3.179153</td>\n",
       "      <td>-1.660188</td>\n",
       "      <td>0.891989</td>\n",
       "      <td>0</td>\n",
       "      <td>3</td>\n",
       "      <td>...</td>\n",
       "      <td>-3.549082</td>\n",
       "      <td>-4.325318</td>\n",
       "      <td>-5.017221</td>\n",
       "      <td>0.251268</td>\n",
       "      <td>-3.236026</td>\n",
       "      <td>-0.362070</td>\n",
       "      <td>AFBEBACHFF</td>\n",
       "      <td>-155.417342</td>\n",
       "      <td>0</td>\n",
       "      <td>1</td>\n",
       "    </tr>\n",
       "  </tbody>\n",
       "</table>\n",
       "<p>5 rows × 32 columns</p>\n",
       "</div>"
      ],
      "text/plain": [
       "             id      f_00      f_01      f_02      f_03      f_04      f_05  \\\n",
       "699995  1599995  0.640110  0.897808 -0.523956  1.563760 -0.092281 -0.610867   \n",
       "699996  1599996 -0.191771 -0.035246 -0.118533  0.584750  2.126977  0.568659   \n",
       "699997  1599997 -0.331704 -0.328845 -1.185503  1.022128 -0.483099 -0.107146   \n",
       "699998  1599998 -2.031073 -1.238398  0.964699 -1.045950  0.906064  0.634301   \n",
       "699999  1599999 -0.085906 -0.002124  2.227375  0.217145  3.179153 -1.660188   \n",
       "\n",
       "            f_06  f_07  f_08  ...      f_21      f_22      f_23      f_24  \\\n",
       "699995  0.535426     0     1  ...  2.604048  1.122867  0.518110  1.243837   \n",
       "699996 -0.052663     4     3  ...  3.029857  1.384682 -1.135740  2.982713   \n",
       "699997 -0.968281     1     1  ...  4.021273 -1.845266  1.096011 -2.734508   \n",
       "699998 -0.707474     5     1  ...  1.453864 -1.696606  1.018995  1.973697   \n",
       "699999  0.891989     0     3  ... -3.549082 -4.325318 -5.017221  0.251268   \n",
       "\n",
       "            f_25      f_26        f_27        f_28  f_29  f_30  \n",
       "699995  0.575111  0.076372  BCBCEBHMCD  204.186539     0     0  \n",
       "699996 -1.511760  2.225218  BAABCADQFC  -97.694591     0     2  \n",
       "699997 -4.885955 -2.248739  AAAJCBGQBA  130.622745     1     0  \n",
       "699998 -0.353068 -3.333449  BCBBCABNDE -364.625148     0     0  \n",
       "699999 -3.236026 -0.362070  AFBEBACHFF -155.417342     0     1  \n",
       "\n",
       "[5 rows x 32 columns]"
      ]
     },
     "execution_count": 24,
     "metadata": {},
     "output_type": "execute_result"
    }
   ],
   "source": [
    "test_df.tail()"
   ]
  },
  {
   "cell_type": "code",
   "execution_count": 25,
   "id": "fad47960",
   "metadata": {
    "execution": {
     "iopub.execute_input": "2022-05-21T19:38:53.609444Z",
     "iopub.status.busy": "2022-05-21T19:38:53.609176Z",
     "iopub.status.idle": "2022-05-21T19:38:53.730924Z",
     "shell.execute_reply": "2022-05-21T19:38:53.729987Z"
    },
    "papermill": {
     "duration": 0.177532,
     "end_time": "2022-05-21T19:38:53.733446",
     "exception": false,
     "start_time": "2022-05-21T19:38:53.555914",
     "status": "completed"
    },
    "tags": []
   },
   "outputs": [],
   "source": [
    "test_df.drop('id', axis=1, inplace=True)"
   ]
  },
  {
   "cell_type": "code",
   "execution_count": 26,
   "id": "4727bead",
   "metadata": {
    "execution": {
     "iopub.execute_input": "2022-05-21T19:38:53.852307Z",
     "iopub.status.busy": "2022-05-21T19:38:53.851343Z",
     "iopub.status.idle": "2022-05-21T19:38:53.858729Z",
     "shell.execute_reply": "2022-05-21T19:38:53.858183Z"
    },
    "papermill": {
     "duration": 0.068161,
     "end_time": "2022-05-21T19:38:53.860575",
     "exception": false,
     "start_time": "2022-05-21T19:38:53.792414",
     "status": "completed"
    },
    "tags": []
   },
   "outputs": [
    {
     "data": {
      "text/plain": [
       "float64    16\n",
       "int64      14\n",
       "object      1\n",
       "dtype: int64"
      ]
     },
     "execution_count": 26,
     "metadata": {},
     "output_type": "execute_result"
    }
   ],
   "source": [
    "pd.value_counts(test_df.dtypes)"
   ]
  },
  {
   "cell_type": "code",
   "execution_count": 27,
   "id": "c1877a21",
   "metadata": {
    "execution": {
     "iopub.execute_input": "2022-05-21T19:38:53.982173Z",
     "iopub.status.busy": "2022-05-21T19:38:53.981420Z",
     "iopub.status.idle": "2022-05-21T19:38:54.801631Z",
     "shell.execute_reply": "2022-05-21T19:38:54.801113Z"
    },
    "papermill": {
     "duration": 0.882361,
     "end_time": "2022-05-21T19:38:54.803374",
     "exception": false,
     "start_time": "2022-05-21T19:38:53.921013",
     "status": "completed"
    },
    "tags": []
   },
   "outputs": [
    {
     "data": {
      "text/html": [
       "<div>\n",
       "<style scoped>\n",
       "    .dataframe tbody tr th:only-of-type {\n",
       "        vertical-align: middle;\n",
       "    }\n",
       "\n",
       "    .dataframe tbody tr th {\n",
       "        vertical-align: top;\n",
       "    }\n",
       "\n",
       "    .dataframe thead th {\n",
       "        text-align: right;\n",
       "    }\n",
       "</style>\n",
       "<table border=\"1\" class=\"dataframe\">\n",
       "  <thead>\n",
       "    <tr style=\"text-align: right;\">\n",
       "      <th></th>\n",
       "      <th>count</th>\n",
       "      <th>mean</th>\n",
       "      <th>std</th>\n",
       "      <th>min</th>\n",
       "      <th>25%</th>\n",
       "      <th>50%</th>\n",
       "      <th>75%</th>\n",
       "      <th>max</th>\n",
       "    </tr>\n",
       "  </thead>\n",
       "  <tbody>\n",
       "    <tr>\n",
       "      <th>f_00</th>\n",
       "      <td>700000.0</td>\n",
       "      <td>-0.000087</td>\n",
       "      <td>1.000264</td>\n",
       "      <td>-4.658018</td>\n",
       "      <td>-0.675708</td>\n",
       "      <td>-0.000395</td>\n",
       "      <td>0.675788</td>\n",
       "      <td>5.761950</td>\n",
       "    </tr>\n",
       "    <tr>\n",
       "      <th>f_01</th>\n",
       "      <td>700000.0</td>\n",
       "      <td>-0.000732</td>\n",
       "      <td>0.997131</td>\n",
       "      <td>-4.922718</td>\n",
       "      <td>-0.674040</td>\n",
       "      <td>-0.000241</td>\n",
       "      <td>0.671415</td>\n",
       "      <td>4.768073</td>\n",
       "    </tr>\n",
       "    <tr>\n",
       "      <th>f_02</th>\n",
       "      <td>700000.0</td>\n",
       "      <td>-0.000385</td>\n",
       "      <td>1.000317</td>\n",
       "      <td>-4.457561</td>\n",
       "      <td>-0.675961</td>\n",
       "      <td>-0.000723</td>\n",
       "      <td>0.673105</td>\n",
       "      <td>4.599902</td>\n",
       "    </tr>\n",
       "    <tr>\n",
       "      <th>f_03</th>\n",
       "      <td>700000.0</td>\n",
       "      <td>0.000705</td>\n",
       "      <td>1.001758</td>\n",
       "      <td>-4.567419</td>\n",
       "      <td>-0.674561</td>\n",
       "      <td>-0.000294</td>\n",
       "      <td>0.676376</td>\n",
       "      <td>4.899904</td>\n",
       "    </tr>\n",
       "    <tr>\n",
       "      <th>f_04</th>\n",
       "      <td>700000.0</td>\n",
       "      <td>0.000800</td>\n",
       "      <td>0.999088</td>\n",
       "      <td>-4.675301</td>\n",
       "      <td>-0.674696</td>\n",
       "      <td>0.000276</td>\n",
       "      <td>0.674542</td>\n",
       "      <td>4.494312</td>\n",
       "    </tr>\n",
       "    <tr>\n",
       "      <th>f_05</th>\n",
       "      <td>700000.0</td>\n",
       "      <td>-0.000468</td>\n",
       "      <td>1.000249</td>\n",
       "      <td>-5.141356</td>\n",
       "      <td>-0.674444</td>\n",
       "      <td>-0.001674</td>\n",
       "      <td>0.674146</td>\n",
       "      <td>4.701004</td>\n",
       "    </tr>\n",
       "    <tr>\n",
       "      <th>f_06</th>\n",
       "      <td>700000.0</td>\n",
       "      <td>0.002550</td>\n",
       "      <td>0.999536</td>\n",
       "      <td>-4.782164</td>\n",
       "      <td>-0.671481</td>\n",
       "      <td>0.002623</td>\n",
       "      <td>0.676590</td>\n",
       "      <td>4.673145</td>\n",
       "    </tr>\n",
       "    <tr>\n",
       "      <th>f_07</th>\n",
       "      <td>700000.0</td>\n",
       "      <td>2.030819</td>\n",
       "      <td>1.655909</td>\n",
       "      <td>0.000000</td>\n",
       "      <td>1.000000</td>\n",
       "      <td>2.000000</td>\n",
       "      <td>3.000000</td>\n",
       "      <td>16.000000</td>\n",
       "    </tr>\n",
       "    <tr>\n",
       "      <th>f_08</th>\n",
       "      <td>700000.0</td>\n",
       "      <td>2.056923</td>\n",
       "      <td>1.591726</td>\n",
       "      <td>0.000000</td>\n",
       "      <td>1.000000</td>\n",
       "      <td>2.000000</td>\n",
       "      <td>3.000000</td>\n",
       "      <td>13.000000</td>\n",
       "    </tr>\n",
       "    <tr>\n",
       "      <th>f_09</th>\n",
       "      <td>700000.0</td>\n",
       "      <td>2.361191</td>\n",
       "      <td>1.636695</td>\n",
       "      <td>0.000000</td>\n",
       "      <td>1.000000</td>\n",
       "      <td>2.000000</td>\n",
       "      <td>3.000000</td>\n",
       "      <td>16.000000</td>\n",
       "    </tr>\n",
       "    <tr>\n",
       "      <th>f_10</th>\n",
       "      <td>700000.0</td>\n",
       "      <td>2.177039</td>\n",
       "      <td>1.645091</td>\n",
       "      <td>0.000000</td>\n",
       "      <td>1.000000</td>\n",
       "      <td>2.000000</td>\n",
       "      <td>3.000000</td>\n",
       "      <td>15.000000</td>\n",
       "    </tr>\n",
       "    <tr>\n",
       "      <th>f_11</th>\n",
       "      <td>700000.0</td>\n",
       "      <td>1.805657</td>\n",
       "      <td>1.538799</td>\n",
       "      <td>0.000000</td>\n",
       "      <td>1.000000</td>\n",
       "      <td>2.000000</td>\n",
       "      <td>3.000000</td>\n",
       "      <td>14.000000</td>\n",
       "    </tr>\n",
       "    <tr>\n",
       "      <th>f_12</th>\n",
       "      <td>700000.0</td>\n",
       "      <td>2.842740</td>\n",
       "      <td>1.760832</td>\n",
       "      <td>0.000000</td>\n",
       "      <td>2.000000</td>\n",
       "      <td>3.000000</td>\n",
       "      <td>4.000000</td>\n",
       "      <td>15.000000</td>\n",
       "    </tr>\n",
       "    <tr>\n",
       "      <th>f_13</th>\n",
       "      <td>700000.0</td>\n",
       "      <td>2.238527</td>\n",
       "      <td>1.536974</td>\n",
       "      <td>0.000000</td>\n",
       "      <td>1.000000</td>\n",
       "      <td>2.000000</td>\n",
       "      <td>3.000000</td>\n",
       "      <td>13.000000</td>\n",
       "    </tr>\n",
       "    <tr>\n",
       "      <th>f_14</th>\n",
       "      <td>700000.0</td>\n",
       "      <td>1.515723</td>\n",
       "      <td>1.362391</td>\n",
       "      <td>0.000000</td>\n",
       "      <td>0.000000</td>\n",
       "      <td>1.000000</td>\n",
       "      <td>2.000000</td>\n",
       "      <td>12.000000</td>\n",
       "    </tr>\n",
       "    <tr>\n",
       "      <th>f_15</th>\n",
       "      <td>700000.0</td>\n",
       "      <td>2.100389</td>\n",
       "      <td>1.569004</td>\n",
       "      <td>0.000000</td>\n",
       "      <td>1.000000</td>\n",
       "      <td>2.000000</td>\n",
       "      <td>3.000000</td>\n",
       "      <td>14.000000</td>\n",
       "    </tr>\n",
       "    <tr>\n",
       "      <th>f_16</th>\n",
       "      <td>700000.0</td>\n",
       "      <td>2.093906</td>\n",
       "      <td>1.560600</td>\n",
       "      <td>0.000000</td>\n",
       "      <td>1.000000</td>\n",
       "      <td>2.000000</td>\n",
       "      <td>3.000000</td>\n",
       "      <td>13.000000</td>\n",
       "    </tr>\n",
       "    <tr>\n",
       "      <th>f_17</th>\n",
       "      <td>700000.0</td>\n",
       "      <td>1.858311</td>\n",
       "      <td>1.468490</td>\n",
       "      <td>0.000000</td>\n",
       "      <td>1.000000</td>\n",
       "      <td>2.000000</td>\n",
       "      <td>3.000000</td>\n",
       "      <td>13.000000</td>\n",
       "    </tr>\n",
       "    <tr>\n",
       "      <th>f_18</th>\n",
       "      <td>700000.0</td>\n",
       "      <td>2.068114</td>\n",
       "      <td>1.564251</td>\n",
       "      <td>0.000000</td>\n",
       "      <td>1.000000</td>\n",
       "      <td>2.000000</td>\n",
       "      <td>3.000000</td>\n",
       "      <td>13.000000</td>\n",
       "    </tr>\n",
       "    <tr>\n",
       "      <th>f_19</th>\n",
       "      <td>700000.0</td>\n",
       "      <td>0.307276</td>\n",
       "      <td>2.314931</td>\n",
       "      <td>-11.419021</td>\n",
       "      <td>-1.237384</td>\n",
       "      <td>0.326496</td>\n",
       "      <td>1.874264</td>\n",
       "      <td>11.780426</td>\n",
       "    </tr>\n",
       "    <tr>\n",
       "      <th>f_20</th>\n",
       "      <td>700000.0</td>\n",
       "      <td>-0.173972</td>\n",
       "      <td>2.397938</td>\n",
       "      <td>-11.089910</td>\n",
       "      <td>-1.794757</td>\n",
       "      <td>-0.184945</td>\n",
       "      <td>1.447103</td>\n",
       "      <td>10.691366</td>\n",
       "    </tr>\n",
       "    <tr>\n",
       "      <th>f_21</th>\n",
       "      <td>700000.0</td>\n",
       "      <td>-0.153938</td>\n",
       "      <td>2.484198</td>\n",
       "      <td>-12.186778</td>\n",
       "      <td>-1.816739</td>\n",
       "      <td>-0.149100</td>\n",
       "      <td>1.508052</td>\n",
       "      <td>11.999494</td>\n",
       "    </tr>\n",
       "    <tr>\n",
       "      <th>f_22</th>\n",
       "      <td>700000.0</td>\n",
       "      <td>-0.005623</td>\n",
       "      <td>2.450907</td>\n",
       "      <td>-11.700814</td>\n",
       "      <td>-1.641035</td>\n",
       "      <td>0.033726</td>\n",
       "      <td>1.664146</td>\n",
       "      <td>10.991597</td>\n",
       "    </tr>\n",
       "    <tr>\n",
       "      <th>f_23</th>\n",
       "      <td>700000.0</td>\n",
       "      <td>-0.371983</td>\n",
       "      <td>2.452619</td>\n",
       "      <td>-12.104478</td>\n",
       "      <td>-2.021342</td>\n",
       "      <td>-0.396281</td>\n",
       "      <td>1.251361</td>\n",
       "      <td>11.366652</td>\n",
       "    </tr>\n",
       "    <tr>\n",
       "      <th>f_24</th>\n",
       "      <td>700000.0</td>\n",
       "      <td>-0.340683</td>\n",
       "      <td>2.388938</td>\n",
       "      <td>-11.838417</td>\n",
       "      <td>-1.948923</td>\n",
       "      <td>-0.339431</td>\n",
       "      <td>1.269879</td>\n",
       "      <td>10.236546</td>\n",
       "    </tr>\n",
       "    <tr>\n",
       "      <th>f_25</th>\n",
       "      <td>700000.0</td>\n",
       "      <td>0.174245</td>\n",
       "      <td>2.417555</td>\n",
       "      <td>-13.312784</td>\n",
       "      <td>-1.443815</td>\n",
       "      <td>0.165229</td>\n",
       "      <td>1.794429</td>\n",
       "      <td>11.294340</td>\n",
       "    </tr>\n",
       "    <tr>\n",
       "      <th>f_26</th>\n",
       "      <td>700000.0</td>\n",
       "      <td>0.356288</td>\n",
       "      <td>2.477713</td>\n",
       "      <td>-13.462486</td>\n",
       "      <td>-1.263991</td>\n",
       "      <td>0.399981</td>\n",
       "      <td>2.025163</td>\n",
       "      <td>12.811976</td>\n",
       "    </tr>\n",
       "    <tr>\n",
       "      <th>f_28</th>\n",
       "      <td>700000.0</td>\n",
       "      <td>0.604213</td>\n",
       "      <td>238.888993</td>\n",
       "      <td>-1204.243716</td>\n",
       "      <td>-158.660917</td>\n",
       "      <td>0.671386</td>\n",
       "      <td>159.789006</td>\n",
       "      <td>1141.957328</td>\n",
       "    </tr>\n",
       "    <tr>\n",
       "      <th>f_29</th>\n",
       "      <td>700000.0</td>\n",
       "      <td>0.346090</td>\n",
       "      <td>0.475723</td>\n",
       "      <td>0.000000</td>\n",
       "      <td>0.000000</td>\n",
       "      <td>0.000000</td>\n",
       "      <td>1.000000</td>\n",
       "      <td>1.000000</td>\n",
       "    </tr>\n",
       "    <tr>\n",
       "      <th>f_30</th>\n",
       "      <td>700000.0</td>\n",
       "      <td>1.003081</td>\n",
       "      <td>0.819673</td>\n",
       "      <td>0.000000</td>\n",
       "      <td>0.000000</td>\n",
       "      <td>1.000000</td>\n",
       "      <td>2.000000</td>\n",
       "      <td>2.000000</td>\n",
       "    </tr>\n",
       "  </tbody>\n",
       "</table>\n",
       "</div>"
      ],
      "text/plain": [
       "         count      mean         std          min         25%       50%  \\\n",
       "f_00  700000.0 -0.000087    1.000264    -4.658018   -0.675708 -0.000395   \n",
       "f_01  700000.0 -0.000732    0.997131    -4.922718   -0.674040 -0.000241   \n",
       "f_02  700000.0 -0.000385    1.000317    -4.457561   -0.675961 -0.000723   \n",
       "f_03  700000.0  0.000705    1.001758    -4.567419   -0.674561 -0.000294   \n",
       "f_04  700000.0  0.000800    0.999088    -4.675301   -0.674696  0.000276   \n",
       "f_05  700000.0 -0.000468    1.000249    -5.141356   -0.674444 -0.001674   \n",
       "f_06  700000.0  0.002550    0.999536    -4.782164   -0.671481  0.002623   \n",
       "f_07  700000.0  2.030819    1.655909     0.000000    1.000000  2.000000   \n",
       "f_08  700000.0  2.056923    1.591726     0.000000    1.000000  2.000000   \n",
       "f_09  700000.0  2.361191    1.636695     0.000000    1.000000  2.000000   \n",
       "f_10  700000.0  2.177039    1.645091     0.000000    1.000000  2.000000   \n",
       "f_11  700000.0  1.805657    1.538799     0.000000    1.000000  2.000000   \n",
       "f_12  700000.0  2.842740    1.760832     0.000000    2.000000  3.000000   \n",
       "f_13  700000.0  2.238527    1.536974     0.000000    1.000000  2.000000   \n",
       "f_14  700000.0  1.515723    1.362391     0.000000    0.000000  1.000000   \n",
       "f_15  700000.0  2.100389    1.569004     0.000000    1.000000  2.000000   \n",
       "f_16  700000.0  2.093906    1.560600     0.000000    1.000000  2.000000   \n",
       "f_17  700000.0  1.858311    1.468490     0.000000    1.000000  2.000000   \n",
       "f_18  700000.0  2.068114    1.564251     0.000000    1.000000  2.000000   \n",
       "f_19  700000.0  0.307276    2.314931   -11.419021   -1.237384  0.326496   \n",
       "f_20  700000.0 -0.173972    2.397938   -11.089910   -1.794757 -0.184945   \n",
       "f_21  700000.0 -0.153938    2.484198   -12.186778   -1.816739 -0.149100   \n",
       "f_22  700000.0 -0.005623    2.450907   -11.700814   -1.641035  0.033726   \n",
       "f_23  700000.0 -0.371983    2.452619   -12.104478   -2.021342 -0.396281   \n",
       "f_24  700000.0 -0.340683    2.388938   -11.838417   -1.948923 -0.339431   \n",
       "f_25  700000.0  0.174245    2.417555   -13.312784   -1.443815  0.165229   \n",
       "f_26  700000.0  0.356288    2.477713   -13.462486   -1.263991  0.399981   \n",
       "f_28  700000.0  0.604213  238.888993 -1204.243716 -158.660917  0.671386   \n",
       "f_29  700000.0  0.346090    0.475723     0.000000    0.000000  0.000000   \n",
       "f_30  700000.0  1.003081    0.819673     0.000000    0.000000  1.000000   \n",
       "\n",
       "             75%          max  \n",
       "f_00    0.675788     5.761950  \n",
       "f_01    0.671415     4.768073  \n",
       "f_02    0.673105     4.599902  \n",
       "f_03    0.676376     4.899904  \n",
       "f_04    0.674542     4.494312  \n",
       "f_05    0.674146     4.701004  \n",
       "f_06    0.676590     4.673145  \n",
       "f_07    3.000000    16.000000  \n",
       "f_08    3.000000    13.000000  \n",
       "f_09    3.000000    16.000000  \n",
       "f_10    3.000000    15.000000  \n",
       "f_11    3.000000    14.000000  \n",
       "f_12    4.000000    15.000000  \n",
       "f_13    3.000000    13.000000  \n",
       "f_14    2.000000    12.000000  \n",
       "f_15    3.000000    14.000000  \n",
       "f_16    3.000000    13.000000  \n",
       "f_17    3.000000    13.000000  \n",
       "f_18    3.000000    13.000000  \n",
       "f_19    1.874264    11.780426  \n",
       "f_20    1.447103    10.691366  \n",
       "f_21    1.508052    11.999494  \n",
       "f_22    1.664146    10.991597  \n",
       "f_23    1.251361    11.366652  \n",
       "f_24    1.269879    10.236546  \n",
       "f_25    1.794429    11.294340  \n",
       "f_26    2.025163    12.811976  \n",
       "f_28  159.789006  1141.957328  \n",
       "f_29    1.000000     1.000000  \n",
       "f_30    2.000000     2.000000  "
      ]
     },
     "execution_count": 27,
     "metadata": {},
     "output_type": "execute_result"
    }
   ],
   "source": [
    "test_df.describe(include='number').T"
   ]
  },
  {
   "cell_type": "code",
   "execution_count": 28,
   "id": "416cdbf6",
   "metadata": {
    "execution": {
     "iopub.execute_input": "2022-05-21T19:38:54.926335Z",
     "iopub.status.busy": "2022-05-21T19:38:54.925872Z",
     "iopub.status.idle": "2022-05-21T19:38:55.638273Z",
     "shell.execute_reply": "2022-05-21T19:38:55.637783Z"
    },
    "papermill": {
     "duration": 0.776431,
     "end_time": "2022-05-21T19:38:55.640077",
     "exception": false,
     "start_time": "2022-05-21T19:38:54.863646",
     "status": "completed"
    },
    "tags": []
   },
   "outputs": [
    {
     "data": {
      "text/html": [
       "<div>\n",
       "<style scoped>\n",
       "    .dataframe tbody tr th:only-of-type {\n",
       "        vertical-align: middle;\n",
       "    }\n",
       "\n",
       "    .dataframe tbody tr th {\n",
       "        vertical-align: top;\n",
       "    }\n",
       "\n",
       "    .dataframe thead th {\n",
       "        text-align: right;\n",
       "    }\n",
       "</style>\n",
       "<table border=\"1\" class=\"dataframe\">\n",
       "  <thead>\n",
       "    <tr style=\"text-align: right;\">\n",
       "      <th></th>\n",
       "      <th>count</th>\n",
       "      <th>unique</th>\n",
       "      <th>top</th>\n",
       "      <th>freq</th>\n",
       "    </tr>\n",
       "  </thead>\n",
       "  <tbody>\n",
       "    <tr>\n",
       "      <th>f_27</th>\n",
       "      <td>700000</td>\n",
       "      <td>598482</td>\n",
       "      <td>BCBCBBCTBC</td>\n",
       "      <td>9</td>\n",
       "    </tr>\n",
       "  </tbody>\n",
       "</table>\n",
       "</div>"
      ],
      "text/plain": [
       "       count  unique         top freq\n",
       "f_27  700000  598482  BCBCBBCTBC    9"
      ]
     },
     "execution_count": 28,
     "metadata": {},
     "output_type": "execute_result"
    }
   ],
   "source": [
    "test_df.describe(exclude='number').T"
   ]
  },
  {
   "cell_type": "code",
   "execution_count": 29,
   "id": "3942de43",
   "metadata": {
    "execution": {
     "iopub.execute_input": "2022-05-21T19:38:55.766669Z",
     "iopub.status.busy": "2022-05-21T19:38:55.766410Z",
     "iopub.status.idle": "2022-05-21T19:38:57.272637Z",
     "shell.execute_reply": "2022-05-21T19:38:57.271485Z"
    },
    "papermill": {
     "duration": 1.572954,
     "end_time": "2022-05-21T19:38:57.276404",
     "exception": false,
     "start_time": "2022-05-21T19:38:55.703450",
     "status": "completed"
    },
    "tags": []
   },
   "outputs": [
    {
     "data": {
      "text/plain": [
       "<AxesSubplot:title={'center':'Unique Values per feature'}>"
      ]
     },
     "execution_count": 29,
     "metadata": {},
     "output_type": "execute_result"
    },
    {
     "data": {
      "image/png": "[encoded data removed]",
      "text/plain": [
       "<Figure size 1080x576 with 1 Axes>"
      ]
     },
     "metadata": {
      "needs_background": "light"
     },
     "output_type": "display_data"
    }
   ],
   "source": [
    "unique_values = test_df.select_dtypes(include='number').nunique().sort_values()\n",
    "\n",
    "unique_values.plot.bar(logy=True, figsize=(15, 8), title='Unique Values per feature')"
   ]
  },
  {
   "cell_type": "code",
   "execution_count": 30,
   "id": "fed79aeb",
   "metadata": {
    "execution": {
     "iopub.execute_input": "2022-05-21T19:38:57.455728Z",
     "iopub.status.busy": "2022-05-21T19:38:57.454908Z",
     "iopub.status.idle": "2022-05-21T19:38:58.097641Z",
     "shell.execute_reply": "2022-05-21T19:38:58.096854Z"
    },
    "papermill": {
     "duration": 0.738218,
     "end_time": "2022-05-21T19:38:58.100022",
     "exception": false,
     "start_time": "2022-05-21T19:38:57.361804",
     "status": "completed"
    },
    "tags": []
   },
   "outputs": [
    {
     "data": {
      "text/plain": [
       "<AxesSubplot:title={'center':'Unique Values per feature'}>"
      ]
     },
     "execution_count": 30,
     "metadata": {},
     "output_type": "execute_result"
    },
    {
     "data": {
      "image/png": "[encoded data removed]",
      "text/plain": [
       "<Figure size 1080x576 with 1 Axes>"
      ]
     },
     "metadata": {
      "needs_background": "light"
     },
     "output_type": "display_data"
    }
   ],
   "source": [
    "unique_values = test_df.select_dtypes(exclude='number').nunique().sort_values()\n",
    "\n",
    "unique_values.plot.bar(logy=True, figsize=(15, 8), title='Unique Values per feature')"
   ]
  },
  {
   "cell_type": "code",
   "execution_count": 31,
   "id": "71e8c289",
   "metadata": {
    "execution": {
     "iopub.execute_input": "2022-05-21T19:38:58.222986Z",
     "iopub.status.busy": "2022-05-21T19:38:58.222037Z",
     "iopub.status.idle": "2022-05-21T19:39:00.225258Z",
     "shell.execute_reply": "2022-05-21T19:39:00.224457Z"
    },
    "papermill": {
     "duration": 2.067575,
     "end_time": "2022-05-21T19:39:00.227448",
     "exception": false,
     "start_time": "2022-05-21T19:38:58.159873",
     "status": "completed"
    },
    "tags": []
   },
   "outputs": [
    {
     "name": "stdout",
     "output_type": "stream",
     "text": [
      "There are 0 duplicates samples.\n"
     ]
    }
   ],
   "source": [
    "n_duplicates = test_df.duplicated().sum()\n",
    "print(f\"There are {n_duplicates} duplicates samples.\")"
   ]
  },
  {
   "cell_type": "code",
   "execution_count": 32,
   "id": "21b378e5",
   "metadata": {
    "execution": {
     "iopub.execute_input": "2022-05-21T19:39:00.339197Z",
     "iopub.status.busy": "2022-05-21T19:39:00.338761Z",
     "iopub.status.idle": "2022-05-21T19:39:00.450121Z",
     "shell.execute_reply": "2022-05-21T19:39:00.449314Z"
    },
    "papermill": {
     "duration": 0.169097,
     "end_time": "2022-05-21T19:39:00.451972",
     "exception": false,
     "start_time": "2022-05-21T19:39:00.282875",
     "status": "completed"
    },
    "tags": []
   },
   "outputs": [
    {
     "name": "stdout",
     "output_type": "stream",
     "text": [
      "Missing values per feature: f_00    0\n",
      "f_01    0\n",
      "f_02    0\n",
      "f_03    0\n",
      "f_04    0\n",
      "f_05    0\n",
      "f_06    0\n",
      "f_07    0\n",
      "f_08    0\n",
      "f_09    0\n",
      "f_10    0\n",
      "f_11    0\n",
      "f_12    0\n",
      "f_13    0\n",
      "f_14    0\n",
      "f_15    0\n",
      "f_16    0\n",
      "f_17    0\n",
      "f_18    0\n",
      "f_19    0\n",
      "f_20    0\n",
      "f_21    0\n",
      "f_22    0\n",
      "f_23    0\n",
      "f_24    0\n",
      "f_25    0\n",
      "f_26    0\n",
      "f_27    0\n",
      "f_28    0\n",
      "f_29    0\n",
      "f_30    0\n",
      "dtype: int64\n"
     ]
    }
   ],
   "source": [
    "missing = test_df.isnull().sum()\n",
    "print(f\"Missing values per feature: {missing}\")"
   ]
  },
  {
   "cell_type": "code",
   "execution_count": 33,
   "id": "37a7990a",
   "metadata": {
    "execution": {
     "iopub.execute_input": "2022-05-21T19:39:00.564547Z",
     "iopub.status.busy": "2022-05-21T19:39:00.563903Z",
     "iopub.status.idle": "2022-05-21T19:39:04.845447Z",
     "shell.execute_reply": "2022-05-21T19:39:04.844498Z"
    },
    "papermill": {
     "duration": 4.34094,
     "end_time": "2022-05-21T19:39:04.847375",
     "exception": false,
     "start_time": "2022-05-21T19:39:00.506435",
     "status": "completed"
    },
    "tags": []
   },
   "outputs": [
    {
     "data": {
      "text/plain": [
       "array([[<AxesSubplot:title={'center':'f_00'}>,\n",
       "        <AxesSubplot:title={'center':'f_01'}>,\n",
       "        <AxesSubplot:title={'center':'f_02'}>,\n",
       "        <AxesSubplot:title={'center':'f_03'}>,\n",
       "        <AxesSubplot:title={'center':'f_04'}>],\n",
       "       [<AxesSubplot:title={'center':'f_05'}>,\n",
       "        <AxesSubplot:title={'center':'f_06'}>,\n",
       "        <AxesSubplot:title={'center':'f_07'}>,\n",
       "        <AxesSubplot:title={'center':'f_08'}>,\n",
       "        <AxesSubplot:title={'center':'f_09'}>],\n",
       "       [<AxesSubplot:title={'center':'f_10'}>,\n",
       "        <AxesSubplot:title={'center':'f_11'}>,\n",
       "        <AxesSubplot:title={'center':'f_12'}>,\n",
       "        <AxesSubplot:title={'center':'f_13'}>,\n",
       "        <AxesSubplot:title={'center':'f_14'}>],\n",
       "       [<AxesSubplot:title={'center':'f_15'}>,\n",
       "        <AxesSubplot:title={'center':'f_16'}>,\n",
       "        <AxesSubplot:title={'center':'f_17'}>,\n",
       "        <AxesSubplot:title={'center':'f_18'}>,\n",
       "        <AxesSubplot:title={'center':'f_19'}>],\n",
       "       [<AxesSubplot:title={'center':'f_20'}>,\n",
       "        <AxesSubplot:title={'center':'f_21'}>,\n",
       "        <AxesSubplot:title={'center':'f_22'}>,\n",
       "        <AxesSubplot:title={'center':'f_23'}>,\n",
       "        <AxesSubplot:title={'center':'f_24'}>],\n",
       "       [<AxesSubplot:title={'center':'f_25'}>,\n",
       "        <AxesSubplot:title={'center':'f_26'}>,\n",
       "        <AxesSubplot:title={'center':'f_28'}>,\n",
       "        <AxesSubplot:title={'center':'f_29'}>,\n",
       "        <AxesSubplot:title={'center':'f_30'}>]], dtype=object)"
      ]
     },
     "execution_count": 33,
     "metadata": {},
     "output_type": "execute_result"
    },
    {
     "data": {
      "image/png": "[encoded data removed]",
      "text/plain": [
       "<Figure size 1440x720 with 30 Axes>"
      ]
     },
     "metadata": {
      "needs_background": "light"
     },
     "output_type": "display_data"
    }
   ],
   "source": [
    "test_df.hist(bins=25, figsize=(20, 10), layout=(-1, 5), edgecolor='black')"
   ]
  },
  {
   "cell_type": "code",
   "execution_count": 34,
   "id": "c918b337",
   "metadata": {
    "execution": {
     "iopub.execute_input": "2022-05-21T19:39:04.962064Z",
     "iopub.status.busy": "2022-05-21T19:39:04.961321Z",
     "iopub.status.idle": "2022-05-21T19:39:07.624264Z",
     "shell.execute_reply": "2022-05-21T19:39:07.623449Z"
    },
    "papermill": {
     "duration": 2.72232,
     "end_time": "2022-05-21T19:39:07.626066",
     "exception": false,
     "start_time": "2022-05-21T19:39:04.903746",
     "status": "completed"
    },
    "tags": []
   },
   "outputs": [
    {
     "data": {
      "text/plain": [
       "<AxesSubplot:>"
      ]
     },
     "execution_count": 34,
     "metadata": {},
     "output_type": "execute_result"
    },
    {
     "data": {
      "image/png": "[encoded data removed]",
      "text/plain": [
       "<Figure size 1080x1080 with 2 Axes>"
      ]
     },
     "metadata": {
      "needs_background": "light"
     },
     "output_type": "display_data"
    }
   ],
   "source": [
    "df_corr = test_df.corr(method=\"pearson\")\n",
    "\n",
    "labels = np.where(np.abs(df_corr)>0.75, \"S\",\n",
    "                  np.where(np.abs(df_corr)>0.5, \"M\",\n",
    "                           np.where(np.abs(df_corr)>0.25, \"W\", \"\")))\n",
    "\n",
    "plt.figure(figsize=(15, 15))\n",
    "\n",
    "sns.heatmap(df_corr, mask=np.eye(len(df_corr)),\n",
    "            square=True,\n",
    "            center=0,\n",
    "            annot=labels,\n",
    "            fmt='',\n",
    "            linewidths=0.5,\n",
    "            cmap=\"vlag\",\n",
    "            cbar_kws={\"shrink\": 0.8}\n",
    "           )"
   ]
  },
  {
   "cell_type": "code",
   "execution_count": 35,
   "id": "c84461e7",
   "metadata": {
    "execution": {
     "iopub.execute_input": "2022-05-21T19:39:07.744469Z",
     "iopub.status.busy": "2022-05-21T19:39:07.743636Z",
     "iopub.status.idle": "2022-05-21T19:39:07.985818Z",
     "shell.execute_reply": "2022-05-21T19:39:07.985052Z"
    },
    "papermill": {
     "duration": 0.302645,
     "end_time": "2022-05-21T19:39:07.987725",
     "exception": false,
     "start_time": "2022-05-21T19:39:07.685080",
     "status": "completed"
    },
    "tags": []
   },
   "outputs": [
    {
     "data": {
      "text/plain": [
       "71"
      ]
     },
     "execution_count": 35,
     "metadata": {},
     "output_type": "execute_result"
    }
   ],
   "source": [
    "del test_df\n",
    "gc.collect()"
   ]
  },
  {
   "cell_type": "markdown",
   "id": "3d9b900a",
   "metadata": {
    "execution": {
     "iopub.execute_input": "2022-05-21T19:34:01.294546Z",
     "iopub.status.busy": "2022-05-21T19:34:01.294201Z",
     "iopub.status.idle": "2022-05-21T19:34:01.30084Z",
     "shell.execute_reply": "2022-05-21T19:34:01.299854Z",
     "shell.execute_reply.started": "2022-05-21T19:34:01.294509Z"
    },
    "papermill": {
     "duration": 0.057924,
     "end_time": "2022-05-21T19:39:08.102462",
     "exception": false,
     "start_time": "2022-05-21T19:39:08.044538",
     "status": "completed"
    },
    "tags": []
   },
   "source": [
    "<h3>1.2.1 Test Set EDA Conclusion</h3>\n",
    "\n",
    "Same conclusions of the train set. Both sets have similar characteristics."
   ]
  }
 ],
 "metadata": {
  "kernelspec": {
   "display_name": "Python 3",
   "language": "python",
   "name": "python3"
  },
  "language_info": {
   "codemirror_mode": {
    "name": "ipython",
    "version": 3
   },
   "file_extension": ".py",
   "mimetype": "text/x-python",
   "name": "python",
   "nbconvert_exporter": "python",
   "pygments_lexer": "ipython3",
   "version": "3.7.12"
  },
  "papermill": {
   "default_parameters": {},
   "duration": 58.879777,
   "end_time": "2022-05-21T19:39:09.385219",
   "environment_variables": {},
   "exception": null,
   "input_path": "__notebook__.ipynb",
   "output_path": "__notebook__.ipynb",
   "parameters": {},
   "start_time": "2022-05-21T19:38:10.505442",
   "version": "2.3.4"
  }
 },
 "nbformat": 4,
 "nbformat_minor": 5
}
