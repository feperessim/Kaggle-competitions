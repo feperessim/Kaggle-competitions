{
 "cells": [
  {
   "cell_type": "code",
   "execution_count": 1,
   "id": "39092944",
   "metadata": {
    "_cell_guid": "b1076dfc-b9ad-4769-8c92-a6c4dae69d19",
    "_uuid": "8f2839f25d086af736a60e9eeb907d3b93b6e0e5",
    "execution": {
     "iopub.execute_input": "2022-05-22T16:12:59.738318Z",
     "iopub.status.busy": "2022-05-22T16:12:59.737630Z",
     "iopub.status.idle": "2022-05-22T16:13:01.048427Z",
     "shell.execute_reply": "2022-05-22T16:13:01.046894Z"
    },
    "papermill": {
     "duration": 1.360898,
     "end_time": "2022-05-22T16:13:01.050840",
     "exception": false,
     "start_time": "2022-05-22T16:12:59.689942",
     "status": "completed"
    },
    "tags": []
   },
   "outputs": [
    {
     "name": "stdout",
     "output_type": "stream",
     "text": [
      "/kaggle/input/tabular-playground-series-may-2022/sample_submission.csv\n",
      "/kaggle/input/tabular-playground-series-may-2022/train.csv\n",
      "/kaggle/input/tabular-playground-series-may-2022/test.csv\n"
     ]
    }
   ],
   "source": [
    "import numpy as np\n",
    "import pandas as pd\n",
    "import gc\n",
    "\n",
    "from sklearn.model_selection import train_test_split\n",
    "from sklearn.metrics import roc_auc_score\n",
    "\n",
    "from xgboost import XGBClassifier\n",
    "from xgboost import plot_importance\n",
    "\n",
    "import os\n",
    "for dirname, _, filenames in os.walk('/kaggle/input'):\n",
    "    for filename in filenames:\n",
    "        print(os.path.join(dirname, filename))"
   ]
  },
  {
   "cell_type": "markdown",
   "id": "45a126c4",
   "metadata": {
    "papermill": {
     "duration": 0.043794,
     "end_time": "2022-05-22T16:13:01.142712",
     "exception": false,
     "start_time": "2022-05-22T16:13:01.098918",
     "status": "completed"
    },
    "tags": []
   },
   "source": [
    "<h1>Tabular Playground Series - May 2022 - Modelling</h1>\n"
   ]
  },
  {
   "cell_type": "code",
   "execution_count": 2,
   "id": "16e9e754",
   "metadata": {
    "execution": {
     "iopub.execute_input": "2022-05-22T16:13:01.233505Z",
     "iopub.status.busy": "2022-05-22T16:13:01.233281Z",
     "iopub.status.idle": "2022-05-22T16:13:01.240317Z",
     "shell.execute_reply": "2022-05-22T16:13:01.238227Z"
    },
    "papermill": {
     "duration": 0.056522,
     "end_time": "2022-05-22T16:13:01.242966",
     "exception": false,
     "start_time": "2022-05-22T16:13:01.186444",
     "status": "completed"
    },
    "tags": []
   },
   "outputs": [],
   "source": [
    "def evaluate_model(model, x, y):\n",
    "    y_pred_prob = model.predict_proba(x)[:, 1]\n",
    "    auc_roc = roc_auc_score(y, y_pred_prob)\n",
    "    return {'auc_roc_curve' : auc_roc}"
   ]
  },
  {
   "cell_type": "code",
   "execution_count": 3,
   "id": "3ff963e8",
   "metadata": {
    "execution": {
     "iopub.execute_input": "2022-05-22T16:13:01.331364Z",
     "iopub.status.busy": "2022-05-22T16:13:01.331112Z",
     "iopub.status.idle": "2022-05-22T16:13:01.335897Z",
     "shell.execute_reply": "2022-05-22T16:13:01.334775Z"
    },
    "papermill": {
     "duration": 0.052356,
     "end_time": "2022-05-22T16:13:01.338680",
     "exception": false,
     "start_time": "2022-05-22T16:13:01.286324",
     "status": "completed"
    },
    "tags": []
   },
   "outputs": [],
   "source": [
    "def encode_sequence_of_chars(df, feature):\n",
    "    return df[feature].map(lambda string: np.std(list(map(ord, string))))"
   ]
  },
  {
   "cell_type": "code",
   "execution_count": 4,
   "id": "b15a5546",
   "metadata": {
    "execution": {
     "iopub.execute_input": "2022-05-22T16:13:01.429103Z",
     "iopub.status.busy": "2022-05-22T16:13:01.428862Z",
     "iopub.status.idle": "2022-05-22T16:13:01.434928Z",
     "shell.execute_reply": "2022-05-22T16:13:01.434075Z"
    },
    "papermill": {
     "duration": 0.05377,
     "end_time": "2022-05-22T16:13:01.436987",
     "exception": false,
     "start_time": "2022-05-22T16:13:01.383217",
     "status": "completed"
    },
    "tags": []
   },
   "outputs": [],
   "source": [
    "def get_xgb_baseline(params={}):\n",
    "    return XGBClassifier(**params,\n",
    "                         objective='binary:logistic',\n",
    "                         tree_method='gpu_hist',\n",
    "                         predictor='gpu_predictor',\n",
    "                         random_state=seed,\n",
    "                         verbosity=0)"
   ]
  },
  {
   "cell_type": "code",
   "execution_count": 5,
   "id": "d6e92c53",
   "metadata": {
    "execution": {
     "iopub.execute_input": "2022-05-22T16:13:01.527225Z",
     "iopub.status.busy": "2022-05-22T16:13:01.526370Z",
     "iopub.status.idle": "2022-05-22T16:13:09.000505Z",
     "shell.execute_reply": "2022-05-22T16:13:08.999507Z"
    },
    "papermill": {
     "duration": 7.521862,
     "end_time": "2022-05-22T16:13:09.003066",
     "exception": false,
     "start_time": "2022-05-22T16:13:01.481204",
     "status": "completed"
    },
    "tags": []
   },
   "outputs": [],
   "source": [
    "train_df = pd.read_csv('/kaggle/input/tabular-playground-series-may-2022/train.csv')"
   ]
  },
  {
   "cell_type": "code",
   "execution_count": 6,
   "id": "2a50de33",
   "metadata": {
    "execution": {
     "iopub.execute_input": "2022-05-22T16:13:09.091424Z",
     "iopub.status.busy": "2022-05-22T16:13:09.091190Z",
     "iopub.status.idle": "2022-05-22T16:13:09.198680Z",
     "shell.execute_reply": "2022-05-22T16:13:09.197617Z"
    },
    "papermill": {
     "duration": 0.154021,
     "end_time": "2022-05-22T16:13:09.201273",
     "exception": false,
     "start_time": "2022-05-22T16:13:09.047252",
     "status": "completed"
    },
    "tags": []
   },
   "outputs": [],
   "source": [
    "train_df.drop('id', axis=1, inplace=True)\n",
    "target = train_df.pop('target')"
   ]
  },
  {
   "cell_type": "code",
   "execution_count": 7,
   "id": "bb07c960",
   "metadata": {
    "execution": {
     "iopub.execute_input": "2022-05-22T16:13:09.289383Z",
     "iopub.status.busy": "2022-05-22T16:13:09.289142Z",
     "iopub.status.idle": "2022-05-22T16:13:09.293294Z",
     "shell.execute_reply": "2022-05-22T16:13:09.292246Z"
    },
    "papermill": {
     "duration": 0.050553,
     "end_time": "2022-05-22T16:13:09.295811",
     "exception": false,
     "start_time": "2022-05-22T16:13:09.245258",
     "status": "completed"
    },
    "tags": []
   },
   "outputs": [],
   "source": [
    "seed = 47"
   ]
  },
  {
   "cell_type": "markdown",
   "id": "05a04e68",
   "metadata": {
    "papermill": {
     "duration": 0.045048,
     "end_time": "2022-05-22T16:13:09.384328",
     "exception": false,
     "start_time": "2022-05-22T16:13:09.339280",
     "status": "completed"
    },
    "tags": []
   },
   "source": [
    "<h2>1. Feature engineering<h2>"
   ]
  },
  {
   "cell_type": "markdown",
   "id": "e1af353d",
   "metadata": {
    "papermill": {
     "duration": 0.043403,
     "end_time": "2022-05-22T16:13:09.470903",
     "exception": false,
     "start_time": "2022-05-22T16:13:09.427500",
     "status": "completed"
    },
    "tags": []
   },
   "source": [
    "<h3>1.1 Encoding the feature f_27</h3>"
   ]
  },
  {
   "cell_type": "code",
   "execution_count": 8,
   "id": "117f4e85",
   "metadata": {
    "execution": {
     "iopub.execute_input": "2022-05-22T16:13:09.561175Z",
     "iopub.status.busy": "2022-05-22T16:13:09.560927Z",
     "iopub.status.idle": "2022-05-22T16:13:57.188844Z",
     "shell.execute_reply": "2022-05-22T16:13:57.187872Z"
    },
    "papermill": {
     "duration": 47.675509,
     "end_time": "2022-05-22T16:13:57.191523",
     "exception": false,
     "start_time": "2022-05-22T16:13:09.516014",
     "status": "completed"
    },
    "tags": []
   },
   "outputs": [],
   "source": [
    "train_df['f_27'] = encode_sequence_of_chars(train_df, 'f_27')"
   ]
  },
  {
   "cell_type": "markdown",
   "id": "54fcb932",
   "metadata": {
    "papermill": {
     "duration": 0.043279,
     "end_time": "2022-05-22T16:13:57.280080",
     "exception": false,
     "start_time": "2022-05-22T16:13:57.236801",
     "status": "completed"
    },
    "tags": []
   },
   "source": [
    "<h3>1.2 Adding Synthetic features</h3>"
   ]
  },
  {
   "cell_type": "code",
   "execution_count": 9,
   "id": "b176716d",
   "metadata": {
    "execution": {
     "iopub.execute_input": "2022-05-22T16:13:57.366822Z",
     "iopub.status.busy": "2022-05-22T16:13:57.366467Z",
     "iopub.status.idle": "2022-05-22T16:14:22.498241Z",
     "shell.execute_reply": "2022-05-22T16:14:22.496777Z"
    },
    "papermill": {
     "duration": 25.178729,
     "end_time": "2022-05-22T16:14:22.500976",
     "exception": false,
     "start_time": "2022-05-22T16:13:57.322247",
     "status": "completed"
    },
    "tags": []
   },
   "outputs": [
    {
     "name": "stdout",
     "output_type": "stream",
     "text": [
      ">mean: 0.929183\n",
      ">std: 0.927214\n",
      ">var: 0.927214\n",
      ">geo_mean: 0.927748\n",
      ">harmonic_mean: 0.925360\n",
      ">median: 0.927056\n",
      ">none: 0.925360\n",
      "Best result is of: mean with score: 0.9291829586834612\n"
     ]
    }
   ],
   "source": [
    "geomean = lambda x, axis : np.exp(np.mean(np.log(x), axis=axis))\n",
    "harmonic_mean = lambda x, axis : len(x) / np.sum(1.0/x, axis=axis) \n",
    "\n",
    "funcs = {'mean' : np.mean, \n",
    "         'std' : np.std, \n",
    "         'var' : np.var, \n",
    "         'geo_mean' : geomean, \n",
    "         'harmonic_mean' : harmonic_mean, \n",
    "         'median' : np.median,\n",
    "         'none': None}\n",
    "\n",
    "results, names = list(), list()\n",
    "\n",
    "for key in funcs.keys():\n",
    "    x_train = train_df.copy()\n",
    "    y_train = target\n",
    "    if funcs[key] is not None:\n",
    "        x_train[key] = funcs[key](x_train, axis=1)\n",
    "    x_train, x_test, y_train, y_test = train_test_split(x_train, y_train, test_size=0.2, random_state=seed, shuffle=False)       \n",
    "    model = get_xgb_baseline()\n",
    "\n",
    "    model.fit(x_train, y_train)\n",
    "    result = evaluate_model(model, x_test, y_test)\n",
    "    names.append(key)\n",
    "    results.append(result['auc_roc_curve'])\n",
    "    \n",
    "for name, score in zip(names, results):\n",
    "    print('>%s: %f' % (name, score))\n",
    "\n",
    "index_best = np.argmax(results)\n",
    "print('Best result is of:', names[index_best], 'with score:', results[index_best])\n"
   ]
  },
  {
   "cell_type": "markdown",
   "id": "1299b8f4",
   "metadata": {
    "papermill": {
     "duration": 0.043055,
     "end_time": "2022-05-22T16:14:22.589553",
     "exception": false,
     "start_time": "2022-05-22T16:14:22.546498",
     "status": "completed"
    },
    "tags": []
   },
   "source": [
    "<h2>2. Spliting the dataset into train/test with sizes 80%-20%</h2> "
   ]
  },
  {
   "cell_type": "code",
   "execution_count": 10,
   "id": "0f49e953",
   "metadata": {
    "execution": {
     "iopub.execute_input": "2022-05-22T16:14:22.678214Z",
     "iopub.status.busy": "2022-05-22T16:14:22.677956Z",
     "iopub.status.idle": "2022-05-22T16:14:22.949487Z",
     "shell.execute_reply": "2022-05-22T16:14:22.948536Z"
    },
    "papermill": {
     "duration": 0.317708,
     "end_time": "2022-05-22T16:14:22.952026",
     "exception": false,
     "start_time": "2022-05-22T16:14:22.634318",
     "status": "completed"
    },
    "tags": []
   },
   "outputs": [],
   "source": [
    "x_train, x_test, y_train, y_test = train_test_split(train_df, target, test_size=0.2, random_state=seed, shuffle=False)"
   ]
  },
  {
   "cell_type": "markdown",
   "id": "1714725b",
   "metadata": {
    "papermill": {
     "duration": 0.042377,
     "end_time": "2022-05-22T16:14:23.037942",
     "exception": false,
     "start_time": "2022-05-22T16:14:22.995565",
     "status": "completed"
    },
    "tags": []
   },
   "source": [
    "<h2>3. Tabular Playground Series - Apr 2022 - XGBoost</h2>"
   ]
  },
  {
   "cell_type": "markdown",
   "id": "64177dc2",
   "metadata": {
    "papermill": {
     "duration": 0.042803,
     "end_time": "2022-05-22T16:14:23.125202",
     "exception": false,
     "start_time": "2022-05-22T16:14:23.082399",
     "status": "completed"
    },
    "tags": []
   },
   "source": [
    "<h3>3.1 Baseline - XGBoost</h3>"
   ]
  },
  {
   "cell_type": "code",
   "execution_count": 11,
   "id": "5e146635",
   "metadata": {
    "execution": {
     "iopub.execute_input": "2022-05-22T16:14:23.210782Z",
     "iopub.status.busy": "2022-05-22T16:14:23.210540Z",
     "iopub.status.idle": "2022-05-22T16:14:25.113772Z",
     "shell.execute_reply": "2022-05-22T16:14:25.112776Z"
    },
    "papermill": {
     "duration": 1.950505,
     "end_time": "2022-05-22T16:14:25.117330",
     "exception": false,
     "start_time": "2022-05-22T16:14:23.166825",
     "status": "completed"
    },
    "tags": []
   },
   "outputs": [
    {
     "name": "stdout",
     "output_type": "stream",
     "text": [
      "{'auc_roc_curve': 0.9253595761220319}\n"
     ]
    }
   ],
   "source": [
    "model = XGBClassifier(objective='binary:logistic',\n",
    "                      tree_method='gpu_hist',\n",
    "                      predictor='gpu_predictor',\n",
    "                      random_state=seed,\n",
    "                      verbosity=0)\n",
    "\n",
    "model.fit(x_train, y_train)\n",
    "score = evaluate_model(model, x_test, y_test)\n",
    "print(score)"
   ]
  },
  {
   "cell_type": "markdown",
   "id": "9c561a4d",
   "metadata": {
    "papermill": {
     "duration": 0.04314,
     "end_time": "2022-05-22T16:14:25.205496",
     "exception": false,
     "start_time": "2022-05-22T16:14:25.162356",
     "status": "completed"
    },
    "tags": []
   },
   "source": [
    "<h3>3.1 Manual Grid Search - XGBoost</h3>"
   ]
  },
  {
   "cell_type": "code",
   "execution_count": 12,
   "id": "f15b18fd",
   "metadata": {
    "execution": {
     "iopub.execute_input": "2022-05-22T16:14:25.293516Z",
     "iopub.status.busy": "2022-05-22T16:14:25.292510Z",
     "iopub.status.idle": "2022-05-22T16:14:25.711965Z",
     "shell.execute_reply": "2022-05-22T16:14:25.711020Z"
    },
    "papermill": {
     "duration": 0.466762,
     "end_time": "2022-05-22T16:14:25.715026",
     "exception": false,
     "start_time": "2022-05-22T16:14:25.248264",
     "status": "completed"
    },
    "tags": []
   },
   "outputs": [],
   "source": [
    "train_df['mean'] = np.mean(train_df, axis=1)\n",
    "x_train, x_test, y_train, y_test = train_test_split(train_df, target, test_size=0.2, random_state=seed, shuffle=False)\n",
    "params = {}"
   ]
  },
  {
   "cell_type": "markdown",
   "id": "9f34e590",
   "metadata": {
    "papermill": {
     "duration": 0.042147,
     "end_time": "2022-05-22T16:14:25.801518",
     "exception": false,
     "start_time": "2022-05-22T16:14:25.759371",
     "status": "completed"
    },
    "tags": []
   },
   "source": [
    "<h4>3.1.1 - Testing different number of estimators<h4>"
   ]
  },
  {
   "cell_type": "code",
   "execution_count": 13,
   "id": "03d22763",
   "metadata": {
    "execution": {
     "iopub.execute_input": "2022-05-22T16:14:25.891550Z",
     "iopub.status.busy": "2022-05-22T16:14:25.891248Z",
     "iopub.status.idle": "2022-05-22T16:20:54.611228Z",
     "shell.execute_reply": "2022-05-22T16:20:54.610313Z"
    },
    "papermill": {
     "duration": 388.820943,
     "end_time": "2022-05-22T16:20:54.666249",
     "exception": false,
     "start_time": "2022-05-22T16:14:25.845306",
     "status": "completed"
    },
    "tags": []
   },
   "outputs": [
    {
     "name": "stdout",
     "output_type": "stream",
     "text": [
      "n_estimators: 50 auc_roc_score: 0.9074345059564253\n",
      "n_estimators: 100 auc_roc_score: 0.9291829586834612\n",
      "n_estimators: 150 auc_roc_score: 0.9363120909051308\n",
      "n_estimators: 200 auc_roc_score: 0.9404824282225706\n",
      "n_estimators: 250 auc_roc_score: 0.9424582600999044\n",
      "n_estimators: 300 auc_roc_score: 0.9442717273305439\n",
      "n_estimators: 350 auc_roc_score: 0.9449702793942683\n",
      "n_estimators: 400 auc_roc_score: 0.945790389439213\n",
      "n_estimators: 450 auc_roc_score: 0.9459248351469284\n",
      "n_estimators: 500 auc_roc_score: 0.9461271892311258\n",
      "n_estimators: 600 auc_roc_score: 0.9461881148149763\n",
      "n_estimators: 700 auc_roc_score: 0.9465468520103958\n",
      "n_estimators: 800 auc_roc_score: 0.946659165721808\n",
      "n_estimators: 900 auc_roc_score: 0.9466418624067631\n",
      "n_estimators: 950 auc_roc_score: 0.9466201100826277\n",
      "n_estimators: 975 auc_roc_score: 0.9466308565470519\n",
      "n_estimators: 1000 auc_roc_score: 0.9466144317412654\n",
      "n_estimators: 1025 auc_roc_score: 0.9465187895051757\n",
      "n_estimators: 1050 auc_roc_score: 0.9465583649851129\n",
      "n_estimators: 1100 auc_roc_score: 0.9464807259186062\n",
      "n_estimators: 1150 auc_roc_score: 0.9464224735455803\n",
      "n_estimators: 1290 auc_roc_score: 0.9463012895531829\n",
      "n_estimators: 1295 auc_roc_score: 0.9462998897205555\n",
      "n_estimators: 1300 auc_roc_score: 0.9462941927229948\n",
      "n_estimators: 1305 auc_roc_score: 0.9462985489452975\n",
      "n_estimators: 1310 auc_roc_score: 0.9462839304548696\n",
      "n_estimators: 1315 auc_roc_score: 0.9462782106003772\n",
      "n_estimators: 1325 auc_roc_score: 0.9462715746153524\n",
      "n_estimators: 2000 auc_roc_score: 0.9456323050927427\n",
      "n_estimators: 3000 auc_roc_score: 0.9450637593646201\n",
      "n_estimators: 4000 auc_roc_score: 0.9447782129061474\n",
      "n_estimators: 5000 auc_roc_score: 0.9448900004757022\n",
      "n_estimators: 10000 auc_roc_score: 0.9455732165884453\n",
      "\n",
      "Best n_estimators: 800 AUC ROC score: 0.946659165721808\n"
     ]
    }
   ],
   "source": [
    "results_trees = {}\n",
    "trees = [50, 100, 150, 200, 250, 300, 350, 400, 450, 500, 600, 700, 800, 900, 950, 975, 1000, 1025, 1050, 1100, 1150, 1290, 1295, 1300, 1305, 1310, 1315, 1325, 2000, 3000, 4000, 5000, 10000]\n",
    "\n",
    "for n in trees:\n",
    "    params['n_estimators'] = n\n",
    "    model = get_xgb_baseline(params)\n",
    "    model.fit(x_train, y_train)\n",
    "    result = evaluate_model(model, x_test, y_test)\n",
    "    results_trees[n] = result['auc_roc_curve']\n",
    "    print('n_estimators:', n, 'auc_roc_score:', results_trees[n])\n",
    "\n",
    "best_nestimator = max(results_trees, key=results_trees.get)\n",
    "print('\\nBest n_estimators:', best_nestimator, 'AUC ROC score:', results_trees[best_nestimator])"
   ]
  },
  {
   "cell_type": "markdown",
   "id": "4c6d08c2",
   "metadata": {
    "papermill": {
     "duration": 0.057316,
     "end_time": "2022-05-22T16:20:54.779792",
     "exception": false,
     "start_time": "2022-05-22T16:20:54.722476",
     "status": "completed"
    },
    "tags": []
   },
   "source": [
    "<h4>3.1.2 - Testing different max_depth</h4>"
   ]
  },
  {
   "cell_type": "code",
   "execution_count": 14,
   "id": "13b1312f",
   "metadata": {
    "execution": {
     "iopub.execute_input": "2022-05-22T16:20:54.894711Z",
     "iopub.status.busy": "2022-05-22T16:20:54.893911Z",
     "iopub.status.idle": "2022-05-22T16:54:57.392045Z",
     "shell.execute_reply": "2022-05-22T16:54:57.391077Z"
    },
    "papermill": {
     "duration": 2042.622224,
     "end_time": "2022-05-22T16:54:57.458998",
     "exception": false,
     "start_time": "2022-05-22T16:20:54.836774",
     "status": "completed"
    },
    "tags": []
   },
   "outputs": [
    {
     "name": "stdout",
     "output_type": "stream",
     "text": [
      "max_depth: 1 auc_roc_score: 0.7304998032898482\n",
      "max_depth: 2 auc_roc_score: 0.8938531004953711\n",
      "max_depth: 3 auc_roc_score: 0.9255183928169485\n",
      "max_depth: 4 auc_roc_score: 0.9390439265470756\n",
      "max_depth: 5 auc_roc_score: 0.9446902210704209\n",
      "max_depth: 6 auc_roc_score: 0.946659165721808\n",
      "max_depth: 7 auc_roc_score: 0.9466265747642159\n",
      "max_depth: 8 auc_roc_score: 0.9468954751988685\n",
      "max_depth: 9 auc_roc_score: 0.9469030055076774\n",
      "max_depth: 10 auc_roc_score: 0.9481949576181675\n",
      "max_depth: 11 auc_roc_score: 0.9494554580964474\n",
      "max_depth: 12 auc_roc_score: 0.9502220253464778\n",
      "max_depth: 13 auc_roc_score: 0.9510910551556881\n",
      "max_depth: 14 auc_roc_score: 0.9511263049921908\n",
      "max_depth: 15 auc_roc_score: 0.9512584834158335\n",
      "max_depth: 16 auc_roc_score: 0.9516496021499304\n",
      "max_depth: 17 auc_roc_score: 0.9516047587032177\n",
      "max_depth: 18 auc_roc_score: 0.9519025492493443\n",
      "max_depth: 19 auc_roc_score: 0.9517230378884747\n",
      "max_depth: 20 auc_roc_score: 0.952073007226673\n",
      "max_depth: 21 auc_roc_score: 0.9519042407240649\n",
      "max_depth: 22 auc_roc_score: 0.951527537424357\n",
      "max_depth: 23 auc_roc_score: 0.9518183129310456\n",
      "max_depth: 24 auc_roc_score: 0.9516515511048977\n",
      "\n",
      "Best max_depth: 20 AUC ROC score: 0.952073007226673\n"
     ]
    }
   ],
   "source": [
    "results_max_depths = {}\n",
    "params['n_estimators'] = best_nestimator\n",
    "max_depths = [i for i in range(1,25)]\n",
    "\n",
    "for max_depth in max_depths:\n",
    "    params['max_depth'] = max_depth\n",
    "    model = get_xgb_baseline(params)\n",
    "    model.fit(x_train, y_train)\n",
    "    result = evaluate_model(model, x_test, y_test)\n",
    "    results_max_depths[max_depth] = result['auc_roc_curve']\n",
    "    print('max_depth:', max_depth, 'auc_roc_score:', results_max_depths[max_depth])\n",
    "\n",
    "best_max_depth = max(results_max_depths, key=results_max_depths.get)\n",
    "print('\\nBest max_depth:', best_max_depth, 'AUC ROC score:', results_max_depths[best_max_depth])"
   ]
  },
  {
   "cell_type": "markdown",
   "id": "e8815cf7",
   "metadata": {
    "papermill": {
     "duration": 0.068264,
     "end_time": "2022-05-22T16:54:57.596205",
     "exception": false,
     "start_time": "2022-05-22T16:54:57.527941",
     "status": "completed"
    },
    "tags": []
   },
   "source": [
    "<h4>3.1.3 - Testing different subsamples</h4>\n"
   ]
  },
  {
   "cell_type": "code",
   "execution_count": 15,
   "id": "10f13faa",
   "metadata": {
    "execution": {
     "iopub.execute_input": "2022-05-22T16:54:57.730611Z",
     "iopub.status.busy": "2022-05-22T16:54:57.730343Z",
     "iopub.status.idle": "2022-05-22T17:19:31.912724Z",
     "shell.execute_reply": "2022-05-22T17:19:31.911803Z"
    },
    "papermill": {
     "duration": 1474.323719,
     "end_time": "2022-05-22T17:19:31.987259",
     "exception": false,
     "start_time": "2022-05-22T16:54:57.663540",
     "status": "completed"
    },
    "tags": []
   },
   "outputs": [
    {
     "name": "stdout",
     "output_type": "stream",
     "text": [
      "subsample: 0.1 auc_roc_score: 0.8398709764506855\n",
      "subsample: 0.2 auc_roc_score: 0.9142584762097226\n",
      "subsample: 0.30000000000000004 auc_roc_score: 0.9321976352644723\n",
      "subsample: 0.4 auc_roc_score: 0.9400078811935979\n",
      "subsample: 0.5 auc_roc_score: 0.9441637086836984\n",
      "subsample: 0.6 auc_roc_score: 0.9471680383023859\n",
      "subsample: 0.7000000000000001 auc_roc_score: 0.9487992211939134\n",
      "subsample: 0.8 auc_roc_score: 0.9503299477471082\n",
      "subsample: 0.9 auc_roc_score: 0.9511013656086964\n",
      "subsample: 1.0 auc_roc_score: 0.952073007226673\n",
      "\n",
      "Best subsample: 1.0 AUC ROC score: 0.952073007226673\n"
     ]
    }
   ],
   "source": [
    "results_subsamples = {}\n",
    "params['max_depth'] = best_max_depth\n",
    "subsamples = [i for i in np.arange(0.1, 1.1, 0.1)]\n",
    "\n",
    "for subsample in subsamples:\n",
    "    params['subsample'] = subsample\n",
    "    model = model = get_xgb_baseline(params)\n",
    "    model.fit(x_train, y_train)\n",
    "    result = evaluate_model(model, x_test, y_test)\n",
    "    results_subsamples[subsample] = result['auc_roc_curve']\n",
    "    print('subsample:', subsample, 'auc_roc_score:', results_subsamples[subsample])\n",
    "\n",
    "best_subsample = max(results_subsamples, key=results_subsamples.get)\n",
    "print('\\nBest subsample:', best_subsample, 'AUC ROC score:', results_subsamples[best_subsample])"
   ]
  },
  {
   "cell_type": "markdown",
   "id": "50979b96",
   "metadata": {
    "papermill": {
     "duration": 0.071582,
     "end_time": "2022-05-22T17:19:32.129413",
     "exception": false,
     "start_time": "2022-05-22T17:19:32.057831",
     "status": "completed"
    },
    "tags": []
   },
   "source": [
    "<h4>3.1.4 - Testing different learning rates</h4>"
   ]
  },
  {
   "cell_type": "code",
   "execution_count": 16,
   "id": "8a525018",
   "metadata": {
    "execution": {
     "iopub.execute_input": "2022-05-22T17:19:32.267422Z",
     "iopub.status.busy": "2022-05-22T17:19:32.267170Z",
     "iopub.status.idle": "2022-05-22T20:31:52.110026Z",
     "shell.execute_reply": "2022-05-22T20:31:52.108790Z"
    },
    "papermill": {
     "duration": 11540.03612,
     "end_time": "2022-05-22T20:31:52.234781",
     "exception": false,
     "start_time": "2022-05-22T17:19:32.198661",
     "status": "completed"
    },
    "tags": []
   },
   "outputs": [
    {
     "name": "stdout",
     "output_type": "stream",
     "text": [
      "eta: 0.0001 auc_roc_score: 0.8778447544288479\n",
      "eta: 0.001 auc_roc_score: 0.9158681005668301\n",
      "eta: 0.003 auc_roc_score: 0.9338252345597635\n",
      "eta: 0.005 auc_roc_score: 0.9406235818219824\n",
      "eta: 0.01 auc_roc_score: 0.9469655628293485\n",
      "eta: 0.03 auc_roc_score: 0.9518235002808051\n",
      "eta: 0.05 auc_roc_score: 0.9528620738518521\n",
      "eta: 0.1 auc_roc_score: 0.9538013473364328\n",
      "eta: 0.12 auc_roc_score: 0.9534021904989906\n",
      "eta: 0.13 auc_roc_score: 0.9534488802298047\n",
      "eta: 0.3 auc_roc_score: 0.952073007226673\n",
      "eta: 0.5 auc_roc_score: 0.9490402445733699\n",
      "eta: 1.0 auc_roc_score: 0.9409330230403956\n",
      "\n",
      "Best eta: 0.1 AUC ROC score: 0.9538013473364328\n"
     ]
    }
   ],
   "source": [
    "results_etas = {}\n",
    "params['subsample'] = best_subsample\n",
    "etas = [0.0001, 0.001, 0.003, 0.005, 0.01, 0.03, 0.05, 0.1, 0.12, 0.13, 0.3, 0.5, 1.0]\n",
    "\n",
    "for eta in etas:\n",
    "    params['eta'] = eta\n",
    "    model = get_xgb_baseline(params)\n",
    "    model.fit(x_train, y_train)\n",
    "    result = evaluate_model(model, x_test, y_test)\n",
    "    results_etas[eta] = result['auc_roc_curve']\n",
    "    print('eta:', eta, 'auc_roc_score:', results_etas[eta])\n",
    "\n",
    "best_eta = max(results_etas, key=results_etas.get)\n",
    "print('\\nBest eta:', best_eta, 'AUC ROC score:', results_etas[best_eta])"
   ]
  },
  {
   "cell_type": "markdown",
   "id": "87037a64",
   "metadata": {
    "papermill": {
     "duration": 0.130034,
     "end_time": "2022-05-22T20:31:52.490350",
     "exception": false,
     "start_time": "2022-05-22T20:31:52.360316",
     "status": "completed"
    },
    "tags": []
   },
   "source": [
    "<h4>3.1.5 - Testing different number of features<h4>"
   ]
  },
  {
   "cell_type": "code",
   "execution_count": 17,
   "id": "c972ceea",
   "metadata": {
    "execution": {
     "iopub.execute_input": "2022-05-22T20:31:52.686946Z",
     "iopub.status.busy": "2022-05-22T20:31:52.686632Z",
     "iopub.status.idle": "2022-05-22T21:50:02.282896Z",
     "shell.execute_reply": "2022-05-22T21:50:02.281767Z"
    },
    "papermill": {
     "duration": 4689.754903,
     "end_time": "2022-05-22T21:50:02.362749",
     "exception": false,
     "start_time": "2022-05-22T20:31:52.607846",
     "status": "completed"
    },
    "tags": []
   },
   "outputs": [
    {
     "name": "stdout",
     "output_type": "stream",
     "text": [
      "colsample_bytree: 0.1 auc_roc_score: 0.8174465844548754\n",
      "colsample_bytree: 0.2 auc_roc_score: 0.8997249142943053\n",
      "colsample_bytree: 0.30000000000000004 auc_roc_score: 0.9225048724260281\n",
      "colsample_bytree: 0.4 auc_roc_score: 0.9355090606715044\n",
      "colsample_bytree: 0.5 auc_roc_score: 0.9447673044046101\n",
      "colsample_bytree: 0.6 auc_roc_score: 0.9485602208382377\n",
      "colsample_bytree: 0.7000000000000001 auc_roc_score: 0.9507154853744657\n",
      "colsample_bytree: 0.8 auc_roc_score: 0.9523796915284715\n",
      "colsample_bytree: 0.9 auc_roc_score: 0.952968208284445\n",
      "colsample_bytree: 1.0 auc_roc_score: 0.9538013473364328\n",
      "\n",
      "Best colsample_bytree: 1.0 AUC ROC score: 0.9538013473364328\n"
     ]
    }
   ],
   "source": [
    "results_colsample_bytrees = {}\n",
    "params['eta'] = best_eta\n",
    "colsample_bytrees = [i for i in np.arange(0.1, 1.1, 0.1)]\n",
    "\n",
    "for colsample_bytree in colsample_bytrees:\n",
    "    params['colsample_bytree'] = colsample_bytree\n",
    "    model = get_xgb_baseline(params)\n",
    "    model.fit(x_train, y_train)\n",
    "    result = evaluate_model(model, x_test, y_test)\n",
    "    results_colsample_bytrees[colsample_bytree] = result['auc_roc_curve']\n",
    "    print('colsample_bytree:', colsample_bytree, 'auc_roc_score:', results_colsample_bytrees[colsample_bytree])\n",
    "\n",
    "best_colsample_bytree = max(results_colsample_bytrees, key=results_colsample_bytrees.get)\n",
    "print('\\nBest colsample_bytree:', best_colsample_bytree, 'AUC ROC score:', results_colsample_bytrees[best_colsample_bytree])"
   ]
  },
  {
   "cell_type": "markdown",
   "id": "728171bf",
   "metadata": {
    "papermill": {
     "duration": 0.07802,
     "end_time": "2022-05-22T21:50:02.518533",
     "exception": false,
     "start_time": "2022-05-22T21:50:02.440513",
     "status": "completed"
    },
    "tags": []
   },
   "source": [
    "<h4>3.1.6 - Testing different values for min_child_weight<h4>"
   ]
  },
  {
   "cell_type": "code",
   "execution_count": 18,
   "id": "b8a3a76e",
   "metadata": {
    "execution": {
     "iopub.execute_input": "2022-05-22T21:50:02.728185Z",
     "iopub.status.busy": "2022-05-22T21:50:02.727275Z",
     "iopub.status.idle": "2022-05-22T22:20:34.929966Z",
     "shell.execute_reply": "2022-05-22T22:20:34.928871Z"
    },
    "papermill": {
     "duration": 1832.508163,
     "end_time": "2022-05-22T22:20:35.104339",
     "exception": false,
     "start_time": "2022-05-22T21:50:02.596176",
     "status": "completed"
    },
    "tags": []
   },
   "outputs": [
    {
     "name": "stdout",
     "output_type": "stream",
     "text": [
      "min_child_weight: 1 auc_roc_score: 0.9538013473364328\n",
      "min_child_weight: 2 auc_roc_score: 0.9536930287078027\n",
      "min_child_weight: 3 auc_roc_score: 0.9535253732991767\n",
      "min_child_weight: 4 auc_roc_score: 0.9534796718526687\n",
      "min_child_weight: 5 auc_roc_score: 0.9537779170046339\n",
      "min_child_weight: 6 auc_roc_score: 0.953692785930123\n",
      "min_child_weight: 7 auc_roc_score: 0.9536683426655972\n",
      "min_child_weight: 8 auc_roc_score: 0.9536633764720956\n",
      "min_child_weight: 9 auc_roc_score: 0.9535496099246848\n",
      "\n",
      "Best min_child_weight: 1 AUC ROC score: 0.9538013473364328\n"
     ]
    }
   ],
   "source": [
    "results_min_child_weight = {}\n",
    "params['colsample_bytree'] = best_colsample_bytree\n",
    "min_child_weights = [i for i in range(1,10)]\n",
    "\n",
    "for min_child_weight in min_child_weights:\n",
    "    params['min_child_weight'] = min_child_weight\n",
    "    model = get_xgb_baseline(params)\n",
    "    model.fit(x_train, y_train)\n",
    "    result = evaluate_model(model, x_test, y_test)\n",
    "    results_min_child_weight[min_child_weight] = result['auc_roc_curve']\n",
    "    print('min_child_weight:', min_child_weight, 'auc_roc_score:', results_min_child_weight[min_child_weight])\n",
    "\n",
    "best_min_child_weight = max(results_min_child_weight, key=results_min_child_weight.get)\n",
    "print('\\nBest min_child_weight:', best_min_child_weight, 'AUC ROC score:', results_min_child_weight[best_min_child_weight])"
   ]
  },
  {
   "cell_type": "markdown",
   "id": "65bc69e2",
   "metadata": {
    "papermill": {
     "duration": 0.147151,
     "end_time": "2022-05-22T22:20:35.405952",
     "exception": false,
     "start_time": "2022-05-22T22:20:35.258801",
     "status": "completed"
    },
    "tags": []
   },
   "source": [
    "<h4>3.1.7 - Testing different values for gamma<h4>"
   ]
  },
  {
   "cell_type": "code",
   "execution_count": 19,
   "id": "e1b5fb79",
   "metadata": {
    "execution": {
     "iopub.execute_input": "2022-05-22T22:20:35.645863Z",
     "iopub.status.busy": "2022-05-22T22:20:35.645539Z",
     "iopub.status.idle": "2022-05-22T22:57:51.710827Z",
     "shell.execute_reply": "2022-05-22T22:57:51.709834Z"
    },
    "papermill": {
     "duration": 2236.159068,
     "end_time": "2022-05-22T22:57:51.713020",
     "exception": false,
     "start_time": "2022-05-22T22:20:35.553952",
     "status": "completed"
    },
    "tags": []
   },
   "outputs": [
    {
     "name": "stdout",
     "output_type": "stream",
     "text": [
      "gamma: 0 auc_roc_score: 0.9538013473364328\n",
      "gamma: 0.01 auc_roc_score: 0.9537791081596524\n",
      "gamma: 0.02 auc_roc_score: 0.9534179432492099\n",
      "gamma: 0.03 auc_roc_score: 0.9530209029018669\n",
      "gamma: 0.1 auc_roc_score: 0.9520471958203467\n",
      "gamma: 0.3 auc_roc_score: 0.9504015170627411\n",
      "gamma: 0.5 auc_roc_score: 0.9497816666039697\n",
      "gamma: 1 auc_roc_score: 0.9487053377678293\n",
      "gamma: 1.1 auc_roc_score: 0.9486299777227387\n",
      "gamma: 1.5 auc_roc_score: 0.9482292115719789\n",
      "gamma: 2 auc_roc_score: 0.9474966371507592\n",
      "gamma: 5 auc_roc_score: 0.948175808575001\n",
      "gamma: 7 auc_roc_score: 0.9480254147829634\n",
      "gamma: 9 auc_roc_score: 0.9474231755282841\n",
      "gamma: 10 auc_roc_score: 0.9466236416021252\n",
      "\n",
      "Best gamma: 0 AUC ROC: 0.9538013473364328\n"
     ]
    }
   ],
   "source": [
    "results_gamma = {}\n",
    "params['min_child_weight'] = best_min_child_weight\n",
    "gammas = [0, 0.01, 0.02, 0.03, 0.1, 0.3, 0.5, 1, 1.1, 1.5, 2, 5, 7, 9, 10]\n",
    "\n",
    "for gamma in gammas:\n",
    "    params['gamma'] = gamma\n",
    "    model = get_xgb_baseline(params)\n",
    "    model.fit(x_train, y_train)\n",
    "    result = evaluate_model(model, x_test, y_test)\n",
    "    results_gamma[gamma] = result['auc_roc_curve']\n",
    "    print('gamma:', gamma, 'auc_roc_score:', results_gamma[gamma])\n",
    "\n",
    "best_gamma = max(results_gamma, key=results_gamma.get)\n",
    "print('\\nBest gamma:', best_gamma, 'AUC ROC:', results_gamma[best_gamma])"
   ]
  },
  {
   "cell_type": "code",
   "execution_count": 20,
   "id": "c02b4fe2",
   "metadata": {
    "execution": {
     "iopub.execute_input": "2022-05-22T22:57:51.890751Z",
     "iopub.status.busy": "2022-05-22T22:57:51.890361Z",
     "iopub.status.idle": "2022-05-22T22:57:51.895876Z",
     "shell.execute_reply": "2022-05-22T22:57:51.894809Z"
    },
    "papermill": {
     "duration": 0.097327,
     "end_time": "2022-05-22T22:57:51.898545",
     "exception": false,
     "start_time": "2022-05-22T22:57:51.801218",
     "status": "completed"
    },
    "tags": []
   },
   "outputs": [
    {
     "name": "stdout",
     "output_type": "stream",
     "text": [
      "Best Hyperparameters: {'n_estimators': 800, 'max_depth': 20, 'subsample': 1.0, 'eta': 0.1, 'colsample_bytree': 1.0, 'min_child_weight': 1, 'gamma': 0}\n"
     ]
    }
   ],
   "source": [
    "params['gamma'] = best_gamma\n",
    "print('Best Hyperparameters:', params)"
   ]
  },
  {
   "cell_type": "markdown",
   "id": "c9cf2e46",
   "metadata": {
    "papermill": {
     "duration": 0.086264,
     "end_time": "2022-05-22T22:57:52.071421",
     "exception": false,
     "start_time": "2022-05-22T22:57:51.985157",
     "status": "completed"
    },
    "tags": []
   },
   "source": [
    "<h2>4. Submission</h2>"
   ]
  },
  {
   "cell_type": "markdown",
   "id": "6f454f31",
   "metadata": {
    "papermill": {
     "duration": 0.08908,
     "end_time": "2022-05-22T22:57:52.251188",
     "exception": false,
     "start_time": "2022-05-22T22:57:52.162108",
     "status": "completed"
    },
    "tags": []
   },
   "source": [
    "<h2>4.1 Train model with the best found params</h2>\n"
   ]
  },
  {
   "cell_type": "code",
   "execution_count": 21,
   "id": "9fc879c4",
   "metadata": {
    "execution": {
     "iopub.execute_input": "2022-05-22T22:57:52.429342Z",
     "iopub.status.busy": "2022-05-22T22:57:52.428592Z",
     "iopub.status.idle": "2022-05-22T23:03:12.955672Z",
     "shell.execute_reply": "2022-05-22T23:03:12.953880Z"
    },
    "papermill": {
     "duration": 320.707695,
     "end_time": "2022-05-22T23:03:13.046017",
     "exception": false,
     "start_time": "2022-05-22T22:57:52.338322",
     "status": "completed"
    },
    "tags": []
   },
   "outputs": [
    {
     "name": "stdout",
     "output_type": "stream",
     "text": [
      "{'auc_roc_curve': 0.9538013473364328}\n"
     ]
    }
   ],
   "source": [
    "model = get_xgb_baseline(params)\n",
    "model.fit(x_train, y_train)\n",
    "result = evaluate_model(model, x_test, y_test)\n",
    "print(result)"
   ]
  },
  {
   "cell_type": "markdown",
   "id": "01bbaa6f",
   "metadata": {
    "papermill": {
     "duration": 0.090362,
     "end_time": "2022-05-22T23:03:13.225990",
     "exception": false,
     "start_time": "2022-05-22T23:03:13.135628",
     "status": "completed"
    },
    "tags": []
   },
   "source": [
    "<h3>Importance features plot</h3>\n"
   ]
  },
  {
   "cell_type": "code",
   "execution_count": 22,
   "id": "b21b7563",
   "metadata": {
    "execution": {
     "iopub.execute_input": "2022-05-22T23:03:13.404642Z",
     "iopub.status.busy": "2022-05-22T23:03:13.403857Z",
     "iopub.status.idle": "2022-05-22T23:03:14.056899Z",
     "shell.execute_reply": "2022-05-22T23:03:14.055955Z"
    },
    "papermill": {
     "duration": 0.745121,
     "end_time": "2022-05-22T23:03:14.058995",
     "exception": false,
     "start_time": "2022-05-22T23:03:13.313874",
     "status": "completed"
    },
    "tags": []
   },
   "outputs": [
    {
     "data": {
      "text/plain": [
       "<AxesSubplot:title={'center':'Feature importance'}, xlabel='F score', ylabel='Features'>"
      ]
     },
     "execution_count": 22,
     "metadata": {},
     "output_type": "execute_result"
    },
    {
     "data": {
      "image/png": "[encoded data removed]",
      "text/plain": [
       "<Figure size 432x288 with 1 Axes>"
      ]
     },
     "metadata": {
      "needs_background": "light"
     },
     "output_type": "display_data"
    }
   ],
   "source": [
    "plot_importance(model)"
   ]
  },
  {
   "cell_type": "code",
   "execution_count": 23,
   "id": "d0d1b34c",
   "metadata": {
    "execution": {
     "iopub.execute_input": "2022-05-22T23:03:14.243284Z",
     "iopub.status.busy": "2022-05-22T23:03:14.242967Z",
     "iopub.status.idle": "2022-05-22T23:03:14.389526Z",
     "shell.execute_reply": "2022-05-22T23:03:14.388514Z"
    },
    "papermill": {
     "duration": 0.239971,
     "end_time": "2022-05-22T23:03:14.392157",
     "exception": false,
     "start_time": "2022-05-22T23:03:14.152186",
     "status": "completed"
    },
    "tags": []
   },
   "outputs": [
    {
     "data": {
      "text/plain": [
       "51"
      ]
     },
     "execution_count": 23,
     "metadata": {},
     "output_type": "execute_result"
    }
   ],
   "source": [
    "del train_df, x_train, y_train, x_test, y_test\n",
    "gc.collect()"
   ]
  },
  {
   "cell_type": "code",
   "execution_count": 24,
   "id": "0d7c87a0",
   "metadata": {
    "execution": {
     "iopub.execute_input": "2022-05-22T23:03:14.573496Z",
     "iopub.status.busy": "2022-05-22T23:03:14.573189Z",
     "iopub.status.idle": "2022-05-22T23:03:20.208643Z",
     "shell.execute_reply": "2022-05-22T23:03:20.207633Z"
    },
    "papermill": {
     "duration": 5.729017,
     "end_time": "2022-05-22T23:03:20.211058",
     "exception": false,
     "start_time": "2022-05-22T23:03:14.482041",
     "status": "completed"
    },
    "tags": []
   },
   "outputs": [],
   "source": [
    "test_df = pd.read_csv('/kaggle/input/tabular-playground-series-may-2022/test.csv')"
   ]
  },
  {
   "cell_type": "code",
   "execution_count": 25,
   "id": "5476abb7",
   "metadata": {
    "execution": {
     "iopub.execute_input": "2022-05-22T23:03:20.400735Z",
     "iopub.status.busy": "2022-05-22T23:03:20.399925Z",
     "iopub.status.idle": "2022-05-22T23:03:57.991258Z",
     "shell.execute_reply": "2022-05-22T23:03:57.990217Z"
    },
    "papermill": {
     "duration": 37.688294,
     "end_time": "2022-05-22T23:03:57.993968",
     "exception": false,
     "start_time": "2022-05-22T23:03:20.305674",
     "status": "completed"
    },
    "tags": []
   },
   "outputs": [],
   "source": [
    "ids = test_df.pop('id')\n",
    "test_df['f_27'] = encode_sequence_of_chars(test_df, 'f_27')\n",
    "test_df['mean'] = np.mean(test_df, axis=1)"
   ]
  },
  {
   "cell_type": "code",
   "execution_count": 26,
   "id": "d1a185fc",
   "metadata": {
    "execution": {
     "iopub.execute_input": "2022-05-22T23:03:58.183941Z",
     "iopub.status.busy": "2022-05-22T23:03:58.183682Z",
     "iopub.status.idle": "2022-05-22T23:03:59.391407Z",
     "shell.execute_reply": "2022-05-22T23:03:59.390415Z"
    },
    "papermill": {
     "duration": 1.305968,
     "end_time": "2022-05-22T23:03:59.394199",
     "exception": false,
     "start_time": "2022-05-22T23:03:58.088231",
     "status": "completed"
    },
    "tags": []
   },
   "outputs": [],
   "source": [
    "target = model.predict_proba(test_df)[:,1]\n",
    "submission = pd.DataFrame({'id' : ids, 'target' : target})"
   ]
  },
  {
   "cell_type": "code",
   "execution_count": 27,
   "id": "487911c4",
   "metadata": {
    "execution": {
     "iopub.execute_input": "2022-05-22T23:03:59.583335Z",
     "iopub.status.busy": "2022-05-22T23:03:59.583057Z",
     "iopub.status.idle": "2022-05-22T23:03:59.597681Z",
     "shell.execute_reply": "2022-05-22T23:03:59.596664Z"
    },
    "papermill": {
     "duration": 0.11023,
     "end_time": "2022-05-22T23:03:59.599855",
     "exception": false,
     "start_time": "2022-05-22T23:03:59.489625",
     "status": "completed"
    },
    "tags": []
   },
   "outputs": [
    {
     "data": {
      "text/html": [
       "<div>\n",
       "<style scoped>\n",
       "    .dataframe tbody tr th:only-of-type {\n",
       "        vertical-align: middle;\n",
       "    }\n",
       "\n",
       "    .dataframe tbody tr th {\n",
       "        vertical-align: top;\n",
       "    }\n",
       "\n",
       "    .dataframe thead th {\n",
       "        text-align: right;\n",
       "    }\n",
       "</style>\n",
       "<table border=\"1\" class=\"dataframe\">\n",
       "  <thead>\n",
       "    <tr style=\"text-align: right;\">\n",
       "      <th></th>\n",
       "      <th>id</th>\n",
       "      <th>target</th>\n",
       "    </tr>\n",
       "  </thead>\n",
       "  <tbody>\n",
       "    <tr>\n",
       "      <th>0</th>\n",
       "      <td>900000</td>\n",
       "      <td>0.999908</td>\n",
       "    </tr>\n",
       "    <tr>\n",
       "      <th>1</th>\n",
       "      <td>900001</td>\n",
       "      <td>0.999838</td>\n",
       "    </tr>\n",
       "    <tr>\n",
       "      <th>2</th>\n",
       "      <td>900002</td>\n",
       "      <td>0.000022</td>\n",
       "    </tr>\n",
       "    <tr>\n",
       "      <th>3</th>\n",
       "      <td>900003</td>\n",
       "      <td>0.010992</td>\n",
       "    </tr>\n",
       "    <tr>\n",
       "      <th>4</th>\n",
       "      <td>900004</td>\n",
       "      <td>0.996695</td>\n",
       "    </tr>\n",
       "  </tbody>\n",
       "</table>\n",
       "</div>"
      ],
      "text/plain": [
       "       id    target\n",
       "0  900000  0.999908\n",
       "1  900001  0.999838\n",
       "2  900002  0.000022\n",
       "3  900003  0.010992\n",
       "4  900004  0.996695"
      ]
     },
     "execution_count": 27,
     "metadata": {},
     "output_type": "execute_result"
    }
   ],
   "source": [
    "submission.head()"
   ]
  },
  {
   "cell_type": "code",
   "execution_count": 28,
   "id": "02942084",
   "metadata": {
    "execution": {
     "iopub.execute_input": "2022-05-22T23:03:59.785910Z",
     "iopub.status.busy": "2022-05-22T23:03:59.785694Z",
     "iopub.status.idle": "2022-05-22T23:04:01.518418Z",
     "shell.execute_reply": "2022-05-22T23:04:01.517398Z"
    },
    "papermill": {
     "duration": 1.828424,
     "end_time": "2022-05-22T23:04:01.521039",
     "exception": false,
     "start_time": "2022-05-22T23:03:59.692615",
     "status": "completed"
    },
    "tags": []
   },
   "outputs": [],
   "source": [
    "submission.to_csv('submission.csv', index=False)"
   ]
  },
  {
   "cell_type": "code",
   "execution_count": null,
   "id": "3d98ea60",
   "metadata": {
    "papermill": {
     "duration": 0.089052,
     "end_time": "2022-05-22T23:04:01.701597",
     "exception": false,
     "start_time": "2022-05-22T23:04:01.612545",
     "status": "completed"
    },
    "tags": []
   },
   "outputs": [],
   "source": []
  }
 ],
 "metadata": {
  "kernelspec": {
   "display_name": "Python 3",
   "language": "python",
   "name": "python3"
  },
  "language_info": {
   "codemirror_mode": {
    "name": "ipython",
    "version": 3
   },
   "file_extension": ".py",
   "mimetype": "text/x-python",
   "name": "python",
   "nbconvert_exporter": "python",
   "pygments_lexer": "ipython3",
   "version": "3.7.12"
  },
  "papermill": {
   "default_parameters": {},
   "duration": 24673.674266,
   "end_time": "2022-05-22T23:04:03.466213",
   "environment_variables": {},
   "exception": null,
   "input_path": "__notebook__.ipynb",
   "output_path": "__notebook__.ipynb",
   "parameters": {},
   "start_time": "2022-05-22T16:12:49.791947",
   "version": "2.3.4"
  }
 },
 "nbformat": 4,
 "nbformat_minor": 5
}
